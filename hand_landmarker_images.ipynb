{
 "cells": [
  {
   "cell_type": "code",
   "execution_count": 1,
   "metadata": {},
   "outputs": [],
   "source": [
    "import cv2\n",
    "import mediapipe as mp\n",
    "import pandas as pd\n",
    "import re\n",
    "import time\n",
    "from PIL import Image\n",
    "\n",
    "import numpy as np\n",
    "\n",
    "df = pd.DataFrame()\n",
    "frames = []"
   ]
  },
  {
   "cell_type": "code",
   "execution_count": 2,
   "metadata": {},
   "outputs": [
    {
     "name": "stderr",
     "output_type": "stream",
     "text": [
      "INFO: Created TensorFlow Lite XNNPACK delegate for CPU.\n"
     ]
    }
   ],
   "source": [
    "BaseOptions = mp.tasks.BaseOptions\n",
    "HandLandmarker = mp.tasks.vision.HandLandmarker\n",
    "HandLandmarkerOptions = mp.tasks.vision.HandLandmarkerOptions\n",
    "VisionRunningMode = mp.tasks.vision.RunningMode\n",
    "\n",
    "\n",
    "options = HandLandmarkerOptions(\n",
    "    base_options=BaseOptions(model_asset_path='hand_landmarker.task'),\n",
    "    running_mode=VisionRunningMode.IMAGE,\n",
    "    num_hands=2,\n",
    ")\n",
    "hands = HandLandmarker.create_from_options(options)\n"
   ]
  },
  {
   "cell_type": "code",
   "execution_count": 3,
   "metadata": {},
   "outputs": [],
   "source": [
    "import os\n",
    "import copy\n",
    "path = os.getcwd()"
   ]
  },
  {
   "cell_type": "code",
   "execution_count": 4,
   "metadata": {},
   "outputs": [],
   "source": [
    "def extract_video(name, target, sequence_id):\n",
    "    global frames\n",
    "\n",
    "    # Load an image from file\n",
    "\n",
    "    image = cv2.imdecode(np.fromfile(name, np.uint8), cv2.IMREAD_UNCHANGED)\n",
    "    mp_image = mp.Image.create_from_file(name)\n",
    "    hand_landmarker_result = hands.detect(mp_image)\n",
    "\n",
    "    # Check if the image was loaded successfully\n",
    "    if mp_image is not None:\n",
    "        # Convert the BGR frame to RGB\n",
    "        rgb_frame = cv2.cvtColor(image, cv2.COLOR_BGR2RGB)\n",
    "            \n",
    "        if len(hand_landmarker_result.handedness) > 0:\n",
    "            row_data = {\n",
    "                \"sequence_id\": sequence_id,\n",
    "                \"target\": target\n",
    "            }\n",
    "            \n",
    "            hand_sides = [\"Left\", \"Right\"]\n",
    "            for idx, landmarks in enumerate(hand_landmarker_result.hand_landmarks):\n",
    "                detected_pixels = []\n",
    "                hand_side = hand_sides[idx]\n",
    "                # Iterate through detected hand landmarks\n",
    "                for landmark_idx, landmark in enumerate(landmarks):\n",
    "                    x, y = landmark.x, landmark.y\n",
    "                    detected_pixels.append([x, y])\n",
    "\n",
    "                    # Draw circles on the frame\n",
    "                    cv2.circle(image, (int(x * image.shape[1]), int(y * image.shape[0])), 5, (0, 255, 0), -1)\n",
    "    \n",
    "\n",
    "                for i in range(len(detected_pixels)):\n",
    "                    x, y = detected_pixels[i]\n",
    "                    row_data[f'x_{hand_side}_hand_{i}'] =  x\n",
    "                    row_data[f'y_{hand_side}_hand_{i}'] =  y\n",
    "                \n",
    "\n",
    "            frames.append(row_data)\n",
    "        \n",
    "        # cv2.imshow('Original', image)\n",
    "    else:\n",
    "        print(\"Failed to load image.\")\n",
    "\n",
    "    # cv2.waitKey(0)\n",
    "    # cv2.destroyAllWindows()"
   ]
  },
  {
   "cell_type": "code",
   "execution_count": 5,
   "metadata": {},
   "outputs": [],
   "source": [
    "import glob, os\n",
    "import time\n",
    "os.chdir(\"/Users/andreaamaya/Trabajo/megaproyecto_model/data/asl_letters_lensegua_c\")"
   ]
  },
  {
   "cell_type": "code",
   "execution_count": 6,
   "metadata": {},
   "outputs": [],
   "source": [
    "for file in glob.glob(\"*\"):\n",
    "    if (file.split(\".\")[-1] != \"png\"):\n",
    "        splitted_name = file.split(\".\")[:-1]\n",
    "        splitted_name.append(\".png\")\n",
    "        renamed_format = \"\".join(splitted_name)\n",
    "\n",
    "        im = Image.open(file)\n",
    "        im.save(renamed_format)\n",
    "\n",
    "        os.remove(file)\n"
   ]
  },
  {
   "cell_type": "code",
   "execution_count": 7,
   "metadata": {},
   "outputs": [],
   "source": [
    "sequence_id = 0\n",
    "for file in glob.glob(\"*.png\"):\n",
    "    sequence_id += 1\n",
    "    name = \" \".join(file.split(\" \")[:-1])\n",
    "\n",
    "    if (len(file.split(\" \")) == 1):\n",
    "        name = file.split(\".\")[0]\n",
    "\n",
    "    extract_video(file, name, sequence_id)"
   ]
  },
  {
   "cell_type": "code",
   "execution_count": 8,
   "metadata": {},
   "outputs": [],
   "source": [
    "df = pd.DataFrame(frames)"
   ]
  },
  {
   "cell_type": "code",
   "execution_count": 9,
   "metadata": {},
   "outputs": [],
   "source": [
    "df['sequence_id'] = df['sequence_id'].astype(int)"
   ]
  },
  {
   "cell_type": "code",
   "execution_count": 10,
   "metadata": {},
   "outputs": [
    {
     "data": {
      "text/plain": [
       "183"
      ]
     },
     "execution_count": 10,
     "metadata": {},
     "output_type": "execute_result"
    }
   ],
   "source": [
    "len(df)"
   ]
  },
  {
   "cell_type": "code",
   "execution_count": 11,
   "metadata": {},
   "outputs": [
    {
     "data": {
      "text/html": [
       "<div>\n",
       "<style scoped>\n",
       "    .dataframe tbody tr th:only-of-type {\n",
       "        vertical-align: middle;\n",
       "    }\n",
       "\n",
       "    .dataframe tbody tr th {\n",
       "        vertical-align: top;\n",
       "    }\n",
       "\n",
       "    .dataframe thead th {\n",
       "        text-align: right;\n",
       "    }\n",
       "</style>\n",
       "<table border=\"1\" class=\"dataframe\">\n",
       "  <thead>\n",
       "    <tr style=\"text-align: right;\">\n",
       "      <th></th>\n",
       "      <th>sequence_id</th>\n",
       "      <th>target</th>\n",
       "      <th>x_Left_hand_0</th>\n",
       "      <th>y_Left_hand_0</th>\n",
       "      <th>x_Left_hand_1</th>\n",
       "      <th>y_Left_hand_1</th>\n",
       "      <th>x_Left_hand_2</th>\n",
       "      <th>y_Left_hand_2</th>\n",
       "      <th>x_Left_hand_3</th>\n",
       "      <th>y_Left_hand_3</th>\n",
       "      <th>...</th>\n",
       "      <th>x_Right_hand_16</th>\n",
       "      <th>y_Right_hand_16</th>\n",
       "      <th>x_Right_hand_17</th>\n",
       "      <th>y_Right_hand_17</th>\n",
       "      <th>x_Right_hand_18</th>\n",
       "      <th>y_Right_hand_18</th>\n",
       "      <th>x_Right_hand_19</th>\n",
       "      <th>y_Right_hand_19</th>\n",
       "      <th>x_Right_hand_20</th>\n",
       "      <th>y_Right_hand_20</th>\n",
       "    </tr>\n",
       "  </thead>\n",
       "  <tbody>\n",
       "    <tr>\n",
       "      <th>0</th>\n",
       "      <td>1</td>\n",
       "      <td>o</td>\n",
       "      <td>0.328114</td>\n",
       "      <td>0.495894</td>\n",
       "      <td>0.356607</td>\n",
       "      <td>0.484637</td>\n",
       "      <td>0.376605</td>\n",
       "      <td>0.469754</td>\n",
       "      <td>0.391574</td>\n",
       "      <td>0.459207</td>\n",
       "      <td>...</td>\n",
       "      <td>NaN</td>\n",
       "      <td>NaN</td>\n",
       "      <td>NaN</td>\n",
       "      <td>NaN</td>\n",
       "      <td>NaN</td>\n",
       "      <td>NaN</td>\n",
       "      <td>NaN</td>\n",
       "      <td>NaN</td>\n",
       "      <td>NaN</td>\n",
       "      <td>NaN</td>\n",
       "    </tr>\n",
       "    <tr>\n",
       "      <th>1</th>\n",
       "      <td>2</td>\n",
       "      <td>e</td>\n",
       "      <td>0.804299</td>\n",
       "      <td>0.583940</td>\n",
       "      <td>0.750737</td>\n",
       "      <td>0.566927</td>\n",
       "      <td>0.714575</td>\n",
       "      <td>0.514373</td>\n",
       "      <td>0.716878</td>\n",
       "      <td>0.470309</td>\n",
       "      <td>...</td>\n",
       "      <td>NaN</td>\n",
       "      <td>NaN</td>\n",
       "      <td>NaN</td>\n",
       "      <td>NaN</td>\n",
       "      <td>NaN</td>\n",
       "      <td>NaN</td>\n",
       "      <td>NaN</td>\n",
       "      <td>NaN</td>\n",
       "      <td>NaN</td>\n",
       "      <td>NaN</td>\n",
       "    </tr>\n",
       "    <tr>\n",
       "      <th>2</th>\n",
       "      <td>3</td>\n",
       "      <td>y</td>\n",
       "      <td>0.277325</td>\n",
       "      <td>0.517538</td>\n",
       "      <td>0.309232</td>\n",
       "      <td>0.492645</td>\n",
       "      <td>0.319768</td>\n",
       "      <td>0.459990</td>\n",
       "      <td>0.314284</td>\n",
       "      <td>0.428498</td>\n",
       "      <td>...</td>\n",
       "      <td>NaN</td>\n",
       "      <td>NaN</td>\n",
       "      <td>NaN</td>\n",
       "      <td>NaN</td>\n",
       "      <td>NaN</td>\n",
       "      <td>NaN</td>\n",
       "      <td>NaN</td>\n",
       "      <td>NaN</td>\n",
       "      <td>NaN</td>\n",
       "      <td>NaN</td>\n",
       "    </tr>\n",
       "    <tr>\n",
       "      <th>3</th>\n",
       "      <td>4</td>\n",
       "      <td>h</td>\n",
       "      <td>0.464587</td>\n",
       "      <td>0.465854</td>\n",
       "      <td>0.447063</td>\n",
       "      <td>0.424897</td>\n",
       "      <td>0.451904</td>\n",
       "      <td>0.387954</td>\n",
       "      <td>0.470445</td>\n",
       "      <td>0.366979</td>\n",
       "      <td>...</td>\n",
       "      <td>NaN</td>\n",
       "      <td>NaN</td>\n",
       "      <td>NaN</td>\n",
       "      <td>NaN</td>\n",
       "      <td>NaN</td>\n",
       "      <td>NaN</td>\n",
       "      <td>NaN</td>\n",
       "      <td>NaN</td>\n",
       "      <td>NaN</td>\n",
       "      <td>NaN</td>\n",
       "    </tr>\n",
       "    <tr>\n",
       "      <th>4</th>\n",
       "      <td>5</td>\n",
       "      <td>z</td>\n",
       "      <td>0.201417</td>\n",
       "      <td>0.402654</td>\n",
       "      <td>0.230284</td>\n",
       "      <td>0.383696</td>\n",
       "      <td>0.238570</td>\n",
       "      <td>0.355791</td>\n",
       "      <td>0.222966</td>\n",
       "      <td>0.329582</td>\n",
       "      <td>...</td>\n",
       "      <td>NaN</td>\n",
       "      <td>NaN</td>\n",
       "      <td>NaN</td>\n",
       "      <td>NaN</td>\n",
       "      <td>NaN</td>\n",
       "      <td>NaN</td>\n",
       "      <td>NaN</td>\n",
       "      <td>NaN</td>\n",
       "      <td>NaN</td>\n",
       "      <td>NaN</td>\n",
       "    </tr>\n",
       "  </tbody>\n",
       "</table>\n",
       "<p>5 rows × 86 columns</p>\n",
       "</div>"
      ],
      "text/plain": [
       "   sequence_id target  x_Left_hand_0  y_Left_hand_0  x_Left_hand_1  \\\n",
       "0            1      o       0.328114       0.495894       0.356607   \n",
       "1            2      e       0.804299       0.583940       0.750737   \n",
       "2            3      y       0.277325       0.517538       0.309232   \n",
       "3            4      h       0.464587       0.465854       0.447063   \n",
       "4            5      z       0.201417       0.402654       0.230284   \n",
       "\n",
       "   y_Left_hand_1  x_Left_hand_2  y_Left_hand_2  x_Left_hand_3  y_Left_hand_3  \\\n",
       "0       0.484637       0.376605       0.469754       0.391574       0.459207   \n",
       "1       0.566927       0.714575       0.514373       0.716878       0.470309   \n",
       "2       0.492645       0.319768       0.459990       0.314284       0.428498   \n",
       "3       0.424897       0.451904       0.387954       0.470445       0.366979   \n",
       "4       0.383696       0.238570       0.355791       0.222966       0.329582   \n",
       "\n",
       "   ...  x_Right_hand_16  y_Right_hand_16  x_Right_hand_17  y_Right_hand_17  \\\n",
       "0  ...              NaN              NaN              NaN              NaN   \n",
       "1  ...              NaN              NaN              NaN              NaN   \n",
       "2  ...              NaN              NaN              NaN              NaN   \n",
       "3  ...              NaN              NaN              NaN              NaN   \n",
       "4  ...              NaN              NaN              NaN              NaN   \n",
       "\n",
       "   x_Right_hand_18  y_Right_hand_18  x_Right_hand_19  y_Right_hand_19  \\\n",
       "0              NaN              NaN              NaN              NaN   \n",
       "1              NaN              NaN              NaN              NaN   \n",
       "2              NaN              NaN              NaN              NaN   \n",
       "3              NaN              NaN              NaN              NaN   \n",
       "4              NaN              NaN              NaN              NaN   \n",
       "\n",
       "   x_Right_hand_20  y_Right_hand_20  \n",
       "0              NaN              NaN  \n",
       "1              NaN              NaN  \n",
       "2              NaN              NaN  \n",
       "3              NaN              NaN  \n",
       "4              NaN              NaN  \n",
       "\n",
       "[5 rows x 86 columns]"
      ]
     },
     "execution_count": 11,
     "metadata": {},
     "output_type": "execute_result"
    }
   ],
   "source": [
    "df.head()"
   ]
  },
  {
   "cell_type": "code",
   "execution_count": 12,
   "metadata": {},
   "outputs": [],
   "source": [
    "dir_data = \"/Users/andreaamaya/Trabajo/megaproyecto_model/data\" + \"/data_letters.csv\"\n",
    "df.to_csv(dir_data, index=False)"
   ]
  },
  {
   "cell_type": "code",
   "execution_count": 13,
   "metadata": {},
   "outputs": [
    {
     "data": {
      "text/plain": [
       "86"
      ]
     },
     "execution_count": 13,
     "metadata": {},
     "output_type": "execute_result"
    }
   ],
   "source": [
    "len(df.columns)"
   ]
  },
  {
   "cell_type": "code",
   "execution_count": 14,
   "metadata": {},
   "outputs": [],
   "source": [
    "validation_path = \"/Users/andreaamaya/Trabajo/megaproyecto_model/data\" + \"/validation_letters.csv\"\n",
    "\n",
    "import random\n",
    "grouped = df.groupby('target')\n",
    "selected_validation_ids = []\n",
    "for group_name, group_indices in grouped.groups.items():\n",
    "    ids = list(set(df.loc[group_indices]['sequence_id'].values))\n",
    "    if (len(ids) < 0):\n",
    "        raise (\"Error\")\n",
    "    selected_validation_ids.append(random.choice(ids))\n",
    "\n",
    "validation_df = df[df['sequence_id'].isin(selected_validation_ids)][[\"sequence_id\", \"target\"]]\n",
    "validation_df.to_csv(validation_path, index=False)"
   ]
  },
  {
   "cell_type": "code",
   "execution_count": 15,
   "metadata": {},
   "outputs": [],
   "source": [
    "train_path = \"/Users/andreaamaya/Trabajo/megaproyecto_model/data\" + \"/train_letters.csv\"\n",
    "train_df = df[~df['sequence_id'].isin(selected_validation_ids)][[\"sequence_id\", \"target\"]]\n",
    "train_df.to_csv(train_path, index=False)"
   ]
  }
 ],
 "metadata": {
  "kernelspec": {
   "display_name": "Python 3.9.6 64-bit",
   "language": "python",
   "name": "python3"
  },
  "language_info": {
   "codemirror_mode": {
    "name": "ipython",
    "version": 3
   },
   "file_extension": ".py",
   "mimetype": "text/x-python",
   "name": "python",
   "nbconvert_exporter": "python",
   "pygments_lexer": "ipython3",
   "version": "3.9.6"
  },
  "orig_nbformat": 4,
  "vscode": {
   "interpreter": {
    "hash": "31f2aee4e71d21fbe5cf8b01ff0e069b9275f58929596ceb00d14d90e3e16cd6"
   }
  }
 },
 "nbformat": 4,
 "nbformat_minor": 2
}
