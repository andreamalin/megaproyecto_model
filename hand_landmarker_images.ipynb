{
 "cells": [
  {
   "cell_type": "code",
   "execution_count": 1,
   "metadata": {},
   "outputs": [
    {
     "name": "stderr",
     "output_type": "stream",
     "text": [
      "INFO: Created TensorFlow Lite XNNPACK delegate for CPU.\n"
     ]
    }
   ],
   "source": [
    "from Mediapipe import MediapipeHands\n",
    "import os\n",
    "\n",
    "initial_dir = os.getcwd()"
   ]
  },
  {
   "cell_type": "code",
   "execution_count": 2,
   "metadata": {},
   "outputs": [],
   "source": [
    "mediapipeHands = MediapipeHands()"
   ]
  },
  {
   "cell_type": "code",
   "execution_count": 3,
   "metadata": {},
   "outputs": [
    {
     "name": "stdout",
     "output_type": "stream",
     "text": [
      "Hay 774 imagenes a extraer coordenadas\n",
      ">> No se detectaron las dos manos necesarias en  /Users/andreaamaya/Trabajo/megaproyecto_model/data/asl_letters_lensegua_c/ñ (3) 2.png  con id  389\n",
      ">> No se detectaron las dos manos necesarias en  /Users/andreaamaya/Trabajo/megaproyecto_model/data/asl_letters_lensegua_c/q (1) 2.png  con id  477\n",
      ">> No se detectaron las dos manos necesarias en  /Users/andreaamaya/Trabajo/megaproyecto_model/data/asl_letters_lensegua_c/q (4) 2.png  con id  491\n",
      ">> No se detectaron las dos manos necesarias en  /Users/andreaamaya/Trabajo/megaproyecto_model/data/asl_letters_lensegua_c/q (6).png  con id  497\n",
      ">> No se detectaron las dos manos necesarias en  /Users/andreaamaya/Trabajo/megaproyecto_model/data/asl_letters_lensegua_c/q (7).png  con id  500\n",
      ">> No se detectaron las dos manos necesarias en  /Users/andreaamaya/Trabajo/megaproyecto_model/data/asl_letters_lensegua_c/x (9) 2.png  con id  686\n",
      ">> No se detectaron las dos manos necesarias en  /Users/andreaamaya/Trabajo/megaproyecto_model/data/asl_letters_lensegua_c/ñ (11).png  con id  766\n",
      ">> No se detectaron las dos manos necesarias en  /Users/andreaamaya/Trabajo/megaproyecto_model/data/asl_letters_lensegua_c/ñ (9).png  con id  774\n"
     ]
    }
   ],
   "source": [
    "training_dir = f'{initial_dir}/data/asl_letters_lensegua_c'\n",
    "mediapipeHands.extract_images_coordinates_from_dir(training_dir)"
   ]
  },
  {
   "cell_type": "code",
   "execution_count": 4,
   "metadata": {},
   "outputs": [
    {
     "name": "stdout",
     "output_type": "stream",
     "text": [
      "Hay 24 imagenes a extraer coordenadas\n"
     ]
    }
   ],
   "source": [
    "validation_dir = f'{initial_dir}/data/letters_val'\n",
    "mediapipeHands.extract_images_coordinates_from_dir(validation_dir, is_val=True)"
   ]
  },
  {
   "cell_type": "code",
   "execution_count": 5,
   "metadata": {},
   "outputs": [],
   "source": [
    "df = mediapipeHands.get_padded_data()"
   ]
  },
  {
   "cell_type": "code",
   "execution_count": 6,
   "metadata": {},
   "outputs": [
    {
     "data": {
      "text/html": [
       "<div>\n",
       "<style scoped>\n",
       "    .dataframe tbody tr th:only-of-type {\n",
       "        vertical-align: middle;\n",
       "    }\n",
       "\n",
       "    .dataframe tbody tr th {\n",
       "        vertical-align: top;\n",
       "    }\n",
       "\n",
       "    .dataframe thead th {\n",
       "        text-align: right;\n",
       "    }\n",
       "</style>\n",
       "<table border=\"1\" class=\"dataframe\">\n",
       "  <thead>\n",
       "    <tr style=\"text-align: right;\">\n",
       "      <th></th>\n",
       "      <th>sequence_id</th>\n",
       "      <th>target</th>\n",
       "      <th>file</th>\n",
       "      <th>x_Left_hand_0</th>\n",
       "      <th>y_Left_hand_0</th>\n",
       "      <th>x_Left_hand_1</th>\n",
       "      <th>y_Left_hand_1</th>\n",
       "      <th>x_Left_hand_2</th>\n",
       "      <th>y_Left_hand_2</th>\n",
       "      <th>x_Left_hand_3</th>\n",
       "      <th>...</th>\n",
       "      <th>x_Right_hand_16</th>\n",
       "      <th>y_Right_hand_16</th>\n",
       "      <th>x_Right_hand_17</th>\n",
       "      <th>y_Right_hand_17</th>\n",
       "      <th>x_Right_hand_18</th>\n",
       "      <th>y_Right_hand_18</th>\n",
       "      <th>x_Right_hand_19</th>\n",
       "      <th>y_Right_hand_19</th>\n",
       "      <th>x_Right_hand_20</th>\n",
       "      <th>y_Right_hand_20</th>\n",
       "    </tr>\n",
       "  </thead>\n",
       "  <tbody>\n",
       "    <tr>\n",
       "      <th>0</th>\n",
       "      <td>1</td>\n",
       "      <td>a</td>\n",
       "      <td>a (1) 2.png</td>\n",
       "      <td>0.000000</td>\n",
       "      <td>0.048423</td>\n",
       "      <td>0.064452</td>\n",
       "      <td>0.326796</td>\n",
       "      <td>0.334537</td>\n",
       "      <td>0.619979</td>\n",
       "      <td>0.491786</td>\n",
       "      <td>...</td>\n",
       "      <td>0.0</td>\n",
       "      <td>0.0</td>\n",
       "      <td>0.0</td>\n",
       "      <td>0.0</td>\n",
       "      <td>0.0</td>\n",
       "      <td>0.0</td>\n",
       "      <td>0.0</td>\n",
       "      <td>0.0</td>\n",
       "      <td>0.0</td>\n",
       "      <td>0.0</td>\n",
       "    </tr>\n",
       "    <tr>\n",
       "      <th>1</th>\n",
       "      <td>2</td>\n",
       "      <td>a</td>\n",
       "      <td>a (1) 3.png</td>\n",
       "      <td>0.000000</td>\n",
       "      <td>0.168434</td>\n",
       "      <td>0.215612</td>\n",
       "      <td>0.370625</td>\n",
       "      <td>0.470939</td>\n",
       "      <td>0.601284</td>\n",
       "      <td>0.569410</td>\n",
       "      <td>...</td>\n",
       "      <td>0.0</td>\n",
       "      <td>0.0</td>\n",
       "      <td>0.0</td>\n",
       "      <td>0.0</td>\n",
       "      <td>0.0</td>\n",
       "      <td>0.0</td>\n",
       "      <td>0.0</td>\n",
       "      <td>0.0</td>\n",
       "      <td>0.0</td>\n",
       "      <td>0.0</td>\n",
       "    </tr>\n",
       "    <tr>\n",
       "      <th>2</th>\n",
       "      <td>3</td>\n",
       "      <td>a</td>\n",
       "      <td>a (1).png</td>\n",
       "      <td>0.423459</td>\n",
       "      <td>0.140339</td>\n",
       "      <td>0.655401</td>\n",
       "      <td>0.363291</td>\n",
       "      <td>0.737979</td>\n",
       "      <td>0.605570</td>\n",
       "      <td>0.726230</td>\n",
       "      <td>...</td>\n",
       "      <td>0.0</td>\n",
       "      <td>0.0</td>\n",
       "      <td>0.0</td>\n",
       "      <td>0.0</td>\n",
       "      <td>0.0</td>\n",
       "      <td>0.0</td>\n",
       "      <td>0.0</td>\n",
       "      <td>0.0</td>\n",
       "      <td>0.0</td>\n",
       "      <td>0.0</td>\n",
       "    </tr>\n",
       "    <tr>\n",
       "      <th>3</th>\n",
       "      <td>4</td>\n",
       "      <td>a</td>\n",
       "      <td>a (10) 2.png</td>\n",
       "      <td>0.204003</td>\n",
       "      <td>0.300461</td>\n",
       "      <td>0.476328</td>\n",
       "      <td>0.473332</td>\n",
       "      <td>0.767077</td>\n",
       "      <td>0.663757</td>\n",
       "      <td>0.826010</td>\n",
       "      <td>...</td>\n",
       "      <td>0.0</td>\n",
       "      <td>0.0</td>\n",
       "      <td>0.0</td>\n",
       "      <td>0.0</td>\n",
       "      <td>0.0</td>\n",
       "      <td>0.0</td>\n",
       "      <td>0.0</td>\n",
       "      <td>0.0</td>\n",
       "      <td>0.0</td>\n",
       "      <td>0.0</td>\n",
       "    </tr>\n",
       "    <tr>\n",
       "      <th>4</th>\n",
       "      <td>5</td>\n",
       "      <td>a</td>\n",
       "      <td>a (10) 3.png</td>\n",
       "      <td>0.920469</td>\n",
       "      <td>0.121714</td>\n",
       "      <td>0.639250</td>\n",
       "      <td>0.352007</td>\n",
       "      <td>0.432306</td>\n",
       "      <td>0.607345</td>\n",
       "      <td>0.365829</td>\n",
       "      <td>...</td>\n",
       "      <td>0.0</td>\n",
       "      <td>0.0</td>\n",
       "      <td>0.0</td>\n",
       "      <td>0.0</td>\n",
       "      <td>0.0</td>\n",
       "      <td>0.0</td>\n",
       "      <td>0.0</td>\n",
       "      <td>0.0</td>\n",
       "      <td>0.0</td>\n",
       "      <td>0.0</td>\n",
       "    </tr>\n",
       "  </tbody>\n",
       "</table>\n",
       "<p>5 rows × 87 columns</p>\n",
       "</div>"
      ],
      "text/plain": [
       "   sequence_id target          file  x_Left_hand_0  y_Left_hand_0  \\\n",
       "0            1      a   a (1) 2.png       0.000000       0.048423   \n",
       "1            2      a   a (1) 3.png       0.000000       0.168434   \n",
       "2            3      a     a (1).png       0.423459       0.140339   \n",
       "3            4      a  a (10) 2.png       0.204003       0.300461   \n",
       "4            5      a  a (10) 3.png       0.920469       0.121714   \n",
       "\n",
       "   x_Left_hand_1  y_Left_hand_1  x_Left_hand_2  y_Left_hand_2  x_Left_hand_3  \\\n",
       "0       0.064452       0.326796       0.334537       0.619979       0.491786   \n",
       "1       0.215612       0.370625       0.470939       0.601284       0.569410   \n",
       "2       0.655401       0.363291       0.737979       0.605570       0.726230   \n",
       "3       0.476328       0.473332       0.767077       0.663757       0.826010   \n",
       "4       0.639250       0.352007       0.432306       0.607345       0.365829   \n",
       "\n",
       "   ...  x_Right_hand_16  y_Right_hand_16  x_Right_hand_17  y_Right_hand_17  \\\n",
       "0  ...              0.0              0.0              0.0              0.0   \n",
       "1  ...              0.0              0.0              0.0              0.0   \n",
       "2  ...              0.0              0.0              0.0              0.0   \n",
       "3  ...              0.0              0.0              0.0              0.0   \n",
       "4  ...              0.0              0.0              0.0              0.0   \n",
       "\n",
       "   x_Right_hand_18  y_Right_hand_18  x_Right_hand_19  y_Right_hand_19  \\\n",
       "0              0.0              0.0              0.0              0.0   \n",
       "1              0.0              0.0              0.0              0.0   \n",
       "2              0.0              0.0              0.0              0.0   \n",
       "3              0.0              0.0              0.0              0.0   \n",
       "4              0.0              0.0              0.0              0.0   \n",
       "\n",
       "   x_Right_hand_20  y_Right_hand_20  \n",
       "0              0.0              0.0  \n",
       "1              0.0              0.0  \n",
       "2              0.0              0.0  \n",
       "3              0.0              0.0  \n",
       "4              0.0              0.0  \n",
       "\n",
       "[5 rows x 87 columns]"
      ]
     },
     "execution_count": 6,
     "metadata": {},
     "output_type": "execute_result"
    }
   ],
   "source": [
    "df.head()"
   ]
  },
  {
   "cell_type": "code",
   "execution_count": 7,
   "metadata": {},
   "outputs": [],
   "source": [
    "validation_sequence_ids = mediapipeHands.validation_sequence_ids"
   ]
  },
  {
   "cell_type": "code",
   "execution_count": 8,
   "metadata": {},
   "outputs": [],
   "source": [
    "if (len(validation_sequence_ids) > 0):\n",
    "    validation_path = f'{initial_dir}/data/validation_letters.csv'\n",
    "    validation_df = df[df['sequence_id'].isin(validation_sequence_ids)][[\"sequence_id\", \"target\", \"file\"]]\n",
    "    \n",
    "    train_path = f'{initial_dir}/data/train_letters.csv'\n",
    "    train_df = df[~df['sequence_id'].isin(validation_sequence_ids)][[\"sequence_id\", \"target\", \"file\"]]\n",
    "\n",
    "    validation_df.to_csv(validation_path, index=False)\n",
    "    train_df.to_csv(train_path, index=False)"
   ]
  },
  {
   "cell_type": "code",
   "execution_count": 9,
   "metadata": {},
   "outputs": [],
   "source": [
    "data_path = f'{initial_dir}/data/data_letters.csv'\n",
    "df_final = df.drop(\"file\", axis=1)\n",
    "\n",
    "df_final.to_csv(data_path, index=False)"
   ]
  },
  {
   "cell_type": "code",
   "execution_count": 10,
   "metadata": {},
   "outputs": [
    {
     "name": "stdout",
     "output_type": "stream",
     "text": [
      "Hay 4 imagenes a extraer coordenadas\n"
     ]
    }
   ],
   "source": [
    "mediapipeHands = MediapipeHands()\n",
    "extra_val_dir = f'{initial_dir}/data/test hola'\n",
    "mediapipeHands.extract_images_coordinates_from_dir(extra_val_dir)\n",
    "\n",
    "df = mediapipeHands.get_padded_data()"
   ]
  },
  {
   "cell_type": "code",
   "execution_count": 11,
   "metadata": {},
   "outputs": [],
   "source": [
    "data_path = f'{initial_dir}/data/data_test_hola.csv'\n",
    "df.to_csv(data_path, index=False)"
   ]
  }
 ],
 "metadata": {
  "kernelspec": {
   "display_name": "Python 3.9.6 64-bit",
   "language": "python",
   "name": "python3"
  },
  "language_info": {
   "codemirror_mode": {
    "name": "ipython",
    "version": 3
   },
   "file_extension": ".py",
   "mimetype": "text/x-python",
   "name": "python",
   "nbconvert_exporter": "python",
   "pygments_lexer": "ipython3",
   "version": "3.9.6"
  },
  "orig_nbformat": 4,
  "vscode": {
   "interpreter": {
    "hash": "31f2aee4e71d21fbe5cf8b01ff0e069b9275f58929596ceb00d14d90e3e16cd6"
   }
  }
 },
 "nbformat": 4,
 "nbformat_minor": 2
}
