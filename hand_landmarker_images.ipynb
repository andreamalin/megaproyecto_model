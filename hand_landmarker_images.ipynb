{
 "cells": [
  {
   "cell_type": "code",
   "execution_count": null,
   "metadata": {},
   "outputs": [],
   "source": [
    "import cv2\n",
    "import mediapipe as mp\n",
    "import pandas as pd\n",
    "import re\n",
    "from moviepy.editor import *\n",
    "import time\n",
    "from PIL import Image\n",
    "\n",
    "import numpy as np\n",
    "\n",
    "\n",
    "\n",
    "mp_drawing = mp.solutions.drawing_utils\n",
    "mp_drawing_styles = mp.solutions.drawing_styles\n",
    "mp_hands = mp.solutions.hands\n",
    "hands = mp_hands.Hands(min_detection_confidence=0.5, min_tracking_confidence=0.5, static_image_mode=True)\n",
    "mp_holistic = mp.solutions.holistic\n",
    "\n",
    "df = pd.DataFrame()\n",
    "frames = []"
   ]
  },
  {
   "cell_type": "code",
   "execution_count": null,
   "metadata": {},
   "outputs": [],
   "source": [
    "# BaseOptions = mp.tasks.BaseOptions\n",
    "# HandLandmarker = mp.tasks.vision.HandLandmarker\n",
    "# HandLandmarkerOptions = mp.tasks.vision.HandLandmarkerOptions\n",
    "# VisionRunningMode = mp.tasks.vision.RunningMode\n",
    "\n",
    "\n",
    "# options = HandLandmarkerOptions(\n",
    "#     base_options=BaseOptions(model_asset_path='D:\\Documents\\Trabajo\\megaproyecto_model\\hand_landmarker.task'),\n",
    "#     running_mode=VisionRunningMode.IMAGE\n",
    "# )\n",
    "# HandLandmarker.create_from_model_path(\"D:\\Documents\\Trabajo\\megaproyecto_model\\hand_landmarker.task\")"
   ]
  },
  {
   "cell_type": "code",
   "execution_count": null,
   "metadata": {},
   "outputs": [],
   "source": [
    "import os\n",
    "import copy\n",
    "path = os.getcwd()"
   ]
  },
  {
   "cell_type": "code",
   "execution_count": null,
   "metadata": {},
   "outputs": [],
   "source": [
    "import math\n",
    "import matplotlib.pyplot as plt\n",
    "\n",
    "def normalize_coordinates(coordinates):\n",
    "    max_x = max(coord[0] for coord in coordinates)\n",
    "    max_y = max(coord[1] for coord in coordinates)\n",
    "    \n",
    "    normalized_coordinates = []\n",
    "    for x, y in coordinates:\n",
    "        normalized_x = x / max_x\n",
    "        normalized_y = y / max_y\n",
    "        normalized_coordinates.append([normalized_x, normalized_y])\n",
    "    \n",
    "    return normalized_coordinates\n",
    "\n",
    "def visualize_data(normalized_coordinates):\n",
    "    # Unzip normalized coordinates for plotting\n",
    "    normalized_x, normalized_y = zip(*normalized_coordinates)\n",
    "    \n",
    "    # Plot the normalized coordinates\n",
    "    plt.figure(figsize=(8, 6))\n",
    "    plt.scatter(normalized_x, normalized_y, color='blue', label='Normalized Coordinates')\n",
    "    plt.xlabel('Normalized X')\n",
    "    plt.xlabel('Normalized X')\n",
    "    plt.ylabel('Normalized Y')\n",
    "    plt.title('Normalized Coordinates Plot')\n",
    "    plt.legend()\n",
    "    plt.grid(True)\n",
    "    plt.show()\n"
   ]
  },
  {
   "cell_type": "code",
   "execution_count": null,
   "metadata": {},
   "outputs": [],
   "source": [
    "def generate_centered_image(detected_pixels):\n",
    "    normalized_coordinates = normalize_coordinates(detected_pixels)\n",
    "    # visualize_data(normalized_coordinates)\n",
    "\n",
    "    return normalized_coordinates"
   ]
  },
  {
   "cell_type": "code",
   "execution_count": null,
   "metadata": {},
   "outputs": [],
   "source": [
    "def extract_video(name, target, sequence_id):\n",
    "    global frames\n",
    "    detected_pixels = []\n",
    "\n",
    "    # Load an image from file\n",
    "\n",
    "    image = cv2.imdecode(np.fromfile(name, np.uint8), cv2.IMREAD_UNCHANGED)\n",
    "    # Check if the image was loaded successfully\n",
    "    if image is not None:\n",
    "        # Convert the BGR frame to RGB\n",
    "        rgb_frame = cv2.cvtColor(image, cv2.COLOR_BGR2RGB)\n",
    "        \n",
    "        # Process the frame with the hand tracking model\n",
    "        results = hands.process(rgb_frame)\n",
    "         \n",
    "        if results.multi_hand_landmarks:\n",
    "            row_data = {\n",
    "                \"sequence_id\": sequence_id,\n",
    "                \"target\": target\n",
    "            }\n",
    "            hand_side = \"Left\"\n",
    "            detected_hands = []\n",
    "            for idx, landmarks in enumerate(results.multi_hand_landmarks):\n",
    "                # Iterate through detected hand landmarks\n",
    "                for landmark_idx, landmark in enumerate(landmarks.landmark):\n",
    "                    x, y = landmark.x * image.shape[1], landmark.y * image.shape[0]\n",
    "                    detected_pixels.append([x, y])\n",
    "\n",
    "                    # Draw circles on the frame\n",
    "                    # cv2.circle(image, (int(x), int(y)), 5, (0, 255, 0), -1)\n",
    "                    cv2.putText(image, hand_side, (10, 30), cv2.FONT_HERSHEY_SIMPLEX, 1, (0, 0, 255), 2)\n",
    "                    mp_drawing.draw_landmarks(image, landmarks, mp_hands.HAND_CONNECTIONS)\n",
    "\n",
    "                break  \n",
    "            normalized_coordinates_relative = generate_centered_image(detected_pixels)\n",
    "            if (len(normalized_coordinates_relative) > 21):\n",
    "                print(target, sequence_id, normalized_coordinates_relative)\n",
    "            for i in range(len(normalized_coordinates_relative)):\n",
    "                x, y = normalized_coordinates_relative[i]\n",
    "                row_data[f'x_{hand_side}_hand_{i}'] =  x\n",
    "                row_data[f'y_{hand_side}_hand_{i}'] =  y\n",
    "\n",
    "            frames.append(row_data)\n",
    "        \n",
    "        cv2.imshow('Original', image)\n",
    "        \n",
    "    else:\n",
    "        print(\"Failed to load image.\")\n",
    "\n",
    "    cv2.waitKey(0)\n",
    "    # cv2.destroyAllWindows()"
   ]
  },
  {
   "cell_type": "code",
   "execution_count": null,
   "metadata": {},
   "outputs": [],
   "source": [
    "import glob, os\n",
    "import time\n",
    "os.chdir(\"D:\\Documents\\Trabajo\\megaproyecto_model\\data/asl_letters_lensegua\")"
   ]
  },
  {
   "cell_type": "code",
   "execution_count": null,
   "metadata": {},
   "outputs": [],
   "source": [
    "for file in glob.glob(\"*\"):\n",
    "    if (file.split(\".\")[-1] != \"png\"):\n",
    "        splitted_name = file.split(\".\")[:-1]\n",
    "        splitted_name.append(\".png\")\n",
    "        renamed_format = \"\".join(splitted_name)\n",
    "\n",
    "        im = Image.open(file)\n",
    "        im.save(renamed_format)\n",
    "\n",
    "        os.remove(file)\n"
   ]
  },
  {
   "cell_type": "code",
   "execution_count": null,
   "metadata": {},
   "outputs": [],
   "source": [
    "os.chdir(\"D:\\Documents\\Trabajo\\megaproyecto_model\\data/asl_letters_lensegua\")\n",
    "\n",
    "sequence_id = 0\n",
    "for file in glob.glob(\"*.png\"):\n",
    "    sequence_id += 1\n",
    "    name = \" \".join(file.split(\" \")[:-1])\n",
    "\n",
    "    extract_video(file, name, sequence_id)"
   ]
  },
  {
   "cell_type": "code",
   "execution_count": null,
   "metadata": {},
   "outputs": [],
   "source": [
    "df = pd.DataFrame(frames)"
   ]
  },
  {
   "cell_type": "code",
   "execution_count": null,
   "metadata": {},
   "outputs": [],
   "source": [
    "df['sequence_id'] = df['sequence_id'].astype(int)"
   ]
  },
  {
   "cell_type": "code",
   "execution_count": null,
   "metadata": {},
   "outputs": [],
   "source": [
    "len(df)"
   ]
  },
  {
   "cell_type": "code",
   "execution_count": null,
   "metadata": {},
   "outputs": [],
   "source": [
    "df.head()"
   ]
  },
  {
   "cell_type": "code",
   "execution_count": null,
   "metadata": {},
   "outputs": [],
   "source": [
    "dir_data = \"D:\\Documents\\Trabajo\\megaproyecto_model/data\" + \"/data_letters.csv\"\n",
    "df.to_csv(dir_data, index=False)"
   ]
  },
  {
   "cell_type": "code",
   "execution_count": null,
   "metadata": {},
   "outputs": [],
   "source": [
    "len(df.columns)"
   ]
  },
  {
   "cell_type": "code",
   "execution_count": null,
   "metadata": {},
   "outputs": [],
   "source": [
    "validation_path = \"D:\\Documents\\Trabajo\\megaproyecto_model/data\" + \"/validation_letters.csv\"\n",
    "\n",
    "import random\n",
    "grouped = df.groupby('target')\n",
    "selected_validation_ids = []\n",
    "for group_name, group_indices in grouped.groups.items():\n",
    "    ids = list(set(df.loc[group_indices]['sequence_id'].values))\n",
    "    if (len(ids) < 0):\n",
    "        raise (\"Error\")\n",
    "    selected_validation_ids.append(random.choice(ids))\n",
    "\n",
    "validation_df = df[df['sequence_id'].isin(selected_validation_ids)][[\"sequence_id\", \"target\"]]\n",
    "validation_df.to_csv(validation_path, index=False)"
   ]
  },
  {
   "cell_type": "code",
   "execution_count": null,
   "metadata": {},
   "outputs": [],
   "source": [
    "train_path = \"D:\\Documents\\Trabajo\\megaproyecto_model/data\" + \"/train_letters.csv\"\n",
    "train_df = df[~df['sequence_id'].isin(selected_validation_ids)][[\"sequence_id\", \"target\"]]\n",
    "train_df.to_csv(train_path, index=False)"
   ]
  }
 ],
 "metadata": {
  "kernelspec": {
   "display_name": "Python 3",
   "language": "python",
   "name": "python3"
  },
  "language_info": {
   "codemirror_mode": {
    "name": "ipython",
    "version": 3
   },
   "file_extension": ".py",
   "mimetype": "text/x-python",
   "name": "python",
   "nbconvert_exporter": "python",
   "pygments_lexer": "ipython3",
   "version": "3.7.0"
  },
  "orig_nbformat": 4
 },
 "nbformat": 4,
 "nbformat_minor": 2
}
