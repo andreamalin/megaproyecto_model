{
 "cells": [
  {
   "cell_type": "code",
   "execution_count": 1,
   "metadata": {},
   "outputs": [
    {
     "name": "stderr",
     "output_type": "stream",
     "text": [
      "INFO: Created TensorFlow Lite XNNPACK delegate for CPU.\n"
     ]
    }
   ],
   "source": [
    "from Mediapipe import MediapipeHands\n",
    "import pandas as pd\n",
    "import os\n",
    "\n",
    "initial_dir = os.getcwd()"
   ]
  },
  {
   "cell_type": "code",
   "execution_count": 2,
   "metadata": {},
   "outputs": [],
   "source": [
    "mediapipeHands = MediapipeHands()"
   ]
  },
  {
   "cell_type": "code",
   "execution_count": 3,
   "metadata": {},
   "outputs": [
    {
     "name": "stdout",
     "output_type": "stream",
     "text": [
      "Hay 291 videos a extraer coordenadas\n",
      ">> No se detectaron las dos manos necesarias en  /Users/andreaamaya/Trabajo/megaproyecto_model/data/videos_lensegua/familia (14).mp4  con id  25\n",
      ">> No se detectaron las dos manos necesarias en  /Users/andreaamaya/Trabajo/megaproyecto_model/data/videos_lensegua/familia (15).mp4  con id  53\n",
      ">> No se detectaron las dos manos necesarias en  /Users/andreaamaya/Trabajo/megaproyecto_model/data/videos_lensegua/por favor (10).mp4  con id  150\n",
      "!! No hand detected in  /Users/andreaamaya/Trabajo/megaproyecto_model/data/videos_lensegua/hola (10).mp4\n"
     ]
    }
   ],
   "source": [
    "training_dir = f'{initial_dir}/data/videos_lensegua'\n",
    "mediapipeHands.extract_coordinates_from_dir(training_dir)"
   ]
  },
  {
   "cell_type": "code",
   "execution_count": 4,
   "metadata": {},
   "outputs": [
    {
     "name": "stdout",
     "output_type": "stream",
     "text": [
      "Hay 363 videos a extraer coordenadas\n",
      ">> No se detectaron las dos manos necesarias en  /Users/andreaamaya/Trabajo/megaproyecto_model/data/videos_lensegua_2/casa (12).mp4  con id  267\n",
      ">> No se detectaron las dos manos necesarias en  /Users/andreaamaya/Trabajo/megaproyecto_model/data/videos_lensegua_2/amor (5).mp4  con id  272\n",
      ">> No se detectaron las dos manos necesarias en  /Users/andreaamaya/Trabajo/megaproyecto_model/data/videos_lensegua_2/casa (10) copy.mp4  con id  276\n",
      ">> No se detectaron las dos manos necesarias en  /Users/andreaamaya/Trabajo/megaproyecto_model/data/videos_lensegua_2/amor (2) copy.mp4  con id  279\n",
      ">> No se detectaron las dos manos necesarias en  /Users/andreaamaya/Trabajo/megaproyecto_model/data/videos_lensegua_2/escuela (17).mp4  con id  297\n",
      "!! No hand detected in  /Users/andreaamaya/Trabajo/megaproyecto_model/data/videos_lensegua_2/comida (16).mp4\n",
      ">> No se detectaron las dos manos necesarias en  /Users/andreaamaya/Trabajo/megaproyecto_model/data/videos_lensegua_2/feliz (17).mp4  con id  399\n",
      ">> No se detectaron las dos manos necesarias en  /Users/andreaamaya/Trabajo/megaproyecto_model/data/videos_lensegua_2/feliz (1).mp4  con id  473\n",
      ">> No se detectaron las dos manos necesarias en  /Users/andreaamaya/Trabajo/megaproyecto_model/data/videos_lensegua_2/casa (9) copy.mp4  con id  479\n"
     ]
    }
   ],
   "source": [
    "training_dir = f'{initial_dir}/data/videos_lensegua_2'\n",
    "mediapipeHands.extract_coordinates_from_dir(training_dir)"
   ]
  },
  {
   "cell_type": "code",
   "execution_count": 5,
   "metadata": {},
   "outputs": [
    {
     "name": "stdout",
     "output_type": "stream",
     "text": [
      "Hay 25 videos a extraer coordenadas\n",
      ">> No se detectaron las dos manos necesarias en  /Users/andreaamaya/Trabajo/megaproyecto_model/data/videos_val/por favor (2).mp4  con id  533\n",
      ">> No se detectaron las dos manos necesarias en  /Users/andreaamaya/Trabajo/megaproyecto_model/data/videos_val/ayuda.mp4  con id  538\n"
     ]
    }
   ],
   "source": [
    "validation_dir = f'{initial_dir}/data/videos_val'\n",
    "mediapipeHands.extract_coordinates_from_dir(validation_dir, is_val=True)"
   ]
  },
  {
   "cell_type": "code",
   "execution_count": 6,
   "metadata": {},
   "outputs": [
    {
     "name": "stdout",
     "output_type": "stream",
     "text": [
      "Hay 27 videos a extraer coordenadas\n"
     ]
    }
   ],
   "source": [
    "validation_dir = f'{initial_dir}/data/videos_val_2'\n",
    "mediapipeHands.extract_coordinates_from_dir(validation_dir, is_val=True)"
   ]
  },
  {
   "cell_type": "code",
   "execution_count": 7,
   "metadata": {},
   "outputs": [],
   "source": [
    "df = mediapipeHands.get_padded_data()\n",
    "validation_sequence_ids = mediapipeHands.validation_sequence_ids"
   ]
  },
  {
   "cell_type": "code",
   "execution_count": 10,
   "metadata": {},
   "outputs": [],
   "source": [
    "if (len(validation_sequence_ids) > 0):\n",
    "    validation_path = f'{initial_dir}/data/validation.csv'\n",
    "    validation_df = df[df['sequence_id'].isin(validation_sequence_ids)][[\"sequence_id\", \"target\", \"file\"]]\n",
    "    \n",
    "    train_path = f'{initial_dir}/data/train.csv'\n",
    "    train_df = df[~df['sequence_id'].isin(validation_sequence_ids)][[\"sequence_id\", \"target\", \"file\"]]\n",
    "    \n",
    "    validation_df.to_csv(validation_path, index=False)\n",
    "    train_df.to_csv(train_path, index=False)"
   ]
  },
  {
   "cell_type": "code",
   "execution_count": 11,
   "metadata": {},
   "outputs": [],
   "source": [
    "data_path = f'{initial_dir}/data/data.csv'\n",
    "df_final = df.drop(\"file\", axis=1)\n",
    "\n",
    "df_final.to_csv(data_path, index=False)"
   ]
  },
  {
   "cell_type": "code",
   "execution_count": 12,
   "metadata": {},
   "outputs": [
    {
     "name": "stdout",
     "output_type": "stream",
     "text": [
      "Hay 10 videos a extraer coordenadas\n"
     ]
    }
   ],
   "source": [
    "mediapipeHands = MediapipeHands()\n",
    "extra_val_dir = f'{initial_dir}/data/test videos'\n",
    "mediapipeHands.extract_coordinates_from_dir(extra_val_dir)\n",
    "\n",
    "df = mediapipeHands.get_padded_data()"
   ]
  },
  {
   "cell_type": "code",
   "execution_count": 13,
   "metadata": {},
   "outputs": [],
   "source": [
    "data_path = f'{initial_dir}/data/data_tests.csv'\n",
    "df.to_csv(data_path, index=False)"
   ]
  }
 ],
 "metadata": {
  "kernelspec": {
   "display_name": "Python 3.9.6 64-bit",
   "language": "python",
   "name": "python3"
  },
  "language_info": {
   "codemirror_mode": {
    "name": "ipython",
    "version": 3
   },
   "file_extension": ".py",
   "mimetype": "text/x-python",
   "name": "python",
   "nbconvert_exporter": "python",
   "pygments_lexer": "ipython3",
   "version": "3.9.6"
  },
  "orig_nbformat": 4,
  "vscode": {
   "interpreter": {
    "hash": "31f2aee4e71d21fbe5cf8b01ff0e069b9275f58929596ceb00d14d90e3e16cd6"
   }
  }
 },
 "nbformat": 4,
 "nbformat_minor": 2
}
