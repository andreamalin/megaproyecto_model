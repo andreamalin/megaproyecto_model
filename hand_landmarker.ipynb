{
 "cells": [
  {
   "cell_type": "code",
   "execution_count": 1,
   "metadata": {},
   "outputs": [],
   "source": [
    "import cv2\n",
    "import mediapipe as mp\n",
    "import pandas as pd\n",
    "import os\n",
    "os.environ[\"IMAGEIO_FFMPEG_EXE\"] = \"/usr/bin/ffmpeg\"\n",
    "\n",
    "import matplotlib.pyplot as plt\n",
    "import subprocess\n",
    "import glob, os\n",
    "import numpy as np\n",
    "initial_dir = os.getcwd()\n",
    "\n",
    "df = pd.DataFrame()\n",
    "frames = []\n",
    "ids_without_required_hands = []"
   ]
  },
  {
   "cell_type": "code",
   "execution_count": 2,
   "metadata": {},
   "outputs": [
    {
     "name": "stdout",
     "output_type": "stream",
     "text": [
      "254\n"
     ]
    }
   ],
   "source": [
    "last_sequence_id = 0\n",
    "path_past_data = f'{initial_dir}/data/data.csv'\n",
    "if (os.path.exists(path_past_data)):\n",
    "    past_df = pd.read_csv(path_past_data)\n",
    "    last_sequence_id = past_df[\"sequence_id\"].max()\n",
    "\n",
    "print(last_sequence_id)"
   ]
  },
  {
   "cell_type": "code",
   "execution_count": 3,
   "metadata": {},
   "outputs": [
    {
     "name": "stderr",
     "output_type": "stream",
     "text": [
      "INFO: Created TensorFlow Lite XNNPACK delegate for CPU.\n"
     ]
    }
   ],
   "source": [
    "BaseOptions = mp.tasks.BaseOptions\n",
    "HandLandmarker = mp.tasks.vision.HandLandmarker\n",
    "HandLandmarkerOptions = mp.tasks.vision.HandLandmarkerOptions\n",
    "VisionRunningMode = mp.tasks.vision.RunningMode\n",
    "\n",
    "\n",
    "options = HandLandmarkerOptions(\n",
    "    base_options=BaseOptions(model_asset_path='hand_landmarker.task'),\n",
    "    running_mode=VisionRunningMode.IMAGE,\n",
    "    num_hands=2,\n",
    ")\n",
    "hands = HandLandmarker.create_from_options(options)\n"
   ]
  },
  {
   "cell_type": "code",
   "execution_count": 4,
   "metadata": {},
   "outputs": [],
   "source": [
    "def normalize_coordinates(coordinates, target, image_height):\n",
    "    matplot_coordinates = []\n",
    "    normalized_coordinates = []\n",
    "    for x, y in coordinates:\n",
    "        y = image_height - y\n",
    "        matplot_coordinates.append([x, y])\n",
    "\n",
    "    # Find the minimum and maximum values among the coordinates\n",
    "    min_x, min_y = np.min(matplot_coordinates, axis=0)\n",
    "    max_x, max_y = np.max(matplot_coordinates, axis=0)\n",
    "\n",
    "    # Normalize the coordinates\n",
    "    normalized_coordinates = (matplot_coordinates - np.array([min_x, min_y])) / np.array([max_x - min_x, max_y - min_y])\n",
    "    \n",
    "    # Convert coordinates for plotting\n",
    "    # visualize_data(normalized_coordinates, target)\n",
    "    return normalized_coordinates\n",
    "\n",
    "def visualize_data(normalized_coordinates, target):\n",
    "    # Unzip normalized coordinates for plotting\n",
    "    normalized_x, normalized_y = zip(*normalized_coordinates)\n",
    "    \n",
    "    # Plot the normalized coordinates\n",
    "    plt.figure(figsize=(8, 6))\n",
    "    plt.scatter(normalized_x, normalized_y, color='blue', label=f'{target}')\n",
    "    plt.xlabel('Normalized X')\n",
    "    plt.xlabel('Normalized X')\n",
    "    plt.ylabel('Normalized Y')\n",
    "    plt.title('Normalized Coordinates Plot')\n",
    "    plt.legend()\n",
    "    plt.grid(True)\n",
    "    plt.show()"
   ]
  },
  {
   "cell_type": "code",
   "execution_count": 5,
   "metadata": {},
   "outputs": [],
   "source": [
    "two_hands_words = [\"familia\", \"por favor\", \"ayuda\", \"amor\", \"casa\", \"escuela\", \"salud\", \"feliz\"]\n",
    "def extract_video(video, target, sequence_id, real_path):\n",
    "    global frames, ids_without_required_hands, two_hands_words\n",
    "    added_rows = 0\n",
    "    detected_two_hands = False\n",
    "    # For webcam input:\n",
    "    cap = cv2.VideoCapture(video)\n",
    "    \n",
    "    while cap.isOpened():\n",
    "        ret, frame = cap.read()\n",
    "        if not ret:\n",
    "            break\n",
    "        \n",
    "\n",
    "        name = f'{initial_dir}/test_frame.png'\n",
    "        cv2.imwrite(name, frame)\n",
    "        mp_image = mp.Image.create_from_file(name)\n",
    "        hand_landmarker_result = hands.detect(mp_image)\n",
    "\n",
    "         \n",
    "        if len(hand_landmarker_result.handedness) > 0:\n",
    "            row_data = {\n",
    "                \"sequence_id\": sequence_id,\n",
    "                \"target\": target,\n",
    "                \"file\": real_path\n",
    "            }\n",
    "            hand_sides = [\"Left\", \"Right\"]\n",
    "            for idx, landmarks in enumerate(hand_landmarker_result.hand_landmarks):\n",
    "                detected_pixels = []\n",
    "                hand_side = hand_sides[idx]\n",
    "                # Iterate through detected hand landmarks\n",
    "                for landmark_idx, landmark in enumerate(landmarks):\n",
    "                    x, y = landmark.x, landmark.y\n",
    "                    detected_pixels.append([x  * frame.shape[1], y * frame.shape[0]])\n",
    "                    # Draw circles on the frame\n",
    "                    cv2.circle(frame, (int(x * frame.shape[1]), int(y * frame.shape[0])), 5, (0, 255, 0), -1)\n",
    "\n",
    "                    \n",
    "                detected_pixels = normalize_coordinates(detected_pixels, target, frame.shape[0])\n",
    "                for i in range(len(detected_pixels)):\n",
    "                    x, y = detected_pixels[i]\n",
    "                    row_data[f'x_{hand_side}_hand_{i}'] =  x\n",
    "                    row_data[f'y_{hand_side}_hand_{i}'] =  y\n",
    "                \n",
    "            if (len(hand_landmarker_result.handedness) == 1):\n",
    "                for i in range(21):\n",
    "                    x, y = [0, 0]\n",
    "                    row_data[f'x_{hand_sides[1]}_hand_{i}'] =  x\n",
    "                    row_data[f'y_{hand_sides[1]}_hand_{i}'] =  y\n",
    "            \n",
    "\n",
    "            if (len(hand_landmarker_result.handedness) == 2):\n",
    "                detected_two_hands = True\n",
    "\n",
    "            added_rows += 1\n",
    "            frames.append(row_data)\n",
    "        # cv2.imshow('Hand Tracking', frame)\n",
    "        # if cv2.waitKey(1) & 0xFF == ord('q'):\n",
    "        #     break\n",
    "        if (added_rows == 30):\n",
    "            break\n",
    "\n",
    "    if (added_rows == 0):\n",
    "        print(\"!! No hand detected in \", real_path)\n",
    "\n",
    "    if (not detected_two_hands and target in two_hands_words):\n",
    "        print(\">> No se detectaron las dos manos necesarias en \", real_path, \" con id \", sequence_id)\n",
    "        ids_without_required_hands.append(sequence_id)\n",
    "\n",
    "\n",
    "    cap.release()\n",
    "    cv2.destroyAllWindows()"
   ]
  },
  {
   "cell_type": "code",
   "execution_count": 6,
   "metadata": {},
   "outputs": [],
   "source": [
    "def get_length(filename):\n",
    "    result = subprocess.run([\"ffprobe\", \"-v\", \"error\", \"-show_entries\",\n",
    "                             \"format=duration\", \"-of\",\n",
    "                             \"default=noprint_wrappers=1:nokey=1\", filename],\n",
    "        stdout=subprocess.PIPE,\n",
    "        stderr=subprocess.STDOUT)\n",
    "    return float(result.stdout)"
   ]
  },
  {
   "cell_type": "code",
   "execution_count": 7,
   "metadata": {},
   "outputs": [],
   "source": [
    "def change_to_30_fps(video_input_path, video_output_path):\n",
    "    duration = 1/get_length(video_input_path)\n",
    "\n",
    "    c = f'ffmpeg -loglevel 0 -y -itsscale {duration} -i \"' + video_input_path + f'\" -filter:v fps=fps=30 \"' + video_output_path + '\"'\n",
    "    subprocess.call(c, shell=True)"
   ]
  },
  {
   "cell_type": "code",
   "execution_count": 8,
   "metadata": {},
   "outputs": [],
   "source": [
    "sequence_id = last_sequence_id\n",
    "validation_sequence_ids = []\n",
    "\n",
    "def extract_coordinates_from_dir(dir, is_val=False):\n",
    "    global sequence_id, initial_dir, validation_sequence_ids\n",
    "    os.chdir(dir)\n",
    "\n",
    "    output_fps_path = f'{dir}/adjusted_fps_video.mp4'\n",
    "\n",
    "    files_to_extract = glob.glob(\"*.mp4\")\n",
    "    print(f'Hay {len(files_to_extract)} videos a extraer coordenadas')\n",
    "    for file in files_to_extract:\n",
    "        if (\"adjusted_fps_video.mp4\" in file):\n",
    "            return\n",
    "            \n",
    "        input_path = f'{dir}/{file}'\n",
    "        sequence_id += 1\n",
    "        if (is_val):\n",
    "            validation_sequence_ids.append(sequence_id)\n",
    "\n",
    "        if (\"(\" not in file):\n",
    "            name = file.split(\".\")[0]\n",
    "        else:\n",
    "            name = file[0:file.index(\"(\")].strip()\n",
    "\n",
    "\n",
    "        change_to_30_fps(video_input_path=input_path, video_output_path=output_fps_path)\n",
    "        extract_video(output_fps_path, name, sequence_id, input_path)\n",
    "\n",
    "    os.chdir(initial_dir)"
   ]
  },
  {
   "cell_type": "code",
   "execution_count": 9,
   "metadata": {},
   "outputs": [
    {
     "name": "stdout",
     "output_type": "stream",
     "text": [
      "Hay 363 videos a extraer coordenadas\n",
      ">> No se detectaron las dos manos necesarias en  /Users/andreaamaya/Trabajo/megaproyecto_model/data/videos_lensegua_2/casa (12).mp4  con id  287\n",
      ">> No se detectaron las dos manos necesarias en  /Users/andreaamaya/Trabajo/megaproyecto_model/data/videos_lensegua_2/amor (5).mp4  con id  292\n",
      ">> No se detectaron las dos manos necesarias en  /Users/andreaamaya/Trabajo/megaproyecto_model/data/videos_lensegua_2/casa (10) copy.mp4  con id  296\n",
      ">> No se detectaron las dos manos necesarias en  /Users/andreaamaya/Trabajo/megaproyecto_model/data/videos_lensegua_2/amor (2) copy.mp4  con id  299\n",
      ">> No se detectaron las dos manos necesarias en  /Users/andreaamaya/Trabajo/megaproyecto_model/data/videos_lensegua_2/escuela (17).mp4  con id  317\n",
      "!! No hand detected in  /Users/andreaamaya/Trabajo/megaproyecto_model/data/videos_lensegua_2/comida (16).mp4\n",
      ">> No se detectaron las dos manos necesarias en  /Users/andreaamaya/Trabajo/megaproyecto_model/data/videos_lensegua_2/feliz (17).mp4  con id  419\n",
      ">> No se detectaron las dos manos necesarias en  /Users/andreaamaya/Trabajo/megaproyecto_model/data/videos_lensegua_2/feliz (1).mp4  con id  493\n",
      ">> No se detectaron las dos manos necesarias en  /Users/andreaamaya/Trabajo/megaproyecto_model/data/videos_lensegua_2/casa (9) copy.mp4  con id  499\n"
     ]
    }
   ],
   "source": [
    "training_dir = f'{initial_dir}/data/videos_lensegua_2'\n",
    "extract_coordinates_from_dir(training_dir)"
   ]
  },
  {
   "cell_type": "code",
   "execution_count": 10,
   "metadata": {},
   "outputs": [
    {
     "name": "stdout",
     "output_type": "stream",
     "text": [
      "Hay 27 videos a extraer coordenadas\n"
     ]
    }
   ],
   "source": [
    "validation_dir = f'{initial_dir}/data/videos_val_2'\n",
    "extract_coordinates_from_dir(validation_dir, is_val=True)"
   ]
  },
  {
   "cell_type": "code",
   "execution_count": 11,
   "metadata": {},
   "outputs": [],
   "source": [
    "df = pd.DataFrame(frames)"
   ]
  },
  {
   "cell_type": "code",
   "execution_count": 12,
   "metadata": {},
   "outputs": [],
   "source": [
    "df['sequence_id'] = df['sequence_id'].astype(int)"
   ]
  },
  {
   "cell_type": "code",
   "execution_count": 13,
   "metadata": {},
   "outputs": [
    {
     "data": {
      "text/html": [
       "<div>\n",
       "<style scoped>\n",
       "    .dataframe tbody tr th:only-of-type {\n",
       "        vertical-align: middle;\n",
       "    }\n",
       "\n",
       "    .dataframe tbody tr th {\n",
       "        vertical-align: top;\n",
       "    }\n",
       "\n",
       "    .dataframe thead th {\n",
       "        text-align: right;\n",
       "    }\n",
       "</style>\n",
       "<table border=\"1\" class=\"dataframe\">\n",
       "  <thead>\n",
       "    <tr style=\"text-align: right;\">\n",
       "      <th></th>\n",
       "      <th>sequence_id</th>\n",
       "      <th>target</th>\n",
       "      <th>file</th>\n",
       "      <th>x_Left_hand_0</th>\n",
       "      <th>y_Left_hand_0</th>\n",
       "      <th>x_Left_hand_1</th>\n",
       "      <th>y_Left_hand_1</th>\n",
       "      <th>x_Left_hand_2</th>\n",
       "      <th>y_Left_hand_2</th>\n",
       "      <th>x_Left_hand_3</th>\n",
       "      <th>...</th>\n",
       "      <th>x_Right_hand_16</th>\n",
       "      <th>y_Right_hand_16</th>\n",
       "      <th>x_Right_hand_17</th>\n",
       "      <th>y_Right_hand_17</th>\n",
       "      <th>x_Right_hand_18</th>\n",
       "      <th>y_Right_hand_18</th>\n",
       "      <th>x_Right_hand_19</th>\n",
       "      <th>y_Right_hand_19</th>\n",
       "      <th>x_Right_hand_20</th>\n",
       "      <th>y_Right_hand_20</th>\n",
       "    </tr>\n",
       "  </thead>\n",
       "  <tbody>\n",
       "    <tr>\n",
       "      <th>0</th>\n",
       "      <td>255</td>\n",
       "      <td>feliz</td>\n",
       "      <td>/Users/andreaamaya/Trabajo/megaproyecto_model/...</td>\n",
       "      <td>0.062766</td>\n",
       "      <td>0.031105</td>\n",
       "      <td>0.000000</td>\n",
       "      <td>0.267209</td>\n",
       "      <td>0.088161</td>\n",
       "      <td>0.586451</td>\n",
       "      <td>0.130851</td>\n",
       "      <td>...</td>\n",
       "      <td>0.000000</td>\n",
       "      <td>0.000000</td>\n",
       "      <td>0.000000</td>\n",
       "      <td>0.000000</td>\n",
       "      <td>0.000000</td>\n",
       "      <td>0.000000</td>\n",
       "      <td>0.000000</td>\n",
       "      <td>0.00000</td>\n",
       "      <td>0.000000</td>\n",
       "      <td>0.000000</td>\n",
       "    </tr>\n",
       "    <tr>\n",
       "      <th>1</th>\n",
       "      <td>255</td>\n",
       "      <td>feliz</td>\n",
       "      <td>/Users/andreaamaya/Trabajo/megaproyecto_model/...</td>\n",
       "      <td>0.008392</td>\n",
       "      <td>0.022065</td>\n",
       "      <td>0.000000</td>\n",
       "      <td>0.262948</td>\n",
       "      <td>0.130833</td>\n",
       "      <td>0.574110</td>\n",
       "      <td>0.200490</td>\n",
       "      <td>...</td>\n",
       "      <td>0.000000</td>\n",
       "      <td>0.000000</td>\n",
       "      <td>0.000000</td>\n",
       "      <td>0.000000</td>\n",
       "      <td>0.000000</td>\n",
       "      <td>0.000000</td>\n",
       "      <td>0.000000</td>\n",
       "      <td>0.00000</td>\n",
       "      <td>0.000000</td>\n",
       "      <td>0.000000</td>\n",
       "    </tr>\n",
       "    <tr>\n",
       "      <th>2</th>\n",
       "      <td>255</td>\n",
       "      <td>feliz</td>\n",
       "      <td>/Users/andreaamaya/Trabajo/megaproyecto_model/...</td>\n",
       "      <td>0.000000</td>\n",
       "      <td>0.000000</td>\n",
       "      <td>0.024851</td>\n",
       "      <td>0.289231</td>\n",
       "      <td>0.179532</td>\n",
       "      <td>0.592871</td>\n",
       "      <td>0.271284</td>\n",
       "      <td>...</td>\n",
       "      <td>0.512381</td>\n",
       "      <td>0.129533</td>\n",
       "      <td>0.594147</td>\n",
       "      <td>0.039220</td>\n",
       "      <td>0.378976</td>\n",
       "      <td>0.032075</td>\n",
       "      <td>0.463215</td>\n",
       "      <td>0.00542</td>\n",
       "      <td>0.554625</td>\n",
       "      <td>0.000000</td>\n",
       "    </tr>\n",
       "    <tr>\n",
       "      <th>3</th>\n",
       "      <td>255</td>\n",
       "      <td>feliz</td>\n",
       "      <td>/Users/andreaamaya/Trabajo/megaproyecto_model/...</td>\n",
       "      <td>0.000000</td>\n",
       "      <td>0.028790</td>\n",
       "      <td>0.057657</td>\n",
       "      <td>0.330858</td>\n",
       "      <td>0.214202</td>\n",
       "      <td>0.600497</td>\n",
       "      <td>0.322143</td>\n",
       "      <td>...</td>\n",
       "      <td>0.586396</td>\n",
       "      <td>0.139624</td>\n",
       "      <td>0.607326</td>\n",
       "      <td>0.123320</td>\n",
       "      <td>0.470047</td>\n",
       "      <td>0.014264</td>\n",
       "      <td>0.551923</td>\n",
       "      <td>0.00000</td>\n",
       "      <td>0.629357</td>\n",
       "      <td>0.023692</td>\n",
       "    </tr>\n",
       "    <tr>\n",
       "      <th>4</th>\n",
       "      <td>255</td>\n",
       "      <td>feliz</td>\n",
       "      <td>/Users/andreaamaya/Trabajo/megaproyecto_model/...</td>\n",
       "      <td>0.000000</td>\n",
       "      <td>0.037505</td>\n",
       "      <td>0.084723</td>\n",
       "      <td>0.350202</td>\n",
       "      <td>0.245635</td>\n",
       "      <td>0.611125</td>\n",
       "      <td>0.341049</td>\n",
       "      <td>...</td>\n",
       "      <td>0.574911</td>\n",
       "      <td>0.135054</td>\n",
       "      <td>0.611050</td>\n",
       "      <td>0.149616</td>\n",
       "      <td>0.489662</td>\n",
       "      <td>0.010995</td>\n",
       "      <td>0.569037</td>\n",
       "      <td>0.00000</td>\n",
       "      <td>0.636393</td>\n",
       "      <td>0.038298</td>\n",
       "    </tr>\n",
       "  </tbody>\n",
       "</table>\n",
       "<p>5 rows × 87 columns</p>\n",
       "</div>"
      ],
      "text/plain": [
       "   sequence_id target                                               file  \\\n",
       "0          255  feliz  /Users/andreaamaya/Trabajo/megaproyecto_model/...   \n",
       "1          255  feliz  /Users/andreaamaya/Trabajo/megaproyecto_model/...   \n",
       "2          255  feliz  /Users/andreaamaya/Trabajo/megaproyecto_model/...   \n",
       "3          255  feliz  /Users/andreaamaya/Trabajo/megaproyecto_model/...   \n",
       "4          255  feliz  /Users/andreaamaya/Trabajo/megaproyecto_model/...   \n",
       "\n",
       "   x_Left_hand_0  y_Left_hand_0  x_Left_hand_1  y_Left_hand_1  x_Left_hand_2  \\\n",
       "0       0.062766       0.031105       0.000000       0.267209       0.088161   \n",
       "1       0.008392       0.022065       0.000000       0.262948       0.130833   \n",
       "2       0.000000       0.000000       0.024851       0.289231       0.179532   \n",
       "3       0.000000       0.028790       0.057657       0.330858       0.214202   \n",
       "4       0.000000       0.037505       0.084723       0.350202       0.245635   \n",
       "\n",
       "   y_Left_hand_2  x_Left_hand_3  ...  x_Right_hand_16  y_Right_hand_16  \\\n",
       "0       0.586451       0.130851  ...         0.000000         0.000000   \n",
       "1       0.574110       0.200490  ...         0.000000         0.000000   \n",
       "2       0.592871       0.271284  ...         0.512381         0.129533   \n",
       "3       0.600497       0.322143  ...         0.586396         0.139624   \n",
       "4       0.611125       0.341049  ...         0.574911         0.135054   \n",
       "\n",
       "   x_Right_hand_17  y_Right_hand_17  x_Right_hand_18  y_Right_hand_18  \\\n",
       "0         0.000000         0.000000         0.000000         0.000000   \n",
       "1         0.000000         0.000000         0.000000         0.000000   \n",
       "2         0.594147         0.039220         0.378976         0.032075   \n",
       "3         0.607326         0.123320         0.470047         0.014264   \n",
       "4         0.611050         0.149616         0.489662         0.010995   \n",
       "\n",
       "   x_Right_hand_19  y_Right_hand_19  x_Right_hand_20  y_Right_hand_20  \n",
       "0         0.000000          0.00000         0.000000         0.000000  \n",
       "1         0.000000          0.00000         0.000000         0.000000  \n",
       "2         0.463215          0.00542         0.554625         0.000000  \n",
       "3         0.551923          0.00000         0.629357         0.023692  \n",
       "4         0.569037          0.00000         0.636393         0.038298  \n",
       "\n",
       "[5 rows x 87 columns]"
      ]
     },
     "execution_count": 13,
     "metadata": {},
     "output_type": "execute_result"
    }
   ],
   "source": [
    "df.head()"
   ]
  },
  {
   "cell_type": "code",
   "execution_count": 14,
   "metadata": {},
   "outputs": [
    {
     "data": {
      "text/plain": [
       "87"
      ]
     },
     "execution_count": 14,
     "metadata": {},
     "output_type": "execute_result"
    }
   ],
   "source": [
    "len(df.columns)"
   ]
  },
  {
   "cell_type": "code",
   "execution_count": 15,
   "metadata": {},
   "outputs": [],
   "source": [
    "if (len(validation_sequence_ids) > 0):\n",
    "    validation_path = f'{initial_dir}/data/validation.csv'\n",
    "    validation_df = df[df['sequence_id'].isin(validation_sequence_ids)][[\"sequence_id\", \"target\", \"file\"]]\n",
    "    \n",
    "    train_path = f'{initial_dir}/data/train.csv'\n",
    "    train_df = df[~df['sequence_id'].isin(validation_sequence_ids)][[\"sequence_id\", \"target\", \"file\"]]\n",
    "    \n",
    "    if (last_sequence_id == 0):\n",
    "        validation_df.to_csv(validation_path, index=False)\n",
    "        train_df.to_csv(train_path, index=False)\n",
    "    else:\n",
    "        df_past_val = pd.read_csv(validation_path)\n",
    "        df_past_train = pd.read_csv(train_path)\n",
    "\n",
    "        df_val_final = pd.concat([df_past_val, validation_df])\n",
    "        df_train_final = pd.concat([df_past_train, train_df])\n",
    "\n",
    "        df_val_final.to_csv(validation_path, index=False)\n",
    "        df_train_final.to_csv(train_path, index=False)"
   ]
  },
  {
   "cell_type": "code",
   "execution_count": 16,
   "metadata": {},
   "outputs": [],
   "source": [
    "data_path = f'{initial_dir}/data/data.csv'\n",
    "df_final = df.drop(\"file\", axis=1)\n",
    "\n",
    "if (last_sequence_id == 0):\n",
    "    df_final.to_csv(data_path, index=False)\n",
    "else:\n",
    "    df_past_data = pd.read_csv(data_path)\n",
    "    df_data_final = pd.concat([df_past_data, df_final])\n",
    "    df_data_final.to_csv(data_path, index=False)"
   ]
  },
  {
   "cell_type": "code",
   "execution_count": 17,
   "metadata": {},
   "outputs": [
    {
     "name": "stdout",
     "output_type": "stream",
     "text": [
      "Hay 10 videos a extraer coordenadas\n"
     ]
    }
   ],
   "source": [
    "frames = []\n",
    "extra_val_dir = f'{initial_dir}/data/test videos'\n",
    "extract_coordinates_from_dir(extra_val_dir)\n",
    "\n",
    "df = pd.DataFrame(frames) \n",
    "df['sequence_id'] = df['sequence_id'].astype(int)"
   ]
  },
  {
   "cell_type": "code",
   "execution_count": 18,
   "metadata": {},
   "outputs": [],
   "source": [
    "data_path = f'{initial_dir}/data/data_tests.csv'\n",
    "df.to_csv(data_path, index=False)"
   ]
  }
 ],
 "metadata": {
  "kernelspec": {
   "display_name": "Python 3.9.6 64-bit",
   "language": "python",
   "name": "python3"
  },
  "language_info": {
   "codemirror_mode": {
    "name": "ipython",
    "version": 3
   },
   "file_extension": ".py",
   "mimetype": "text/x-python",
   "name": "python",
   "nbconvert_exporter": "python",
   "pygments_lexer": "ipython3",
   "version": "3.9.6"
  },
  "orig_nbformat": 4,
  "vscode": {
   "interpreter": {
    "hash": "31f2aee4e71d21fbe5cf8b01ff0e069b9275f58929596ceb00d14d90e3e16cd6"
   }
  }
 },
 "nbformat": 4,
 "nbformat_minor": 2
}
