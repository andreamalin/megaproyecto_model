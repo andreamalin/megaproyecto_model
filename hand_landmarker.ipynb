{
 "cells": [
  {
   "cell_type": "code",
   "execution_count": null,
   "metadata": {},
   "outputs": [],
   "source": [
    "from Mediapipe import MediapipeHands\n",
    "import pandas as pd\n",
    "import os\n",
    "\n",
    "initial_dir = os.getcwd()"
   ]
  },
  {
   "cell_type": "code",
   "execution_count": null,
   "metadata": {},
   "outputs": [],
   "source": [
    "mediapipeHands = MediapipeHands(past_data_path=\"/Users/andreaamaya/Trabajo/megaproyecto_model/data/data.csv\")"
   ]
  },
  {
   "cell_type": "code",
   "execution_count": null,
   "metadata": {},
   "outputs": [],
   "source": [
    "initial_sequence_id = mediapipeHands.sequence_id"
   ]
  },
  {
   "cell_type": "code",
   "execution_count": null,
   "metadata": {},
   "outputs": [],
   "source": [
    "training_dir = f'{initial_dir}/data/videos_lensegua_3'\n",
    "mediapipeHands.extract_coordinates_from_dir(training_dir)"
   ]
  },
  {
   "cell_type": "code",
   "execution_count": null,
   "metadata": {},
   "outputs": [],
   "source": [
    "training_dir = f'{initial_dir}/data/videos_lensegua'\n",
    "mediapipeHands.extract_coordinates_from_dir(training_dir)"
   ]
  },
  {
   "cell_type": "code",
   "execution_count": null,
   "metadata": {},
   "outputs": [],
   "source": [
    "training_dir = f'{initial_dir}/data/videos_lensegua_2'\n",
    "mediapipeHands.extract_coordinates_from_dir(training_dir)"
   ]
  },
  {
   "cell_type": "code",
   "execution_count": null,
   "metadata": {},
   "outputs": [],
   "source": [
    "validation_dir = f'{initial_dir}/data/videos_val'\n",
    "mediapipeHands.extract_coordinates_from_dir(validation_dir, is_val=True)"
   ]
  },
  {
   "cell_type": "code",
   "execution_count": null,
   "metadata": {},
   "outputs": [],
   "source": [
    "validation_dir = f'{initial_dir}/data/videos_val_2'\n",
    "mediapipeHands.extract_coordinates_from_dir(validation_dir, is_val=True)"
   ]
  },
  {
   "cell_type": "code",
   "execution_count": null,
   "metadata": {},
   "outputs": [],
   "source": [
    "validation_dir = f'{initial_dir}/data/videos_val_3'\n",
    "mediapipeHands.extract_coordinates_from_dir(validation_dir, is_val=True)"
   ]
  },
  {
   "cell_type": "code",
   "execution_count": null,
   "metadata": {},
   "outputs": [],
   "source": [
    "df = mediapipeHands.get_padded_data()\n",
    "validation_sequence_ids = mediapipeHands.validation_sequence_ids"
   ]
  },
  {
   "cell_type": "code",
   "execution_count": null,
   "metadata": {},
   "outputs": [],
   "source": [
    "if (len(validation_sequence_ids) > 0):\n",
    "    validation_path = f'{initial_dir}/data/validation.csv'\n",
    "    validation_df = df[df['sequence_id'].isin(validation_sequence_ids)][[\"sequence_id\", \"target\", \"file\"]]\n",
    "    \n",
    "    train_path = f'{initial_dir}/data/train.csv'\n",
    "    train_df = df[~df['sequence_id'].isin(validation_sequence_ids)][[\"sequence_id\", \"target\", \"file\"]]\n",
    "    \n",
    "\n",
    "    if (initial_sequence_id != 0):\n",
    "        past_data = pd.read_csv(validation_path)\n",
    "        final_df = pd.concat([past_data, validation_df])\n",
    "        final_df.to_csv(validation_path, index=False)\n",
    "\n",
    "        past_data = pd.read_csv(train_path)\n",
    "        final_df = pd.concat([past_data, train_df])\n",
    "        final_df.to_csv(train_path, index=False)\n",
    "    else:\n",
    "        validation_df.to_csv(validation_path, index=False)\n",
    "        train_df.to_csv(train_path, index=False)"
   ]
  },
  {
   "cell_type": "code",
   "execution_count": null,
   "metadata": {},
   "outputs": [],
   "source": [
    "data_path = f'{initial_dir}/data/data.csv'\n",
    "df_final = df.drop(\"file\", axis=1)\n",
    "\n",
    "if (initial_sequence_id != 0):\n",
    "    past_data = pd.read_csv(data_path)\n",
    "    final_df = pd.concat([past_data, df_final])\n",
    "    final_df.to_csv(data_path, index=False)\n",
    "else:\n",
    "    df_final.to_csv(data_path, index=False)"
   ]
  },
  {
   "cell_type": "code",
   "execution_count": 2,
   "metadata": {},
   "outputs": [],
   "source": [
    "mediapipeHands = MediapipeHands(past_data_path=\"/Users/andreaamaya/Trabajo/megaproyecto_model/data/data_tests.csv\")"
   ]
  },
  {
   "cell_type": "code",
   "execution_count": 3,
   "metadata": {},
   "outputs": [
    {
     "data": {
      "text/plain": [
       "7"
      ]
     },
     "execution_count": 3,
     "metadata": {},
     "output_type": "execute_result"
    }
   ],
   "source": [
    "initial_sequence_id = mediapipeHands.sequence_id\n",
    "initial_sequence_id"
   ]
  },
  {
   "cell_type": "code",
   "execution_count": 4,
   "metadata": {},
   "outputs": [
    {
     "name": "stdout",
     "output_type": "stream",
     "text": [
      "Hay 11 videos a extraer coordenadas\n"
     ]
    }
   ],
   "source": [
    "extra_val_dir = f'{initial_dir}/data/test videos 2'\n",
    "mediapipeHands.extract_coordinates_from_dir(extra_val_dir)\n",
    "\n",
    "df = mediapipeHands.get_padded_data()"
   ]
  },
  {
   "cell_type": "code",
   "execution_count": 5,
   "metadata": {},
   "outputs": [
    {
     "ename": "",
     "evalue": "",
     "output_type": "error",
     "traceback": [
      "\u001b[1;31mThe Kernel crashed while executing code in the the current cell or a previous cell. Please review the code in the cell(s) to identify a possible cause of the failure. Click <a href='https://aka.ms/vscodeJupyterKernelCrash'>here</a> for more info. View Jupyter <a href='command:jupyter.viewOutput'>log</a> for further details."
     ]
    }
   ],
   "source": [
    "data_path = f'{initial_dir}/data/data_tests.csv'\n",
    "\n",
    "if (initial_sequence_id != 0):\n",
    "    past_data = pd.read_csv(data_path)\n",
    "    final_df = pd.concat([past_data, df])\n",
    "    final_df.to_csv(data_path, index=False)\n",
    "else:\n",
    "    df.to_csv(data_path, index=False)"
   ]
  }
 ],
 "metadata": {
  "kernelspec": {
   "display_name": "Python 3.9.6 64-bit",
   "language": "python",
   "name": "python3"
  },
  "language_info": {
   "codemirror_mode": {
    "name": "ipython",
    "version": 3
   },
   "file_extension": ".py",
   "mimetype": "text/x-python",
   "name": "python",
   "nbconvert_exporter": "python",
   "pygments_lexer": "ipython3",
   "version": "3.9.6"
  },
  "orig_nbformat": 4,
  "vscode": {
   "interpreter": {
    "hash": "31f2aee4e71d21fbe5cf8b01ff0e069b9275f58929596ceb00d14d90e3e16cd6"
   }
  }
 },
 "nbformat": 4,
 "nbformat_minor": 2
}
