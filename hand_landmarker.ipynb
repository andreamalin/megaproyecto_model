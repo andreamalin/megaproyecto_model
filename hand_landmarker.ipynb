{
 "cells": [
  {
   "cell_type": "code",
   "execution_count": null,
   "metadata": {},
   "outputs": [],
   "source": [
    "import cv2\n",
    "import mediapipe as mp\n",
    "import pandas as pd\n",
    "import re\n",
    "\n",
    "mp_drawing = mp.solutions.drawing_utils\n",
    "mp_drawing_styles = mp.solutions.drawing_styles\n",
    "mp_hands = mp.solutions.hands\n",
    "mp_holistic = mp.solutions.holistic\n",
    "\n",
    "df = pd.DataFrame()"
   ]
  },
  {
   "cell_type": "code",
   "execution_count": null,
   "metadata": {},
   "outputs": [],
   "source": [
    "# Regular expression pattern to extract coordinates\n",
    "pattern = r'x: ([-+]?[0-9]*\\.?[0-9]+)\\ny: ([-+]?[0-9]*\\.?[0-9]+)\\nz: ([-+]?[0-9]*\\.?[0-9]+)'\n",
    "\n",
    "def get_coordinates(input_string):\n",
    "    # Extract coordinates using regex\n",
    "    matches = re.findall(pattern, input_string)\n",
    "\n",
    "    # Convert the extracted coordinates to a list of dictionaries\n",
    "    coordinates = [{'x': float(match[0]), 'y': float(match[1]), 'z': float(match[2])} for match in matches]\n",
    "    return coordinates"
   ]
  },
  {
   "cell_type": "code",
   "execution_count": null,
   "metadata": {},
   "outputs": [],
   "source": [
    "import os\n",
    "path = os.getcwd()"
   ]
  },
  {
   "cell_type": "code",
   "execution_count": null,
   "metadata": {},
   "outputs": [],
   "source": [
    "def extract_video(filename):\n",
    "    global df\n",
    "    video = f'{path}/{filename}.mp4'\n",
    "    # For webcam input:\n",
    "    cap = cv2.VideoCapture(video)\n",
    "    results = None\n",
    "    with mp_holistic.Holistic(\n",
    "        model_complexity=0,\n",
    "        min_detection_confidence=0.5,\n",
    "        min_tracking_confidence=0.5) as hands:\n",
    "\n",
    "        while cap.isOpened():\n",
    "            success, image = cap.read()\n",
    "            if not success:\n",
    "                print(\"Ignoring empty camera frame. Or video finished. \")\n",
    "                # If loading a video, use 'break' instead of 'continue'.\n",
    "                break\n",
    "\n",
    "            results = hands.process(image)\n",
    "\n",
    "            # # Draw the hand annotations on the image.\n",
    "            # image.flags.writeable = True\n",
    "            # image = cv2.cvtColor(image, cv2.COLOR_RGB2BGR)\n",
    "\n",
    "            if (results.right_hand_landmarks):\n",
    "                array = get_coordinates(str(results.right_hand_landmarks.landmark))\n",
    "                new_row = {}\n",
    "                for i in range(len(array)):\n",
    "                    new_row[f'x_right_hand_{i}'] = array[i][\"x\"]\n",
    "                    new_row[f'y_right_hand_{i}'] = array[i][\"y\"]\n",
    "\n",
    "                \n",
    "                df = df.append(new_row, ignore_index=True)\n",
    "\n",
    "                # mp_drawing.draw_landmarks(\n",
    "                #     image,\n",
    "                #     results.right_hand_landmarks,\n",
    "                #     mp_hands.HAND_CONNECTIONS,\n",
    "                #     mp_drawing_styles.get_default_hand_landmarks_style(),\n",
    "                #     mp_drawing_styles.get_default_hand_connections_style())\n",
    "            \n",
    "            if (results.left_hand_landmarks):\n",
    "                array = get_coordinates(str(results.left_hand_landmarks.landmark))\n",
    "                new_row = {}\n",
    "                for i in range(len(array)):\n",
    "                    new_row[f'x_left_hand_{i}'] = array[i][\"x\"]\n",
    "                    new_row[f'y_left_hand_{i}'] = array[i][\"y\"]\n",
    "                \n",
    "                df = df.append(new_row, ignore_index=True)\n",
    "\n",
    "                # mp_drawing.draw_landmarks(\n",
    "                #     image,\n",
    "                #     results.left_hand_landmarks,\n",
    "                #     mp_hands.HAND_CONNECTIONS,\n",
    "                #     mp_drawing_styles.get_default_hand_landmarks_style(),\n",
    "                #     mp_drawing_styles.get_default_hand_connections_style())\n",
    "                \n",
    "                # Flip the image horizontally for a selfie-view display.\n",
    "                # cv2.imshow('MediaPipe Hands', cv2.flip(image, 1))\n",
    "                # if cv2.waitKey(5) & 0xFF == 27:\n",
    "                #   break\n",
    "\n",
    "    cap.release()\n",
    "    cv2.destroyAllWindows()"
   ]
  },
  {
   "cell_type": "code",
   "execution_count": null,
   "metadata": {},
   "outputs": [],
   "source": [
    "filename = \"Hello\"\n",
    "extract_video(filename)\n",
    "df.to_parquet(f'{filename}.parquet')"
   ]
  },
  {
   "cell_type": "code",
   "execution_count": null,
   "metadata": {},
   "outputs": [],
   "source": [
    "pd.read_parquet(f'{filename}.parquet', engine='pyarrow')"
   ]
  }
 ],
 "metadata": {
  "kernelspec": {
   "display_name": "Python 3",
   "language": "python",
   "name": "python3"
  },
  "language_info": {
   "codemirror_mode": {
    "name": "ipython",
    "version": 3
   },
   "file_extension": ".py",
   "mimetype": "text/x-python",
   "name": "python",
   "nbconvert_exporter": "python",
   "pygments_lexer": "ipython3",
   "version": "3.7.0"
  },
  "orig_nbformat": 4
 },
 "nbformat": 4,
 "nbformat_minor": 2
}
