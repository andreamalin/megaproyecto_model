{
 "cells": [
  {
   "cell_type": "code",
   "execution_count": 1,
   "metadata": {},
   "outputs": [],
   "source": [
    "import cv2\n",
    "import mediapipe as mp\n",
    "import pandas as pd\n",
    "import re\n",
    "from moviepy.editor import VideoFileClip\n",
    "import moviepy.video.fx.all as vfx\n",
    "\n",
    "mp_drawing = mp.solutions.drawing_utils\n",
    "mp_drawing_styles = mp.solutions.drawing_styles\n",
    "mp_hands = mp.solutions.hands\n",
    "hands = mp_hands.Hands()\n",
    "mp_holistic = mp.solutions.holistic\n",
    "\n",
    "df = pd.DataFrame()\n",
    "frames = []"
   ]
  },
  {
   "cell_type": "code",
   "execution_count": 2,
   "metadata": {},
   "outputs": [],
   "source": [
    "# Regular expression pattern to extract coordinates\n",
    "pattern = r'x: ([-+]?[0-9]*\\.?[0-9]+)\\ny: ([-+]?[0-9]*\\.?[0-9]+)\\nz: ([-+]?[0-9]*\\.?[0-9]+)'\n",
    "\n",
    "def get_coordinates(input_string):\n",
    "    # Extract coordinates using regex\n",
    "    matches = re.findall(pattern, input_string)\n",
    "\n",
    "    # Convert the extracted coordinates to a list of dictionaries\n",
    "    coordinates = [{'x': float(match[0]), 'y': float(match[1]), 'z': float(match[2])} for match in matches]\n",
    "    return coordinates"
   ]
  },
  {
   "cell_type": "code",
   "execution_count": 3,
   "metadata": {},
   "outputs": [],
   "source": [
    "import os\n",
    "path = os.getcwd()"
   ]
  },
  {
   "cell_type": "code",
   "execution_count": 4,
   "metadata": {},
   "outputs": [],
   "source": [
    "def get_video_speed_factor(input_path, target_duration=1.0):\n",
    "    # Open the input video\n",
    "    cap = cv2.VideoCapture(input_path)\n",
    "\n",
    "    # Get video properties\n",
    "    fps = int(cap.get(cv2.CAP_PROP_FPS))\n",
    "    frame_count = int(cap.get(cv2.CAP_PROP_FRAME_COUNT))\n",
    "\n",
    "    # Calculate the current duration of the video\n",
    "    video_duration = frame_count / fps\n",
    "\n",
    "    # Calculate the speed factor needed to make the video last approximately 1 second\n",
    "    speed_factor = video_duration / target_duration\n",
    "\n",
    "    # Release video capture\n",
    "    cap.release()\n",
    "\n",
    "    return speed_factor"
   ]
  },
  {
   "cell_type": "code",
   "execution_count": 5,
   "metadata": {},
   "outputs": [],
   "source": [
    "def speed_up_video_larger(input_path, output_path, speed_factor):\n",
    "    # Import video clip\n",
    "    clip = VideoFileClip(input_path)\n",
    "    # Modify the FPS\n",
    "    clip = clip.set_fps(clip.fps * speed_factor)\n",
    "    # Apply speed up\n",
    "    final = clip.fx(vfx.speedx, speed_factor)\n",
    "    # Save video clip\n",
    "    final.write_videofile(output_path)"
   ]
  },
  {
   "cell_type": "code",
   "execution_count": 6,
   "metadata": {},
   "outputs": [],
   "source": [
    "\n",
    "def resize_video(input_path, output_path, target_width, target_height):\n",
    "    # Open the input video\n",
    "    cap = cv2.VideoCapture(input_path)\n",
    "\n",
    "    # Get video properties\n",
    "    fps = int(cap.get(cv2.CAP_PROP_FPS))\n",
    "\n",
    "    # Define codec and create VideoWriter object for the output video\n",
    "    fourcc = cv2.VideoWriter_fourcc(*'XVID')\n",
    "    out = cv2.VideoWriter(output_path, fourcc, fps, (target_width, target_height))\n",
    "\n",
    "    while cap.isOpened():\n",
    "        ret, frame = cap.read()\n",
    "\n",
    "        if not ret:\n",
    "            break\n",
    "\n",
    "        # Resize the frame to the target width and height\n",
    "        resized_frame = cv2.resize(frame, (target_width, target_height))\n",
    "\n",
    "        # Write the resized frame to the output video\n",
    "        out.write(resized_frame)\n",
    "\n",
    "    # Release video capture and writer\n",
    "    cap.release()\n",
    "    out.release()"
   ]
  },
  {
   "cell_type": "code",
   "execution_count": 7,
   "metadata": {},
   "outputs": [],
   "source": [
    "def change_fps(input_path, output_path, target_fps):\n",
    "    if target_fps <= 0:\n",
    "        raise ValueError(\"New FPS must be greater than zero.\")\n",
    "\n",
    "    # Open the input video file\n",
    "    cap = cv2.VideoCapture(input_path)\n",
    "\n",
    "    # Get video properties\n",
    "    fps = int(cap.get(cv2.CAP_PROP_FPS))\n",
    "    total_frames = int(cap.get(cv2.CAP_PROP_FRAME_COUNT))\n",
    "    duration = total_frames / fps\n",
    "\n",
    "    # Calculate the new interval between frames based on the desired FPS\n",
    "    interval = round(fps / target_fps)\n",
    "\n",
    "    # Create a video writer object\n",
    "    fourcc = cv2.VideoWriter_fourcc(*'XVID') # You may need to change the codec based on your system\n",
    "    out = cv2.VideoWriter(output_path, fourcc, target_fps, (int(cap.get(3)), int(cap.get(4))))\n",
    "\n",
    "    frame_count = 0\n",
    "    while True:\n",
    "        ret, frame = cap.read()\n",
    "        if not ret:\n",
    "            break\n",
    "\n",
    "        # Write the frame to the output video\n",
    "        if frame_count % interval == 0:\n",
    "            out.write(frame)\n",
    "\n",
    "        frame_count += 1\n",
    "\n",
    "    # Release video objects\n",
    "    cap.release()\n",
    "    out.release()\n",
    "    cv2.destroyAllWindows()"
   ]
  },
  {
   "cell_type": "code",
   "execution_count": 8,
   "metadata": {},
   "outputs": [],
   "source": [
    "def extract_video(video, target, sequence_id, target_width, target_height):\n",
    "    global frames\n",
    "    # For webcam input:\n",
    "    cap = cv2.VideoCapture(video)\n",
    "    # Get video properties\n",
    "    fps = int(cap.get(cv2.CAP_PROP_FPS))\n",
    "    frame_count = int(cap.get(cv2.CAP_PROP_FRAME_COUNT))\n",
    "\n",
    "    # Calculate the current duration of the video\n",
    "    video_duration = frame_count / fps\n",
    "\n",
    "    print('-' * 20)\n",
    "    print(\"FPS: \", fps, \" VIDEO DURATION: \", video_duration)\n",
    "    print('-' * 20)\n",
    "\n",
    "    \n",
    "    while cap.isOpened():\n",
    "        ret, frame = cap.read()\n",
    "        if not ret:\n",
    "            break\n",
    "        \n",
    "        # Convert the BGR frame to RGB\n",
    "        rgb_frame = cv2.cvtColor(frame, cv2.COLOR_BGR2RGB)\n",
    "        \n",
    "        # Process the frame with the hand tracking model\n",
    "        results = hands.process(rgb_frame)\n",
    "        \n",
    "        if results.multi_hand_landmarks:\n",
    "            row_data = {\n",
    "                \"sequence_id\": sequence_id,\n",
    "                \"target\": target\n",
    "            }\n",
    "            detected_hands = []\n",
    "            for idx, landmarks in enumerate(results.multi_hand_landmarks):\n",
    "                # Iterate through detected hand landmarks\n",
    "                for landmark_idx, landmark in enumerate(landmarks.landmark):\n",
    "                    x, y = landmark.x * frame.shape[1], landmark.y * frame.shape[0]\n",
    "                    \n",
    "                    # Determine hand side based on the index of the hand in the list\n",
    "                    if idx == 0:\n",
    "                        hand_side = \"Left\"\n",
    "                    else:\n",
    "                        hand_side = \"Right\"\n",
    "                    \n",
    "                    row_data[f'x_{hand_side}_hand_{landmark_idx}'] =  x / target_width\n",
    "                    row_data[f'y_{hand_side}_hand_{landmark_idx}'] =  y / target_height\n",
    "\n",
    "                    detected_hands.append(hand_side)\n",
    "\n",
    "                    # Draw circles on the frame\n",
    "                    cv2.circle(frame, (int(x), int(y)), 5, (0, 255, 0), -1)\n",
    "                    cv2.putText(frame, hand_side, (10, 30), cv2.FONT_HERSHEY_SIMPLEX, 1, (0, 0, 255), 2)\n",
    "            \n",
    "            frames.append(row_data)\n",
    "        cv2.imshow('Hand Tracking', frame)\n",
    "        \n",
    "        if cv2.waitKey(1) & 0xFF == ord('q'):\n",
    "            break\n",
    "\n",
    "    cap.release()\n",
    "    cv2.destroyAllWindows()"
   ]
  },
  {
   "cell_type": "code",
   "execution_count": 9,
   "metadata": {},
   "outputs": [
    {
     "name": "stdout",
     "output_type": "stream",
     "text": [
      "Moviepy - Building video D:\\Documents\\Trabajo\\megaproyecto_model\\data/asl_preprocessing/speed_output.mp4.\n",
      "MoviePy - Writing audio in speed_outputTEMP_MPY_wvf_snd.mp3\n"
     ]
    },
    {
     "name": "stderr",
     "output_type": "stream",
     "text": [
      "                                                       \r"
     ]
    },
    {
     "name": "stdout",
     "output_type": "stream",
     "text": [
      "MoviePy - Done.\n",
      "Moviepy - Writing video D:\\Documents\\Trabajo\\megaproyecto_model\\data/asl_preprocessing/speed_output.mp4\n",
      "\n"
     ]
    },
    {
     "name": "stderr",
     "output_type": "stream",
     "text": [
      "                                                            \r"
     ]
    },
    {
     "name": "stdout",
     "output_type": "stream",
     "text": [
      "Moviepy - Done !\n",
      "Moviepy - video ready D:\\Documents\\Trabajo\\megaproyecto_model\\data/asl_preprocessing/speed_output.mp4\n",
      "--------------------\n",
      "FPS:  30  VIDEO DURATION:  1.2666666666666666\n",
      "--------------------\n",
      "Moviepy - Building video D:\\Documents\\Trabajo\\megaproyecto_model\\data/asl_preprocessing/speed_output.mp4.\n",
      "MoviePy - Writing audio in speed_outputTEMP_MPY_wvf_snd.mp3\n"
     ]
    },
    {
     "name": "stderr",
     "output_type": "stream",
     "text": [
      "                                                       \r"
     ]
    },
    {
     "name": "stdout",
     "output_type": "stream",
     "text": [
      "MoviePy - Done.\n",
      "Moviepy - Writing video D:\\Documents\\Trabajo\\megaproyecto_model\\data/asl_preprocessing/speed_output.mp4\n",
      "\n"
     ]
    },
    {
     "name": "stderr",
     "output_type": "stream",
     "text": [
      "                                                            \r"
     ]
    },
    {
     "name": "stdout",
     "output_type": "stream",
     "text": [
      "Moviepy - Done !\n",
      "Moviepy - video ready D:\\Documents\\Trabajo\\megaproyecto_model\\data/asl_preprocessing/speed_output.mp4\n",
      "--------------------\n",
      "FPS:  30  VIDEO DURATION:  1.2333333333333334\n",
      "--------------------\n",
      "Moviepy - Building video D:\\Documents\\Trabajo\\megaproyecto_model\\data/asl_preprocessing/speed_output.mp4.\n",
      "MoviePy - Writing audio in speed_outputTEMP_MPY_wvf_snd.mp3\n"
     ]
    },
    {
     "name": "stderr",
     "output_type": "stream",
     "text": [
      "                                                       \r"
     ]
    },
    {
     "name": "stdout",
     "output_type": "stream",
     "text": [
      "MoviePy - Done.\n",
      "Moviepy - Writing video D:\\Documents\\Trabajo\\megaproyecto_model\\data/asl_preprocessing/speed_output.mp4\n",
      "\n"
     ]
    },
    {
     "name": "stderr",
     "output_type": "stream",
     "text": [
      "                                                            \r"
     ]
    },
    {
     "name": "stdout",
     "output_type": "stream",
     "text": [
      "Moviepy - Done !\n",
      "Moviepy - video ready D:\\Documents\\Trabajo\\megaproyecto_model\\data/asl_preprocessing/speed_output.mp4\n",
      "--------------------\n",
      "FPS:  30  VIDEO DURATION:  0.9333333333333333\n",
      "--------------------\n",
      "Moviepy - Building video D:\\Documents\\Trabajo\\megaproyecto_model\\data/asl_preprocessing/speed_output.mp4.\n",
      "MoviePy - Writing audio in speed_outputTEMP_MPY_wvf_snd.mp3\n"
     ]
    },
    {
     "name": "stderr",
     "output_type": "stream",
     "text": [
      "                                                       \r"
     ]
    },
    {
     "name": "stdout",
     "output_type": "stream",
     "text": [
      "MoviePy - Done.\n",
      "Moviepy - Writing video D:\\Documents\\Trabajo\\megaproyecto_model\\data/asl_preprocessing/speed_output.mp4\n",
      "\n"
     ]
    },
    {
     "name": "stderr",
     "output_type": "stream",
     "text": [
      "                                                              \r"
     ]
    },
    {
     "name": "stdout",
     "output_type": "stream",
     "text": [
      "Moviepy - Done !\n",
      "Moviepy - video ready D:\\Documents\\Trabajo\\megaproyecto_model\\data/asl_preprocessing/speed_output.mp4\n",
      "--------------------\n",
      "FPS:  30  VIDEO DURATION:  1.1333333333333333\n",
      "--------------------\n",
      "Moviepy - Building video D:\\Documents\\Trabajo\\megaproyecto_model\\data/asl_preprocessing/speed_output.mp4.\n",
      "MoviePy - Writing audio in speed_outputTEMP_MPY_wvf_snd.mp3\n"
     ]
    },
    {
     "name": "stderr",
     "output_type": "stream",
     "text": [
      "                                                       \r"
     ]
    },
    {
     "name": "stdout",
     "output_type": "stream",
     "text": [
      "MoviePy - Done.\n",
      "Moviepy - Writing video D:\\Documents\\Trabajo\\megaproyecto_model\\data/asl_preprocessing/speed_output.mp4\n",
      "\n"
     ]
    },
    {
     "name": "stderr",
     "output_type": "stream",
     "text": [
      "                                                            \r"
     ]
    },
    {
     "name": "stdout",
     "output_type": "stream",
     "text": [
      "Moviepy - Done !\n",
      "Moviepy - video ready D:\\Documents\\Trabajo\\megaproyecto_model\\data/asl_preprocessing/speed_output.mp4\n",
      "--------------------\n",
      "FPS:  30  VIDEO DURATION:  0.9333333333333333\n",
      "--------------------\n",
      "Moviepy - Building video D:\\Documents\\Trabajo\\megaproyecto_model\\data/asl_preprocessing/speed_output.mp4.\n",
      "MoviePy - Writing audio in speed_outputTEMP_MPY_wvf_snd.mp3\n"
     ]
    },
    {
     "name": "stderr",
     "output_type": "stream",
     "text": [
      "                                                       \r"
     ]
    },
    {
     "name": "stdout",
     "output_type": "stream",
     "text": [
      "MoviePy - Done.\n",
      "Moviepy - Writing video D:\\Documents\\Trabajo\\megaproyecto_model\\data/asl_preprocessing/speed_output.mp4\n",
      "\n"
     ]
    },
    {
     "name": "stderr",
     "output_type": "stream",
     "text": [
      "                                                            \r"
     ]
    },
    {
     "name": "stdout",
     "output_type": "stream",
     "text": [
      "Moviepy - Done !\n",
      "Moviepy - video ready D:\\Documents\\Trabajo\\megaproyecto_model\\data/asl_preprocessing/speed_output.mp4\n",
      "--------------------\n",
      "FPS:  30  VIDEO DURATION:  0.9\n",
      "--------------------\n",
      "Moviepy - Building video D:\\Documents\\Trabajo\\megaproyecto_model\\data/asl_preprocessing/speed_output.mp4.\n",
      "MoviePy - Writing audio in speed_outputTEMP_MPY_wvf_snd.mp3\n"
     ]
    },
    {
     "name": "stderr",
     "output_type": "stream",
     "text": [
      "                                                       \r"
     ]
    },
    {
     "name": "stdout",
     "output_type": "stream",
     "text": [
      "MoviePy - Done.\n",
      "Moviepy - Writing video D:\\Documents\\Trabajo\\megaproyecto_model\\data/asl_preprocessing/speed_output.mp4\n",
      "\n"
     ]
    },
    {
     "name": "stderr",
     "output_type": "stream",
     "text": [
      "                                                            \r"
     ]
    },
    {
     "name": "stdout",
     "output_type": "stream",
     "text": [
      "Moviepy - Done !\n",
      "Moviepy - video ready D:\\Documents\\Trabajo\\megaproyecto_model\\data/asl_preprocessing/speed_output.mp4\n",
      "--------------------\n",
      "FPS:  30  VIDEO DURATION:  0.9\n",
      "--------------------\n",
      "Moviepy - Building video D:\\Documents\\Trabajo\\megaproyecto_model\\data/asl_preprocessing/speed_output.mp4.\n",
      "MoviePy - Writing audio in speed_outputTEMP_MPY_wvf_snd.mp3\n"
     ]
    },
    {
     "name": "stderr",
     "output_type": "stream",
     "text": [
      "                                                       \r"
     ]
    },
    {
     "name": "stdout",
     "output_type": "stream",
     "text": [
      "MoviePy - Done.\n",
      "Moviepy - Writing video D:\\Documents\\Trabajo\\megaproyecto_model\\data/asl_preprocessing/speed_output.mp4\n",
      "\n"
     ]
    },
    {
     "name": "stderr",
     "output_type": "stream",
     "text": [
      "                                                            \r"
     ]
    },
    {
     "name": "stdout",
     "output_type": "stream",
     "text": [
      "Moviepy - Done !\n",
      "Moviepy - video ready D:\\Documents\\Trabajo\\megaproyecto_model\\data/asl_preprocessing/speed_output.mp4\n",
      "--------------------\n",
      "FPS:  30  VIDEO DURATION:  0.9333333333333333\n",
      "--------------------\n",
      "Moviepy - Building video D:\\Documents\\Trabajo\\megaproyecto_model\\data/asl_preprocessing/speed_output.mp4.\n",
      "MoviePy - Writing audio in speed_outputTEMP_MPY_wvf_snd.mp3\n"
     ]
    },
    {
     "name": "stderr",
     "output_type": "stream",
     "text": [
      "                                                       \r"
     ]
    },
    {
     "name": "stdout",
     "output_type": "stream",
     "text": [
      "MoviePy - Done.\n",
      "Moviepy - Writing video D:\\Documents\\Trabajo\\megaproyecto_model\\data/asl_preprocessing/speed_output.mp4\n",
      "\n"
     ]
    },
    {
     "name": "stderr",
     "output_type": "stream",
     "text": [
      "                                                            \r"
     ]
    },
    {
     "name": "stdout",
     "output_type": "stream",
     "text": [
      "Moviepy - Done !\n",
      "Moviepy - video ready D:\\Documents\\Trabajo\\megaproyecto_model\\data/asl_preprocessing/speed_output.mp4\n",
      "--------------------\n",
      "FPS:  30  VIDEO DURATION:  0.9666666666666667\n",
      "--------------------\n",
      "Moviepy - Building video D:\\Documents\\Trabajo\\megaproyecto_model\\data/asl_preprocessing/speed_output.mp4.\n",
      "MoviePy - Writing audio in speed_outputTEMP_MPY_wvf_snd.mp3\n"
     ]
    },
    {
     "name": "stderr",
     "output_type": "stream",
     "text": [
      "                                                       \r"
     ]
    },
    {
     "name": "stdout",
     "output_type": "stream",
     "text": [
      "MoviePy - Done.\n",
      "Moviepy - Writing video D:\\Documents\\Trabajo\\megaproyecto_model\\data/asl_preprocessing/speed_output.mp4\n",
      "\n"
     ]
    },
    {
     "name": "stderr",
     "output_type": "stream",
     "text": [
      "                                                            \r"
     ]
    },
    {
     "name": "stdout",
     "output_type": "stream",
     "text": [
      "Moviepy - Done !\n",
      "Moviepy - video ready D:\\Documents\\Trabajo\\megaproyecto_model\\data/asl_preprocessing/speed_output.mp4\n",
      "--------------------\n",
      "FPS:  30  VIDEO DURATION:  1.0333333333333334\n",
      "--------------------\n",
      "Moviepy - Building video D:\\Documents\\Trabajo\\megaproyecto_model\\data/asl_preprocessing/speed_output.mp4.\n",
      "MoviePy - Writing audio in speed_outputTEMP_MPY_wvf_snd.mp3\n"
     ]
    },
    {
     "name": "stderr",
     "output_type": "stream",
     "text": [
      "                                                       \r"
     ]
    },
    {
     "name": "stdout",
     "output_type": "stream",
     "text": [
      "MoviePy - Done.\n",
      "Moviepy - Writing video D:\\Documents\\Trabajo\\megaproyecto_model\\data/asl_preprocessing/speed_output.mp4\n",
      "\n"
     ]
    },
    {
     "name": "stderr",
     "output_type": "stream",
     "text": [
      "                                                            \r"
     ]
    },
    {
     "name": "stdout",
     "output_type": "stream",
     "text": [
      "Moviepy - Done !\n",
      "Moviepy - video ready D:\\Documents\\Trabajo\\megaproyecto_model\\data/asl_preprocessing/speed_output.mp4\n",
      "--------------------\n",
      "FPS:  30  VIDEO DURATION:  1.2333333333333334\n",
      "--------------------\n",
      "Moviepy - Building video D:\\Documents\\Trabajo\\megaproyecto_model\\data/asl_preprocessing/speed_output.mp4.\n",
      "MoviePy - Writing audio in speed_outputTEMP_MPY_wvf_snd.mp3\n"
     ]
    },
    {
     "name": "stderr",
     "output_type": "stream",
     "text": [
      "                                                       \r"
     ]
    },
    {
     "name": "stdout",
     "output_type": "stream",
     "text": [
      "MoviePy - Done.\n",
      "Moviepy - Writing video D:\\Documents\\Trabajo\\megaproyecto_model\\data/asl_preprocessing/speed_output.mp4\n",
      "\n"
     ]
    },
    {
     "name": "stderr",
     "output_type": "stream",
     "text": [
      "                                                            \r"
     ]
    },
    {
     "name": "stdout",
     "output_type": "stream",
     "text": [
      "Moviepy - Done !\n",
      "Moviepy - video ready D:\\Documents\\Trabajo\\megaproyecto_model\\data/asl_preprocessing/speed_output.mp4\n",
      "--------------------\n",
      "FPS:  30  VIDEO DURATION:  0.7666666666666667\n",
      "--------------------\n",
      "Moviepy - Building video D:\\Documents\\Trabajo\\megaproyecto_model\\data/asl_preprocessing/speed_output.mp4.\n",
      "MoviePy - Writing audio in speed_outputTEMP_MPY_wvf_snd.mp3\n"
     ]
    },
    {
     "name": "stderr",
     "output_type": "stream",
     "text": [
      "                                                       \r"
     ]
    },
    {
     "name": "stdout",
     "output_type": "stream",
     "text": [
      "MoviePy - Done.\n",
      "Moviepy - Writing video D:\\Documents\\Trabajo\\megaproyecto_model\\data/asl_preprocessing/speed_output.mp4\n",
      "\n"
     ]
    },
    {
     "name": "stderr",
     "output_type": "stream",
     "text": [
      "                                                            \r"
     ]
    },
    {
     "name": "stdout",
     "output_type": "stream",
     "text": [
      "Moviepy - Done !\n",
      "Moviepy - video ready D:\\Documents\\Trabajo\\megaproyecto_model\\data/asl_preprocessing/speed_output.mp4\n",
      "--------------------\n",
      "FPS:  30  VIDEO DURATION:  1.3333333333333333\n",
      "--------------------\n",
      "Moviepy - Building video D:\\Documents\\Trabajo\\megaproyecto_model\\data/asl_preprocessing/speed_output.mp4.\n",
      "MoviePy - Writing audio in speed_outputTEMP_MPY_wvf_snd.mp3\n"
     ]
    },
    {
     "name": "stderr",
     "output_type": "stream",
     "text": [
      "                                                       \r"
     ]
    },
    {
     "name": "stdout",
     "output_type": "stream",
     "text": [
      "MoviePy - Done.\n",
      "Moviepy - Writing video D:\\Documents\\Trabajo\\megaproyecto_model\\data/asl_preprocessing/speed_output.mp4\n",
      "\n"
     ]
    },
    {
     "name": "stderr",
     "output_type": "stream",
     "text": [
      "                                                            \r"
     ]
    },
    {
     "name": "stdout",
     "output_type": "stream",
     "text": [
      "Moviepy - Done !\n",
      "Moviepy - video ready D:\\Documents\\Trabajo\\megaproyecto_model\\data/asl_preprocessing/speed_output.mp4\n",
      "--------------------\n",
      "FPS:  30  VIDEO DURATION:  0.9666666666666667\n",
      "--------------------\n",
      "Moviepy - Building video D:\\Documents\\Trabajo\\megaproyecto_model\\data/asl_preprocessing/speed_output.mp4.\n",
      "MoviePy - Writing audio in speed_outputTEMP_MPY_wvf_snd.mp3\n"
     ]
    },
    {
     "name": "stderr",
     "output_type": "stream",
     "text": [
      "                                                       \r"
     ]
    },
    {
     "name": "stdout",
     "output_type": "stream",
     "text": [
      "MoviePy - Done.\n",
      "Moviepy - Writing video D:\\Documents\\Trabajo\\megaproyecto_model\\data/asl_preprocessing/speed_output.mp4\n",
      "\n"
     ]
    },
    {
     "name": "stderr",
     "output_type": "stream",
     "text": [
      "                                                            \r"
     ]
    },
    {
     "name": "stdout",
     "output_type": "stream",
     "text": [
      "Moviepy - Done !\n",
      "Moviepy - video ready D:\\Documents\\Trabajo\\megaproyecto_model\\data/asl_preprocessing/speed_output.mp4\n",
      "--------------------\n",
      "FPS:  30  VIDEO DURATION:  1.2\n",
      "--------------------\n",
      "Moviepy - Building video D:\\Documents\\Trabajo\\megaproyecto_model\\data/asl_preprocessing/speed_output.mp4.\n",
      "MoviePy - Writing audio in speed_outputTEMP_MPY_wvf_snd.mp3\n"
     ]
    },
    {
     "name": "stderr",
     "output_type": "stream",
     "text": [
      "                                                       \r"
     ]
    },
    {
     "name": "stdout",
     "output_type": "stream",
     "text": [
      "MoviePy - Done.\n",
      "Moviepy - Writing video D:\\Documents\\Trabajo\\megaproyecto_model\\data/asl_preprocessing/speed_output.mp4\n",
      "\n"
     ]
    },
    {
     "name": "stderr",
     "output_type": "stream",
     "text": [
      "                                                            \r"
     ]
    },
    {
     "name": "stdout",
     "output_type": "stream",
     "text": [
      "Moviepy - Done !\n",
      "Moviepy - video ready D:\\Documents\\Trabajo\\megaproyecto_model\\data/asl_preprocessing/speed_output.mp4\n",
      "--------------------\n",
      "FPS:  30  VIDEO DURATION:  0.8666666666666667\n",
      "--------------------\n",
      "Moviepy - Building video D:\\Documents\\Trabajo\\megaproyecto_model\\data/asl_preprocessing/speed_output.mp4.\n",
      "MoviePy - Writing audio in speed_outputTEMP_MPY_wvf_snd.mp3\n"
     ]
    },
    {
     "name": "stderr",
     "output_type": "stream",
     "text": [
      "                                                       \r"
     ]
    },
    {
     "name": "stdout",
     "output_type": "stream",
     "text": [
      "MoviePy - Done.\n",
      "Moviepy - Writing video D:\\Documents\\Trabajo\\megaproyecto_model\\data/asl_preprocessing/speed_output.mp4\n",
      "\n"
     ]
    },
    {
     "name": "stderr",
     "output_type": "stream",
     "text": [
      "                                                              \r"
     ]
    },
    {
     "name": "stdout",
     "output_type": "stream",
     "text": [
      "Moviepy - Done !\n",
      "Moviepy - video ready D:\\Documents\\Trabajo\\megaproyecto_model\\data/asl_preprocessing/speed_output.mp4\n",
      "--------------------\n",
      "FPS:  30  VIDEO DURATION:  0.9\n",
      "--------------------\n",
      "Moviepy - Building video D:\\Documents\\Trabajo\\megaproyecto_model\\data/asl_preprocessing/speed_output.mp4.\n",
      "MoviePy - Writing audio in speed_outputTEMP_MPY_wvf_snd.mp3\n"
     ]
    },
    {
     "name": "stderr",
     "output_type": "stream",
     "text": [
      "                                                       \r"
     ]
    },
    {
     "name": "stdout",
     "output_type": "stream",
     "text": [
      "MoviePy - Done.\n",
      "Moviepy - Writing video D:\\Documents\\Trabajo\\megaproyecto_model\\data/asl_preprocessing/speed_output.mp4\n",
      "\n"
     ]
    },
    {
     "name": "stderr",
     "output_type": "stream",
     "text": [
      "                                                            \r"
     ]
    },
    {
     "name": "stdout",
     "output_type": "stream",
     "text": [
      "Moviepy - Done !\n",
      "Moviepy - video ready D:\\Documents\\Trabajo\\megaproyecto_model\\data/asl_preprocessing/speed_output.mp4\n",
      "--------------------\n",
      "FPS:  30  VIDEO DURATION:  0.8666666666666667\n",
      "--------------------\n",
      "Moviepy - Building video D:\\Documents\\Trabajo\\megaproyecto_model\\data/asl_preprocessing/speed_output.mp4.\n",
      "MoviePy - Writing audio in speed_outputTEMP_MPY_wvf_snd.mp3\n"
     ]
    },
    {
     "name": "stderr",
     "output_type": "stream",
     "text": [
      "                                                       \r"
     ]
    },
    {
     "name": "stdout",
     "output_type": "stream",
     "text": [
      "MoviePy - Done.\n",
      "Moviepy - Writing video D:\\Documents\\Trabajo\\megaproyecto_model\\data/asl_preprocessing/speed_output.mp4\n",
      "\n"
     ]
    },
    {
     "name": "stderr",
     "output_type": "stream",
     "text": [
      "                                                            \r"
     ]
    },
    {
     "name": "stdout",
     "output_type": "stream",
     "text": [
      "Moviepy - Done !\n",
      "Moviepy - video ready D:\\Documents\\Trabajo\\megaproyecto_model\\data/asl_preprocessing/speed_output.mp4\n",
      "--------------------\n",
      "FPS:  30  VIDEO DURATION:  1.2666666666666666\n",
      "--------------------\n",
      "Moviepy - Building video D:\\Documents\\Trabajo\\megaproyecto_model\\data/asl_preprocessing/speed_output.mp4.\n",
      "MoviePy - Writing audio in speed_outputTEMP_MPY_wvf_snd.mp3\n"
     ]
    },
    {
     "name": "stderr",
     "output_type": "stream",
     "text": [
      "                                                       \r"
     ]
    },
    {
     "name": "stdout",
     "output_type": "stream",
     "text": [
      "MoviePy - Done.\n",
      "Moviepy - Writing video D:\\Documents\\Trabajo\\megaproyecto_model\\data/asl_preprocessing/speed_output.mp4\n",
      "\n"
     ]
    },
    {
     "name": "stderr",
     "output_type": "stream",
     "text": [
      "                                                              \r"
     ]
    },
    {
     "name": "stdout",
     "output_type": "stream",
     "text": [
      "Moviepy - Done !\n",
      "Moviepy - video ready D:\\Documents\\Trabajo\\megaproyecto_model\\data/asl_preprocessing/speed_output.mp4\n",
      "--------------------\n",
      "FPS:  30  VIDEO DURATION:  1.1\n",
      "--------------------\n",
      "Moviepy - Building video D:\\Documents\\Trabajo\\megaproyecto_model\\data/asl_preprocessing/speed_output.mp4.\n",
      "MoviePy - Writing audio in speed_outputTEMP_MPY_wvf_snd.mp3\n"
     ]
    },
    {
     "name": "stderr",
     "output_type": "stream",
     "text": [
      "                                                       \r"
     ]
    },
    {
     "name": "stdout",
     "output_type": "stream",
     "text": [
      "MoviePy - Done.\n",
      "Moviepy - Writing video D:\\Documents\\Trabajo\\megaproyecto_model\\data/asl_preprocessing/speed_output.mp4\n",
      "\n"
     ]
    },
    {
     "name": "stderr",
     "output_type": "stream",
     "text": [
      "                                                            \r"
     ]
    },
    {
     "name": "stdout",
     "output_type": "stream",
     "text": [
      "Moviepy - Done !\n",
      "Moviepy - video ready D:\\Documents\\Trabajo\\megaproyecto_model\\data/asl_preprocessing/speed_output.mp4\n",
      "--------------------\n",
      "FPS:  30  VIDEO DURATION:  0.9666666666666667\n",
      "--------------------\n",
      "Moviepy - Building video D:\\Documents\\Trabajo\\megaproyecto_model\\data/asl_preprocessing/speed_output.mp4.\n",
      "MoviePy - Writing audio in speed_outputTEMP_MPY_wvf_snd.mp3\n"
     ]
    },
    {
     "name": "stderr",
     "output_type": "stream",
     "text": [
      "                                                       \r"
     ]
    },
    {
     "name": "stdout",
     "output_type": "stream",
     "text": [
      "MoviePy - Done.\n",
      "Moviepy - Writing video D:\\Documents\\Trabajo\\megaproyecto_model\\data/asl_preprocessing/speed_output.mp4\n",
      "\n"
     ]
    },
    {
     "name": "stderr",
     "output_type": "stream",
     "text": [
      "                                                            \r"
     ]
    },
    {
     "name": "stdout",
     "output_type": "stream",
     "text": [
      "Moviepy - Done !\n",
      "Moviepy - video ready D:\\Documents\\Trabajo\\megaproyecto_model\\data/asl_preprocessing/speed_output.mp4\n",
      "--------------------\n",
      "FPS:  30  VIDEO DURATION:  0.9666666666666667\n",
      "--------------------\n",
      "Moviepy - Building video D:\\Documents\\Trabajo\\megaproyecto_model\\data/asl_preprocessing/speed_output.mp4.\n",
      "MoviePy - Writing audio in speed_outputTEMP_MPY_wvf_snd.mp3\n"
     ]
    },
    {
     "name": "stderr",
     "output_type": "stream",
     "text": [
      "                                                       \r"
     ]
    },
    {
     "name": "stdout",
     "output_type": "stream",
     "text": [
      "MoviePy - Done.\n",
      "Moviepy - Writing video D:\\Documents\\Trabajo\\megaproyecto_model\\data/asl_preprocessing/speed_output.mp4\n",
      "\n"
     ]
    },
    {
     "name": "stderr",
     "output_type": "stream",
     "text": [
      "                                                            \r"
     ]
    },
    {
     "name": "stdout",
     "output_type": "stream",
     "text": [
      "Moviepy - Done !\n",
      "Moviepy - video ready D:\\Documents\\Trabajo\\megaproyecto_model\\data/asl_preprocessing/speed_output.mp4\n",
      "--------------------\n",
      "FPS:  30  VIDEO DURATION:  1.2666666666666666\n",
      "--------------------\n",
      "Moviepy - Building video D:\\Documents\\Trabajo\\megaproyecto_model\\data/asl_preprocessing/speed_output.mp4.\n",
      "MoviePy - Writing audio in speed_outputTEMP_MPY_wvf_snd.mp3\n"
     ]
    },
    {
     "name": "stderr",
     "output_type": "stream",
     "text": [
      "                                                       \r"
     ]
    },
    {
     "name": "stdout",
     "output_type": "stream",
     "text": [
      "MoviePy - Done.\n",
      "Moviepy - Writing video D:\\Documents\\Trabajo\\megaproyecto_model\\data/asl_preprocessing/speed_output.mp4\n",
      "\n"
     ]
    },
    {
     "name": "stderr",
     "output_type": "stream",
     "text": [
      "                                                            \r"
     ]
    },
    {
     "name": "stdout",
     "output_type": "stream",
     "text": [
      "Moviepy - Done !\n",
      "Moviepy - video ready D:\\Documents\\Trabajo\\megaproyecto_model\\data/asl_preprocessing/speed_output.mp4\n",
      "--------------------\n",
      "FPS:  30  VIDEO DURATION:  0.9333333333333333\n",
      "--------------------\n",
      "Moviepy - Building video D:\\Documents\\Trabajo\\megaproyecto_model\\data/asl_preprocessing/speed_output.mp4.\n",
      "MoviePy - Writing audio in speed_outputTEMP_MPY_wvf_snd.mp3\n"
     ]
    },
    {
     "name": "stderr",
     "output_type": "stream",
     "text": [
      "                                                       \r"
     ]
    },
    {
     "name": "stdout",
     "output_type": "stream",
     "text": [
      "MoviePy - Done.\n",
      "Moviepy - Writing video D:\\Documents\\Trabajo\\megaproyecto_model\\data/asl_preprocessing/speed_output.mp4\n",
      "\n"
     ]
    },
    {
     "name": "stderr",
     "output_type": "stream",
     "text": [
      "                                                            \r"
     ]
    },
    {
     "name": "stdout",
     "output_type": "stream",
     "text": [
      "Moviepy - Done !\n",
      "Moviepy - video ready D:\\Documents\\Trabajo\\megaproyecto_model\\data/asl_preprocessing/speed_output.mp4\n",
      "--------------------\n",
      "FPS:  30  VIDEO DURATION:  0.8666666666666667\n",
      "--------------------\n",
      "Moviepy - Building video D:\\Documents\\Trabajo\\megaproyecto_model\\data/asl_preprocessing/speed_output.mp4.\n",
      "MoviePy - Writing audio in speed_outputTEMP_MPY_wvf_snd.mp3\n"
     ]
    },
    {
     "name": "stderr",
     "output_type": "stream",
     "text": [
      "                                                       \r"
     ]
    },
    {
     "name": "stdout",
     "output_type": "stream",
     "text": [
      "MoviePy - Done.\n",
      "Moviepy - Writing video D:\\Documents\\Trabajo\\megaproyecto_model\\data/asl_preprocessing/speed_output.mp4\n",
      "\n"
     ]
    },
    {
     "name": "stderr",
     "output_type": "stream",
     "text": [
      "                                                            \r"
     ]
    },
    {
     "name": "stdout",
     "output_type": "stream",
     "text": [
      "Moviepy - Done !\n",
      "Moviepy - video ready D:\\Documents\\Trabajo\\megaproyecto_model\\data/asl_preprocessing/speed_output.mp4\n",
      "--------------------\n",
      "FPS:  30  VIDEO DURATION:  1.1666666666666667\n",
      "--------------------\n",
      "Moviepy - Building video D:\\Documents\\Trabajo\\megaproyecto_model\\data/asl_preprocessing/speed_output.mp4.\n",
      "MoviePy - Writing audio in speed_outputTEMP_MPY_wvf_snd.mp3\n"
     ]
    },
    {
     "name": "stderr",
     "output_type": "stream",
     "text": [
      "                                                       \r"
     ]
    },
    {
     "name": "stdout",
     "output_type": "stream",
     "text": [
      "MoviePy - Done.\n",
      "Moviepy - Writing video D:\\Documents\\Trabajo\\megaproyecto_model\\data/asl_preprocessing/speed_output.mp4\n",
      "\n"
     ]
    },
    {
     "name": "stderr",
     "output_type": "stream",
     "text": [
      "                                                            \r"
     ]
    },
    {
     "name": "stdout",
     "output_type": "stream",
     "text": [
      "Moviepy - Done !\n",
      "Moviepy - video ready D:\\Documents\\Trabajo\\megaproyecto_model\\data/asl_preprocessing/speed_output.mp4\n",
      "--------------------\n",
      "FPS:  30  VIDEO DURATION:  1.0666666666666667\n",
      "--------------------\n",
      "Moviepy - Building video D:\\Documents\\Trabajo\\megaproyecto_model\\data/asl_preprocessing/speed_output.mp4.\n",
      "MoviePy - Writing audio in speed_outputTEMP_MPY_wvf_snd.mp3\n"
     ]
    },
    {
     "name": "stderr",
     "output_type": "stream",
     "text": [
      "                                                       \r"
     ]
    },
    {
     "name": "stdout",
     "output_type": "stream",
     "text": [
      "MoviePy - Done.\n",
      "Moviepy - Writing video D:\\Documents\\Trabajo\\megaproyecto_model\\data/asl_preprocessing/speed_output.mp4\n",
      "\n"
     ]
    },
    {
     "name": "stderr",
     "output_type": "stream",
     "text": [
      "                                                            \r"
     ]
    },
    {
     "name": "stdout",
     "output_type": "stream",
     "text": [
      "Moviepy - Done !\n",
      "Moviepy - video ready D:\\Documents\\Trabajo\\megaproyecto_model\\data/asl_preprocessing/speed_output.mp4\n",
      "--------------------\n",
      "FPS:  30  VIDEO DURATION:  1.2666666666666666\n",
      "--------------------\n",
      "Moviepy - Building video D:\\Documents\\Trabajo\\megaproyecto_model\\data/asl_preprocessing/speed_output.mp4.\n",
      "MoviePy - Writing audio in speed_outputTEMP_MPY_wvf_snd.mp3\n"
     ]
    },
    {
     "name": "stderr",
     "output_type": "stream",
     "text": [
      "                                                       \r"
     ]
    },
    {
     "name": "stdout",
     "output_type": "stream",
     "text": [
      "MoviePy - Done.\n",
      "Moviepy - Writing video D:\\Documents\\Trabajo\\megaproyecto_model\\data/asl_preprocessing/speed_output.mp4\n",
      "\n"
     ]
    },
    {
     "name": "stderr",
     "output_type": "stream",
     "text": [
      "                                                              \r"
     ]
    },
    {
     "name": "stdout",
     "output_type": "stream",
     "text": [
      "Moviepy - Done !\n",
      "Moviepy - video ready D:\\Documents\\Trabajo\\megaproyecto_model\\data/asl_preprocessing/speed_output.mp4\n",
      "--------------------\n",
      "FPS:  30  VIDEO DURATION:  1.1\n",
      "--------------------\n",
      "Moviepy - Building video D:\\Documents\\Trabajo\\megaproyecto_model\\data/asl_preprocessing/speed_output.mp4.\n",
      "MoviePy - Writing audio in speed_outputTEMP_MPY_wvf_snd.mp3\n"
     ]
    },
    {
     "name": "stderr",
     "output_type": "stream",
     "text": [
      "                                                       \r"
     ]
    },
    {
     "name": "stdout",
     "output_type": "stream",
     "text": [
      "MoviePy - Done.\n",
      "Moviepy - Writing video D:\\Documents\\Trabajo\\megaproyecto_model\\data/asl_preprocessing/speed_output.mp4\n",
      "\n"
     ]
    },
    {
     "name": "stderr",
     "output_type": "stream",
     "text": [
      "                                                            \r"
     ]
    },
    {
     "name": "stdout",
     "output_type": "stream",
     "text": [
      "Moviepy - Done !\n",
      "Moviepy - video ready D:\\Documents\\Trabajo\\megaproyecto_model\\data/asl_preprocessing/speed_output.mp4\n",
      "--------------------\n",
      "FPS:  30  VIDEO DURATION:  1.2333333333333334\n",
      "--------------------\n",
      "Moviepy - Building video D:\\Documents\\Trabajo\\megaproyecto_model\\data/asl_preprocessing/speed_output.mp4.\n",
      "MoviePy - Writing audio in speed_outputTEMP_MPY_wvf_snd.mp3\n"
     ]
    },
    {
     "name": "stderr",
     "output_type": "stream",
     "text": [
      "                                                       \r"
     ]
    },
    {
     "name": "stdout",
     "output_type": "stream",
     "text": [
      "MoviePy - Done.\n",
      "Moviepy - Writing video D:\\Documents\\Trabajo\\megaproyecto_model\\data/asl_preprocessing/speed_output.mp4\n",
      "\n"
     ]
    },
    {
     "name": "stderr",
     "output_type": "stream",
     "text": [
      "                                                              \r"
     ]
    },
    {
     "name": "stdout",
     "output_type": "stream",
     "text": [
      "Moviepy - Done !\n",
      "Moviepy - video ready D:\\Documents\\Trabajo\\megaproyecto_model\\data/asl_preprocessing/speed_output.mp4\n",
      "--------------------\n",
      "FPS:  30  VIDEO DURATION:  0.9333333333333333\n",
      "--------------------\n",
      "Moviepy - Building video D:\\Documents\\Trabajo\\megaproyecto_model\\data/asl_preprocessing/speed_output.mp4.\n",
      "MoviePy - Writing audio in speed_outputTEMP_MPY_wvf_snd.mp3\n"
     ]
    },
    {
     "name": "stderr",
     "output_type": "stream",
     "text": [
      "                                                       \r"
     ]
    },
    {
     "name": "stdout",
     "output_type": "stream",
     "text": [
      "MoviePy - Done.\n",
      "Moviepy - Writing video D:\\Documents\\Trabajo\\megaproyecto_model\\data/asl_preprocessing/speed_output.mp4\n",
      "\n"
     ]
    },
    {
     "name": "stderr",
     "output_type": "stream",
     "text": [
      "                                                            \r"
     ]
    },
    {
     "name": "stdout",
     "output_type": "stream",
     "text": [
      "Moviepy - Done !\n",
      "Moviepy - video ready D:\\Documents\\Trabajo\\megaproyecto_model\\data/asl_preprocessing/speed_output.mp4\n",
      "--------------------\n",
      "FPS:  30  VIDEO DURATION:  0.9\n",
      "--------------------\n",
      "Moviepy - Building video D:\\Documents\\Trabajo\\megaproyecto_model\\data/asl_preprocessing/speed_output.mp4.\n",
      "MoviePy - Writing audio in speed_outputTEMP_MPY_wvf_snd.mp3\n"
     ]
    },
    {
     "name": "stderr",
     "output_type": "stream",
     "text": [
      "                                                       \r"
     ]
    },
    {
     "name": "stdout",
     "output_type": "stream",
     "text": [
      "MoviePy - Done.\n",
      "Moviepy - Writing video D:\\Documents\\Trabajo\\megaproyecto_model\\data/asl_preprocessing/speed_output.mp4\n",
      "\n"
     ]
    },
    {
     "name": "stderr",
     "output_type": "stream",
     "text": [
      "                                                              \r"
     ]
    },
    {
     "name": "stdout",
     "output_type": "stream",
     "text": [
      "Moviepy - Done !\n",
      "Moviepy - video ready D:\\Documents\\Trabajo\\megaproyecto_model\\data/asl_preprocessing/speed_output.mp4\n",
      "--------------------\n",
      "FPS:  30  VIDEO DURATION:  1.0333333333333334\n",
      "--------------------\n",
      "Moviepy - Building video D:\\Documents\\Trabajo\\megaproyecto_model\\data/asl_preprocessing/speed_output.mp4.\n",
      "MoviePy - Writing audio in speed_outputTEMP_MPY_wvf_snd.mp3\n"
     ]
    },
    {
     "name": "stderr",
     "output_type": "stream",
     "text": [
      "                                                       \r"
     ]
    },
    {
     "name": "stdout",
     "output_type": "stream",
     "text": [
      "MoviePy - Done.\n",
      "Moviepy - Writing video D:\\Documents\\Trabajo\\megaproyecto_model\\data/asl_preprocessing/speed_output.mp4\n",
      "\n"
     ]
    },
    {
     "name": "stderr",
     "output_type": "stream",
     "text": [
      "                                                              \r"
     ]
    },
    {
     "name": "stdout",
     "output_type": "stream",
     "text": [
      "Moviepy - Done !\n",
      "Moviepy - video ready D:\\Documents\\Trabajo\\megaproyecto_model\\data/asl_preprocessing/speed_output.mp4\n",
      "--------------------\n",
      "FPS:  30  VIDEO DURATION:  1.0\n",
      "--------------------\n",
      "Moviepy - Building video D:\\Documents\\Trabajo\\megaproyecto_model\\data/asl_preprocessing/speed_output.mp4.\n",
      "MoviePy - Writing audio in speed_outputTEMP_MPY_wvf_snd.mp3\n"
     ]
    },
    {
     "name": "stderr",
     "output_type": "stream",
     "text": [
      "                                                       \r"
     ]
    },
    {
     "name": "stdout",
     "output_type": "stream",
     "text": [
      "MoviePy - Done.\n",
      "Moviepy - Writing video D:\\Documents\\Trabajo\\megaproyecto_model\\data/asl_preprocessing/speed_output.mp4\n",
      "\n"
     ]
    },
    {
     "name": "stderr",
     "output_type": "stream",
     "text": [
      "                                                              \r"
     ]
    },
    {
     "name": "stdout",
     "output_type": "stream",
     "text": [
      "Moviepy - Done !\n",
      "Moviepy - video ready D:\\Documents\\Trabajo\\megaproyecto_model\\data/asl_preprocessing/speed_output.mp4\n",
      "--------------------\n",
      "FPS:  30  VIDEO DURATION:  0.9666666666666667\n",
      "--------------------\n",
      "Moviepy - Building video D:\\Documents\\Trabajo\\megaproyecto_model\\data/asl_preprocessing/speed_output.mp4.\n",
      "MoviePy - Writing audio in speed_outputTEMP_MPY_wvf_snd.mp3\n"
     ]
    },
    {
     "name": "stderr",
     "output_type": "stream",
     "text": [
      "                                                       \r"
     ]
    },
    {
     "name": "stdout",
     "output_type": "stream",
     "text": [
      "MoviePy - Done.\n",
      "Moviepy - Writing video D:\\Documents\\Trabajo\\megaproyecto_model\\data/asl_preprocessing/speed_output.mp4\n",
      "\n"
     ]
    },
    {
     "name": "stderr",
     "output_type": "stream",
     "text": [
      "                                                              \r"
     ]
    },
    {
     "name": "stdout",
     "output_type": "stream",
     "text": [
      "Moviepy - Done !\n",
      "Moviepy - video ready D:\\Documents\\Trabajo\\megaproyecto_model\\data/asl_preprocessing/speed_output.mp4\n",
      "--------------------\n",
      "FPS:  30  VIDEO DURATION:  1.0333333333333334\n",
      "--------------------\n",
      "Moviepy - Building video D:\\Documents\\Trabajo\\megaproyecto_model\\data/asl_preprocessing/speed_output.mp4.\n",
      "MoviePy - Writing audio in speed_outputTEMP_MPY_wvf_snd.mp3\n"
     ]
    },
    {
     "name": "stderr",
     "output_type": "stream",
     "text": [
      "                                                       \r"
     ]
    },
    {
     "name": "stdout",
     "output_type": "stream",
     "text": [
      "MoviePy - Done.\n",
      "Moviepy - Writing video D:\\Documents\\Trabajo\\megaproyecto_model\\data/asl_preprocessing/speed_output.mp4\n",
      "\n"
     ]
    },
    {
     "name": "stderr",
     "output_type": "stream",
     "text": [
      "                                                              \r"
     ]
    },
    {
     "name": "stdout",
     "output_type": "stream",
     "text": [
      "Moviepy - Done !\n",
      "Moviepy - video ready D:\\Documents\\Trabajo\\megaproyecto_model\\data/asl_preprocessing/speed_output.mp4\n",
      "--------------------\n",
      "FPS:  30  VIDEO DURATION:  1.0\n",
      "--------------------\n",
      "Moviepy - Building video D:\\Documents\\Trabajo\\megaproyecto_model\\data/asl_preprocessing/speed_output.mp4.\n",
      "MoviePy - Writing audio in speed_outputTEMP_MPY_wvf_snd.mp3\n"
     ]
    },
    {
     "name": "stderr",
     "output_type": "stream",
     "text": [
      "                                                       \r"
     ]
    },
    {
     "name": "stdout",
     "output_type": "stream",
     "text": [
      "MoviePy - Done.\n",
      "Moviepy - Writing video D:\\Documents\\Trabajo\\megaproyecto_model\\data/asl_preprocessing/speed_output.mp4\n",
      "\n"
     ]
    },
    {
     "name": "stderr",
     "output_type": "stream",
     "text": [
      "                                                              \r"
     ]
    },
    {
     "name": "stdout",
     "output_type": "stream",
     "text": [
      "Moviepy - Done !\n",
      "Moviepy - video ready D:\\Documents\\Trabajo\\megaproyecto_model\\data/asl_preprocessing/speed_output.mp4\n",
      "--------------------\n",
      "FPS:  30  VIDEO DURATION:  1.0333333333333334\n",
      "--------------------\n",
      "Moviepy - Building video D:\\Documents\\Trabajo\\megaproyecto_model\\data/asl_preprocessing/speed_output.mp4.\n",
      "MoviePy - Writing audio in speed_outputTEMP_MPY_wvf_snd.mp3\n"
     ]
    },
    {
     "name": "stderr",
     "output_type": "stream",
     "text": [
      "                                                       \r"
     ]
    },
    {
     "name": "stdout",
     "output_type": "stream",
     "text": [
      "MoviePy - Done.\n",
      "Moviepy - Writing video D:\\Documents\\Trabajo\\megaproyecto_model\\data/asl_preprocessing/speed_output.mp4\n",
      "\n"
     ]
    },
    {
     "name": "stderr",
     "output_type": "stream",
     "text": [
      "                                                              \r"
     ]
    },
    {
     "name": "stdout",
     "output_type": "stream",
     "text": [
      "Moviepy - Done !\n",
      "Moviepy - video ready D:\\Documents\\Trabajo\\megaproyecto_model\\data/asl_preprocessing/speed_output.mp4\n",
      "--------------------\n",
      "FPS:  30  VIDEO DURATION:  1.1\n",
      "--------------------\n",
      "Moviepy - Building video D:\\Documents\\Trabajo\\megaproyecto_model\\data/asl_preprocessing/speed_output.mp4.\n",
      "MoviePy - Writing audio in speed_outputTEMP_MPY_wvf_snd.mp3\n"
     ]
    },
    {
     "name": "stderr",
     "output_type": "stream",
     "text": [
      "                                                       \r"
     ]
    },
    {
     "name": "stdout",
     "output_type": "stream",
     "text": [
      "MoviePy - Done.\n",
      "Moviepy - Writing video D:\\Documents\\Trabajo\\megaproyecto_model\\data/asl_preprocessing/speed_output.mp4\n",
      "\n"
     ]
    },
    {
     "name": "stderr",
     "output_type": "stream",
     "text": [
      "                                                            \r"
     ]
    },
    {
     "name": "stdout",
     "output_type": "stream",
     "text": [
      "Moviepy - Done !\n",
      "Moviepy - video ready D:\\Documents\\Trabajo\\megaproyecto_model\\data/asl_preprocessing/speed_output.mp4\n",
      "--------------------\n",
      "FPS:  30  VIDEO DURATION:  0.8666666666666667\n",
      "--------------------\n",
      "Moviepy - Building video D:\\Documents\\Trabajo\\megaproyecto_model\\data/asl_preprocessing/speed_output.mp4.\n",
      "MoviePy - Writing audio in speed_outputTEMP_MPY_wvf_snd.mp3\n"
     ]
    },
    {
     "name": "stderr",
     "output_type": "stream",
     "text": [
      "                                                       \r"
     ]
    },
    {
     "name": "stdout",
     "output_type": "stream",
     "text": [
      "MoviePy - Done.\n",
      "Moviepy - Writing video D:\\Documents\\Trabajo\\megaproyecto_model\\data/asl_preprocessing/speed_output.mp4\n",
      "\n"
     ]
    },
    {
     "name": "stderr",
     "output_type": "stream",
     "text": [
      "                                                            \r"
     ]
    },
    {
     "name": "stdout",
     "output_type": "stream",
     "text": [
      "Moviepy - Done !\n",
      "Moviepy - video ready D:\\Documents\\Trabajo\\megaproyecto_model\\data/asl_preprocessing/speed_output.mp4\n",
      "--------------------\n",
      "FPS:  30  VIDEO DURATION:  0.8666666666666667\n",
      "--------------------\n",
      "Moviepy - Building video D:\\Documents\\Trabajo\\megaproyecto_model\\data/asl_preprocessing/speed_output.mp4.\n",
      "MoviePy - Writing audio in speed_outputTEMP_MPY_wvf_snd.mp3\n"
     ]
    },
    {
     "name": "stderr",
     "output_type": "stream",
     "text": [
      "                                                       \r"
     ]
    },
    {
     "name": "stdout",
     "output_type": "stream",
     "text": [
      "MoviePy - Done.\n",
      "Moviepy - Writing video D:\\Documents\\Trabajo\\megaproyecto_model\\data/asl_preprocessing/speed_output.mp4\n",
      "\n"
     ]
    },
    {
     "name": "stderr",
     "output_type": "stream",
     "text": [
      "                                                            \r"
     ]
    },
    {
     "name": "stdout",
     "output_type": "stream",
     "text": [
      "Moviepy - Done !\n",
      "Moviepy - video ready D:\\Documents\\Trabajo\\megaproyecto_model\\data/asl_preprocessing/speed_output.mp4\n",
      "--------------------\n",
      "FPS:  30  VIDEO DURATION:  1.0\n",
      "--------------------\n",
      "Moviepy - Building video D:\\Documents\\Trabajo\\megaproyecto_model\\data/asl_preprocessing/speed_output.mp4.\n",
      "MoviePy - Writing audio in speed_outputTEMP_MPY_wvf_snd.mp3\n"
     ]
    },
    {
     "name": "stderr",
     "output_type": "stream",
     "text": [
      "                                                       \r"
     ]
    },
    {
     "name": "stdout",
     "output_type": "stream",
     "text": [
      "MoviePy - Done.\n",
      "Moviepy - Writing video D:\\Documents\\Trabajo\\megaproyecto_model\\data/asl_preprocessing/speed_output.mp4\n",
      "\n"
     ]
    },
    {
     "name": "stderr",
     "output_type": "stream",
     "text": [
      "                                                              \r"
     ]
    },
    {
     "name": "stdout",
     "output_type": "stream",
     "text": [
      "Moviepy - Done !\n",
      "Moviepy - video ready D:\\Documents\\Trabajo\\megaproyecto_model\\data/asl_preprocessing/speed_output.mp4\n",
      "--------------------\n",
      "FPS:  30  VIDEO DURATION:  1.1\n",
      "--------------------\n",
      "Moviepy - Building video D:\\Documents\\Trabajo\\megaproyecto_model\\data/asl_preprocessing/speed_output.mp4.\n",
      "MoviePy - Writing audio in speed_outputTEMP_MPY_wvf_snd.mp3\n"
     ]
    },
    {
     "name": "stderr",
     "output_type": "stream",
     "text": [
      "                                                       \r"
     ]
    },
    {
     "name": "stdout",
     "output_type": "stream",
     "text": [
      "MoviePy - Done.\n",
      "Moviepy - Writing video D:\\Documents\\Trabajo\\megaproyecto_model\\data/asl_preprocessing/speed_output.mp4\n",
      "\n"
     ]
    },
    {
     "name": "stderr",
     "output_type": "stream",
     "text": [
      "                                                              \r"
     ]
    },
    {
     "name": "stdout",
     "output_type": "stream",
     "text": [
      "Moviepy - Done !\n",
      "Moviepy - video ready D:\\Documents\\Trabajo\\megaproyecto_model\\data/asl_preprocessing/speed_output.mp4\n",
      "--------------------\n",
      "FPS:  30  VIDEO DURATION:  1.1\n",
      "--------------------\n",
      "Moviepy - Building video D:\\Documents\\Trabajo\\megaproyecto_model\\data/asl_preprocessing/speed_output.mp4.\n",
      "MoviePy - Writing audio in speed_outputTEMP_MPY_wvf_snd.mp3\n"
     ]
    },
    {
     "name": "stderr",
     "output_type": "stream",
     "text": [
      "                                                       \r"
     ]
    },
    {
     "name": "stdout",
     "output_type": "stream",
     "text": [
      "MoviePy - Done.\n",
      "Moviepy - Writing video D:\\Documents\\Trabajo\\megaproyecto_model\\data/asl_preprocessing/speed_output.mp4\n",
      "\n"
     ]
    },
    {
     "name": "stderr",
     "output_type": "stream",
     "text": [
      "                                                              \r"
     ]
    },
    {
     "name": "stdout",
     "output_type": "stream",
     "text": [
      "Moviepy - Done !\n",
      "Moviepy - video ready D:\\Documents\\Trabajo\\megaproyecto_model\\data/asl_preprocessing/speed_output.mp4\n",
      "--------------------\n",
      "FPS:  30  VIDEO DURATION:  1.0\n",
      "--------------------\n",
      "Moviepy - Building video D:\\Documents\\Trabajo\\megaproyecto_model\\data/asl_preprocessing/speed_output.mp4.\n",
      "MoviePy - Writing audio in speed_outputTEMP_MPY_wvf_snd.mp3\n"
     ]
    },
    {
     "name": "stderr",
     "output_type": "stream",
     "text": [
      "                                                       \r"
     ]
    },
    {
     "name": "stdout",
     "output_type": "stream",
     "text": [
      "MoviePy - Done.\n",
      "Moviepy - Writing video D:\\Documents\\Trabajo\\megaproyecto_model\\data/asl_preprocessing/speed_output.mp4\n",
      "\n"
     ]
    },
    {
     "name": "stderr",
     "output_type": "stream",
     "text": [
      "                                                              \r"
     ]
    },
    {
     "name": "stdout",
     "output_type": "stream",
     "text": [
      "Moviepy - Done !\n",
      "Moviepy - video ready D:\\Documents\\Trabajo\\megaproyecto_model\\data/asl_preprocessing/speed_output.mp4\n",
      "--------------------\n",
      "FPS:  30  VIDEO DURATION:  1.0666666666666667\n",
      "--------------------\n",
      "Moviepy - Building video D:\\Documents\\Trabajo\\megaproyecto_model\\data/asl_preprocessing/speed_output.mp4.\n",
      "MoviePy - Writing audio in speed_outputTEMP_MPY_wvf_snd.mp3\n"
     ]
    },
    {
     "name": "stderr",
     "output_type": "stream",
     "text": [
      "                                                       \r"
     ]
    },
    {
     "name": "stdout",
     "output_type": "stream",
     "text": [
      "MoviePy - Done.\n",
      "Moviepy - Writing video D:\\Documents\\Trabajo\\megaproyecto_model\\data/asl_preprocessing/speed_output.mp4\n",
      "\n"
     ]
    },
    {
     "name": "stderr",
     "output_type": "stream",
     "text": [
      "                                                              \r"
     ]
    },
    {
     "name": "stdout",
     "output_type": "stream",
     "text": [
      "Moviepy - Done !\n",
      "Moviepy - video ready D:\\Documents\\Trabajo\\megaproyecto_model\\data/asl_preprocessing/speed_output.mp4\n",
      "--------------------\n",
      "FPS:  30  VIDEO DURATION:  1.0\n",
      "--------------------\n",
      "Moviepy - Building video D:\\Documents\\Trabajo\\megaproyecto_model\\data/asl_preprocessing/speed_output.mp4.\n",
      "MoviePy - Writing audio in speed_outputTEMP_MPY_wvf_snd.mp3\n"
     ]
    },
    {
     "name": "stderr",
     "output_type": "stream",
     "text": [
      "                                                       \r"
     ]
    },
    {
     "name": "stdout",
     "output_type": "stream",
     "text": [
      "MoviePy - Done.\n",
      "Moviepy - Writing video D:\\Documents\\Trabajo\\megaproyecto_model\\data/asl_preprocessing/speed_output.mp4\n",
      "\n"
     ]
    },
    {
     "name": "stderr",
     "output_type": "stream",
     "text": [
      "                                                              \r"
     ]
    },
    {
     "name": "stdout",
     "output_type": "stream",
     "text": [
      "Moviepy - Done !\n",
      "Moviepy - video ready D:\\Documents\\Trabajo\\megaproyecto_model\\data/asl_preprocessing/speed_output.mp4\n",
      "--------------------\n",
      "FPS:  30  VIDEO DURATION:  0.9\n",
      "--------------------\n",
      "Moviepy - Building video D:\\Documents\\Trabajo\\megaproyecto_model\\data/asl_preprocessing/speed_output.mp4.\n",
      "MoviePy - Writing audio in speed_outputTEMP_MPY_wvf_snd.mp3\n"
     ]
    },
    {
     "name": "stderr",
     "output_type": "stream",
     "text": [
      "                                                       \r"
     ]
    },
    {
     "name": "stdout",
     "output_type": "stream",
     "text": [
      "MoviePy - Done.\n",
      "Moviepy - Writing video D:\\Documents\\Trabajo\\megaproyecto_model\\data/asl_preprocessing/speed_output.mp4\n",
      "\n"
     ]
    },
    {
     "name": "stderr",
     "output_type": "stream",
     "text": [
      "                                                              \r"
     ]
    },
    {
     "name": "stdout",
     "output_type": "stream",
     "text": [
      "Moviepy - Done !\n",
      "Moviepy - video ready D:\\Documents\\Trabajo\\megaproyecto_model\\data/asl_preprocessing/speed_output.mp4\n",
      "--------------------\n",
      "FPS:  30  VIDEO DURATION:  1.1333333333333333\n",
      "--------------------\n",
      "Moviepy - Building video D:\\Documents\\Trabajo\\megaproyecto_model\\data/asl_preprocessing/speed_output.mp4.\n",
      "MoviePy - Writing audio in speed_outputTEMP_MPY_wvf_snd.mp3\n"
     ]
    },
    {
     "name": "stderr",
     "output_type": "stream",
     "text": [
      "                                                       \r"
     ]
    },
    {
     "name": "stdout",
     "output_type": "stream",
     "text": [
      "MoviePy - Done.\n",
      "Moviepy - Writing video D:\\Documents\\Trabajo\\megaproyecto_model\\data/asl_preprocessing/speed_output.mp4\n",
      "\n"
     ]
    },
    {
     "name": "stderr",
     "output_type": "stream",
     "text": [
      "                                                             \r"
     ]
    },
    {
     "name": "stdout",
     "output_type": "stream",
     "text": [
      "Moviepy - Done !\n",
      "Moviepy - video ready D:\\Documents\\Trabajo\\megaproyecto_model\\data/asl_preprocessing/speed_output.mp4\n",
      "--------------------\n",
      "FPS:  30  VIDEO DURATION:  1.1333333333333333\n",
      "--------------------\n",
      "Moviepy - Building video D:\\Documents\\Trabajo\\megaproyecto_model\\data/asl_preprocessing/speed_output.mp4.\n",
      "MoviePy - Writing audio in speed_outputTEMP_MPY_wvf_snd.mp3\n"
     ]
    },
    {
     "name": "stderr",
     "output_type": "stream",
     "text": [
      "                                                       \r"
     ]
    },
    {
     "name": "stdout",
     "output_type": "stream",
     "text": [
      "MoviePy - Done.\n",
      "Moviepy - Writing video D:\\Documents\\Trabajo\\megaproyecto_model\\data/asl_preprocessing/speed_output.mp4\n",
      "\n"
     ]
    },
    {
     "name": "stderr",
     "output_type": "stream",
     "text": [
      "                                                              \r"
     ]
    },
    {
     "name": "stdout",
     "output_type": "stream",
     "text": [
      "Moviepy - Done !\n",
      "Moviepy - video ready D:\\Documents\\Trabajo\\megaproyecto_model\\data/asl_preprocessing/speed_output.mp4\n",
      "--------------------\n",
      "FPS:  30  VIDEO DURATION:  1.0333333333333334\n",
      "--------------------\n",
      "Moviepy - Building video D:\\Documents\\Trabajo\\megaproyecto_model\\data/asl_preprocessing/speed_output.mp4.\n",
      "MoviePy - Writing audio in speed_outputTEMP_MPY_wvf_snd.mp3\n"
     ]
    },
    {
     "name": "stderr",
     "output_type": "stream",
     "text": [
      "                                                       \r"
     ]
    },
    {
     "name": "stdout",
     "output_type": "stream",
     "text": [
      "MoviePy - Done.\n",
      "Moviepy - Writing video D:\\Documents\\Trabajo\\megaproyecto_model\\data/asl_preprocessing/speed_output.mp4\n",
      "\n"
     ]
    },
    {
     "name": "stderr",
     "output_type": "stream",
     "text": [
      "                                                              \r"
     ]
    },
    {
     "name": "stdout",
     "output_type": "stream",
     "text": [
      "Moviepy - Done !\n",
      "Moviepy - video ready D:\\Documents\\Trabajo\\megaproyecto_model\\data/asl_preprocessing/speed_output.mp4\n",
      "--------------------\n",
      "FPS:  30  VIDEO DURATION:  0.9333333333333333\n",
      "--------------------\n",
      "Moviepy - Building video D:\\Documents\\Trabajo\\megaproyecto_model\\data/asl_preprocessing/speed_output.mp4.\n",
      "MoviePy - Writing audio in speed_outputTEMP_MPY_wvf_snd.mp3\n"
     ]
    },
    {
     "name": "stderr",
     "output_type": "stream",
     "text": [
      "                                                       \r"
     ]
    },
    {
     "name": "stdout",
     "output_type": "stream",
     "text": [
      "MoviePy - Done.\n",
      "Moviepy - Writing video D:\\Documents\\Trabajo\\megaproyecto_model\\data/asl_preprocessing/speed_output.mp4\n",
      "\n"
     ]
    },
    {
     "name": "stderr",
     "output_type": "stream",
     "text": [
      "                                                              \r"
     ]
    },
    {
     "name": "stdout",
     "output_type": "stream",
     "text": [
      "Moviepy - Done !\n",
      "Moviepy - video ready D:\\Documents\\Trabajo\\megaproyecto_model\\data/asl_preprocessing/speed_output.mp4\n",
      "--------------------\n",
      "FPS:  30  VIDEO DURATION:  1.0333333333333334\n",
      "--------------------\n",
      "Moviepy - Building video D:\\Documents\\Trabajo\\megaproyecto_model\\data/asl_preprocessing/speed_output.mp4.\n",
      "MoviePy - Writing audio in speed_outputTEMP_MPY_wvf_snd.mp3\n"
     ]
    },
    {
     "name": "stderr",
     "output_type": "stream",
     "text": [
      "                                                       \r"
     ]
    },
    {
     "name": "stdout",
     "output_type": "stream",
     "text": [
      "MoviePy - Done.\n",
      "Moviepy - Writing video D:\\Documents\\Trabajo\\megaproyecto_model\\data/asl_preprocessing/speed_output.mp4\n",
      "\n"
     ]
    },
    {
     "name": "stderr",
     "output_type": "stream",
     "text": [
      "                                                            \r"
     ]
    },
    {
     "name": "stdout",
     "output_type": "stream",
     "text": [
      "Moviepy - Done !\n",
      "Moviepy - video ready D:\\Documents\\Trabajo\\megaproyecto_model\\data/asl_preprocessing/speed_output.mp4\n",
      "--------------------\n",
      "FPS:  30  VIDEO DURATION:  1.0333333333333334\n",
      "--------------------\n",
      "Moviepy - Building video D:\\Documents\\Trabajo\\megaproyecto_model\\data/asl_preprocessing/speed_output.mp4.\n",
      "MoviePy - Writing audio in speed_outputTEMP_MPY_wvf_snd.mp3\n"
     ]
    },
    {
     "name": "stderr",
     "output_type": "stream",
     "text": [
      "                                                       \r"
     ]
    },
    {
     "name": "stdout",
     "output_type": "stream",
     "text": [
      "MoviePy - Done.\n",
      "Moviepy - Writing video D:\\Documents\\Trabajo\\megaproyecto_model\\data/asl_preprocessing/speed_output.mp4\n",
      "\n"
     ]
    },
    {
     "name": "stderr",
     "output_type": "stream",
     "text": [
      "                                                            \r"
     ]
    },
    {
     "name": "stdout",
     "output_type": "stream",
     "text": [
      "Moviepy - Done !\n",
      "Moviepy - video ready D:\\Documents\\Trabajo\\megaproyecto_model\\data/asl_preprocessing/speed_output.mp4\n",
      "--------------------\n",
      "FPS:  30  VIDEO DURATION:  1.1\n",
      "--------------------\n",
      "Moviepy - Building video D:\\Documents\\Trabajo\\megaproyecto_model\\data/asl_preprocessing/speed_output.mp4.\n",
      "MoviePy - Writing audio in speed_outputTEMP_MPY_wvf_snd.mp3\n"
     ]
    },
    {
     "name": "stderr",
     "output_type": "stream",
     "text": [
      "                                                       \r"
     ]
    },
    {
     "name": "stdout",
     "output_type": "stream",
     "text": [
      "MoviePy - Done.\n",
      "Moviepy - Writing video D:\\Documents\\Trabajo\\megaproyecto_model\\data/asl_preprocessing/speed_output.mp4\n",
      "\n"
     ]
    },
    {
     "name": "stderr",
     "output_type": "stream",
     "text": [
      "                                                              \r"
     ]
    },
    {
     "name": "stdout",
     "output_type": "stream",
     "text": [
      "Moviepy - Done !\n",
      "Moviepy - video ready D:\\Documents\\Trabajo\\megaproyecto_model\\data/asl_preprocessing/speed_output.mp4\n",
      "--------------------\n",
      "FPS:  30  VIDEO DURATION:  1.0666666666666667\n",
      "--------------------\n",
      "Moviepy - Building video D:\\Documents\\Trabajo\\megaproyecto_model\\data/asl_preprocessing/speed_output.mp4.\n",
      "MoviePy - Writing audio in speed_outputTEMP_MPY_wvf_snd.mp3\n"
     ]
    },
    {
     "name": "stderr",
     "output_type": "stream",
     "text": [
      "                                                       \r"
     ]
    },
    {
     "name": "stdout",
     "output_type": "stream",
     "text": [
      "MoviePy - Done.\n",
      "Moviepy - Writing video D:\\Documents\\Trabajo\\megaproyecto_model\\data/asl_preprocessing/speed_output.mp4\n",
      "\n"
     ]
    },
    {
     "name": "stderr",
     "output_type": "stream",
     "text": [
      "                                                              \r"
     ]
    },
    {
     "name": "stdout",
     "output_type": "stream",
     "text": [
      "Moviepy - Done !\n",
      "Moviepy - video ready D:\\Documents\\Trabajo\\megaproyecto_model\\data/asl_preprocessing/speed_output.mp4\n",
      "--------------------\n",
      "FPS:  30  VIDEO DURATION:  1.0666666666666667\n",
      "--------------------\n",
      "Moviepy - Building video D:\\Documents\\Trabajo\\megaproyecto_model\\data/asl_preprocessing/speed_output.mp4.\n",
      "MoviePy - Writing audio in speed_outputTEMP_MPY_wvf_snd.mp3\n"
     ]
    },
    {
     "name": "stderr",
     "output_type": "stream",
     "text": [
      "                                                       \r"
     ]
    },
    {
     "name": "stdout",
     "output_type": "stream",
     "text": [
      "MoviePy - Done.\n",
      "Moviepy - Writing video D:\\Documents\\Trabajo\\megaproyecto_model\\data/asl_preprocessing/speed_output.mp4\n",
      "\n"
     ]
    },
    {
     "name": "stderr",
     "output_type": "stream",
     "text": [
      "                                                              \r"
     ]
    },
    {
     "name": "stdout",
     "output_type": "stream",
     "text": [
      "Moviepy - Done !\n",
      "Moviepy - video ready D:\\Documents\\Trabajo\\megaproyecto_model\\data/asl_preprocessing/speed_output.mp4\n",
      "--------------------\n",
      "FPS:  30  VIDEO DURATION:  0.9\n",
      "--------------------\n",
      "Moviepy - Building video D:\\Documents\\Trabajo\\megaproyecto_model\\data/asl_preprocessing/speed_output.mp4.\n",
      "MoviePy - Writing audio in speed_outputTEMP_MPY_wvf_snd.mp3\n"
     ]
    },
    {
     "name": "stderr",
     "output_type": "stream",
     "text": [
      "                                                       \r"
     ]
    },
    {
     "name": "stdout",
     "output_type": "stream",
     "text": [
      "MoviePy - Done.\n",
      "Moviepy - Writing video D:\\Documents\\Trabajo\\megaproyecto_model\\data/asl_preprocessing/speed_output.mp4\n",
      "\n"
     ]
    },
    {
     "name": "stderr",
     "output_type": "stream",
     "text": [
      "                                                              \r"
     ]
    },
    {
     "name": "stdout",
     "output_type": "stream",
     "text": [
      "Moviepy - Done !\n",
      "Moviepy - video ready D:\\Documents\\Trabajo\\megaproyecto_model\\data/asl_preprocessing/speed_output.mp4\n",
      "--------------------\n",
      "FPS:  30  VIDEO DURATION:  1.1\n",
      "--------------------\n",
      "Moviepy - Building video D:\\Documents\\Trabajo\\megaproyecto_model\\data/asl_preprocessing/speed_output.mp4.\n",
      "MoviePy - Writing audio in speed_outputTEMP_MPY_wvf_snd.mp3\n"
     ]
    },
    {
     "name": "stderr",
     "output_type": "stream",
     "text": [
      "                                                       \r"
     ]
    },
    {
     "name": "stdout",
     "output_type": "stream",
     "text": [
      "MoviePy - Done.\n",
      "Moviepy - Writing video D:\\Documents\\Trabajo\\megaproyecto_model\\data/asl_preprocessing/speed_output.mp4\n",
      "\n"
     ]
    },
    {
     "name": "stderr",
     "output_type": "stream",
     "text": [
      "                                                              \r"
     ]
    },
    {
     "name": "stdout",
     "output_type": "stream",
     "text": [
      "Moviepy - Done !\n",
      "Moviepy - video ready D:\\Documents\\Trabajo\\megaproyecto_model\\data/asl_preprocessing/speed_output.mp4\n",
      "--------------------\n",
      "FPS:  30  VIDEO DURATION:  0.9333333333333333\n",
      "--------------------\n",
      "Moviepy - Building video D:\\Documents\\Trabajo\\megaproyecto_model\\data/asl_preprocessing/speed_output.mp4.\n",
      "MoviePy - Writing audio in speed_outputTEMP_MPY_wvf_snd.mp3\n"
     ]
    },
    {
     "name": "stderr",
     "output_type": "stream",
     "text": [
      "                                                       \r"
     ]
    },
    {
     "name": "stdout",
     "output_type": "stream",
     "text": [
      "MoviePy - Done.\n",
      "Moviepy - Writing video D:\\Documents\\Trabajo\\megaproyecto_model\\data/asl_preprocessing/speed_output.mp4\n",
      "\n"
     ]
    },
    {
     "name": "stderr",
     "output_type": "stream",
     "text": [
      "                                                              \r"
     ]
    },
    {
     "name": "stdout",
     "output_type": "stream",
     "text": [
      "Moviepy - Done !\n",
      "Moviepy - video ready D:\\Documents\\Trabajo\\megaproyecto_model\\data/asl_preprocessing/speed_output.mp4\n",
      "--------------------\n",
      "FPS:  30  VIDEO DURATION:  1.0\n",
      "--------------------\n",
      "Moviepy - Building video D:\\Documents\\Trabajo\\megaproyecto_model\\data/asl_preprocessing/speed_output.mp4.\n",
      "MoviePy - Writing audio in speed_outputTEMP_MPY_wvf_snd.mp3\n"
     ]
    },
    {
     "name": "stderr",
     "output_type": "stream",
     "text": [
      "                                                       \r"
     ]
    },
    {
     "name": "stdout",
     "output_type": "stream",
     "text": [
      "MoviePy - Done.\n",
      "Moviepy - Writing video D:\\Documents\\Trabajo\\megaproyecto_model\\data/asl_preprocessing/speed_output.mp4\n",
      "\n"
     ]
    },
    {
     "name": "stderr",
     "output_type": "stream",
     "text": [
      "                                                            \r"
     ]
    },
    {
     "name": "stdout",
     "output_type": "stream",
     "text": [
      "Moviepy - Done !\n",
      "Moviepy - video ready D:\\Documents\\Trabajo\\megaproyecto_model\\data/asl_preprocessing/speed_output.mp4\n",
      "--------------------\n",
      "FPS:  30  VIDEO DURATION:  1.4666666666666666\n",
      "--------------------\n",
      "Moviepy - Building video D:\\Documents\\Trabajo\\megaproyecto_model\\data/asl_preprocessing/speed_output.mp4.\n",
      "MoviePy - Writing audio in speed_outputTEMP_MPY_wvf_snd.mp3\n"
     ]
    },
    {
     "name": "stderr",
     "output_type": "stream",
     "text": [
      "                                                       \r"
     ]
    },
    {
     "name": "stdout",
     "output_type": "stream",
     "text": [
      "MoviePy - Done.\n",
      "Moviepy - Writing video D:\\Documents\\Trabajo\\megaproyecto_model\\data/asl_preprocessing/speed_output.mp4\n",
      "\n"
     ]
    },
    {
     "name": "stderr",
     "output_type": "stream",
     "text": [
      "                                                            \r"
     ]
    },
    {
     "name": "stdout",
     "output_type": "stream",
     "text": [
      "Moviepy - Done !\n",
      "Moviepy - video ready D:\\Documents\\Trabajo\\megaproyecto_model\\data/asl_preprocessing/speed_output.mp4\n",
      "--------------------\n",
      "FPS:  30  VIDEO DURATION:  0.9666666666666667\n",
      "--------------------\n",
      "Moviepy - Building video D:\\Documents\\Trabajo\\megaproyecto_model\\data/asl_preprocessing/speed_output.mp4.\n",
      "MoviePy - Writing audio in speed_outputTEMP_MPY_wvf_snd.mp3\n"
     ]
    },
    {
     "name": "stderr",
     "output_type": "stream",
     "text": [
      "                                                       \r"
     ]
    },
    {
     "name": "stdout",
     "output_type": "stream",
     "text": [
      "MoviePy - Done.\n",
      "Moviepy - Writing video D:\\Documents\\Trabajo\\megaproyecto_model\\data/asl_preprocessing/speed_output.mp4\n",
      "\n"
     ]
    },
    {
     "name": "stderr",
     "output_type": "stream",
     "text": [
      "                                                              \r"
     ]
    },
    {
     "name": "stdout",
     "output_type": "stream",
     "text": [
      "Moviepy - Done !\n",
      "Moviepy - video ready D:\\Documents\\Trabajo\\megaproyecto_model\\data/asl_preprocessing/speed_output.mp4\n",
      "--------------------\n",
      "FPS:  30  VIDEO DURATION:  0.9666666666666667\n",
      "--------------------\n",
      "Moviepy - Building video D:\\Documents\\Trabajo\\megaproyecto_model\\data/asl_preprocessing/speed_output.mp4.\n",
      "MoviePy - Writing audio in speed_outputTEMP_MPY_wvf_snd.mp3\n"
     ]
    },
    {
     "name": "stderr",
     "output_type": "stream",
     "text": [
      "                                                       \r"
     ]
    },
    {
     "name": "stdout",
     "output_type": "stream",
     "text": [
      "MoviePy - Done.\n",
      "Moviepy - Writing video D:\\Documents\\Trabajo\\megaproyecto_model\\data/asl_preprocessing/speed_output.mp4\n",
      "\n"
     ]
    },
    {
     "name": "stderr",
     "output_type": "stream",
     "text": [
      "                                                            \r"
     ]
    },
    {
     "name": "stdout",
     "output_type": "stream",
     "text": [
      "Moviepy - Done !\n",
      "Moviepy - video ready D:\\Documents\\Trabajo\\megaproyecto_model\\data/asl_preprocessing/speed_output.mp4\n",
      "--------------------\n",
      "FPS:  30  VIDEO DURATION:  1.1333333333333333\n",
      "--------------------\n",
      "Moviepy - Building video D:\\Documents\\Trabajo\\megaproyecto_model\\data/asl_preprocessing/speed_output.mp4.\n",
      "MoviePy - Writing audio in speed_outputTEMP_MPY_wvf_snd.mp3\n"
     ]
    },
    {
     "name": "stderr",
     "output_type": "stream",
     "text": [
      "                                                       \r"
     ]
    },
    {
     "name": "stdout",
     "output_type": "stream",
     "text": [
      "MoviePy - Done.\n",
      "Moviepy - Writing video D:\\Documents\\Trabajo\\megaproyecto_model\\data/asl_preprocessing/speed_output.mp4\n",
      "\n"
     ]
    },
    {
     "name": "stderr",
     "output_type": "stream",
     "text": [
      "                                                            \r"
     ]
    },
    {
     "name": "stdout",
     "output_type": "stream",
     "text": [
      "Moviepy - Done !\n",
      "Moviepy - video ready D:\\Documents\\Trabajo\\megaproyecto_model\\data/asl_preprocessing/speed_output.mp4\n",
      "--------------------\n",
      "FPS:  30  VIDEO DURATION:  1.1\n",
      "--------------------\n",
      "Moviepy - Building video D:\\Documents\\Trabajo\\megaproyecto_model\\data/asl_preprocessing/speed_output.mp4.\n",
      "MoviePy - Writing audio in speed_outputTEMP_MPY_wvf_snd.mp3\n"
     ]
    },
    {
     "name": "stderr",
     "output_type": "stream",
     "text": [
      "                                                       \r"
     ]
    },
    {
     "name": "stdout",
     "output_type": "stream",
     "text": [
      "MoviePy - Done.\n",
      "Moviepy - Writing video D:\\Documents\\Trabajo\\megaproyecto_model\\data/asl_preprocessing/speed_output.mp4\n",
      "\n"
     ]
    },
    {
     "name": "stderr",
     "output_type": "stream",
     "text": [
      "                                                            \r"
     ]
    },
    {
     "name": "stdout",
     "output_type": "stream",
     "text": [
      "Moviepy - Done !\n",
      "Moviepy - video ready D:\\Documents\\Trabajo\\megaproyecto_model\\data/asl_preprocessing/speed_output.mp4\n",
      "--------------------\n",
      "FPS:  30  VIDEO DURATION:  0.8666666666666667\n",
      "--------------------\n",
      "Moviepy - Building video D:\\Documents\\Trabajo\\megaproyecto_model\\data/asl_preprocessing/speed_output.mp4.\n",
      "MoviePy - Writing audio in speed_outputTEMP_MPY_wvf_snd.mp3\n"
     ]
    },
    {
     "name": "stderr",
     "output_type": "stream",
     "text": [
      "                                                       \r"
     ]
    },
    {
     "name": "stdout",
     "output_type": "stream",
     "text": [
      "MoviePy - Done.\n",
      "Moviepy - Writing video D:\\Documents\\Trabajo\\megaproyecto_model\\data/asl_preprocessing/speed_output.mp4\n",
      "\n"
     ]
    },
    {
     "name": "stderr",
     "output_type": "stream",
     "text": [
      "                                                            \r"
     ]
    },
    {
     "name": "stdout",
     "output_type": "stream",
     "text": [
      "Moviepy - Done !\n",
      "Moviepy - video ready D:\\Documents\\Trabajo\\megaproyecto_model\\data/asl_preprocessing/speed_output.mp4\n",
      "--------------------\n",
      "FPS:  30  VIDEO DURATION:  1.0\n",
      "--------------------\n",
      "Moviepy - Building video D:\\Documents\\Trabajo\\megaproyecto_model\\data/asl_preprocessing/speed_output.mp4.\n",
      "MoviePy - Writing audio in speed_outputTEMP_MPY_wvf_snd.mp3\n"
     ]
    },
    {
     "name": "stderr",
     "output_type": "stream",
     "text": [
      "                                                       \r"
     ]
    },
    {
     "name": "stdout",
     "output_type": "stream",
     "text": [
      "MoviePy - Done.\n",
      "Moviepy - Writing video D:\\Documents\\Trabajo\\megaproyecto_model\\data/asl_preprocessing/speed_output.mp4\n",
      "\n"
     ]
    },
    {
     "name": "stderr",
     "output_type": "stream",
     "text": [
      "                                                            \r"
     ]
    },
    {
     "name": "stdout",
     "output_type": "stream",
     "text": [
      "Moviepy - Done !\n",
      "Moviepy - video ready D:\\Documents\\Trabajo\\megaproyecto_model\\data/asl_preprocessing/speed_output.mp4\n",
      "--------------------\n",
      "FPS:  30  VIDEO DURATION:  0.9\n",
      "--------------------\n",
      "Moviepy - Building video D:\\Documents\\Trabajo\\megaproyecto_model\\data/asl_preprocessing/speed_output.mp4.\n",
      "MoviePy - Writing audio in speed_outputTEMP_MPY_wvf_snd.mp3\n"
     ]
    },
    {
     "name": "stderr",
     "output_type": "stream",
     "text": [
      "                                                       \r"
     ]
    },
    {
     "name": "stdout",
     "output_type": "stream",
     "text": [
      "MoviePy - Done.\n",
      "Moviepy - Writing video D:\\Documents\\Trabajo\\megaproyecto_model\\data/asl_preprocessing/speed_output.mp4\n",
      "\n"
     ]
    },
    {
     "name": "stderr",
     "output_type": "stream",
     "text": [
      "                                                            \r"
     ]
    },
    {
     "name": "stdout",
     "output_type": "stream",
     "text": [
      "Moviepy - Done !\n",
      "Moviepy - video ready D:\\Documents\\Trabajo\\megaproyecto_model\\data/asl_preprocessing/speed_output.mp4\n",
      "--------------------\n",
      "FPS:  30  VIDEO DURATION:  0.9\n",
      "--------------------\n",
      "Moviepy - Building video D:\\Documents\\Trabajo\\megaproyecto_model\\data/asl_preprocessing/speed_output.mp4.\n",
      "MoviePy - Writing audio in speed_outputTEMP_MPY_wvf_snd.mp3\n"
     ]
    },
    {
     "name": "stderr",
     "output_type": "stream",
     "text": [
      "                                                       \r"
     ]
    },
    {
     "name": "stdout",
     "output_type": "stream",
     "text": [
      "MoviePy - Done.\n",
      "Moviepy - Writing video D:\\Documents\\Trabajo\\megaproyecto_model\\data/asl_preprocessing/speed_output.mp4\n",
      "\n"
     ]
    },
    {
     "name": "stderr",
     "output_type": "stream",
     "text": [
      "                                                            \r"
     ]
    },
    {
     "name": "stdout",
     "output_type": "stream",
     "text": [
      "Moviepy - Done !\n",
      "Moviepy - video ready D:\\Documents\\Trabajo\\megaproyecto_model\\data/asl_preprocessing/speed_output.mp4\n",
      "--------------------\n",
      "FPS:  30  VIDEO DURATION:  1.1333333333333333\n",
      "--------------------\n",
      "Moviepy - Building video D:\\Documents\\Trabajo\\megaproyecto_model\\data/asl_preprocessing/speed_output.mp4.\n",
      "MoviePy - Writing audio in speed_outputTEMP_MPY_wvf_snd.mp3\n"
     ]
    },
    {
     "name": "stderr",
     "output_type": "stream",
     "text": [
      "                                                       \r"
     ]
    },
    {
     "name": "stdout",
     "output_type": "stream",
     "text": [
      "MoviePy - Done.\n",
      "Moviepy - Writing video D:\\Documents\\Trabajo\\megaproyecto_model\\data/asl_preprocessing/speed_output.mp4\n",
      "\n"
     ]
    },
    {
     "name": "stderr",
     "output_type": "stream",
     "text": [
      "                                                            \r"
     ]
    },
    {
     "name": "stdout",
     "output_type": "stream",
     "text": [
      "Moviepy - Done !\n",
      "Moviepy - video ready D:\\Documents\\Trabajo\\megaproyecto_model\\data/asl_preprocessing/speed_output.mp4\n",
      "--------------------\n",
      "FPS:  30  VIDEO DURATION:  0.8333333333333334\n",
      "--------------------\n",
      "Moviepy - Building video D:\\Documents\\Trabajo\\megaproyecto_model\\data/asl_preprocessing/speed_output.mp4.\n",
      "MoviePy - Writing audio in speed_outputTEMP_MPY_wvf_snd.mp3\n"
     ]
    },
    {
     "name": "stderr",
     "output_type": "stream",
     "text": [
      "                                                       \r"
     ]
    },
    {
     "name": "stdout",
     "output_type": "stream",
     "text": [
      "MoviePy - Done.\n",
      "Moviepy - Writing video D:\\Documents\\Trabajo\\megaproyecto_model\\data/asl_preprocessing/speed_output.mp4\n",
      "\n"
     ]
    },
    {
     "name": "stderr",
     "output_type": "stream",
     "text": [
      "                                                            \r"
     ]
    },
    {
     "name": "stdout",
     "output_type": "stream",
     "text": [
      "Moviepy - Done !\n",
      "Moviepy - video ready D:\\Documents\\Trabajo\\megaproyecto_model\\data/asl_preprocessing/speed_output.mp4\n",
      "--------------------\n",
      "FPS:  30  VIDEO DURATION:  1.3666666666666667\n",
      "--------------------\n",
      "Moviepy - Building video D:\\Documents\\Trabajo\\megaproyecto_model\\data/asl_preprocessing/speed_output.mp4.\n",
      "MoviePy - Writing audio in speed_outputTEMP_MPY_wvf_snd.mp3\n"
     ]
    },
    {
     "name": "stderr",
     "output_type": "stream",
     "text": [
      "                                                       \r"
     ]
    },
    {
     "name": "stdout",
     "output_type": "stream",
     "text": [
      "MoviePy - Done.\n",
      "Moviepy - Writing video D:\\Documents\\Trabajo\\megaproyecto_model\\data/asl_preprocessing/speed_output.mp4\n",
      "\n"
     ]
    },
    {
     "name": "stderr",
     "output_type": "stream",
     "text": [
      "                                                            \r"
     ]
    },
    {
     "name": "stdout",
     "output_type": "stream",
     "text": [
      "Moviepy - Done !\n",
      "Moviepy - video ready D:\\Documents\\Trabajo\\megaproyecto_model\\data/asl_preprocessing/speed_output.mp4\n",
      "--------------------\n",
      "FPS:  30  VIDEO DURATION:  0.9333333333333333\n",
      "--------------------\n",
      "Moviepy - Building video D:\\Documents\\Trabajo\\megaproyecto_model\\data/asl_preprocessing/speed_output.mp4.\n",
      "MoviePy - Writing audio in speed_outputTEMP_MPY_wvf_snd.mp3\n"
     ]
    },
    {
     "name": "stderr",
     "output_type": "stream",
     "text": [
      "                                                       \r"
     ]
    },
    {
     "name": "stdout",
     "output_type": "stream",
     "text": [
      "MoviePy - Done.\n",
      "Moviepy - Writing video D:\\Documents\\Trabajo\\megaproyecto_model\\data/asl_preprocessing/speed_output.mp4\n",
      "\n"
     ]
    },
    {
     "name": "stderr",
     "output_type": "stream",
     "text": [
      "                                                            \r"
     ]
    },
    {
     "name": "stdout",
     "output_type": "stream",
     "text": [
      "Moviepy - Done !\n",
      "Moviepy - video ready D:\\Documents\\Trabajo\\megaproyecto_model\\data/asl_preprocessing/speed_output.mp4\n",
      "--------------------\n",
      "FPS:  30  VIDEO DURATION:  0.8666666666666667\n",
      "--------------------\n",
      "Moviepy - Building video D:\\Documents\\Trabajo\\megaproyecto_model\\data/asl_preprocessing/speed_output.mp4.\n",
      "MoviePy - Writing audio in speed_outputTEMP_MPY_wvf_snd.mp3\n"
     ]
    },
    {
     "name": "stderr",
     "output_type": "stream",
     "text": [
      "                                                       \r"
     ]
    },
    {
     "name": "stdout",
     "output_type": "stream",
     "text": [
      "MoviePy - Done.\n",
      "Moviepy - Writing video D:\\Documents\\Trabajo\\megaproyecto_model\\data/asl_preprocessing/speed_output.mp4\n",
      "\n"
     ]
    },
    {
     "name": "stderr",
     "output_type": "stream",
     "text": [
      "                                                              \r"
     ]
    },
    {
     "name": "stdout",
     "output_type": "stream",
     "text": [
      "Moviepy - Done !\n",
      "Moviepy - video ready D:\\Documents\\Trabajo\\megaproyecto_model\\data/asl_preprocessing/speed_output.mp4\n",
      "--------------------\n",
      "FPS:  30  VIDEO DURATION:  1.0\n",
      "--------------------\n",
      "Moviepy - Building video D:\\Documents\\Trabajo\\megaproyecto_model\\data/asl_preprocessing/speed_output.mp4.\n",
      "MoviePy - Writing audio in speed_outputTEMP_MPY_wvf_snd.mp3\n"
     ]
    },
    {
     "name": "stderr",
     "output_type": "stream",
     "text": [
      "                                                       \r"
     ]
    },
    {
     "name": "stdout",
     "output_type": "stream",
     "text": [
      "MoviePy - Done.\n",
      "Moviepy - Writing video D:\\Documents\\Trabajo\\megaproyecto_model\\data/asl_preprocessing/speed_output.mp4\n",
      "\n"
     ]
    },
    {
     "name": "stderr",
     "output_type": "stream",
     "text": [
      "                                                            \r"
     ]
    },
    {
     "name": "stdout",
     "output_type": "stream",
     "text": [
      "Moviepy - Done !\n",
      "Moviepy - video ready D:\\Documents\\Trabajo\\megaproyecto_model\\data/asl_preprocessing/speed_output.mp4\n",
      "--------------------\n",
      "FPS:  30  VIDEO DURATION:  0.9666666666666667\n",
      "--------------------\n",
      "Moviepy - Building video D:\\Documents\\Trabajo\\megaproyecto_model\\data/asl_preprocessing/speed_output.mp4.\n",
      "MoviePy - Writing audio in speed_outputTEMP_MPY_wvf_snd.mp3\n"
     ]
    },
    {
     "name": "stderr",
     "output_type": "stream",
     "text": [
      "                                                       \r"
     ]
    },
    {
     "name": "stdout",
     "output_type": "stream",
     "text": [
      "MoviePy - Done.\n",
      "Moviepy - Writing video D:\\Documents\\Trabajo\\megaproyecto_model\\data/asl_preprocessing/speed_output.mp4\n",
      "\n"
     ]
    },
    {
     "name": "stderr",
     "output_type": "stream",
     "text": [
      "                                                            \r"
     ]
    },
    {
     "name": "stdout",
     "output_type": "stream",
     "text": [
      "Moviepy - Done !\n",
      "Moviepy - video ready D:\\Documents\\Trabajo\\megaproyecto_model\\data/asl_preprocessing/speed_output.mp4\n",
      "--------------------\n",
      "FPS:  30  VIDEO DURATION:  0.8666666666666667\n",
      "--------------------\n",
      "Moviepy - Building video D:\\Documents\\Trabajo\\megaproyecto_model\\data/asl_preprocessing/speed_output.mp4.\n",
      "MoviePy - Writing audio in speed_outputTEMP_MPY_wvf_snd.mp3\n"
     ]
    },
    {
     "name": "stderr",
     "output_type": "stream",
     "text": [
      "                                                       \r"
     ]
    },
    {
     "name": "stdout",
     "output_type": "stream",
     "text": [
      "MoviePy - Done.\n",
      "Moviepy - Writing video D:\\Documents\\Trabajo\\megaproyecto_model\\data/asl_preprocessing/speed_output.mp4\n",
      "\n"
     ]
    },
    {
     "name": "stderr",
     "output_type": "stream",
     "text": [
      "                                                            \r"
     ]
    },
    {
     "name": "stdout",
     "output_type": "stream",
     "text": [
      "Moviepy - Done !\n",
      "Moviepy - video ready D:\\Documents\\Trabajo\\megaproyecto_model\\data/asl_preprocessing/speed_output.mp4\n",
      "--------------------\n",
      "FPS:  30  VIDEO DURATION:  0.9666666666666667\n",
      "--------------------\n",
      "Moviepy - Building video D:\\Documents\\Trabajo\\megaproyecto_model\\data/asl_preprocessing/speed_output.mp4.\n",
      "MoviePy - Writing audio in speed_outputTEMP_MPY_wvf_snd.mp3\n"
     ]
    },
    {
     "name": "stderr",
     "output_type": "stream",
     "text": [
      "                                                       \r"
     ]
    },
    {
     "name": "stdout",
     "output_type": "stream",
     "text": [
      "MoviePy - Done.\n",
      "Moviepy - Writing video D:\\Documents\\Trabajo\\megaproyecto_model\\data/asl_preprocessing/speed_output.mp4\n",
      "\n"
     ]
    },
    {
     "name": "stderr",
     "output_type": "stream",
     "text": [
      "                                                            \r"
     ]
    },
    {
     "name": "stdout",
     "output_type": "stream",
     "text": [
      "Moviepy - Done !\n",
      "Moviepy - video ready D:\\Documents\\Trabajo\\megaproyecto_model\\data/asl_preprocessing/speed_output.mp4\n",
      "--------------------\n",
      "FPS:  30  VIDEO DURATION:  0.9666666666666667\n",
      "--------------------\n",
      "Moviepy - Building video D:\\Documents\\Trabajo\\megaproyecto_model\\data/asl_preprocessing/speed_output.mp4.\n",
      "MoviePy - Writing audio in speed_outputTEMP_MPY_wvf_snd.mp3\n"
     ]
    },
    {
     "name": "stderr",
     "output_type": "stream",
     "text": [
      "                                                       \r"
     ]
    },
    {
     "name": "stdout",
     "output_type": "stream",
     "text": [
      "MoviePy - Done.\n",
      "Moviepy - Writing video D:\\Documents\\Trabajo\\megaproyecto_model\\data/asl_preprocessing/speed_output.mp4\n",
      "\n"
     ]
    },
    {
     "name": "stderr",
     "output_type": "stream",
     "text": [
      "                                                            \r"
     ]
    },
    {
     "name": "stdout",
     "output_type": "stream",
     "text": [
      "Moviepy - Done !\n",
      "Moviepy - video ready D:\\Documents\\Trabajo\\megaproyecto_model\\data/asl_preprocessing/speed_output.mp4\n",
      "--------------------\n",
      "FPS:  30  VIDEO DURATION:  1.0\n",
      "--------------------\n",
      "Moviepy - Building video D:\\Documents\\Trabajo\\megaproyecto_model\\data/asl_preprocessing/speed_output.mp4.\n",
      "MoviePy - Writing audio in speed_outputTEMP_MPY_wvf_snd.mp3\n"
     ]
    },
    {
     "name": "stderr",
     "output_type": "stream",
     "text": [
      "                                                       \r"
     ]
    },
    {
     "name": "stdout",
     "output_type": "stream",
     "text": [
      "MoviePy - Done.\n",
      "Moviepy - Writing video D:\\Documents\\Trabajo\\megaproyecto_model\\data/asl_preprocessing/speed_output.mp4\n",
      "\n"
     ]
    },
    {
     "name": "stderr",
     "output_type": "stream",
     "text": [
      "                                                            \r"
     ]
    },
    {
     "name": "stdout",
     "output_type": "stream",
     "text": [
      "Moviepy - Done !\n",
      "Moviepy - video ready D:\\Documents\\Trabajo\\megaproyecto_model\\data/asl_preprocessing/speed_output.mp4\n",
      "--------------------\n",
      "FPS:  30  VIDEO DURATION:  0.9333333333333333\n",
      "--------------------\n",
      "Moviepy - Building video D:\\Documents\\Trabajo\\megaproyecto_model\\data/asl_preprocessing/speed_output.mp4.\n",
      "MoviePy - Writing audio in speed_outputTEMP_MPY_wvf_snd.mp3\n"
     ]
    },
    {
     "name": "stderr",
     "output_type": "stream",
     "text": [
      "                                                       \r"
     ]
    },
    {
     "name": "stdout",
     "output_type": "stream",
     "text": [
      "MoviePy - Done.\n",
      "Moviepy - Writing video D:\\Documents\\Trabajo\\megaproyecto_model\\data/asl_preprocessing/speed_output.mp4\n",
      "\n"
     ]
    },
    {
     "name": "stderr",
     "output_type": "stream",
     "text": [
      "                                                            \r"
     ]
    },
    {
     "name": "stdout",
     "output_type": "stream",
     "text": [
      "Moviepy - Done !\n",
      "Moviepy - video ready D:\\Documents\\Trabajo\\megaproyecto_model\\data/asl_preprocessing/speed_output.mp4\n",
      "--------------------\n",
      "FPS:  30  VIDEO DURATION:  0.9333333333333333\n",
      "--------------------\n",
      "Moviepy - Building video D:\\Documents\\Trabajo\\megaproyecto_model\\data/asl_preprocessing/speed_output.mp4.\n",
      "MoviePy - Writing audio in speed_outputTEMP_MPY_wvf_snd.mp3\n"
     ]
    },
    {
     "name": "stderr",
     "output_type": "stream",
     "text": [
      "                                                       \r"
     ]
    },
    {
     "name": "stdout",
     "output_type": "stream",
     "text": [
      "MoviePy - Done.\n",
      "Moviepy - Writing video D:\\Documents\\Trabajo\\megaproyecto_model\\data/asl_preprocessing/speed_output.mp4\n",
      "\n"
     ]
    },
    {
     "name": "stderr",
     "output_type": "stream",
     "text": [
      "                                                            \r"
     ]
    },
    {
     "name": "stdout",
     "output_type": "stream",
     "text": [
      "Moviepy - Done !\n",
      "Moviepy - video ready D:\\Documents\\Trabajo\\megaproyecto_model\\data/asl_preprocessing/speed_output.mp4\n",
      "--------------------\n",
      "FPS:  30  VIDEO DURATION:  0.9666666666666667\n",
      "--------------------\n",
      "Moviepy - Building video D:\\Documents\\Trabajo\\megaproyecto_model\\data/asl_preprocessing/speed_output.mp4.\n",
      "MoviePy - Writing audio in speed_outputTEMP_MPY_wvf_snd.mp3\n"
     ]
    },
    {
     "name": "stderr",
     "output_type": "stream",
     "text": [
      "                                                       \r"
     ]
    },
    {
     "name": "stdout",
     "output_type": "stream",
     "text": [
      "MoviePy - Done.\n",
      "Moviepy - Writing video D:\\Documents\\Trabajo\\megaproyecto_model\\data/asl_preprocessing/speed_output.mp4\n",
      "\n"
     ]
    },
    {
     "name": "stderr",
     "output_type": "stream",
     "text": [
      "                                                            \r"
     ]
    },
    {
     "name": "stdout",
     "output_type": "stream",
     "text": [
      "Moviepy - Done !\n",
      "Moviepy - video ready D:\\Documents\\Trabajo\\megaproyecto_model\\data/asl_preprocessing/speed_output.mp4\n",
      "--------------------\n",
      "FPS:  30  VIDEO DURATION:  1.1666666666666667\n",
      "--------------------\n",
      "Moviepy - Building video D:\\Documents\\Trabajo\\megaproyecto_model\\data/asl_preprocessing/speed_output.mp4.\n",
      "MoviePy - Writing audio in speed_outputTEMP_MPY_wvf_snd.mp3\n"
     ]
    },
    {
     "name": "stderr",
     "output_type": "stream",
     "text": [
      "                                                       \r"
     ]
    },
    {
     "name": "stdout",
     "output_type": "stream",
     "text": [
      "MoviePy - Done.\n",
      "Moviepy - Writing video D:\\Documents\\Trabajo\\megaproyecto_model\\data/asl_preprocessing/speed_output.mp4\n",
      "\n"
     ]
    },
    {
     "name": "stderr",
     "output_type": "stream",
     "text": [
      "                                                            \r"
     ]
    },
    {
     "name": "stdout",
     "output_type": "stream",
     "text": [
      "Moviepy - Done !\n",
      "Moviepy - video ready D:\\Documents\\Trabajo\\megaproyecto_model\\data/asl_preprocessing/speed_output.mp4\n",
      "--------------------\n",
      "FPS:  30  VIDEO DURATION:  1.3333333333333333\n",
      "--------------------\n",
      "Moviepy - Building video D:\\Documents\\Trabajo\\megaproyecto_model\\data/asl_preprocessing/speed_output.mp4.\n",
      "MoviePy - Writing audio in speed_outputTEMP_MPY_wvf_snd.mp3\n"
     ]
    },
    {
     "name": "stderr",
     "output_type": "stream",
     "text": [
      "                                                       \r"
     ]
    },
    {
     "name": "stdout",
     "output_type": "stream",
     "text": [
      "MoviePy - Done.\n",
      "Moviepy - Writing video D:\\Documents\\Trabajo\\megaproyecto_model\\data/asl_preprocessing/speed_output.mp4\n",
      "\n"
     ]
    },
    {
     "name": "stderr",
     "output_type": "stream",
     "text": [
      "                                                            \r"
     ]
    },
    {
     "name": "stdout",
     "output_type": "stream",
     "text": [
      "Moviepy - Done !\n",
      "Moviepy - video ready D:\\Documents\\Trabajo\\megaproyecto_model\\data/asl_preprocessing/speed_output.mp4\n",
      "--------------------\n",
      "FPS:  30  VIDEO DURATION:  1.0\n",
      "--------------------\n",
      "Moviepy - Building video D:\\Documents\\Trabajo\\megaproyecto_model\\data/asl_preprocessing/speed_output.mp4.\n",
      "MoviePy - Writing audio in speed_outputTEMP_MPY_wvf_snd.mp3\n"
     ]
    },
    {
     "name": "stderr",
     "output_type": "stream",
     "text": [
      "                                                       \r"
     ]
    },
    {
     "name": "stdout",
     "output_type": "stream",
     "text": [
      "MoviePy - Done.\n",
      "Moviepy - Writing video D:\\Documents\\Trabajo\\megaproyecto_model\\data/asl_preprocessing/speed_output.mp4\n",
      "\n"
     ]
    },
    {
     "name": "stderr",
     "output_type": "stream",
     "text": [
      "                                                            \r"
     ]
    },
    {
     "name": "stdout",
     "output_type": "stream",
     "text": [
      "Moviepy - Done !\n",
      "Moviepy - video ready D:\\Documents\\Trabajo\\megaproyecto_model\\data/asl_preprocessing/speed_output.mp4\n",
      "--------------------\n",
      "FPS:  30  VIDEO DURATION:  1.0666666666666667\n",
      "--------------------\n",
      "Moviepy - Building video D:\\Documents\\Trabajo\\megaproyecto_model\\data/asl_preprocessing/speed_output.mp4.\n",
      "MoviePy - Writing audio in speed_outputTEMP_MPY_wvf_snd.mp3\n"
     ]
    },
    {
     "name": "stderr",
     "output_type": "stream",
     "text": [
      "                                                       \r"
     ]
    },
    {
     "name": "stdout",
     "output_type": "stream",
     "text": [
      "MoviePy - Done.\n",
      "Moviepy - Writing video D:\\Documents\\Trabajo\\megaproyecto_model\\data/asl_preprocessing/speed_output.mp4\n",
      "\n"
     ]
    },
    {
     "name": "stderr",
     "output_type": "stream",
     "text": [
      "                                                            \r"
     ]
    },
    {
     "name": "stdout",
     "output_type": "stream",
     "text": [
      "Moviepy - Done !\n",
      "Moviepy - video ready D:\\Documents\\Trabajo\\megaproyecto_model\\data/asl_preprocessing/speed_output.mp4\n",
      "--------------------\n",
      "FPS:  30  VIDEO DURATION:  1.0\n",
      "--------------------\n",
      "Moviepy - Building video D:\\Documents\\Trabajo\\megaproyecto_model\\data/asl_preprocessing/speed_output.mp4.\n",
      "MoviePy - Writing audio in speed_outputTEMP_MPY_wvf_snd.mp3\n"
     ]
    },
    {
     "name": "stderr",
     "output_type": "stream",
     "text": [
      "                                                       \r"
     ]
    },
    {
     "name": "stdout",
     "output_type": "stream",
     "text": [
      "MoviePy - Done.\n",
      "Moviepy - Writing video D:\\Documents\\Trabajo\\megaproyecto_model\\data/asl_preprocessing/speed_output.mp4\n",
      "\n"
     ]
    },
    {
     "name": "stderr",
     "output_type": "stream",
     "text": [
      "                                                            \r"
     ]
    },
    {
     "name": "stdout",
     "output_type": "stream",
     "text": [
      "Moviepy - Done !\n",
      "Moviepy - video ready D:\\Documents\\Trabajo\\megaproyecto_model\\data/asl_preprocessing/speed_output.mp4\n",
      "--------------------\n",
      "FPS:  30  VIDEO DURATION:  1.0\n",
      "--------------------\n",
      "Moviepy - Building video D:\\Documents\\Trabajo\\megaproyecto_model\\data/asl_preprocessing/speed_output.mp4.\n",
      "MoviePy - Writing audio in speed_outputTEMP_MPY_wvf_snd.mp3\n"
     ]
    },
    {
     "name": "stderr",
     "output_type": "stream",
     "text": [
      "                                                       \r"
     ]
    },
    {
     "name": "stdout",
     "output_type": "stream",
     "text": [
      "MoviePy - Done.\n",
      "Moviepy - Writing video D:\\Documents\\Trabajo\\megaproyecto_model\\data/asl_preprocessing/speed_output.mp4\n",
      "\n"
     ]
    },
    {
     "name": "stderr",
     "output_type": "stream",
     "text": [
      "                                                            \r"
     ]
    },
    {
     "name": "stdout",
     "output_type": "stream",
     "text": [
      "Moviepy - Done !\n",
      "Moviepy - video ready D:\\Documents\\Trabajo\\megaproyecto_model\\data/asl_preprocessing/speed_output.mp4\n",
      "--------------------\n",
      "FPS:  30  VIDEO DURATION:  0.8666666666666667\n",
      "--------------------\n",
      "Moviepy - Building video D:\\Documents\\Trabajo\\megaproyecto_model\\data/asl_preprocessing/speed_output.mp4.\n",
      "MoviePy - Writing audio in speed_outputTEMP_MPY_wvf_snd.mp3\n"
     ]
    },
    {
     "name": "stderr",
     "output_type": "stream",
     "text": [
      "                                                       \r"
     ]
    },
    {
     "name": "stdout",
     "output_type": "stream",
     "text": [
      "MoviePy - Done.\n",
      "Moviepy - Writing video D:\\Documents\\Trabajo\\megaproyecto_model\\data/asl_preprocessing/speed_output.mp4\n",
      "\n"
     ]
    },
    {
     "name": "stderr",
     "output_type": "stream",
     "text": [
      "                                                            \r"
     ]
    },
    {
     "name": "stdout",
     "output_type": "stream",
     "text": [
      "Moviepy - Done !\n",
      "Moviepy - video ready D:\\Documents\\Trabajo\\megaproyecto_model\\data/asl_preprocessing/speed_output.mp4\n",
      "--------------------\n",
      "FPS:  30  VIDEO DURATION:  0.8333333333333334\n",
      "--------------------\n",
      "Moviepy - Building video D:\\Documents\\Trabajo\\megaproyecto_model\\data/asl_preprocessing/speed_output.mp4.\n",
      "MoviePy - Writing audio in speed_outputTEMP_MPY_wvf_snd.mp3\n"
     ]
    },
    {
     "name": "stderr",
     "output_type": "stream",
     "text": [
      "                                                       \r"
     ]
    },
    {
     "name": "stdout",
     "output_type": "stream",
     "text": [
      "MoviePy - Done.\n",
      "Moviepy - Writing video D:\\Documents\\Trabajo\\megaproyecto_model\\data/asl_preprocessing/speed_output.mp4\n",
      "\n"
     ]
    },
    {
     "name": "stderr",
     "output_type": "stream",
     "text": [
      "                                                              \r"
     ]
    },
    {
     "name": "stdout",
     "output_type": "stream",
     "text": [
      "Moviepy - Done !\n",
      "Moviepy - video ready D:\\Documents\\Trabajo\\megaproyecto_model\\data/asl_preprocessing/speed_output.mp4\n",
      "--------------------\n",
      "FPS:  30  VIDEO DURATION:  0.9333333333333333\n",
      "--------------------\n",
      "Moviepy - Building video D:\\Documents\\Trabajo\\megaproyecto_model\\data/asl_preprocessing/speed_output.mp4.\n",
      "MoviePy - Writing audio in speed_outputTEMP_MPY_wvf_snd.mp3\n"
     ]
    },
    {
     "name": "stderr",
     "output_type": "stream",
     "text": [
      "                                                       \r"
     ]
    },
    {
     "name": "stdout",
     "output_type": "stream",
     "text": [
      "MoviePy - Done.\n",
      "Moviepy - Writing video D:\\Documents\\Trabajo\\megaproyecto_model\\data/asl_preprocessing/speed_output.mp4\n",
      "\n"
     ]
    },
    {
     "name": "stderr",
     "output_type": "stream",
     "text": [
      "                                                              \r"
     ]
    },
    {
     "name": "stdout",
     "output_type": "stream",
     "text": [
      "Moviepy - Done !\n",
      "Moviepy - video ready D:\\Documents\\Trabajo\\megaproyecto_model\\data/asl_preprocessing/speed_output.mp4\n",
      "--------------------\n",
      "FPS:  30  VIDEO DURATION:  0.9\n",
      "--------------------\n",
      "Moviepy - Building video D:\\Documents\\Trabajo\\megaproyecto_model\\data/asl_preprocessing/speed_output.mp4.\n",
      "MoviePy - Writing audio in speed_outputTEMP_MPY_wvf_snd.mp3\n"
     ]
    },
    {
     "name": "stderr",
     "output_type": "stream",
     "text": [
      "                                                       \r"
     ]
    },
    {
     "name": "stdout",
     "output_type": "stream",
     "text": [
      "MoviePy - Done.\n",
      "Moviepy - Writing video D:\\Documents\\Trabajo\\megaproyecto_model\\data/asl_preprocessing/speed_output.mp4\n",
      "\n"
     ]
    },
    {
     "name": "stderr",
     "output_type": "stream",
     "text": [
      "                                                              \r"
     ]
    },
    {
     "name": "stdout",
     "output_type": "stream",
     "text": [
      "Moviepy - Done !\n",
      "Moviepy - video ready D:\\Documents\\Trabajo\\megaproyecto_model\\data/asl_preprocessing/speed_output.mp4\n",
      "--------------------\n",
      "FPS:  30  VIDEO DURATION:  0.9333333333333333\n",
      "--------------------\n",
      "Moviepy - Building video D:\\Documents\\Trabajo\\megaproyecto_model\\data/asl_preprocessing/speed_output.mp4.\n",
      "MoviePy - Writing audio in speed_outputTEMP_MPY_wvf_snd.mp3\n"
     ]
    },
    {
     "name": "stderr",
     "output_type": "stream",
     "text": [
      "                                                       \r"
     ]
    },
    {
     "name": "stdout",
     "output_type": "stream",
     "text": [
      "MoviePy - Done.\n",
      "Moviepy - Writing video D:\\Documents\\Trabajo\\megaproyecto_model\\data/asl_preprocessing/speed_output.mp4\n",
      "\n"
     ]
    },
    {
     "name": "stderr",
     "output_type": "stream",
     "text": [
      "                                                              \r"
     ]
    },
    {
     "name": "stdout",
     "output_type": "stream",
     "text": [
      "Moviepy - Done !\n",
      "Moviepy - video ready D:\\Documents\\Trabajo\\megaproyecto_model\\data/asl_preprocessing/speed_output.mp4\n",
      "--------------------\n",
      "FPS:  30  VIDEO DURATION:  0.9333333333333333\n",
      "--------------------\n",
      "Moviepy - Building video D:\\Documents\\Trabajo\\megaproyecto_model\\data/asl_preprocessing/speed_output.mp4.\n",
      "MoviePy - Writing audio in speed_outputTEMP_MPY_wvf_snd.mp3\n"
     ]
    },
    {
     "name": "stderr",
     "output_type": "stream",
     "text": [
      "                                                       \r"
     ]
    },
    {
     "name": "stdout",
     "output_type": "stream",
     "text": [
      "MoviePy - Done.\n",
      "Moviepy - Writing video D:\\Documents\\Trabajo\\megaproyecto_model\\data/asl_preprocessing/speed_output.mp4\n",
      "\n"
     ]
    },
    {
     "name": "stderr",
     "output_type": "stream",
     "text": [
      "                                                              \r"
     ]
    },
    {
     "name": "stdout",
     "output_type": "stream",
     "text": [
      "Moviepy - Done !\n",
      "Moviepy - video ready D:\\Documents\\Trabajo\\megaproyecto_model\\data/asl_preprocessing/speed_output.mp4\n",
      "--------------------\n",
      "FPS:  30  VIDEO DURATION:  1.0\n",
      "--------------------\n",
      "Moviepy - Building video D:\\Documents\\Trabajo\\megaproyecto_model\\data/asl_preprocessing/speed_output.mp4.\n",
      "MoviePy - Writing audio in speed_outputTEMP_MPY_wvf_snd.mp3\n"
     ]
    },
    {
     "name": "stderr",
     "output_type": "stream",
     "text": [
      "                                                       \r"
     ]
    },
    {
     "name": "stdout",
     "output_type": "stream",
     "text": [
      "MoviePy - Done.\n",
      "Moviepy - Writing video D:\\Documents\\Trabajo\\megaproyecto_model\\data/asl_preprocessing/speed_output.mp4\n",
      "\n"
     ]
    },
    {
     "name": "stderr",
     "output_type": "stream",
     "text": [
      "                                                            \r"
     ]
    },
    {
     "name": "stdout",
     "output_type": "stream",
     "text": [
      "Moviepy - Done !\n",
      "Moviepy - video ready D:\\Documents\\Trabajo\\megaproyecto_model\\data/asl_preprocessing/speed_output.mp4\n",
      "--------------------\n",
      "FPS:  30  VIDEO DURATION:  0.9333333333333333\n",
      "--------------------\n",
      "Moviepy - Building video D:\\Documents\\Trabajo\\megaproyecto_model\\data/asl_preprocessing/speed_output.mp4.\n",
      "MoviePy - Writing audio in speed_outputTEMP_MPY_wvf_snd.mp3\n"
     ]
    },
    {
     "name": "stderr",
     "output_type": "stream",
     "text": [
      "                                                       \r"
     ]
    },
    {
     "name": "stdout",
     "output_type": "stream",
     "text": [
      "MoviePy - Done.\n",
      "Moviepy - Writing video D:\\Documents\\Trabajo\\megaproyecto_model\\data/asl_preprocessing/speed_output.mp4\n",
      "\n"
     ]
    },
    {
     "name": "stderr",
     "output_type": "stream",
     "text": [
      "                                                            \r"
     ]
    },
    {
     "name": "stdout",
     "output_type": "stream",
     "text": [
      "Moviepy - Done !\n",
      "Moviepy - video ready D:\\Documents\\Trabajo\\megaproyecto_model\\data/asl_preprocessing/speed_output.mp4\n",
      "--------------------\n",
      "FPS:  30  VIDEO DURATION:  0.8\n",
      "--------------------\n",
      "Moviepy - Building video D:\\Documents\\Trabajo\\megaproyecto_model\\data/asl_preprocessing/speed_output.mp4.\n",
      "MoviePy - Writing audio in speed_outputTEMP_MPY_wvf_snd.mp3\n"
     ]
    },
    {
     "name": "stderr",
     "output_type": "stream",
     "text": [
      "                                                       \r"
     ]
    },
    {
     "name": "stdout",
     "output_type": "stream",
     "text": [
      "MoviePy - Done.\n",
      "Moviepy - Writing video D:\\Documents\\Trabajo\\megaproyecto_model\\data/asl_preprocessing/speed_output.mp4\n",
      "\n"
     ]
    },
    {
     "name": "stderr",
     "output_type": "stream",
     "text": [
      "                                                            \r"
     ]
    },
    {
     "name": "stdout",
     "output_type": "stream",
     "text": [
      "Moviepy - Done !\n",
      "Moviepy - video ready D:\\Documents\\Trabajo\\megaproyecto_model\\data/asl_preprocessing/speed_output.mp4\n",
      "--------------------\n",
      "FPS:  30  VIDEO DURATION:  1.0\n",
      "--------------------\n",
      "Moviepy - Building video D:\\Documents\\Trabajo\\megaproyecto_model\\data/asl_preprocessing/speed_output.mp4.\n",
      "MoviePy - Writing audio in speed_outputTEMP_MPY_wvf_snd.mp3\n"
     ]
    },
    {
     "name": "stderr",
     "output_type": "stream",
     "text": [
      "                                                       \r"
     ]
    },
    {
     "name": "stdout",
     "output_type": "stream",
     "text": [
      "MoviePy - Done.\n",
      "Moviepy - Writing video D:\\Documents\\Trabajo\\megaproyecto_model\\data/asl_preprocessing/speed_output.mp4\n",
      "\n"
     ]
    },
    {
     "name": "stderr",
     "output_type": "stream",
     "text": [
      "                                                              \r"
     ]
    },
    {
     "name": "stdout",
     "output_type": "stream",
     "text": [
      "Moviepy - Done !\n",
      "Moviepy - video ready D:\\Documents\\Trabajo\\megaproyecto_model\\data/asl_preprocessing/speed_output.mp4\n",
      "--------------------\n",
      "FPS:  30  VIDEO DURATION:  1.0\n",
      "--------------------\n",
      "Moviepy - Building video D:\\Documents\\Trabajo\\megaproyecto_model\\data/asl_preprocessing/speed_output.mp4.\n",
      "MoviePy - Writing audio in speed_outputTEMP_MPY_wvf_snd.mp3\n"
     ]
    },
    {
     "name": "stderr",
     "output_type": "stream",
     "text": [
      "                                                       \r"
     ]
    },
    {
     "name": "stdout",
     "output_type": "stream",
     "text": [
      "MoviePy - Done.\n",
      "Moviepy - Writing video D:\\Documents\\Trabajo\\megaproyecto_model\\data/asl_preprocessing/speed_output.mp4\n",
      "\n"
     ]
    },
    {
     "name": "stderr",
     "output_type": "stream",
     "text": [
      "                                                              \r"
     ]
    },
    {
     "name": "stdout",
     "output_type": "stream",
     "text": [
      "Moviepy - Done !\n",
      "Moviepy - video ready D:\\Documents\\Trabajo\\megaproyecto_model\\data/asl_preprocessing/speed_output.mp4\n",
      "--------------------\n",
      "FPS:  30  VIDEO DURATION:  0.9\n",
      "--------------------\n",
      "Moviepy - Building video D:\\Documents\\Trabajo\\megaproyecto_model\\data/asl_preprocessing/speed_output.mp4.\n",
      "MoviePy - Writing audio in speed_outputTEMP_MPY_wvf_snd.mp3\n"
     ]
    },
    {
     "name": "stderr",
     "output_type": "stream",
     "text": [
      "                                                       \r"
     ]
    },
    {
     "name": "stdout",
     "output_type": "stream",
     "text": [
      "MoviePy - Done.\n",
      "Moviepy - Writing video D:\\Documents\\Trabajo\\megaproyecto_model\\data/asl_preprocessing/speed_output.mp4\n",
      "\n"
     ]
    },
    {
     "name": "stderr",
     "output_type": "stream",
     "text": [
      "                                                              \r"
     ]
    },
    {
     "name": "stdout",
     "output_type": "stream",
     "text": [
      "Moviepy - Done !\n",
      "Moviepy - video ready D:\\Documents\\Trabajo\\megaproyecto_model\\data/asl_preprocessing/speed_output.mp4\n",
      "--------------------\n",
      "FPS:  30  VIDEO DURATION:  1.1666666666666667\n",
      "--------------------\n",
      "Moviepy - Building video D:\\Documents\\Trabajo\\megaproyecto_model\\data/asl_preprocessing/speed_output.mp4.\n",
      "MoviePy - Writing audio in speed_outputTEMP_MPY_wvf_snd.mp3\n"
     ]
    },
    {
     "name": "stderr",
     "output_type": "stream",
     "text": [
      "                                                       \r"
     ]
    },
    {
     "name": "stdout",
     "output_type": "stream",
     "text": [
      "MoviePy - Done.\n",
      "Moviepy - Writing video D:\\Documents\\Trabajo\\megaproyecto_model\\data/asl_preprocessing/speed_output.mp4\n",
      "\n"
     ]
    },
    {
     "name": "stderr",
     "output_type": "stream",
     "text": [
      "                                                              \r"
     ]
    },
    {
     "name": "stdout",
     "output_type": "stream",
     "text": [
      "Moviepy - Done !\n",
      "Moviepy - video ready D:\\Documents\\Trabajo\\megaproyecto_model\\data/asl_preprocessing/speed_output.mp4\n",
      "--------------------\n",
      "FPS:  30  VIDEO DURATION:  0.9666666666666667\n",
      "--------------------\n",
      "Moviepy - Building video D:\\Documents\\Trabajo\\megaproyecto_model\\data/asl_preprocessing/speed_output.mp4.\n",
      "MoviePy - Writing audio in speed_outputTEMP_MPY_wvf_snd.mp3\n"
     ]
    },
    {
     "name": "stderr",
     "output_type": "stream",
     "text": [
      "                                                       \r"
     ]
    },
    {
     "name": "stdout",
     "output_type": "stream",
     "text": [
      "MoviePy - Done.\n",
      "Moviepy - Writing video D:\\Documents\\Trabajo\\megaproyecto_model\\data/asl_preprocessing/speed_output.mp4\n",
      "\n"
     ]
    },
    {
     "name": "stderr",
     "output_type": "stream",
     "text": [
      "                                                              \r"
     ]
    },
    {
     "name": "stdout",
     "output_type": "stream",
     "text": [
      "Moviepy - Done !\n",
      "Moviepy - video ready D:\\Documents\\Trabajo\\megaproyecto_model\\data/asl_preprocessing/speed_output.mp4\n",
      "--------------------\n",
      "FPS:  30  VIDEO DURATION:  1.0333333333333334\n",
      "--------------------\n",
      "Moviepy - Building video D:\\Documents\\Trabajo\\megaproyecto_model\\data/asl_preprocessing/speed_output.mp4.\n",
      "MoviePy - Writing audio in speed_outputTEMP_MPY_wvf_snd.mp3\n"
     ]
    },
    {
     "name": "stderr",
     "output_type": "stream",
     "text": [
      "                                                       \r"
     ]
    },
    {
     "name": "stdout",
     "output_type": "stream",
     "text": [
      "MoviePy - Done.\n",
      "Moviepy - Writing video D:\\Documents\\Trabajo\\megaproyecto_model\\data/asl_preprocessing/speed_output.mp4\n",
      "\n"
     ]
    },
    {
     "name": "stderr",
     "output_type": "stream",
     "text": [
      "                                                            \r"
     ]
    },
    {
     "name": "stdout",
     "output_type": "stream",
     "text": [
      "Moviepy - Done !\n",
      "Moviepy - video ready D:\\Documents\\Trabajo\\megaproyecto_model\\data/asl_preprocessing/speed_output.mp4\n",
      "--------------------\n",
      "FPS:  30  VIDEO DURATION:  1.2333333333333334\n",
      "--------------------\n",
      "Moviepy - Building video D:\\Documents\\Trabajo\\megaproyecto_model\\data/asl_preprocessing/speed_output.mp4.\n",
      "MoviePy - Writing audio in speed_outputTEMP_MPY_wvf_snd.mp3\n"
     ]
    },
    {
     "name": "stderr",
     "output_type": "stream",
     "text": [
      "                                                       \r"
     ]
    },
    {
     "name": "stdout",
     "output_type": "stream",
     "text": [
      "MoviePy - Done.\n",
      "Moviepy - Writing video D:\\Documents\\Trabajo\\megaproyecto_model\\data/asl_preprocessing/speed_output.mp4\n",
      "\n"
     ]
    },
    {
     "name": "stderr",
     "output_type": "stream",
     "text": [
      "                                                              \r"
     ]
    },
    {
     "name": "stdout",
     "output_type": "stream",
     "text": [
      "Moviepy - Done !\n",
      "Moviepy - video ready D:\\Documents\\Trabajo\\megaproyecto_model\\data/asl_preprocessing/speed_output.mp4\n",
      "--------------------\n",
      "FPS:  30  VIDEO DURATION:  1.1666666666666667\n",
      "--------------------\n",
      "Moviepy - Building video D:\\Documents\\Trabajo\\megaproyecto_model\\data/asl_preprocessing/speed_output.mp4.\n",
      "MoviePy - Writing audio in speed_outputTEMP_MPY_wvf_snd.mp3\n"
     ]
    },
    {
     "name": "stderr",
     "output_type": "stream",
     "text": [
      "                                                       \r"
     ]
    },
    {
     "name": "stdout",
     "output_type": "stream",
     "text": [
      "MoviePy - Done.\n",
      "Moviepy - Writing video D:\\Documents\\Trabajo\\megaproyecto_model\\data/asl_preprocessing/speed_output.mp4\n",
      "\n"
     ]
    },
    {
     "name": "stderr",
     "output_type": "stream",
     "text": [
      "                                                            \r"
     ]
    },
    {
     "name": "stdout",
     "output_type": "stream",
     "text": [
      "Moviepy - Done !\n",
      "Moviepy - video ready D:\\Documents\\Trabajo\\megaproyecto_model\\data/asl_preprocessing/speed_output.mp4\n",
      "--------------------\n",
      "FPS:  30  VIDEO DURATION:  1.0666666666666667\n",
      "--------------------\n",
      "Moviepy - Building video D:\\Documents\\Trabajo\\megaproyecto_model\\data/asl_preprocessing/speed_output.mp4.\n",
      "MoviePy - Writing audio in speed_outputTEMP_MPY_wvf_snd.mp3\n"
     ]
    },
    {
     "name": "stderr",
     "output_type": "stream",
     "text": [
      "                                                       \r"
     ]
    },
    {
     "name": "stdout",
     "output_type": "stream",
     "text": [
      "MoviePy - Done.\n",
      "Moviepy - Writing video D:\\Documents\\Trabajo\\megaproyecto_model\\data/asl_preprocessing/speed_output.mp4\n",
      "\n"
     ]
    },
    {
     "name": "stderr",
     "output_type": "stream",
     "text": [
      "                                                            \r"
     ]
    },
    {
     "name": "stdout",
     "output_type": "stream",
     "text": [
      "Moviepy - Done !\n",
      "Moviepy - video ready D:\\Documents\\Trabajo\\megaproyecto_model\\data/asl_preprocessing/speed_output.mp4\n",
      "--------------------\n",
      "FPS:  30  VIDEO DURATION:  1.1\n",
      "--------------------\n",
      "Moviepy - Building video D:\\Documents\\Trabajo\\megaproyecto_model\\data/asl_preprocessing/speed_output.mp4.\n",
      "MoviePy - Writing audio in speed_outputTEMP_MPY_wvf_snd.mp3\n"
     ]
    },
    {
     "name": "stderr",
     "output_type": "stream",
     "text": [
      "                                                       \r"
     ]
    },
    {
     "name": "stdout",
     "output_type": "stream",
     "text": [
      "MoviePy - Done.\n",
      "Moviepy - Writing video D:\\Documents\\Trabajo\\megaproyecto_model\\data/asl_preprocessing/speed_output.mp4\n",
      "\n"
     ]
    },
    {
     "name": "stderr",
     "output_type": "stream",
     "text": [
      "                                                            \r"
     ]
    },
    {
     "name": "stdout",
     "output_type": "stream",
     "text": [
      "Moviepy - Done !\n",
      "Moviepy - video ready D:\\Documents\\Trabajo\\megaproyecto_model\\data/asl_preprocessing/speed_output.mp4\n",
      "--------------------\n",
      "FPS:  30  VIDEO DURATION:  1.0666666666666667\n",
      "--------------------\n",
      "Moviepy - Building video D:\\Documents\\Trabajo\\megaproyecto_model\\data/asl_preprocessing/speed_output.mp4.\n",
      "MoviePy - Writing audio in speed_outputTEMP_MPY_wvf_snd.mp3\n"
     ]
    },
    {
     "name": "stderr",
     "output_type": "stream",
     "text": [
      "                                                       \r"
     ]
    },
    {
     "name": "stdout",
     "output_type": "stream",
     "text": [
      "MoviePy - Done.\n",
      "Moviepy - Writing video D:\\Documents\\Trabajo\\megaproyecto_model\\data/asl_preprocessing/speed_output.mp4\n",
      "\n"
     ]
    },
    {
     "name": "stderr",
     "output_type": "stream",
     "text": [
      "                                                            \r"
     ]
    },
    {
     "name": "stdout",
     "output_type": "stream",
     "text": [
      "Moviepy - Done !\n",
      "Moviepy - video ready D:\\Documents\\Trabajo\\megaproyecto_model\\data/asl_preprocessing/speed_output.mp4\n",
      "--------------------\n",
      "FPS:  30  VIDEO DURATION:  1.0666666666666667\n",
      "--------------------\n",
      "Moviepy - Building video D:\\Documents\\Trabajo\\megaproyecto_model\\data/asl_preprocessing/speed_output.mp4.\n",
      "MoviePy - Writing audio in speed_outputTEMP_MPY_wvf_snd.mp3\n"
     ]
    },
    {
     "name": "stderr",
     "output_type": "stream",
     "text": [
      "                                                       \r"
     ]
    },
    {
     "name": "stdout",
     "output_type": "stream",
     "text": [
      "MoviePy - Done.\n",
      "Moviepy - Writing video D:\\Documents\\Trabajo\\megaproyecto_model\\data/asl_preprocessing/speed_output.mp4\n",
      "\n"
     ]
    },
    {
     "name": "stderr",
     "output_type": "stream",
     "text": [
      "                                                            \r"
     ]
    },
    {
     "name": "stdout",
     "output_type": "stream",
     "text": [
      "Moviepy - Done !\n",
      "Moviepy - video ready D:\\Documents\\Trabajo\\megaproyecto_model\\data/asl_preprocessing/speed_output.mp4\n",
      "--------------------\n",
      "FPS:  30  VIDEO DURATION:  1.0\n",
      "--------------------\n",
      "Moviepy - Building video D:\\Documents\\Trabajo\\megaproyecto_model\\data/asl_preprocessing/speed_output.mp4.\n",
      "MoviePy - Writing audio in speed_outputTEMP_MPY_wvf_snd.mp3\n"
     ]
    },
    {
     "name": "stderr",
     "output_type": "stream",
     "text": [
      "                                                       \r"
     ]
    },
    {
     "name": "stdout",
     "output_type": "stream",
     "text": [
      "MoviePy - Done.\n",
      "Moviepy - Writing video D:\\Documents\\Trabajo\\megaproyecto_model\\data/asl_preprocessing/speed_output.mp4\n",
      "\n"
     ]
    },
    {
     "name": "stderr",
     "output_type": "stream",
     "text": [
      "                                                              \r"
     ]
    },
    {
     "name": "stdout",
     "output_type": "stream",
     "text": [
      "Moviepy - Done !\n",
      "Moviepy - video ready D:\\Documents\\Trabajo\\megaproyecto_model\\data/asl_preprocessing/speed_output.mp4\n",
      "--------------------\n",
      "FPS:  30  VIDEO DURATION:  0.9666666666666667\n",
      "--------------------\n",
      "Moviepy - Building video D:\\Documents\\Trabajo\\megaproyecto_model\\data/asl_preprocessing/speed_output.mp4.\n",
      "MoviePy - Writing audio in speed_outputTEMP_MPY_wvf_snd.mp3\n"
     ]
    },
    {
     "name": "stderr",
     "output_type": "stream",
     "text": [
      "                                                       \r"
     ]
    },
    {
     "name": "stdout",
     "output_type": "stream",
     "text": [
      "MoviePy - Done.\n",
      "Moviepy - Writing video D:\\Documents\\Trabajo\\megaproyecto_model\\data/asl_preprocessing/speed_output.mp4\n",
      "\n"
     ]
    },
    {
     "name": "stderr",
     "output_type": "stream",
     "text": [
      "                                                            \r"
     ]
    },
    {
     "name": "stdout",
     "output_type": "stream",
     "text": [
      "Moviepy - Done !\n",
      "Moviepy - video ready D:\\Documents\\Trabajo\\megaproyecto_model\\data/asl_preprocessing/speed_output.mp4\n",
      "--------------------\n",
      "FPS:  30  VIDEO DURATION:  1.1\n",
      "--------------------\n",
      "Moviepy - Building video D:\\Documents\\Trabajo\\megaproyecto_model\\data/asl_preprocessing/speed_output.mp4.\n",
      "MoviePy - Writing audio in speed_outputTEMP_MPY_wvf_snd.mp3\n"
     ]
    },
    {
     "name": "stderr",
     "output_type": "stream",
     "text": [
      "                                                       \r"
     ]
    },
    {
     "name": "stdout",
     "output_type": "stream",
     "text": [
      "MoviePy - Done.\n",
      "Moviepy - Writing video D:\\Documents\\Trabajo\\megaproyecto_model\\data/asl_preprocessing/speed_output.mp4\n",
      "\n"
     ]
    },
    {
     "name": "stderr",
     "output_type": "stream",
     "text": [
      "                                                              \r"
     ]
    },
    {
     "name": "stdout",
     "output_type": "stream",
     "text": [
      "Moviepy - Done !\n",
      "Moviepy - video ready D:\\Documents\\Trabajo\\megaproyecto_model\\data/asl_preprocessing/speed_output.mp4\n",
      "--------------------\n",
      "FPS:  30  VIDEO DURATION:  0.9666666666666667\n",
      "--------------------\n",
      "Moviepy - Building video D:\\Documents\\Trabajo\\megaproyecto_model\\data/asl_preprocessing/speed_output.mp4.\n",
      "MoviePy - Writing audio in speed_outputTEMP_MPY_wvf_snd.mp3\n"
     ]
    },
    {
     "name": "stderr",
     "output_type": "stream",
     "text": [
      "                                                       \r"
     ]
    },
    {
     "name": "stdout",
     "output_type": "stream",
     "text": [
      "MoviePy - Done.\n",
      "Moviepy - Writing video D:\\Documents\\Trabajo\\megaproyecto_model\\data/asl_preprocessing/speed_output.mp4\n",
      "\n"
     ]
    },
    {
     "name": "stderr",
     "output_type": "stream",
     "text": [
      "                                                              \r"
     ]
    },
    {
     "name": "stdout",
     "output_type": "stream",
     "text": [
      "Moviepy - Done !\n",
      "Moviepy - video ready D:\\Documents\\Trabajo\\megaproyecto_model\\data/asl_preprocessing/speed_output.mp4\n",
      "--------------------\n",
      "FPS:  30  VIDEO DURATION:  1.1333333333333333\n",
      "--------------------\n",
      "Moviepy - Building video D:\\Documents\\Trabajo\\megaproyecto_model\\data/asl_preprocessing/speed_output.mp4.\n",
      "MoviePy - Writing audio in speed_outputTEMP_MPY_wvf_snd.mp3\n"
     ]
    },
    {
     "name": "stderr",
     "output_type": "stream",
     "text": [
      "                                                       \r"
     ]
    },
    {
     "name": "stdout",
     "output_type": "stream",
     "text": [
      "MoviePy - Done.\n",
      "Moviepy - Writing video D:\\Documents\\Trabajo\\megaproyecto_model\\data/asl_preprocessing/speed_output.mp4\n",
      "\n"
     ]
    },
    {
     "name": "stderr",
     "output_type": "stream",
     "text": [
      "                                                            \r"
     ]
    },
    {
     "name": "stdout",
     "output_type": "stream",
     "text": [
      "Moviepy - Done !\n",
      "Moviepy - video ready D:\\Documents\\Trabajo\\megaproyecto_model\\data/asl_preprocessing/speed_output.mp4\n",
      "--------------------\n",
      "FPS:  30  VIDEO DURATION:  1.3333333333333333\n",
      "--------------------\n",
      "Moviepy - Building video D:\\Documents\\Trabajo\\megaproyecto_model\\data/asl_preprocessing/speed_output.mp4.\n",
      "MoviePy - Writing audio in speed_outputTEMP_MPY_wvf_snd.mp3\n"
     ]
    },
    {
     "name": "stderr",
     "output_type": "stream",
     "text": [
      "                                                                 \r"
     ]
    },
    {
     "name": "stdout",
     "output_type": "stream",
     "text": [
      "MoviePy - Done.\n",
      "Moviepy - Writing video D:\\Documents\\Trabajo\\megaproyecto_model\\data/asl_preprocessing/speed_output.mp4\n",
      "\n"
     ]
    },
    {
     "name": "stderr",
     "output_type": "stream",
     "text": [
      "                                                            \r"
     ]
    },
    {
     "name": "stdout",
     "output_type": "stream",
     "text": [
      "Moviepy - Done !\n",
      "Moviepy - video ready D:\\Documents\\Trabajo\\megaproyecto_model\\data/asl_preprocessing/speed_output.mp4\n",
      "--------------------\n",
      "FPS:  30  VIDEO DURATION:  0.9666666666666667\n",
      "--------------------\n",
      "Moviepy - Building video D:\\Documents\\Trabajo\\megaproyecto_model\\data/asl_preprocessing/speed_output.mp4.\n",
      "MoviePy - Writing audio in speed_outputTEMP_MPY_wvf_snd.mp3\n"
     ]
    },
    {
     "name": "stderr",
     "output_type": "stream",
     "text": [
      "                                                       \r"
     ]
    },
    {
     "name": "stdout",
     "output_type": "stream",
     "text": [
      "MoviePy - Done.\n",
      "Moviepy - Writing video D:\\Documents\\Trabajo\\megaproyecto_model\\data/asl_preprocessing/speed_output.mp4\n",
      "\n"
     ]
    },
    {
     "name": "stderr",
     "output_type": "stream",
     "text": [
      "                                                            \r"
     ]
    },
    {
     "name": "stdout",
     "output_type": "stream",
     "text": [
      "Moviepy - Done !\n",
      "Moviepy - video ready D:\\Documents\\Trabajo\\megaproyecto_model\\data/asl_preprocessing/speed_output.mp4\n",
      "--------------------\n",
      "FPS:  30  VIDEO DURATION:  1.1333333333333333\n",
      "--------------------\n",
      "Moviepy - Building video D:\\Documents\\Trabajo\\megaproyecto_model\\data/asl_preprocessing/speed_output.mp4.\n",
      "MoviePy - Writing audio in speed_outputTEMP_MPY_wvf_snd.mp3\n"
     ]
    },
    {
     "name": "stderr",
     "output_type": "stream",
     "text": [
      "                                                       \r"
     ]
    },
    {
     "name": "stdout",
     "output_type": "stream",
     "text": [
      "MoviePy - Done.\n",
      "Moviepy - Writing video D:\\Documents\\Trabajo\\megaproyecto_model\\data/asl_preprocessing/speed_output.mp4\n",
      "\n"
     ]
    },
    {
     "name": "stderr",
     "output_type": "stream",
     "text": [
      "                                                            \r"
     ]
    },
    {
     "name": "stdout",
     "output_type": "stream",
     "text": [
      "Moviepy - Done !\n",
      "Moviepy - video ready D:\\Documents\\Trabajo\\megaproyecto_model\\data/asl_preprocessing/speed_output.mp4\n",
      "--------------------\n",
      "FPS:  30  VIDEO DURATION:  0.8666666666666667\n",
      "--------------------\n",
      "Moviepy - Building video D:\\Documents\\Trabajo\\megaproyecto_model\\data/asl_preprocessing/speed_output.mp4.\n",
      "MoviePy - Writing audio in speed_outputTEMP_MPY_wvf_snd.mp3\n"
     ]
    },
    {
     "name": "stderr",
     "output_type": "stream",
     "text": [
      "                                                       \r"
     ]
    },
    {
     "name": "stdout",
     "output_type": "stream",
     "text": [
      "MoviePy - Done.\n",
      "Moviepy - Writing video D:\\Documents\\Trabajo\\megaproyecto_model\\data/asl_preprocessing/speed_output.mp4\n",
      "\n"
     ]
    },
    {
     "name": "stderr",
     "output_type": "stream",
     "text": [
      "                                                            \r"
     ]
    },
    {
     "name": "stdout",
     "output_type": "stream",
     "text": [
      "Moviepy - Done !\n",
      "Moviepy - video ready D:\\Documents\\Trabajo\\megaproyecto_model\\data/asl_preprocessing/speed_output.mp4\n",
      "--------------------\n",
      "FPS:  30  VIDEO DURATION:  0.8666666666666667\n",
      "--------------------\n",
      "Moviepy - Building video D:\\Documents\\Trabajo\\megaproyecto_model\\data/asl_preprocessing/speed_output.mp4.\n",
      "MoviePy - Writing audio in speed_outputTEMP_MPY_wvf_snd.mp3\n"
     ]
    },
    {
     "name": "stderr",
     "output_type": "stream",
     "text": [
      "                                                       \r"
     ]
    },
    {
     "name": "stdout",
     "output_type": "stream",
     "text": [
      "MoviePy - Done.\n",
      "Moviepy - Writing video D:\\Documents\\Trabajo\\megaproyecto_model\\data/asl_preprocessing/speed_output.mp4\n",
      "\n"
     ]
    },
    {
     "name": "stderr",
     "output_type": "stream",
     "text": [
      "                                                            \r"
     ]
    },
    {
     "name": "stdout",
     "output_type": "stream",
     "text": [
      "Moviepy - Done !\n",
      "Moviepy - video ready D:\\Documents\\Trabajo\\megaproyecto_model\\data/asl_preprocessing/speed_output.mp4\n",
      "--------------------\n",
      "FPS:  30  VIDEO DURATION:  0.8333333333333334\n",
      "--------------------\n",
      "Moviepy - Building video D:\\Documents\\Trabajo\\megaproyecto_model\\data/asl_preprocessing/speed_output.mp4.\n",
      "MoviePy - Writing audio in speed_outputTEMP_MPY_wvf_snd.mp3\n"
     ]
    },
    {
     "name": "stderr",
     "output_type": "stream",
     "text": [
      "                                                       \r"
     ]
    },
    {
     "name": "stdout",
     "output_type": "stream",
     "text": [
      "MoviePy - Done.\n",
      "Moviepy - Writing video D:\\Documents\\Trabajo\\megaproyecto_model\\data/asl_preprocessing/speed_output.mp4\n",
      "\n"
     ]
    },
    {
     "name": "stderr",
     "output_type": "stream",
     "text": [
      "                                                              \r"
     ]
    },
    {
     "name": "stdout",
     "output_type": "stream",
     "text": [
      "Moviepy - Done !\n",
      "Moviepy - video ready D:\\Documents\\Trabajo\\megaproyecto_model\\data/asl_preprocessing/speed_output.mp4\n",
      "--------------------\n",
      "FPS:  30  VIDEO DURATION:  1.0\n",
      "--------------------\n",
      "Moviepy - Building video D:\\Documents\\Trabajo\\megaproyecto_model\\data/asl_preprocessing/speed_output.mp4.\n",
      "MoviePy - Writing audio in speed_outputTEMP_MPY_wvf_snd.mp3\n"
     ]
    },
    {
     "name": "stderr",
     "output_type": "stream",
     "text": [
      "                                                       \r"
     ]
    },
    {
     "name": "stdout",
     "output_type": "stream",
     "text": [
      "MoviePy - Done.\n",
      "Moviepy - Writing video D:\\Documents\\Trabajo\\megaproyecto_model\\data/asl_preprocessing/speed_output.mp4\n",
      "\n"
     ]
    },
    {
     "name": "stderr",
     "output_type": "stream",
     "text": [
      "                                                            \r"
     ]
    },
    {
     "name": "stdout",
     "output_type": "stream",
     "text": [
      "Moviepy - Done !\n",
      "Moviepy - video ready D:\\Documents\\Trabajo\\megaproyecto_model\\data/asl_preprocessing/speed_output.mp4\n",
      "--------------------\n",
      "FPS:  30  VIDEO DURATION:  0.9333333333333333\n",
      "--------------------\n",
      "Moviepy - Building video D:\\Documents\\Trabajo\\megaproyecto_model\\data/asl_preprocessing/speed_output.mp4.\n",
      "MoviePy - Writing audio in speed_outputTEMP_MPY_wvf_snd.mp3\n"
     ]
    },
    {
     "name": "stderr",
     "output_type": "stream",
     "text": [
      "                                                       \r"
     ]
    },
    {
     "name": "stdout",
     "output_type": "stream",
     "text": [
      "MoviePy - Done.\n",
      "Moviepy - Writing video D:\\Documents\\Trabajo\\megaproyecto_model\\data/asl_preprocessing/speed_output.mp4\n",
      "\n"
     ]
    },
    {
     "name": "stderr",
     "output_type": "stream",
     "text": [
      "                                                            \r"
     ]
    },
    {
     "name": "stdout",
     "output_type": "stream",
     "text": [
      "Moviepy - Done !\n",
      "Moviepy - video ready D:\\Documents\\Trabajo\\megaproyecto_model\\data/asl_preprocessing/speed_output.mp4\n",
      "--------------------\n",
      "FPS:  30  VIDEO DURATION:  1.3333333333333333\n",
      "--------------------\n",
      "Moviepy - Building video D:\\Documents\\Trabajo\\megaproyecto_model\\data/asl_preprocessing/speed_output.mp4.\n",
      "MoviePy - Writing audio in speed_outputTEMP_MPY_wvf_snd.mp3\n"
     ]
    },
    {
     "name": "stderr",
     "output_type": "stream",
     "text": [
      "                                                       \r"
     ]
    },
    {
     "name": "stdout",
     "output_type": "stream",
     "text": [
      "MoviePy - Done.\n",
      "Moviepy - Writing video D:\\Documents\\Trabajo\\megaproyecto_model\\data/asl_preprocessing/speed_output.mp4\n",
      "\n"
     ]
    },
    {
     "name": "stderr",
     "output_type": "stream",
     "text": [
      "                                                            \r"
     ]
    },
    {
     "name": "stdout",
     "output_type": "stream",
     "text": [
      "Moviepy - Done !\n",
      "Moviepy - video ready D:\\Documents\\Trabajo\\megaproyecto_model\\data/asl_preprocessing/speed_output.mp4\n",
      "--------------------\n",
      "FPS:  30  VIDEO DURATION:  1.1666666666666667\n",
      "--------------------\n",
      "Moviepy - Building video D:\\Documents\\Trabajo\\megaproyecto_model\\data/asl_preprocessing/speed_output.mp4.\n",
      "MoviePy - Writing audio in speed_outputTEMP_MPY_wvf_snd.mp3\n"
     ]
    },
    {
     "name": "stderr",
     "output_type": "stream",
     "text": [
      "                                                       \r"
     ]
    },
    {
     "name": "stdout",
     "output_type": "stream",
     "text": [
      "MoviePy - Done.\n",
      "Moviepy - Writing video D:\\Documents\\Trabajo\\megaproyecto_model\\data/asl_preprocessing/speed_output.mp4\n",
      "\n"
     ]
    },
    {
     "name": "stderr",
     "output_type": "stream",
     "text": [
      "                                                              \r"
     ]
    },
    {
     "name": "stdout",
     "output_type": "stream",
     "text": [
      "Moviepy - Done !\n",
      "Moviepy - video ready D:\\Documents\\Trabajo\\megaproyecto_model\\data/asl_preprocessing/speed_output.mp4\n",
      "--------------------\n",
      "FPS:  30  VIDEO DURATION:  1.0666666666666667\n",
      "--------------------\n",
      "Moviepy - Building video D:\\Documents\\Trabajo\\megaproyecto_model\\data/asl_preprocessing/speed_output.mp4.\n",
      "MoviePy - Writing audio in speed_outputTEMP_MPY_wvf_snd.mp3\n"
     ]
    },
    {
     "name": "stderr",
     "output_type": "stream",
     "text": [
      "                                                       \r"
     ]
    },
    {
     "name": "stdout",
     "output_type": "stream",
     "text": [
      "MoviePy - Done.\n",
      "Moviepy - Writing video D:\\Documents\\Trabajo\\megaproyecto_model\\data/asl_preprocessing/speed_output.mp4\n",
      "\n"
     ]
    },
    {
     "name": "stderr",
     "output_type": "stream",
     "text": [
      "                                                            \r"
     ]
    },
    {
     "name": "stdout",
     "output_type": "stream",
     "text": [
      "Moviepy - Done !\n",
      "Moviepy - video ready D:\\Documents\\Trabajo\\megaproyecto_model\\data/asl_preprocessing/speed_output.mp4\n",
      "--------------------\n",
      "FPS:  30  VIDEO DURATION:  1.1\n",
      "--------------------\n",
      "Moviepy - Building video D:\\Documents\\Trabajo\\megaproyecto_model\\data/asl_preprocessing/speed_output.mp4.\n",
      "MoviePy - Writing audio in speed_outputTEMP_MPY_wvf_snd.mp3\n"
     ]
    },
    {
     "name": "stderr",
     "output_type": "stream",
     "text": [
      "                                                       \r"
     ]
    },
    {
     "name": "stdout",
     "output_type": "stream",
     "text": [
      "MoviePy - Done.\n",
      "Moviepy - Writing video D:\\Documents\\Trabajo\\megaproyecto_model\\data/asl_preprocessing/speed_output.mp4\n",
      "\n"
     ]
    },
    {
     "name": "stderr",
     "output_type": "stream",
     "text": [
      "                                                            \r"
     ]
    },
    {
     "name": "stdout",
     "output_type": "stream",
     "text": [
      "Moviepy - Done !\n",
      "Moviepy - video ready D:\\Documents\\Trabajo\\megaproyecto_model\\data/asl_preprocessing/speed_output.mp4\n",
      "--------------------\n",
      "FPS:  30  VIDEO DURATION:  0.9\n",
      "--------------------\n",
      "Moviepy - Building video D:\\Documents\\Trabajo\\megaproyecto_model\\data/asl_preprocessing/speed_output.mp4.\n",
      "MoviePy - Writing audio in speed_outputTEMP_MPY_wvf_snd.mp3\n"
     ]
    },
    {
     "name": "stderr",
     "output_type": "stream",
     "text": [
      "                                                       \r"
     ]
    },
    {
     "name": "stdout",
     "output_type": "stream",
     "text": [
      "MoviePy - Done.\n",
      "Moviepy - Writing video D:\\Documents\\Trabajo\\megaproyecto_model\\data/asl_preprocessing/speed_output.mp4\n",
      "\n"
     ]
    },
    {
     "name": "stderr",
     "output_type": "stream",
     "text": [
      "                                                              \r"
     ]
    },
    {
     "name": "stdout",
     "output_type": "stream",
     "text": [
      "Moviepy - Done !\n",
      "Moviepy - video ready D:\\Documents\\Trabajo\\megaproyecto_model\\data/asl_preprocessing/speed_output.mp4\n",
      "--------------------\n",
      "FPS:  30  VIDEO DURATION:  1.1333333333333333\n",
      "--------------------\n",
      "Moviepy - Building video D:\\Documents\\Trabajo\\megaproyecto_model\\data/asl_preprocessing/speed_output.mp4.\n",
      "MoviePy - Writing audio in speed_outputTEMP_MPY_wvf_snd.mp3\n"
     ]
    },
    {
     "name": "stderr",
     "output_type": "stream",
     "text": [
      "                                                       \r"
     ]
    },
    {
     "name": "stdout",
     "output_type": "stream",
     "text": [
      "MoviePy - Done.\n",
      "Moviepy - Writing video D:\\Documents\\Trabajo\\megaproyecto_model\\data/asl_preprocessing/speed_output.mp4\n",
      "\n"
     ]
    },
    {
     "name": "stderr",
     "output_type": "stream",
     "text": [
      "                                                              \r"
     ]
    },
    {
     "name": "stdout",
     "output_type": "stream",
     "text": [
      "Moviepy - Done !\n",
      "Moviepy - video ready D:\\Documents\\Trabajo\\megaproyecto_model\\data/asl_preprocessing/speed_output.mp4\n",
      "--------------------\n",
      "FPS:  30  VIDEO DURATION:  0.9\n",
      "--------------------\n",
      "Moviepy - Building video D:\\Documents\\Trabajo\\megaproyecto_model\\data/asl_preprocessing/speed_output.mp4.\n",
      "MoviePy - Writing audio in speed_outputTEMP_MPY_wvf_snd.mp3\n"
     ]
    },
    {
     "name": "stderr",
     "output_type": "stream",
     "text": [
      "                                                       \r"
     ]
    },
    {
     "name": "stdout",
     "output_type": "stream",
     "text": [
      "MoviePy - Done.\n",
      "Moviepy - Writing video D:\\Documents\\Trabajo\\megaproyecto_model\\data/asl_preprocessing/speed_output.mp4\n",
      "\n"
     ]
    },
    {
     "name": "stderr",
     "output_type": "stream",
     "text": [
      "                                                              \r"
     ]
    },
    {
     "name": "stdout",
     "output_type": "stream",
     "text": [
      "Moviepy - Done !\n",
      "Moviepy - video ready D:\\Documents\\Trabajo\\megaproyecto_model\\data/asl_preprocessing/speed_output.mp4\n",
      "--------------------\n",
      "FPS:  30  VIDEO DURATION:  1.0333333333333334\n",
      "--------------------\n",
      "Moviepy - Building video D:\\Documents\\Trabajo\\megaproyecto_model\\data/asl_preprocessing/speed_output.mp4.\n",
      "MoviePy - Writing audio in speed_outputTEMP_MPY_wvf_snd.mp3\n"
     ]
    },
    {
     "name": "stderr",
     "output_type": "stream",
     "text": [
      "                                                       \r"
     ]
    },
    {
     "name": "stdout",
     "output_type": "stream",
     "text": [
      "MoviePy - Done.\n",
      "Moviepy - Writing video D:\\Documents\\Trabajo\\megaproyecto_model\\data/asl_preprocessing/speed_output.mp4\n",
      "\n"
     ]
    },
    {
     "name": "stderr",
     "output_type": "stream",
     "text": [
      "                                                            \r"
     ]
    },
    {
     "name": "stdout",
     "output_type": "stream",
     "text": [
      "Moviepy - Done !\n",
      "Moviepy - video ready D:\\Documents\\Trabajo\\megaproyecto_model\\data/asl_preprocessing/speed_output.mp4\n",
      "--------------------\n",
      "FPS:  30  VIDEO DURATION:  0.9\n",
      "--------------------\n",
      "Moviepy - Building video D:\\Documents\\Trabajo\\megaproyecto_model\\data/asl_preprocessing/speed_output.mp4.\n",
      "MoviePy - Writing audio in speed_outputTEMP_MPY_wvf_snd.mp3\n"
     ]
    },
    {
     "name": "stderr",
     "output_type": "stream",
     "text": [
      "                                                       \r"
     ]
    },
    {
     "name": "stdout",
     "output_type": "stream",
     "text": [
      "MoviePy - Done.\n",
      "Moviepy - Writing video D:\\Documents\\Trabajo\\megaproyecto_model\\data/asl_preprocessing/speed_output.mp4\n",
      "\n"
     ]
    },
    {
     "name": "stderr",
     "output_type": "stream",
     "text": [
      "                                                            \r"
     ]
    },
    {
     "name": "stdout",
     "output_type": "stream",
     "text": [
      "Moviepy - Done !\n",
      "Moviepy - video ready D:\\Documents\\Trabajo\\megaproyecto_model\\data/asl_preprocessing/speed_output.mp4\n",
      "--------------------\n",
      "FPS:  30  VIDEO DURATION:  1.4333333333333333\n",
      "--------------------\n",
      "Moviepy - Building video D:\\Documents\\Trabajo\\megaproyecto_model\\data/asl_preprocessing/speed_output.mp4.\n",
      "MoviePy - Writing audio in speed_outputTEMP_MPY_wvf_snd.mp3\n"
     ]
    },
    {
     "name": "stderr",
     "output_type": "stream",
     "text": [
      "                                                       \r"
     ]
    },
    {
     "name": "stdout",
     "output_type": "stream",
     "text": [
      "MoviePy - Done.\n",
      "Moviepy - Writing video D:\\Documents\\Trabajo\\megaproyecto_model\\data/asl_preprocessing/speed_output.mp4\n",
      "\n"
     ]
    },
    {
     "name": "stderr",
     "output_type": "stream",
     "text": [
      "                                                            \r"
     ]
    },
    {
     "name": "stdout",
     "output_type": "stream",
     "text": [
      "Moviepy - Done !\n",
      "Moviepy - video ready D:\\Documents\\Trabajo\\megaproyecto_model\\data/asl_preprocessing/speed_output.mp4\n",
      "--------------------\n",
      "FPS:  30  VIDEO DURATION:  1.1333333333333333\n",
      "--------------------\n",
      "Moviepy - Building video D:\\Documents\\Trabajo\\megaproyecto_model\\data/asl_preprocessing/speed_output.mp4.\n",
      "MoviePy - Writing audio in speed_outputTEMP_MPY_wvf_snd.mp3\n"
     ]
    },
    {
     "name": "stderr",
     "output_type": "stream",
     "text": [
      "                                                       \r"
     ]
    },
    {
     "name": "stdout",
     "output_type": "stream",
     "text": [
      "MoviePy - Done.\n",
      "Moviepy - Writing video D:\\Documents\\Trabajo\\megaproyecto_model\\data/asl_preprocessing/speed_output.mp4\n",
      "\n"
     ]
    },
    {
     "name": "stderr",
     "output_type": "stream",
     "text": [
      "                                                            \r"
     ]
    },
    {
     "name": "stdout",
     "output_type": "stream",
     "text": [
      "Moviepy - Done !\n",
      "Moviepy - video ready D:\\Documents\\Trabajo\\megaproyecto_model\\data/asl_preprocessing/speed_output.mp4\n",
      "--------------------\n",
      "FPS:  30  VIDEO DURATION:  0.9333333333333333\n",
      "--------------------\n",
      "Moviepy - Building video D:\\Documents\\Trabajo\\megaproyecto_model\\data/asl_preprocessing/speed_output.mp4.\n",
      "MoviePy - Writing audio in speed_outputTEMP_MPY_wvf_snd.mp3\n"
     ]
    },
    {
     "name": "stderr",
     "output_type": "stream",
     "text": [
      "                                                       \r"
     ]
    },
    {
     "name": "stdout",
     "output_type": "stream",
     "text": [
      "MoviePy - Done.\n",
      "Moviepy - Writing video D:\\Documents\\Trabajo\\megaproyecto_model\\data/asl_preprocessing/speed_output.mp4\n",
      "\n"
     ]
    },
    {
     "name": "stderr",
     "output_type": "stream",
     "text": [
      "                                                            \r"
     ]
    },
    {
     "name": "stdout",
     "output_type": "stream",
     "text": [
      "Moviepy - Done !\n",
      "Moviepy - video ready D:\\Documents\\Trabajo\\megaproyecto_model\\data/asl_preprocessing/speed_output.mp4\n",
      "--------------------\n",
      "FPS:  30  VIDEO DURATION:  1.0666666666666667\n",
      "--------------------\n",
      "Moviepy - Building video D:\\Documents\\Trabajo\\megaproyecto_model\\data/asl_preprocessing/speed_output.mp4.\n",
      "MoviePy - Writing audio in speed_outputTEMP_MPY_wvf_snd.mp3\n"
     ]
    },
    {
     "name": "stderr",
     "output_type": "stream",
     "text": [
      "                                                       \r"
     ]
    },
    {
     "name": "stdout",
     "output_type": "stream",
     "text": [
      "MoviePy - Done.\n",
      "Moviepy - Writing video D:\\Documents\\Trabajo\\megaproyecto_model\\data/asl_preprocessing/speed_output.mp4\n",
      "\n"
     ]
    },
    {
     "name": "stderr",
     "output_type": "stream",
     "text": [
      "                                                            \r"
     ]
    },
    {
     "name": "stdout",
     "output_type": "stream",
     "text": [
      "Moviepy - Done !\n",
      "Moviepy - video ready D:\\Documents\\Trabajo\\megaproyecto_model\\data/asl_preprocessing/speed_output.mp4\n",
      "--------------------\n",
      "FPS:  30  VIDEO DURATION:  1.0333333333333334\n",
      "--------------------\n",
      "Moviepy - Building video D:\\Documents\\Trabajo\\megaproyecto_model\\data/asl_preprocessing/speed_output.mp4.\n",
      "MoviePy - Writing audio in speed_outputTEMP_MPY_wvf_snd.mp3\n"
     ]
    },
    {
     "name": "stderr",
     "output_type": "stream",
     "text": [
      "                                                       \r"
     ]
    },
    {
     "name": "stdout",
     "output_type": "stream",
     "text": [
      "MoviePy - Done.\n",
      "Moviepy - Writing video D:\\Documents\\Trabajo\\megaproyecto_model\\data/asl_preprocessing/speed_output.mp4\n",
      "\n"
     ]
    },
    {
     "name": "stderr",
     "output_type": "stream",
     "text": [
      "                                                            \r"
     ]
    },
    {
     "name": "stdout",
     "output_type": "stream",
     "text": [
      "Moviepy - Done !\n",
      "Moviepy - video ready D:\\Documents\\Trabajo\\megaproyecto_model\\data/asl_preprocessing/speed_output.mp4\n",
      "--------------------\n",
      "FPS:  30  VIDEO DURATION:  1.4\n",
      "--------------------\n",
      "Moviepy - Building video D:\\Documents\\Trabajo\\megaproyecto_model\\data/asl_preprocessing/speed_output.mp4.\n",
      "MoviePy - Writing audio in speed_outputTEMP_MPY_wvf_snd.mp3\n"
     ]
    },
    {
     "name": "stderr",
     "output_type": "stream",
     "text": [
      "                                                       \r"
     ]
    },
    {
     "name": "stdout",
     "output_type": "stream",
     "text": [
      "MoviePy - Done.\n",
      "Moviepy - Writing video D:\\Documents\\Trabajo\\megaproyecto_model\\data/asl_preprocessing/speed_output.mp4\n",
      "\n"
     ]
    },
    {
     "name": "stderr",
     "output_type": "stream",
     "text": [
      "                                                              \r"
     ]
    },
    {
     "name": "stdout",
     "output_type": "stream",
     "text": [
      "Moviepy - Done !\n",
      "Moviepy - video ready D:\\Documents\\Trabajo\\megaproyecto_model\\data/asl_preprocessing/speed_output.mp4\n",
      "--------------------\n",
      "FPS:  30  VIDEO DURATION:  0.9\n",
      "--------------------\n",
      "Moviepy - Building video D:\\Documents\\Trabajo\\megaproyecto_model\\data/asl_preprocessing/speed_output.mp4.\n",
      "MoviePy - Writing audio in speed_outputTEMP_MPY_wvf_snd.mp3\n"
     ]
    },
    {
     "name": "stderr",
     "output_type": "stream",
     "text": [
      "                                                       \r"
     ]
    },
    {
     "name": "stdout",
     "output_type": "stream",
     "text": [
      "MoviePy - Done.\n",
      "Moviepy - Writing video D:\\Documents\\Trabajo\\megaproyecto_model\\data/asl_preprocessing/speed_output.mp4\n",
      "\n"
     ]
    },
    {
     "name": "stderr",
     "output_type": "stream",
     "text": [
      "                                                            \r"
     ]
    },
    {
     "name": "stdout",
     "output_type": "stream",
     "text": [
      "Moviepy - Done !\n",
      "Moviepy - video ready D:\\Documents\\Trabajo\\megaproyecto_model\\data/asl_preprocessing/speed_output.mp4\n",
      "--------------------\n",
      "FPS:  30  VIDEO DURATION:  1.0\n",
      "--------------------\n",
      "Moviepy - Building video D:\\Documents\\Trabajo\\megaproyecto_model\\data/asl_preprocessing/speed_output.mp4.\n",
      "MoviePy - Writing audio in speed_outputTEMP_MPY_wvf_snd.mp3\n"
     ]
    },
    {
     "name": "stderr",
     "output_type": "stream",
     "text": [
      "                                                       \r"
     ]
    },
    {
     "name": "stdout",
     "output_type": "stream",
     "text": [
      "MoviePy - Done.\n",
      "Moviepy - Writing video D:\\Documents\\Trabajo\\megaproyecto_model\\data/asl_preprocessing/speed_output.mp4\n",
      "\n"
     ]
    },
    {
     "name": "stderr",
     "output_type": "stream",
     "text": [
      "                                                             \r"
     ]
    },
    {
     "name": "stdout",
     "output_type": "stream",
     "text": [
      "Moviepy - Done !\n",
      "Moviepy - video ready D:\\Documents\\Trabajo\\megaproyecto_model\\data/asl_preprocessing/speed_output.mp4\n",
      "--------------------\n",
      "FPS:  30  VIDEO DURATION:  1.1666666666666667\n",
      "--------------------\n",
      "Moviepy - Building video D:\\Documents\\Trabajo\\megaproyecto_model\\data/asl_preprocessing/speed_output.mp4.\n",
      "MoviePy - Writing audio in speed_outputTEMP_MPY_wvf_snd.mp3\n"
     ]
    },
    {
     "name": "stderr",
     "output_type": "stream",
     "text": [
      "                                                       \r"
     ]
    },
    {
     "name": "stdout",
     "output_type": "stream",
     "text": [
      "MoviePy - Done.\n",
      "Moviepy - Writing video D:\\Documents\\Trabajo\\megaproyecto_model\\data/asl_preprocessing/speed_output.mp4\n",
      "\n"
     ]
    },
    {
     "name": "stderr",
     "output_type": "stream",
     "text": [
      "                                                            \r"
     ]
    },
    {
     "name": "stdout",
     "output_type": "stream",
     "text": [
      "Moviepy - Done !\n",
      "Moviepy - video ready D:\\Documents\\Trabajo\\megaproyecto_model\\data/asl_preprocessing/speed_output.mp4\n",
      "--------------------\n",
      "FPS:  30  VIDEO DURATION:  0.9666666666666667\n",
      "--------------------\n",
      "Moviepy - Building video D:\\Documents\\Trabajo\\megaproyecto_model\\data/asl_preprocessing/speed_output.mp4.\n",
      "MoviePy - Writing audio in speed_outputTEMP_MPY_wvf_snd.mp3\n"
     ]
    },
    {
     "name": "stderr",
     "output_type": "stream",
     "text": [
      "                                                       \r"
     ]
    },
    {
     "name": "stdout",
     "output_type": "stream",
     "text": [
      "MoviePy - Done.\n",
      "Moviepy - Writing video D:\\Documents\\Trabajo\\megaproyecto_model\\data/asl_preprocessing/speed_output.mp4\n",
      "\n"
     ]
    },
    {
     "name": "stderr",
     "output_type": "stream",
     "text": [
      "                                                            \r"
     ]
    },
    {
     "name": "stdout",
     "output_type": "stream",
     "text": [
      "Moviepy - Done !\n",
      "Moviepy - video ready D:\\Documents\\Trabajo\\megaproyecto_model\\data/asl_preprocessing/speed_output.mp4\n",
      "--------------------\n",
      "FPS:  30  VIDEO DURATION:  1.1666666666666667\n",
      "--------------------\n",
      "Moviepy - Building video D:\\Documents\\Trabajo\\megaproyecto_model\\data/asl_preprocessing/speed_output.mp4.\n",
      "MoviePy - Writing audio in speed_outputTEMP_MPY_wvf_snd.mp3\n"
     ]
    },
    {
     "name": "stderr",
     "output_type": "stream",
     "text": [
      "                                                       \r"
     ]
    },
    {
     "name": "stdout",
     "output_type": "stream",
     "text": [
      "MoviePy - Done.\n",
      "Moviepy - Writing video D:\\Documents\\Trabajo\\megaproyecto_model\\data/asl_preprocessing/speed_output.mp4\n",
      "\n"
     ]
    },
    {
     "name": "stderr",
     "output_type": "stream",
     "text": [
      "                                                              \r"
     ]
    },
    {
     "name": "stdout",
     "output_type": "stream",
     "text": [
      "Moviepy - Done !\n",
      "Moviepy - video ready D:\\Documents\\Trabajo\\megaproyecto_model\\data/asl_preprocessing/speed_output.mp4\n",
      "--------------------\n",
      "FPS:  30  VIDEO DURATION:  0.9\n",
      "--------------------\n",
      "Moviepy - Building video D:\\Documents\\Trabajo\\megaproyecto_model\\data/asl_preprocessing/speed_output.mp4.\n",
      "MoviePy - Writing audio in speed_outputTEMP_MPY_wvf_snd.mp3\n"
     ]
    },
    {
     "name": "stderr",
     "output_type": "stream",
     "text": [
      "                                                       \r"
     ]
    },
    {
     "name": "stdout",
     "output_type": "stream",
     "text": [
      "MoviePy - Done.\n",
      "Moviepy - Writing video D:\\Documents\\Trabajo\\megaproyecto_model\\data/asl_preprocessing/speed_output.mp4\n",
      "\n"
     ]
    },
    {
     "name": "stderr",
     "output_type": "stream",
     "text": [
      "                                                              \r"
     ]
    },
    {
     "name": "stdout",
     "output_type": "stream",
     "text": [
      "Moviepy - Done !\n",
      "Moviepy - video ready D:\\Documents\\Trabajo\\megaproyecto_model\\data/asl_preprocessing/speed_output.mp4\n",
      "--------------------\n",
      "FPS:  30  VIDEO DURATION:  0.9333333333333333\n",
      "--------------------\n",
      "Moviepy - Building video D:\\Documents\\Trabajo\\megaproyecto_model\\data/asl_preprocessing/speed_output.mp4.\n",
      "MoviePy - Writing audio in speed_outputTEMP_MPY_wvf_snd.mp3\n"
     ]
    },
    {
     "name": "stderr",
     "output_type": "stream",
     "text": [
      "                                                       \r"
     ]
    },
    {
     "name": "stdout",
     "output_type": "stream",
     "text": [
      "MoviePy - Done.\n",
      "Moviepy - Writing video D:\\Documents\\Trabajo\\megaproyecto_model\\data/asl_preprocessing/speed_output.mp4\n",
      "\n"
     ]
    },
    {
     "name": "stderr",
     "output_type": "stream",
     "text": [
      "                                                              \r"
     ]
    },
    {
     "name": "stdout",
     "output_type": "stream",
     "text": [
      "Moviepy - Done !\n",
      "Moviepy - video ready D:\\Documents\\Trabajo\\megaproyecto_model\\data/asl_preprocessing/speed_output.mp4\n",
      "--------------------\n",
      "FPS:  30  VIDEO DURATION:  1.0\n",
      "--------------------\n",
      "Moviepy - Building video D:\\Documents\\Trabajo\\megaproyecto_model\\data/asl_preprocessing/speed_output.mp4.\n",
      "MoviePy - Writing audio in speed_outputTEMP_MPY_wvf_snd.mp3\n"
     ]
    },
    {
     "name": "stderr",
     "output_type": "stream",
     "text": [
      "                                                       \r"
     ]
    },
    {
     "name": "stdout",
     "output_type": "stream",
     "text": [
      "MoviePy - Done.\n",
      "Moviepy - Writing video D:\\Documents\\Trabajo\\megaproyecto_model\\data/asl_preprocessing/speed_output.mp4\n",
      "\n"
     ]
    },
    {
     "name": "stderr",
     "output_type": "stream",
     "text": [
      "                                                              \r"
     ]
    },
    {
     "name": "stdout",
     "output_type": "stream",
     "text": [
      "Moviepy - Done !\n",
      "Moviepy - video ready D:\\Documents\\Trabajo\\megaproyecto_model\\data/asl_preprocessing/speed_output.mp4\n",
      "--------------------\n",
      "FPS:  30  VIDEO DURATION:  1.1666666666666667\n",
      "--------------------\n",
      "Moviepy - Building video D:\\Documents\\Trabajo\\megaproyecto_model\\data/asl_preprocessing/speed_output.mp4.\n",
      "MoviePy - Writing audio in speed_outputTEMP_MPY_wvf_snd.mp3\n"
     ]
    },
    {
     "name": "stderr",
     "output_type": "stream",
     "text": [
      "                                                       \r"
     ]
    },
    {
     "name": "stdout",
     "output_type": "stream",
     "text": [
      "MoviePy - Done.\n",
      "Moviepy - Writing video D:\\Documents\\Trabajo\\megaproyecto_model\\data/asl_preprocessing/speed_output.mp4\n",
      "\n"
     ]
    },
    {
     "name": "stderr",
     "output_type": "stream",
     "text": [
      "                                                              \r"
     ]
    },
    {
     "name": "stdout",
     "output_type": "stream",
     "text": [
      "Moviepy - Done !\n",
      "Moviepy - video ready D:\\Documents\\Trabajo\\megaproyecto_model\\data/asl_preprocessing/speed_output.mp4\n",
      "--------------------\n",
      "FPS:  30  VIDEO DURATION:  1.1333333333333333\n",
      "--------------------\n",
      "Moviepy - Building video D:\\Documents\\Trabajo\\megaproyecto_model\\data/asl_preprocessing/speed_output.mp4.\n",
      "MoviePy - Writing audio in speed_outputTEMP_MPY_wvf_snd.mp3\n"
     ]
    },
    {
     "name": "stderr",
     "output_type": "stream",
     "text": [
      "                                                       \r"
     ]
    },
    {
     "name": "stdout",
     "output_type": "stream",
     "text": [
      "MoviePy - Done.\n",
      "Moviepy - Writing video D:\\Documents\\Trabajo\\megaproyecto_model\\data/asl_preprocessing/speed_output.mp4\n",
      "\n"
     ]
    },
    {
     "name": "stderr",
     "output_type": "stream",
     "text": [
      "                                                              \r"
     ]
    },
    {
     "name": "stdout",
     "output_type": "stream",
     "text": [
      "Moviepy - Done !\n",
      "Moviepy - video ready D:\\Documents\\Trabajo\\megaproyecto_model\\data/asl_preprocessing/speed_output.mp4\n",
      "--------------------\n",
      "FPS:  30  VIDEO DURATION:  1.0\n",
      "--------------------\n",
      "Moviepy - Building video D:\\Documents\\Trabajo\\megaproyecto_model\\data/asl_preprocessing/speed_output.mp4.\n",
      "MoviePy - Writing audio in speed_outputTEMP_MPY_wvf_snd.mp3\n"
     ]
    },
    {
     "name": "stderr",
     "output_type": "stream",
     "text": [
      "                                                       \r"
     ]
    },
    {
     "name": "stdout",
     "output_type": "stream",
     "text": [
      "MoviePy - Done.\n",
      "Moviepy - Writing video D:\\Documents\\Trabajo\\megaproyecto_model\\data/asl_preprocessing/speed_output.mp4\n",
      "\n"
     ]
    },
    {
     "name": "stderr",
     "output_type": "stream",
     "text": [
      "                                                            \r"
     ]
    },
    {
     "name": "stdout",
     "output_type": "stream",
     "text": [
      "Moviepy - Done !\n",
      "Moviepy - video ready D:\\Documents\\Trabajo\\megaproyecto_model\\data/asl_preprocessing/speed_output.mp4\n",
      "--------------------\n",
      "FPS:  30  VIDEO DURATION:  1.2666666666666666\n",
      "--------------------\n",
      "Moviepy - Building video D:\\Documents\\Trabajo\\megaproyecto_model\\data/asl_preprocessing/speed_output.mp4.\n",
      "MoviePy - Writing audio in speed_outputTEMP_MPY_wvf_snd.mp3\n"
     ]
    },
    {
     "name": "stderr",
     "output_type": "stream",
     "text": [
      "                                                       \r"
     ]
    },
    {
     "name": "stdout",
     "output_type": "stream",
     "text": [
      "MoviePy - Done.\n",
      "Moviepy - Writing video D:\\Documents\\Trabajo\\megaproyecto_model\\data/asl_preprocessing/speed_output.mp4\n",
      "\n"
     ]
    },
    {
     "name": "stderr",
     "output_type": "stream",
     "text": [
      "                                                              \r"
     ]
    },
    {
     "name": "stdout",
     "output_type": "stream",
     "text": [
      "Moviepy - Done !\n",
      "Moviepy - video ready D:\\Documents\\Trabajo\\megaproyecto_model\\data/asl_preprocessing/speed_output.mp4\n",
      "--------------------\n",
      "FPS:  30  VIDEO DURATION:  1.0\n",
      "--------------------\n",
      "Moviepy - Building video D:\\Documents\\Trabajo\\megaproyecto_model\\data/asl_preprocessing/speed_output.mp4.\n",
      "MoviePy - Writing audio in speed_outputTEMP_MPY_wvf_snd.mp3\n"
     ]
    },
    {
     "name": "stderr",
     "output_type": "stream",
     "text": [
      "                                                       \r"
     ]
    },
    {
     "name": "stdout",
     "output_type": "stream",
     "text": [
      "MoviePy - Done.\n",
      "Moviepy - Writing video D:\\Documents\\Trabajo\\megaproyecto_model\\data/asl_preprocessing/speed_output.mp4\n",
      "\n"
     ]
    },
    {
     "name": "stderr",
     "output_type": "stream",
     "text": [
      "                                                              \r"
     ]
    },
    {
     "name": "stdout",
     "output_type": "stream",
     "text": [
      "Moviepy - Done !\n",
      "Moviepy - video ready D:\\Documents\\Trabajo\\megaproyecto_model\\data/asl_preprocessing/speed_output.mp4\n",
      "--------------------\n",
      "FPS:  30  VIDEO DURATION:  1.0\n",
      "--------------------\n",
      "Moviepy - Building video D:\\Documents\\Trabajo\\megaproyecto_model\\data/asl_preprocessing/speed_output.mp4.\n",
      "MoviePy - Writing audio in speed_outputTEMP_MPY_wvf_snd.mp3\n"
     ]
    },
    {
     "name": "stderr",
     "output_type": "stream",
     "text": [
      "                                                       \r"
     ]
    },
    {
     "name": "stdout",
     "output_type": "stream",
     "text": [
      "MoviePy - Done.\n",
      "Moviepy - Writing video D:\\Documents\\Trabajo\\megaproyecto_model\\data/asl_preprocessing/speed_output.mp4\n",
      "\n"
     ]
    },
    {
     "name": "stderr",
     "output_type": "stream",
     "text": [
      "                                                            \r"
     ]
    },
    {
     "name": "stdout",
     "output_type": "stream",
     "text": [
      "Moviepy - Done !\n",
      "Moviepy - video ready D:\\Documents\\Trabajo\\megaproyecto_model\\data/asl_preprocessing/speed_output.mp4\n",
      "--------------------\n",
      "FPS:  30  VIDEO DURATION:  1.0666666666666667\n",
      "--------------------\n",
      "Moviepy - Building video D:\\Documents\\Trabajo\\megaproyecto_model\\data/asl_preprocessing/speed_output.mp4.\n",
      "MoviePy - Writing audio in speed_outputTEMP_MPY_wvf_snd.mp3\n"
     ]
    },
    {
     "name": "stderr",
     "output_type": "stream",
     "text": [
      "                                                       \r"
     ]
    },
    {
     "name": "stdout",
     "output_type": "stream",
     "text": [
      "MoviePy - Done.\n",
      "Moviepy - Writing video D:\\Documents\\Trabajo\\megaproyecto_model\\data/asl_preprocessing/speed_output.mp4\n",
      "\n"
     ]
    },
    {
     "name": "stderr",
     "output_type": "stream",
     "text": [
      "                                                            \r"
     ]
    },
    {
     "name": "stdout",
     "output_type": "stream",
     "text": [
      "Moviepy - Done !\n",
      "Moviepy - video ready D:\\Documents\\Trabajo\\megaproyecto_model\\data/asl_preprocessing/speed_output.mp4\n",
      "--------------------\n",
      "FPS:  30  VIDEO DURATION:  1.0333333333333334\n",
      "--------------------\n",
      "Moviepy - Building video D:\\Documents\\Trabajo\\megaproyecto_model\\data/asl_preprocessing/speed_output.mp4.\n",
      "MoviePy - Writing audio in speed_outputTEMP_MPY_wvf_snd.mp3\n"
     ]
    },
    {
     "name": "stderr",
     "output_type": "stream",
     "text": [
      "                                                       \r"
     ]
    },
    {
     "name": "stdout",
     "output_type": "stream",
     "text": [
      "MoviePy - Done.\n",
      "Moviepy - Writing video D:\\Documents\\Trabajo\\megaproyecto_model\\data/asl_preprocessing/speed_output.mp4\n",
      "\n"
     ]
    },
    {
     "name": "stderr",
     "output_type": "stream",
     "text": [
      "                                                              \r"
     ]
    },
    {
     "name": "stdout",
     "output_type": "stream",
     "text": [
      "Moviepy - Done !\n",
      "Moviepy - video ready D:\\Documents\\Trabajo\\megaproyecto_model\\data/asl_preprocessing/speed_output.mp4\n",
      "--------------------\n",
      "FPS:  30  VIDEO DURATION:  1.0\n",
      "--------------------\n",
      "Moviepy - Building video D:\\Documents\\Trabajo\\megaproyecto_model\\data/asl_preprocessing/speed_output.mp4.\n",
      "MoviePy - Writing audio in speed_outputTEMP_MPY_wvf_snd.mp3\n"
     ]
    },
    {
     "name": "stderr",
     "output_type": "stream",
     "text": [
      "                                                       \r"
     ]
    },
    {
     "name": "stdout",
     "output_type": "stream",
     "text": [
      "MoviePy - Done.\n",
      "Moviepy - Writing video D:\\Documents\\Trabajo\\megaproyecto_model\\data/asl_preprocessing/speed_output.mp4\n",
      "\n"
     ]
    },
    {
     "name": "stderr",
     "output_type": "stream",
     "text": [
      "                                                              \r"
     ]
    },
    {
     "name": "stdout",
     "output_type": "stream",
     "text": [
      "Moviepy - Done !\n",
      "Moviepy - video ready D:\\Documents\\Trabajo\\megaproyecto_model\\data/asl_preprocessing/speed_output.mp4\n",
      "--------------------\n",
      "FPS:  30  VIDEO DURATION:  0.9666666666666667\n",
      "--------------------\n",
      "Moviepy - Building video D:\\Documents\\Trabajo\\megaproyecto_model\\data/asl_preprocessing/speed_output.mp4.\n",
      "MoviePy - Writing audio in speed_outputTEMP_MPY_wvf_snd.mp3\n"
     ]
    },
    {
     "name": "stderr",
     "output_type": "stream",
     "text": [
      "                                                       \r"
     ]
    },
    {
     "name": "stdout",
     "output_type": "stream",
     "text": [
      "MoviePy - Done.\n",
      "Moviepy - Writing video D:\\Documents\\Trabajo\\megaproyecto_model\\data/asl_preprocessing/speed_output.mp4\n",
      "\n"
     ]
    },
    {
     "name": "stderr",
     "output_type": "stream",
     "text": [
      "                                                              \r"
     ]
    },
    {
     "name": "stdout",
     "output_type": "stream",
     "text": [
      "Moviepy - Done !\n",
      "Moviepy - video ready D:\\Documents\\Trabajo\\megaproyecto_model\\data/asl_preprocessing/speed_output.mp4\n",
      "--------------------\n",
      "FPS:  30  VIDEO DURATION:  1.0666666666666667\n",
      "--------------------\n",
      "Moviepy - Building video D:\\Documents\\Trabajo\\megaproyecto_model\\data/asl_preprocessing/speed_output.mp4.\n",
      "MoviePy - Writing audio in speed_outputTEMP_MPY_wvf_snd.mp3\n"
     ]
    },
    {
     "name": "stderr",
     "output_type": "stream",
     "text": [
      "                                                       \r"
     ]
    },
    {
     "name": "stdout",
     "output_type": "stream",
     "text": [
      "MoviePy - Done.\n",
      "Moviepy - Writing video D:\\Documents\\Trabajo\\megaproyecto_model\\data/asl_preprocessing/speed_output.mp4\n",
      "\n"
     ]
    },
    {
     "name": "stderr",
     "output_type": "stream",
     "text": [
      "                                                            \r"
     ]
    },
    {
     "name": "stdout",
     "output_type": "stream",
     "text": [
      "Moviepy - Done !\n",
      "Moviepy - video ready D:\\Documents\\Trabajo\\megaproyecto_model\\data/asl_preprocessing/speed_output.mp4\n",
      "--------------------\n",
      "FPS:  30  VIDEO DURATION:  1.3\n",
      "--------------------\n",
      "Moviepy - Building video D:\\Documents\\Trabajo\\megaproyecto_model\\data/asl_preprocessing/speed_output.mp4.\n",
      "MoviePy - Writing audio in speed_outputTEMP_MPY_wvf_snd.mp3\n"
     ]
    },
    {
     "name": "stderr",
     "output_type": "stream",
     "text": [
      "                                                       \r"
     ]
    },
    {
     "name": "stdout",
     "output_type": "stream",
     "text": [
      "MoviePy - Done.\n",
      "Moviepy - Writing video D:\\Documents\\Trabajo\\megaproyecto_model\\data/asl_preprocessing/speed_output.mp4\n",
      "\n"
     ]
    },
    {
     "name": "stderr",
     "output_type": "stream",
     "text": [
      "                                                            \r"
     ]
    },
    {
     "name": "stdout",
     "output_type": "stream",
     "text": [
      "Moviepy - Done !\n",
      "Moviepy - video ready D:\\Documents\\Trabajo\\megaproyecto_model\\data/asl_preprocessing/speed_output.mp4\n",
      "--------------------\n",
      "FPS:  30  VIDEO DURATION:  0.8666666666666667\n",
      "--------------------\n",
      "Moviepy - Building video D:\\Documents\\Trabajo\\megaproyecto_model\\data/asl_preprocessing/speed_output.mp4.\n",
      "MoviePy - Writing audio in speed_outputTEMP_MPY_wvf_snd.mp3\n"
     ]
    },
    {
     "name": "stderr",
     "output_type": "stream",
     "text": [
      "                                                       \r"
     ]
    },
    {
     "name": "stdout",
     "output_type": "stream",
     "text": [
      "MoviePy - Done.\n",
      "Moviepy - Writing video D:\\Documents\\Trabajo\\megaproyecto_model\\data/asl_preprocessing/speed_output.mp4\n",
      "\n"
     ]
    },
    {
     "name": "stderr",
     "output_type": "stream",
     "text": [
      "                                                            \r"
     ]
    },
    {
     "name": "stdout",
     "output_type": "stream",
     "text": [
      "Moviepy - Done !\n",
      "Moviepy - video ready D:\\Documents\\Trabajo\\megaproyecto_model\\data/asl_preprocessing/speed_output.mp4\n",
      "--------------------\n",
      "FPS:  30  VIDEO DURATION:  1.3333333333333333\n",
      "--------------------\n",
      "Moviepy - Building video D:\\Documents\\Trabajo\\megaproyecto_model\\data/asl_preprocessing/speed_output.mp4.\n",
      "MoviePy - Writing audio in speed_outputTEMP_MPY_wvf_snd.mp3\n"
     ]
    },
    {
     "name": "stderr",
     "output_type": "stream",
     "text": [
      "                                                       \r"
     ]
    },
    {
     "name": "stdout",
     "output_type": "stream",
     "text": [
      "MoviePy - Done.\n",
      "Moviepy - Writing video D:\\Documents\\Trabajo\\megaproyecto_model\\data/asl_preprocessing/speed_output.mp4\n",
      "\n"
     ]
    },
    {
     "name": "stderr",
     "output_type": "stream",
     "text": [
      "                                                              \r"
     ]
    },
    {
     "name": "stdout",
     "output_type": "stream",
     "text": [
      "Moviepy - Done !\n",
      "Moviepy - video ready D:\\Documents\\Trabajo\\megaproyecto_model\\data/asl_preprocessing/speed_output.mp4\n",
      "--------------------\n",
      "FPS:  30  VIDEO DURATION:  1.0333333333333334\n",
      "--------------------\n",
      "Moviepy - Building video D:\\Documents\\Trabajo\\megaproyecto_model\\data/asl_preprocessing/speed_output.mp4.\n",
      "MoviePy - Writing audio in speed_outputTEMP_MPY_wvf_snd.mp3\n"
     ]
    },
    {
     "name": "stderr",
     "output_type": "stream",
     "text": [
      "                                                       \r"
     ]
    },
    {
     "name": "stdout",
     "output_type": "stream",
     "text": [
      "MoviePy - Done.\n",
      "Moviepy - Writing video D:\\Documents\\Trabajo\\megaproyecto_model\\data/asl_preprocessing/speed_output.mp4\n",
      "\n"
     ]
    },
    {
     "name": "stderr",
     "output_type": "stream",
     "text": [
      "                                                              \r"
     ]
    },
    {
     "name": "stdout",
     "output_type": "stream",
     "text": [
      "Moviepy - Done !\n",
      "Moviepy - video ready D:\\Documents\\Trabajo\\megaproyecto_model\\data/asl_preprocessing/speed_output.mp4\n",
      "--------------------\n",
      "FPS:  30  VIDEO DURATION:  1.0\n",
      "--------------------\n",
      "Moviepy - Building video D:\\Documents\\Trabajo\\megaproyecto_model\\data/asl_preprocessing/speed_output.mp4.\n",
      "MoviePy - Writing audio in speed_outputTEMP_MPY_wvf_snd.mp3\n"
     ]
    },
    {
     "name": "stderr",
     "output_type": "stream",
     "text": [
      "                                                       \r"
     ]
    },
    {
     "name": "stdout",
     "output_type": "stream",
     "text": [
      "MoviePy - Done.\n",
      "Moviepy - Writing video D:\\Documents\\Trabajo\\megaproyecto_model\\data/asl_preprocessing/speed_output.mp4\n",
      "\n"
     ]
    },
    {
     "name": "stderr",
     "output_type": "stream",
     "text": [
      "                                                              \r"
     ]
    },
    {
     "name": "stdout",
     "output_type": "stream",
     "text": [
      "Moviepy - Done !\n",
      "Moviepy - video ready D:\\Documents\\Trabajo\\megaproyecto_model\\data/asl_preprocessing/speed_output.mp4\n",
      "--------------------\n",
      "FPS:  30  VIDEO DURATION:  0.9333333333333333\n",
      "--------------------\n",
      "Moviepy - Building video D:\\Documents\\Trabajo\\megaproyecto_model\\data/asl_preprocessing/speed_output.mp4.\n",
      "MoviePy - Writing audio in speed_outputTEMP_MPY_wvf_snd.mp3\n"
     ]
    },
    {
     "name": "stderr",
     "output_type": "stream",
     "text": [
      "                                                       \r"
     ]
    },
    {
     "name": "stdout",
     "output_type": "stream",
     "text": [
      "MoviePy - Done.\n",
      "Moviepy - Writing video D:\\Documents\\Trabajo\\megaproyecto_model\\data/asl_preprocessing/speed_output.mp4\n",
      "\n"
     ]
    },
    {
     "name": "stderr",
     "output_type": "stream",
     "text": [
      "                                                              \r"
     ]
    },
    {
     "name": "stdout",
     "output_type": "stream",
     "text": [
      "Moviepy - Done !\n",
      "Moviepy - video ready D:\\Documents\\Trabajo\\megaproyecto_model\\data/asl_preprocessing/speed_output.mp4\n",
      "--------------------\n",
      "FPS:  30  VIDEO DURATION:  1.0\n",
      "--------------------\n",
      "Moviepy - Building video D:\\Documents\\Trabajo\\megaproyecto_model\\data/asl_preprocessing/speed_output.mp4.\n",
      "MoviePy - Writing audio in speed_outputTEMP_MPY_wvf_snd.mp3\n"
     ]
    },
    {
     "name": "stderr",
     "output_type": "stream",
     "text": [
      "                                                       \r"
     ]
    },
    {
     "name": "stdout",
     "output_type": "stream",
     "text": [
      "MoviePy - Done.\n",
      "Moviepy - Writing video D:\\Documents\\Trabajo\\megaproyecto_model\\data/asl_preprocessing/speed_output.mp4\n",
      "\n"
     ]
    },
    {
     "name": "stderr",
     "output_type": "stream",
     "text": [
      "                                                              \r"
     ]
    },
    {
     "name": "stdout",
     "output_type": "stream",
     "text": [
      "Moviepy - Done !\n",
      "Moviepy - video ready D:\\Documents\\Trabajo\\megaproyecto_model\\data/asl_preprocessing/speed_output.mp4\n",
      "--------------------\n",
      "FPS:  30  VIDEO DURATION:  0.9\n",
      "--------------------\n",
      "Moviepy - Building video D:\\Documents\\Trabajo\\megaproyecto_model\\data/asl_preprocessing/speed_output.mp4.\n",
      "MoviePy - Writing audio in speed_outputTEMP_MPY_wvf_snd.mp3\n"
     ]
    },
    {
     "name": "stderr",
     "output_type": "stream",
     "text": [
      "                                                       \r"
     ]
    },
    {
     "name": "stdout",
     "output_type": "stream",
     "text": [
      "MoviePy - Done.\n",
      "Moviepy - Writing video D:\\Documents\\Trabajo\\megaproyecto_model\\data/asl_preprocessing/speed_output.mp4\n",
      "\n"
     ]
    },
    {
     "name": "stderr",
     "output_type": "stream",
     "text": [
      "                                                            \r"
     ]
    },
    {
     "name": "stdout",
     "output_type": "stream",
     "text": [
      "Moviepy - Done !\n",
      "Moviepy - video ready D:\\Documents\\Trabajo\\megaproyecto_model\\data/asl_preprocessing/speed_output.mp4\n",
      "--------------------\n",
      "FPS:  30  VIDEO DURATION:  0.8\n",
      "--------------------\n",
      "Moviepy - Building video D:\\Documents\\Trabajo\\megaproyecto_model\\data/asl_preprocessing/speed_output.mp4.\n",
      "MoviePy - Writing audio in speed_outputTEMP_MPY_wvf_snd.mp3\n"
     ]
    },
    {
     "name": "stderr",
     "output_type": "stream",
     "text": [
      "                                                       \r"
     ]
    },
    {
     "name": "stdout",
     "output_type": "stream",
     "text": [
      "MoviePy - Done.\n",
      "Moviepy - Writing video D:\\Documents\\Trabajo\\megaproyecto_model\\data/asl_preprocessing/speed_output.mp4\n",
      "\n"
     ]
    },
    {
     "name": "stderr",
     "output_type": "stream",
     "text": [
      "                                                            \r"
     ]
    },
    {
     "name": "stdout",
     "output_type": "stream",
     "text": [
      "Moviepy - Done !\n",
      "Moviepy - video ready D:\\Documents\\Trabajo\\megaproyecto_model\\data/asl_preprocessing/speed_output.mp4\n",
      "--------------------\n",
      "FPS:  30  VIDEO DURATION:  0.9666666666666667\n",
      "--------------------\n",
      "Moviepy - Building video D:\\Documents\\Trabajo\\megaproyecto_model\\data/asl_preprocessing/speed_output.mp4.\n",
      "MoviePy - Writing audio in speed_outputTEMP_MPY_wvf_snd.mp3\n"
     ]
    },
    {
     "name": "stderr",
     "output_type": "stream",
     "text": [
      "                                                       \r"
     ]
    },
    {
     "name": "stdout",
     "output_type": "stream",
     "text": [
      "MoviePy - Done.\n",
      "Moviepy - Writing video D:\\Documents\\Trabajo\\megaproyecto_model\\data/asl_preprocessing/speed_output.mp4\n",
      "\n"
     ]
    },
    {
     "name": "stderr",
     "output_type": "stream",
     "text": [
      "                                                            \r"
     ]
    },
    {
     "name": "stdout",
     "output_type": "stream",
     "text": [
      "Moviepy - Done !\n",
      "Moviepy - video ready D:\\Documents\\Trabajo\\megaproyecto_model\\data/asl_preprocessing/speed_output.mp4\n",
      "--------------------\n",
      "FPS:  30  VIDEO DURATION:  0.9666666666666667\n",
      "--------------------\n",
      "Moviepy - Building video D:\\Documents\\Trabajo\\megaproyecto_model\\data/asl_preprocessing/speed_output.mp4.\n",
      "MoviePy - Writing audio in speed_outputTEMP_MPY_wvf_snd.mp3\n"
     ]
    },
    {
     "name": "stderr",
     "output_type": "stream",
     "text": [
      "                                                       \r"
     ]
    },
    {
     "name": "stdout",
     "output_type": "stream",
     "text": [
      "MoviePy - Done.\n",
      "Moviepy - Writing video D:\\Documents\\Trabajo\\megaproyecto_model\\data/asl_preprocessing/speed_output.mp4\n",
      "\n"
     ]
    },
    {
     "name": "stderr",
     "output_type": "stream",
     "text": [
      "                                                            \r"
     ]
    },
    {
     "name": "stdout",
     "output_type": "stream",
     "text": [
      "Moviepy - Done !\n",
      "Moviepy - video ready D:\\Documents\\Trabajo\\megaproyecto_model\\data/asl_preprocessing/speed_output.mp4\n",
      "--------------------\n",
      "FPS:  30  VIDEO DURATION:  0.9666666666666667\n",
      "--------------------\n",
      "Moviepy - Building video D:\\Documents\\Trabajo\\megaproyecto_model\\data/asl_preprocessing/speed_output.mp4.\n",
      "MoviePy - Writing audio in speed_outputTEMP_MPY_wvf_snd.mp3\n"
     ]
    },
    {
     "name": "stderr",
     "output_type": "stream",
     "text": [
      "                                                       \r"
     ]
    },
    {
     "name": "stdout",
     "output_type": "stream",
     "text": [
      "MoviePy - Done.\n",
      "Moviepy - Writing video D:\\Documents\\Trabajo\\megaproyecto_model\\data/asl_preprocessing/speed_output.mp4\n",
      "\n"
     ]
    },
    {
     "name": "stderr",
     "output_type": "stream",
     "text": [
      "                                                            \r"
     ]
    },
    {
     "name": "stdout",
     "output_type": "stream",
     "text": [
      "Moviepy - Done !\n",
      "Moviepy - video ready D:\\Documents\\Trabajo\\megaproyecto_model\\data/asl_preprocessing/speed_output.mp4\n",
      "--------------------\n",
      "FPS:  30  VIDEO DURATION:  0.9666666666666667\n",
      "--------------------\n",
      "Moviepy - Building video D:\\Documents\\Trabajo\\megaproyecto_model\\data/asl_preprocessing/speed_output.mp4.\n",
      "MoviePy - Writing audio in speed_outputTEMP_MPY_wvf_snd.mp3\n"
     ]
    },
    {
     "name": "stderr",
     "output_type": "stream",
     "text": [
      "                                                       \r"
     ]
    },
    {
     "name": "stdout",
     "output_type": "stream",
     "text": [
      "MoviePy - Done.\n",
      "Moviepy - Writing video D:\\Documents\\Trabajo\\megaproyecto_model\\data/asl_preprocessing/speed_output.mp4\n",
      "\n"
     ]
    },
    {
     "name": "stderr",
     "output_type": "stream",
     "text": [
      "                                                            \r"
     ]
    },
    {
     "name": "stdout",
     "output_type": "stream",
     "text": [
      "Moviepy - Done !\n",
      "Moviepy - video ready D:\\Documents\\Trabajo\\megaproyecto_model\\data/asl_preprocessing/speed_output.mp4\n",
      "--------------------\n",
      "FPS:  30  VIDEO DURATION:  0.8333333333333334\n",
      "--------------------\n",
      "Moviepy - Building video D:\\Documents\\Trabajo\\megaproyecto_model\\data/asl_preprocessing/speed_output.mp4.\n",
      "MoviePy - Writing audio in speed_outputTEMP_MPY_wvf_snd.mp3\n"
     ]
    },
    {
     "name": "stderr",
     "output_type": "stream",
     "text": [
      "                                                       \r"
     ]
    },
    {
     "name": "stdout",
     "output_type": "stream",
     "text": [
      "MoviePy - Done.\n",
      "Moviepy - Writing video D:\\Documents\\Trabajo\\megaproyecto_model\\data/asl_preprocessing/speed_output.mp4\n",
      "\n"
     ]
    },
    {
     "name": "stderr",
     "output_type": "stream",
     "text": [
      "                                                            \r"
     ]
    },
    {
     "name": "stdout",
     "output_type": "stream",
     "text": [
      "Moviepy - Done !\n",
      "Moviepy - video ready D:\\Documents\\Trabajo\\megaproyecto_model\\data/asl_preprocessing/speed_output.mp4\n",
      "--------------------\n",
      "FPS:  30  VIDEO DURATION:  1.1\n",
      "--------------------\n",
      "Moviepy - Building video D:\\Documents\\Trabajo\\megaproyecto_model\\data/asl_preprocessing/speed_output.mp4.\n",
      "MoviePy - Writing audio in speed_outputTEMP_MPY_wvf_snd.mp3\n"
     ]
    },
    {
     "name": "stderr",
     "output_type": "stream",
     "text": [
      "                                                       \r"
     ]
    },
    {
     "name": "stdout",
     "output_type": "stream",
     "text": [
      "MoviePy - Done.\n",
      "Moviepy - Writing video D:\\Documents\\Trabajo\\megaproyecto_model\\data/asl_preprocessing/speed_output.mp4\n",
      "\n"
     ]
    },
    {
     "name": "stderr",
     "output_type": "stream",
     "text": [
      "                                                            \r"
     ]
    },
    {
     "name": "stdout",
     "output_type": "stream",
     "text": [
      "Moviepy - Done !\n",
      "Moviepy - video ready D:\\Documents\\Trabajo\\megaproyecto_model\\data/asl_preprocessing/speed_output.mp4\n",
      "--------------------\n",
      "FPS:  30  VIDEO DURATION:  0.8666666666666667\n",
      "--------------------\n",
      "Moviepy - Building video D:\\Documents\\Trabajo\\megaproyecto_model\\data/asl_preprocessing/speed_output.mp4.\n",
      "MoviePy - Writing audio in speed_outputTEMP_MPY_wvf_snd.mp3\n"
     ]
    },
    {
     "name": "stderr",
     "output_type": "stream",
     "text": [
      "                                                       \r"
     ]
    },
    {
     "name": "stdout",
     "output_type": "stream",
     "text": [
      "MoviePy - Done.\n",
      "Moviepy - Writing video D:\\Documents\\Trabajo\\megaproyecto_model\\data/asl_preprocessing/speed_output.mp4\n",
      "\n"
     ]
    },
    {
     "name": "stderr",
     "output_type": "stream",
     "text": [
      "                                                            \r"
     ]
    },
    {
     "name": "stdout",
     "output_type": "stream",
     "text": [
      "Moviepy - Done !\n",
      "Moviepy - video ready D:\\Documents\\Trabajo\\megaproyecto_model\\data/asl_preprocessing/speed_output.mp4\n",
      "--------------------\n",
      "FPS:  30  VIDEO DURATION:  1.3666666666666667\n",
      "--------------------\n",
      "Moviepy - Building video D:\\Documents\\Trabajo\\megaproyecto_model\\data/asl_preprocessing/speed_output.mp4.\n",
      "MoviePy - Writing audio in speed_outputTEMP_MPY_wvf_snd.mp3\n"
     ]
    },
    {
     "name": "stderr",
     "output_type": "stream",
     "text": [
      "                                                       \r"
     ]
    },
    {
     "name": "stdout",
     "output_type": "stream",
     "text": [
      "MoviePy - Done.\n",
      "Moviepy - Writing video D:\\Documents\\Trabajo\\megaproyecto_model\\data/asl_preprocessing/speed_output.mp4\n",
      "\n"
     ]
    },
    {
     "name": "stderr",
     "output_type": "stream",
     "text": [
      "                                                            \r"
     ]
    },
    {
     "name": "stdout",
     "output_type": "stream",
     "text": [
      "Moviepy - Done !\n",
      "Moviepy - video ready D:\\Documents\\Trabajo\\megaproyecto_model\\data/asl_preprocessing/speed_output.mp4\n",
      "--------------------\n",
      "FPS:  30  VIDEO DURATION:  1.2\n",
      "--------------------\n",
      "Moviepy - Building video D:\\Documents\\Trabajo\\megaproyecto_model\\data/asl_preprocessing/speed_output.mp4.\n",
      "MoviePy - Writing audio in speed_outputTEMP_MPY_wvf_snd.mp3\n"
     ]
    },
    {
     "name": "stderr",
     "output_type": "stream",
     "text": [
      "                                                       \r"
     ]
    },
    {
     "name": "stdout",
     "output_type": "stream",
     "text": [
      "MoviePy - Done.\n",
      "Moviepy - Writing video D:\\Documents\\Trabajo\\megaproyecto_model\\data/asl_preprocessing/speed_output.mp4\n",
      "\n"
     ]
    },
    {
     "name": "stderr",
     "output_type": "stream",
     "text": [
      "                                                            \r"
     ]
    },
    {
     "name": "stdout",
     "output_type": "stream",
     "text": [
      "Moviepy - Done !\n",
      "Moviepy - video ready D:\\Documents\\Trabajo\\megaproyecto_model\\data/asl_preprocessing/speed_output.mp4\n",
      "--------------------\n",
      "FPS:  30  VIDEO DURATION:  1.1666666666666667\n",
      "--------------------\n",
      "Moviepy - Building video D:\\Documents\\Trabajo\\megaproyecto_model\\data/asl_preprocessing/speed_output.mp4.\n",
      "MoviePy - Writing audio in speed_outputTEMP_MPY_wvf_snd.mp3\n"
     ]
    },
    {
     "name": "stderr",
     "output_type": "stream",
     "text": [
      "                                                       \r"
     ]
    },
    {
     "name": "stdout",
     "output_type": "stream",
     "text": [
      "MoviePy - Done.\n",
      "Moviepy - Writing video D:\\Documents\\Trabajo\\megaproyecto_model\\data/asl_preprocessing/speed_output.mp4\n",
      "\n"
     ]
    },
    {
     "name": "stderr",
     "output_type": "stream",
     "text": [
      "                                                            \r"
     ]
    },
    {
     "name": "stdout",
     "output_type": "stream",
     "text": [
      "Moviepy - Done !\n",
      "Moviepy - video ready D:\\Documents\\Trabajo\\megaproyecto_model\\data/asl_preprocessing/speed_output.mp4\n",
      "--------------------\n",
      "FPS:  30  VIDEO DURATION:  0.8666666666666667\n",
      "--------------------\n",
      "Moviepy - Building video D:\\Documents\\Trabajo\\megaproyecto_model\\data/asl_preprocessing/speed_output.mp4.\n",
      "MoviePy - Writing audio in speed_outputTEMP_MPY_wvf_snd.mp3\n"
     ]
    },
    {
     "name": "stderr",
     "output_type": "stream",
     "text": [
      "                                                       \r"
     ]
    },
    {
     "name": "stdout",
     "output_type": "stream",
     "text": [
      "MoviePy - Done.\n",
      "Moviepy - Writing video D:\\Documents\\Trabajo\\megaproyecto_model\\data/asl_preprocessing/speed_output.mp4\n",
      "\n"
     ]
    },
    {
     "name": "stderr",
     "output_type": "stream",
     "text": [
      "                                                            \r"
     ]
    },
    {
     "name": "stdout",
     "output_type": "stream",
     "text": [
      "Moviepy - Done !\n",
      "Moviepy - video ready D:\\Documents\\Trabajo\\megaproyecto_model\\data/asl_preprocessing/speed_output.mp4\n",
      "--------------------\n",
      "FPS:  30  VIDEO DURATION:  0.9666666666666667\n",
      "--------------------\n",
      "Moviepy - Building video D:\\Documents\\Trabajo\\megaproyecto_model\\data/asl_preprocessing/speed_output.mp4.\n",
      "MoviePy - Writing audio in speed_outputTEMP_MPY_wvf_snd.mp3\n"
     ]
    },
    {
     "name": "stderr",
     "output_type": "stream",
     "text": [
      "                                                       \r"
     ]
    },
    {
     "name": "stdout",
     "output_type": "stream",
     "text": [
      "MoviePy - Done.\n",
      "Moviepy - Writing video D:\\Documents\\Trabajo\\megaproyecto_model\\data/asl_preprocessing/speed_output.mp4\n",
      "\n"
     ]
    },
    {
     "name": "stderr",
     "output_type": "stream",
     "text": [
      "                                                            \r"
     ]
    },
    {
     "name": "stdout",
     "output_type": "stream",
     "text": [
      "Moviepy - Done !\n",
      "Moviepy - video ready D:\\Documents\\Trabajo\\megaproyecto_model\\data/asl_preprocessing/speed_output.mp4\n",
      "--------------------\n",
      "FPS:  30  VIDEO DURATION:  1.4666666666666666\n",
      "--------------------\n",
      "Moviepy - Building video D:\\Documents\\Trabajo\\megaproyecto_model\\data/asl_preprocessing/speed_output.mp4.\n",
      "MoviePy - Writing audio in speed_outputTEMP_MPY_wvf_snd.mp3\n"
     ]
    },
    {
     "name": "stderr",
     "output_type": "stream",
     "text": [
      "                                                       \r"
     ]
    },
    {
     "name": "stdout",
     "output_type": "stream",
     "text": [
      "MoviePy - Done.\n",
      "Moviepy - Writing video D:\\Documents\\Trabajo\\megaproyecto_model\\data/asl_preprocessing/speed_output.mp4\n",
      "\n"
     ]
    },
    {
     "name": "stderr",
     "output_type": "stream",
     "text": [
      "                                                            \r"
     ]
    },
    {
     "name": "stdout",
     "output_type": "stream",
     "text": [
      "Moviepy - Done !\n",
      "Moviepy - video ready D:\\Documents\\Trabajo\\megaproyecto_model\\data/asl_preprocessing/speed_output.mp4\n",
      "--------------------\n",
      "FPS:  30  VIDEO DURATION:  1.1\n",
      "--------------------\n",
      "Moviepy - Building video D:\\Documents\\Trabajo\\megaproyecto_model\\data/asl_preprocessing/speed_output.mp4.\n",
      "MoviePy - Writing audio in speed_outputTEMP_MPY_wvf_snd.mp3\n"
     ]
    },
    {
     "name": "stderr",
     "output_type": "stream",
     "text": [
      "                                                       \r"
     ]
    },
    {
     "name": "stdout",
     "output_type": "stream",
     "text": [
      "MoviePy - Done.\n",
      "Moviepy - Writing video D:\\Documents\\Trabajo\\megaproyecto_model\\data/asl_preprocessing/speed_output.mp4\n",
      "\n"
     ]
    },
    {
     "name": "stderr",
     "output_type": "stream",
     "text": [
      "                                                            \r"
     ]
    },
    {
     "name": "stdout",
     "output_type": "stream",
     "text": [
      "Moviepy - Done !\n",
      "Moviepy - video ready D:\\Documents\\Trabajo\\megaproyecto_model\\data/asl_preprocessing/speed_output.mp4\n",
      "--------------------\n",
      "FPS:  30  VIDEO DURATION:  0.9333333333333333\n",
      "--------------------\n",
      "Moviepy - Building video D:\\Documents\\Trabajo\\megaproyecto_model\\data/asl_preprocessing/speed_output.mp4.\n",
      "MoviePy - Writing audio in speed_outputTEMP_MPY_wvf_snd.mp3\n"
     ]
    },
    {
     "name": "stderr",
     "output_type": "stream",
     "text": [
      "                                                       \r"
     ]
    },
    {
     "name": "stdout",
     "output_type": "stream",
     "text": [
      "MoviePy - Done.\n",
      "Moviepy - Writing video D:\\Documents\\Trabajo\\megaproyecto_model\\data/asl_preprocessing/speed_output.mp4\n",
      "\n"
     ]
    },
    {
     "name": "stderr",
     "output_type": "stream",
     "text": [
      "                                                            \r"
     ]
    },
    {
     "name": "stdout",
     "output_type": "stream",
     "text": [
      "Moviepy - Done !\n",
      "Moviepy - video ready D:\\Documents\\Trabajo\\megaproyecto_model\\data/asl_preprocessing/speed_output.mp4\n",
      "--------------------\n",
      "FPS:  30  VIDEO DURATION:  0.9666666666666667\n",
      "--------------------\n",
      "Moviepy - Building video D:\\Documents\\Trabajo\\megaproyecto_model\\data/asl_preprocessing/speed_output.mp4.\n",
      "MoviePy - Writing audio in speed_outputTEMP_MPY_wvf_snd.mp3\n"
     ]
    },
    {
     "name": "stderr",
     "output_type": "stream",
     "text": [
      "                                                       \r"
     ]
    },
    {
     "name": "stdout",
     "output_type": "stream",
     "text": [
      "MoviePy - Done.\n",
      "Moviepy - Writing video D:\\Documents\\Trabajo\\megaproyecto_model\\data/asl_preprocessing/speed_output.mp4\n",
      "\n"
     ]
    },
    {
     "name": "stderr",
     "output_type": "stream",
     "text": [
      "                                                            \r"
     ]
    },
    {
     "name": "stdout",
     "output_type": "stream",
     "text": [
      "Moviepy - Done !\n",
      "Moviepy - video ready D:\\Documents\\Trabajo\\megaproyecto_model\\data/asl_preprocessing/speed_output.mp4\n",
      "--------------------\n",
      "FPS:  30  VIDEO DURATION:  0.8666666666666667\n",
      "--------------------\n",
      "Moviepy - Building video D:\\Documents\\Trabajo\\megaproyecto_model\\data/asl_preprocessing/speed_output.mp4.\n",
      "MoviePy - Writing audio in speed_outputTEMP_MPY_wvf_snd.mp3\n"
     ]
    },
    {
     "name": "stderr",
     "output_type": "stream",
     "text": [
      "                                                       \r"
     ]
    },
    {
     "name": "stdout",
     "output_type": "stream",
     "text": [
      "MoviePy - Done.\n",
      "Moviepy - Writing video D:\\Documents\\Trabajo\\megaproyecto_model\\data/asl_preprocessing/speed_output.mp4\n",
      "\n"
     ]
    },
    {
     "name": "stderr",
     "output_type": "stream",
     "text": [
      "                                                            \r"
     ]
    },
    {
     "name": "stdout",
     "output_type": "stream",
     "text": [
      "Moviepy - Done !\n",
      "Moviepy - video ready D:\\Documents\\Trabajo\\megaproyecto_model\\data/asl_preprocessing/speed_output.mp4\n",
      "--------------------\n",
      "FPS:  30  VIDEO DURATION:  1.0333333333333334\n",
      "--------------------\n",
      "Moviepy - Building video D:\\Documents\\Trabajo\\megaproyecto_model\\data/asl_preprocessing/speed_output.mp4.\n",
      "MoviePy - Writing audio in speed_outputTEMP_MPY_wvf_snd.mp3\n"
     ]
    },
    {
     "name": "stderr",
     "output_type": "stream",
     "text": [
      "                                                       \r"
     ]
    },
    {
     "name": "stdout",
     "output_type": "stream",
     "text": [
      "MoviePy - Done.\n",
      "Moviepy - Writing video D:\\Documents\\Trabajo\\megaproyecto_model\\data/asl_preprocessing/speed_output.mp4\n",
      "\n"
     ]
    },
    {
     "name": "stderr",
     "output_type": "stream",
     "text": [
      "                                                            \r"
     ]
    },
    {
     "name": "stdout",
     "output_type": "stream",
     "text": [
      "Moviepy - Done !\n",
      "Moviepy - video ready D:\\Documents\\Trabajo\\megaproyecto_model\\data/asl_preprocessing/speed_output.mp4\n",
      "--------------------\n",
      "FPS:  30  VIDEO DURATION:  1.0\n",
      "--------------------\n",
      "Moviepy - Building video D:\\Documents\\Trabajo\\megaproyecto_model\\data/asl_preprocessing/speed_output.mp4.\n",
      "MoviePy - Writing audio in speed_outputTEMP_MPY_wvf_snd.mp3\n"
     ]
    },
    {
     "name": "stderr",
     "output_type": "stream",
     "text": [
      "                                                       \r"
     ]
    },
    {
     "name": "stdout",
     "output_type": "stream",
     "text": [
      "MoviePy - Done.\n",
      "Moviepy - Writing video D:\\Documents\\Trabajo\\megaproyecto_model\\data/asl_preprocessing/speed_output.mp4\n",
      "\n"
     ]
    },
    {
     "name": "stderr",
     "output_type": "stream",
     "text": [
      "                                                            \r"
     ]
    },
    {
     "name": "stdout",
     "output_type": "stream",
     "text": [
      "Moviepy - Done !\n",
      "Moviepy - video ready D:\\Documents\\Trabajo\\megaproyecto_model\\data/asl_preprocessing/speed_output.mp4\n",
      "--------------------\n",
      "FPS:  30  VIDEO DURATION:  1.0\n",
      "--------------------\n",
      "Moviepy - Building video D:\\Documents\\Trabajo\\megaproyecto_model\\data/asl_preprocessing/speed_output.mp4.\n",
      "MoviePy - Writing audio in speed_outputTEMP_MPY_wvf_snd.mp3\n"
     ]
    },
    {
     "name": "stderr",
     "output_type": "stream",
     "text": [
      "                                                       \r"
     ]
    },
    {
     "name": "stdout",
     "output_type": "stream",
     "text": [
      "MoviePy - Done.\n",
      "Moviepy - Writing video D:\\Documents\\Trabajo\\megaproyecto_model\\data/asl_preprocessing/speed_output.mp4\n",
      "\n"
     ]
    },
    {
     "name": "stderr",
     "output_type": "stream",
     "text": [
      "                                                            \r"
     ]
    },
    {
     "name": "stdout",
     "output_type": "stream",
     "text": [
      "Moviepy - Done !\n",
      "Moviepy - video ready D:\\Documents\\Trabajo\\megaproyecto_model\\data/asl_preprocessing/speed_output.mp4\n",
      "--------------------\n",
      "FPS:  30  VIDEO DURATION:  1.0\n",
      "--------------------\n",
      "Moviepy - Building video D:\\Documents\\Trabajo\\megaproyecto_model\\data/asl_preprocessing/speed_output.mp4.\n",
      "MoviePy - Writing audio in speed_outputTEMP_MPY_wvf_snd.mp3\n"
     ]
    },
    {
     "name": "stderr",
     "output_type": "stream",
     "text": [
      "                                                       \r"
     ]
    },
    {
     "name": "stdout",
     "output_type": "stream",
     "text": [
      "MoviePy - Done.\n",
      "Moviepy - Writing video D:\\Documents\\Trabajo\\megaproyecto_model\\data/asl_preprocessing/speed_output.mp4\n",
      "\n"
     ]
    },
    {
     "name": "stderr",
     "output_type": "stream",
     "text": [
      "                                                            \r"
     ]
    },
    {
     "name": "stdout",
     "output_type": "stream",
     "text": [
      "Moviepy - Done !\n",
      "Moviepy - video ready D:\\Documents\\Trabajo\\megaproyecto_model\\data/asl_preprocessing/speed_output.mp4\n",
      "--------------------\n",
      "FPS:  30  VIDEO DURATION:  1.0\n",
      "--------------------\n",
      "Moviepy - Building video D:\\Documents\\Trabajo\\megaproyecto_model\\data/asl_preprocessing/speed_output.mp4.\n",
      "MoviePy - Writing audio in speed_outputTEMP_MPY_wvf_snd.mp3\n"
     ]
    },
    {
     "name": "stderr",
     "output_type": "stream",
     "text": [
      "                                                       \r"
     ]
    },
    {
     "name": "stdout",
     "output_type": "stream",
     "text": [
      "MoviePy - Done.\n",
      "Moviepy - Writing video D:\\Documents\\Trabajo\\megaproyecto_model\\data/asl_preprocessing/speed_output.mp4\n",
      "\n"
     ]
    },
    {
     "name": "stderr",
     "output_type": "stream",
     "text": [
      "                                                            \r"
     ]
    },
    {
     "name": "stdout",
     "output_type": "stream",
     "text": [
      "Moviepy - Done !\n",
      "Moviepy - video ready D:\\Documents\\Trabajo\\megaproyecto_model\\data/asl_preprocessing/speed_output.mp4\n",
      "--------------------\n",
      "FPS:  30  VIDEO DURATION:  1.5\n",
      "--------------------\n",
      "Moviepy - Building video D:\\Documents\\Trabajo\\megaproyecto_model\\data/asl_preprocessing/speed_output.mp4.\n",
      "MoviePy - Writing audio in speed_outputTEMP_MPY_wvf_snd.mp3\n"
     ]
    },
    {
     "name": "stderr",
     "output_type": "stream",
     "text": [
      "                                                       \r"
     ]
    },
    {
     "name": "stdout",
     "output_type": "stream",
     "text": [
      "MoviePy - Done.\n",
      "Moviepy - Writing video D:\\Documents\\Trabajo\\megaproyecto_model\\data/asl_preprocessing/speed_output.mp4\n",
      "\n"
     ]
    },
    {
     "name": "stderr",
     "output_type": "stream",
     "text": [
      "                                                            \r"
     ]
    },
    {
     "name": "stdout",
     "output_type": "stream",
     "text": [
      "Moviepy - Done !\n",
      "Moviepy - video ready D:\\Documents\\Trabajo\\megaproyecto_model\\data/asl_preprocessing/speed_output.mp4\n",
      "--------------------\n",
      "FPS:  30  VIDEO DURATION:  1.4\n",
      "--------------------\n",
      "Moviepy - Building video D:\\Documents\\Trabajo\\megaproyecto_model\\data/asl_preprocessing/speed_output.mp4.\n",
      "MoviePy - Writing audio in speed_outputTEMP_MPY_wvf_snd.mp3\n"
     ]
    },
    {
     "name": "stderr",
     "output_type": "stream",
     "text": [
      "                                                       \r"
     ]
    },
    {
     "name": "stdout",
     "output_type": "stream",
     "text": [
      "MoviePy - Done.\n",
      "Moviepy - Writing video D:\\Documents\\Trabajo\\megaproyecto_model\\data/asl_preprocessing/speed_output.mp4\n",
      "\n"
     ]
    },
    {
     "name": "stderr",
     "output_type": "stream",
     "text": [
      "                                                            \r"
     ]
    },
    {
     "name": "stdout",
     "output_type": "stream",
     "text": [
      "Moviepy - Done !\n",
      "Moviepy - video ready D:\\Documents\\Trabajo\\megaproyecto_model\\data/asl_preprocessing/speed_output.mp4\n",
      "--------------------\n",
      "FPS:  30  VIDEO DURATION:  1.2333333333333334\n",
      "--------------------\n",
      "Moviepy - Building video D:\\Documents\\Trabajo\\megaproyecto_model\\data/asl_preprocessing/speed_output.mp4.\n",
      "MoviePy - Writing audio in speed_outputTEMP_MPY_wvf_snd.mp3\n"
     ]
    },
    {
     "name": "stderr",
     "output_type": "stream",
     "text": [
      "                                                       \r"
     ]
    },
    {
     "name": "stdout",
     "output_type": "stream",
     "text": [
      "MoviePy - Done.\n",
      "Moviepy - Writing video D:\\Documents\\Trabajo\\megaproyecto_model\\data/asl_preprocessing/speed_output.mp4\n",
      "\n"
     ]
    },
    {
     "name": "stderr",
     "output_type": "stream",
     "text": [
      "                                                            \r"
     ]
    },
    {
     "name": "stdout",
     "output_type": "stream",
     "text": [
      "Moviepy - Done !\n",
      "Moviepy - video ready D:\\Documents\\Trabajo\\megaproyecto_model\\data/asl_preprocessing/speed_output.mp4\n",
      "--------------------\n",
      "FPS:  30  VIDEO DURATION:  1.2333333333333334\n",
      "--------------------\n",
      "Moviepy - Building video D:\\Documents\\Trabajo\\megaproyecto_model\\data/asl_preprocessing/speed_output.mp4.\n",
      "MoviePy - Writing audio in speed_outputTEMP_MPY_wvf_snd.mp3\n"
     ]
    },
    {
     "name": "stderr",
     "output_type": "stream",
     "text": [
      "                                                       \r"
     ]
    },
    {
     "name": "stdout",
     "output_type": "stream",
     "text": [
      "MoviePy - Done.\n",
      "Moviepy - Writing video D:\\Documents\\Trabajo\\megaproyecto_model\\data/asl_preprocessing/speed_output.mp4\n",
      "\n"
     ]
    },
    {
     "name": "stderr",
     "output_type": "stream",
     "text": [
      "                                                            \r"
     ]
    },
    {
     "name": "stdout",
     "output_type": "stream",
     "text": [
      "Moviepy - Done !\n",
      "Moviepy - video ready D:\\Documents\\Trabajo\\megaproyecto_model\\data/asl_preprocessing/speed_output.mp4\n",
      "--------------------\n",
      "FPS:  30  VIDEO DURATION:  1.0333333333333334\n",
      "--------------------\n",
      "Moviepy - Building video D:\\Documents\\Trabajo\\megaproyecto_model\\data/asl_preprocessing/speed_output.mp4.\n",
      "MoviePy - Writing audio in speed_outputTEMP_MPY_wvf_snd.mp3\n"
     ]
    },
    {
     "name": "stderr",
     "output_type": "stream",
     "text": [
      "                                                       \r"
     ]
    },
    {
     "name": "stdout",
     "output_type": "stream",
     "text": [
      "MoviePy - Done.\n",
      "Moviepy - Writing video D:\\Documents\\Trabajo\\megaproyecto_model\\data/asl_preprocessing/speed_output.mp4\n",
      "\n"
     ]
    },
    {
     "name": "stderr",
     "output_type": "stream",
     "text": [
      "                                                            \r"
     ]
    },
    {
     "name": "stdout",
     "output_type": "stream",
     "text": [
      "Moviepy - Done !\n",
      "Moviepy - video ready D:\\Documents\\Trabajo\\megaproyecto_model\\data/asl_preprocessing/speed_output.mp4\n",
      "--------------------\n",
      "FPS:  30  VIDEO DURATION:  0.9333333333333333\n",
      "--------------------\n",
      "Moviepy - Building video D:\\Documents\\Trabajo\\megaproyecto_model\\data/asl_preprocessing/speed_output.mp4.\n",
      "MoviePy - Writing audio in speed_outputTEMP_MPY_wvf_snd.mp3\n"
     ]
    },
    {
     "name": "stderr",
     "output_type": "stream",
     "text": [
      "                                                       \r"
     ]
    },
    {
     "name": "stdout",
     "output_type": "stream",
     "text": [
      "MoviePy - Done.\n",
      "Moviepy - Writing video D:\\Documents\\Trabajo\\megaproyecto_model\\data/asl_preprocessing/speed_output.mp4\n",
      "\n"
     ]
    },
    {
     "name": "stderr",
     "output_type": "stream",
     "text": [
      "                                                            \r"
     ]
    },
    {
     "name": "stdout",
     "output_type": "stream",
     "text": [
      "Moviepy - Done !\n",
      "Moviepy - video ready D:\\Documents\\Trabajo\\megaproyecto_model\\data/asl_preprocessing/speed_output.mp4\n",
      "--------------------\n",
      "FPS:  30  VIDEO DURATION:  1.2666666666666666\n",
      "--------------------\n",
      "Moviepy - Building video D:\\Documents\\Trabajo\\megaproyecto_model\\data/asl_preprocessing/speed_output.mp4.\n",
      "MoviePy - Writing audio in speed_outputTEMP_MPY_wvf_snd.mp3\n"
     ]
    },
    {
     "name": "stderr",
     "output_type": "stream",
     "text": [
      "                                                       \r"
     ]
    },
    {
     "name": "stdout",
     "output_type": "stream",
     "text": [
      "MoviePy - Done.\n",
      "Moviepy - Writing video D:\\Documents\\Trabajo\\megaproyecto_model\\data/asl_preprocessing/speed_output.mp4\n",
      "\n"
     ]
    },
    {
     "name": "stderr",
     "output_type": "stream",
     "text": [
      "                                                            \r"
     ]
    },
    {
     "name": "stdout",
     "output_type": "stream",
     "text": [
      "Moviepy - Done !\n",
      "Moviepy - video ready D:\\Documents\\Trabajo\\megaproyecto_model\\data/asl_preprocessing/speed_output.mp4\n",
      "--------------------\n",
      "FPS:  30  VIDEO DURATION:  1.0\n",
      "--------------------\n",
      "Moviepy - Building video D:\\Documents\\Trabajo\\megaproyecto_model\\data/asl_preprocessing/speed_output.mp4.\n",
      "MoviePy - Writing audio in speed_outputTEMP_MPY_wvf_snd.mp3\n"
     ]
    },
    {
     "name": "stderr",
     "output_type": "stream",
     "text": [
      "                                                       \r"
     ]
    },
    {
     "name": "stdout",
     "output_type": "stream",
     "text": [
      "MoviePy - Done.\n",
      "Moviepy - Writing video D:\\Documents\\Trabajo\\megaproyecto_model\\data/asl_preprocessing/speed_output.mp4\n",
      "\n"
     ]
    },
    {
     "name": "stderr",
     "output_type": "stream",
     "text": [
      "                                                            \r"
     ]
    },
    {
     "name": "stdout",
     "output_type": "stream",
     "text": [
      "Moviepy - Done !\n",
      "Moviepy - video ready D:\\Documents\\Trabajo\\megaproyecto_model\\data/asl_preprocessing/speed_output.mp4\n",
      "--------------------\n",
      "FPS:  30  VIDEO DURATION:  1.0666666666666667\n",
      "--------------------\n",
      "Moviepy - Building video D:\\Documents\\Trabajo\\megaproyecto_model\\data/asl_preprocessing/speed_output.mp4.\n",
      "MoviePy - Writing audio in speed_outputTEMP_MPY_wvf_snd.mp3\n"
     ]
    },
    {
     "name": "stderr",
     "output_type": "stream",
     "text": [
      "                                                       \r"
     ]
    },
    {
     "name": "stdout",
     "output_type": "stream",
     "text": [
      "MoviePy - Done.\n",
      "Moviepy - Writing video D:\\Documents\\Trabajo\\megaproyecto_model\\data/asl_preprocessing/speed_output.mp4\n",
      "\n"
     ]
    },
    {
     "name": "stderr",
     "output_type": "stream",
     "text": [
      "                                                            \r"
     ]
    },
    {
     "name": "stdout",
     "output_type": "stream",
     "text": [
      "Moviepy - Done !\n",
      "Moviepy - video ready D:\\Documents\\Trabajo\\megaproyecto_model\\data/asl_preprocessing/speed_output.mp4\n",
      "--------------------\n",
      "FPS:  30  VIDEO DURATION:  0.9666666666666667\n",
      "--------------------\n",
      "Moviepy - Building video D:\\Documents\\Trabajo\\megaproyecto_model\\data/asl_preprocessing/speed_output.mp4.\n",
      "MoviePy - Writing audio in speed_outputTEMP_MPY_wvf_snd.mp3\n"
     ]
    },
    {
     "name": "stderr",
     "output_type": "stream",
     "text": [
      "                                                       \r"
     ]
    },
    {
     "name": "stdout",
     "output_type": "stream",
     "text": [
      "MoviePy - Done.\n",
      "Moviepy - Writing video D:\\Documents\\Trabajo\\megaproyecto_model\\data/asl_preprocessing/speed_output.mp4\n",
      "\n"
     ]
    },
    {
     "name": "stderr",
     "output_type": "stream",
     "text": [
      "                                                              \r"
     ]
    },
    {
     "name": "stdout",
     "output_type": "stream",
     "text": [
      "Moviepy - Done !\n",
      "Moviepy - video ready D:\\Documents\\Trabajo\\megaproyecto_model\\data/asl_preprocessing/speed_output.mp4\n",
      "--------------------\n",
      "FPS:  30  VIDEO DURATION:  0.9333333333333333\n",
      "--------------------\n",
      "Moviepy - Building video D:\\Documents\\Trabajo\\megaproyecto_model\\data/asl_preprocessing/speed_output.mp4.\n",
      "MoviePy - Writing audio in speed_outputTEMP_MPY_wvf_snd.mp3\n"
     ]
    },
    {
     "name": "stderr",
     "output_type": "stream",
     "text": [
      "                                                       \r"
     ]
    },
    {
     "name": "stdout",
     "output_type": "stream",
     "text": [
      "MoviePy - Done.\n",
      "Moviepy - Writing video D:\\Documents\\Trabajo\\megaproyecto_model\\data/asl_preprocessing/speed_output.mp4\n",
      "\n"
     ]
    },
    {
     "name": "stderr",
     "output_type": "stream",
     "text": [
      "                                                            \r"
     ]
    },
    {
     "name": "stdout",
     "output_type": "stream",
     "text": [
      "Moviepy - Done !\n",
      "Moviepy - video ready D:\\Documents\\Trabajo\\megaproyecto_model\\data/asl_preprocessing/speed_output.mp4\n",
      "--------------------\n",
      "FPS:  30  VIDEO DURATION:  1.2333333333333334\n",
      "--------------------\n",
      "Moviepy - Building video D:\\Documents\\Trabajo\\megaproyecto_model\\data/asl_preprocessing/speed_output.mp4.\n",
      "MoviePy - Writing audio in speed_outputTEMP_MPY_wvf_snd.mp3\n"
     ]
    },
    {
     "name": "stderr",
     "output_type": "stream",
     "text": [
      "                                                       \r"
     ]
    },
    {
     "name": "stdout",
     "output_type": "stream",
     "text": [
      "MoviePy - Done.\n",
      "Moviepy - Writing video D:\\Documents\\Trabajo\\megaproyecto_model\\data/asl_preprocessing/speed_output.mp4\n",
      "\n"
     ]
    },
    {
     "name": "stderr",
     "output_type": "stream",
     "text": [
      "                                                            \r"
     ]
    },
    {
     "name": "stdout",
     "output_type": "stream",
     "text": [
      "Moviepy - Done !\n",
      "Moviepy - video ready D:\\Documents\\Trabajo\\megaproyecto_model\\data/asl_preprocessing/speed_output.mp4\n",
      "--------------------\n",
      "FPS:  30  VIDEO DURATION:  0.9\n",
      "--------------------\n",
      "Moviepy - Building video D:\\Documents\\Trabajo\\megaproyecto_model\\data/asl_preprocessing/speed_output.mp4.\n",
      "MoviePy - Writing audio in speed_outputTEMP_MPY_wvf_snd.mp3\n"
     ]
    },
    {
     "name": "stderr",
     "output_type": "stream",
     "text": [
      "                                                       \r"
     ]
    },
    {
     "name": "stdout",
     "output_type": "stream",
     "text": [
      "MoviePy - Done.\n",
      "Moviepy - Writing video D:\\Documents\\Trabajo\\megaproyecto_model\\data/asl_preprocessing/speed_output.mp4\n",
      "\n"
     ]
    },
    {
     "name": "stderr",
     "output_type": "stream",
     "text": [
      "                                                            \r"
     ]
    },
    {
     "name": "stdout",
     "output_type": "stream",
     "text": [
      "Moviepy - Done !\n",
      "Moviepy - video ready D:\\Documents\\Trabajo\\megaproyecto_model\\data/asl_preprocessing/speed_output.mp4\n",
      "--------------------\n",
      "FPS:  30  VIDEO DURATION:  0.8333333333333334\n",
      "--------------------\n",
      "Moviepy - Building video D:\\Documents\\Trabajo\\megaproyecto_model\\data/asl_preprocessing/speed_output.mp4.\n",
      "MoviePy - Writing audio in speed_outputTEMP_MPY_wvf_snd.mp3\n"
     ]
    },
    {
     "name": "stderr",
     "output_type": "stream",
     "text": [
      "                                                       \r"
     ]
    },
    {
     "name": "stdout",
     "output_type": "stream",
     "text": [
      "MoviePy - Done.\n",
      "Moviepy - Writing video D:\\Documents\\Trabajo\\megaproyecto_model\\data/asl_preprocessing/speed_output.mp4\n",
      "\n"
     ]
    },
    {
     "name": "stderr",
     "output_type": "stream",
     "text": [
      "                                                            \r"
     ]
    },
    {
     "name": "stdout",
     "output_type": "stream",
     "text": [
      "Moviepy - Done !\n",
      "Moviepy - video ready D:\\Documents\\Trabajo\\megaproyecto_model\\data/asl_preprocessing/speed_output.mp4\n",
      "--------------------\n",
      "FPS:  30  VIDEO DURATION:  1.0333333333333334\n",
      "--------------------\n",
      "Moviepy - Building video D:\\Documents\\Trabajo\\megaproyecto_model\\data/asl_preprocessing/speed_output.mp4.\n",
      "MoviePy - Writing audio in speed_outputTEMP_MPY_wvf_snd.mp3\n"
     ]
    },
    {
     "name": "stderr",
     "output_type": "stream",
     "text": [
      "                                                       \r"
     ]
    },
    {
     "name": "stdout",
     "output_type": "stream",
     "text": [
      "MoviePy - Done.\n",
      "Moviepy - Writing video D:\\Documents\\Trabajo\\megaproyecto_model\\data/asl_preprocessing/speed_output.mp4\n",
      "\n"
     ]
    },
    {
     "name": "stderr",
     "output_type": "stream",
     "text": [
      "                                                            \r"
     ]
    },
    {
     "name": "stdout",
     "output_type": "stream",
     "text": [
      "Moviepy - Done !\n",
      "Moviepy - video ready D:\\Documents\\Trabajo\\megaproyecto_model\\data/asl_preprocessing/speed_output.mp4\n",
      "--------------------\n",
      "FPS:  30  VIDEO DURATION:  1.3333333333333333\n",
      "--------------------\n",
      "Moviepy - Building video D:\\Documents\\Trabajo\\megaproyecto_model\\data/asl_preprocessing/speed_output.mp4.\n",
      "MoviePy - Writing audio in speed_outputTEMP_MPY_wvf_snd.mp3\n"
     ]
    },
    {
     "name": "stderr",
     "output_type": "stream",
     "text": [
      "                                                       \r"
     ]
    },
    {
     "name": "stdout",
     "output_type": "stream",
     "text": [
      "MoviePy - Done.\n",
      "Moviepy - Writing video D:\\Documents\\Trabajo\\megaproyecto_model\\data/asl_preprocessing/speed_output.mp4\n",
      "\n"
     ]
    },
    {
     "name": "stderr",
     "output_type": "stream",
     "text": [
      "                                                            \r"
     ]
    },
    {
     "name": "stdout",
     "output_type": "stream",
     "text": [
      "Moviepy - Done !\n",
      "Moviepy - video ready D:\\Documents\\Trabajo\\megaproyecto_model\\data/asl_preprocessing/speed_output.mp4\n",
      "--------------------\n",
      "FPS:  30  VIDEO DURATION:  0.9666666666666667\n",
      "--------------------\n",
      "Moviepy - Building video D:\\Documents\\Trabajo\\megaproyecto_model\\data/asl_preprocessing/speed_output.mp4.\n",
      "MoviePy - Writing audio in speed_outputTEMP_MPY_wvf_snd.mp3\n"
     ]
    },
    {
     "name": "stderr",
     "output_type": "stream",
     "text": [
      "                                                       \r"
     ]
    },
    {
     "name": "stdout",
     "output_type": "stream",
     "text": [
      "MoviePy - Done.\n",
      "Moviepy - Writing video D:\\Documents\\Trabajo\\megaproyecto_model\\data/asl_preprocessing/speed_output.mp4\n",
      "\n"
     ]
    },
    {
     "name": "stderr",
     "output_type": "stream",
     "text": [
      "                                                            \r"
     ]
    },
    {
     "name": "stdout",
     "output_type": "stream",
     "text": [
      "Moviepy - Done !\n",
      "Moviepy - video ready D:\\Documents\\Trabajo\\megaproyecto_model\\data/asl_preprocessing/speed_output.mp4\n",
      "--------------------\n",
      "FPS:  30  VIDEO DURATION:  0.9\n",
      "--------------------\n",
      "Moviepy - Building video D:\\Documents\\Trabajo\\megaproyecto_model\\data/asl_preprocessing/speed_output.mp4.\n",
      "MoviePy - Writing audio in speed_outputTEMP_MPY_wvf_snd.mp3\n"
     ]
    },
    {
     "name": "stderr",
     "output_type": "stream",
     "text": [
      "                                                       \r"
     ]
    },
    {
     "name": "stdout",
     "output_type": "stream",
     "text": [
      "MoviePy - Done.\n",
      "Moviepy - Writing video D:\\Documents\\Trabajo\\megaproyecto_model\\data/asl_preprocessing/speed_output.mp4\n",
      "\n"
     ]
    },
    {
     "name": "stderr",
     "output_type": "stream",
     "text": [
      "                                                              \r"
     ]
    },
    {
     "name": "stdout",
     "output_type": "stream",
     "text": [
      "Moviepy - Done !\n",
      "Moviepy - video ready D:\\Documents\\Trabajo\\megaproyecto_model\\data/asl_preprocessing/speed_output.mp4\n",
      "--------------------\n",
      "FPS:  30  VIDEO DURATION:  1.0\n",
      "--------------------\n",
      "Moviepy - Building video D:\\Documents\\Trabajo\\megaproyecto_model\\data/asl_preprocessing/speed_output.mp4.\n",
      "MoviePy - Writing audio in speed_outputTEMP_MPY_wvf_snd.mp3\n"
     ]
    },
    {
     "name": "stderr",
     "output_type": "stream",
     "text": [
      "                                                       \r"
     ]
    },
    {
     "name": "stdout",
     "output_type": "stream",
     "text": [
      "MoviePy - Done.\n",
      "Moviepy - Writing video D:\\Documents\\Trabajo\\megaproyecto_model\\data/asl_preprocessing/speed_output.mp4\n",
      "\n"
     ]
    },
    {
     "name": "stderr",
     "output_type": "stream",
     "text": [
      "                                                            \r"
     ]
    },
    {
     "name": "stdout",
     "output_type": "stream",
     "text": [
      "Moviepy - Done !\n",
      "Moviepy - video ready D:\\Documents\\Trabajo\\megaproyecto_model\\data/asl_preprocessing/speed_output.mp4\n",
      "--------------------\n",
      "FPS:  30  VIDEO DURATION:  1.2\n",
      "--------------------\n",
      "Moviepy - Building video D:\\Documents\\Trabajo\\megaproyecto_model\\data/asl_preprocessing/speed_output.mp4.\n",
      "MoviePy - Writing audio in speed_outputTEMP_MPY_wvf_snd.mp3\n"
     ]
    },
    {
     "name": "stderr",
     "output_type": "stream",
     "text": [
      "                                                       \r"
     ]
    },
    {
     "name": "stdout",
     "output_type": "stream",
     "text": [
      "MoviePy - Done.\n",
      "Moviepy - Writing video D:\\Documents\\Trabajo\\megaproyecto_model\\data/asl_preprocessing/speed_output.mp4\n",
      "\n"
     ]
    },
    {
     "name": "stderr",
     "output_type": "stream",
     "text": [
      "                                                              \r"
     ]
    },
    {
     "name": "stdout",
     "output_type": "stream",
     "text": [
      "Moviepy - Done !\n",
      "Moviepy - video ready D:\\Documents\\Trabajo\\megaproyecto_model\\data/asl_preprocessing/speed_output.mp4\n",
      "--------------------\n",
      "FPS:  30  VIDEO DURATION:  1.1\n",
      "--------------------\n",
      "Moviepy - Building video D:\\Documents\\Trabajo\\megaproyecto_model\\data/asl_preprocessing/speed_output.mp4.\n",
      "MoviePy - Writing audio in speed_outputTEMP_MPY_wvf_snd.mp3\n"
     ]
    },
    {
     "name": "stderr",
     "output_type": "stream",
     "text": [
      "                                                       \r"
     ]
    },
    {
     "name": "stdout",
     "output_type": "stream",
     "text": [
      "MoviePy - Done.\n",
      "Moviepy - Writing video D:\\Documents\\Trabajo\\megaproyecto_model\\data/asl_preprocessing/speed_output.mp4\n",
      "\n"
     ]
    },
    {
     "name": "stderr",
     "output_type": "stream",
     "text": [
      "                                                            \r"
     ]
    },
    {
     "name": "stdout",
     "output_type": "stream",
     "text": [
      "Moviepy - Done !\n",
      "Moviepy - video ready D:\\Documents\\Trabajo\\megaproyecto_model\\data/asl_preprocessing/speed_output.mp4\n",
      "--------------------\n",
      "FPS:  30  VIDEO DURATION:  1.3666666666666667\n",
      "--------------------\n",
      "Moviepy - Building video D:\\Documents\\Trabajo\\megaproyecto_model\\data/asl_preprocessing/speed_output.mp4.\n",
      "MoviePy - Writing audio in speed_outputTEMP_MPY_wvf_snd.mp3\n"
     ]
    },
    {
     "name": "stderr",
     "output_type": "stream",
     "text": [
      "                                                       \r"
     ]
    },
    {
     "name": "stdout",
     "output_type": "stream",
     "text": [
      "MoviePy - Done.\n",
      "Moviepy - Writing video D:\\Documents\\Trabajo\\megaproyecto_model\\data/asl_preprocessing/speed_output.mp4\n",
      "\n"
     ]
    },
    {
     "name": "stderr",
     "output_type": "stream",
     "text": [
      "                                                              \r"
     ]
    },
    {
     "name": "stdout",
     "output_type": "stream",
     "text": [
      "Moviepy - Done !\n",
      "Moviepy - video ready D:\\Documents\\Trabajo\\megaproyecto_model\\data/asl_preprocessing/speed_output.mp4\n",
      "--------------------\n",
      "FPS:  30  VIDEO DURATION:  0.9666666666666667\n",
      "--------------------\n",
      "Moviepy - Building video D:\\Documents\\Trabajo\\megaproyecto_model\\data/asl_preprocessing/speed_output.mp4.\n",
      "MoviePy - Writing audio in speed_outputTEMP_MPY_wvf_snd.mp3\n"
     ]
    },
    {
     "name": "stderr",
     "output_type": "stream",
     "text": [
      "                                                       \r"
     ]
    },
    {
     "name": "stdout",
     "output_type": "stream",
     "text": [
      "MoviePy - Done.\n",
      "Moviepy - Writing video D:\\Documents\\Trabajo\\megaproyecto_model\\data/asl_preprocessing/speed_output.mp4\n",
      "\n"
     ]
    },
    {
     "name": "stderr",
     "output_type": "stream",
     "text": [
      "                                                              \r"
     ]
    },
    {
     "name": "stdout",
     "output_type": "stream",
     "text": [
      "Moviepy - Done !\n",
      "Moviepy - video ready D:\\Documents\\Trabajo\\megaproyecto_model\\data/asl_preprocessing/speed_output.mp4\n",
      "--------------------\n",
      "FPS:  30  VIDEO DURATION:  0.9666666666666667\n",
      "--------------------\n",
      "Moviepy - Building video D:\\Documents\\Trabajo\\megaproyecto_model\\data/asl_preprocessing/speed_output.mp4.\n",
      "MoviePy - Writing audio in speed_outputTEMP_MPY_wvf_snd.mp3\n"
     ]
    },
    {
     "name": "stderr",
     "output_type": "stream",
     "text": [
      "                                                       \r"
     ]
    },
    {
     "name": "stdout",
     "output_type": "stream",
     "text": [
      "MoviePy - Done.\n",
      "Moviepy - Writing video D:\\Documents\\Trabajo\\megaproyecto_model\\data/asl_preprocessing/speed_output.mp4\n",
      "\n"
     ]
    },
    {
     "name": "stderr",
     "output_type": "stream",
     "text": [
      "                                                              \r"
     ]
    },
    {
     "name": "stdout",
     "output_type": "stream",
     "text": [
      "Moviepy - Done !\n",
      "Moviepy - video ready D:\\Documents\\Trabajo\\megaproyecto_model\\data/asl_preprocessing/speed_output.mp4\n",
      "--------------------\n",
      "FPS:  30  VIDEO DURATION:  1.0\n",
      "--------------------\n",
      "Moviepy - Building video D:\\Documents\\Trabajo\\megaproyecto_model\\data/asl_preprocessing/speed_output.mp4.\n",
      "MoviePy - Writing audio in speed_outputTEMP_MPY_wvf_snd.mp3\n"
     ]
    },
    {
     "name": "stderr",
     "output_type": "stream",
     "text": [
      "                                                       \r"
     ]
    },
    {
     "name": "stdout",
     "output_type": "stream",
     "text": [
      "MoviePy - Done.\n",
      "Moviepy - Writing video D:\\Documents\\Trabajo\\megaproyecto_model\\data/asl_preprocessing/speed_output.mp4\n",
      "\n"
     ]
    },
    {
     "name": "stderr",
     "output_type": "stream",
     "text": [
      "                                                              \r"
     ]
    },
    {
     "name": "stdout",
     "output_type": "stream",
     "text": [
      "Moviepy - Done !\n",
      "Moviepy - video ready D:\\Documents\\Trabajo\\megaproyecto_model\\data/asl_preprocessing/speed_output.mp4\n",
      "--------------------\n",
      "FPS:  30  VIDEO DURATION:  0.8666666666666667\n",
      "--------------------\n",
      "Moviepy - Building video D:\\Documents\\Trabajo\\megaproyecto_model\\data/asl_preprocessing/speed_output.mp4.\n",
      "MoviePy - Writing audio in speed_outputTEMP_MPY_wvf_snd.mp3\n"
     ]
    },
    {
     "name": "stderr",
     "output_type": "stream",
     "text": [
      "                                                       \r"
     ]
    },
    {
     "name": "stdout",
     "output_type": "stream",
     "text": [
      "MoviePy - Done.\n",
      "Moviepy - Writing video D:\\Documents\\Trabajo\\megaproyecto_model\\data/asl_preprocessing/speed_output.mp4\n",
      "\n"
     ]
    },
    {
     "name": "stderr",
     "output_type": "stream",
     "text": [
      "                                                            \r"
     ]
    },
    {
     "name": "stdout",
     "output_type": "stream",
     "text": [
      "Moviepy - Done !\n",
      "Moviepy - video ready D:\\Documents\\Trabajo\\megaproyecto_model\\data/asl_preprocessing/speed_output.mp4\n",
      "--------------------\n",
      "FPS:  30  VIDEO DURATION:  0.9666666666666667\n",
      "--------------------\n",
      "Moviepy - Building video D:\\Documents\\Trabajo\\megaproyecto_model\\data/asl_preprocessing/speed_output.mp4.\n",
      "MoviePy - Writing audio in speed_outputTEMP_MPY_wvf_snd.mp3\n"
     ]
    },
    {
     "name": "stderr",
     "output_type": "stream",
     "text": [
      "                                                       \r"
     ]
    },
    {
     "name": "stdout",
     "output_type": "stream",
     "text": [
      "MoviePy - Done.\n",
      "Moviepy - Writing video D:\\Documents\\Trabajo\\megaproyecto_model\\data/asl_preprocessing/speed_output.mp4\n",
      "\n"
     ]
    },
    {
     "name": "stderr",
     "output_type": "stream",
     "text": [
      "                                                              \r"
     ]
    },
    {
     "name": "stdout",
     "output_type": "stream",
     "text": [
      "Moviepy - Done !\n",
      "Moviepy - video ready D:\\Documents\\Trabajo\\megaproyecto_model\\data/asl_preprocessing/speed_output.mp4\n",
      "--------------------\n",
      "FPS:  30  VIDEO DURATION:  1.1666666666666667\n",
      "--------------------\n",
      "Moviepy - Building video D:\\Documents\\Trabajo\\megaproyecto_model\\data/asl_preprocessing/speed_output.mp4.\n",
      "MoviePy - Writing audio in speed_outputTEMP_MPY_wvf_snd.mp3\n"
     ]
    },
    {
     "name": "stderr",
     "output_type": "stream",
     "text": [
      "                                                       \r"
     ]
    },
    {
     "name": "stdout",
     "output_type": "stream",
     "text": [
      "MoviePy - Done.\n",
      "Moviepy - Writing video D:\\Documents\\Trabajo\\megaproyecto_model\\data/asl_preprocessing/speed_output.mp4\n",
      "\n"
     ]
    },
    {
     "name": "stderr",
     "output_type": "stream",
     "text": [
      "                                                              \r"
     ]
    },
    {
     "name": "stdout",
     "output_type": "stream",
     "text": [
      "Moviepy - Done !\n",
      "Moviepy - video ready D:\\Documents\\Trabajo\\megaproyecto_model\\data/asl_preprocessing/speed_output.mp4\n",
      "--------------------\n",
      "FPS:  30  VIDEO DURATION:  0.9666666666666667\n",
      "--------------------\n",
      "Moviepy - Building video D:\\Documents\\Trabajo\\megaproyecto_model\\data/asl_preprocessing/speed_output.mp4.\n",
      "MoviePy - Writing audio in speed_outputTEMP_MPY_wvf_snd.mp3\n"
     ]
    },
    {
     "name": "stderr",
     "output_type": "stream",
     "text": [
      "                                                       \r"
     ]
    },
    {
     "name": "stdout",
     "output_type": "stream",
     "text": [
      "MoviePy - Done.\n",
      "Moviepy - Writing video D:\\Documents\\Trabajo\\megaproyecto_model\\data/asl_preprocessing/speed_output.mp4\n",
      "\n"
     ]
    },
    {
     "name": "stderr",
     "output_type": "stream",
     "text": [
      "                                                              \r"
     ]
    },
    {
     "name": "stdout",
     "output_type": "stream",
     "text": [
      "Moviepy - Done !\n",
      "Moviepy - video ready D:\\Documents\\Trabajo\\megaproyecto_model\\data/asl_preprocessing/speed_output.mp4\n",
      "--------------------\n",
      "FPS:  30  VIDEO DURATION:  1.0\n",
      "--------------------\n",
      "Moviepy - Building video D:\\Documents\\Trabajo\\megaproyecto_model\\data/asl_preprocessing/speed_output.mp4.\n",
      "MoviePy - Writing audio in speed_outputTEMP_MPY_wvf_snd.mp3\n"
     ]
    },
    {
     "name": "stderr",
     "output_type": "stream",
     "text": [
      "                                                       \r"
     ]
    },
    {
     "name": "stdout",
     "output_type": "stream",
     "text": [
      "MoviePy - Done.\n",
      "Moviepy - Writing video D:\\Documents\\Trabajo\\megaproyecto_model\\data/asl_preprocessing/speed_output.mp4\n",
      "\n"
     ]
    },
    {
     "name": "stderr",
     "output_type": "stream",
     "text": [
      "                                                              \r"
     ]
    },
    {
     "name": "stdout",
     "output_type": "stream",
     "text": [
      "Moviepy - Done !\n",
      "Moviepy - video ready D:\\Documents\\Trabajo\\megaproyecto_model\\data/asl_preprocessing/speed_output.mp4\n",
      "--------------------\n",
      "FPS:  30  VIDEO DURATION:  1.1333333333333333\n",
      "--------------------\n",
      "Moviepy - Building video D:\\Documents\\Trabajo\\megaproyecto_model\\data/asl_preprocessing/speed_output.mp4.\n",
      "MoviePy - Writing audio in speed_outputTEMP_MPY_wvf_snd.mp3\n"
     ]
    },
    {
     "name": "stderr",
     "output_type": "stream",
     "text": [
      "                                                       \r"
     ]
    },
    {
     "name": "stdout",
     "output_type": "stream",
     "text": [
      "MoviePy - Done.\n",
      "Moviepy - Writing video D:\\Documents\\Trabajo\\megaproyecto_model\\data/asl_preprocessing/speed_output.mp4\n",
      "\n"
     ]
    },
    {
     "name": "stderr",
     "output_type": "stream",
     "text": [
      "                                                              \r"
     ]
    },
    {
     "name": "stdout",
     "output_type": "stream",
     "text": [
      "Moviepy - Done !\n",
      "Moviepy - video ready D:\\Documents\\Trabajo\\megaproyecto_model\\data/asl_preprocessing/speed_output.mp4\n",
      "--------------------\n",
      "FPS:  30  VIDEO DURATION:  0.9\n",
      "--------------------\n",
      "Moviepy - Building video D:\\Documents\\Trabajo\\megaproyecto_model\\data/asl_preprocessing/speed_output.mp4.\n",
      "MoviePy - Writing audio in speed_outputTEMP_MPY_wvf_snd.mp3\n"
     ]
    },
    {
     "name": "stderr",
     "output_type": "stream",
     "text": [
      "                                                       \r"
     ]
    },
    {
     "name": "stdout",
     "output_type": "stream",
     "text": [
      "MoviePy - Done.\n",
      "Moviepy - Writing video D:\\Documents\\Trabajo\\megaproyecto_model\\data/asl_preprocessing/speed_output.mp4\n",
      "\n"
     ]
    },
    {
     "name": "stderr",
     "output_type": "stream",
     "text": [
      "                                                            \r"
     ]
    },
    {
     "name": "stdout",
     "output_type": "stream",
     "text": [
      "Moviepy - Done !\n",
      "Moviepy - video ready D:\\Documents\\Trabajo\\megaproyecto_model\\data/asl_preprocessing/speed_output.mp4\n",
      "--------------------\n",
      "FPS:  30  VIDEO DURATION:  1.3666666666666667\n",
      "--------------------\n",
      "Moviepy - Building video D:\\Documents\\Trabajo\\megaproyecto_model\\data/asl_preprocessing/speed_output.mp4.\n",
      "MoviePy - Writing audio in speed_outputTEMP_MPY_wvf_snd.mp3\n"
     ]
    },
    {
     "name": "stderr",
     "output_type": "stream",
     "text": [
      "                                                       \r"
     ]
    },
    {
     "name": "stdout",
     "output_type": "stream",
     "text": [
      "MoviePy - Done.\n",
      "Moviepy - Writing video D:\\Documents\\Trabajo\\megaproyecto_model\\data/asl_preprocessing/speed_output.mp4\n",
      "\n"
     ]
    },
    {
     "name": "stderr",
     "output_type": "stream",
     "text": [
      "                                                            \r"
     ]
    },
    {
     "name": "stdout",
     "output_type": "stream",
     "text": [
      "Moviepy - Done !\n",
      "Moviepy - video ready D:\\Documents\\Trabajo\\megaproyecto_model\\data/asl_preprocessing/speed_output.mp4\n",
      "--------------------\n",
      "FPS:  30  VIDEO DURATION:  1.0666666666666667\n",
      "--------------------\n",
      "Moviepy - Building video D:\\Documents\\Trabajo\\megaproyecto_model\\data/asl_preprocessing/speed_output.mp4.\n",
      "MoviePy - Writing audio in speed_outputTEMP_MPY_wvf_snd.mp3\n"
     ]
    },
    {
     "name": "stderr",
     "output_type": "stream",
     "text": [
      "                                                       \r"
     ]
    },
    {
     "name": "stdout",
     "output_type": "stream",
     "text": [
      "MoviePy - Done.\n",
      "Moviepy - Writing video D:\\Documents\\Trabajo\\megaproyecto_model\\data/asl_preprocessing/speed_output.mp4\n",
      "\n"
     ]
    },
    {
     "name": "stderr",
     "output_type": "stream",
     "text": [
      "                                                            \r"
     ]
    },
    {
     "name": "stdout",
     "output_type": "stream",
     "text": [
      "Moviepy - Done !\n",
      "Moviepy - video ready D:\\Documents\\Trabajo\\megaproyecto_model\\data/asl_preprocessing/speed_output.mp4\n",
      "--------------------\n",
      "FPS:  30  VIDEO DURATION:  1.0333333333333334\n",
      "--------------------\n",
      "Moviepy - Building video D:\\Documents\\Trabajo\\megaproyecto_model\\data/asl_preprocessing/speed_output.mp4.\n",
      "MoviePy - Writing audio in speed_outputTEMP_MPY_wvf_snd.mp3\n"
     ]
    },
    {
     "name": "stderr",
     "output_type": "stream",
     "text": [
      "                                                       \r"
     ]
    },
    {
     "name": "stdout",
     "output_type": "stream",
     "text": [
      "MoviePy - Done.\n",
      "Moviepy - Writing video D:\\Documents\\Trabajo\\megaproyecto_model\\data/asl_preprocessing/speed_output.mp4\n",
      "\n"
     ]
    },
    {
     "name": "stderr",
     "output_type": "stream",
     "text": [
      "                                                            \r"
     ]
    },
    {
     "name": "stdout",
     "output_type": "stream",
     "text": [
      "Moviepy - Done !\n",
      "Moviepy - video ready D:\\Documents\\Trabajo\\megaproyecto_model\\data/asl_preprocessing/speed_output.mp4\n",
      "--------------------\n",
      "FPS:  30  VIDEO DURATION:  1.4666666666666666\n",
      "--------------------\n",
      "Moviepy - Building video D:\\Documents\\Trabajo\\megaproyecto_model\\data/asl_preprocessing/speed_output.mp4.\n",
      "MoviePy - Writing audio in speed_outputTEMP_MPY_wvf_snd.mp3\n"
     ]
    },
    {
     "name": "stderr",
     "output_type": "stream",
     "text": [
      "                                                       \r"
     ]
    },
    {
     "name": "stdout",
     "output_type": "stream",
     "text": [
      "MoviePy - Done.\n",
      "Moviepy - Writing video D:\\Documents\\Trabajo\\megaproyecto_model\\data/asl_preprocessing/speed_output.mp4\n",
      "\n"
     ]
    },
    {
     "name": "stderr",
     "output_type": "stream",
     "text": [
      "                                                            \r"
     ]
    },
    {
     "name": "stdout",
     "output_type": "stream",
     "text": [
      "Moviepy - Done !\n",
      "Moviepy - video ready D:\\Documents\\Trabajo\\megaproyecto_model\\data/asl_preprocessing/speed_output.mp4\n",
      "--------------------\n",
      "FPS:  30  VIDEO DURATION:  1.2333333333333334\n",
      "--------------------\n",
      "Moviepy - Building video D:\\Documents\\Trabajo\\megaproyecto_model\\data/asl_preprocessing/speed_output.mp4.\n",
      "MoviePy - Writing audio in speed_outputTEMP_MPY_wvf_snd.mp3\n"
     ]
    },
    {
     "name": "stderr",
     "output_type": "stream",
     "text": [
      "                                                       \r"
     ]
    },
    {
     "name": "stdout",
     "output_type": "stream",
     "text": [
      "MoviePy - Done.\n",
      "Moviepy - Writing video D:\\Documents\\Trabajo\\megaproyecto_model\\data/asl_preprocessing/speed_output.mp4\n",
      "\n"
     ]
    },
    {
     "name": "stderr",
     "output_type": "stream",
     "text": [
      "                                                              \r"
     ]
    },
    {
     "name": "stdout",
     "output_type": "stream",
     "text": [
      "Moviepy - Done !\n",
      "Moviepy - video ready D:\\Documents\\Trabajo\\megaproyecto_model\\data/asl_preprocessing/speed_output.mp4\n",
      "--------------------\n",
      "FPS:  30  VIDEO DURATION:  0.9333333333333333\n",
      "--------------------\n",
      "Moviepy - Building video D:\\Documents\\Trabajo\\megaproyecto_model\\data/asl_preprocessing/speed_output.mp4.\n",
      "MoviePy - Writing audio in speed_outputTEMP_MPY_wvf_snd.mp3\n"
     ]
    },
    {
     "name": "stderr",
     "output_type": "stream",
     "text": [
      "                                                       \r"
     ]
    },
    {
     "name": "stdout",
     "output_type": "stream",
     "text": [
      "MoviePy - Done.\n",
      "Moviepy - Writing video D:\\Documents\\Trabajo\\megaproyecto_model\\data/asl_preprocessing/speed_output.mp4\n",
      "\n"
     ]
    },
    {
     "name": "stderr",
     "output_type": "stream",
     "text": [
      "                                                              \r"
     ]
    },
    {
     "name": "stdout",
     "output_type": "stream",
     "text": [
      "Moviepy - Done !\n",
      "Moviepy - video ready D:\\Documents\\Trabajo\\megaproyecto_model\\data/asl_preprocessing/speed_output.mp4\n",
      "--------------------\n",
      "FPS:  30  VIDEO DURATION:  0.9\n",
      "--------------------\n",
      "Moviepy - Building video D:\\Documents\\Trabajo\\megaproyecto_model\\data/asl_preprocessing/speed_output.mp4.\n",
      "MoviePy - Writing audio in speed_outputTEMP_MPY_wvf_snd.mp3\n"
     ]
    },
    {
     "name": "stderr",
     "output_type": "stream",
     "text": [
      "                                                       \r"
     ]
    },
    {
     "name": "stdout",
     "output_type": "stream",
     "text": [
      "MoviePy - Done.\n",
      "Moviepy - Writing video D:\\Documents\\Trabajo\\megaproyecto_model\\data/asl_preprocessing/speed_output.mp4\n",
      "\n"
     ]
    },
    {
     "name": "stderr",
     "output_type": "stream",
     "text": [
      "                                                              \r"
     ]
    },
    {
     "name": "stdout",
     "output_type": "stream",
     "text": [
      "Moviepy - Done !\n",
      "Moviepy - video ready D:\\Documents\\Trabajo\\megaproyecto_model\\data/asl_preprocessing/speed_output.mp4\n",
      "--------------------\n",
      "FPS:  30  VIDEO DURATION:  1.0\n",
      "--------------------\n",
      "Moviepy - Building video D:\\Documents\\Trabajo\\megaproyecto_model\\data/asl_preprocessing/speed_output.mp4.\n",
      "MoviePy - Writing audio in speed_outputTEMP_MPY_wvf_snd.mp3\n"
     ]
    },
    {
     "name": "stderr",
     "output_type": "stream",
     "text": [
      "                                                       \r"
     ]
    },
    {
     "name": "stdout",
     "output_type": "stream",
     "text": [
      "MoviePy - Done.\n",
      "Moviepy - Writing video D:\\Documents\\Trabajo\\megaproyecto_model\\data/asl_preprocessing/speed_output.mp4\n",
      "\n"
     ]
    },
    {
     "name": "stderr",
     "output_type": "stream",
     "text": [
      "                                                              \r"
     ]
    },
    {
     "name": "stdout",
     "output_type": "stream",
     "text": [
      "Moviepy - Done !\n",
      "Moviepy - video ready D:\\Documents\\Trabajo\\megaproyecto_model\\data/asl_preprocessing/speed_output.mp4\n",
      "--------------------\n",
      "FPS:  30  VIDEO DURATION:  1.1666666666666667\n",
      "--------------------\n",
      "Moviepy - Building video D:\\Documents\\Trabajo\\megaproyecto_model\\data/asl_preprocessing/speed_output.mp4.\n",
      "MoviePy - Writing audio in speed_outputTEMP_MPY_wvf_snd.mp3\n"
     ]
    },
    {
     "name": "stderr",
     "output_type": "stream",
     "text": [
      "                                                       \r"
     ]
    },
    {
     "name": "stdout",
     "output_type": "stream",
     "text": [
      "MoviePy - Done.\n",
      "Moviepy - Writing video D:\\Documents\\Trabajo\\megaproyecto_model\\data/asl_preprocessing/speed_output.mp4\n",
      "\n"
     ]
    },
    {
     "name": "stderr",
     "output_type": "stream",
     "text": [
      "                                                            \r"
     ]
    },
    {
     "name": "stdout",
     "output_type": "stream",
     "text": [
      "Moviepy - Done !\n",
      "Moviepy - video ready D:\\Documents\\Trabajo\\megaproyecto_model\\data/asl_preprocessing/speed_output.mp4\n",
      "--------------------\n",
      "FPS:  30  VIDEO DURATION:  1.1333333333333333\n",
      "--------------------\n",
      "Moviepy - Building video D:\\Documents\\Trabajo\\megaproyecto_model\\data/asl_preprocessing/speed_output.mp4.\n",
      "MoviePy - Writing audio in speed_outputTEMP_MPY_wvf_snd.mp3\n"
     ]
    },
    {
     "name": "stderr",
     "output_type": "stream",
     "text": [
      "                                                       \r"
     ]
    },
    {
     "name": "stdout",
     "output_type": "stream",
     "text": [
      "MoviePy - Done.\n",
      "Moviepy - Writing video D:\\Documents\\Trabajo\\megaproyecto_model\\data/asl_preprocessing/speed_output.mp4\n",
      "\n"
     ]
    },
    {
     "name": "stderr",
     "output_type": "stream",
     "text": [
      "                                                             \r"
     ]
    },
    {
     "name": "stdout",
     "output_type": "stream",
     "text": [
      "Moviepy - Done !\n",
      "Moviepy - video ready D:\\Documents\\Trabajo\\megaproyecto_model\\data/asl_preprocessing/speed_output.mp4\n",
      "--------------------\n",
      "FPS:  30  VIDEO DURATION:  1.1333333333333333\n",
      "--------------------\n",
      "Moviepy - Building video D:\\Documents\\Trabajo\\megaproyecto_model\\data/asl_preprocessing/speed_output.mp4.\n",
      "MoviePy - Writing audio in speed_outputTEMP_MPY_wvf_snd.mp3\n"
     ]
    },
    {
     "name": "stderr",
     "output_type": "stream",
     "text": [
      "                                                       \r"
     ]
    },
    {
     "name": "stdout",
     "output_type": "stream",
     "text": [
      "MoviePy - Done.\n",
      "Moviepy - Writing video D:\\Documents\\Trabajo\\megaproyecto_model\\data/asl_preprocessing/speed_output.mp4\n",
      "\n"
     ]
    },
    {
     "name": "stderr",
     "output_type": "stream",
     "text": [
      "                                                            \r"
     ]
    },
    {
     "name": "stdout",
     "output_type": "stream",
     "text": [
      "Moviepy - Done !\n",
      "Moviepy - video ready D:\\Documents\\Trabajo\\megaproyecto_model\\data/asl_preprocessing/speed_output.mp4\n",
      "--------------------\n",
      "FPS:  30  VIDEO DURATION:  0.9666666666666667\n",
      "--------------------\n",
      "Moviepy - Building video D:\\Documents\\Trabajo\\megaproyecto_model\\data/asl_preprocessing/speed_output.mp4.\n",
      "MoviePy - Writing audio in speed_outputTEMP_MPY_wvf_snd.mp3\n"
     ]
    },
    {
     "name": "stderr",
     "output_type": "stream",
     "text": [
      "                                                       \r"
     ]
    },
    {
     "name": "stdout",
     "output_type": "stream",
     "text": [
      "MoviePy - Done.\n",
      "Moviepy - Writing video D:\\Documents\\Trabajo\\megaproyecto_model\\data/asl_preprocessing/speed_output.mp4\n",
      "\n"
     ]
    },
    {
     "name": "stderr",
     "output_type": "stream",
     "text": [
      "                                                              \r"
     ]
    },
    {
     "name": "stdout",
     "output_type": "stream",
     "text": [
      "Moviepy - Done !\n",
      "Moviepy - video ready D:\\Documents\\Trabajo\\megaproyecto_model\\data/asl_preprocessing/speed_output.mp4\n",
      "--------------------\n",
      "FPS:  30  VIDEO DURATION:  0.9\n",
      "--------------------\n",
      "Moviepy - Building video D:\\Documents\\Trabajo\\megaproyecto_model\\data/asl_preprocessing/speed_output.mp4.\n",
      "MoviePy - Writing audio in speed_outputTEMP_MPY_wvf_snd.mp3\n"
     ]
    },
    {
     "name": "stderr",
     "output_type": "stream",
     "text": [
      "                                                       \r"
     ]
    },
    {
     "name": "stdout",
     "output_type": "stream",
     "text": [
      "MoviePy - Done.\n",
      "Moviepy - Writing video D:\\Documents\\Trabajo\\megaproyecto_model\\data/asl_preprocessing/speed_output.mp4\n",
      "\n"
     ]
    },
    {
     "name": "stderr",
     "output_type": "stream",
     "text": [
      "                                                            \r"
     ]
    },
    {
     "name": "stdout",
     "output_type": "stream",
     "text": [
      "Moviepy - Done !\n",
      "Moviepy - video ready D:\\Documents\\Trabajo\\megaproyecto_model\\data/asl_preprocessing/speed_output.mp4\n",
      "--------------------\n",
      "FPS:  30  VIDEO DURATION:  1.1\n",
      "--------------------\n",
      "Moviepy - Building video D:\\Documents\\Trabajo\\megaproyecto_model\\data/asl_preprocessing/speed_output.mp4.\n",
      "MoviePy - Writing audio in speed_outputTEMP_MPY_wvf_snd.mp3\n"
     ]
    },
    {
     "name": "stderr",
     "output_type": "stream",
     "text": [
      "                                                       \r"
     ]
    },
    {
     "name": "stdout",
     "output_type": "stream",
     "text": [
      "MoviePy - Done.\n",
      "Moviepy - Writing video D:\\Documents\\Trabajo\\megaproyecto_model\\data/asl_preprocessing/speed_output.mp4\n",
      "\n"
     ]
    },
    {
     "name": "stderr",
     "output_type": "stream",
     "text": [
      "                                                            \r"
     ]
    },
    {
     "name": "stdout",
     "output_type": "stream",
     "text": [
      "Moviepy - Done !\n",
      "Moviepy - video ready D:\\Documents\\Trabajo\\megaproyecto_model\\data/asl_preprocessing/speed_output.mp4\n",
      "--------------------\n",
      "FPS:  30  VIDEO DURATION:  1.2333333333333334\n",
      "--------------------\n",
      "Moviepy - Building video D:\\Documents\\Trabajo\\megaproyecto_model\\data/asl_preprocessing/speed_output.mp4.\n",
      "MoviePy - Writing audio in speed_outputTEMP_MPY_wvf_snd.mp3\n"
     ]
    },
    {
     "name": "stderr",
     "output_type": "stream",
     "text": [
      "                                                       \r"
     ]
    },
    {
     "name": "stdout",
     "output_type": "stream",
     "text": [
      "MoviePy - Done.\n",
      "Moviepy - Writing video D:\\Documents\\Trabajo\\megaproyecto_model\\data/asl_preprocessing/speed_output.mp4\n",
      "\n"
     ]
    },
    {
     "name": "stderr",
     "output_type": "stream",
     "text": [
      "                                                            \r"
     ]
    },
    {
     "name": "stdout",
     "output_type": "stream",
     "text": [
      "Moviepy - Done !\n",
      "Moviepy - video ready D:\\Documents\\Trabajo\\megaproyecto_model\\data/asl_preprocessing/speed_output.mp4\n",
      "--------------------\n",
      "FPS:  30  VIDEO DURATION:  1.2333333333333334\n",
      "--------------------\n",
      "Moviepy - Building video D:\\Documents\\Trabajo\\megaproyecto_model\\data/asl_preprocessing/speed_output.mp4.\n",
      "MoviePy - Writing audio in speed_outputTEMP_MPY_wvf_snd.mp3\n"
     ]
    },
    {
     "name": "stderr",
     "output_type": "stream",
     "text": [
      "                                                       \r"
     ]
    },
    {
     "name": "stdout",
     "output_type": "stream",
     "text": [
      "MoviePy - Done.\n",
      "Moviepy - Writing video D:\\Documents\\Trabajo\\megaproyecto_model\\data/asl_preprocessing/speed_output.mp4\n",
      "\n"
     ]
    },
    {
     "name": "stderr",
     "output_type": "stream",
     "text": [
      "                                                            \r"
     ]
    },
    {
     "name": "stdout",
     "output_type": "stream",
     "text": [
      "Moviepy - Done !\n",
      "Moviepy - video ready D:\\Documents\\Trabajo\\megaproyecto_model\\data/asl_preprocessing/speed_output.mp4\n",
      "--------------------\n",
      "FPS:  30  VIDEO DURATION:  1.1\n",
      "--------------------\n",
      "Moviepy - Building video D:\\Documents\\Trabajo\\megaproyecto_model\\data/asl_preprocessing/speed_output.mp4.\n",
      "MoviePy - Writing audio in speed_outputTEMP_MPY_wvf_snd.mp3\n"
     ]
    },
    {
     "name": "stderr",
     "output_type": "stream",
     "text": [
      "                                                       \r"
     ]
    },
    {
     "name": "stdout",
     "output_type": "stream",
     "text": [
      "MoviePy - Done.\n",
      "Moviepy - Writing video D:\\Documents\\Trabajo\\megaproyecto_model\\data/asl_preprocessing/speed_output.mp4\n",
      "\n"
     ]
    },
    {
     "name": "stderr",
     "output_type": "stream",
     "text": [
      "                                                            \r"
     ]
    },
    {
     "name": "stdout",
     "output_type": "stream",
     "text": [
      "Moviepy - Done !\n",
      "Moviepy - video ready D:\\Documents\\Trabajo\\megaproyecto_model\\data/asl_preprocessing/speed_output.mp4\n",
      "--------------------\n",
      "FPS:  30  VIDEO DURATION:  1.0666666666666667\n",
      "--------------------\n",
      "Moviepy - Building video D:\\Documents\\Trabajo\\megaproyecto_model\\data/asl_preprocessing/speed_output.mp4.\n",
      "MoviePy - Writing audio in speed_outputTEMP_MPY_wvf_snd.mp3\n"
     ]
    },
    {
     "name": "stderr",
     "output_type": "stream",
     "text": [
      "                                                       \r"
     ]
    },
    {
     "name": "stdout",
     "output_type": "stream",
     "text": [
      "MoviePy - Done.\n",
      "Moviepy - Writing video D:\\Documents\\Trabajo\\megaproyecto_model\\data/asl_preprocessing/speed_output.mp4\n",
      "\n"
     ]
    },
    {
     "name": "stderr",
     "output_type": "stream",
     "text": [
      "                                                            \r"
     ]
    },
    {
     "name": "stdout",
     "output_type": "stream",
     "text": [
      "Moviepy - Done !\n",
      "Moviepy - video ready D:\\Documents\\Trabajo\\megaproyecto_model\\data/asl_preprocessing/speed_output.mp4\n",
      "--------------------\n",
      "FPS:  30  VIDEO DURATION:  1.1666666666666667\n",
      "--------------------\n",
      "Moviepy - Building video D:\\Documents\\Trabajo\\megaproyecto_model\\data/asl_preprocessing/speed_output.mp4.\n",
      "MoviePy - Writing audio in speed_outputTEMP_MPY_wvf_snd.mp3\n"
     ]
    },
    {
     "name": "stderr",
     "output_type": "stream",
     "text": [
      "                                                       \r"
     ]
    },
    {
     "name": "stdout",
     "output_type": "stream",
     "text": [
      "MoviePy - Done.\n",
      "Moviepy - Writing video D:\\Documents\\Trabajo\\megaproyecto_model\\data/asl_preprocessing/speed_output.mp4\n",
      "\n"
     ]
    },
    {
     "name": "stderr",
     "output_type": "stream",
     "text": [
      "                                                            \r"
     ]
    },
    {
     "name": "stdout",
     "output_type": "stream",
     "text": [
      "Moviepy - Done !\n",
      "Moviepy - video ready D:\\Documents\\Trabajo\\megaproyecto_model\\data/asl_preprocessing/speed_output.mp4\n",
      "--------------------\n",
      "FPS:  30  VIDEO DURATION:  0.8666666666666667\n",
      "--------------------\n",
      "Moviepy - Building video D:\\Documents\\Trabajo\\megaproyecto_model\\data/asl_preprocessing/speed_output.mp4.\n",
      "MoviePy - Writing audio in speed_outputTEMP_MPY_wvf_snd.mp3\n"
     ]
    },
    {
     "name": "stderr",
     "output_type": "stream",
     "text": [
      "                                                       \r"
     ]
    },
    {
     "name": "stdout",
     "output_type": "stream",
     "text": [
      "MoviePy - Done.\n",
      "Moviepy - Writing video D:\\Documents\\Trabajo\\megaproyecto_model\\data/asl_preprocessing/speed_output.mp4\n",
      "\n"
     ]
    },
    {
     "name": "stderr",
     "output_type": "stream",
     "text": [
      "                                                            \r"
     ]
    },
    {
     "name": "stdout",
     "output_type": "stream",
     "text": [
      "Moviepy - Done !\n",
      "Moviepy - video ready D:\\Documents\\Trabajo\\megaproyecto_model\\data/asl_preprocessing/speed_output.mp4\n",
      "--------------------\n",
      "FPS:  30  VIDEO DURATION:  0.9333333333333333\n",
      "--------------------\n",
      "Moviepy - Building video D:\\Documents\\Trabajo\\megaproyecto_model\\data/asl_preprocessing/speed_output.mp4.\n",
      "MoviePy - Writing audio in speed_outputTEMP_MPY_wvf_snd.mp3\n"
     ]
    },
    {
     "name": "stderr",
     "output_type": "stream",
     "text": [
      "                                                       \r"
     ]
    },
    {
     "name": "stdout",
     "output_type": "stream",
     "text": [
      "MoviePy - Done.\n",
      "Moviepy - Writing video D:\\Documents\\Trabajo\\megaproyecto_model\\data/asl_preprocessing/speed_output.mp4\n",
      "\n"
     ]
    },
    {
     "name": "stderr",
     "output_type": "stream",
     "text": [
      "                                                            \r"
     ]
    },
    {
     "name": "stdout",
     "output_type": "stream",
     "text": [
      "Moviepy - Done !\n",
      "Moviepy - video ready D:\\Documents\\Trabajo\\megaproyecto_model\\data/asl_preprocessing/speed_output.mp4\n",
      "--------------------\n",
      "FPS:  30  VIDEO DURATION:  1.2333333333333334\n",
      "--------------------\n",
      "Moviepy - Building video D:\\Documents\\Trabajo\\megaproyecto_model\\data/asl_preprocessing/speed_output.mp4.\n",
      "MoviePy - Writing audio in speed_outputTEMP_MPY_wvf_snd.mp3\n"
     ]
    },
    {
     "name": "stderr",
     "output_type": "stream",
     "text": [
      "                                                       \r"
     ]
    },
    {
     "name": "stdout",
     "output_type": "stream",
     "text": [
      "MoviePy - Done.\n",
      "Moviepy - Writing video D:\\Documents\\Trabajo\\megaproyecto_model\\data/asl_preprocessing/speed_output.mp4\n",
      "\n"
     ]
    },
    {
     "name": "stderr",
     "output_type": "stream",
     "text": [
      "                                                            \r"
     ]
    },
    {
     "name": "stdout",
     "output_type": "stream",
     "text": [
      "Moviepy - Done !\n",
      "Moviepy - video ready D:\\Documents\\Trabajo\\megaproyecto_model\\data/asl_preprocessing/speed_output.mp4\n",
      "--------------------\n",
      "FPS:  30  VIDEO DURATION:  1.0333333333333334\n",
      "--------------------\n",
      "Moviepy - Building video D:\\Documents\\Trabajo\\megaproyecto_model\\data/asl_preprocessing/speed_output.mp4.\n",
      "MoviePy - Writing audio in speed_outputTEMP_MPY_wvf_snd.mp3\n"
     ]
    },
    {
     "name": "stderr",
     "output_type": "stream",
     "text": [
      "                                                       \r"
     ]
    },
    {
     "name": "stdout",
     "output_type": "stream",
     "text": [
      "MoviePy - Done.\n",
      "Moviepy - Writing video D:\\Documents\\Trabajo\\megaproyecto_model\\data/asl_preprocessing/speed_output.mp4\n",
      "\n"
     ]
    },
    {
     "name": "stderr",
     "output_type": "stream",
     "text": [
      "                                                            \r"
     ]
    },
    {
     "name": "stdout",
     "output_type": "stream",
     "text": [
      "Moviepy - Done !\n",
      "Moviepy - video ready D:\\Documents\\Trabajo\\megaproyecto_model\\data/asl_preprocessing/speed_output.mp4\n",
      "--------------------\n",
      "FPS:  30  VIDEO DURATION:  1.0\n",
      "--------------------\n",
      "Moviepy - Building video D:\\Documents\\Trabajo\\megaproyecto_model\\data/asl_preprocessing/speed_output.mp4.\n",
      "MoviePy - Writing audio in speed_outputTEMP_MPY_wvf_snd.mp3\n"
     ]
    },
    {
     "name": "stderr",
     "output_type": "stream",
     "text": [
      "                                                       \r"
     ]
    },
    {
     "name": "stdout",
     "output_type": "stream",
     "text": [
      "MoviePy - Done.\n",
      "Moviepy - Writing video D:\\Documents\\Trabajo\\megaproyecto_model\\data/asl_preprocessing/speed_output.mp4\n",
      "\n"
     ]
    },
    {
     "name": "stderr",
     "output_type": "stream",
     "text": [
      "                                                            \r"
     ]
    },
    {
     "name": "stdout",
     "output_type": "stream",
     "text": [
      "Moviepy - Done !\n",
      "Moviepy - video ready D:\\Documents\\Trabajo\\megaproyecto_model\\data/asl_preprocessing/speed_output.mp4\n",
      "--------------------\n",
      "FPS:  30  VIDEO DURATION:  0.9\n",
      "--------------------\n",
      "Moviepy - Building video D:\\Documents\\Trabajo\\megaproyecto_model\\data/asl_preprocessing/speed_output.mp4.\n",
      "MoviePy - Writing audio in speed_outputTEMP_MPY_wvf_snd.mp3\n"
     ]
    },
    {
     "name": "stderr",
     "output_type": "stream",
     "text": [
      "                                                       \r"
     ]
    },
    {
     "name": "stdout",
     "output_type": "stream",
     "text": [
      "MoviePy - Done.\n",
      "Moviepy - Writing video D:\\Documents\\Trabajo\\megaproyecto_model\\data/asl_preprocessing/speed_output.mp4\n",
      "\n"
     ]
    },
    {
     "name": "stderr",
     "output_type": "stream",
     "text": [
      "                                                            \r"
     ]
    },
    {
     "name": "stdout",
     "output_type": "stream",
     "text": [
      "Moviepy - Done !\n",
      "Moviepy - video ready D:\\Documents\\Trabajo\\megaproyecto_model\\data/asl_preprocessing/speed_output.mp4\n",
      "--------------------\n",
      "FPS:  30  VIDEO DURATION:  0.9666666666666667\n",
      "--------------------\n",
      "Moviepy - Building video D:\\Documents\\Trabajo\\megaproyecto_model\\data/asl_preprocessing/speed_output.mp4.\n",
      "MoviePy - Writing audio in speed_outputTEMP_MPY_wvf_snd.mp3\n"
     ]
    },
    {
     "name": "stderr",
     "output_type": "stream",
     "text": [
      "                                                       \r"
     ]
    },
    {
     "name": "stdout",
     "output_type": "stream",
     "text": [
      "MoviePy - Done.\n",
      "Moviepy - Writing video D:\\Documents\\Trabajo\\megaproyecto_model\\data/asl_preprocessing/speed_output.mp4\n",
      "\n"
     ]
    },
    {
     "name": "stderr",
     "output_type": "stream",
     "text": [
      "                                                            \r"
     ]
    },
    {
     "name": "stdout",
     "output_type": "stream",
     "text": [
      "Moviepy - Done !\n",
      "Moviepy - video ready D:\\Documents\\Trabajo\\megaproyecto_model\\data/asl_preprocessing/speed_output.mp4\n",
      "--------------------\n",
      "FPS:  30  VIDEO DURATION:  1.0666666666666667\n",
      "--------------------\n",
      "Moviepy - Building video D:\\Documents\\Trabajo\\megaproyecto_model\\data/asl_preprocessing/speed_output.mp4.\n",
      "MoviePy - Writing audio in speed_outputTEMP_MPY_wvf_snd.mp3\n"
     ]
    },
    {
     "name": "stderr",
     "output_type": "stream",
     "text": [
      "                                                       \r"
     ]
    },
    {
     "name": "stdout",
     "output_type": "stream",
     "text": [
      "MoviePy - Done.\n",
      "Moviepy - Writing video D:\\Documents\\Trabajo\\megaproyecto_model\\data/asl_preprocessing/speed_output.mp4\n",
      "\n"
     ]
    },
    {
     "name": "stderr",
     "output_type": "stream",
     "text": [
      "                                                            \r"
     ]
    },
    {
     "name": "stdout",
     "output_type": "stream",
     "text": [
      "Moviepy - Done !\n",
      "Moviepy - video ready D:\\Documents\\Trabajo\\megaproyecto_model\\data/asl_preprocessing/speed_output.mp4\n",
      "--------------------\n",
      "FPS:  30  VIDEO DURATION:  0.9666666666666667\n",
      "--------------------\n",
      "Moviepy - Building video D:\\Documents\\Trabajo\\megaproyecto_model\\data/asl_preprocessing/speed_output.mp4.\n",
      "MoviePy - Writing audio in speed_outputTEMP_MPY_wvf_snd.mp3\n"
     ]
    },
    {
     "name": "stderr",
     "output_type": "stream",
     "text": [
      "                                                       \r"
     ]
    },
    {
     "name": "stdout",
     "output_type": "stream",
     "text": [
      "MoviePy - Done.\n",
      "Moviepy - Writing video D:\\Documents\\Trabajo\\megaproyecto_model\\data/asl_preprocessing/speed_output.mp4\n",
      "\n"
     ]
    },
    {
     "name": "stderr",
     "output_type": "stream",
     "text": [
      "                                                            \r"
     ]
    },
    {
     "name": "stdout",
     "output_type": "stream",
     "text": [
      "Moviepy - Done !\n",
      "Moviepy - video ready D:\\Documents\\Trabajo\\megaproyecto_model\\data/asl_preprocessing/speed_output.mp4\n",
      "--------------------\n",
      "FPS:  30  VIDEO DURATION:  1.0666666666666667\n",
      "--------------------\n",
      "Moviepy - Building video D:\\Documents\\Trabajo\\megaproyecto_model\\data/asl_preprocessing/speed_output.mp4.\n",
      "MoviePy - Writing audio in speed_outputTEMP_MPY_wvf_snd.mp3\n"
     ]
    },
    {
     "name": "stderr",
     "output_type": "stream",
     "text": [
      "                                                       \r"
     ]
    },
    {
     "name": "stdout",
     "output_type": "stream",
     "text": [
      "MoviePy - Done.\n",
      "Moviepy - Writing video D:\\Documents\\Trabajo\\megaproyecto_model\\data/asl_preprocessing/speed_output.mp4\n",
      "\n"
     ]
    },
    {
     "name": "stderr",
     "output_type": "stream",
     "text": [
      "                                                            \r"
     ]
    },
    {
     "name": "stdout",
     "output_type": "stream",
     "text": [
      "Moviepy - Done !\n",
      "Moviepy - video ready D:\\Documents\\Trabajo\\megaproyecto_model\\data/asl_preprocessing/speed_output.mp4\n",
      "--------------------\n",
      "FPS:  30  VIDEO DURATION:  0.9\n",
      "--------------------\n",
      "Moviepy - Building video D:\\Documents\\Trabajo\\megaproyecto_model\\data/asl_preprocessing/speed_output.mp4.\n",
      "MoviePy - Writing audio in speed_outputTEMP_MPY_wvf_snd.mp3\n"
     ]
    },
    {
     "name": "stderr",
     "output_type": "stream",
     "text": [
      "                                                       \r"
     ]
    },
    {
     "name": "stdout",
     "output_type": "stream",
     "text": [
      "MoviePy - Done.\n",
      "Moviepy - Writing video D:\\Documents\\Trabajo\\megaproyecto_model\\data/asl_preprocessing/speed_output.mp4\n",
      "\n"
     ]
    },
    {
     "name": "stderr",
     "output_type": "stream",
     "text": [
      "                                                            \r"
     ]
    },
    {
     "name": "stdout",
     "output_type": "stream",
     "text": [
      "Moviepy - Done !\n",
      "Moviepy - video ready D:\\Documents\\Trabajo\\megaproyecto_model\\data/asl_preprocessing/speed_output.mp4\n",
      "--------------------\n",
      "FPS:  30  VIDEO DURATION:  1.0\n",
      "--------------------\n",
      "Moviepy - Building video D:\\Documents\\Trabajo\\megaproyecto_model\\data/asl_preprocessing/speed_output.mp4.\n",
      "MoviePy - Writing audio in speed_outputTEMP_MPY_wvf_snd.mp3\n"
     ]
    },
    {
     "name": "stderr",
     "output_type": "stream",
     "text": [
      "                                                       \r"
     ]
    },
    {
     "name": "stdout",
     "output_type": "stream",
     "text": [
      "MoviePy - Done.\n",
      "Moviepy - Writing video D:\\Documents\\Trabajo\\megaproyecto_model\\data/asl_preprocessing/speed_output.mp4\n",
      "\n"
     ]
    },
    {
     "name": "stderr",
     "output_type": "stream",
     "text": [
      "                                                            \r"
     ]
    },
    {
     "name": "stdout",
     "output_type": "stream",
     "text": [
      "Moviepy - Done !\n",
      "Moviepy - video ready D:\\Documents\\Trabajo\\megaproyecto_model\\data/asl_preprocessing/speed_output.mp4\n",
      "--------------------\n",
      "FPS:  30  VIDEO DURATION:  1.4333333333333333\n",
      "--------------------\n",
      "Moviepy - Building video D:\\Documents\\Trabajo\\megaproyecto_model\\data/asl_preprocessing/speed_output.mp4.\n",
      "MoviePy - Writing audio in speed_outputTEMP_MPY_wvf_snd.mp3\n"
     ]
    },
    {
     "name": "stderr",
     "output_type": "stream",
     "text": [
      "                                                       \r"
     ]
    },
    {
     "name": "stdout",
     "output_type": "stream",
     "text": [
      "MoviePy - Done.\n",
      "Moviepy - Writing video D:\\Documents\\Trabajo\\megaproyecto_model\\data/asl_preprocessing/speed_output.mp4\n",
      "\n"
     ]
    },
    {
     "name": "stderr",
     "output_type": "stream",
     "text": [
      "                                                            \r"
     ]
    },
    {
     "name": "stdout",
     "output_type": "stream",
     "text": [
      "Moviepy - Done !\n",
      "Moviepy - video ready D:\\Documents\\Trabajo\\megaproyecto_model\\data/asl_preprocessing/speed_output.mp4\n",
      "--------------------\n",
      "FPS:  30  VIDEO DURATION:  1.2\n",
      "--------------------\n",
      "Moviepy - Building video D:\\Documents\\Trabajo\\megaproyecto_model\\data/asl_preprocessing/speed_output.mp4.\n",
      "MoviePy - Writing audio in speed_outputTEMP_MPY_wvf_snd.mp3\n"
     ]
    },
    {
     "name": "stderr",
     "output_type": "stream",
     "text": [
      "                                                       \r"
     ]
    },
    {
     "name": "stdout",
     "output_type": "stream",
     "text": [
      "MoviePy - Done.\n",
      "Moviepy - Writing video D:\\Documents\\Trabajo\\megaproyecto_model\\data/asl_preprocessing/speed_output.mp4\n",
      "\n"
     ]
    },
    {
     "name": "stderr",
     "output_type": "stream",
     "text": [
      "                                                            \r"
     ]
    },
    {
     "name": "stdout",
     "output_type": "stream",
     "text": [
      "Moviepy - Done !\n",
      "Moviepy - video ready D:\\Documents\\Trabajo\\megaproyecto_model\\data/asl_preprocessing/speed_output.mp4\n",
      "--------------------\n",
      "FPS:  30  VIDEO DURATION:  1.2333333333333334\n",
      "--------------------\n",
      "Moviepy - Building video D:\\Documents\\Trabajo\\megaproyecto_model\\data/asl_preprocessing/speed_output.mp4.\n",
      "MoviePy - Writing audio in speed_outputTEMP_MPY_wvf_snd.mp3\n"
     ]
    },
    {
     "name": "stderr",
     "output_type": "stream",
     "text": [
      "                                                       \r"
     ]
    },
    {
     "name": "stdout",
     "output_type": "stream",
     "text": [
      "MoviePy - Done.\n",
      "Moviepy - Writing video D:\\Documents\\Trabajo\\megaproyecto_model\\data/asl_preprocessing/speed_output.mp4\n",
      "\n"
     ]
    },
    {
     "name": "stderr",
     "output_type": "stream",
     "text": [
      "                                                            \r"
     ]
    },
    {
     "name": "stdout",
     "output_type": "stream",
     "text": [
      "Moviepy - Done !\n",
      "Moviepy - video ready D:\\Documents\\Trabajo\\megaproyecto_model\\data/asl_preprocessing/speed_output.mp4\n",
      "--------------------\n",
      "FPS:  30  VIDEO DURATION:  0.9666666666666667\n",
      "--------------------\n",
      "Moviepy - Building video D:\\Documents\\Trabajo\\megaproyecto_model\\data/asl_preprocessing/speed_output.mp4.\n",
      "MoviePy - Writing audio in speed_outputTEMP_MPY_wvf_snd.mp3\n"
     ]
    },
    {
     "name": "stderr",
     "output_type": "stream",
     "text": [
      "                                                       \r"
     ]
    },
    {
     "name": "stdout",
     "output_type": "stream",
     "text": [
      "MoviePy - Done.\n",
      "Moviepy - Writing video D:\\Documents\\Trabajo\\megaproyecto_model\\data/asl_preprocessing/speed_output.mp4\n",
      "\n"
     ]
    },
    {
     "name": "stderr",
     "output_type": "stream",
     "text": [
      "                                                            \r"
     ]
    },
    {
     "name": "stdout",
     "output_type": "stream",
     "text": [
      "Moviepy - Done !\n",
      "Moviepy - video ready D:\\Documents\\Trabajo\\megaproyecto_model\\data/asl_preprocessing/speed_output.mp4\n",
      "--------------------\n",
      "FPS:  30  VIDEO DURATION:  1.2666666666666666\n",
      "--------------------\n",
      "Moviepy - Building video D:\\Documents\\Trabajo\\megaproyecto_model\\data/asl_preprocessing/speed_output.mp4.\n",
      "MoviePy - Writing audio in speed_outputTEMP_MPY_wvf_snd.mp3\n"
     ]
    },
    {
     "name": "stderr",
     "output_type": "stream",
     "text": [
      "                                                       \r"
     ]
    },
    {
     "name": "stdout",
     "output_type": "stream",
     "text": [
      "MoviePy - Done.\n",
      "Moviepy - Writing video D:\\Documents\\Trabajo\\megaproyecto_model\\data/asl_preprocessing/speed_output.mp4\n",
      "\n"
     ]
    },
    {
     "name": "stderr",
     "output_type": "stream",
     "text": [
      "                                                            \r"
     ]
    },
    {
     "name": "stdout",
     "output_type": "stream",
     "text": [
      "Moviepy - Done !\n",
      "Moviepy - video ready D:\\Documents\\Trabajo\\megaproyecto_model\\data/asl_preprocessing/speed_output.mp4\n",
      "--------------------\n",
      "FPS:  30  VIDEO DURATION:  1.2\n",
      "--------------------\n",
      "Moviepy - Building video D:\\Documents\\Trabajo\\megaproyecto_model\\data/asl_preprocessing/speed_output.mp4.\n",
      "MoviePy - Writing audio in speed_outputTEMP_MPY_wvf_snd.mp3\n"
     ]
    },
    {
     "name": "stderr",
     "output_type": "stream",
     "text": [
      "                                                       \r"
     ]
    },
    {
     "name": "stdout",
     "output_type": "stream",
     "text": [
      "MoviePy - Done.\n",
      "Moviepy - Writing video D:\\Documents\\Trabajo\\megaproyecto_model\\data/asl_preprocessing/speed_output.mp4\n",
      "\n"
     ]
    },
    {
     "name": "stderr",
     "output_type": "stream",
     "text": [
      "                                                            \r"
     ]
    },
    {
     "name": "stdout",
     "output_type": "stream",
     "text": [
      "Moviepy - Done !\n",
      "Moviepy - video ready D:\\Documents\\Trabajo\\megaproyecto_model\\data/asl_preprocessing/speed_output.mp4\n",
      "--------------------\n",
      "FPS:  30  VIDEO DURATION:  1.0666666666666667\n",
      "--------------------\n",
      "Moviepy - Building video D:\\Documents\\Trabajo\\megaproyecto_model\\data/asl_preprocessing/speed_output.mp4.\n",
      "MoviePy - Writing audio in speed_outputTEMP_MPY_wvf_snd.mp3\n"
     ]
    },
    {
     "name": "stderr",
     "output_type": "stream",
     "text": [
      "                                                       \r"
     ]
    },
    {
     "name": "stdout",
     "output_type": "stream",
     "text": [
      "MoviePy - Done.\n",
      "Moviepy - Writing video D:\\Documents\\Trabajo\\megaproyecto_model\\data/asl_preprocessing/speed_output.mp4\n",
      "\n"
     ]
    },
    {
     "name": "stderr",
     "output_type": "stream",
     "text": [
      "                                                            \r"
     ]
    },
    {
     "name": "stdout",
     "output_type": "stream",
     "text": [
      "Moviepy - Done !\n",
      "Moviepy - video ready D:\\Documents\\Trabajo\\megaproyecto_model\\data/asl_preprocessing/speed_output.mp4\n",
      "--------------------\n",
      "FPS:  30  VIDEO DURATION:  0.8666666666666667\n",
      "--------------------\n",
      "Moviepy - Building video D:\\Documents\\Trabajo\\megaproyecto_model\\data/asl_preprocessing/speed_output.mp4.\n",
      "MoviePy - Writing audio in speed_outputTEMP_MPY_wvf_snd.mp3\n"
     ]
    },
    {
     "name": "stderr",
     "output_type": "stream",
     "text": [
      "                                                       \r"
     ]
    },
    {
     "name": "stdout",
     "output_type": "stream",
     "text": [
      "MoviePy - Done.\n",
      "Moviepy - Writing video D:\\Documents\\Trabajo\\megaproyecto_model\\data/asl_preprocessing/speed_output.mp4\n",
      "\n"
     ]
    },
    {
     "name": "stderr",
     "output_type": "stream",
     "text": [
      "                                                            \r"
     ]
    },
    {
     "name": "stdout",
     "output_type": "stream",
     "text": [
      "Moviepy - Done !\n",
      "Moviepy - video ready D:\\Documents\\Trabajo\\megaproyecto_model\\data/asl_preprocessing/speed_output.mp4\n",
      "--------------------\n",
      "FPS:  30  VIDEO DURATION:  0.9333333333333333\n",
      "--------------------\n",
      "Moviepy - Building video D:\\Documents\\Trabajo\\megaproyecto_model\\data/asl_preprocessing/speed_output.mp4.\n",
      "MoviePy - Writing audio in speed_outputTEMP_MPY_wvf_snd.mp3\n"
     ]
    },
    {
     "name": "stderr",
     "output_type": "stream",
     "text": [
      "                                                       \r"
     ]
    },
    {
     "name": "stdout",
     "output_type": "stream",
     "text": [
      "MoviePy - Done.\n",
      "Moviepy - Writing video D:\\Documents\\Trabajo\\megaproyecto_model\\data/asl_preprocessing/speed_output.mp4\n",
      "\n"
     ]
    },
    {
     "name": "stderr",
     "output_type": "stream",
     "text": [
      "                                                            \r"
     ]
    },
    {
     "name": "stdout",
     "output_type": "stream",
     "text": [
      "Moviepy - Done !\n",
      "Moviepy - video ready D:\\Documents\\Trabajo\\megaproyecto_model\\data/asl_preprocessing/speed_output.mp4\n",
      "--------------------\n",
      "FPS:  30  VIDEO DURATION:  1.2\n",
      "--------------------\n",
      "Moviepy - Building video D:\\Documents\\Trabajo\\megaproyecto_model\\data/asl_preprocessing/speed_output.mp4.\n",
      "MoviePy - Writing audio in speed_outputTEMP_MPY_wvf_snd.mp3\n"
     ]
    },
    {
     "name": "stderr",
     "output_type": "stream",
     "text": [
      "                                                       \r"
     ]
    },
    {
     "name": "stdout",
     "output_type": "stream",
     "text": [
      "MoviePy - Done.\n",
      "Moviepy - Writing video D:\\Documents\\Trabajo\\megaproyecto_model\\data/asl_preprocessing/speed_output.mp4\n",
      "\n"
     ]
    },
    {
     "name": "stderr",
     "output_type": "stream",
     "text": [
      "                                                            \r"
     ]
    },
    {
     "name": "stdout",
     "output_type": "stream",
     "text": [
      "Moviepy - Done !\n",
      "Moviepy - video ready D:\\Documents\\Trabajo\\megaproyecto_model\\data/asl_preprocessing/speed_output.mp4\n",
      "--------------------\n",
      "FPS:  30  VIDEO DURATION:  0.8666666666666667\n",
      "--------------------\n",
      "Moviepy - Building video D:\\Documents\\Trabajo\\megaproyecto_model\\data/asl_preprocessing/speed_output.mp4.\n",
      "MoviePy - Writing audio in speed_outputTEMP_MPY_wvf_snd.mp3\n"
     ]
    },
    {
     "name": "stderr",
     "output_type": "stream",
     "text": [
      "                                                       \r"
     ]
    },
    {
     "name": "stdout",
     "output_type": "stream",
     "text": [
      "MoviePy - Done.\n",
      "Moviepy - Writing video D:\\Documents\\Trabajo\\megaproyecto_model\\data/asl_preprocessing/speed_output.mp4\n",
      "\n"
     ]
    },
    {
     "name": "stderr",
     "output_type": "stream",
     "text": [
      "                                                            \r"
     ]
    },
    {
     "name": "stdout",
     "output_type": "stream",
     "text": [
      "Moviepy - Done !\n",
      "Moviepy - video ready D:\\Documents\\Trabajo\\megaproyecto_model\\data/asl_preprocessing/speed_output.mp4\n",
      "--------------------\n",
      "FPS:  30  VIDEO DURATION:  0.9333333333333333\n",
      "--------------------\n",
      "Moviepy - Building video D:\\Documents\\Trabajo\\megaproyecto_model\\data/asl_preprocessing/speed_output.mp4.\n",
      "MoviePy - Writing audio in speed_outputTEMP_MPY_wvf_snd.mp3\n"
     ]
    },
    {
     "name": "stderr",
     "output_type": "stream",
     "text": [
      "                                                       \r"
     ]
    },
    {
     "name": "stdout",
     "output_type": "stream",
     "text": [
      "MoviePy - Done.\n",
      "Moviepy - Writing video D:\\Documents\\Trabajo\\megaproyecto_model\\data/asl_preprocessing/speed_output.mp4\n",
      "\n"
     ]
    },
    {
     "name": "stderr",
     "output_type": "stream",
     "text": [
      "                                                            \r"
     ]
    },
    {
     "name": "stdout",
     "output_type": "stream",
     "text": [
      "Moviepy - Done !\n",
      "Moviepy - video ready D:\\Documents\\Trabajo\\megaproyecto_model\\data/asl_preprocessing/speed_output.mp4\n",
      "--------------------\n",
      "FPS:  30  VIDEO DURATION:  1.0666666666666667\n",
      "--------------------\n",
      "Moviepy - Building video D:\\Documents\\Trabajo\\megaproyecto_model\\data/asl_preprocessing/speed_output.mp4.\n",
      "MoviePy - Writing audio in speed_outputTEMP_MPY_wvf_snd.mp3\n"
     ]
    },
    {
     "name": "stderr",
     "output_type": "stream",
     "text": [
      "                                                       \r"
     ]
    },
    {
     "name": "stdout",
     "output_type": "stream",
     "text": [
      "MoviePy - Done.\n",
      "Moviepy - Writing video D:\\Documents\\Trabajo\\megaproyecto_model\\data/asl_preprocessing/speed_output.mp4\n",
      "\n"
     ]
    },
    {
     "name": "stderr",
     "output_type": "stream",
     "text": [
      "                                                            \r"
     ]
    },
    {
     "name": "stdout",
     "output_type": "stream",
     "text": [
      "Moviepy - Done !\n",
      "Moviepy - video ready D:\\Documents\\Trabajo\\megaproyecto_model\\data/asl_preprocessing/speed_output.mp4\n",
      "--------------------\n",
      "FPS:  30  VIDEO DURATION:  0.9666666666666667\n",
      "--------------------\n",
      "Moviepy - Building video D:\\Documents\\Trabajo\\megaproyecto_model\\data/asl_preprocessing/speed_output.mp4.\n",
      "MoviePy - Writing audio in speed_outputTEMP_MPY_wvf_snd.mp3\n"
     ]
    },
    {
     "name": "stderr",
     "output_type": "stream",
     "text": [
      "                                                       \r"
     ]
    },
    {
     "name": "stdout",
     "output_type": "stream",
     "text": [
      "MoviePy - Done.\n",
      "Moviepy - Writing video D:\\Documents\\Trabajo\\megaproyecto_model\\data/asl_preprocessing/speed_output.mp4\n",
      "\n"
     ]
    },
    {
     "name": "stderr",
     "output_type": "stream",
     "text": [
      "                                                            \r"
     ]
    },
    {
     "name": "stdout",
     "output_type": "stream",
     "text": [
      "Moviepy - Done !\n",
      "Moviepy - video ready D:\\Documents\\Trabajo\\megaproyecto_model\\data/asl_preprocessing/speed_output.mp4\n",
      "--------------------\n",
      "FPS:  30  VIDEO DURATION:  0.8\n",
      "--------------------\n",
      "Moviepy - Building video D:\\Documents\\Trabajo\\megaproyecto_model\\data/asl_preprocessing/speed_output.mp4.\n",
      "MoviePy - Writing audio in speed_outputTEMP_MPY_wvf_snd.mp3\n"
     ]
    },
    {
     "name": "stderr",
     "output_type": "stream",
     "text": [
      "                                                       \r"
     ]
    },
    {
     "name": "stdout",
     "output_type": "stream",
     "text": [
      "MoviePy - Done.\n",
      "Moviepy - Writing video D:\\Documents\\Trabajo\\megaproyecto_model\\data/asl_preprocessing/speed_output.mp4\n",
      "\n"
     ]
    },
    {
     "name": "stderr",
     "output_type": "stream",
     "text": [
      "                                                            \r"
     ]
    },
    {
     "name": "stdout",
     "output_type": "stream",
     "text": [
      "Moviepy - Done !\n",
      "Moviepy - video ready D:\\Documents\\Trabajo\\megaproyecto_model\\data/asl_preprocessing/speed_output.mp4\n",
      "--------------------\n",
      "FPS:  30  VIDEO DURATION:  1.1666666666666667\n",
      "--------------------\n",
      "Moviepy - Building video D:\\Documents\\Trabajo\\megaproyecto_model\\data/asl_preprocessing/speed_output.mp4.\n",
      "MoviePy - Writing audio in speed_outputTEMP_MPY_wvf_snd.mp3\n"
     ]
    },
    {
     "name": "stderr",
     "output_type": "stream",
     "text": [
      "                                                       \r"
     ]
    },
    {
     "name": "stdout",
     "output_type": "stream",
     "text": [
      "MoviePy - Done.\n",
      "Moviepy - Writing video D:\\Documents\\Trabajo\\megaproyecto_model\\data/asl_preprocessing/speed_output.mp4\n",
      "\n"
     ]
    },
    {
     "name": "stderr",
     "output_type": "stream",
     "text": [
      "                                                            \r"
     ]
    },
    {
     "name": "stdout",
     "output_type": "stream",
     "text": [
      "Moviepy - Done !\n",
      "Moviepy - video ready D:\\Documents\\Trabajo\\megaproyecto_model\\data/asl_preprocessing/speed_output.mp4\n",
      "--------------------\n",
      "FPS:  30  VIDEO DURATION:  0.9666666666666667\n",
      "--------------------\n",
      "Moviepy - Building video D:\\Documents\\Trabajo\\megaproyecto_model\\data/asl_preprocessing/speed_output.mp4.\n",
      "MoviePy - Writing audio in speed_outputTEMP_MPY_wvf_snd.mp3\n"
     ]
    },
    {
     "name": "stderr",
     "output_type": "stream",
     "text": [
      "                                                       \r"
     ]
    },
    {
     "name": "stdout",
     "output_type": "stream",
     "text": [
      "MoviePy - Done.\n",
      "Moviepy - Writing video D:\\Documents\\Trabajo\\megaproyecto_model\\data/asl_preprocessing/speed_output.mp4\n",
      "\n"
     ]
    },
    {
     "name": "stderr",
     "output_type": "stream",
     "text": [
      "                                                              \r"
     ]
    },
    {
     "name": "stdout",
     "output_type": "stream",
     "text": [
      "Moviepy - Done !\n",
      "Moviepy - video ready D:\\Documents\\Trabajo\\megaproyecto_model\\data/asl_preprocessing/speed_output.mp4\n",
      "--------------------\n",
      "FPS:  30  VIDEO DURATION:  0.9\n",
      "--------------------\n",
      "Moviepy - Building video D:\\Documents\\Trabajo\\megaproyecto_model\\data/asl_preprocessing/speed_output.mp4.\n",
      "MoviePy - Writing audio in speed_outputTEMP_MPY_wvf_snd.mp3\n"
     ]
    },
    {
     "name": "stderr",
     "output_type": "stream",
     "text": [
      "                                                       \r"
     ]
    },
    {
     "name": "stdout",
     "output_type": "stream",
     "text": [
      "MoviePy - Done.\n",
      "Moviepy - Writing video D:\\Documents\\Trabajo\\megaproyecto_model\\data/asl_preprocessing/speed_output.mp4\n",
      "\n"
     ]
    },
    {
     "name": "stderr",
     "output_type": "stream",
     "text": [
      "                                                            \r"
     ]
    },
    {
     "name": "stdout",
     "output_type": "stream",
     "text": [
      "Moviepy - Done !\n",
      "Moviepy - video ready D:\\Documents\\Trabajo\\megaproyecto_model\\data/asl_preprocessing/speed_output.mp4\n",
      "--------------------\n",
      "FPS:  30  VIDEO DURATION:  1.2\n",
      "--------------------\n",
      "Moviepy - Building video D:\\Documents\\Trabajo\\megaproyecto_model\\data/asl_preprocessing/speed_output.mp4.\n",
      "MoviePy - Writing audio in speed_outputTEMP_MPY_wvf_snd.mp3\n"
     ]
    },
    {
     "name": "stderr",
     "output_type": "stream",
     "text": [
      "                                                       \r"
     ]
    },
    {
     "name": "stdout",
     "output_type": "stream",
     "text": [
      "MoviePy - Done.\n",
      "Moviepy - Writing video D:\\Documents\\Trabajo\\megaproyecto_model\\data/asl_preprocessing/speed_output.mp4\n",
      "\n"
     ]
    },
    {
     "name": "stderr",
     "output_type": "stream",
     "text": [
      "                                                            \r"
     ]
    },
    {
     "name": "stdout",
     "output_type": "stream",
     "text": [
      "Moviepy - Done !\n",
      "Moviepy - video ready D:\\Documents\\Trabajo\\megaproyecto_model\\data/asl_preprocessing/speed_output.mp4\n",
      "--------------------\n",
      "FPS:  30  VIDEO DURATION:  1.2333333333333334\n",
      "--------------------\n",
      "Moviepy - Building video D:\\Documents\\Trabajo\\megaproyecto_model\\data/asl_preprocessing/speed_output.mp4.\n",
      "MoviePy - Writing audio in speed_outputTEMP_MPY_wvf_snd.mp3\n"
     ]
    },
    {
     "name": "stderr",
     "output_type": "stream",
     "text": [
      "                                                       \r"
     ]
    },
    {
     "name": "stdout",
     "output_type": "stream",
     "text": [
      "MoviePy - Done.\n",
      "Moviepy - Writing video D:\\Documents\\Trabajo\\megaproyecto_model\\data/asl_preprocessing/speed_output.mp4\n",
      "\n"
     ]
    },
    {
     "name": "stderr",
     "output_type": "stream",
     "text": [
      "                                                            \r"
     ]
    },
    {
     "name": "stdout",
     "output_type": "stream",
     "text": [
      "Moviepy - Done !\n",
      "Moviepy - video ready D:\\Documents\\Trabajo\\megaproyecto_model\\data/asl_preprocessing/speed_output.mp4\n",
      "--------------------\n",
      "FPS:  30  VIDEO DURATION:  0.9666666666666667\n",
      "--------------------\n",
      "Moviepy - Building video D:\\Documents\\Trabajo\\megaproyecto_model\\data/asl_preprocessing/speed_output.mp4.\n",
      "MoviePy - Writing audio in speed_outputTEMP_MPY_wvf_snd.mp3\n"
     ]
    },
    {
     "name": "stderr",
     "output_type": "stream",
     "text": [
      "                                                       \r"
     ]
    },
    {
     "name": "stdout",
     "output_type": "stream",
     "text": [
      "MoviePy - Done.\n",
      "Moviepy - Writing video D:\\Documents\\Trabajo\\megaproyecto_model\\data/asl_preprocessing/speed_output.mp4\n",
      "\n"
     ]
    },
    {
     "name": "stderr",
     "output_type": "stream",
     "text": [
      "                                                            \r"
     ]
    },
    {
     "name": "stdout",
     "output_type": "stream",
     "text": [
      "Moviepy - Done !\n",
      "Moviepy - video ready D:\\Documents\\Trabajo\\megaproyecto_model\\data/asl_preprocessing/speed_output.mp4\n",
      "--------------------\n",
      "FPS:  30  VIDEO DURATION:  0.9333333333333333\n",
      "--------------------\n",
      "Moviepy - Building video D:\\Documents\\Trabajo\\megaproyecto_model\\data/asl_preprocessing/speed_output.mp4.\n",
      "MoviePy - Writing audio in speed_outputTEMP_MPY_wvf_snd.mp3\n"
     ]
    },
    {
     "name": "stderr",
     "output_type": "stream",
     "text": [
      "                                                       \r"
     ]
    },
    {
     "name": "stdout",
     "output_type": "stream",
     "text": [
      "MoviePy - Done.\n",
      "Moviepy - Writing video D:\\Documents\\Trabajo\\megaproyecto_model\\data/asl_preprocessing/speed_output.mp4\n",
      "\n"
     ]
    },
    {
     "name": "stderr",
     "output_type": "stream",
     "text": [
      "                                                              \r"
     ]
    },
    {
     "name": "stdout",
     "output_type": "stream",
     "text": [
      "Moviepy - Done !\n",
      "Moviepy - video ready D:\\Documents\\Trabajo\\megaproyecto_model\\data/asl_preprocessing/speed_output.mp4\n",
      "--------------------\n",
      "FPS:  30  VIDEO DURATION:  1.0333333333333334\n",
      "--------------------\n",
      "Moviepy - Building video D:\\Documents\\Trabajo\\megaproyecto_model\\data/asl_preprocessing/speed_output.mp4.\n",
      "MoviePy - Writing audio in speed_outputTEMP_MPY_wvf_snd.mp3\n"
     ]
    },
    {
     "name": "stderr",
     "output_type": "stream",
     "text": [
      "                                                       \r"
     ]
    },
    {
     "name": "stdout",
     "output_type": "stream",
     "text": [
      "MoviePy - Done.\n",
      "Moviepy - Writing video D:\\Documents\\Trabajo\\megaproyecto_model\\data/asl_preprocessing/speed_output.mp4\n",
      "\n"
     ]
    },
    {
     "name": "stderr",
     "output_type": "stream",
     "text": [
      "                                                            \r"
     ]
    },
    {
     "name": "stdout",
     "output_type": "stream",
     "text": [
      "Moviepy - Done !\n",
      "Moviepy - video ready D:\\Documents\\Trabajo\\megaproyecto_model\\data/asl_preprocessing/speed_output.mp4\n",
      "--------------------\n",
      "FPS:  30  VIDEO DURATION:  1.1\n",
      "--------------------\n",
      "Moviepy - Building video D:\\Documents\\Trabajo\\megaproyecto_model\\data/asl_preprocessing/speed_output.mp4.\n",
      "MoviePy - Writing audio in speed_outputTEMP_MPY_wvf_snd.mp3\n"
     ]
    },
    {
     "name": "stderr",
     "output_type": "stream",
     "text": [
      "                                                       \r"
     ]
    },
    {
     "name": "stdout",
     "output_type": "stream",
     "text": [
      "MoviePy - Done.\n",
      "Moviepy - Writing video D:\\Documents\\Trabajo\\megaproyecto_model\\data/asl_preprocessing/speed_output.mp4\n",
      "\n"
     ]
    },
    {
     "name": "stderr",
     "output_type": "stream",
     "text": [
      "                                                              \r"
     ]
    },
    {
     "name": "stdout",
     "output_type": "stream",
     "text": [
      "Moviepy - Done !\n",
      "Moviepy - video ready D:\\Documents\\Trabajo\\megaproyecto_model\\data/asl_preprocessing/speed_output.mp4\n",
      "--------------------\n",
      "FPS:  30  VIDEO DURATION:  0.9333333333333333\n",
      "--------------------\n",
      "Moviepy - Building video D:\\Documents\\Trabajo\\megaproyecto_model\\data/asl_preprocessing/speed_output.mp4.\n",
      "MoviePy - Writing audio in speed_outputTEMP_MPY_wvf_snd.mp3\n"
     ]
    },
    {
     "name": "stderr",
     "output_type": "stream",
     "text": [
      "                                                       \r"
     ]
    },
    {
     "name": "stdout",
     "output_type": "stream",
     "text": [
      "MoviePy - Done.\n",
      "Moviepy - Writing video D:\\Documents\\Trabajo\\megaproyecto_model\\data/asl_preprocessing/speed_output.mp4\n",
      "\n"
     ]
    },
    {
     "name": "stderr",
     "output_type": "stream",
     "text": [
      "                                                            \r"
     ]
    },
    {
     "name": "stdout",
     "output_type": "stream",
     "text": [
      "Moviepy - Done !\n",
      "Moviepy - video ready D:\\Documents\\Trabajo\\megaproyecto_model\\data/asl_preprocessing/speed_output.mp4\n",
      "--------------------\n",
      "FPS:  30  VIDEO DURATION:  1.0333333333333334\n",
      "--------------------\n",
      "Moviepy - Building video D:\\Documents\\Trabajo\\megaproyecto_model\\data/asl_preprocessing/speed_output.mp4.\n",
      "MoviePy - Writing audio in speed_outputTEMP_MPY_wvf_snd.mp3\n"
     ]
    },
    {
     "name": "stderr",
     "output_type": "stream",
     "text": [
      "                                                       \r"
     ]
    },
    {
     "name": "stdout",
     "output_type": "stream",
     "text": [
      "MoviePy - Done.\n",
      "Moviepy - Writing video D:\\Documents\\Trabajo\\megaproyecto_model\\data/asl_preprocessing/speed_output.mp4\n",
      "\n"
     ]
    },
    {
     "name": "stderr",
     "output_type": "stream",
     "text": [
      "                                                              \r"
     ]
    },
    {
     "name": "stdout",
     "output_type": "stream",
     "text": [
      "Moviepy - Done !\n",
      "Moviepy - video ready D:\\Documents\\Trabajo\\megaproyecto_model\\data/asl_preprocessing/speed_output.mp4\n",
      "--------------------\n",
      "FPS:  30  VIDEO DURATION:  1.1333333333333333\n",
      "--------------------\n",
      "Moviepy - Building video D:\\Documents\\Trabajo\\megaproyecto_model\\data/asl_preprocessing/speed_output.mp4.\n",
      "MoviePy - Writing audio in speed_outputTEMP_MPY_wvf_snd.mp3\n"
     ]
    },
    {
     "name": "stderr",
     "output_type": "stream",
     "text": [
      "                                                       \r"
     ]
    },
    {
     "name": "stdout",
     "output_type": "stream",
     "text": [
      "MoviePy - Done.\n",
      "Moviepy - Writing video D:\\Documents\\Trabajo\\megaproyecto_model\\data/asl_preprocessing/speed_output.mp4\n",
      "\n"
     ]
    },
    {
     "name": "stderr",
     "output_type": "stream",
     "text": [
      "                                                              \r"
     ]
    },
    {
     "name": "stdout",
     "output_type": "stream",
     "text": [
      "Moviepy - Done !\n",
      "Moviepy - video ready D:\\Documents\\Trabajo\\megaproyecto_model\\data/asl_preprocessing/speed_output.mp4\n",
      "--------------------\n",
      "FPS:  30  VIDEO DURATION:  1.1666666666666667\n",
      "--------------------\n",
      "Moviepy - Building video D:\\Documents\\Trabajo\\megaproyecto_model\\data/asl_preprocessing/speed_output.mp4.\n",
      "MoviePy - Writing audio in speed_outputTEMP_MPY_wvf_snd.mp3\n"
     ]
    },
    {
     "name": "stderr",
     "output_type": "stream",
     "text": [
      "                                                       \r"
     ]
    },
    {
     "name": "stdout",
     "output_type": "stream",
     "text": [
      "MoviePy - Done.\n",
      "Moviepy - Writing video D:\\Documents\\Trabajo\\megaproyecto_model\\data/asl_preprocessing/speed_output.mp4\n",
      "\n"
     ]
    },
    {
     "name": "stderr",
     "output_type": "stream",
     "text": [
      "                                                              \r"
     ]
    },
    {
     "name": "stdout",
     "output_type": "stream",
     "text": [
      "Moviepy - Done !\n",
      "Moviepy - video ready D:\\Documents\\Trabajo\\megaproyecto_model\\data/asl_preprocessing/speed_output.mp4\n",
      "--------------------\n",
      "FPS:  30  VIDEO DURATION:  0.9\n",
      "--------------------\n",
      "Moviepy - Building video D:\\Documents\\Trabajo\\megaproyecto_model\\data/asl_preprocessing/speed_output.mp4.\n",
      "MoviePy - Writing audio in speed_outputTEMP_MPY_wvf_snd.mp3\n"
     ]
    },
    {
     "name": "stderr",
     "output_type": "stream",
     "text": [
      "                                                       \r"
     ]
    },
    {
     "name": "stdout",
     "output_type": "stream",
     "text": [
      "MoviePy - Done.\n",
      "Moviepy - Writing video D:\\Documents\\Trabajo\\megaproyecto_model\\data/asl_preprocessing/speed_output.mp4\n",
      "\n"
     ]
    },
    {
     "name": "stderr",
     "output_type": "stream",
     "text": [
      "                                                            \r"
     ]
    },
    {
     "name": "stdout",
     "output_type": "stream",
     "text": [
      "Moviepy - Done !\n",
      "Moviepy - video ready D:\\Documents\\Trabajo\\megaproyecto_model\\data/asl_preprocessing/speed_output.mp4\n",
      "--------------------\n",
      "FPS:  30  VIDEO DURATION:  0.9\n",
      "--------------------\n",
      "Moviepy - Building video D:\\Documents\\Trabajo\\megaproyecto_model\\data/asl_preprocessing/speed_output.mp4.\n",
      "MoviePy - Writing audio in speed_outputTEMP_MPY_wvf_snd.mp3\n"
     ]
    },
    {
     "name": "stderr",
     "output_type": "stream",
     "text": [
      "                                                       \r"
     ]
    },
    {
     "name": "stdout",
     "output_type": "stream",
     "text": [
      "MoviePy - Done.\n",
      "Moviepy - Writing video D:\\Documents\\Trabajo\\megaproyecto_model\\data/asl_preprocessing/speed_output.mp4\n",
      "\n"
     ]
    },
    {
     "name": "stderr",
     "output_type": "stream",
     "text": [
      "                                                            \r"
     ]
    },
    {
     "name": "stdout",
     "output_type": "stream",
     "text": [
      "Moviepy - Done !\n",
      "Moviepy - video ready D:\\Documents\\Trabajo\\megaproyecto_model\\data/asl_preprocessing/speed_output.mp4\n",
      "--------------------\n",
      "FPS:  30  VIDEO DURATION:  1.5\n",
      "--------------------\n",
      "Moviepy - Building video D:\\Documents\\Trabajo\\megaproyecto_model\\data/asl_preprocessing/speed_output.mp4.\n",
      "MoviePy - Writing audio in speed_outputTEMP_MPY_wvf_snd.mp3\n"
     ]
    },
    {
     "name": "stderr",
     "output_type": "stream",
     "text": [
      "                                                       \r"
     ]
    },
    {
     "name": "stdout",
     "output_type": "stream",
     "text": [
      "MoviePy - Done.\n",
      "Moviepy - Writing video D:\\Documents\\Trabajo\\megaproyecto_model\\data/asl_preprocessing/speed_output.mp4\n",
      "\n"
     ]
    },
    {
     "name": "stderr",
     "output_type": "stream",
     "text": [
      "                                                            \r"
     ]
    },
    {
     "name": "stdout",
     "output_type": "stream",
     "text": [
      "Moviepy - Done !\n",
      "Moviepy - video ready D:\\Documents\\Trabajo\\megaproyecto_model\\data/asl_preprocessing/speed_output.mp4\n",
      "--------------------\n",
      "FPS:  30  VIDEO DURATION:  1.0\n",
      "--------------------\n",
      "Moviepy - Building video D:\\Documents\\Trabajo\\megaproyecto_model\\data/asl_preprocessing/speed_output.mp4.\n",
      "MoviePy - Writing audio in speed_outputTEMP_MPY_wvf_snd.mp3\n"
     ]
    },
    {
     "name": "stderr",
     "output_type": "stream",
     "text": [
      "                                                       \r"
     ]
    },
    {
     "name": "stdout",
     "output_type": "stream",
     "text": [
      "MoviePy - Done.\n",
      "Moviepy - Writing video D:\\Documents\\Trabajo\\megaproyecto_model\\data/asl_preprocessing/speed_output.mp4\n",
      "\n"
     ]
    },
    {
     "name": "stderr",
     "output_type": "stream",
     "text": [
      "                                                              \r"
     ]
    },
    {
     "name": "stdout",
     "output_type": "stream",
     "text": [
      "Moviepy - Done !\n",
      "Moviepy - video ready D:\\Documents\\Trabajo\\megaproyecto_model\\data/asl_preprocessing/speed_output.mp4\n",
      "--------------------\n",
      "FPS:  30  VIDEO DURATION:  0.9333333333333333\n",
      "--------------------\n",
      "Moviepy - Building video D:\\Documents\\Trabajo\\megaproyecto_model\\data/asl_preprocessing/speed_output.mp4.\n",
      "MoviePy - Writing audio in speed_outputTEMP_MPY_wvf_snd.mp3\n"
     ]
    },
    {
     "name": "stderr",
     "output_type": "stream",
     "text": [
      "                                                       \r"
     ]
    },
    {
     "name": "stdout",
     "output_type": "stream",
     "text": [
      "MoviePy - Done.\n",
      "Moviepy - Writing video D:\\Documents\\Trabajo\\megaproyecto_model\\data/asl_preprocessing/speed_output.mp4\n",
      "\n"
     ]
    },
    {
     "name": "stderr",
     "output_type": "stream",
     "text": [
      "                                                              \r"
     ]
    },
    {
     "name": "stdout",
     "output_type": "stream",
     "text": [
      "Moviepy - Done !\n",
      "Moviepy - video ready D:\\Documents\\Trabajo\\megaproyecto_model\\data/asl_preprocessing/speed_output.mp4\n",
      "--------------------\n",
      "FPS:  30  VIDEO DURATION:  0.9\n",
      "--------------------\n",
      "Moviepy - Building video D:\\Documents\\Trabajo\\megaproyecto_model\\data/asl_preprocessing/speed_output.mp4.\n",
      "MoviePy - Writing audio in speed_outputTEMP_MPY_wvf_snd.mp3\n"
     ]
    },
    {
     "name": "stderr",
     "output_type": "stream",
     "text": [
      "                                                       \r"
     ]
    },
    {
     "name": "stdout",
     "output_type": "stream",
     "text": [
      "MoviePy - Done.\n",
      "Moviepy - Writing video D:\\Documents\\Trabajo\\megaproyecto_model\\data/asl_preprocessing/speed_output.mp4\n",
      "\n"
     ]
    },
    {
     "name": "stderr",
     "output_type": "stream",
     "text": [
      "                                                              \r"
     ]
    },
    {
     "name": "stdout",
     "output_type": "stream",
     "text": [
      "Moviepy - Done !\n",
      "Moviepy - video ready D:\\Documents\\Trabajo\\megaproyecto_model\\data/asl_preprocessing/speed_output.mp4\n",
      "--------------------\n",
      "FPS:  30  VIDEO DURATION:  1.0\n",
      "--------------------\n",
      "Moviepy - Building video D:\\Documents\\Trabajo\\megaproyecto_model\\data/asl_preprocessing/speed_output.mp4.\n",
      "MoviePy - Writing audio in speed_outputTEMP_MPY_wvf_snd.mp3\n"
     ]
    },
    {
     "name": "stderr",
     "output_type": "stream",
     "text": [
      "                                                       \r"
     ]
    },
    {
     "name": "stdout",
     "output_type": "stream",
     "text": [
      "MoviePy - Done.\n",
      "Moviepy - Writing video D:\\Documents\\Trabajo\\megaproyecto_model\\data/asl_preprocessing/speed_output.mp4\n",
      "\n"
     ]
    },
    {
     "name": "stderr",
     "output_type": "stream",
     "text": [
      "                                                              \r"
     ]
    },
    {
     "name": "stdout",
     "output_type": "stream",
     "text": [
      "Moviepy - Done !\n",
      "Moviepy - video ready D:\\Documents\\Trabajo\\megaproyecto_model\\data/asl_preprocessing/speed_output.mp4\n",
      "--------------------\n",
      "FPS:  30  VIDEO DURATION:  1.1666666666666667\n",
      "--------------------\n",
      "Moviepy - Building video D:\\Documents\\Trabajo\\megaproyecto_model\\data/asl_preprocessing/speed_output.mp4.\n",
      "MoviePy - Writing audio in speed_outputTEMP_MPY_wvf_snd.mp3\n"
     ]
    },
    {
     "name": "stderr",
     "output_type": "stream",
     "text": [
      "                                                       \r"
     ]
    },
    {
     "name": "stdout",
     "output_type": "stream",
     "text": [
      "MoviePy - Done.\n",
      "Moviepy - Writing video D:\\Documents\\Trabajo\\megaproyecto_model\\data/asl_preprocessing/speed_output.mp4\n",
      "\n"
     ]
    },
    {
     "name": "stderr",
     "output_type": "stream",
     "text": [
      "                                                             \r"
     ]
    },
    {
     "name": "stdout",
     "output_type": "stream",
     "text": [
      "Moviepy - Done !\n",
      "Moviepy - video ready D:\\Documents\\Trabajo\\megaproyecto_model\\data/asl_preprocessing/speed_output.mp4\n",
      "--------------------\n",
      "FPS:  30  VIDEO DURATION:  1.1333333333333333\n",
      "--------------------\n",
      "Moviepy - Building video D:\\Documents\\Trabajo\\megaproyecto_model\\data/asl_preprocessing/speed_output.mp4.\n",
      "MoviePy - Writing audio in speed_outputTEMP_MPY_wvf_snd.mp3\n"
     ]
    },
    {
     "name": "stderr",
     "output_type": "stream",
     "text": [
      "                                                       \r"
     ]
    },
    {
     "name": "stdout",
     "output_type": "stream",
     "text": [
      "MoviePy - Done.\n",
      "Moviepy - Writing video D:\\Documents\\Trabajo\\megaproyecto_model\\data/asl_preprocessing/speed_output.mp4\n",
      "\n"
     ]
    },
    {
     "name": "stderr",
     "output_type": "stream",
     "text": [
      "                                                            \r"
     ]
    },
    {
     "name": "stdout",
     "output_type": "stream",
     "text": [
      "Moviepy - Done !\n",
      "Moviepy - video ready D:\\Documents\\Trabajo\\megaproyecto_model\\data/asl_preprocessing/speed_output.mp4\n",
      "--------------------\n",
      "FPS:  30  VIDEO DURATION:  1.3333333333333333\n",
      "--------------------\n",
      "Moviepy - Building video D:\\Documents\\Trabajo\\megaproyecto_model\\data/asl_preprocessing/speed_output.mp4.\n",
      "MoviePy - Writing audio in speed_outputTEMP_MPY_wvf_snd.mp3\n"
     ]
    },
    {
     "name": "stderr",
     "output_type": "stream",
     "text": [
      "                                                       \r"
     ]
    },
    {
     "name": "stdout",
     "output_type": "stream",
     "text": [
      "MoviePy - Done.\n",
      "Moviepy - Writing video D:\\Documents\\Trabajo\\megaproyecto_model\\data/asl_preprocessing/speed_output.mp4\n",
      "\n"
     ]
    },
    {
     "name": "stderr",
     "output_type": "stream",
     "text": [
      "                                                            \r"
     ]
    },
    {
     "name": "stdout",
     "output_type": "stream",
     "text": [
      "Moviepy - Done !\n",
      "Moviepy - video ready D:\\Documents\\Trabajo\\megaproyecto_model\\data/asl_preprocessing/speed_output.mp4\n",
      "--------------------\n",
      "FPS:  30  VIDEO DURATION:  0.9\n",
      "--------------------\n",
      "Moviepy - Building video D:\\Documents\\Trabajo\\megaproyecto_model\\data/asl_preprocessing/speed_output.mp4.\n",
      "MoviePy - Writing audio in speed_outputTEMP_MPY_wvf_snd.mp3\n"
     ]
    },
    {
     "name": "stderr",
     "output_type": "stream",
     "text": [
      "                                                       \r"
     ]
    },
    {
     "name": "stdout",
     "output_type": "stream",
     "text": [
      "MoviePy - Done.\n",
      "Moviepy - Writing video D:\\Documents\\Trabajo\\megaproyecto_model\\data/asl_preprocessing/speed_output.mp4\n",
      "\n"
     ]
    },
    {
     "name": "stderr",
     "output_type": "stream",
     "text": [
      "                                                            \r"
     ]
    },
    {
     "name": "stdout",
     "output_type": "stream",
     "text": [
      "Moviepy - Done !\n",
      "Moviepy - video ready D:\\Documents\\Trabajo\\megaproyecto_model\\data/asl_preprocessing/speed_output.mp4\n",
      "--------------------\n",
      "FPS:  30  VIDEO DURATION:  0.9666666666666667\n",
      "--------------------\n",
      "Moviepy - Building video D:\\Documents\\Trabajo\\megaproyecto_model\\data/asl_preprocessing/speed_output.mp4.\n",
      "MoviePy - Writing audio in speed_outputTEMP_MPY_wvf_snd.mp3\n"
     ]
    },
    {
     "name": "stderr",
     "output_type": "stream",
     "text": [
      "                                                       \r"
     ]
    },
    {
     "name": "stdout",
     "output_type": "stream",
     "text": [
      "MoviePy - Done.\n",
      "Moviepy - Writing video D:\\Documents\\Trabajo\\megaproyecto_model\\data/asl_preprocessing/speed_output.mp4\n",
      "\n"
     ]
    },
    {
     "name": "stderr",
     "output_type": "stream",
     "text": [
      "                                                            \r"
     ]
    },
    {
     "name": "stdout",
     "output_type": "stream",
     "text": [
      "Moviepy - Done !\n",
      "Moviepy - video ready D:\\Documents\\Trabajo\\megaproyecto_model\\data/asl_preprocessing/speed_output.mp4\n",
      "--------------------\n",
      "FPS:  30  VIDEO DURATION:  0.9\n",
      "--------------------\n",
      "Moviepy - Building video D:\\Documents\\Trabajo\\megaproyecto_model\\data/asl_preprocessing/speed_output.mp4.\n",
      "MoviePy - Writing audio in speed_outputTEMP_MPY_wvf_snd.mp3\n"
     ]
    },
    {
     "name": "stderr",
     "output_type": "stream",
     "text": [
      "                                                       \r"
     ]
    },
    {
     "name": "stdout",
     "output_type": "stream",
     "text": [
      "MoviePy - Done.\n",
      "Moviepy - Writing video D:\\Documents\\Trabajo\\megaproyecto_model\\data/asl_preprocessing/speed_output.mp4\n",
      "\n"
     ]
    },
    {
     "name": "stderr",
     "output_type": "stream",
     "text": [
      "                                                            \r"
     ]
    },
    {
     "name": "stdout",
     "output_type": "stream",
     "text": [
      "Moviepy - Done !\n",
      "Moviepy - video ready D:\\Documents\\Trabajo\\megaproyecto_model\\data/asl_preprocessing/speed_output.mp4\n",
      "--------------------\n",
      "FPS:  30  VIDEO DURATION:  1.2\n",
      "--------------------\n",
      "Moviepy - Building video D:\\Documents\\Trabajo\\megaproyecto_model\\data/asl_preprocessing/speed_output.mp4.\n",
      "MoviePy - Writing audio in speed_outputTEMP_MPY_wvf_snd.mp3\n"
     ]
    },
    {
     "name": "stderr",
     "output_type": "stream",
     "text": [
      "                                                       \r"
     ]
    },
    {
     "name": "stdout",
     "output_type": "stream",
     "text": [
      "MoviePy - Done.\n",
      "Moviepy - Writing video D:\\Documents\\Trabajo\\megaproyecto_model\\data/asl_preprocessing/speed_output.mp4\n",
      "\n"
     ]
    },
    {
     "name": "stderr",
     "output_type": "stream",
     "text": [
      "                                                            \r"
     ]
    },
    {
     "name": "stdout",
     "output_type": "stream",
     "text": [
      "Moviepy - Done !\n",
      "Moviepy - video ready D:\\Documents\\Trabajo\\megaproyecto_model\\data/asl_preprocessing/speed_output.mp4\n",
      "--------------------\n",
      "FPS:  30  VIDEO DURATION:  1.0\n",
      "--------------------\n",
      "Moviepy - Building video D:\\Documents\\Trabajo\\megaproyecto_model\\data/asl_preprocessing/speed_output.mp4.\n",
      "MoviePy - Writing audio in speed_outputTEMP_MPY_wvf_snd.mp3\n"
     ]
    },
    {
     "name": "stderr",
     "output_type": "stream",
     "text": [
      "                                                       \r"
     ]
    },
    {
     "name": "stdout",
     "output_type": "stream",
     "text": [
      "MoviePy - Done.\n",
      "Moviepy - Writing video D:\\Documents\\Trabajo\\megaproyecto_model\\data/asl_preprocessing/speed_output.mp4\n",
      "\n"
     ]
    },
    {
     "name": "stderr",
     "output_type": "stream",
     "text": [
      "                                                            \r"
     ]
    },
    {
     "name": "stdout",
     "output_type": "stream",
     "text": [
      "Moviepy - Done !\n",
      "Moviepy - video ready D:\\Documents\\Trabajo\\megaproyecto_model\\data/asl_preprocessing/speed_output.mp4\n",
      "--------------------\n",
      "FPS:  30  VIDEO DURATION:  1.0666666666666667\n",
      "--------------------\n",
      "Moviepy - Building video D:\\Documents\\Trabajo\\megaproyecto_model\\data/asl_preprocessing/speed_output.mp4.\n",
      "MoviePy - Writing audio in speed_outputTEMP_MPY_wvf_snd.mp3\n"
     ]
    },
    {
     "name": "stderr",
     "output_type": "stream",
     "text": [
      "                                                       \r"
     ]
    },
    {
     "name": "stdout",
     "output_type": "stream",
     "text": [
      "MoviePy - Done.\n",
      "Moviepy - Writing video D:\\Documents\\Trabajo\\megaproyecto_model\\data/asl_preprocessing/speed_output.mp4\n",
      "\n"
     ]
    },
    {
     "name": "stderr",
     "output_type": "stream",
     "text": [
      "                                                            \r"
     ]
    },
    {
     "name": "stdout",
     "output_type": "stream",
     "text": [
      "Moviepy - Done !\n",
      "Moviepy - video ready D:\\Documents\\Trabajo\\megaproyecto_model\\data/asl_preprocessing/speed_output.mp4\n",
      "--------------------\n",
      "FPS:  30  VIDEO DURATION:  1.0\n",
      "--------------------\n",
      "Moviepy - Building video D:\\Documents\\Trabajo\\megaproyecto_model\\data/asl_preprocessing/speed_output.mp4.\n",
      "MoviePy - Writing audio in speed_outputTEMP_MPY_wvf_snd.mp3\n"
     ]
    },
    {
     "name": "stderr",
     "output_type": "stream",
     "text": [
      "                                                       \r"
     ]
    },
    {
     "name": "stdout",
     "output_type": "stream",
     "text": [
      "MoviePy - Done.\n",
      "Moviepy - Writing video D:\\Documents\\Trabajo\\megaproyecto_model\\data/asl_preprocessing/speed_output.mp4\n",
      "\n"
     ]
    },
    {
     "name": "stderr",
     "output_type": "stream",
     "text": [
      "                                                              \r"
     ]
    },
    {
     "name": "stdout",
     "output_type": "stream",
     "text": [
      "Moviepy - Done !\n",
      "Moviepy - video ready D:\\Documents\\Trabajo\\megaproyecto_model\\data/asl_preprocessing/speed_output.mp4\n",
      "--------------------\n",
      "FPS:  30  VIDEO DURATION:  0.9333333333333333\n",
      "--------------------\n",
      "Moviepy - Building video D:\\Documents\\Trabajo\\megaproyecto_model\\data/asl_preprocessing/speed_output.mp4.\n",
      "MoviePy - Writing audio in speed_outputTEMP_MPY_wvf_snd.mp3\n"
     ]
    },
    {
     "name": "stderr",
     "output_type": "stream",
     "text": [
      "                                                       \r"
     ]
    },
    {
     "name": "stdout",
     "output_type": "stream",
     "text": [
      "MoviePy - Done.\n",
      "Moviepy - Writing video D:\\Documents\\Trabajo\\megaproyecto_model\\data/asl_preprocessing/speed_output.mp4\n",
      "\n"
     ]
    },
    {
     "name": "stderr",
     "output_type": "stream",
     "text": [
      "                                                            \r"
     ]
    },
    {
     "name": "stdout",
     "output_type": "stream",
     "text": [
      "Moviepy - Done !\n",
      "Moviepy - video ready D:\\Documents\\Trabajo\\megaproyecto_model\\data/asl_preprocessing/speed_output.mp4\n",
      "--------------------\n",
      "FPS:  30  VIDEO DURATION:  1.0\n",
      "--------------------\n",
      "Moviepy - Building video D:\\Documents\\Trabajo\\megaproyecto_model\\data/asl_preprocessing/speed_output.mp4.\n",
      "MoviePy - Writing audio in speed_outputTEMP_MPY_wvf_snd.mp3\n"
     ]
    },
    {
     "name": "stderr",
     "output_type": "stream",
     "text": [
      "                                                       \r"
     ]
    },
    {
     "name": "stdout",
     "output_type": "stream",
     "text": [
      "MoviePy - Done.\n",
      "Moviepy - Writing video D:\\Documents\\Trabajo\\megaproyecto_model\\data/asl_preprocessing/speed_output.mp4\n",
      "\n"
     ]
    },
    {
     "name": "stderr",
     "output_type": "stream",
     "text": [
      "                                                            \r"
     ]
    },
    {
     "name": "stdout",
     "output_type": "stream",
     "text": [
      "Moviepy - Done !\n",
      "Moviepy - video ready D:\\Documents\\Trabajo\\megaproyecto_model\\data/asl_preprocessing/speed_output.mp4\n",
      "--------------------\n",
      "FPS:  30  VIDEO DURATION:  1.0\n",
      "--------------------\n",
      "Moviepy - Building video D:\\Documents\\Trabajo\\megaproyecto_model\\data/asl_preprocessing/speed_output.mp4.\n",
      "MoviePy - Writing audio in speed_outputTEMP_MPY_wvf_snd.mp3\n"
     ]
    },
    {
     "name": "stderr",
     "output_type": "stream",
     "text": [
      "                                                       \r"
     ]
    },
    {
     "name": "stdout",
     "output_type": "stream",
     "text": [
      "MoviePy - Done.\n",
      "Moviepy - Writing video D:\\Documents\\Trabajo\\megaproyecto_model\\data/asl_preprocessing/speed_output.mp4\n",
      "\n"
     ]
    },
    {
     "name": "stderr",
     "output_type": "stream",
     "text": [
      "                                                            \r"
     ]
    },
    {
     "name": "stdout",
     "output_type": "stream",
     "text": [
      "Moviepy - Done !\n",
      "Moviepy - video ready D:\\Documents\\Trabajo\\megaproyecto_model\\data/asl_preprocessing/speed_output.mp4\n",
      "--------------------\n",
      "FPS:  30  VIDEO DURATION:  0.9333333333333333\n",
      "--------------------\n",
      "Moviepy - Building video D:\\Documents\\Trabajo\\megaproyecto_model\\data/asl_preprocessing/speed_output.mp4.\n",
      "MoviePy - Writing audio in speed_outputTEMP_MPY_wvf_snd.mp3\n"
     ]
    },
    {
     "name": "stderr",
     "output_type": "stream",
     "text": [
      "                                                       \r"
     ]
    },
    {
     "name": "stdout",
     "output_type": "stream",
     "text": [
      "MoviePy - Done.\n",
      "Moviepy - Writing video D:\\Documents\\Trabajo\\megaproyecto_model\\data/asl_preprocessing/speed_output.mp4\n",
      "\n"
     ]
    },
    {
     "name": "stderr",
     "output_type": "stream",
     "text": [
      "                                                            \r"
     ]
    },
    {
     "name": "stdout",
     "output_type": "stream",
     "text": [
      "Moviepy - Done !\n",
      "Moviepy - video ready D:\\Documents\\Trabajo\\megaproyecto_model\\data/asl_preprocessing/speed_output.mp4\n",
      "--------------------\n",
      "FPS:  30  VIDEO DURATION:  1.0\n",
      "--------------------\n",
      "Moviepy - Building video D:\\Documents\\Trabajo\\megaproyecto_model\\data/asl_preprocessing/speed_output.mp4.\n",
      "MoviePy - Writing audio in speed_outputTEMP_MPY_wvf_snd.mp3\n"
     ]
    },
    {
     "name": "stderr",
     "output_type": "stream",
     "text": [
      "                                                       \r"
     ]
    },
    {
     "name": "stdout",
     "output_type": "stream",
     "text": [
      "MoviePy - Done.\n",
      "Moviepy - Writing video D:\\Documents\\Trabajo\\megaproyecto_model\\data/asl_preprocessing/speed_output.mp4\n",
      "\n"
     ]
    },
    {
     "name": "stderr",
     "output_type": "stream",
     "text": [
      "                                                              \r"
     ]
    },
    {
     "name": "stdout",
     "output_type": "stream",
     "text": [
      "Moviepy - Done !\n",
      "Moviepy - video ready D:\\Documents\\Trabajo\\megaproyecto_model\\data/asl_preprocessing/speed_output.mp4\n",
      "--------------------\n",
      "FPS:  30  VIDEO DURATION:  0.9\n",
      "--------------------\n",
      "Moviepy - Building video D:\\Documents\\Trabajo\\megaproyecto_model\\data/asl_preprocessing/speed_output.mp4.\n",
      "MoviePy - Writing audio in speed_outputTEMP_MPY_wvf_snd.mp3\n"
     ]
    },
    {
     "name": "stderr",
     "output_type": "stream",
     "text": [
      "                                                       \r"
     ]
    },
    {
     "name": "stdout",
     "output_type": "stream",
     "text": [
      "MoviePy - Done.\n",
      "Moviepy - Writing video D:\\Documents\\Trabajo\\megaproyecto_model\\data/asl_preprocessing/speed_output.mp4\n",
      "\n"
     ]
    },
    {
     "name": "stderr",
     "output_type": "stream",
     "text": [
      "                                                            \r"
     ]
    },
    {
     "name": "stdout",
     "output_type": "stream",
     "text": [
      "Moviepy - Done !\n",
      "Moviepy - video ready D:\\Documents\\Trabajo\\megaproyecto_model\\data/asl_preprocessing/speed_output.mp4\n",
      "--------------------\n",
      "FPS:  30  VIDEO DURATION:  0.9\n",
      "--------------------\n",
      "Moviepy - Building video D:\\Documents\\Trabajo\\megaproyecto_model\\data/asl_preprocessing/speed_output.mp4.\n",
      "MoviePy - Writing audio in speed_outputTEMP_MPY_wvf_snd.mp3\n"
     ]
    },
    {
     "name": "stderr",
     "output_type": "stream",
     "text": [
      "                                                       \r"
     ]
    },
    {
     "name": "stdout",
     "output_type": "stream",
     "text": [
      "MoviePy - Done.\n",
      "Moviepy - Writing video D:\\Documents\\Trabajo\\megaproyecto_model\\data/asl_preprocessing/speed_output.mp4\n",
      "\n"
     ]
    },
    {
     "name": "stderr",
     "output_type": "stream",
     "text": [
      "                                                            \r"
     ]
    },
    {
     "name": "stdout",
     "output_type": "stream",
     "text": [
      "Moviepy - Done !\n",
      "Moviepy - video ready D:\\Documents\\Trabajo\\megaproyecto_model\\data/asl_preprocessing/speed_output.mp4\n",
      "--------------------\n",
      "FPS:  30  VIDEO DURATION:  0.9\n",
      "--------------------\n",
      "Moviepy - Building video D:\\Documents\\Trabajo\\megaproyecto_model\\data/asl_preprocessing/speed_output.mp4.\n",
      "MoviePy - Writing audio in speed_outputTEMP_MPY_wvf_snd.mp3\n"
     ]
    },
    {
     "name": "stderr",
     "output_type": "stream",
     "text": [
      "                                                       \r"
     ]
    },
    {
     "name": "stdout",
     "output_type": "stream",
     "text": [
      "MoviePy - Done.\n",
      "Moviepy - Writing video D:\\Documents\\Trabajo\\megaproyecto_model\\data/asl_preprocessing/speed_output.mp4\n",
      "\n"
     ]
    },
    {
     "name": "stderr",
     "output_type": "stream",
     "text": [
      "                                                            \r"
     ]
    },
    {
     "name": "stdout",
     "output_type": "stream",
     "text": [
      "Moviepy - Done !\n",
      "Moviepy - video ready D:\\Documents\\Trabajo\\megaproyecto_model\\data/asl_preprocessing/speed_output.mp4\n",
      "--------------------\n",
      "FPS:  30  VIDEO DURATION:  1.0\n",
      "--------------------\n",
      "Moviepy - Building video D:\\Documents\\Trabajo\\megaproyecto_model\\data/asl_preprocessing/speed_output.mp4.\n",
      "MoviePy - Writing audio in speed_outputTEMP_MPY_wvf_snd.mp3\n"
     ]
    },
    {
     "name": "stderr",
     "output_type": "stream",
     "text": [
      "                                                       \r"
     ]
    },
    {
     "name": "stdout",
     "output_type": "stream",
     "text": [
      "MoviePy - Done.\n",
      "Moviepy - Writing video D:\\Documents\\Trabajo\\megaproyecto_model\\data/asl_preprocessing/speed_output.mp4\n",
      "\n"
     ]
    },
    {
     "name": "stderr",
     "output_type": "stream",
     "text": [
      "                                                            \r"
     ]
    },
    {
     "name": "stdout",
     "output_type": "stream",
     "text": [
      "Moviepy - Done !\n",
      "Moviepy - video ready D:\\Documents\\Trabajo\\megaproyecto_model\\data/asl_preprocessing/speed_output.mp4\n",
      "--------------------\n",
      "FPS:  30  VIDEO DURATION:  1.0666666666666667\n",
      "--------------------\n",
      "Moviepy - Building video D:\\Documents\\Trabajo\\megaproyecto_model\\data/asl_preprocessing/speed_output.mp4.\n",
      "MoviePy - Writing audio in speed_outputTEMP_MPY_wvf_snd.mp3\n"
     ]
    },
    {
     "name": "stderr",
     "output_type": "stream",
     "text": [
      "                                                       \r"
     ]
    },
    {
     "name": "stdout",
     "output_type": "stream",
     "text": [
      "MoviePy - Done.\n",
      "Moviepy - Writing video D:\\Documents\\Trabajo\\megaproyecto_model\\data/asl_preprocessing/speed_output.mp4\n",
      "\n"
     ]
    },
    {
     "name": "stderr",
     "output_type": "stream",
     "text": [
      "                                                            \r"
     ]
    },
    {
     "name": "stdout",
     "output_type": "stream",
     "text": [
      "Moviepy - Done !\n",
      "Moviepy - video ready D:\\Documents\\Trabajo\\megaproyecto_model\\data/asl_preprocessing/speed_output.mp4\n",
      "--------------------\n",
      "FPS:  30  VIDEO DURATION:  0.8333333333333334\n",
      "--------------------\n",
      "Moviepy - Building video D:\\Documents\\Trabajo\\megaproyecto_model\\data/asl_preprocessing/speed_output.mp4.\n",
      "MoviePy - Writing audio in speed_outputTEMP_MPY_wvf_snd.mp3\n"
     ]
    },
    {
     "name": "stderr",
     "output_type": "stream",
     "text": [
      "                                                       \r"
     ]
    },
    {
     "name": "stdout",
     "output_type": "stream",
     "text": [
      "MoviePy - Done.\n",
      "Moviepy - Writing video D:\\Documents\\Trabajo\\megaproyecto_model\\data/asl_preprocessing/speed_output.mp4\n",
      "\n"
     ]
    },
    {
     "name": "stderr",
     "output_type": "stream",
     "text": [
      "                                                              \r"
     ]
    },
    {
     "name": "stdout",
     "output_type": "stream",
     "text": [
      "Moviepy - Done !\n",
      "Moviepy - video ready D:\\Documents\\Trabajo\\megaproyecto_model\\data/asl_preprocessing/speed_output.mp4\n",
      "--------------------\n",
      "FPS:  30  VIDEO DURATION:  1.0333333333333334\n",
      "--------------------\n",
      "Moviepy - Building video D:\\Documents\\Trabajo\\megaproyecto_model\\data/asl_preprocessing/speed_output.mp4.\n",
      "MoviePy - Writing audio in speed_outputTEMP_MPY_wvf_snd.mp3\n"
     ]
    },
    {
     "name": "stderr",
     "output_type": "stream",
     "text": [
      "                                                       \r"
     ]
    },
    {
     "name": "stdout",
     "output_type": "stream",
     "text": [
      "MoviePy - Done.\n",
      "Moviepy - Writing video D:\\Documents\\Trabajo\\megaproyecto_model\\data/asl_preprocessing/speed_output.mp4\n",
      "\n"
     ]
    },
    {
     "name": "stderr",
     "output_type": "stream",
     "text": [
      "                                                              \r"
     ]
    },
    {
     "name": "stdout",
     "output_type": "stream",
     "text": [
      "Moviepy - Done !\n",
      "Moviepy - video ready D:\\Documents\\Trabajo\\megaproyecto_model\\data/asl_preprocessing/speed_output.mp4\n",
      "--------------------\n",
      "FPS:  30  VIDEO DURATION:  1.0\n",
      "--------------------\n",
      "Moviepy - Building video D:\\Documents\\Trabajo\\megaproyecto_model\\data/asl_preprocessing/speed_output.mp4.\n",
      "MoviePy - Writing audio in speed_outputTEMP_MPY_wvf_snd.mp3\n"
     ]
    },
    {
     "name": "stderr",
     "output_type": "stream",
     "text": [
      "                                                       \r"
     ]
    },
    {
     "name": "stdout",
     "output_type": "stream",
     "text": [
      "MoviePy - Done.\n",
      "Moviepy - Writing video D:\\Documents\\Trabajo\\megaproyecto_model\\data/asl_preprocessing/speed_output.mp4\n",
      "\n"
     ]
    },
    {
     "name": "stderr",
     "output_type": "stream",
     "text": [
      "                                                              \r"
     ]
    },
    {
     "name": "stdout",
     "output_type": "stream",
     "text": [
      "Moviepy - Done !\n",
      "Moviepy - video ready D:\\Documents\\Trabajo\\megaproyecto_model\\data/asl_preprocessing/speed_output.mp4\n",
      "--------------------\n",
      "FPS:  30  VIDEO DURATION:  1.0\n",
      "--------------------\n",
      "Moviepy - Building video D:\\Documents\\Trabajo\\megaproyecto_model\\data/asl_preprocessing/speed_output.mp4.\n",
      "MoviePy - Writing audio in speed_outputTEMP_MPY_wvf_snd.mp3\n"
     ]
    },
    {
     "name": "stderr",
     "output_type": "stream",
     "text": [
      "                                                       \r"
     ]
    },
    {
     "name": "stdout",
     "output_type": "stream",
     "text": [
      "MoviePy - Done.\n",
      "Moviepy - Writing video D:\\Documents\\Trabajo\\megaproyecto_model\\data/asl_preprocessing/speed_output.mp4\n",
      "\n"
     ]
    },
    {
     "name": "stderr",
     "output_type": "stream",
     "text": [
      "                                                              \r"
     ]
    },
    {
     "name": "stdout",
     "output_type": "stream",
     "text": [
      "Moviepy - Done !\n",
      "Moviepy - video ready D:\\Documents\\Trabajo\\megaproyecto_model\\data/asl_preprocessing/speed_output.mp4\n",
      "--------------------\n",
      "FPS:  30  VIDEO DURATION:  1.0333333333333334\n",
      "--------------------\n",
      "Moviepy - Building video D:\\Documents\\Trabajo\\megaproyecto_model\\data/asl_preprocessing/speed_output.mp4.\n",
      "MoviePy - Writing audio in speed_outputTEMP_MPY_wvf_snd.mp3\n"
     ]
    },
    {
     "name": "stderr",
     "output_type": "stream",
     "text": [
      "                                                       \r"
     ]
    },
    {
     "name": "stdout",
     "output_type": "stream",
     "text": [
      "MoviePy - Done.\n",
      "Moviepy - Writing video D:\\Documents\\Trabajo\\megaproyecto_model\\data/asl_preprocessing/speed_output.mp4\n",
      "\n"
     ]
    },
    {
     "name": "stderr",
     "output_type": "stream",
     "text": [
      "                                                              \r"
     ]
    },
    {
     "name": "stdout",
     "output_type": "stream",
     "text": [
      "Moviepy - Done !\n",
      "Moviepy - video ready D:\\Documents\\Trabajo\\megaproyecto_model\\data/asl_preprocessing/speed_output.mp4\n",
      "--------------------\n",
      "FPS:  30  VIDEO DURATION:  0.9666666666666667\n",
      "--------------------\n",
      "Moviepy - Building video D:\\Documents\\Trabajo\\megaproyecto_model\\data/asl_preprocessing/speed_output.mp4.\n",
      "MoviePy - Writing audio in speed_outputTEMP_MPY_wvf_snd.mp3\n"
     ]
    },
    {
     "name": "stderr",
     "output_type": "stream",
     "text": [
      "                                                       \r"
     ]
    },
    {
     "name": "stdout",
     "output_type": "stream",
     "text": [
      "MoviePy - Done.\n",
      "Moviepy - Writing video D:\\Documents\\Trabajo\\megaproyecto_model\\data/asl_preprocessing/speed_output.mp4\n",
      "\n"
     ]
    },
    {
     "name": "stderr",
     "output_type": "stream",
     "text": [
      "                                                            \r"
     ]
    },
    {
     "name": "stdout",
     "output_type": "stream",
     "text": [
      "Moviepy - Done !\n",
      "Moviepy - video ready D:\\Documents\\Trabajo\\megaproyecto_model\\data/asl_preprocessing/speed_output.mp4\n",
      "--------------------\n",
      "FPS:  30  VIDEO DURATION:  0.9333333333333333\n",
      "--------------------\n",
      "Moviepy - Building video D:\\Documents\\Trabajo\\megaproyecto_model\\data/asl_preprocessing/speed_output.mp4.\n",
      "MoviePy - Writing audio in speed_outputTEMP_MPY_wvf_snd.mp3\n"
     ]
    },
    {
     "name": "stderr",
     "output_type": "stream",
     "text": [
      "                                                       \r"
     ]
    },
    {
     "name": "stdout",
     "output_type": "stream",
     "text": [
      "MoviePy - Done.\n",
      "Moviepy - Writing video D:\\Documents\\Trabajo\\megaproyecto_model\\data/asl_preprocessing/speed_output.mp4\n",
      "\n"
     ]
    },
    {
     "name": "stderr",
     "output_type": "stream",
     "text": [
      "                                                            \r"
     ]
    },
    {
     "name": "stdout",
     "output_type": "stream",
     "text": [
      "Moviepy - Done !\n",
      "Moviepy - video ready D:\\Documents\\Trabajo\\megaproyecto_model\\data/asl_preprocessing/speed_output.mp4\n",
      "--------------------\n",
      "FPS:  30  VIDEO DURATION:  1.2666666666666666\n",
      "--------------------\n",
      "Moviepy - Building video D:\\Documents\\Trabajo\\megaproyecto_model\\data/asl_preprocessing/speed_output.mp4.\n",
      "MoviePy - Writing audio in speed_outputTEMP_MPY_wvf_snd.mp3\n"
     ]
    },
    {
     "name": "stderr",
     "output_type": "stream",
     "text": [
      "                                                       \r"
     ]
    },
    {
     "name": "stdout",
     "output_type": "stream",
     "text": [
      "MoviePy - Done.\n",
      "Moviepy - Writing video D:\\Documents\\Trabajo\\megaproyecto_model\\data/asl_preprocessing/speed_output.mp4\n",
      "\n"
     ]
    },
    {
     "name": "stderr",
     "output_type": "stream",
     "text": [
      "                                                            \r"
     ]
    },
    {
     "name": "stdout",
     "output_type": "stream",
     "text": [
      "Moviepy - Done !\n",
      "Moviepy - video ready D:\\Documents\\Trabajo\\megaproyecto_model\\data/asl_preprocessing/speed_output.mp4\n",
      "--------------------\n",
      "FPS:  30  VIDEO DURATION:  1.3666666666666667\n",
      "--------------------\n",
      "Moviepy - Building video D:\\Documents\\Trabajo\\megaproyecto_model\\data/asl_preprocessing/speed_output.mp4.\n",
      "MoviePy - Writing audio in speed_outputTEMP_MPY_wvf_snd.mp3\n"
     ]
    },
    {
     "name": "stderr",
     "output_type": "stream",
     "text": [
      "                                                       \r"
     ]
    },
    {
     "name": "stdout",
     "output_type": "stream",
     "text": [
      "MoviePy - Done.\n",
      "Moviepy - Writing video D:\\Documents\\Trabajo\\megaproyecto_model\\data/asl_preprocessing/speed_output.mp4\n",
      "\n"
     ]
    },
    {
     "name": "stderr",
     "output_type": "stream",
     "text": [
      "                                                              \r"
     ]
    },
    {
     "name": "stdout",
     "output_type": "stream",
     "text": [
      "Moviepy - Done !\n",
      "Moviepy - video ready D:\\Documents\\Trabajo\\megaproyecto_model\\data/asl_preprocessing/speed_output.mp4\n",
      "--------------------\n",
      "FPS:  30  VIDEO DURATION:  1.0333333333333334\n",
      "--------------------\n",
      "Moviepy - Building video D:\\Documents\\Trabajo\\megaproyecto_model\\data/asl_preprocessing/speed_output.mp4.\n",
      "MoviePy - Writing audio in speed_outputTEMP_MPY_wvf_snd.mp3\n"
     ]
    },
    {
     "name": "stderr",
     "output_type": "stream",
     "text": [
      "                                                       \r"
     ]
    },
    {
     "name": "stdout",
     "output_type": "stream",
     "text": [
      "MoviePy - Done.\n",
      "Moviepy - Writing video D:\\Documents\\Trabajo\\megaproyecto_model\\data/asl_preprocessing/speed_output.mp4\n",
      "\n"
     ]
    },
    {
     "name": "stderr",
     "output_type": "stream",
     "text": [
      "                                                              \r"
     ]
    },
    {
     "name": "stdout",
     "output_type": "stream",
     "text": [
      "Moviepy - Done !\n",
      "Moviepy - video ready D:\\Documents\\Trabajo\\megaproyecto_model\\data/asl_preprocessing/speed_output.mp4\n",
      "--------------------\n",
      "FPS:  30  VIDEO DURATION:  1.1\n",
      "--------------------\n",
      "Moviepy - Building video D:\\Documents\\Trabajo\\megaproyecto_model\\data/asl_preprocessing/speed_output.mp4.\n",
      "MoviePy - Writing audio in speed_outputTEMP_MPY_wvf_snd.mp3\n"
     ]
    },
    {
     "name": "stderr",
     "output_type": "stream",
     "text": [
      "                                                       \r"
     ]
    },
    {
     "name": "stdout",
     "output_type": "stream",
     "text": [
      "MoviePy - Done.\n",
      "Moviepy - Writing video D:\\Documents\\Trabajo\\megaproyecto_model\\data/asl_preprocessing/speed_output.mp4\n",
      "\n"
     ]
    },
    {
     "name": "stderr",
     "output_type": "stream",
     "text": [
      "                                                              \r"
     ]
    },
    {
     "name": "stdout",
     "output_type": "stream",
     "text": [
      "Moviepy - Done !\n",
      "Moviepy - video ready D:\\Documents\\Trabajo\\megaproyecto_model\\data/asl_preprocessing/speed_output.mp4\n",
      "--------------------\n",
      "FPS:  30  VIDEO DURATION:  1.0333333333333334\n",
      "--------------------\n",
      "Moviepy - Building video D:\\Documents\\Trabajo\\megaproyecto_model\\data/asl_preprocessing/speed_output.mp4.\n",
      "MoviePy - Writing audio in speed_outputTEMP_MPY_wvf_snd.mp3\n"
     ]
    },
    {
     "name": "stderr",
     "output_type": "stream",
     "text": [
      "                                                       \r"
     ]
    },
    {
     "name": "stdout",
     "output_type": "stream",
     "text": [
      "MoviePy - Done.\n",
      "Moviepy - Writing video D:\\Documents\\Trabajo\\megaproyecto_model\\data/asl_preprocessing/speed_output.mp4\n",
      "\n"
     ]
    },
    {
     "name": "stderr",
     "output_type": "stream",
     "text": [
      "                                                              \r"
     ]
    },
    {
     "name": "stdout",
     "output_type": "stream",
     "text": [
      "Moviepy - Done !\n",
      "Moviepy - video ready D:\\Documents\\Trabajo\\megaproyecto_model\\data/asl_preprocessing/speed_output.mp4\n",
      "--------------------\n",
      "FPS:  30  VIDEO DURATION:  1.0666666666666667\n",
      "--------------------\n",
      "Moviepy - Building video D:\\Documents\\Trabajo\\megaproyecto_model\\data/asl_preprocessing/speed_output.mp4.\n",
      "MoviePy - Writing audio in speed_outputTEMP_MPY_wvf_snd.mp3\n"
     ]
    },
    {
     "name": "stderr",
     "output_type": "stream",
     "text": [
      "                                                       \r"
     ]
    },
    {
     "name": "stdout",
     "output_type": "stream",
     "text": [
      "MoviePy - Done.\n",
      "Moviepy - Writing video D:\\Documents\\Trabajo\\megaproyecto_model\\data/asl_preprocessing/speed_output.mp4\n",
      "\n"
     ]
    },
    {
     "name": "stderr",
     "output_type": "stream",
     "text": [
      "                                                              \r"
     ]
    },
    {
     "name": "stdout",
     "output_type": "stream",
     "text": [
      "Moviepy - Done !\n",
      "Moviepy - video ready D:\\Documents\\Trabajo\\megaproyecto_model\\data/asl_preprocessing/speed_output.mp4\n",
      "--------------------\n",
      "FPS:  30  VIDEO DURATION:  0.9666666666666667\n",
      "--------------------\n",
      "Moviepy - Building video D:\\Documents\\Trabajo\\megaproyecto_model\\data/asl_preprocessing/speed_output.mp4.\n",
      "MoviePy - Writing audio in speed_outputTEMP_MPY_wvf_snd.mp3\n"
     ]
    },
    {
     "name": "stderr",
     "output_type": "stream",
     "text": [
      "                                                       \r"
     ]
    },
    {
     "name": "stdout",
     "output_type": "stream",
     "text": [
      "MoviePy - Done.\n",
      "Moviepy - Writing video D:\\Documents\\Trabajo\\megaproyecto_model\\data/asl_preprocessing/speed_output.mp4\n",
      "\n"
     ]
    },
    {
     "name": "stderr",
     "output_type": "stream",
     "text": [
      "                                                            \r"
     ]
    },
    {
     "name": "stdout",
     "output_type": "stream",
     "text": [
      "Moviepy - Done !\n",
      "Moviepy - video ready D:\\Documents\\Trabajo\\megaproyecto_model\\data/asl_preprocessing/speed_output.mp4\n",
      "--------------------\n",
      "FPS:  30  VIDEO DURATION:  1.3666666666666667\n",
      "--------------------\n",
      "Moviepy - Building video D:\\Documents\\Trabajo\\megaproyecto_model\\data/asl_preprocessing/speed_output.mp4.\n",
      "MoviePy - Writing audio in speed_outputTEMP_MPY_wvf_snd.mp3\n"
     ]
    },
    {
     "name": "stderr",
     "output_type": "stream",
     "text": [
      "                                                       \r"
     ]
    },
    {
     "name": "stdout",
     "output_type": "stream",
     "text": [
      "MoviePy - Done.\n",
      "Moviepy - Writing video D:\\Documents\\Trabajo\\megaproyecto_model\\data/asl_preprocessing/speed_output.mp4\n",
      "\n"
     ]
    },
    {
     "name": "stderr",
     "output_type": "stream",
     "text": [
      "                                                            \r"
     ]
    },
    {
     "name": "stdout",
     "output_type": "stream",
     "text": [
      "Moviepy - Done !\n",
      "Moviepy - video ready D:\\Documents\\Trabajo\\megaproyecto_model\\data/asl_preprocessing/speed_output.mp4\n",
      "--------------------\n",
      "FPS:  30  VIDEO DURATION:  1.2\n",
      "--------------------\n",
      "Moviepy - Building video D:\\Documents\\Trabajo\\megaproyecto_model\\data/asl_preprocessing/speed_output.mp4.\n",
      "MoviePy - Writing audio in speed_outputTEMP_MPY_wvf_snd.mp3\n"
     ]
    },
    {
     "name": "stderr",
     "output_type": "stream",
     "text": [
      "                                                       \r"
     ]
    },
    {
     "name": "stdout",
     "output_type": "stream",
     "text": [
      "MoviePy - Done.\n",
      "Moviepy - Writing video D:\\Documents\\Trabajo\\megaproyecto_model\\data/asl_preprocessing/speed_output.mp4\n",
      "\n"
     ]
    },
    {
     "name": "stderr",
     "output_type": "stream",
     "text": [
      "                                                            \r"
     ]
    },
    {
     "name": "stdout",
     "output_type": "stream",
     "text": [
      "Moviepy - Done !\n",
      "Moviepy - video ready D:\\Documents\\Trabajo\\megaproyecto_model\\data/asl_preprocessing/speed_output.mp4\n",
      "--------------------\n",
      "FPS:  30  VIDEO DURATION:  1.2\n",
      "--------------------\n",
      "Moviepy - Building video D:\\Documents\\Trabajo\\megaproyecto_model\\data/asl_preprocessing/speed_output.mp4.\n",
      "MoviePy - Writing audio in speed_outputTEMP_MPY_wvf_snd.mp3\n"
     ]
    },
    {
     "name": "stderr",
     "output_type": "stream",
     "text": [
      "                                                       \r"
     ]
    },
    {
     "name": "stdout",
     "output_type": "stream",
     "text": [
      "MoviePy - Done.\n",
      "Moviepy - Writing video D:\\Documents\\Trabajo\\megaproyecto_model\\data/asl_preprocessing/speed_output.mp4\n",
      "\n"
     ]
    },
    {
     "name": "stderr",
     "output_type": "stream",
     "text": [
      "                                                              \r"
     ]
    },
    {
     "name": "stdout",
     "output_type": "stream",
     "text": [
      "Moviepy - Done !\n",
      "Moviepy - video ready D:\\Documents\\Trabajo\\megaproyecto_model\\data/asl_preprocessing/speed_output.mp4\n",
      "--------------------\n",
      "FPS:  30  VIDEO DURATION:  1.0\n",
      "--------------------\n",
      "Moviepy - Building video D:\\Documents\\Trabajo\\megaproyecto_model\\data/asl_preprocessing/speed_output.mp4.\n",
      "MoviePy - Writing audio in speed_outputTEMP_MPY_wvf_snd.mp3\n"
     ]
    },
    {
     "name": "stderr",
     "output_type": "stream",
     "text": [
      "                                                       \r"
     ]
    },
    {
     "name": "stdout",
     "output_type": "stream",
     "text": [
      "MoviePy - Done.\n",
      "Moviepy - Writing video D:\\Documents\\Trabajo\\megaproyecto_model\\data/asl_preprocessing/speed_output.mp4\n",
      "\n"
     ]
    },
    {
     "name": "stderr",
     "output_type": "stream",
     "text": [
      "                                                            \r"
     ]
    },
    {
     "name": "stdout",
     "output_type": "stream",
     "text": [
      "Moviepy - Done !\n",
      "Moviepy - video ready D:\\Documents\\Trabajo\\megaproyecto_model\\data/asl_preprocessing/speed_output.mp4\n",
      "--------------------\n",
      "FPS:  30  VIDEO DURATION:  1.0333333333333334\n",
      "--------------------\n",
      "Moviepy - Building video D:\\Documents\\Trabajo\\megaproyecto_model\\data/asl_preprocessing/speed_output.mp4.\n",
      "MoviePy - Writing audio in speed_outputTEMP_MPY_wvf_snd.mp3\n"
     ]
    },
    {
     "name": "stderr",
     "output_type": "stream",
     "text": [
      "                                                       \r"
     ]
    },
    {
     "name": "stdout",
     "output_type": "stream",
     "text": [
      "MoviePy - Done.\n",
      "Moviepy - Writing video D:\\Documents\\Trabajo\\megaproyecto_model\\data/asl_preprocessing/speed_output.mp4\n",
      "\n"
     ]
    },
    {
     "name": "stderr",
     "output_type": "stream",
     "text": [
      "                                                            \r"
     ]
    },
    {
     "name": "stdout",
     "output_type": "stream",
     "text": [
      "Moviepy - Done !\n",
      "Moviepy - video ready D:\\Documents\\Trabajo\\megaproyecto_model\\data/asl_preprocessing/speed_output.mp4\n",
      "--------------------\n",
      "FPS:  30  VIDEO DURATION:  0.9\n",
      "--------------------\n",
      "Moviepy - Building video D:\\Documents\\Trabajo\\megaproyecto_model\\data/asl_preprocessing/speed_output.mp4.\n",
      "MoviePy - Writing audio in speed_outputTEMP_MPY_wvf_snd.mp3\n"
     ]
    },
    {
     "name": "stderr",
     "output_type": "stream",
     "text": [
      "                                                       \r"
     ]
    },
    {
     "name": "stdout",
     "output_type": "stream",
     "text": [
      "MoviePy - Done.\n",
      "Moviepy - Writing video D:\\Documents\\Trabajo\\megaproyecto_model\\data/asl_preprocessing/speed_output.mp4\n",
      "\n"
     ]
    },
    {
     "name": "stderr",
     "output_type": "stream",
     "text": [
      "                                                            \r"
     ]
    },
    {
     "name": "stdout",
     "output_type": "stream",
     "text": [
      "Moviepy - Done !\n",
      "Moviepy - video ready D:\\Documents\\Trabajo\\megaproyecto_model\\data/asl_preprocessing/speed_output.mp4\n",
      "--------------------\n",
      "FPS:  30  VIDEO DURATION:  1.4333333333333333\n",
      "--------------------\n",
      "Moviepy - Building video D:\\Documents\\Trabajo\\megaproyecto_model\\data/asl_preprocessing/speed_output.mp4.\n",
      "MoviePy - Writing audio in speed_outputTEMP_MPY_wvf_snd.mp3\n"
     ]
    },
    {
     "name": "stderr",
     "output_type": "stream",
     "text": [
      "                                                       \r"
     ]
    },
    {
     "name": "stdout",
     "output_type": "stream",
     "text": [
      "MoviePy - Done.\n",
      "Moviepy - Writing video D:\\Documents\\Trabajo\\megaproyecto_model\\data/asl_preprocessing/speed_output.mp4\n",
      "\n"
     ]
    },
    {
     "name": "stderr",
     "output_type": "stream",
     "text": [
      "                                                            \r"
     ]
    },
    {
     "name": "stdout",
     "output_type": "stream",
     "text": [
      "Moviepy - Done !\n",
      "Moviepy - video ready D:\\Documents\\Trabajo\\megaproyecto_model\\data/asl_preprocessing/speed_output.mp4\n",
      "--------------------\n",
      "FPS:  30  VIDEO DURATION:  0.9\n",
      "--------------------\n",
      "Moviepy - Building video D:\\Documents\\Trabajo\\megaproyecto_model\\data/asl_preprocessing/speed_output.mp4.\n",
      "MoviePy - Writing audio in speed_outputTEMP_MPY_wvf_snd.mp3\n"
     ]
    },
    {
     "name": "stderr",
     "output_type": "stream",
     "text": [
      "                                                       \r"
     ]
    },
    {
     "name": "stdout",
     "output_type": "stream",
     "text": [
      "MoviePy - Done.\n",
      "Moviepy - Writing video D:\\Documents\\Trabajo\\megaproyecto_model\\data/asl_preprocessing/speed_output.mp4\n",
      "\n"
     ]
    },
    {
     "name": "stderr",
     "output_type": "stream",
     "text": [
      "                                                            \r"
     ]
    },
    {
     "name": "stdout",
     "output_type": "stream",
     "text": [
      "Moviepy - Done !\n",
      "Moviepy - video ready D:\\Documents\\Trabajo\\megaproyecto_model\\data/asl_preprocessing/speed_output.mp4\n",
      "--------------------\n",
      "FPS:  30  VIDEO DURATION:  1.5\n",
      "--------------------\n",
      "Moviepy - Building video D:\\Documents\\Trabajo\\megaproyecto_model\\data/asl_preprocessing/speed_output.mp4.\n",
      "MoviePy - Writing audio in speed_outputTEMP_MPY_wvf_snd.mp3\n"
     ]
    },
    {
     "name": "stderr",
     "output_type": "stream",
     "text": [
      "                                                       \r"
     ]
    },
    {
     "name": "stdout",
     "output_type": "stream",
     "text": [
      "MoviePy - Done.\n",
      "Moviepy - Writing video D:\\Documents\\Trabajo\\megaproyecto_model\\data/asl_preprocessing/speed_output.mp4\n",
      "\n"
     ]
    },
    {
     "name": "stderr",
     "output_type": "stream",
     "text": [
      "                                                            \r"
     ]
    },
    {
     "name": "stdout",
     "output_type": "stream",
     "text": [
      "Moviepy - Done !\n",
      "Moviepy - video ready D:\\Documents\\Trabajo\\megaproyecto_model\\data/asl_preprocessing/speed_output.mp4\n",
      "--------------------\n",
      "FPS:  30  VIDEO DURATION:  0.8666666666666667\n",
      "--------------------\n",
      "Moviepy - Building video D:\\Documents\\Trabajo\\megaproyecto_model\\data/asl_preprocessing/speed_output.mp4.\n",
      "MoviePy - Writing audio in speed_outputTEMP_MPY_wvf_snd.mp3\n"
     ]
    },
    {
     "name": "stderr",
     "output_type": "stream",
     "text": [
      "                                                       \r"
     ]
    },
    {
     "name": "stdout",
     "output_type": "stream",
     "text": [
      "MoviePy - Done.\n",
      "Moviepy - Writing video D:\\Documents\\Trabajo\\megaproyecto_model\\data/asl_preprocessing/speed_output.mp4\n",
      "\n"
     ]
    },
    {
     "name": "stderr",
     "output_type": "stream",
     "text": [
      "                                                            \r"
     ]
    },
    {
     "name": "stdout",
     "output_type": "stream",
     "text": [
      "Moviepy - Done !\n",
      "Moviepy - video ready D:\\Documents\\Trabajo\\megaproyecto_model\\data/asl_preprocessing/speed_output.mp4\n",
      "--------------------\n",
      "FPS:  30  VIDEO DURATION:  1.2\n",
      "--------------------\n",
      "Moviepy - Building video D:\\Documents\\Trabajo\\megaproyecto_model\\data/asl_preprocessing/speed_output.mp4.\n",
      "MoviePy - Writing audio in speed_outputTEMP_MPY_wvf_snd.mp3\n"
     ]
    },
    {
     "name": "stderr",
     "output_type": "stream",
     "text": [
      "                                                       \r"
     ]
    },
    {
     "name": "stdout",
     "output_type": "stream",
     "text": [
      "MoviePy - Done.\n",
      "Moviepy - Writing video D:\\Documents\\Trabajo\\megaproyecto_model\\data/asl_preprocessing/speed_output.mp4\n",
      "\n"
     ]
    },
    {
     "name": "stderr",
     "output_type": "stream",
     "text": [
      "                                                              \r"
     ]
    },
    {
     "name": "stdout",
     "output_type": "stream",
     "text": [
      "Moviepy - Done !\n",
      "Moviepy - video ready D:\\Documents\\Trabajo\\megaproyecto_model\\data/asl_preprocessing/speed_output.mp4\n",
      "--------------------\n",
      "FPS:  30  VIDEO DURATION:  0.9666666666666667\n",
      "--------------------\n",
      "Moviepy - Building video D:\\Documents\\Trabajo\\megaproyecto_model\\data/asl_preprocessing/speed_output.mp4.\n",
      "MoviePy - Writing audio in speed_outputTEMP_MPY_wvf_snd.mp3\n"
     ]
    },
    {
     "name": "stderr",
     "output_type": "stream",
     "text": [
      "                                                       \r"
     ]
    },
    {
     "name": "stdout",
     "output_type": "stream",
     "text": [
      "MoviePy - Done.\n",
      "Moviepy - Writing video D:\\Documents\\Trabajo\\megaproyecto_model\\data/asl_preprocessing/speed_output.mp4\n",
      "\n"
     ]
    },
    {
     "name": "stderr",
     "output_type": "stream",
     "text": [
      "                                                            \r"
     ]
    },
    {
     "name": "stdout",
     "output_type": "stream",
     "text": [
      "Moviepy - Done !\n",
      "Moviepy - video ready D:\\Documents\\Trabajo\\megaproyecto_model\\data/asl_preprocessing/speed_output.mp4\n",
      "--------------------\n",
      "FPS:  30  VIDEO DURATION:  1.1666666666666667\n",
      "--------------------\n",
      "Moviepy - Building video D:\\Documents\\Trabajo\\megaproyecto_model\\data/asl_preprocessing/speed_output.mp4.\n",
      "MoviePy - Writing audio in speed_outputTEMP_MPY_wvf_snd.mp3\n"
     ]
    },
    {
     "name": "stderr",
     "output_type": "stream",
     "text": [
      "                                                       \r"
     ]
    },
    {
     "name": "stdout",
     "output_type": "stream",
     "text": [
      "MoviePy - Done.\n",
      "Moviepy - Writing video D:\\Documents\\Trabajo\\megaproyecto_model\\data/asl_preprocessing/speed_output.mp4\n",
      "\n"
     ]
    },
    {
     "name": "stderr",
     "output_type": "stream",
     "text": [
      "                                                              \r"
     ]
    },
    {
     "name": "stdout",
     "output_type": "stream",
     "text": [
      "Moviepy - Done !\n",
      "Moviepy - video ready D:\\Documents\\Trabajo\\megaproyecto_model\\data/asl_preprocessing/speed_output.mp4\n",
      "--------------------\n",
      "FPS:  30  VIDEO DURATION:  1.0333333333333334\n",
      "--------------------\n",
      "Moviepy - Building video D:\\Documents\\Trabajo\\megaproyecto_model\\data/asl_preprocessing/speed_output.mp4.\n",
      "MoviePy - Writing audio in speed_outputTEMP_MPY_wvf_snd.mp3\n"
     ]
    },
    {
     "name": "stderr",
     "output_type": "stream",
     "text": [
      "                                                       \r"
     ]
    },
    {
     "name": "stdout",
     "output_type": "stream",
     "text": [
      "MoviePy - Done.\n",
      "Moviepy - Writing video D:\\Documents\\Trabajo\\megaproyecto_model\\data/asl_preprocessing/speed_output.mp4\n",
      "\n"
     ]
    },
    {
     "name": "stderr",
     "output_type": "stream",
     "text": [
      "                                                            \r"
     ]
    },
    {
     "name": "stdout",
     "output_type": "stream",
     "text": [
      "Moviepy - Done !\n",
      "Moviepy - video ready D:\\Documents\\Trabajo\\megaproyecto_model\\data/asl_preprocessing/speed_output.mp4\n",
      "--------------------\n",
      "FPS:  30  VIDEO DURATION:  1.1\n",
      "--------------------\n",
      "Moviepy - Building video D:\\Documents\\Trabajo\\megaproyecto_model\\data/asl_preprocessing/speed_output.mp4.\n",
      "MoviePy - Writing audio in speed_outputTEMP_MPY_wvf_snd.mp3\n"
     ]
    },
    {
     "name": "stderr",
     "output_type": "stream",
     "text": [
      "                                                       \r"
     ]
    },
    {
     "name": "stdout",
     "output_type": "stream",
     "text": [
      "MoviePy - Done.\n",
      "Moviepy - Writing video D:\\Documents\\Trabajo\\megaproyecto_model\\data/asl_preprocessing/speed_output.mp4\n",
      "\n"
     ]
    },
    {
     "name": "stderr",
     "output_type": "stream",
     "text": [
      "                                                              \r"
     ]
    },
    {
     "name": "stdout",
     "output_type": "stream",
     "text": [
      "Moviepy - Done !\n",
      "Moviepy - video ready D:\\Documents\\Trabajo\\megaproyecto_model\\data/asl_preprocessing/speed_output.mp4\n",
      "--------------------\n",
      "FPS:  30  VIDEO DURATION:  1.1\n",
      "--------------------\n",
      "Moviepy - Building video D:\\Documents\\Trabajo\\megaproyecto_model\\data/asl_preprocessing/speed_output.mp4.\n",
      "MoviePy - Writing audio in speed_outputTEMP_MPY_wvf_snd.mp3\n"
     ]
    },
    {
     "name": "stderr",
     "output_type": "stream",
     "text": [
      "                                                       \r"
     ]
    },
    {
     "name": "stdout",
     "output_type": "stream",
     "text": [
      "MoviePy - Done.\n",
      "Moviepy - Writing video D:\\Documents\\Trabajo\\megaproyecto_model\\data/asl_preprocessing/speed_output.mp4\n",
      "\n"
     ]
    },
    {
     "name": "stderr",
     "output_type": "stream",
     "text": [
      "                                                              \r"
     ]
    },
    {
     "name": "stdout",
     "output_type": "stream",
     "text": [
      "Moviepy - Done !\n",
      "Moviepy - video ready D:\\Documents\\Trabajo\\megaproyecto_model\\data/asl_preprocessing/speed_output.mp4\n",
      "--------------------\n",
      "FPS:  30  VIDEO DURATION:  1.0\n",
      "--------------------\n",
      "Moviepy - Building video D:\\Documents\\Trabajo\\megaproyecto_model\\data/asl_preprocessing/speed_output.mp4.\n",
      "MoviePy - Writing audio in speed_outputTEMP_MPY_wvf_snd.mp3\n"
     ]
    },
    {
     "name": "stderr",
     "output_type": "stream",
     "text": [
      "                                                       \r"
     ]
    },
    {
     "name": "stdout",
     "output_type": "stream",
     "text": [
      "MoviePy - Done.\n",
      "Moviepy - Writing video D:\\Documents\\Trabajo\\megaproyecto_model\\data/asl_preprocessing/speed_output.mp4\n",
      "\n"
     ]
    },
    {
     "name": "stderr",
     "output_type": "stream",
     "text": [
      "                                                            \r"
     ]
    },
    {
     "name": "stdout",
     "output_type": "stream",
     "text": [
      "Moviepy - Done !\n",
      "Moviepy - video ready D:\\Documents\\Trabajo\\megaproyecto_model\\data/asl_preprocessing/speed_output.mp4\n",
      "--------------------\n",
      "FPS:  30  VIDEO DURATION:  1.0333333333333334\n",
      "--------------------\n",
      "Moviepy - Building video D:\\Documents\\Trabajo\\megaproyecto_model\\data/asl_preprocessing/speed_output.mp4.\n",
      "MoviePy - Writing audio in speed_outputTEMP_MPY_wvf_snd.mp3\n"
     ]
    },
    {
     "name": "stderr",
     "output_type": "stream",
     "text": [
      "                                                       \r"
     ]
    },
    {
     "name": "stdout",
     "output_type": "stream",
     "text": [
      "MoviePy - Done.\n",
      "Moviepy - Writing video D:\\Documents\\Trabajo\\megaproyecto_model\\data/asl_preprocessing/speed_output.mp4\n",
      "\n"
     ]
    },
    {
     "name": "stderr",
     "output_type": "stream",
     "text": [
      "                                                            \r"
     ]
    },
    {
     "name": "stdout",
     "output_type": "stream",
     "text": [
      "Moviepy - Done !\n",
      "Moviepy - video ready D:\\Documents\\Trabajo\\megaproyecto_model\\data/asl_preprocessing/speed_output.mp4\n",
      "--------------------\n",
      "FPS:  30  VIDEO DURATION:  1.0\n",
      "--------------------\n",
      "Moviepy - Building video D:\\Documents\\Trabajo\\megaproyecto_model\\data/asl_preprocessing/speed_output.mp4.\n",
      "MoviePy - Writing audio in speed_outputTEMP_MPY_wvf_snd.mp3\n"
     ]
    },
    {
     "name": "stderr",
     "output_type": "stream",
     "text": [
      "                                                       \r"
     ]
    },
    {
     "name": "stdout",
     "output_type": "stream",
     "text": [
      "MoviePy - Done.\n",
      "Moviepy - Writing video D:\\Documents\\Trabajo\\megaproyecto_model\\data/asl_preprocessing/speed_output.mp4\n",
      "\n"
     ]
    },
    {
     "name": "stderr",
     "output_type": "stream",
     "text": [
      "                                                              \r"
     ]
    },
    {
     "name": "stdout",
     "output_type": "stream",
     "text": [
      "Moviepy - Done !\n",
      "Moviepy - video ready D:\\Documents\\Trabajo\\megaproyecto_model\\data/asl_preprocessing/speed_output.mp4\n",
      "--------------------\n",
      "FPS:  30  VIDEO DURATION:  0.9666666666666667\n",
      "--------------------\n",
      "Moviepy - Building video D:\\Documents\\Trabajo\\megaproyecto_model\\data/asl_preprocessing/speed_output.mp4.\n",
      "MoviePy - Writing audio in speed_outputTEMP_MPY_wvf_snd.mp3\n"
     ]
    },
    {
     "name": "stderr",
     "output_type": "stream",
     "text": [
      "                                                       \r"
     ]
    },
    {
     "name": "stdout",
     "output_type": "stream",
     "text": [
      "MoviePy - Done.\n",
      "Moviepy - Writing video D:\\Documents\\Trabajo\\megaproyecto_model\\data/asl_preprocessing/speed_output.mp4\n",
      "\n"
     ]
    },
    {
     "name": "stderr",
     "output_type": "stream",
     "text": [
      "                                                            \r"
     ]
    },
    {
     "name": "stdout",
     "output_type": "stream",
     "text": [
      "Moviepy - Done !\n",
      "Moviepy - video ready D:\\Documents\\Trabajo\\megaproyecto_model\\data/asl_preprocessing/speed_output.mp4\n",
      "--------------------\n",
      "FPS:  30  VIDEO DURATION:  1.0333333333333334\n",
      "--------------------\n",
      "Moviepy - Building video D:\\Documents\\Trabajo\\megaproyecto_model\\data/asl_preprocessing/speed_output.mp4.\n",
      "MoviePy - Writing audio in speed_outputTEMP_MPY_wvf_snd.mp3\n"
     ]
    },
    {
     "name": "stderr",
     "output_type": "stream",
     "text": [
      "                                                       \r"
     ]
    },
    {
     "name": "stdout",
     "output_type": "stream",
     "text": [
      "MoviePy - Done.\n",
      "Moviepy - Writing video D:\\Documents\\Trabajo\\megaproyecto_model\\data/asl_preprocessing/speed_output.mp4\n",
      "\n"
     ]
    },
    {
     "name": "stderr",
     "output_type": "stream",
     "text": [
      "                                                              \r"
     ]
    },
    {
     "name": "stdout",
     "output_type": "stream",
     "text": [
      "Moviepy - Done !\n",
      "Moviepy - video ready D:\\Documents\\Trabajo\\megaproyecto_model\\data/asl_preprocessing/speed_output.mp4\n",
      "--------------------\n",
      "FPS:  30  VIDEO DURATION:  0.9666666666666667\n",
      "--------------------\n",
      "Moviepy - Building video D:\\Documents\\Trabajo\\megaproyecto_model\\data/asl_preprocessing/speed_output.mp4.\n",
      "MoviePy - Writing audio in speed_outputTEMP_MPY_wvf_snd.mp3\n"
     ]
    },
    {
     "name": "stderr",
     "output_type": "stream",
     "text": [
      "                                                       \r"
     ]
    },
    {
     "name": "stdout",
     "output_type": "stream",
     "text": [
      "MoviePy - Done.\n",
      "Moviepy - Writing video D:\\Documents\\Trabajo\\megaproyecto_model\\data/asl_preprocessing/speed_output.mp4\n",
      "\n"
     ]
    },
    {
     "name": "stderr",
     "output_type": "stream",
     "text": [
      "                                                            \r"
     ]
    },
    {
     "name": "stdout",
     "output_type": "stream",
     "text": [
      "Moviepy - Done !\n",
      "Moviepy - video ready D:\\Documents\\Trabajo\\megaproyecto_model\\data/asl_preprocessing/speed_output.mp4\n",
      "--------------------\n",
      "FPS:  30  VIDEO DURATION:  1.0333333333333334\n",
      "--------------------\n",
      "Moviepy - Building video D:\\Documents\\Trabajo\\megaproyecto_model\\data/asl_preprocessing/speed_output.mp4.\n",
      "MoviePy - Writing audio in speed_outputTEMP_MPY_wvf_snd.mp3\n"
     ]
    },
    {
     "name": "stderr",
     "output_type": "stream",
     "text": [
      "                                                       \r"
     ]
    },
    {
     "name": "stdout",
     "output_type": "stream",
     "text": [
      "MoviePy - Done.\n",
      "Moviepy - Writing video D:\\Documents\\Trabajo\\megaproyecto_model\\data/asl_preprocessing/speed_output.mp4\n",
      "\n"
     ]
    },
    {
     "name": "stderr",
     "output_type": "stream",
     "text": [
      "                                                            \r"
     ]
    },
    {
     "name": "stdout",
     "output_type": "stream",
     "text": [
      "Moviepy - Done !\n",
      "Moviepy - video ready D:\\Documents\\Trabajo\\megaproyecto_model\\data/asl_preprocessing/speed_output.mp4\n",
      "--------------------\n",
      "FPS:  30  VIDEO DURATION:  1.0333333333333334\n",
      "--------------------\n",
      "Moviepy - Building video D:\\Documents\\Trabajo\\megaproyecto_model\\data/asl_preprocessing/speed_output.mp4.\n",
      "MoviePy - Writing audio in speed_outputTEMP_MPY_wvf_snd.mp3\n"
     ]
    },
    {
     "name": "stderr",
     "output_type": "stream",
     "text": [
      "                                                       \r"
     ]
    },
    {
     "name": "stdout",
     "output_type": "stream",
     "text": [
      "MoviePy - Done.\n",
      "Moviepy - Writing video D:\\Documents\\Trabajo\\megaproyecto_model\\data/asl_preprocessing/speed_output.mp4\n",
      "\n"
     ]
    },
    {
     "name": "stderr",
     "output_type": "stream",
     "text": [
      "                                                            \r"
     ]
    },
    {
     "name": "stdout",
     "output_type": "stream",
     "text": [
      "Moviepy - Done !\n",
      "Moviepy - video ready D:\\Documents\\Trabajo\\megaproyecto_model\\data/asl_preprocessing/speed_output.mp4\n",
      "--------------------\n",
      "FPS:  30  VIDEO DURATION:  0.8\n",
      "--------------------\n",
      "Moviepy - Building video D:\\Documents\\Trabajo\\megaproyecto_model\\data/asl_preprocessing/speed_output.mp4.\n",
      "MoviePy - Writing audio in speed_outputTEMP_MPY_wvf_snd.mp3\n"
     ]
    },
    {
     "name": "stderr",
     "output_type": "stream",
     "text": [
      "                                                       \r"
     ]
    },
    {
     "name": "stdout",
     "output_type": "stream",
     "text": [
      "MoviePy - Done.\n",
      "Moviepy - Writing video D:\\Documents\\Trabajo\\megaproyecto_model\\data/asl_preprocessing/speed_output.mp4\n",
      "\n"
     ]
    },
    {
     "name": "stderr",
     "output_type": "stream",
     "text": [
      "                                                            \r"
     ]
    },
    {
     "name": "stdout",
     "output_type": "stream",
     "text": [
      "Moviepy - Done !\n",
      "Moviepy - video ready D:\\Documents\\Trabajo\\megaproyecto_model\\data/asl_preprocessing/speed_output.mp4\n",
      "--------------------\n",
      "FPS:  30  VIDEO DURATION:  1.1666666666666667\n",
      "--------------------\n",
      "Moviepy - Building video D:\\Documents\\Trabajo\\megaproyecto_model\\data/asl_preprocessing/speed_output.mp4.\n",
      "MoviePy - Writing audio in speed_outputTEMP_MPY_wvf_snd.mp3\n"
     ]
    },
    {
     "name": "stderr",
     "output_type": "stream",
     "text": [
      "                                                       \r"
     ]
    },
    {
     "name": "stdout",
     "output_type": "stream",
     "text": [
      "MoviePy - Done.\n",
      "Moviepy - Writing video D:\\Documents\\Trabajo\\megaproyecto_model\\data/asl_preprocessing/speed_output.mp4\n",
      "\n"
     ]
    },
    {
     "name": "stderr",
     "output_type": "stream",
     "text": [
      "                                                              \r"
     ]
    },
    {
     "name": "stdout",
     "output_type": "stream",
     "text": [
      "Moviepy - Done !\n",
      "Moviepy - video ready D:\\Documents\\Trabajo\\megaproyecto_model\\data/asl_preprocessing/speed_output.mp4\n",
      "--------------------\n",
      "FPS:  30  VIDEO DURATION:  1.0333333333333334\n",
      "--------------------\n",
      "Moviepy - Building video D:\\Documents\\Trabajo\\megaproyecto_model\\data/asl_preprocessing/speed_output.mp4.\n",
      "MoviePy - Writing audio in speed_outputTEMP_MPY_wvf_snd.mp3\n"
     ]
    },
    {
     "name": "stderr",
     "output_type": "stream",
     "text": [
      "                                                       \r"
     ]
    },
    {
     "name": "stdout",
     "output_type": "stream",
     "text": [
      "MoviePy - Done.\n",
      "Moviepy - Writing video D:\\Documents\\Trabajo\\megaproyecto_model\\data/asl_preprocessing/speed_output.mp4\n",
      "\n"
     ]
    },
    {
     "name": "stderr",
     "output_type": "stream",
     "text": [
      "                                                            \r"
     ]
    },
    {
     "name": "stdout",
     "output_type": "stream",
     "text": [
      "Moviepy - Done !\n",
      "Moviepy - video ready D:\\Documents\\Trabajo\\megaproyecto_model\\data/asl_preprocessing/speed_output.mp4\n",
      "--------------------\n",
      "FPS:  30  VIDEO DURATION:  0.9666666666666667\n",
      "--------------------\n",
      "Moviepy - Building video D:\\Documents\\Trabajo\\megaproyecto_model\\data/asl_preprocessing/speed_output.mp4.\n",
      "MoviePy - Writing audio in speed_outputTEMP_MPY_wvf_snd.mp3\n"
     ]
    },
    {
     "name": "stderr",
     "output_type": "stream",
     "text": [
      "                                                       \r"
     ]
    },
    {
     "name": "stdout",
     "output_type": "stream",
     "text": [
      "MoviePy - Done.\n",
      "Moviepy - Writing video D:\\Documents\\Trabajo\\megaproyecto_model\\data/asl_preprocessing/speed_output.mp4\n",
      "\n"
     ]
    },
    {
     "name": "stderr",
     "output_type": "stream",
     "text": [
      "                                                            \r"
     ]
    },
    {
     "name": "stdout",
     "output_type": "stream",
     "text": [
      "Moviepy - Done !\n",
      "Moviepy - video ready D:\\Documents\\Trabajo\\megaproyecto_model\\data/asl_preprocessing/speed_output.mp4\n",
      "--------------------\n",
      "FPS:  30  VIDEO DURATION:  1.0666666666666667\n",
      "--------------------\n",
      "Moviepy - Building video D:\\Documents\\Trabajo\\megaproyecto_model\\data/asl_preprocessing/speed_output.mp4.\n",
      "MoviePy - Writing audio in speed_outputTEMP_MPY_wvf_snd.mp3\n"
     ]
    },
    {
     "name": "stderr",
     "output_type": "stream",
     "text": [
      "                                                       \r"
     ]
    },
    {
     "name": "stdout",
     "output_type": "stream",
     "text": [
      "MoviePy - Done.\n",
      "Moviepy - Writing video D:\\Documents\\Trabajo\\megaproyecto_model\\data/asl_preprocessing/speed_output.mp4\n",
      "\n"
     ]
    },
    {
     "name": "stderr",
     "output_type": "stream",
     "text": [
      "                                                              \r"
     ]
    },
    {
     "name": "stdout",
     "output_type": "stream",
     "text": [
      "Moviepy - Done !\n",
      "Moviepy - video ready D:\\Documents\\Trabajo\\megaproyecto_model\\data/asl_preprocessing/speed_output.mp4\n",
      "--------------------\n",
      "FPS:  30  VIDEO DURATION:  0.9333333333333333\n",
      "--------------------\n",
      "Moviepy - Building video D:\\Documents\\Trabajo\\megaproyecto_model\\data/asl_preprocessing/speed_output.mp4.\n",
      "MoviePy - Writing audio in speed_outputTEMP_MPY_wvf_snd.mp3\n"
     ]
    },
    {
     "name": "stderr",
     "output_type": "stream",
     "text": [
      "                                                       \r"
     ]
    },
    {
     "name": "stdout",
     "output_type": "stream",
     "text": [
      "MoviePy - Done.\n",
      "Moviepy - Writing video D:\\Documents\\Trabajo\\megaproyecto_model\\data/asl_preprocessing/speed_output.mp4\n",
      "\n"
     ]
    },
    {
     "name": "stderr",
     "output_type": "stream",
     "text": [
      "                                                            \r"
     ]
    },
    {
     "name": "stdout",
     "output_type": "stream",
     "text": [
      "Moviepy - Done !\n",
      "Moviepy - video ready D:\\Documents\\Trabajo\\megaproyecto_model\\data/asl_preprocessing/speed_output.mp4\n",
      "--------------------\n",
      "FPS:  30  VIDEO DURATION:  1.2333333333333334\n",
      "--------------------\n",
      "Moviepy - Building video D:\\Documents\\Trabajo\\megaproyecto_model\\data/asl_preprocessing/speed_output.mp4.\n",
      "MoviePy - Writing audio in speed_outputTEMP_MPY_wvf_snd.mp3\n"
     ]
    },
    {
     "name": "stderr",
     "output_type": "stream",
     "text": [
      "                                                       \r"
     ]
    },
    {
     "name": "stdout",
     "output_type": "stream",
     "text": [
      "MoviePy - Done.\n",
      "Moviepy - Writing video D:\\Documents\\Trabajo\\megaproyecto_model\\data/asl_preprocessing/speed_output.mp4\n",
      "\n"
     ]
    },
    {
     "name": "stderr",
     "output_type": "stream",
     "text": [
      "                                                            \r"
     ]
    },
    {
     "name": "stdout",
     "output_type": "stream",
     "text": [
      "Moviepy - Done !\n",
      "Moviepy - video ready D:\\Documents\\Trabajo\\megaproyecto_model\\data/asl_preprocessing/speed_output.mp4\n",
      "--------------------\n",
      "FPS:  30  VIDEO DURATION:  1.2\n",
      "--------------------\n",
      "Moviepy - Building video D:\\Documents\\Trabajo\\megaproyecto_model\\data/asl_preprocessing/speed_output.mp4.\n",
      "MoviePy - Writing audio in speed_outputTEMP_MPY_wvf_snd.mp3\n"
     ]
    },
    {
     "name": "stderr",
     "output_type": "stream",
     "text": [
      "                                                       \r"
     ]
    },
    {
     "name": "stdout",
     "output_type": "stream",
     "text": [
      "MoviePy - Done.\n",
      "Moviepy - Writing video D:\\Documents\\Trabajo\\megaproyecto_model\\data/asl_preprocessing/speed_output.mp4\n",
      "\n"
     ]
    },
    {
     "name": "stderr",
     "output_type": "stream",
     "text": [
      "                                                            \r"
     ]
    },
    {
     "name": "stdout",
     "output_type": "stream",
     "text": [
      "Moviepy - Done !\n",
      "Moviepy - video ready D:\\Documents\\Trabajo\\megaproyecto_model\\data/asl_preprocessing/speed_output.mp4\n",
      "--------------------\n",
      "FPS:  30  VIDEO DURATION:  0.9666666666666667\n",
      "--------------------\n",
      "Moviepy - Building video D:\\Documents\\Trabajo\\megaproyecto_model\\data/asl_preprocessing/speed_output.mp4.\n",
      "MoviePy - Writing audio in speed_outputTEMP_MPY_wvf_snd.mp3\n"
     ]
    },
    {
     "name": "stderr",
     "output_type": "stream",
     "text": [
      "                                                       \r"
     ]
    },
    {
     "name": "stdout",
     "output_type": "stream",
     "text": [
      "MoviePy - Done.\n",
      "Moviepy - Writing video D:\\Documents\\Trabajo\\megaproyecto_model\\data/asl_preprocessing/speed_output.mp4\n",
      "\n"
     ]
    },
    {
     "name": "stderr",
     "output_type": "stream",
     "text": [
      "                                                              \r"
     ]
    },
    {
     "name": "stdout",
     "output_type": "stream",
     "text": [
      "Moviepy - Done !\n",
      "Moviepy - video ready D:\\Documents\\Trabajo\\megaproyecto_model\\data/asl_preprocessing/speed_output.mp4\n",
      "--------------------\n",
      "FPS:  30  VIDEO DURATION:  0.9333333333333333\n",
      "--------------------\n",
      "Moviepy - Building video D:\\Documents\\Trabajo\\megaproyecto_model\\data/asl_preprocessing/speed_output.mp4.\n",
      "MoviePy - Writing audio in speed_outputTEMP_MPY_wvf_snd.mp3\n"
     ]
    },
    {
     "name": "stderr",
     "output_type": "stream",
     "text": [
      "                                                       \r"
     ]
    },
    {
     "name": "stdout",
     "output_type": "stream",
     "text": [
      "MoviePy - Done.\n",
      "Moviepy - Writing video D:\\Documents\\Trabajo\\megaproyecto_model\\data/asl_preprocessing/speed_output.mp4\n",
      "\n"
     ]
    },
    {
     "name": "stderr",
     "output_type": "stream",
     "text": [
      "                                                              \r"
     ]
    },
    {
     "name": "stdout",
     "output_type": "stream",
     "text": [
      "Moviepy - Done !\n",
      "Moviepy - video ready D:\\Documents\\Trabajo\\megaproyecto_model\\data/asl_preprocessing/speed_output.mp4\n",
      "--------------------\n",
      "FPS:  30  VIDEO DURATION:  1.1666666666666667\n",
      "--------------------\n",
      "Moviepy - Building video D:\\Documents\\Trabajo\\megaproyecto_model\\data/asl_preprocessing/speed_output.mp4.\n",
      "MoviePy - Writing audio in speed_outputTEMP_MPY_wvf_snd.mp3\n"
     ]
    },
    {
     "name": "stderr",
     "output_type": "stream",
     "text": [
      "                                                       \r"
     ]
    },
    {
     "name": "stdout",
     "output_type": "stream",
     "text": [
      "MoviePy - Done.\n",
      "Moviepy - Writing video D:\\Documents\\Trabajo\\megaproyecto_model\\data/asl_preprocessing/speed_output.mp4\n",
      "\n"
     ]
    },
    {
     "name": "stderr",
     "output_type": "stream",
     "text": [
      "                                                            \r"
     ]
    },
    {
     "name": "stdout",
     "output_type": "stream",
     "text": [
      "Moviepy - Done !\n",
      "Moviepy - video ready D:\\Documents\\Trabajo\\megaproyecto_model\\data/asl_preprocessing/speed_output.mp4\n",
      "--------------------\n",
      "FPS:  30  VIDEO DURATION:  0.9666666666666667\n",
      "--------------------\n",
      "Moviepy - Building video D:\\Documents\\Trabajo\\megaproyecto_model\\data/asl_preprocessing/speed_output.mp4.\n",
      "MoviePy - Writing audio in speed_outputTEMP_MPY_wvf_snd.mp3\n"
     ]
    },
    {
     "name": "stderr",
     "output_type": "stream",
     "text": [
      "                                                       \r"
     ]
    },
    {
     "name": "stdout",
     "output_type": "stream",
     "text": [
      "MoviePy - Done.\n",
      "Moviepy - Writing video D:\\Documents\\Trabajo\\megaproyecto_model\\data/asl_preprocessing/speed_output.mp4\n",
      "\n"
     ]
    },
    {
     "name": "stderr",
     "output_type": "stream",
     "text": [
      "                                                              \r"
     ]
    },
    {
     "name": "stdout",
     "output_type": "stream",
     "text": [
      "Moviepy - Done !\n",
      "Moviepy - video ready D:\\Documents\\Trabajo\\megaproyecto_model\\data/asl_preprocessing/speed_output.mp4\n",
      "--------------------\n",
      "FPS:  30  VIDEO DURATION:  1.1666666666666667\n",
      "--------------------\n",
      "Moviepy - Building video D:\\Documents\\Trabajo\\megaproyecto_model\\data/asl_preprocessing/speed_output.mp4.\n",
      "MoviePy - Writing audio in speed_outputTEMP_MPY_wvf_snd.mp3\n"
     ]
    },
    {
     "name": "stderr",
     "output_type": "stream",
     "text": [
      "                                                       \r"
     ]
    },
    {
     "name": "stdout",
     "output_type": "stream",
     "text": [
      "MoviePy - Done.\n",
      "Moviepy - Writing video D:\\Documents\\Trabajo\\megaproyecto_model\\data/asl_preprocessing/speed_output.mp4\n",
      "\n"
     ]
    },
    {
     "name": "stderr",
     "output_type": "stream",
     "text": [
      "                                                            \r"
     ]
    },
    {
     "name": "stdout",
     "output_type": "stream",
     "text": [
      "Moviepy - Done !\n",
      "Moviepy - video ready D:\\Documents\\Trabajo\\megaproyecto_model\\data/asl_preprocessing/speed_output.mp4\n",
      "--------------------\n",
      "FPS:  30  VIDEO DURATION:  0.9666666666666667\n",
      "--------------------\n",
      "Moviepy - Building video D:\\Documents\\Trabajo\\megaproyecto_model\\data/asl_preprocessing/speed_output.mp4.\n",
      "MoviePy - Writing audio in speed_outputTEMP_MPY_wvf_snd.mp3\n"
     ]
    },
    {
     "name": "stderr",
     "output_type": "stream",
     "text": [
      "                                                       \r"
     ]
    },
    {
     "name": "stdout",
     "output_type": "stream",
     "text": [
      "MoviePy - Done.\n",
      "Moviepy - Writing video D:\\Documents\\Trabajo\\megaproyecto_model\\data/asl_preprocessing/speed_output.mp4\n",
      "\n"
     ]
    },
    {
     "name": "stderr",
     "output_type": "stream",
     "text": [
      "                                                            \r"
     ]
    },
    {
     "name": "stdout",
     "output_type": "stream",
     "text": [
      "Moviepy - Done !\n",
      "Moviepy - video ready D:\\Documents\\Trabajo\\megaproyecto_model\\data/asl_preprocessing/speed_output.mp4\n",
      "--------------------\n",
      "FPS:  30  VIDEO DURATION:  1.3\n",
      "--------------------\n",
      "Moviepy - Building video D:\\Documents\\Trabajo\\megaproyecto_model\\data/asl_preprocessing/speed_output.mp4.\n",
      "MoviePy - Writing audio in speed_outputTEMP_MPY_wvf_snd.mp3\n"
     ]
    },
    {
     "name": "stderr",
     "output_type": "stream",
     "text": [
      "                                                       \r"
     ]
    },
    {
     "name": "stdout",
     "output_type": "stream",
     "text": [
      "MoviePy - Done.\n",
      "Moviepy - Writing video D:\\Documents\\Trabajo\\megaproyecto_model\\data/asl_preprocessing/speed_output.mp4\n",
      "\n"
     ]
    },
    {
     "name": "stderr",
     "output_type": "stream",
     "text": [
      "                                                            \r"
     ]
    },
    {
     "name": "stdout",
     "output_type": "stream",
     "text": [
      "Moviepy - Done !\n",
      "Moviepy - video ready D:\\Documents\\Trabajo\\megaproyecto_model\\data/asl_preprocessing/speed_output.mp4\n",
      "--------------------\n",
      "FPS:  30  VIDEO DURATION:  1.2666666666666666\n",
      "--------------------\n",
      "Moviepy - Building video D:\\Documents\\Trabajo\\megaproyecto_model\\data/asl_preprocessing/speed_output.mp4.\n",
      "MoviePy - Writing audio in speed_outputTEMP_MPY_wvf_snd.mp3\n"
     ]
    },
    {
     "name": "stderr",
     "output_type": "stream",
     "text": [
      "                                                       \r"
     ]
    },
    {
     "name": "stdout",
     "output_type": "stream",
     "text": [
      "MoviePy - Done.\n",
      "Moviepy - Writing video D:\\Documents\\Trabajo\\megaproyecto_model\\data/asl_preprocessing/speed_output.mp4\n",
      "\n"
     ]
    },
    {
     "name": "stderr",
     "output_type": "stream",
     "text": [
      "                                                            \r"
     ]
    },
    {
     "name": "stdout",
     "output_type": "stream",
     "text": [
      "Moviepy - Done !\n",
      "Moviepy - video ready D:\\Documents\\Trabajo\\megaproyecto_model\\data/asl_preprocessing/speed_output.mp4\n",
      "--------------------\n",
      "FPS:  30  VIDEO DURATION:  1.2\n",
      "--------------------\n",
      "Moviepy - Building video D:\\Documents\\Trabajo\\megaproyecto_model\\data/asl_preprocessing/speed_output.mp4.\n",
      "MoviePy - Writing audio in speed_outputTEMP_MPY_wvf_snd.mp3\n"
     ]
    },
    {
     "name": "stderr",
     "output_type": "stream",
     "text": [
      "                                                       \r"
     ]
    },
    {
     "name": "stdout",
     "output_type": "stream",
     "text": [
      "MoviePy - Done.\n",
      "Moviepy - Writing video D:\\Documents\\Trabajo\\megaproyecto_model\\data/asl_preprocessing/speed_output.mp4\n",
      "\n"
     ]
    },
    {
     "name": "stderr",
     "output_type": "stream",
     "text": [
      "                                                              \r"
     ]
    },
    {
     "name": "stdout",
     "output_type": "stream",
     "text": [
      "Moviepy - Done !\n",
      "Moviepy - video ready D:\\Documents\\Trabajo\\megaproyecto_model\\data/asl_preprocessing/speed_output.mp4\n",
      "--------------------\n",
      "FPS:  30  VIDEO DURATION:  1.1666666666666667\n",
      "--------------------\n",
      "Moviepy - Building video D:\\Documents\\Trabajo\\megaproyecto_model\\data/asl_preprocessing/speed_output.mp4.\n",
      "MoviePy - Writing audio in speed_outputTEMP_MPY_wvf_snd.mp3\n"
     ]
    },
    {
     "name": "stderr",
     "output_type": "stream",
     "text": [
      "                                                       \r"
     ]
    },
    {
     "name": "stdout",
     "output_type": "stream",
     "text": [
      "MoviePy - Done.\n",
      "Moviepy - Writing video D:\\Documents\\Trabajo\\megaproyecto_model\\data/asl_preprocessing/speed_output.mp4\n",
      "\n"
     ]
    },
    {
     "name": "stderr",
     "output_type": "stream",
     "text": [
      "                                                              \r"
     ]
    },
    {
     "name": "stdout",
     "output_type": "stream",
     "text": [
      "Moviepy - Done !\n",
      "Moviepy - video ready D:\\Documents\\Trabajo\\megaproyecto_model\\data/asl_preprocessing/speed_output.mp4\n",
      "--------------------\n",
      "FPS:  30  VIDEO DURATION:  0.9\n",
      "--------------------\n",
      "Moviepy - Building video D:\\Documents\\Trabajo\\megaproyecto_model\\data/asl_preprocessing/speed_output.mp4.\n",
      "MoviePy - Writing audio in speed_outputTEMP_MPY_wvf_snd.mp3\n"
     ]
    },
    {
     "name": "stderr",
     "output_type": "stream",
     "text": [
      "                                                       \r"
     ]
    },
    {
     "name": "stdout",
     "output_type": "stream",
     "text": [
      "MoviePy - Done.\n",
      "Moviepy - Writing video D:\\Documents\\Trabajo\\megaproyecto_model\\data/asl_preprocessing/speed_output.mp4\n",
      "\n"
     ]
    },
    {
     "name": "stderr",
     "output_type": "stream",
     "text": [
      "                                                              \r"
     ]
    },
    {
     "name": "stdout",
     "output_type": "stream",
     "text": [
      "Moviepy - Done !\n",
      "Moviepy - video ready D:\\Documents\\Trabajo\\megaproyecto_model\\data/asl_preprocessing/speed_output.mp4\n",
      "--------------------\n",
      "FPS:  30  VIDEO DURATION:  0.9333333333333333\n",
      "--------------------\n",
      "Moviepy - Building video D:\\Documents\\Trabajo\\megaproyecto_model\\data/asl_preprocessing/speed_output.mp4.\n",
      "MoviePy - Writing audio in speed_outputTEMP_MPY_wvf_snd.mp3\n"
     ]
    },
    {
     "name": "stderr",
     "output_type": "stream",
     "text": [
      "                                                       \r"
     ]
    },
    {
     "name": "stdout",
     "output_type": "stream",
     "text": [
      "MoviePy - Done.\n",
      "Moviepy - Writing video D:\\Documents\\Trabajo\\megaproyecto_model\\data/asl_preprocessing/speed_output.mp4\n",
      "\n"
     ]
    },
    {
     "name": "stderr",
     "output_type": "stream",
     "text": [
      "                                                              \r"
     ]
    },
    {
     "name": "stdout",
     "output_type": "stream",
     "text": [
      "Moviepy - Done !\n",
      "Moviepy - video ready D:\\Documents\\Trabajo\\megaproyecto_model\\data/asl_preprocessing/speed_output.mp4\n",
      "--------------------\n",
      "FPS:  30  VIDEO DURATION:  0.9333333333333333\n",
      "--------------------\n",
      "Moviepy - Building video D:\\Documents\\Trabajo\\megaproyecto_model\\data/asl_preprocessing/speed_output.mp4.\n",
      "MoviePy - Writing audio in speed_outputTEMP_MPY_wvf_snd.mp3\n"
     ]
    },
    {
     "name": "stderr",
     "output_type": "stream",
     "text": [
      "                                                       \r"
     ]
    },
    {
     "name": "stdout",
     "output_type": "stream",
     "text": [
      "MoviePy - Done.\n",
      "Moviepy - Writing video D:\\Documents\\Trabajo\\megaproyecto_model\\data/asl_preprocessing/speed_output.mp4\n",
      "\n"
     ]
    },
    {
     "name": "stderr",
     "output_type": "stream",
     "text": [
      "                                                            \r"
     ]
    },
    {
     "name": "stdout",
     "output_type": "stream",
     "text": [
      "Moviepy - Done !\n",
      "Moviepy - video ready D:\\Documents\\Trabajo\\megaproyecto_model\\data/asl_preprocessing/speed_output.mp4\n",
      "--------------------\n",
      "FPS:  30  VIDEO DURATION:  1.0666666666666667\n",
      "--------------------\n",
      "Moviepy - Building video D:\\Documents\\Trabajo\\megaproyecto_model\\data/asl_preprocessing/speed_output.mp4.\n",
      "MoviePy - Writing audio in speed_outputTEMP_MPY_wvf_snd.mp3\n"
     ]
    },
    {
     "name": "stderr",
     "output_type": "stream",
     "text": [
      "                                                       \r"
     ]
    },
    {
     "name": "stdout",
     "output_type": "stream",
     "text": [
      "MoviePy - Done.\n",
      "Moviepy - Writing video D:\\Documents\\Trabajo\\megaproyecto_model\\data/asl_preprocessing/speed_output.mp4\n",
      "\n"
     ]
    },
    {
     "name": "stderr",
     "output_type": "stream",
     "text": [
      "                                                            \r"
     ]
    },
    {
     "name": "stdout",
     "output_type": "stream",
     "text": [
      "Moviepy - Done !\n",
      "Moviepy - video ready D:\\Documents\\Trabajo\\megaproyecto_model\\data/asl_preprocessing/speed_output.mp4\n",
      "--------------------\n",
      "FPS:  30  VIDEO DURATION:  1.0333333333333334\n",
      "--------------------\n",
      "Moviepy - Building video D:\\Documents\\Trabajo\\megaproyecto_model\\data/asl_preprocessing/speed_output.mp4.\n",
      "MoviePy - Writing audio in speed_outputTEMP_MPY_wvf_snd.mp3\n"
     ]
    },
    {
     "name": "stderr",
     "output_type": "stream",
     "text": [
      "                                                       \r"
     ]
    },
    {
     "name": "stdout",
     "output_type": "stream",
     "text": [
      "MoviePy - Done.\n",
      "Moviepy - Writing video D:\\Documents\\Trabajo\\megaproyecto_model\\data/asl_preprocessing/speed_output.mp4\n",
      "\n"
     ]
    },
    {
     "name": "stderr",
     "output_type": "stream",
     "text": [
      "                                                            \r"
     ]
    },
    {
     "name": "stdout",
     "output_type": "stream",
     "text": [
      "Moviepy - Done !\n",
      "Moviepy - video ready D:\\Documents\\Trabajo\\megaproyecto_model\\data/asl_preprocessing/speed_output.mp4\n",
      "--------------------\n",
      "FPS:  30  VIDEO DURATION:  1.3\n",
      "--------------------\n",
      "Moviepy - Building video D:\\Documents\\Trabajo\\megaproyecto_model\\data/asl_preprocessing/speed_output.mp4.\n",
      "MoviePy - Writing audio in speed_outputTEMP_MPY_wvf_snd.mp3\n"
     ]
    },
    {
     "name": "stderr",
     "output_type": "stream",
     "text": [
      "                                                       \r"
     ]
    },
    {
     "name": "stdout",
     "output_type": "stream",
     "text": [
      "MoviePy - Done.\n",
      "Moviepy - Writing video D:\\Documents\\Trabajo\\megaproyecto_model\\data/asl_preprocessing/speed_output.mp4\n",
      "\n"
     ]
    },
    {
     "name": "stderr",
     "output_type": "stream",
     "text": [
      "                                                            \r"
     ]
    },
    {
     "name": "stdout",
     "output_type": "stream",
     "text": [
      "Moviepy - Done !\n",
      "Moviepy - video ready D:\\Documents\\Trabajo\\megaproyecto_model\\data/asl_preprocessing/speed_output.mp4\n",
      "--------------------\n",
      "FPS:  30  VIDEO DURATION:  1.1\n",
      "--------------------\n",
      "Moviepy - Building video D:\\Documents\\Trabajo\\megaproyecto_model\\data/asl_preprocessing/speed_output.mp4.\n",
      "MoviePy - Writing audio in speed_outputTEMP_MPY_wvf_snd.mp3\n"
     ]
    },
    {
     "name": "stderr",
     "output_type": "stream",
     "text": [
      "                                                       \r"
     ]
    },
    {
     "name": "stdout",
     "output_type": "stream",
     "text": [
      "MoviePy - Done.\n",
      "Moviepy - Writing video D:\\Documents\\Trabajo\\megaproyecto_model\\data/asl_preprocessing/speed_output.mp4\n",
      "\n"
     ]
    },
    {
     "name": "stderr",
     "output_type": "stream",
     "text": [
      "                                                            \r"
     ]
    },
    {
     "name": "stdout",
     "output_type": "stream",
     "text": [
      "Moviepy - Done !\n",
      "Moviepy - video ready D:\\Documents\\Trabajo\\megaproyecto_model\\data/asl_preprocessing/speed_output.mp4\n",
      "--------------------\n",
      "FPS:  30  VIDEO DURATION:  1.1666666666666667\n",
      "--------------------\n",
      "Moviepy - Building video D:\\Documents\\Trabajo\\megaproyecto_model\\data/asl_preprocessing/speed_output.mp4.\n",
      "MoviePy - Writing audio in speed_outputTEMP_MPY_wvf_snd.mp3\n"
     ]
    },
    {
     "name": "stderr",
     "output_type": "stream",
     "text": [
      "                                                       \r"
     ]
    },
    {
     "name": "stdout",
     "output_type": "stream",
     "text": [
      "MoviePy - Done.\n",
      "Moviepy - Writing video D:\\Documents\\Trabajo\\megaproyecto_model\\data/asl_preprocessing/speed_output.mp4\n",
      "\n"
     ]
    },
    {
     "name": "stderr",
     "output_type": "stream",
     "text": [
      "                                                              \r"
     ]
    },
    {
     "name": "stdout",
     "output_type": "stream",
     "text": [
      "Moviepy - Done !\n",
      "Moviepy - video ready D:\\Documents\\Trabajo\\megaproyecto_model\\data/asl_preprocessing/speed_output.mp4\n",
      "--------------------\n",
      "FPS:  30  VIDEO DURATION:  2.0\n",
      "--------------------\n",
      "Moviepy - Building video D:\\Documents\\Trabajo\\megaproyecto_model\\data/asl_preprocessing/speed_output.mp4.\n",
      "MoviePy - Writing audio in speed_outputTEMP_MPY_wvf_snd.mp3\n"
     ]
    },
    {
     "name": "stderr",
     "output_type": "stream",
     "text": [
      "                                                       \r"
     ]
    },
    {
     "name": "stdout",
     "output_type": "stream",
     "text": [
      "MoviePy - Done.\n",
      "Moviepy - Writing video D:\\Documents\\Trabajo\\megaproyecto_model\\data/asl_preprocessing/speed_output.mp4\n",
      "\n"
     ]
    },
    {
     "name": "stderr",
     "output_type": "stream",
     "text": [
      "                                                            \r"
     ]
    },
    {
     "name": "stdout",
     "output_type": "stream",
     "text": [
      "Moviepy - Done !\n",
      "Moviepy - video ready D:\\Documents\\Trabajo\\megaproyecto_model\\data/asl_preprocessing/speed_output.mp4\n",
      "--------------------\n",
      "FPS:  30  VIDEO DURATION:  1.2333333333333334\n",
      "--------------------\n",
      "Moviepy - Building video D:\\Documents\\Trabajo\\megaproyecto_model\\data/asl_preprocessing/speed_output.mp4.\n",
      "MoviePy - Writing audio in speed_outputTEMP_MPY_wvf_snd.mp3\n"
     ]
    },
    {
     "name": "stderr",
     "output_type": "stream",
     "text": [
      "                                                       \r"
     ]
    },
    {
     "name": "stdout",
     "output_type": "stream",
     "text": [
      "MoviePy - Done.\n",
      "Moviepy - Writing video D:\\Documents\\Trabajo\\megaproyecto_model\\data/asl_preprocessing/speed_output.mp4\n",
      "\n"
     ]
    },
    {
     "name": "stderr",
     "output_type": "stream",
     "text": [
      "                                                            \r"
     ]
    },
    {
     "name": "stdout",
     "output_type": "stream",
     "text": [
      "Moviepy - Done !\n",
      "Moviepy - video ready D:\\Documents\\Trabajo\\megaproyecto_model\\data/asl_preprocessing/speed_output.mp4\n",
      "--------------------\n",
      "FPS:  30  VIDEO DURATION:  1.2\n",
      "--------------------\n",
      "Moviepy - Building video D:\\Documents\\Trabajo\\megaproyecto_model\\data/asl_preprocessing/speed_output.mp4.\n",
      "MoviePy - Writing audio in speed_outputTEMP_MPY_wvf_snd.mp3\n"
     ]
    },
    {
     "name": "stderr",
     "output_type": "stream",
     "text": [
      "                                                       \r"
     ]
    },
    {
     "name": "stdout",
     "output_type": "stream",
     "text": [
      "MoviePy - Done.\n",
      "Moviepy - Writing video D:\\Documents\\Trabajo\\megaproyecto_model\\data/asl_preprocessing/speed_output.mp4\n",
      "\n"
     ]
    },
    {
     "name": "stderr",
     "output_type": "stream",
     "text": [
      "                                                            \r"
     ]
    },
    {
     "name": "stdout",
     "output_type": "stream",
     "text": [
      "Moviepy - Done !\n",
      "Moviepy - video ready D:\\Documents\\Trabajo\\megaproyecto_model\\data/asl_preprocessing/speed_output.mp4\n",
      "--------------------\n",
      "FPS:  30  VIDEO DURATION:  1.0333333333333334\n",
      "--------------------\n",
      "Moviepy - Building video D:\\Documents\\Trabajo\\megaproyecto_model\\data/asl_preprocessing/speed_output.mp4.\n",
      "MoviePy - Writing audio in speed_outputTEMP_MPY_wvf_snd.mp3\n"
     ]
    },
    {
     "name": "stderr",
     "output_type": "stream",
     "text": [
      "                                                       \r"
     ]
    },
    {
     "name": "stdout",
     "output_type": "stream",
     "text": [
      "MoviePy - Done.\n",
      "Moviepy - Writing video D:\\Documents\\Trabajo\\megaproyecto_model\\data/asl_preprocessing/speed_output.mp4\n",
      "\n"
     ]
    },
    {
     "name": "stderr",
     "output_type": "stream",
     "text": [
      "                                                            \r"
     ]
    },
    {
     "name": "stdout",
     "output_type": "stream",
     "text": [
      "Moviepy - Done !\n",
      "Moviepy - video ready D:\\Documents\\Trabajo\\megaproyecto_model\\data/asl_preprocessing/speed_output.mp4\n",
      "--------------------\n",
      "FPS:  30  VIDEO DURATION:  1.2\n",
      "--------------------\n",
      "Moviepy - Building video D:\\Documents\\Trabajo\\megaproyecto_model\\data/asl_preprocessing/speed_output.mp4.\n",
      "MoviePy - Writing audio in speed_outputTEMP_MPY_wvf_snd.mp3\n"
     ]
    },
    {
     "name": "stderr",
     "output_type": "stream",
     "text": [
      "                                                       \r"
     ]
    },
    {
     "name": "stdout",
     "output_type": "stream",
     "text": [
      "MoviePy - Done.\n",
      "Moviepy - Writing video D:\\Documents\\Trabajo\\megaproyecto_model\\data/asl_preprocessing/speed_output.mp4\n",
      "\n"
     ]
    },
    {
     "name": "stderr",
     "output_type": "stream",
     "text": [
      "                                                            \r"
     ]
    },
    {
     "name": "stdout",
     "output_type": "stream",
     "text": [
      "Moviepy - Done !\n",
      "Moviepy - video ready D:\\Documents\\Trabajo\\megaproyecto_model\\data/asl_preprocessing/speed_output.mp4\n",
      "--------------------\n",
      "FPS:  30  VIDEO DURATION:  1.2666666666666666\n",
      "--------------------\n",
      "Moviepy - Building video D:\\Documents\\Trabajo\\megaproyecto_model\\data/asl_preprocessing/speed_output.mp4.\n",
      "MoviePy - Writing audio in speed_outputTEMP_MPY_wvf_snd.mp3\n"
     ]
    },
    {
     "name": "stderr",
     "output_type": "stream",
     "text": [
      "                                                       \r"
     ]
    },
    {
     "name": "stdout",
     "output_type": "stream",
     "text": [
      "MoviePy - Done.\n",
      "Moviepy - Writing video D:\\Documents\\Trabajo\\megaproyecto_model\\data/asl_preprocessing/speed_output.mp4\n",
      "\n"
     ]
    },
    {
     "name": "stderr",
     "output_type": "stream",
     "text": [
      "                                                            \r"
     ]
    },
    {
     "name": "stdout",
     "output_type": "stream",
     "text": [
      "Moviepy - Done !\n",
      "Moviepy - video ready D:\\Documents\\Trabajo\\megaproyecto_model\\data/asl_preprocessing/speed_output.mp4\n",
      "--------------------\n",
      "FPS:  30  VIDEO DURATION:  0.9666666666666667\n",
      "--------------------\n",
      "Moviepy - Building video D:\\Documents\\Trabajo\\megaproyecto_model\\data/asl_preprocessing/speed_output.mp4.\n",
      "MoviePy - Writing audio in speed_outputTEMP_MPY_wvf_snd.mp3\n"
     ]
    },
    {
     "name": "stderr",
     "output_type": "stream",
     "text": [
      "                                                       \r"
     ]
    },
    {
     "name": "stdout",
     "output_type": "stream",
     "text": [
      "MoviePy - Done.\n",
      "Moviepy - Writing video D:\\Documents\\Trabajo\\megaproyecto_model\\data/asl_preprocessing/speed_output.mp4\n",
      "\n"
     ]
    },
    {
     "name": "stderr",
     "output_type": "stream",
     "text": [
      "                                                            \r"
     ]
    },
    {
     "name": "stdout",
     "output_type": "stream",
     "text": [
      "Moviepy - Done !\n",
      "Moviepy - video ready D:\\Documents\\Trabajo\\megaproyecto_model\\data/asl_preprocessing/speed_output.mp4\n",
      "--------------------\n",
      "FPS:  30  VIDEO DURATION:  0.8333333333333334\n",
      "--------------------\n",
      "Moviepy - Building video D:\\Documents\\Trabajo\\megaproyecto_model\\data/asl_preprocessing/speed_output.mp4.\n",
      "MoviePy - Writing audio in speed_outputTEMP_MPY_wvf_snd.mp3\n"
     ]
    },
    {
     "name": "stderr",
     "output_type": "stream",
     "text": [
      "                                                       \r"
     ]
    },
    {
     "name": "stdout",
     "output_type": "stream",
     "text": [
      "MoviePy - Done.\n",
      "Moviepy - Writing video D:\\Documents\\Trabajo\\megaproyecto_model\\data/asl_preprocessing/speed_output.mp4\n",
      "\n"
     ]
    },
    {
     "name": "stderr",
     "output_type": "stream",
     "text": [
      "                                                            \r"
     ]
    },
    {
     "name": "stdout",
     "output_type": "stream",
     "text": [
      "Moviepy - Done !\n",
      "Moviepy - video ready D:\\Documents\\Trabajo\\megaproyecto_model\\data/asl_preprocessing/speed_output.mp4\n",
      "--------------------\n",
      "FPS:  30  VIDEO DURATION:  1.3333333333333333\n",
      "--------------------\n",
      "Moviepy - Building video D:\\Documents\\Trabajo\\megaproyecto_model\\data/asl_preprocessing/speed_output.mp4.\n",
      "MoviePy - Writing audio in speed_outputTEMP_MPY_wvf_snd.mp3\n"
     ]
    },
    {
     "name": "stderr",
     "output_type": "stream",
     "text": [
      "                                                       \r"
     ]
    },
    {
     "name": "stdout",
     "output_type": "stream",
     "text": [
      "MoviePy - Done.\n",
      "Moviepy - Writing video D:\\Documents\\Trabajo\\megaproyecto_model\\data/asl_preprocessing/speed_output.mp4\n",
      "\n"
     ]
    },
    {
     "name": "stderr",
     "output_type": "stream",
     "text": [
      "                                                            \r"
     ]
    },
    {
     "name": "stdout",
     "output_type": "stream",
     "text": [
      "Moviepy - Done !\n",
      "Moviepy - video ready D:\\Documents\\Trabajo\\megaproyecto_model\\data/asl_preprocessing/speed_output.mp4\n",
      "--------------------\n",
      "FPS:  30  VIDEO DURATION:  1.0333333333333334\n",
      "--------------------\n",
      "Moviepy - Building video D:\\Documents\\Trabajo\\megaproyecto_model\\data/asl_preprocessing/speed_output.mp4.\n",
      "MoviePy - Writing audio in speed_outputTEMP_MPY_wvf_snd.mp3\n"
     ]
    },
    {
     "name": "stderr",
     "output_type": "stream",
     "text": [
      "                                                               \r"
     ]
    },
    {
     "name": "stdout",
     "output_type": "stream",
     "text": [
      "MoviePy - Done.\n",
      "Moviepy - Writing video D:\\Documents\\Trabajo\\megaproyecto_model\\data/asl_preprocessing/speed_output.mp4\n",
      "\n"
     ]
    },
    {
     "name": "stderr",
     "output_type": "stream",
     "text": [
      "                                                            \r"
     ]
    },
    {
     "name": "stdout",
     "output_type": "stream",
     "text": [
      "Moviepy - Done !\n",
      "Moviepy - video ready D:\\Documents\\Trabajo\\megaproyecto_model\\data/asl_preprocessing/speed_output.mp4\n",
      "--------------------\n",
      "FPS:  30  VIDEO DURATION:  0.9333333333333333\n",
      "--------------------\n",
      "Moviepy - Building video D:\\Documents\\Trabajo\\megaproyecto_model\\data/asl_preprocessing/speed_output.mp4.\n",
      "MoviePy - Writing audio in speed_outputTEMP_MPY_wvf_snd.mp3\n"
     ]
    },
    {
     "name": "stderr",
     "output_type": "stream",
     "text": [
      "                                                       \r"
     ]
    },
    {
     "name": "stdout",
     "output_type": "stream",
     "text": [
      "MoviePy - Done.\n",
      "Moviepy - Writing video D:\\Documents\\Trabajo\\megaproyecto_model\\data/asl_preprocessing/speed_output.mp4\n",
      "\n"
     ]
    },
    {
     "name": "stderr",
     "output_type": "stream",
     "text": [
      "                                                            \r"
     ]
    },
    {
     "name": "stdout",
     "output_type": "stream",
     "text": [
      "Moviepy - Done !\n",
      "Moviepy - video ready D:\\Documents\\Trabajo\\megaproyecto_model\\data/asl_preprocessing/speed_output.mp4\n",
      "--------------------\n",
      "FPS:  30  VIDEO DURATION:  1.0\n",
      "--------------------\n",
      "Moviepy - Building video D:\\Documents\\Trabajo\\megaproyecto_model\\data/asl_preprocessing/speed_output.mp4.\n",
      "MoviePy - Writing audio in speed_outputTEMP_MPY_wvf_snd.mp3\n"
     ]
    },
    {
     "name": "stderr",
     "output_type": "stream",
     "text": [
      "                                                       \r"
     ]
    },
    {
     "name": "stdout",
     "output_type": "stream",
     "text": [
      "MoviePy - Done.\n",
      "Moviepy - Writing video D:\\Documents\\Trabajo\\megaproyecto_model\\data/asl_preprocessing/speed_output.mp4\n",
      "\n"
     ]
    },
    {
     "name": "stderr",
     "output_type": "stream",
     "text": [
      "                                                            \r"
     ]
    },
    {
     "name": "stdout",
     "output_type": "stream",
     "text": [
      "Moviepy - Done !\n",
      "Moviepy - video ready D:\\Documents\\Trabajo\\megaproyecto_model\\data/asl_preprocessing/speed_output.mp4\n",
      "--------------------\n",
      "FPS:  30  VIDEO DURATION:  1.0\n",
      "--------------------\n",
      "Moviepy - Building video D:\\Documents\\Trabajo\\megaproyecto_model\\data/asl_preprocessing/speed_output.mp4.\n",
      "MoviePy - Writing audio in speed_outputTEMP_MPY_wvf_snd.mp3\n"
     ]
    },
    {
     "name": "stderr",
     "output_type": "stream",
     "text": [
      "                                                       \r"
     ]
    },
    {
     "name": "stdout",
     "output_type": "stream",
     "text": [
      "MoviePy - Done.\n",
      "Moviepy - Writing video D:\\Documents\\Trabajo\\megaproyecto_model\\data/asl_preprocessing/speed_output.mp4\n",
      "\n"
     ]
    },
    {
     "name": "stderr",
     "output_type": "stream",
     "text": [
      "                                                            \r"
     ]
    },
    {
     "name": "stdout",
     "output_type": "stream",
     "text": [
      "Moviepy - Done !\n",
      "Moviepy - video ready D:\\Documents\\Trabajo\\megaproyecto_model\\data/asl_preprocessing/speed_output.mp4\n",
      "--------------------\n",
      "FPS:  30  VIDEO DURATION:  1.2\n",
      "--------------------\n"
     ]
    }
   ],
   "source": [
    "import glob, os\n",
    "import time\n",
    "os.chdir(\"D:\\Documents\\Trabajo\\megaproyecto_model\\data/asl_videos\")\n",
    "\n",
    "sequence_id = 0\n",
    "for file in glob.glob(\"*.mp4\"):\n",
    "    sequence_id += 1\n",
    "    name = \" \".join(file.split(\" \")[:-1])\n",
    "\n",
    "    input_path = f'D:\\Documents\\Trabajo\\megaproyecto_model\\data/asl_videos/{file}'\n",
    "\n",
    "\n",
    "    output_path_r = 'D:\\Documents\\Trabajo\\megaproyecto_model\\data/asl_preprocessing/resized_output.mp4'\n",
    "    output_path_f = 'D:\\Documents\\Trabajo\\megaproyecto_model\\data/asl_preprocessing/fps_output.mp4'\n",
    "    output_path_s = 'D:\\Documents\\Trabajo\\megaproyecto_model\\data/asl_preprocessing/speed_output.mp4'\n",
    "\n",
    "    target_width = 640\n",
    "    target_height = 360\n",
    "    desired_fps = 30\n",
    "\n",
    "    speed_up_video_larger(input_path, output_path_s, speed_factor)\n",
    "    resize_video(output_path_s, output_path_r, target_width, target_height)\n",
    "    change_fps(output_path_r, output_path_f, desired_fps)\n",
    "\n",
    "    extract_video(output_path_f, name, sequence_id, target_width, target_height)"
   ]
  },
  {
   "cell_type": "code",
   "execution_count": 10,
   "metadata": {},
   "outputs": [],
   "source": [
    "df = pd.DataFrame(frames)"
   ]
  },
  {
   "cell_type": "code",
   "execution_count": 11,
   "metadata": {},
   "outputs": [],
   "source": [
    "df['sequence_id'] = df['sequence_id'].astype(int)"
   ]
  },
  {
   "cell_type": "code",
   "execution_count": 12,
   "metadata": {},
   "outputs": [
    {
     "data": {
      "text/plain": [
       "8950"
      ]
     },
     "execution_count": 12,
     "metadata": {},
     "output_type": "execute_result"
    }
   ],
   "source": [
    "len(df)"
   ]
  },
  {
   "cell_type": "code",
   "execution_count": 13,
   "metadata": {},
   "outputs": [
    {
     "data": {
      "text/html": [
       "<div>\n",
       "<style scoped>\n",
       "    .dataframe tbody tr th:only-of-type {\n",
       "        vertical-align: middle;\n",
       "    }\n",
       "\n",
       "    .dataframe tbody tr th {\n",
       "        vertical-align: top;\n",
       "    }\n",
       "\n",
       "    .dataframe thead th {\n",
       "        text-align: right;\n",
       "    }\n",
       "</style>\n",
       "<table border=\"1\" class=\"dataframe\">\n",
       "  <thead>\n",
       "    <tr style=\"text-align: right;\">\n",
       "      <th></th>\n",
       "      <th>sequence_id</th>\n",
       "      <th>target</th>\n",
       "      <th>x_Left_hand_0</th>\n",
       "      <th>y_Left_hand_0</th>\n",
       "      <th>x_Left_hand_1</th>\n",
       "      <th>y_Left_hand_1</th>\n",
       "      <th>x_Left_hand_2</th>\n",
       "      <th>y_Left_hand_2</th>\n",
       "      <th>x_Left_hand_3</th>\n",
       "      <th>y_Left_hand_3</th>\n",
       "      <th>...</th>\n",
       "      <th>x_Right_hand_16</th>\n",
       "      <th>y_Right_hand_16</th>\n",
       "      <th>x_Right_hand_17</th>\n",
       "      <th>y_Right_hand_17</th>\n",
       "      <th>x_Right_hand_18</th>\n",
       "      <th>y_Right_hand_18</th>\n",
       "      <th>x_Right_hand_19</th>\n",
       "      <th>y_Right_hand_19</th>\n",
       "      <th>x_Right_hand_20</th>\n",
       "      <th>y_Right_hand_20</th>\n",
       "    </tr>\n",
       "  </thead>\n",
       "  <tbody>\n",
       "    <tr>\n",
       "      <th>0</th>\n",
       "      <td>1</td>\n",
       "      <td>bathroom</td>\n",
       "      <td>0.265447</td>\n",
       "      <td>0.474239</td>\n",
       "      <td>0.290252</td>\n",
       "      <td>0.441311</td>\n",
       "      <td>0.305287</td>\n",
       "      <td>0.405506</td>\n",
       "      <td>0.309431</td>\n",
       "      <td>0.372621</td>\n",
       "      <td>...</td>\n",
       "      <td>NaN</td>\n",
       "      <td>NaN</td>\n",
       "      <td>NaN</td>\n",
       "      <td>NaN</td>\n",
       "      <td>NaN</td>\n",
       "      <td>NaN</td>\n",
       "      <td>NaN</td>\n",
       "      <td>NaN</td>\n",
       "      <td>NaN</td>\n",
       "      <td>NaN</td>\n",
       "    </tr>\n",
       "    <tr>\n",
       "      <th>1</th>\n",
       "      <td>1</td>\n",
       "      <td>bathroom</td>\n",
       "      <td>0.261486</td>\n",
       "      <td>0.448284</td>\n",
       "      <td>0.283510</td>\n",
       "      <td>0.412658</td>\n",
       "      <td>0.292817</td>\n",
       "      <td>0.370035</td>\n",
       "      <td>0.290641</td>\n",
       "      <td>0.334303</td>\n",
       "      <td>...</td>\n",
       "      <td>NaN</td>\n",
       "      <td>NaN</td>\n",
       "      <td>NaN</td>\n",
       "      <td>NaN</td>\n",
       "      <td>NaN</td>\n",
       "      <td>NaN</td>\n",
       "      <td>NaN</td>\n",
       "      <td>NaN</td>\n",
       "      <td>NaN</td>\n",
       "      <td>NaN</td>\n",
       "    </tr>\n",
       "    <tr>\n",
       "      <th>2</th>\n",
       "      <td>1</td>\n",
       "      <td>bathroom</td>\n",
       "      <td>0.260146</td>\n",
       "      <td>0.429222</td>\n",
       "      <td>0.277865</td>\n",
       "      <td>0.388216</td>\n",
       "      <td>0.282158</td>\n",
       "      <td>0.344853</td>\n",
       "      <td>0.276773</td>\n",
       "      <td>0.310717</td>\n",
       "      <td>...</td>\n",
       "      <td>NaN</td>\n",
       "      <td>NaN</td>\n",
       "      <td>NaN</td>\n",
       "      <td>NaN</td>\n",
       "      <td>NaN</td>\n",
       "      <td>NaN</td>\n",
       "      <td>NaN</td>\n",
       "      <td>NaN</td>\n",
       "      <td>NaN</td>\n",
       "      <td>NaN</td>\n",
       "    </tr>\n",
       "    <tr>\n",
       "      <th>3</th>\n",
       "      <td>1</td>\n",
       "      <td>bathroom</td>\n",
       "      <td>0.262401</td>\n",
       "      <td>0.420721</td>\n",
       "      <td>0.274276</td>\n",
       "      <td>0.374675</td>\n",
       "      <td>0.273511</td>\n",
       "      <td>0.331812</td>\n",
       "      <td>0.265531</td>\n",
       "      <td>0.300877</td>\n",
       "      <td>...</td>\n",
       "      <td>NaN</td>\n",
       "      <td>NaN</td>\n",
       "      <td>NaN</td>\n",
       "      <td>NaN</td>\n",
       "      <td>NaN</td>\n",
       "      <td>NaN</td>\n",
       "      <td>NaN</td>\n",
       "      <td>NaN</td>\n",
       "      <td>NaN</td>\n",
       "      <td>NaN</td>\n",
       "    </tr>\n",
       "    <tr>\n",
       "      <th>4</th>\n",
       "      <td>1</td>\n",
       "      <td>bathroom</td>\n",
       "      <td>0.268579</td>\n",
       "      <td>0.414869</td>\n",
       "      <td>0.273348</td>\n",
       "      <td>0.369737</td>\n",
       "      <td>0.266685</td>\n",
       "      <td>0.331563</td>\n",
       "      <td>0.256571</td>\n",
       "      <td>0.304999</td>\n",
       "      <td>...</td>\n",
       "      <td>NaN</td>\n",
       "      <td>NaN</td>\n",
       "      <td>NaN</td>\n",
       "      <td>NaN</td>\n",
       "      <td>NaN</td>\n",
       "      <td>NaN</td>\n",
       "      <td>NaN</td>\n",
       "      <td>NaN</td>\n",
       "      <td>NaN</td>\n",
       "      <td>NaN</td>\n",
       "    </tr>\n",
       "  </tbody>\n",
       "</table>\n",
       "<p>5 rows × 86 columns</p>\n",
       "</div>"
      ],
      "text/plain": [
       "   sequence_id    target  x_Left_hand_0  y_Left_hand_0  x_Left_hand_1  \\\n",
       "0            1  bathroom       0.265447       0.474239       0.290252   \n",
       "1            1  bathroom       0.261486       0.448284       0.283510   \n",
       "2            1  bathroom       0.260146       0.429222       0.277865   \n",
       "3            1  bathroom       0.262401       0.420721       0.274276   \n",
       "4            1  bathroom       0.268579       0.414869       0.273348   \n",
       "\n",
       "   y_Left_hand_1  x_Left_hand_2  y_Left_hand_2  x_Left_hand_3  y_Left_hand_3  \\\n",
       "0       0.441311       0.305287       0.405506       0.309431       0.372621   \n",
       "1       0.412658       0.292817       0.370035       0.290641       0.334303   \n",
       "2       0.388216       0.282158       0.344853       0.276773       0.310717   \n",
       "3       0.374675       0.273511       0.331812       0.265531       0.300877   \n",
       "4       0.369737       0.266685       0.331563       0.256571       0.304999   \n",
       "\n",
       "   ...  x_Right_hand_16  y_Right_hand_16  x_Right_hand_17  y_Right_hand_17  \\\n",
       "0  ...              NaN              NaN              NaN              NaN   \n",
       "1  ...              NaN              NaN              NaN              NaN   \n",
       "2  ...              NaN              NaN              NaN              NaN   \n",
       "3  ...              NaN              NaN              NaN              NaN   \n",
       "4  ...              NaN              NaN              NaN              NaN   \n",
       "\n",
       "   x_Right_hand_18  y_Right_hand_18  x_Right_hand_19  y_Right_hand_19  \\\n",
       "0              NaN              NaN              NaN              NaN   \n",
       "1              NaN              NaN              NaN              NaN   \n",
       "2              NaN              NaN              NaN              NaN   \n",
       "3              NaN              NaN              NaN              NaN   \n",
       "4              NaN              NaN              NaN              NaN   \n",
       "\n",
       "   x_Right_hand_20  y_Right_hand_20  \n",
       "0              NaN              NaN  \n",
       "1              NaN              NaN  \n",
       "2              NaN              NaN  \n",
       "3              NaN              NaN  \n",
       "4              NaN              NaN  \n",
       "\n",
       "[5 rows x 86 columns]"
      ]
     },
     "execution_count": 13,
     "metadata": {},
     "output_type": "execute_result"
    }
   ],
   "source": [
    "df.head()"
   ]
  },
  {
   "cell_type": "code",
   "execution_count": 14,
   "metadata": {},
   "outputs": [],
   "source": [
    "dir_data = \"D:\\Documents\\Trabajo\\megaproyecto_model\" + \"/data.csv\"\n",
    "df.to_csv(dir_data, index=False)"
   ]
  },
  {
   "cell_type": "code",
   "execution_count": 15,
   "metadata": {},
   "outputs": [],
   "source": [
    "validation_path = \"D:\\Documents\\Trabajo\\megaproyecto_model\" + \"/validation.csv\"\n",
    "\n",
    "import random\n",
    "grouped = df.groupby('target')\n",
    "selected_validation_ids = []\n",
    "for group_name, group_indices in grouped.groups.items():\n",
    "    ids = list(set(df.loc[group_indices]['sequence_id'].values))\n",
    "    if (len(ids) < 0):\n",
    "        raise (\"Error\")\n",
    "    selected_validation_ids.append(random.choice(ids))\n",
    "\n",
    "validation_df = df[df['sequence_id'].isin(selected_validation_ids)][[\"sequence_id\", \"target\"]]\n",
    "validation_df.to_csv(validation_path, index=False)"
   ]
  },
  {
   "cell_type": "code",
   "execution_count": 16,
   "metadata": {},
   "outputs": [],
   "source": [
    "train_path = \"D:\\Documents\\Trabajo\\megaproyecto_model\" + \"/train.csv\"\n",
    "train_df = df[~df['sequence_id'].isin(selected_validation_ids)][[\"sequence_id\", \"target\"]]\n",
    "train_df.to_csv(train_path, index=False)"
   ]
  }
 ],
 "metadata": {
  "kernelspec": {
   "display_name": "Python 3",
   "language": "python",
   "name": "python3"
  },
  "language_info": {
   "codemirror_mode": {
    "name": "ipython",
    "version": 3
   },
   "file_extension": ".py",
   "mimetype": "text/x-python",
   "name": "python",
   "nbconvert_exporter": "python",
   "pygments_lexer": "ipython3",
   "version": "3.7.0"
  },
  "orig_nbformat": 4
 },
 "nbformat": 4,
 "nbformat_minor": 2
}
