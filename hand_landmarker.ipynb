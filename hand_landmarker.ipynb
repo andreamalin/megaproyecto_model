{
 "cells": [
  {
   "cell_type": "code",
   "execution_count": 1,
   "metadata": {},
   "outputs": [
    {
     "name": "stderr",
     "output_type": "stream",
     "text": [
      "INFO: Created TensorFlow Lite XNNPACK delegate for CPU.\n"
     ]
    }
   ],
   "source": [
    "from Mediapipe import MediapipeHands\n",
    "import pandas as pd\n",
    "import os\n",
    "\n",
    "initial_dir = os.getcwd()"
   ]
  },
  {
   "cell_type": "code",
   "execution_count": 2,
   "metadata": {},
   "outputs": [],
   "source": [
    "mediapipeHands = MediapipeHands()"
   ]
  },
  {
   "cell_type": "code",
   "execution_count": 3,
   "metadata": {},
   "outputs": [
    {
     "data": {
      "text/plain": [
       "0"
      ]
     },
     "execution_count": 3,
     "metadata": {},
     "output_type": "execute_result"
    }
   ],
   "source": [
    "initial_sequence_id = mediapipeHands.sequence_id\n",
    "initial_sequence_id"
   ]
  },
  {
   "cell_type": "code",
   "execution_count": 4,
   "metadata": {},
   "outputs": [
    {
     "name": "stdout",
     "output_type": "stream",
     "text": [
      "Hay 529 videos a extraer coordenadas\n"
     ]
    }
   ],
   "source": [
    "training_dir = f'{initial_dir}/data/asl_videos'\n",
    "mediapipeHands.extract_coordinates_from_dir(training_dir)"
   ]
  },
  {
   "cell_type": "code",
   "execution_count": null,
   "metadata": {},
   "outputs": [],
   "source": [
    "training_dir = f'{initial_dir}/data/videos_lensegua'\n",
    "mediapipeHands.extract_coordinates_from_dir(training_dir)"
   ]
  },
  {
   "cell_type": "code",
   "execution_count": null,
   "metadata": {},
   "outputs": [],
   "source": [
    "training_dir = f'{initial_dir}/data/videos_lensegua_2'\n",
    "mediapipeHands.extract_coordinates_from_dir(training_dir)"
   ]
  },
  {
   "cell_type": "code",
   "execution_count": 5,
   "metadata": {},
   "outputs": [
    {
     "name": "stdout",
     "output_type": "stream",
     "text": [
      "Hay 109 videos a extraer coordenadas\n"
     ]
    }
   ],
   "source": [
    "validation_dir = f'{initial_dir}/data/asl_val'\n",
    "mediapipeHands.extract_coordinates_from_dir(validation_dir, is_val=True)"
   ]
  },
  {
   "cell_type": "code",
   "execution_count": null,
   "metadata": {},
   "outputs": [],
   "source": [
    "validation_dir = f'{initial_dir}/data/videos_val_2'\n",
    "mediapipeHands.extract_coordinates_from_dir(validation_dir, is_val=True)"
   ]
  },
  {
   "cell_type": "code",
   "execution_count": null,
   "metadata": {},
   "outputs": [],
   "source": [
    "validation_dir = f'{initial_dir}/data/videos_val_3'\n",
    "mediapipeHands.extract_coordinates_from_dir(validation_dir, is_val=True)"
   ]
  },
  {
   "cell_type": "code",
   "execution_count": null,
   "metadata": {},
   "outputs": [],
   "source": [
    "validation_dir = f'{initial_dir}/data/videos_val_4'\n",
    "mediapipeHands.extract_coordinates_from_dir(validation_dir, is_val=True)"
   ]
  },
  {
   "cell_type": "code",
   "execution_count": 6,
   "metadata": {},
   "outputs": [],
   "source": [
    "df = mediapipeHands.get_padded_data()\n",
    "validation_sequence_ids = mediapipeHands.validation_sequence_ids"
   ]
  },
  {
   "cell_type": "code",
   "execution_count": 7,
   "metadata": {},
   "outputs": [
    {
     "data": {
      "text/plain": [
       "[428,\n",
       " 429,\n",
       " 430,\n",
       " 431,\n",
       " 432,\n",
       " 433,\n",
       " 434,\n",
       " 435,\n",
       " 436,\n",
       " 437,\n",
       " 438,\n",
       " 439,\n",
       " 440,\n",
       " 441,\n",
       " 442,\n",
       " 443,\n",
       " 444,\n",
       " 445,\n",
       " 446,\n",
       " 447,\n",
       " 448,\n",
       " 449,\n",
       " 450,\n",
       " 451,\n",
       " 452,\n",
       " 453,\n",
       " 454,\n",
       " 455,\n",
       " 456,\n",
       " 457,\n",
       " 458,\n",
       " 459,\n",
       " 460,\n",
       " 461,\n",
       " 462,\n",
       " 463,\n",
       " 464,\n",
       " 465,\n",
       " 466,\n",
       " 467,\n",
       " 468,\n",
       " 469,\n",
       " 470,\n",
       " 471,\n",
       " 472,\n",
       " 473,\n",
       " 474,\n",
       " 475,\n",
       " 476,\n",
       " 477,\n",
       " 478,\n",
       " 479,\n",
       " 480,\n",
       " 481,\n",
       " 482,\n",
       " 483,\n",
       " 484,\n",
       " 485,\n",
       " 486,\n",
       " 487,\n",
       " 488,\n",
       " 489,\n",
       " 490,\n",
       " 491,\n",
       " 492,\n",
       " 493,\n",
       " 494,\n",
       " 495,\n",
       " 496,\n",
       " 497,\n",
       " 498,\n",
       " 499,\n",
       " 500,\n",
       " 501,\n",
       " 502,\n",
       " 503,\n",
       " 504,\n",
       " 505,\n",
       " 506,\n",
       " 507,\n",
       " 508,\n",
       " 509,\n",
       " 510,\n",
       " 511,\n",
       " 512,\n",
       " 513]"
      ]
     },
     "execution_count": 7,
     "metadata": {},
     "output_type": "execute_result"
    }
   ],
   "source": [
    "validation_sequence_ids"
   ]
  },
  {
   "cell_type": "code",
   "execution_count": 8,
   "metadata": {},
   "outputs": [],
   "source": [
    "if (len(validation_sequence_ids) > 0):\n",
    "    validation_path = f'{initial_dir}/data/asl/validation.csv'\n",
    "    validation_df = df[df['sequence_id'].isin(validation_sequence_ids)][[\"sequence_id\", \"target\", \"file\"]]\n",
    "    \n",
    "    train_path = f'{initial_dir}/data/asl/train.csv'\n",
    "    train_df = df[~df['sequence_id'].isin(validation_sequence_ids)][[\"sequence_id\", \"target\", \"file\"]]\n",
    "    \n",
    "\n",
    "    if (initial_sequence_id != 0):\n",
    "        past_data = pd.read_csv(validation_path)\n",
    "        final_df = pd.concat([past_data, validation_df])\n",
    "        final_df.to_csv(validation_path, index=False)\n",
    "\n",
    "        past_data = pd.read_csv(train_path)\n",
    "        final_df = pd.concat([past_data, train_df])\n",
    "        final_df.to_csv(train_path, index=False)\n",
    "    else:\n",
    "        validation_df.to_csv(validation_path, index=False)\n",
    "        train_df.to_csv(train_path, index=False)"
   ]
  },
  {
   "cell_type": "code",
   "execution_count": 9,
   "metadata": {},
   "outputs": [],
   "source": [
    "data_path = f'{initial_dir}/data/asl/data.csv'\n",
    "df_final = df.drop(\"file\", axis=1)\n",
    "\n",
    "if (initial_sequence_id != 0):\n",
    "    past_data = pd.read_csv(data_path)\n",
    "    final_df = pd.concat([past_data, df_final])\n",
    "    final_df.to_csv(data_path, index=False)\n",
    "else:\n",
    "    df_final.to_csv(data_path, index=False)"
   ]
  },
  {
   "cell_type": "code",
   "execution_count": 10,
   "metadata": {},
   "outputs": [],
   "source": [
    "mediapipeHands = MediapipeHands()"
   ]
  },
  {
   "cell_type": "code",
   "execution_count": 11,
   "metadata": {},
   "outputs": [
    {
     "data": {
      "text/plain": [
       "0"
      ]
     },
     "execution_count": 11,
     "metadata": {},
     "output_type": "execute_result"
    }
   ],
   "source": [
    "initial_sequence_id = mediapipeHands.sequence_id\n",
    "initial_sequence_id"
   ]
  },
  {
   "cell_type": "code",
   "execution_count": 12,
   "metadata": {},
   "outputs": [
    {
     "name": "stdout",
     "output_type": "stream",
     "text": [
      "Hay 14 videos a extraer coordenadas\n"
     ]
    }
   ],
   "source": [
    "extra_val_dir = f'{initial_dir}/data/test videos asl'\n",
    "mediapipeHands.extract_coordinates_from_dir(extra_val_dir)\n",
    "\n",
    "df = mediapipeHands.get_padded_data()"
   ]
  },
  {
   "cell_type": "code",
   "execution_count": 13,
   "metadata": {},
   "outputs": [],
   "source": [
    "data_path = f'{initial_dir}/data/asl/data_tests.csv'\n",
    "\n",
    "if (initial_sequence_id != 0):\n",
    "    past_data = pd.read_csv(data_path)\n",
    "    final_df = pd.concat([past_data, df])\n",
    "    final_df.to_csv(data_path, index=False)\n",
    "else:\n",
    "    df.to_csv(data_path, index=False)"
   ]
  }
 ],
 "metadata": {
  "kernelspec": {
   "display_name": "Python 3.9.6 64-bit",
   "language": "python",
   "name": "python3"
  },
  "language_info": {
   "codemirror_mode": {
    "name": "ipython",
    "version": 3
   },
   "file_extension": ".py",
   "mimetype": "text/x-python",
   "name": "python",
   "nbconvert_exporter": "python",
   "pygments_lexer": "ipython3",
   "version": "3.9.6"
  },
  "orig_nbformat": 4,
  "vscode": {
   "interpreter": {
    "hash": "31f2aee4e71d21fbe5cf8b01ff0e069b9275f58929596ceb00d14d90e3e16cd6"
   }
  }
 },
 "nbformat": 4,
 "nbformat_minor": 2
}
