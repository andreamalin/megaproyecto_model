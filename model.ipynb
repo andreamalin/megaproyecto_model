{
 "cells": [
  {
   "cell_type": "code",
   "execution_count": 1,
   "metadata": {},
   "outputs": [
    {
     "name": "stderr",
     "output_type": "stream",
     "text": [
      "c:\\Users\\andre\\AppData\\Local\\Programs\\Python\\Python37\\lib\\site-packages\\tqdm\\auto.py:22: TqdmWarning: IProgress not found. Please update jupyter and ipywidgets. See https://ipywidgets.readthedocs.io/en/stable/user_install.html\n",
      "  from .autonotebook import tqdm as notebook_tqdm\n"
     ]
    }
   ],
   "source": [
    "import pandas as pd\n",
    "import numpy as np\n",
    "\n",
    "from sklearn.preprocessing import OneHotEncoder\n",
    "from sklearn.preprocessing import LabelEncoder\n",
    "from sklearn.utils import class_weight\n",
    "from sklearn.tree import DecisionTreeClassifier\n",
    "from sklearn.ensemble import AdaBoostClassifier\n",
    "from sklearn.svm import SVC\n",
    "from keras.layers import Flatten, Convolution2D, MaxPooling2D, Dropout\n",
    "\n",
    "import matplotlib.pyplot as plt\n",
    "import torch\n",
    "import tensorflow as tf"
   ]
  },
  {
   "cell_type": "code",
   "execution_count": 2,
   "metadata": {},
   "outputs": [],
   "source": [
    "import pickle\n",
    "\n",
    "def save_model(model_name, trained_model):\n",
    "    # save\n",
    "    with open(f'{model_name}.pkl','wb') as f:\n",
    "        pickle.dump(trained_model, f)\n",
    "\n",
    "def load_model(model_name):\n",
    "    # load\n",
    "    with open(f'{model_name}.pkl', 'rb') as f:\n",
    "        return pickle.load(f)"
   ]
  },
  {
   "cell_type": "code",
   "execution_count": 3,
   "metadata": {},
   "outputs": [],
   "source": [
    "import random\n",
    "\n",
    "random.seed(10)"
   ]
  },
  {
   "attachments": {},
   "cell_type": "markdown",
   "metadata": {},
   "source": [
    "# Carga de datos"
   ]
  },
  {
   "cell_type": "code",
   "execution_count": 4,
   "metadata": {},
   "outputs": [],
   "source": [
    "train_data = pd.read_csv(\"data/train.csv\")\n",
    "test_data = pd.read_csv(\"data/validation.csv\")"
   ]
  },
  {
   "cell_type": "code",
   "execution_count": 5,
   "metadata": {},
   "outputs": [
    {
     "data": {
      "text/html": [
       "<div>\n",
       "<style scoped>\n",
       "    .dataframe tbody tr th:only-of-type {\n",
       "        vertical-align: middle;\n",
       "    }\n",
       "\n",
       "    .dataframe tbody tr th {\n",
       "        vertical-align: top;\n",
       "    }\n",
       "\n",
       "    .dataframe thead th {\n",
       "        text-align: right;\n",
       "    }\n",
       "</style>\n",
       "<table border=\"1\" class=\"dataframe\">\n",
       "  <thead>\n",
       "    <tr style=\"text-align: right;\">\n",
       "      <th></th>\n",
       "      <th>sequence_id</th>\n",
       "      <th>target</th>\n",
       "      <th>file</th>\n",
       "    </tr>\n",
       "  </thead>\n",
       "  <tbody>\n",
       "    <tr>\n",
       "      <th>0</th>\n",
       "      <td>1</td>\n",
       "      <td>adios</td>\n",
       "      <td>/Users/andreaamaya/Trabajo/megaproyecto_model/...</td>\n",
       "    </tr>\n",
       "    <tr>\n",
       "      <th>1</th>\n",
       "      <td>1</td>\n",
       "      <td>adios</td>\n",
       "      <td>/Users/andreaamaya/Trabajo/megaproyecto_model/...</td>\n",
       "    </tr>\n",
       "    <tr>\n",
       "      <th>2</th>\n",
       "      <td>1</td>\n",
       "      <td>adios</td>\n",
       "      <td>/Users/andreaamaya/Trabajo/megaproyecto_model/...</td>\n",
       "    </tr>\n",
       "    <tr>\n",
       "      <th>3</th>\n",
       "      <td>1</td>\n",
       "      <td>adios</td>\n",
       "      <td>/Users/andreaamaya/Trabajo/megaproyecto_model/...</td>\n",
       "    </tr>\n",
       "    <tr>\n",
       "      <th>4</th>\n",
       "      <td>1</td>\n",
       "      <td>adios</td>\n",
       "      <td>/Users/andreaamaya/Trabajo/megaproyecto_model/...</td>\n",
       "    </tr>\n",
       "  </tbody>\n",
       "</table>\n",
       "</div>"
      ],
      "text/plain": [
       "   sequence_id target                                               file\n",
       "0            1  adios  /Users/andreaamaya/Trabajo/megaproyecto_model/...\n",
       "1            1  adios  /Users/andreaamaya/Trabajo/megaproyecto_model/...\n",
       "2            1  adios  /Users/andreaamaya/Trabajo/megaproyecto_model/...\n",
       "3            1  adios  /Users/andreaamaya/Trabajo/megaproyecto_model/...\n",
       "4            1  adios  /Users/andreaamaya/Trabajo/megaproyecto_model/..."
      ]
     },
     "execution_count": 5,
     "metadata": {},
     "output_type": "execute_result"
    }
   ],
   "source": [
    "train_data.head()"
   ]
  },
  {
   "attachments": {},
   "cell_type": "markdown",
   "metadata": {},
   "source": [
    "# Analisis Exploratorio"
   ]
  },
  {
   "cell_type": "code",
   "execution_count": 6,
   "metadata": {},
   "outputs": [
    {
     "name": "stdout",
     "output_type": "stream",
     "text": [
      "--------------------Train data--------------------\n",
      "Cantidad de filas : 9294\n",
      "Frases unicas : ['adios', 'amigo', 'amor', 'ayuda', 'bebida', 'casa', 'comida', 'dinero', 'enfado', 'entender', 'escuela', 'familia', 'feliz', 'gracias', 'hola', 'medico', 'necesitar', 'no', 'por favor', 'querer', 'salud', 'si', 'tiempo', 'trabajo', 'triste']\n"
     ]
    }
   ],
   "source": [
    "print(\"--------------------Train data--------------------\")\n",
    "print(f\"Cantidad de filas : {train_data.shape[0]}\")\n",
    "train_letters = list(train_data.target.unique())\n",
    "train_letters.sort()\n",
    "print(f\"Frases unicas : {train_letters}\")"
   ]
  },
  {
   "cell_type": "code",
   "execution_count": 7,
   "metadata": {},
   "outputs": [
    {
     "name": "stdout",
     "output_type": "stream",
     "text": [
      "--------------------Test data--------------------\n",
      "Cantidad de filas : 847\n",
      "Frases unicas : ['adios', 'amigo', 'amor', 'ayuda', 'bebida', 'casa', 'comida', 'dinero', 'enfado', 'entender', 'escuela', 'familia', 'feliz', 'gracias', 'hola', 'medico', 'necesitar', 'no', 'por favor', 'querer', 'salud', 'si', 'tiempo', 'trabajo', 'triste']\n"
     ]
    }
   ],
   "source": [
    "print(\"--------------------Test data--------------------\")\n",
    "print(f\"Cantidad de filas : {test_data.shape[0]}\")\n",
    "test_letters = list(test_data.target.unique())\n",
    "test_letters.sort()\n",
    "print(f\"Frases unicas : {test_letters}\")"
   ]
  },
  {
   "cell_type": "code",
   "execution_count": 8,
   "metadata": {},
   "outputs": [],
   "source": [
    "if (test_letters != train_letters):\n",
    "    raise ValueError(\"Error between target and train\")"
   ]
  },
  {
   "cell_type": "code",
   "execution_count": 9,
   "metadata": {},
   "outputs": [
    {
     "data": {
      "text/html": [
       "<div>\n",
       "<style scoped>\n",
       "    .dataframe tbody tr th:only-of-type {\n",
       "        vertical-align: middle;\n",
       "    }\n",
       "\n",
       "    .dataframe tbody tr th {\n",
       "        vertical-align: top;\n",
       "    }\n",
       "\n",
       "    .dataframe thead th {\n",
       "        text-align: right;\n",
       "    }\n",
       "</style>\n",
       "<table border=\"1\" class=\"dataframe\">\n",
       "  <thead>\n",
       "    <tr style=\"text-align: right;\">\n",
       "      <th></th>\n",
       "      <th>sequence_id</th>\n",
       "    </tr>\n",
       "  </thead>\n",
       "  <tbody>\n",
       "    <tr>\n",
       "      <th>count</th>\n",
       "      <td>9294.000000</td>\n",
       "    </tr>\n",
       "    <tr>\n",
       "      <th>mean</th>\n",
       "      <td>258.806004</td>\n",
       "    </tr>\n",
       "    <tr>\n",
       "      <th>std</th>\n",
       "      <td>160.078342</td>\n",
       "    </tr>\n",
       "    <tr>\n",
       "      <th>min</th>\n",
       "      <td>1.000000</td>\n",
       "    </tr>\n",
       "    <tr>\n",
       "      <th>25%</th>\n",
       "      <td>120.000000</td>\n",
       "    </tr>\n",
       "    <tr>\n",
       "      <th>50%</th>\n",
       "      <td>230.000000</td>\n",
       "    </tr>\n",
       "    <tr>\n",
       "      <th>75%</th>\n",
       "      <td>400.000000</td>\n",
       "    </tr>\n",
       "    <tr>\n",
       "      <th>max</th>\n",
       "      <td>546.000000</td>\n",
       "    </tr>\n",
       "  </tbody>\n",
       "</table>\n",
       "</div>"
      ],
      "text/plain": [
       "       sequence_id\n",
       "count  9294.000000\n",
       "mean    258.806004\n",
       "std     160.078342\n",
       "min       1.000000\n",
       "25%     120.000000\n",
       "50%     230.000000\n",
       "75%     400.000000\n",
       "max     546.000000"
      ]
     },
     "execution_count": 9,
     "metadata": {},
     "output_type": "execute_result"
    }
   ],
   "source": [
    "train_data.describe()"
   ]
  },
  {
   "attachments": {},
   "cell_type": "markdown",
   "metadata": {},
   "source": [
    "# Preprocesamiento del Modelo"
   ]
  },
  {
   "attachments": {},
   "cell_type": "markdown",
   "metadata": {},
   "source": [
    "Solo se obtienen 20 indices de las coordenadas x y y, ya que son las unicas que han sido altamente entrenadas del modelo mediapipe de Google"
   ]
  },
  {
   "cell_type": "code",
   "execution_count": 10,
   "metadata": {},
   "outputs": [],
   "source": [
    "def get_needed_cols():\n",
    "    cols = []\n",
    "\n",
    "    for i in range(21):\n",
    "        cols.append(f'x_Right_hand_{i}')\n",
    "        cols.append(f'y_Right_hand_{i}')\n",
    "        cols.append(f'x_Left_hand_{i}')\n",
    "        cols.append(f'y_Left_hand_{i}')\n",
    "    \n",
    "    return cols"
   ]
  },
  {
   "cell_type": "code",
   "execution_count": 11,
   "metadata": {},
   "outputs": [],
   "source": [
    "df = pd.read_csv(\"data/data.csv\")\n",
    "df_test = df[df['sequence_id'].isin(test_data['sequence_id'])]\n",
    "df_train = df[df['sequence_id'].isin(train_data['sequence_id'])]"
   ]
  },
  {
   "cell_type": "code",
   "execution_count": 12,
   "metadata": {},
   "outputs": [
    {
     "data": {
      "text/html": [
       "<div>\n",
       "<style scoped>\n",
       "    .dataframe tbody tr th:only-of-type {\n",
       "        vertical-align: middle;\n",
       "    }\n",
       "\n",
       "    .dataframe tbody tr th {\n",
       "        vertical-align: top;\n",
       "    }\n",
       "\n",
       "    .dataframe thead th {\n",
       "        text-align: right;\n",
       "    }\n",
       "</style>\n",
       "<table border=\"1\" class=\"dataframe\">\n",
       "  <thead>\n",
       "    <tr style=\"text-align: right;\">\n",
       "      <th></th>\n",
       "      <th>sequence_id</th>\n",
       "      <th>target</th>\n",
       "      <th>x_Left_hand_0</th>\n",
       "      <th>y_Left_hand_0</th>\n",
       "      <th>x_Left_hand_1</th>\n",
       "      <th>y_Left_hand_1</th>\n",
       "      <th>x_Left_hand_2</th>\n",
       "      <th>y_Left_hand_2</th>\n",
       "      <th>x_Left_hand_3</th>\n",
       "      <th>y_Left_hand_3</th>\n",
       "      <th>...</th>\n",
       "      <th>x_Right_hand_16</th>\n",
       "      <th>y_Right_hand_16</th>\n",
       "      <th>x_Right_hand_17</th>\n",
       "      <th>y_Right_hand_17</th>\n",
       "      <th>x_Right_hand_18</th>\n",
       "      <th>y_Right_hand_18</th>\n",
       "      <th>x_Right_hand_19</th>\n",
       "      <th>y_Right_hand_19</th>\n",
       "      <th>x_Right_hand_20</th>\n",
       "      <th>y_Right_hand_20</th>\n",
       "    </tr>\n",
       "  </thead>\n",
       "  <tbody>\n",
       "    <tr>\n",
       "      <th>0</th>\n",
       "      <td>1</td>\n",
       "      <td>adios</td>\n",
       "      <td>0.189560</td>\n",
       "      <td>0.0</td>\n",
       "      <td>0.689331</td>\n",
       "      <td>0.109569</td>\n",
       "      <td>0.907900</td>\n",
       "      <td>0.290353</td>\n",
       "      <td>0.937767</td>\n",
       "      <td>0.462094</td>\n",
       "      <td>...</td>\n",
       "      <td>0.0</td>\n",
       "      <td>0.0</td>\n",
       "      <td>0.0</td>\n",
       "      <td>0.0</td>\n",
       "      <td>0.0</td>\n",
       "      <td>0.0</td>\n",
       "      <td>0.0</td>\n",
       "      <td>0.0</td>\n",
       "      <td>0.0</td>\n",
       "      <td>0.0</td>\n",
       "    </tr>\n",
       "    <tr>\n",
       "      <th>1</th>\n",
       "      <td>1</td>\n",
       "      <td>adios</td>\n",
       "      <td>0.261204</td>\n",
       "      <td>0.0</td>\n",
       "      <td>0.673647</td>\n",
       "      <td>0.132535</td>\n",
       "      <td>0.875866</td>\n",
       "      <td>0.333381</td>\n",
       "      <td>0.931140</td>\n",
       "      <td>0.498942</td>\n",
       "      <td>...</td>\n",
       "      <td>0.0</td>\n",
       "      <td>0.0</td>\n",
       "      <td>0.0</td>\n",
       "      <td>0.0</td>\n",
       "      <td>0.0</td>\n",
       "      <td>0.0</td>\n",
       "      <td>0.0</td>\n",
       "      <td>0.0</td>\n",
       "      <td>0.0</td>\n",
       "      <td>0.0</td>\n",
       "    </tr>\n",
       "    <tr>\n",
       "      <th>2</th>\n",
       "      <td>1</td>\n",
       "      <td>adios</td>\n",
       "      <td>0.179029</td>\n",
       "      <td>0.0</td>\n",
       "      <td>0.642707</td>\n",
       "      <td>0.112931</td>\n",
       "      <td>0.868939</td>\n",
       "      <td>0.298907</td>\n",
       "      <td>0.917407</td>\n",
       "      <td>0.466914</td>\n",
       "      <td>...</td>\n",
       "      <td>0.0</td>\n",
       "      <td>0.0</td>\n",
       "      <td>0.0</td>\n",
       "      <td>0.0</td>\n",
       "      <td>0.0</td>\n",
       "      <td>0.0</td>\n",
       "      <td>0.0</td>\n",
       "      <td>0.0</td>\n",
       "      <td>0.0</td>\n",
       "      <td>0.0</td>\n",
       "    </tr>\n",
       "    <tr>\n",
       "      <th>3</th>\n",
       "      <td>1</td>\n",
       "      <td>adios</td>\n",
       "      <td>0.364079</td>\n",
       "      <td>0.0</td>\n",
       "      <td>0.754242</td>\n",
       "      <td>0.154486</td>\n",
       "      <td>0.963624</td>\n",
       "      <td>0.357678</td>\n",
       "      <td>1.000000</td>\n",
       "      <td>0.522868</td>\n",
       "      <td>...</td>\n",
       "      <td>0.0</td>\n",
       "      <td>0.0</td>\n",
       "      <td>0.0</td>\n",
       "      <td>0.0</td>\n",
       "      <td>0.0</td>\n",
       "      <td>0.0</td>\n",
       "      <td>0.0</td>\n",
       "      <td>0.0</td>\n",
       "      <td>0.0</td>\n",
       "      <td>0.0</td>\n",
       "    </tr>\n",
       "    <tr>\n",
       "      <th>4</th>\n",
       "      <td>1</td>\n",
       "      <td>adios</td>\n",
       "      <td>0.588405</td>\n",
       "      <td>0.0</td>\n",
       "      <td>0.895435</td>\n",
       "      <td>0.207583</td>\n",
       "      <td>1.000000</td>\n",
       "      <td>0.423537</td>\n",
       "      <td>0.926369</td>\n",
       "      <td>0.583810</td>\n",
       "      <td>...</td>\n",
       "      <td>0.0</td>\n",
       "      <td>0.0</td>\n",
       "      <td>0.0</td>\n",
       "      <td>0.0</td>\n",
       "      <td>0.0</td>\n",
       "      <td>0.0</td>\n",
       "      <td>0.0</td>\n",
       "      <td>0.0</td>\n",
       "      <td>0.0</td>\n",
       "      <td>0.0</td>\n",
       "    </tr>\n",
       "  </tbody>\n",
       "</table>\n",
       "<p>5 rows × 86 columns</p>\n",
       "</div>"
      ],
      "text/plain": [
       "   sequence_id target  x_Left_hand_0  y_Left_hand_0  x_Left_hand_1  \\\n",
       "0            1  adios       0.189560            0.0       0.689331   \n",
       "1            1  adios       0.261204            0.0       0.673647   \n",
       "2            1  adios       0.179029            0.0       0.642707   \n",
       "3            1  adios       0.364079            0.0       0.754242   \n",
       "4            1  adios       0.588405            0.0       0.895435   \n",
       "\n",
       "   y_Left_hand_1  x_Left_hand_2  y_Left_hand_2  x_Left_hand_3  y_Left_hand_3  \\\n",
       "0       0.109569       0.907900       0.290353       0.937767       0.462094   \n",
       "1       0.132535       0.875866       0.333381       0.931140       0.498942   \n",
       "2       0.112931       0.868939       0.298907       0.917407       0.466914   \n",
       "3       0.154486       0.963624       0.357678       1.000000       0.522868   \n",
       "4       0.207583       1.000000       0.423537       0.926369       0.583810   \n",
       "\n",
       "   ...  x_Right_hand_16  y_Right_hand_16  x_Right_hand_17  y_Right_hand_17  \\\n",
       "0  ...              0.0              0.0              0.0              0.0   \n",
       "1  ...              0.0              0.0              0.0              0.0   \n",
       "2  ...              0.0              0.0              0.0              0.0   \n",
       "3  ...              0.0              0.0              0.0              0.0   \n",
       "4  ...              0.0              0.0              0.0              0.0   \n",
       "\n",
       "   x_Right_hand_18  y_Right_hand_18  x_Right_hand_19  y_Right_hand_19  \\\n",
       "0              0.0              0.0              0.0              0.0   \n",
       "1              0.0              0.0              0.0              0.0   \n",
       "2              0.0              0.0              0.0              0.0   \n",
       "3              0.0              0.0              0.0              0.0   \n",
       "4              0.0              0.0              0.0              0.0   \n",
       "\n",
       "   x_Right_hand_20  y_Right_hand_20  \n",
       "0              0.0              0.0  \n",
       "1              0.0              0.0  \n",
       "2              0.0              0.0  \n",
       "3              0.0              0.0  \n",
       "4              0.0              0.0  \n",
       "\n",
       "[5 rows x 86 columns]"
      ]
     },
     "execution_count": 12,
     "metadata": {},
     "output_type": "execute_result"
    }
   ],
   "source": [
    "df.head()"
   ]
  },
  {
   "cell_type": "code",
   "execution_count": 13,
   "metadata": {},
   "outputs": [
    {
     "name": "stdout",
     "output_type": "stream",
     "text": [
      "10141\n",
      "True\n",
      "True\n"
     ]
    }
   ],
   "source": [
    "print(len(df))\n",
    "print(len(df_test) == len(test_data))\n",
    "print(len(df_train) == len(train_data))"
   ]
  },
  {
   "cell_type": "markdown",
   "metadata": {},
   "source": [
    "# Modelo"
   ]
  },
  {
   "cell_type": "code",
   "execution_count": 14,
   "metadata": {},
   "outputs": [
    {
     "data": {
      "image/png": "[encoded data removed]",
      "text/plain": [
       "<Figure size 432x288 with 1 Axes>"
      ]
     },
     "metadata": {
      "needs_background": "light"
     },
     "output_type": "display_data"
    }
   ],
   "source": [
    "# Compute the lengths of the video sequences\n",
    "video_lengths = df.groupby('sequence_id').size()\n",
    "max_seq_length = video_lengths.max()\n",
    "# max_seq_length = 30\n",
    "# Plot the histogram\n",
    "plt.hist(video_lengths, bins=30)  # Adjust the number of bins as needed\n",
    "plt.xlabel('Video Length')\n",
    "plt.ylabel('Frequency')\n",
    "plt.title('Histogram of Video Lengths')\n",
    "plt.show()"
   ]
  },
  {
   "cell_type": "code",
   "execution_count": 15,
   "metadata": {},
   "outputs": [
    {
     "data": {
      "text/plain": [
       "30"
      ]
     },
     "execution_count": 15,
     "metadata": {},
     "output_type": "execute_result"
    }
   ],
   "source": [
    "video_lengths.max()"
   ]
  },
  {
   "cell_type": "code",
   "execution_count": 16,
   "metadata": {},
   "outputs": [],
   "source": [
    "# Create a one-hot encoder\n",
    "label_encoder = LabelEncoder()"
   ]
  },
  {
   "cell_type": "code",
   "execution_count": 17,
   "metadata": {},
   "outputs": [],
   "source": [
    "def padding_videos(df):\n",
    "    # Create a new DataFrame to store the filled rows\n",
    "    filled_df = pd.DataFrame()\n",
    "    target = []\n",
    "\n",
    "\n",
    "    # Iterate over each group and fill remaining rows with zero\n",
    "    for _, group in df.groupby('sequence_id'):\n",
    "        remaining_rows = max_seq_length - len(group)\n",
    "        zeros_df = pd.DataFrame([[0] * len(group.columns)] * remaining_rows, columns=group.columns)\n",
    "        zeros_df['sequence_id'] = group['sequence_id'].unique()[0]\n",
    "        zeros_df['target'] = group['target'].unique()[0]\n",
    "        group = pd.concat([group, zeros_df])\n",
    "    \n",
    "        # filled_df = filled_df.append(group)\n",
    "        filled_df = pd.concat([filled_df, group])\n",
    "        target.append(group[\"target\"].unique()[0])\n",
    "        \n",
    "    filled_df.reset_index(drop=True, inplace=True)\n",
    "    filled_df = filled_df.fillna(0)\n",
    "    return filled_df, target\n",
    "\n",
    "def padding_labels(target):\n",
    "    integer_encoded = label_encoder.fit_transform(target)\n",
    "    integer_encoded = integer_encoded.reshape(-1, 1)\n",
    "\n",
    "    # Encode the word \"Hello\"\n",
    "    onehot_encoder = OneHotEncoder(sparse=False)  # sparse=False to get a numpy array as output\n",
    "    onehot_encoded = onehot_encoder.fit_transform(integer_encoded)\n",
    "    return onehot_encoded"
   ]
  },
  {
   "cell_type": "code",
   "execution_count": 18,
   "metadata": {},
   "outputs": [],
   "source": [
    "X_train, target = padding_videos(df_train)\n",
    "y_train = padding_labels(target)"
   ]
  },
  {
   "cell_type": "code",
   "execution_count": 19,
   "metadata": {},
   "outputs": [
    {
     "name": "stdout",
     "output_type": "stream",
     "text": [
      "15720 524\n"
     ]
    }
   ],
   "source": [
    "\n",
    "del X_train[\"sequence_id\"] \n",
    "del X_train[\"target\"] \n",
    "\n",
    "print(len(X_train), len(y_train))"
   ]
  },
  {
   "cell_type": "code",
   "execution_count": 20,
   "metadata": {},
   "outputs": [
    {
     "name": "stdout",
     "output_type": "stream",
     "text": [
      "1350 45\n"
     ]
    }
   ],
   "source": [
    "X_test, target = padding_videos(df_test)\n",
    "y_test = padding_labels(target)\n",
    "del X_test[\"sequence_id\"] \n",
    "del X_test[\"target\"] \n",
    "\n",
    "print(len(X_test), len(y_test))"
   ]
  },
  {
   "cell_type": "code",
   "execution_count": 21,
   "metadata": {},
   "outputs": [
    {
     "data": {
      "text/plain": [
       "True"
      ]
     },
     "execution_count": 21,
     "metadata": {},
     "output_type": "execute_result"
    }
   ],
   "source": [
    "len(y_train) + len(y_test) == len(df[\"sequence_id\"].unique())"
   ]
  },
  {
   "cell_type": "code",
   "execution_count": 22,
   "metadata": {},
   "outputs": [],
   "source": [
    "def flat_X(X):\n",
    "    # Define the number of rows to be flattened\n",
    "    rows_to_flatten = max_seq_length\n",
    "\n",
    "    data_array = X.to_numpy()\n",
    "\n",
    "    # Get the number of resulting rows in the output array\n",
    "    resulting_rows = data_array.shape[0] // rows_to_flatten\n",
    "\n",
    "    # Reshape the array to have (resulting_rows, rows_to_flatten, 80) shape\n",
    "    reshaped_array = data_array[:resulting_rows * rows_to_flatten].reshape(resulting_rows, rows_to_flatten, -1)\n",
    "\n",
    "    # Flatten the reshaped array along the second axis (axis=1) to get (resulting_rows, 13600) shape\n",
    "    flattened_array = reshaped_array.reshape(resulting_rows, -1)\n",
    "\n",
    "    return flattened_array"
   ]
  },
  {
   "cell_type": "code",
   "execution_count": 23,
   "metadata": {},
   "outputs": [],
   "source": [
    "X_test_flat = flat_X(X_test)"
   ]
  },
  {
   "cell_type": "code",
   "execution_count": 24,
   "metadata": {},
   "outputs": [],
   "source": [
    "num_samples = int(len(X_test)/max_seq_length)\n",
    "num_features = len(get_needed_cols())\n",
    "num_classes = len(y_test[1])\n",
    "\n",
    "X_test = X_test.values.reshape(num_samples, max_seq_length, num_features)"
   ]
  },
  {
   "cell_type": "code",
   "execution_count": 25,
   "metadata": {},
   "outputs": [
    {
     "data": {
      "text/plain": [
       "15720"
      ]
     },
     "execution_count": 25,
     "metadata": {},
     "output_type": "execute_result"
    }
   ],
   "source": [
    "len(X_train)"
   ]
  },
  {
   "cell_type": "code",
   "execution_count": 26,
   "metadata": {},
   "outputs": [
    {
     "data": {
      "text/plain": [
       "(524, 2520)"
      ]
     },
     "execution_count": 26,
     "metadata": {},
     "output_type": "execute_result"
    }
   ],
   "source": [
    "X_train_flat = flat_X(X_train)\n",
    "X_train_flat.shape"
   ]
  },
  {
   "cell_type": "code",
   "execution_count": 27,
   "metadata": {},
   "outputs": [],
   "source": [
    "num_samples_train = int(len(X_train)/max_seq_length)\n",
    "num_features_train = len(get_needed_cols())\n",
    "num_classes_train = len(y_train[1])\n",
    "\n",
    "X_train = X_train.values.reshape(num_samples_train, max_seq_length, num_features_train)"
   ]
  },
  {
   "cell_type": "code",
   "execution_count": 28,
   "metadata": {},
   "outputs": [
    {
     "name": "stdout",
     "output_type": "stream",
     "text": [
      "Train: (524, 30, 84) (524, 25)\n",
      "Test: (45, 30, 84) (45, 25)\n"
     ]
    }
   ],
   "source": [
    "print('Train:', X_train.shape, y_train.shape)\n",
    "print('Test:', X_test.shape, y_test.shape)"
   ]
  },
  {
   "cell_type": "markdown",
   "metadata": {},
   "source": [
    "# Modelo\n",
    "La entrada son las coordenadas de las manos. Cada video cuenta con n cantidad de filas, 84 columnas (21 columnas por cada coordenada y por ambas manos).\n",
    "La salida es la frase. La frase se representa por un entero que da el one hot encoder.\n",
    "\n",
    "Se usa convoluciones para resaltar las caracteristicas en la entrada. Debido a que la entrada son coordenadas normalizadas de un video, se supone que funciona igual que si la entrada fuera una imagen. Estas redes extraen caracteristicas de forma automatica para clasificar objetos luego. Al buscar patrones, se espera que pueda predecir un video que ya ha sido entrenado previamente.\n",
    "\n",
    "Se reduce el tamaño de la entrada haciendo uso de max pooling y flatten.\n",
    "\n",
    "Se hace uso de Dense para conectar entradas con salidas.\n",
    "\n",
    "Se hace uso de Dropout para evitar el sobreajuste.\n",
    "\n",
    "Relu elimina negativos. \n",
    "Sigmoid nos ayuda a obtener la probabilidad de que un ejemplo pertenezca a la clase positiva.\n",
    "Softmax hace clasificacion multiclase (en nuestro caso las palabras a predecir)."
   ]
  },
  {
   "cell_type": "code",
   "execution_count": 29,
   "metadata": {},
   "outputs": [],
   "source": [
    "from tensorflow.keras.models import Sequential\n",
    "from tensorflow.keras.layers import LSTM, Dense\n",
    "from tensorflow.keras.callbacks import TensorBoard"
   ]
  },
  {
   "cell_type": "code",
   "execution_count": 30,
   "metadata": {},
   "outputs": [],
   "source": [
    "# Create a sequential model\n",
    "cnn_model = Sequential()\n",
    "cnn_model.add(Convolution2D(32, (3, 3), padding=\"same\", input_shape=(max_seq_length, num_features_train, 1), activation='relu'))\n",
    "# cnn_model.add(Convolution2D(32, (3, 3), padding=\"same\", activation='relu'))\n",
    "cnn_model.add(MaxPooling2D(pool_size=(2, 2)))\n",
    "\n",
    "cnn_model.add(Convolution2D(64, (3, 3), activation='relu'))\n",
    "# cnn_model.add(Convolution2D(64, (3, 3), padding=\"same\", activation='relu'))\n",
    "cnn_model.add(MaxPooling2D(pool_size=(2, 2)))\n",
    "\n",
    "cnn_model.add(Convolution2D(128, (3, 3), activation='relu'))\n",
    "# cnn_model.add(Convolution2D(128, (3, 3), padding=\"same\", activation='relu'))\n",
    "cnn_model.add(MaxPooling2D(pool_size=(2, 2)))\n",
    "\n",
    "\n",
    "cnn_model.add(Convolution2D(256, (3, 3), padding=\"same\", activation='relu'))\n",
    "# # cnn_model.add(Convolution2D(256, (3, 3), padding=\"same\", activation='relu'))\n",
    "cnn_model.add(MaxPooling2D(pool_size=(2, 2), strides=2))\n",
    "\n",
    "# cnn_model.add(MaxPooling2D(pool_size=(2, 2)))\n",
    "\n",
    "\n",
    "cnn_model.add(Flatten())\n",
    "\n",
    "# cnn_model.add(Dense(512, activation='relu'))\n",
    "# cnn_model.add(Dense(64,activation =\"relu\"))\n",
    "# cnn_model.add(Dense(128,activation =\"relu\"))\n",
    "cnn_model.add(Dense(256, activation='relu'))\n",
    "cnn_model.add(Dropout(0.5))\n",
    "cnn_model.add(Dense(num_classes_train, activation='softmax'))"
   ]
  },
  {
   "cell_type": "code",
   "execution_count": 31,
   "metadata": {},
   "outputs": [
    {
     "name": "stdout",
     "output_type": "stream",
     "text": [
      "Epoch 1/50\n",
      "66/66 [==============================] - 2s 20ms/step - loss: 3.1943 - accuracy: 0.0553 - val_loss: 3.1276 - val_accuracy: 0.0667\n",
      "Epoch 2/50\n",
      "66/66 [==============================] - 1s 17ms/step - loss: 2.9464 - accuracy: 0.1031 - val_loss: 2.9983 - val_accuracy: 0.0889\n",
      "Epoch 3/50\n",
      "66/66 [==============================] - 1s 17ms/step - loss: 2.7830 - accuracy: 0.1298 - val_loss: 2.8649 - val_accuracy: 0.1111\n",
      "Epoch 4/50\n",
      "66/66 [==============================] - 1s 17ms/step - loss: 2.5906 - accuracy: 0.1603 - val_loss: 2.7717 - val_accuracy: 0.1111\n",
      "Epoch 5/50\n",
      "66/66 [==============================] - 1s 17ms/step - loss: 2.2962 - accuracy: 0.2595 - val_loss: 2.6642 - val_accuracy: 0.2000\n",
      "Epoch 6/50\n",
      "66/66 [==============================] - 1s 17ms/step - loss: 1.9499 - accuracy: 0.3645 - val_loss: 2.5161 - val_accuracy: 0.2000\n",
      "Epoch 7/50\n",
      "66/66 [==============================] - 1s 17ms/step - loss: 1.7040 - accuracy: 0.4256 - val_loss: 2.1956 - val_accuracy: 0.4444\n",
      "Epoch 8/50\n",
      "66/66 [==============================] - 1s 17ms/step - loss: 1.3141 - accuracy: 0.5534 - val_loss: 2.7042 - val_accuracy: 0.2667\n",
      "Epoch 9/50\n",
      "66/66 [==============================] - 1s 17ms/step - loss: 1.0419 - accuracy: 0.6584 - val_loss: 2.3421 - val_accuracy: 0.3333\n",
      "Epoch 10/50\n",
      "66/66 [==============================] - 1s 17ms/step - loss: 0.9490 - accuracy: 0.7023 - val_loss: 1.9193 - val_accuracy: 0.4000\n",
      "Epoch 11/50\n",
      "66/66 [==============================] - 1s 17ms/step - loss: 0.7504 - accuracy: 0.7729 - val_loss: 1.8707 - val_accuracy: 0.4889\n",
      "Epoch 12/50\n",
      "66/66 [==============================] - 1s 16ms/step - loss: 0.6354 - accuracy: 0.8092 - val_loss: 1.9678 - val_accuracy: 0.4444\n",
      "Epoch 13/50\n",
      "66/66 [==============================] - 1s 17ms/step - loss: 0.4634 - accuracy: 0.8340 - val_loss: 2.0522 - val_accuracy: 0.5778\n",
      "Epoch 14/50\n",
      "66/66 [==============================] - 1s 16ms/step - loss: 0.3666 - accuracy: 0.8855 - val_loss: 2.0099 - val_accuracy: 0.5778\n",
      "Epoch 15/50\n",
      "66/66 [==============================] - 1s 17ms/step - loss: 0.3011 - accuracy: 0.9122 - val_loss: 2.8070 - val_accuracy: 0.4889\n",
      "Epoch 16/50\n",
      "66/66 [==============================] - 1s 17ms/step - loss: 0.2821 - accuracy: 0.9065 - val_loss: 2.3968 - val_accuracy: 0.5333\n",
      "Epoch 17/50\n",
      "66/66 [==============================] - 1s 17ms/step - loss: 0.2249 - accuracy: 0.9179 - val_loss: 2.4914 - val_accuracy: 0.5111\n",
      "Epoch 18/50\n",
      "66/66 [==============================] - 1s 17ms/step - loss: 0.1901 - accuracy: 0.9332 - val_loss: 2.9756 - val_accuracy: 0.5111\n",
      "Epoch 19/50\n",
      "66/66 [==============================] - 1s 17ms/step - loss: 0.2050 - accuracy: 0.9370 - val_loss: 2.3359 - val_accuracy: 0.5778\n",
      "Epoch 20/50\n",
      "66/66 [==============================] - 1s 17ms/step - loss: 0.1326 - accuracy: 0.9542 - val_loss: 2.4466 - val_accuracy: 0.6222\n",
      "Epoch 21/50\n",
      "66/66 [==============================] - 1s 17ms/step - loss: 0.1370 - accuracy: 0.9599 - val_loss: 2.8209 - val_accuracy: 0.5333\n",
      "Epoch 22/50\n",
      "66/66 [==============================] - 1s 17ms/step - loss: 0.1883 - accuracy: 0.9485 - val_loss: 2.7970 - val_accuracy: 0.4889\n",
      "Epoch 23/50\n",
      "66/66 [==============================] - 1s 17ms/step - loss: 0.0776 - accuracy: 0.9790 - val_loss: 3.1852 - val_accuracy: 0.5111\n",
      "Epoch 24/50\n",
      "66/66 [==============================] - 1s 17ms/step - loss: 0.0706 - accuracy: 0.9790 - val_loss: 3.2304 - val_accuracy: 0.5556\n",
      "Epoch 25/50\n",
      "66/66 [==============================] - 1s 17ms/step - loss: 0.0934 - accuracy: 0.9733 - val_loss: 2.4264 - val_accuracy: 0.6444\n",
      "Epoch 26/50\n",
      "66/66 [==============================] - 1s 18ms/step - loss: 0.0569 - accuracy: 0.9790 - val_loss: 3.3943 - val_accuracy: 0.4667\n",
      "Epoch 27/50\n",
      "66/66 [==============================] - 1s 19ms/step - loss: 0.0760 - accuracy: 0.9809 - val_loss: 2.9671 - val_accuracy: 0.5778\n",
      "Epoch 28/50\n",
      "66/66 [==============================] - 1s 18ms/step - loss: 0.0593 - accuracy: 0.9847 - val_loss: 2.9174 - val_accuracy: 0.5556\n",
      "Epoch 29/50\n",
      "66/66 [==============================] - 1s 18ms/step - loss: 0.0728 - accuracy: 0.9695 - val_loss: 3.2454 - val_accuracy: 0.4889\n",
      "Epoch 30/50\n",
      "66/66 [==============================] - 1s 17ms/step - loss: 0.0636 - accuracy: 0.9809 - val_loss: 3.2446 - val_accuracy: 0.6000\n",
      "Epoch 31/50\n",
      "66/66 [==============================] - 1s 17ms/step - loss: 0.0973 - accuracy: 0.9733 - val_loss: 2.7297 - val_accuracy: 0.5778\n",
      "Epoch 32/50\n",
      "66/66 [==============================] - 1s 18ms/step - loss: 0.0751 - accuracy: 0.9809 - val_loss: 2.4309 - val_accuracy: 0.5556\n",
      "Epoch 33/50\n",
      "66/66 [==============================] - 1s 17ms/step - loss: 0.0404 - accuracy: 0.9866 - val_loss: 3.1237 - val_accuracy: 0.5556\n",
      "Epoch 34/50\n",
      "66/66 [==============================] - 1s 17ms/step - loss: 0.0674 - accuracy: 0.9828 - val_loss: 2.8432 - val_accuracy: 0.6000\n",
      "Epoch 35/50\n",
      "66/66 [==============================] - 1s 16ms/step - loss: 0.0233 - accuracy: 0.9962 - val_loss: 3.1841 - val_accuracy: 0.6000\n",
      "Epoch 36/50\n",
      "66/66 [==============================] - 1s 17ms/step - loss: 0.0248 - accuracy: 0.9905 - val_loss: 3.2124 - val_accuracy: 0.5778\n",
      "Epoch 37/50\n",
      "66/66 [==============================] - 1s 17ms/step - loss: 0.0120 - accuracy: 0.9981 - val_loss: 3.3680 - val_accuracy: 0.6222\n",
      "Epoch 38/50\n",
      "66/66 [==============================] - 1s 17ms/step - loss: 0.0180 - accuracy: 0.9924 - val_loss: 3.3426 - val_accuracy: 0.6000\n",
      "Epoch 39/50\n",
      "66/66 [==============================] - 1s 16ms/step - loss: 0.0861 - accuracy: 0.9676 - val_loss: 2.7349 - val_accuracy: 0.5778\n",
      "Epoch 40/50\n",
      "66/66 [==============================] - 1s 16ms/step - loss: 0.0815 - accuracy: 0.9771 - val_loss: 2.8660 - val_accuracy: 0.5778\n",
      "Epoch 41/50\n",
      "66/66 [==============================] - 1s 17ms/step - loss: 0.0868 - accuracy: 0.9733 - val_loss: 3.6741 - val_accuracy: 0.6000\n",
      "Epoch 42/50\n",
      "66/66 [==============================] - 1s 16ms/step - loss: 0.0937 - accuracy: 0.9771 - val_loss: 3.3416 - val_accuracy: 0.6222\n",
      "Epoch 43/50\n",
      "66/66 [==============================] - 1s 16ms/step - loss: 0.0541 - accuracy: 0.9847 - val_loss: 3.4526 - val_accuracy: 0.5778\n",
      "Epoch 44/50\n",
      "66/66 [==============================] - 1s 17ms/step - loss: 0.0516 - accuracy: 0.9866 - val_loss: 3.5919 - val_accuracy: 0.5778\n",
      "Epoch 45/50\n",
      "66/66 [==============================] - 1s 17ms/step - loss: 0.0474 - accuracy: 0.9905 - val_loss: 3.9561 - val_accuracy: 0.5556\n",
      "Epoch 46/50\n",
      "66/66 [==============================] - 1s 17ms/step - loss: 0.0447 - accuracy: 0.9866 - val_loss: 3.1596 - val_accuracy: 0.5556\n",
      "Epoch 47/50\n",
      "66/66 [==============================] - 1s 17ms/step - loss: 0.0180 - accuracy: 0.9924 - val_loss: 3.6379 - val_accuracy: 0.6000\n",
      "Epoch 48/50\n",
      "66/66 [==============================] - 1s 17ms/step - loss: 0.0357 - accuracy: 0.9847 - val_loss: 3.9139 - val_accuracy: 0.5778\n",
      "Epoch 49/50\n",
      "66/66 [==============================] - 1s 17ms/step - loss: 0.0148 - accuracy: 0.9962 - val_loss: 3.5366 - val_accuracy: 0.6222\n",
      "Epoch 50/50\n",
      "66/66 [==============================] - 1s 17ms/step - loss: 0.0377 - accuracy: 0.9905 - val_loss: 3.5883 - val_accuracy: 0.5556\n",
      "2/2 [==============================] - 0s 8ms/step\n",
      "2/2 [==============================] - 0s 8ms/step - loss: 3.5883 - accuracy: 0.5556\n",
      "Test Accuracy: 0.5555555820465088\n"
     ]
    }
   ],
   "source": [
    "# Compile the model\n",
    "cnn_model.compile(loss='categorical_crossentropy', optimizer='adam', metrics=['accuracy'])\n",
    "\n",
    "# Train the model\n",
    "history = cnn_model.fit(X_train, y_train, epochs=50, batch_size=8, validation_data=(X_test, y_test))\n",
    "# Get the predictions from the model\n",
    "y_pred_cnn = cnn_model.predict(X_test)# Find the most likely prediction for each sample\n",
    "\n",
    "most_likely_predictions = np.argmax(y_pred_cnn, axis=1)\n",
    "cnn_test_pred = label_encoder.inverse_transform(most_likely_predictions)\n",
    "\n",
    "test_loss, test_accuracy = cnn_model.evaluate(X_test, y_test)\n",
    "print(f\"Test Accuracy: {test_accuracy}\")"
   ]
  },
  {
   "cell_type": "code",
   "execution_count": 32,
   "metadata": {},
   "outputs": [],
   "source": [
    "# Inverse one-hot encoding\n",
    "inverse_encoded_data = np.argmax(y_train, axis=1)\n",
    "y_train_tree = label_encoder.inverse_transform(inverse_encoded_data)\n",
    "# Inverse one-hot encoding\n",
    "inverse_encoded_data = np.argmax(y_test, axis=1)\n",
    "y_test_tree = label_encoder.inverse_transform(inverse_encoded_data)"
   ]
  },
  {
   "cell_type": "code",
   "execution_count": 33,
   "metadata": {},
   "outputs": [
    {
     "data": {
      "text/plain": [
       "{'adios': 1.3973333333333333,\n",
       " 'amigo': 0.9527272727272728,\n",
       " 'amor': 1.048,\n",
       " 'ayuda': 1.1644444444444444,\n",
       " 'bebida': 0.9527272727272728,\n",
       " 'casa': 0.9527272727272728,\n",
       " 'comida': 0.9113043478260869,\n",
       " 'dinero': 1.1031578947368421,\n",
       " 'enfado': 0.9113043478260869,\n",
       " 'entender': 0.9980952380952381,\n",
       " 'escuela': 0.9113043478260869,\n",
       " 'familia': 1.048,\n",
       " 'feliz': 0.8384,\n",
       " 'gracias': 0.9980952380952381,\n",
       " 'hola': 0.9527272727272728,\n",
       " 'medico': 0.9527272727272728,\n",
       " 'necesitar': 0.9527272727272728,\n",
       " 'no': 1.1644444444444444,\n",
       " 'por favor': 1.2329411764705882,\n",
       " 'querer': 0.9980952380952381,\n",
       " 'salud': 0.8733333333333333,\n",
       " 'si': 1.31,\n",
       " 'tiempo': 0.9113043478260869,\n",
       " 'trabajo': 0.9113043478260869,\n",
       " 'triste': 0.9527272727272728}"
      ]
     },
     "execution_count": 33,
     "metadata": {},
     "output_type": "execute_result"
    }
   ],
   "source": [
    "class_weights = class_weight.compute_class_weight(\n",
    "                                        class_weight = \"balanced\",\n",
    "                                        classes = np.unique(y_train_tree),\n",
    "                                        y = y_train_tree                                                    \n",
    "                                    )\n",
    "class_weights = dict(zip(np.unique(y_train_tree), class_weights))\n",
    "class_weights"
   ]
  },
  {
   "cell_type": "code",
   "execution_count": 34,
   "metadata": {},
   "outputs": [
    {
     "name": "stdout",
     "output_type": "stream",
     "text": [
      "Accuracy: 0.80\n"
     ]
    }
   ],
   "source": [
    "# Create an AdaBoost classifier with a base model (e.g., DecisionTreeClassifier)\n",
    "base_model = DecisionTreeClassifier(max_depth=num_classes_train - 1, min_samples_split=6, min_samples_leaf=4, class_weight=class_weights)\n",
    "decision_tree = AdaBoostClassifier(base_model, n_estimators=300, random_state=42)\n",
    "\n",
    "# Fit the ensemble model\n",
    "decision_tree.fit(X_train_flat, y_train_tree)\n",
    "\n",
    "# Make predictions\n",
    "y_pred_tree = decision_tree.predict(X_test_flat)\n",
    "\n",
    "# Calculate the accuracy score on a test dataset\n",
    "accuracy_tree = decision_tree.score(X_test_flat, y_test_tree)\n",
    "\n",
    "# Print the accuracy\n",
    "print(f'Accuracy: {accuracy_tree:.2f}')"
   ]
  },
  {
   "cell_type": "code",
   "execution_count": 35,
   "metadata": {},
   "outputs": [
    {
     "name": "stdout",
     "output_type": "stream",
     "text": [
      "Accuracy: 0.64\n"
     ]
    }
   ],
   "source": [
    "# Create an SVC classifier\n",
    "svm_classifier = SVC(C=0.1, kernel=\"linear\", gamma=0.001, class_weight=class_weights)\n",
    "# Fit the grid search to your training data\n",
    "svm_classifier.fit(X_train_flat, y_train_tree)\n",
    "# Evaluate the model on the test data\n",
    "y_pred_svm = svm_classifier.predict(X_test_flat)\n",
    "\n",
    "# Calculate the accuracy score on a test dataset\n",
    "accuracy_svm = svm_classifier.score(X_test_flat, y_test_tree)\n",
    "\n",
    "# Print the accuracy\n",
    "print(f'Accuracy: {accuracy_svm:.2f}')"
   ]
  },
  {
   "cell_type": "code",
   "execution_count": 36,
   "metadata": {},
   "outputs": [
    {
     "name": "stderr",
     "output_type": "stream",
     "text": [
      "WARNING:absl:Found untraced functions such as _jit_compiled_convolution_op, _jit_compiled_convolution_op, _jit_compiled_convolution_op, _jit_compiled_convolution_op while saving (showing 4 of 4). These functions will not be directly callable after loading.\n"
     ]
    },
    {
     "name": "stdout",
     "output_type": "stream",
     "text": [
      "INFO:tensorflow:Assets written to: cnn\\assets\n"
     ]
    },
    {
     "name": "stderr",
     "output_type": "stream",
     "text": [
      "INFO:tensorflow:Assets written to: cnn\\assets\n"
     ]
    }
   ],
   "source": [
    "cnn_model.save('cnn')\n",
    "save_model(\"tree\", decision_tree)\n",
    "save_model(\"svm\", svm_classifier)"
   ]
  },
  {
   "cell_type": "code",
   "execution_count": 37,
   "metadata": {},
   "outputs": [],
   "source": [
    "save_model(\"label_encoder\", label_encoder)"
   ]
  },
  {
   "cell_type": "code",
   "execution_count": 38,
   "metadata": {},
   "outputs": [
    {
     "name": "stdout",
     "output_type": "stream",
     "text": [
      "USANDO TREE\n"
     ]
    }
   ],
   "source": [
    "results_to_use = []\n",
    "\n",
    "accuracies = {\n",
    "    \"SVM\": accuracy_svm,\n",
    "    \"TREE\": accuracy_tree,\n",
    "    \"CNN\": test_accuracy\n",
    "}\n",
    "# Find the key with the maximum value\n",
    "max_key = max(accuracies, key=accuracies.get)\n",
    "\n",
    "if (max_key == \"SVM\"):\n",
    "    results_to_use = y_pred_svm\n",
    "elif (max_key == \"TREE\"):\n",
    "    results_to_use = y_pred_tree\n",
    "else:\n",
    "    results_to_use = cnn_test_pred\n",
    "\n",
    "\n",
    "print(\"USANDO\", max_key)"
   ]
  },
  {
   "cell_type": "code",
   "execution_count": 39,
   "metadata": {},
   "outputs": [
    {
     "name": "stdout",
     "output_type": "stream",
     "text": [
      ">>> LOG INCORRECTA: \n",
      "            SVM:  medico\n",
      "            TREE:  tiempo\n",
      "            CNN:  tiempo\n",
      "            Correcto:  familia\n",
      ">>> LOG INCORRECTA: \n",
      "            SVM:  medico\n",
      "            TREE:  medico\n",
      "            CNN:  medico\n",
      "            Correcto:  querer\n",
      ">>> LOG INCORRECTA: \n",
      "            SVM:  hola\n",
      "            TREE:  hola\n",
      "            CNN:  hola\n",
      "            Correcto:  adios\n",
      ">>> LOG INCORRECTA: \n",
      "            SVM:  casa\n",
      "            TREE:  casa\n",
      "            CNN:  casa\n",
      "            Correcto:  hola\n",
      ">>> LOG INCORRECTA: \n",
      "            SVM:  amigo\n",
      "            TREE:  salud\n",
      "            CNN:  escuela\n",
      "            Correcto:  ayuda\n",
      ">>> LOG INCORRECTA: \n",
      "            SVM:  amor\n",
      "            TREE:  amor\n",
      "            CNN:  feliz\n",
      "            Correcto:  feliz\n",
      ">>> LOG INCORRECTA: \n",
      "            SVM:  familia\n",
      "            TREE:  salud\n",
      "            CNN:  ayuda\n",
      "            Correcto:  escuela\n",
      ">>> LOG INCORRECTA: \n",
      "            SVM:  ayuda\n",
      "            TREE:  salud\n",
      "            CNN:  ayuda\n",
      "            Correcto:  escuela\n",
      ">>> LOG INCORRECTA: \n",
      "            SVM:  feliz\n",
      "            TREE:  no\n",
      "            CNN:  amor\n",
      "            Correcto:  feliz\n"
     ]
    }
   ],
   "source": [
    "correct = 0\n",
    "for i in range(len(y_test_tree)):\n",
    "    if (\n",
    "        y_test_tree[i] == results_to_use[i]):\n",
    "        correct += 1\n",
    "        # print(\"Correctamente predicha: \", y_pred[i])\n",
    "    else:\n",
    "        print(\">>> LOG INCORRECTA: \")\n",
    "        print(\"            SVM: \", y_pred_svm[i])\n",
    "        print(\"            TREE: \", y_pred_tree[i])\n",
    "        print(\"            CNN: \", cnn_test_pred[i])\n",
    "        print(\"            Correcto: \", y_test_tree[i])\n"
   ]
  },
  {
   "cell_type": "code",
   "execution_count": 40,
   "metadata": {},
   "outputs": [
    {
     "name": "stdout",
     "output_type": "stream",
     "text": [
      "Correct >>  36\n",
      "Incorrect >>  9\n",
      "Ratio >>  0.8\n"
     ]
    }
   ],
   "source": [
    "print(\"Correct >> \", correct)\n",
    "print(\"Incorrect >> \", len(y_test_tree)-correct)\n",
    "print(\"Ratio >> \", str(correct/len(y_test_tree)))"
   ]
  },
  {
   "cell_type": "markdown",
   "metadata": {},
   "source": [
    "# Reutilizando el modelo"
   ]
  },
  {
   "cell_type": "code",
   "execution_count": 41,
   "metadata": {},
   "outputs": [
    {
     "data": {
      "text/html": [
       "<div>\n",
       "<style scoped>\n",
       "    .dataframe tbody tr th:only-of-type {\n",
       "        vertical-align: middle;\n",
       "    }\n",
       "\n",
       "    .dataframe tbody tr th {\n",
       "        vertical-align: top;\n",
       "    }\n",
       "\n",
       "    .dataframe thead th {\n",
       "        text-align: right;\n",
       "    }\n",
       "</style>\n",
       "<table border=\"1\" class=\"dataframe\">\n",
       "  <thead>\n",
       "    <tr style=\"text-align: right;\">\n",
       "      <th></th>\n",
       "      <th>sequence_id</th>\n",
       "      <th>target</th>\n",
       "      <th>file</th>\n",
       "      <th>x_Left_hand_0</th>\n",
       "      <th>y_Left_hand_0</th>\n",
       "      <th>x_Left_hand_1</th>\n",
       "      <th>y_Left_hand_1</th>\n",
       "      <th>x_Left_hand_2</th>\n",
       "      <th>y_Left_hand_2</th>\n",
       "      <th>x_Left_hand_3</th>\n",
       "      <th>...</th>\n",
       "      <th>x_Right_hand_16</th>\n",
       "      <th>y_Right_hand_16</th>\n",
       "      <th>x_Right_hand_17</th>\n",
       "      <th>y_Right_hand_17</th>\n",
       "      <th>x_Right_hand_18</th>\n",
       "      <th>y_Right_hand_18</th>\n",
       "      <th>x_Right_hand_19</th>\n",
       "      <th>y_Right_hand_19</th>\n",
       "      <th>x_Right_hand_20</th>\n",
       "      <th>y_Right_hand_20</th>\n",
       "    </tr>\n",
       "  </thead>\n",
       "  <tbody>\n",
       "    <tr>\n",
       "      <th>0</th>\n",
       "      <td>572</td>\n",
       "      <td>8_amor</td>\n",
       "      <td>/Users/andreaamaya/Trabajo/megaproyecto_model/...</td>\n",
       "      <td>0.054473</td>\n",
       "      <td>1.0</td>\n",
       "      <td>0.000000</td>\n",
       "      <td>0.814200</td>\n",
       "      <td>0.160031</td>\n",
       "      <td>0.556190</td>\n",
       "      <td>0.309921</td>\n",
       "      <td>...</td>\n",
       "      <td>0.0</td>\n",
       "      <td>0.0</td>\n",
       "      <td>0.0</td>\n",
       "      <td>0.0</td>\n",
       "      <td>0.0</td>\n",
       "      <td>0.0</td>\n",
       "      <td>0.0</td>\n",
       "      <td>0.0</td>\n",
       "      <td>0.0</td>\n",
       "      <td>0.0</td>\n",
       "    </tr>\n",
       "    <tr>\n",
       "      <th>1</th>\n",
       "      <td>572</td>\n",
       "      <td>8_amor</td>\n",
       "      <td>/Users/andreaamaya/Trabajo/megaproyecto_model/...</td>\n",
       "      <td>0.000000</td>\n",
       "      <td>1.0</td>\n",
       "      <td>0.029350</td>\n",
       "      <td>0.790749</td>\n",
       "      <td>0.165903</td>\n",
       "      <td>0.539861</td>\n",
       "      <td>0.297188</td>\n",
       "      <td>...</td>\n",
       "      <td>0.0</td>\n",
       "      <td>0.0</td>\n",
       "      <td>0.0</td>\n",
       "      <td>0.0</td>\n",
       "      <td>0.0</td>\n",
       "      <td>0.0</td>\n",
       "      <td>0.0</td>\n",
       "      <td>0.0</td>\n",
       "      <td>0.0</td>\n",
       "      <td>0.0</td>\n",
       "    </tr>\n",
       "    <tr>\n",
       "      <th>2</th>\n",
       "      <td>572</td>\n",
       "      <td>8_amor</td>\n",
       "      <td>/Users/andreaamaya/Trabajo/megaproyecto_model/...</td>\n",
       "      <td>0.142526</td>\n",
       "      <td>1.0</td>\n",
       "      <td>0.000000</td>\n",
       "      <td>0.774022</td>\n",
       "      <td>0.049066</td>\n",
       "      <td>0.554538</td>\n",
       "      <td>0.182988</td>\n",
       "      <td>...</td>\n",
       "      <td>0.0</td>\n",
       "      <td>0.0</td>\n",
       "      <td>0.0</td>\n",
       "      <td>0.0</td>\n",
       "      <td>0.0</td>\n",
       "      <td>0.0</td>\n",
       "      <td>0.0</td>\n",
       "      <td>0.0</td>\n",
       "      <td>0.0</td>\n",
       "      <td>0.0</td>\n",
       "    </tr>\n",
       "    <tr>\n",
       "      <th>3</th>\n",
       "      <td>572</td>\n",
       "      <td>8_amor</td>\n",
       "      <td>/Users/andreaamaya/Trabajo/megaproyecto_model/...</td>\n",
       "      <td>0.905454</td>\n",
       "      <td>0.0</td>\n",
       "      <td>1.000000</td>\n",
       "      <td>0.403292</td>\n",
       "      <td>0.906272</td>\n",
       "      <td>0.728733</td>\n",
       "      <td>0.641322</td>\n",
       "      <td>...</td>\n",
       "      <td>0.0</td>\n",
       "      <td>0.0</td>\n",
       "      <td>0.0</td>\n",
       "      <td>0.0</td>\n",
       "      <td>0.0</td>\n",
       "      <td>0.0</td>\n",
       "      <td>0.0</td>\n",
       "      <td>0.0</td>\n",
       "      <td>0.0</td>\n",
       "      <td>0.0</td>\n",
       "    </tr>\n",
       "    <tr>\n",
       "      <th>4</th>\n",
       "      <td>572</td>\n",
       "      <td>8_amor</td>\n",
       "      <td>/Users/andreaamaya/Trabajo/megaproyecto_model/...</td>\n",
       "      <td>1.000000</td>\n",
       "      <td>0.0</td>\n",
       "      <td>0.998621</td>\n",
       "      <td>0.381168</td>\n",
       "      <td>0.810052</td>\n",
       "      <td>0.691714</td>\n",
       "      <td>0.574807</td>\n",
       "      <td>...</td>\n",
       "      <td>0.0</td>\n",
       "      <td>0.0</td>\n",
       "      <td>0.0</td>\n",
       "      <td>0.0</td>\n",
       "      <td>0.0</td>\n",
       "      <td>0.0</td>\n",
       "      <td>0.0</td>\n",
       "      <td>0.0</td>\n",
       "      <td>0.0</td>\n",
       "      <td>0.0</td>\n",
       "    </tr>\n",
       "  </tbody>\n",
       "</table>\n",
       "<p>5 rows × 87 columns</p>\n",
       "</div>"
      ],
      "text/plain": [
       "   sequence_id  target                                               file  \\\n",
       "0          572  8_amor  /Users/andreaamaya/Trabajo/megaproyecto_model/...   \n",
       "1          572  8_amor  /Users/andreaamaya/Trabajo/megaproyecto_model/...   \n",
       "2          572  8_amor  /Users/andreaamaya/Trabajo/megaproyecto_model/...   \n",
       "3          572  8_amor  /Users/andreaamaya/Trabajo/megaproyecto_model/...   \n",
       "4          572  8_amor  /Users/andreaamaya/Trabajo/megaproyecto_model/...   \n",
       "\n",
       "   x_Left_hand_0  y_Left_hand_0  x_Left_hand_1  y_Left_hand_1  x_Left_hand_2  \\\n",
       "0       0.054473            1.0       0.000000       0.814200       0.160031   \n",
       "1       0.000000            1.0       0.029350       0.790749       0.165903   \n",
       "2       0.142526            1.0       0.000000       0.774022       0.049066   \n",
       "3       0.905454            0.0       1.000000       0.403292       0.906272   \n",
       "4       1.000000            0.0       0.998621       0.381168       0.810052   \n",
       "\n",
       "   y_Left_hand_2  x_Left_hand_3  ...  x_Right_hand_16  y_Right_hand_16  \\\n",
       "0       0.556190       0.309921  ...              0.0              0.0   \n",
       "1       0.539861       0.297188  ...              0.0              0.0   \n",
       "2       0.554538       0.182988  ...              0.0              0.0   \n",
       "3       0.728733       0.641322  ...              0.0              0.0   \n",
       "4       0.691714       0.574807  ...              0.0              0.0   \n",
       "\n",
       "   x_Right_hand_17  y_Right_hand_17  x_Right_hand_18  y_Right_hand_18  \\\n",
       "0              0.0              0.0              0.0              0.0   \n",
       "1              0.0              0.0              0.0              0.0   \n",
       "2              0.0              0.0              0.0              0.0   \n",
       "3              0.0              0.0              0.0              0.0   \n",
       "4              0.0              0.0              0.0              0.0   \n",
       "\n",
       "   x_Right_hand_19  y_Right_hand_19  x_Right_hand_20  y_Right_hand_20  \n",
       "0              0.0              0.0              0.0              0.0  \n",
       "1              0.0              0.0              0.0              0.0  \n",
       "2              0.0              0.0              0.0              0.0  \n",
       "3              0.0              0.0              0.0              0.0  \n",
       "4              0.0              0.0              0.0              0.0  \n",
       "\n",
       "[5 rows x 87 columns]"
      ]
     },
     "execution_count": 41,
     "metadata": {},
     "output_type": "execute_result"
    }
   ],
   "source": [
    "load_test_data = pd.read_csv(\"data/data_tests.csv\")\n",
    "load_test_data.head()"
   ]
  },
  {
   "cell_type": "code",
   "execution_count": 42,
   "metadata": {},
   "outputs": [
    {
     "data": {
      "text/plain": [
       "7"
      ]
     },
     "execution_count": 42,
     "metadata": {},
     "output_type": "execute_result"
    }
   ],
   "source": [
    "cant_videos = len(load_test_data[\"sequence_id\"].unique())\n",
    "cant_videos"
   ]
  },
  {
   "cell_type": "code",
   "execution_count": 43,
   "metadata": {},
   "outputs": [],
   "source": [
    "padded_data, target = padding_videos(load_test_data)\n",
    "del padded_data[\"sequence_id\"] \n",
    "del padded_data[\"target\"] \n",
    "del padded_data[\"file\"] "
   ]
  },
  {
   "cell_type": "code",
   "execution_count": 44,
   "metadata": {},
   "outputs": [],
   "source": [
    "predicted = None\n",
    "if (max_key == \"SVM\"):\n",
    "    X_val = flat_X(padded_data)\n",
    "    model = load_model(\"svm\")\n",
    "elif (max_key == \"TREE\"):\n",
    "    X_val = flat_X(padded_data)\n",
    "    model = load_model(\"tree\")\n",
    "else:\n",
    "    X_val = padded_data.values.reshape(cant_videos, max_seq_length, num_features_train)\n",
    "    model = tf.keras.models.load_model(\"cnn\")"
   ]
  },
  {
   "cell_type": "code",
   "execution_count": 45,
   "metadata": {},
   "outputs": [],
   "source": [
    "predicted = model.predict(X_val)"
   ]
  },
  {
   "cell_type": "code",
   "execution_count": 49,
   "metadata": {},
   "outputs": [],
   "source": [
    "if (max_key == \"CNN\"):\n",
    "    most_likely_predictions = np.argmax(predicted, axis=1)\n",
    "    predicted = label_encoder.inverse_transform(most_likely_predictions)"
   ]
  },
  {
   "cell_type": "code",
   "execution_count": 51,
   "metadata": {},
   "outputs": [
    {
     "data": {
      "text/plain": [
       "['8_amor', '1_familia', '5_casa', '3_hola', '6_bebida', '4_tiempo', '9_amigo']"
      ]
     },
     "execution_count": 51,
     "metadata": {},
     "output_type": "execute_result"
    }
   ],
   "source": [
    "target"
   ]
  },
  {
   "cell_type": "code",
   "execution_count": 52,
   "metadata": {},
   "outputs": [
    {
     "data": {
      "text/plain": [
       "array(['amor', 'familia', 'casa', 'gracias', 'bebida', 'tiempo', 'amigo'],\n",
       "      dtype='<U9')"
      ]
     },
     "execution_count": 52,
     "metadata": {},
     "output_type": "execute_result"
    }
   ],
   "source": [
    "predicted"
   ]
  },
  {
   "cell_type": "code",
   "execution_count": 53,
   "metadata": {},
   "outputs": [
    {
     "name": "stdout",
     "output_type": "stream",
     "text": [
      "Palabras correctas: 6 de 7\n"
     ]
    }
   ],
   "source": [
    "correct = 0\n",
    "for i in range(cant_videos):\n",
    "    if (predicted[i] == target[i].split(\"_\")[1]):\n",
    "        correct += 1\n",
    "\n",
    "print(f'Palabras correctas: {correct} de {cant_videos}')"
   ]
  }
 ],
 "metadata": {
  "kernelspec": {
   "display_name": "Python 3.9.6 64-bit",
   "language": "python",
   "name": "python3"
  },
  "language_info": {
   "codemirror_mode": {
    "name": "ipython",
    "version": 3
   },
   "file_extension": ".py",
   "mimetype": "text/x-python",
   "name": "python",
   "nbconvert_exporter": "python",
   "pygments_lexer": "ipython3",
   "version": "3.7.0"
  },
  "orig_nbformat": 4,
  "vscode": {
   "interpreter": {
    "hash": "31f2aee4e71d21fbe5cf8b01ff0e069b9275f58929596ceb00d14d90e3e16cd6"
   }
  }
 },
 "nbformat": 4,
 "nbformat_minor": 2
}
