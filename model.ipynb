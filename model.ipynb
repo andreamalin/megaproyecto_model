{
 "cells": [
  {
   "cell_type": "code",
   "execution_count": 1,
   "metadata": {},
   "outputs": [],
   "source": [
    "import pandas as pd\n",
    "import numpy as np\n",
    "import matplotlib.pyplot as plt\n",
    "\n",
    "from sklearn.preprocessing import OneHotEncoder\n",
    "from sklearn.preprocessing import LabelEncoder\n",
    "from sklearn.utils import class_weight\n",
    "\n",
    "from tensorflow.keras.models import Sequential\n",
    "from tensorflow.keras.layers import Dense\n",
    "from keras.layers import Flatten, Convolution2D, MaxPooling2D, Dropout\n",
    "\n",
    "from sklearn.tree import DecisionTreeClassifier\n",
    "from sklearn.ensemble import AdaBoostClassifier\n",
    "\n",
    "from sklearn.svm import SVC\n",
    "\n",
    "from Models import Models, PretrainedModels"
   ]
  },
  {
   "cell_type": "code",
   "execution_count": 2,
   "metadata": {},
   "outputs": [],
   "source": [
    "import random\n",
    "\n",
    "random.seed(10)"
   ]
  },
  {
   "attachments": {},
   "cell_type": "markdown",
   "metadata": {},
   "source": [
    "# Carga de datos"
   ]
  },
  {
   "cell_type": "code",
   "execution_count": 3,
   "metadata": {},
   "outputs": [],
   "source": [
    "train_data = pd.read_csv(\"data/train.csv\")\n",
    "test_data = pd.read_csv(\"data/validation.csv\")"
   ]
  },
  {
   "cell_type": "code",
   "execution_count": 4,
   "metadata": {},
   "outputs": [
    {
     "data": {
      "text/html": [
       "<div>\n",
       "<style scoped>\n",
       "    .dataframe tbody tr th:only-of-type {\n",
       "        vertical-align: middle;\n",
       "    }\n",
       "\n",
       "    .dataframe tbody tr th {\n",
       "        vertical-align: top;\n",
       "    }\n",
       "\n",
       "    .dataframe thead th {\n",
       "        text-align: right;\n",
       "    }\n",
       "</style>\n",
       "<table border=\"1\" class=\"dataframe\">\n",
       "  <thead>\n",
       "    <tr style=\"text-align: right;\">\n",
       "      <th></th>\n",
       "      <th>sequence_id</th>\n",
       "      <th>target</th>\n",
       "      <th>file</th>\n",
       "    </tr>\n",
       "  </thead>\n",
       "  <tbody>\n",
       "    <tr>\n",
       "      <th>0</th>\n",
       "      <td>1</td>\n",
       "      <td>adios</td>\n",
       "      <td>/Users/andreaamaya/Trabajo/megaproyecto_model/...</td>\n",
       "    </tr>\n",
       "    <tr>\n",
       "      <th>1</th>\n",
       "      <td>1</td>\n",
       "      <td>adios</td>\n",
       "      <td>/Users/andreaamaya/Trabajo/megaproyecto_model/...</td>\n",
       "    </tr>\n",
       "    <tr>\n",
       "      <th>2</th>\n",
       "      <td>1</td>\n",
       "      <td>adios</td>\n",
       "      <td>/Users/andreaamaya/Trabajo/megaproyecto_model/...</td>\n",
       "    </tr>\n",
       "    <tr>\n",
       "      <th>3</th>\n",
       "      <td>1</td>\n",
       "      <td>adios</td>\n",
       "      <td>/Users/andreaamaya/Trabajo/megaproyecto_model/...</td>\n",
       "    </tr>\n",
       "    <tr>\n",
       "      <th>4</th>\n",
       "      <td>1</td>\n",
       "      <td>adios</td>\n",
       "      <td>/Users/andreaamaya/Trabajo/megaproyecto_model/...</td>\n",
       "    </tr>\n",
       "  </tbody>\n",
       "</table>\n",
       "</div>"
      ],
      "text/plain": [
       "   sequence_id target                                               file\n",
       "0            1  adios  /Users/andreaamaya/Trabajo/megaproyecto_model/...\n",
       "1            1  adios  /Users/andreaamaya/Trabajo/megaproyecto_model/...\n",
       "2            1  adios  /Users/andreaamaya/Trabajo/megaproyecto_model/...\n",
       "3            1  adios  /Users/andreaamaya/Trabajo/megaproyecto_model/...\n",
       "4            1  adios  /Users/andreaamaya/Trabajo/megaproyecto_model/..."
      ]
     },
     "execution_count": 4,
     "metadata": {},
     "output_type": "execute_result"
    }
   ],
   "source": [
    "train_data.head()"
   ]
  },
  {
   "attachments": {},
   "cell_type": "markdown",
   "metadata": {},
   "source": [
    "# Analisis Exploratorio"
   ]
  },
  {
   "cell_type": "code",
   "execution_count": 5,
   "metadata": {},
   "outputs": [
    {
     "name": "stdout",
     "output_type": "stream",
     "text": [
      "--------------------Train data--------------------\n",
      "Cantidad de filas : 26610\n",
      "Frases unicas : ['aceite', 'adios', 'amigo', 'amor', 'arroz', 'ayuda', 'azucar', 'bebida', 'bolsas de basura', 'carne', 'casa', 'comida', 'dinero', 'enfado', 'entender', 'escuela', 'familia', 'feliz', 'frutas', 'galletas', 'gracias', 'hola', 'huevos', 'jabon', 'leche', 'mantequilla', 'medico', 'necesitar', 'no', 'pan', 'papel higienico', 'pasta', 'pañuelos', 'pescado', 'por favor', 'querer', 'queso', 'sal', 'salud', 'shampoo', 'si', 'sopa', 'tiempo', 'trabajo', 'triste', 'verduras']\n"
     ]
    }
   ],
   "source": [
    "print(\"--------------------Train data--------------------\")\n",
    "print(f\"Cantidad de filas : {train_data.shape[0]}\")\n",
    "train_letters = list(train_data.target.unique())\n",
    "train_letters.sort()\n",
    "print(f\"Frases unicas : {train_letters}\")"
   ]
  },
  {
   "cell_type": "code",
   "execution_count": 6,
   "metadata": {},
   "outputs": [
    {
     "name": "stdout",
     "output_type": "stream",
     "text": [
      "--------------------Test data--------------------\n",
      "Cantidad de filas : 2640\n",
      "Frases unicas : ['aceite', 'adios', 'amigo', 'amor', 'arroz', 'ayuda', 'azucar', 'bebida', 'bolsas de basura', 'carne', 'casa', 'comida', 'dinero', 'enfado', 'entender', 'escuela', 'familia', 'feliz', 'frutas', 'galletas', 'gracias', 'hola', 'huevos', 'jabon', 'leche', 'mantequilla', 'medico', 'necesitar', 'no', 'pan', 'papel higienico', 'pasta', 'pañuelos', 'pescado', 'por favor', 'querer', 'queso', 'sal', 'salud', 'shampoo', 'si', 'sopa', 'tiempo', 'trabajo', 'triste', 'verduras']\n"
     ]
    }
   ],
   "source": [
    "print(\"--------------------Test data--------------------\")\n",
    "print(f\"Cantidad de filas : {test_data.shape[0]}\")\n",
    "test_letters = list(test_data.target.unique())\n",
    "test_letters.sort()\n",
    "print(f\"Frases unicas : {test_letters}\")"
   ]
  },
  {
   "cell_type": "code",
   "execution_count": 7,
   "metadata": {},
   "outputs": [],
   "source": [
    "if (test_letters != train_letters):\n",
    "    raise ValueError(\"Error between target and train\")"
   ]
  },
  {
   "cell_type": "code",
   "execution_count": 8,
   "metadata": {},
   "outputs": [
    {
     "data": {
      "text/html": [
       "<div>\n",
       "<style scoped>\n",
       "    .dataframe tbody tr th:only-of-type {\n",
       "        vertical-align: middle;\n",
       "    }\n",
       "\n",
       "    .dataframe tbody tr th {\n",
       "        vertical-align: top;\n",
       "    }\n",
       "\n",
       "    .dataframe thead th {\n",
       "        text-align: right;\n",
       "    }\n",
       "</style>\n",
       "<table border=\"1\" class=\"dataframe\">\n",
       "  <thead>\n",
       "    <tr style=\"text-align: right;\">\n",
       "      <th></th>\n",
       "      <th>sequence_id</th>\n",
       "    </tr>\n",
       "  </thead>\n",
       "  <tbody>\n",
       "    <tr>\n",
       "      <th>count</th>\n",
       "      <td>26610.000000</td>\n",
       "    </tr>\n",
       "    <tr>\n",
       "      <th>mean</th>\n",
       "      <td>472.598647</td>\n",
       "    </tr>\n",
       "    <tr>\n",
       "      <th>std</th>\n",
       "      <td>279.863008</td>\n",
       "    </tr>\n",
       "    <tr>\n",
       "      <th>min</th>\n",
       "      <td>1.000000</td>\n",
       "    </tr>\n",
       "    <tr>\n",
       "      <th>25%</th>\n",
       "      <td>226.000000</td>\n",
       "    </tr>\n",
       "    <tr>\n",
       "      <th>50%</th>\n",
       "      <td>455.000000</td>\n",
       "    </tr>\n",
       "    <tr>\n",
       "      <th>75%</th>\n",
       "      <td>725.000000</td>\n",
       "    </tr>\n",
       "    <tr>\n",
       "      <th>max</th>\n",
       "      <td>946.000000</td>\n",
       "    </tr>\n",
       "  </tbody>\n",
       "</table>\n",
       "</div>"
      ],
      "text/plain": [
       "        sequence_id\n",
       "count  26610.000000\n",
       "mean     472.598647\n",
       "std      279.863008\n",
       "min        1.000000\n",
       "25%      226.000000\n",
       "50%      455.000000\n",
       "75%      725.000000\n",
       "max      946.000000"
      ]
     },
     "execution_count": 8,
     "metadata": {},
     "output_type": "execute_result"
    }
   ],
   "source": [
    "train_data.describe()"
   ]
  },
  {
   "attachments": {},
   "cell_type": "markdown",
   "metadata": {},
   "source": [
    "# Preprocesamiento del Modelo"
   ]
  },
  {
   "attachments": {},
   "cell_type": "markdown",
   "metadata": {},
   "source": [
    "Solo se obtienen 20 indices de las coordenadas x y y, ya que son las unicas que han sido altamente entrenadas del modelo mediapipe de Google"
   ]
  },
  {
   "cell_type": "code",
   "execution_count": 9,
   "metadata": {},
   "outputs": [],
   "source": [
    "def get_needed_cols():\n",
    "    cols = []\n",
    "\n",
    "    for i in range(21):\n",
    "        cols.append(f'x_Right_hand_{i}')\n",
    "        cols.append(f'y_Right_hand_{i}')\n",
    "        cols.append(f'x_Left_hand_{i}')\n",
    "        cols.append(f'y_Left_hand_{i}')\n",
    "    \n",
    "    return cols"
   ]
  },
  {
   "cell_type": "code",
   "execution_count": 10,
   "metadata": {},
   "outputs": [],
   "source": [
    "df = pd.read_csv(\"data/data.csv\")\n",
    "df_test = df[df['sequence_id'].isin(test_data['sequence_id'])]\n",
    "df_train = df[df['sequence_id'].isin(train_data['sequence_id'])]"
   ]
  },
  {
   "cell_type": "code",
   "execution_count": 11,
   "metadata": {},
   "outputs": [
    {
     "data": {
      "text/html": [
       "<div>\n",
       "<style scoped>\n",
       "    .dataframe tbody tr th:only-of-type {\n",
       "        vertical-align: middle;\n",
       "    }\n",
       "\n",
       "    .dataframe tbody tr th {\n",
       "        vertical-align: top;\n",
       "    }\n",
       "\n",
       "    .dataframe thead th {\n",
       "        text-align: right;\n",
       "    }\n",
       "</style>\n",
       "<table border=\"1\" class=\"dataframe\">\n",
       "  <thead>\n",
       "    <tr style=\"text-align: right;\">\n",
       "      <th></th>\n",
       "      <th>sequence_id</th>\n",
       "      <th>target</th>\n",
       "      <th>x_Left_hand_0</th>\n",
       "      <th>y_Left_hand_0</th>\n",
       "      <th>x_Left_hand_1</th>\n",
       "      <th>y_Left_hand_1</th>\n",
       "      <th>x_Left_hand_2</th>\n",
       "      <th>y_Left_hand_2</th>\n",
       "      <th>x_Left_hand_3</th>\n",
       "      <th>y_Left_hand_3</th>\n",
       "      <th>...</th>\n",
       "      <th>x_Right_hand_16</th>\n",
       "      <th>y_Right_hand_16</th>\n",
       "      <th>x_Right_hand_17</th>\n",
       "      <th>y_Right_hand_17</th>\n",
       "      <th>x_Right_hand_18</th>\n",
       "      <th>y_Right_hand_18</th>\n",
       "      <th>x_Right_hand_19</th>\n",
       "      <th>y_Right_hand_19</th>\n",
       "      <th>x_Right_hand_20</th>\n",
       "      <th>y_Right_hand_20</th>\n",
       "    </tr>\n",
       "  </thead>\n",
       "  <tbody>\n",
       "    <tr>\n",
       "      <th>0</th>\n",
       "      <td>1</td>\n",
       "      <td>adios</td>\n",
       "      <td>0.189560</td>\n",
       "      <td>0.0</td>\n",
       "      <td>0.689331</td>\n",
       "      <td>0.109569</td>\n",
       "      <td>0.907900</td>\n",
       "      <td>0.290353</td>\n",
       "      <td>0.937767</td>\n",
       "      <td>0.462094</td>\n",
       "      <td>...</td>\n",
       "      <td>0.0</td>\n",
       "      <td>0.0</td>\n",
       "      <td>0.0</td>\n",
       "      <td>0.0</td>\n",
       "      <td>0.0</td>\n",
       "      <td>0.0</td>\n",
       "      <td>0.0</td>\n",
       "      <td>0.0</td>\n",
       "      <td>0.0</td>\n",
       "      <td>0.0</td>\n",
       "    </tr>\n",
       "    <tr>\n",
       "      <th>1</th>\n",
       "      <td>1</td>\n",
       "      <td>adios</td>\n",
       "      <td>0.261204</td>\n",
       "      <td>0.0</td>\n",
       "      <td>0.673647</td>\n",
       "      <td>0.132535</td>\n",
       "      <td>0.875866</td>\n",
       "      <td>0.333381</td>\n",
       "      <td>0.931140</td>\n",
       "      <td>0.498942</td>\n",
       "      <td>...</td>\n",
       "      <td>0.0</td>\n",
       "      <td>0.0</td>\n",
       "      <td>0.0</td>\n",
       "      <td>0.0</td>\n",
       "      <td>0.0</td>\n",
       "      <td>0.0</td>\n",
       "      <td>0.0</td>\n",
       "      <td>0.0</td>\n",
       "      <td>0.0</td>\n",
       "      <td>0.0</td>\n",
       "    </tr>\n",
       "    <tr>\n",
       "      <th>2</th>\n",
       "      <td>1</td>\n",
       "      <td>adios</td>\n",
       "      <td>0.179029</td>\n",
       "      <td>0.0</td>\n",
       "      <td>0.642707</td>\n",
       "      <td>0.112931</td>\n",
       "      <td>0.868939</td>\n",
       "      <td>0.298907</td>\n",
       "      <td>0.917407</td>\n",
       "      <td>0.466914</td>\n",
       "      <td>...</td>\n",
       "      <td>0.0</td>\n",
       "      <td>0.0</td>\n",
       "      <td>0.0</td>\n",
       "      <td>0.0</td>\n",
       "      <td>0.0</td>\n",
       "      <td>0.0</td>\n",
       "      <td>0.0</td>\n",
       "      <td>0.0</td>\n",
       "      <td>0.0</td>\n",
       "      <td>0.0</td>\n",
       "    </tr>\n",
       "    <tr>\n",
       "      <th>3</th>\n",
       "      <td>1</td>\n",
       "      <td>adios</td>\n",
       "      <td>0.364079</td>\n",
       "      <td>0.0</td>\n",
       "      <td>0.754242</td>\n",
       "      <td>0.154486</td>\n",
       "      <td>0.963624</td>\n",
       "      <td>0.357678</td>\n",
       "      <td>1.000000</td>\n",
       "      <td>0.522868</td>\n",
       "      <td>...</td>\n",
       "      <td>0.0</td>\n",
       "      <td>0.0</td>\n",
       "      <td>0.0</td>\n",
       "      <td>0.0</td>\n",
       "      <td>0.0</td>\n",
       "      <td>0.0</td>\n",
       "      <td>0.0</td>\n",
       "      <td>0.0</td>\n",
       "      <td>0.0</td>\n",
       "      <td>0.0</td>\n",
       "    </tr>\n",
       "    <tr>\n",
       "      <th>4</th>\n",
       "      <td>1</td>\n",
       "      <td>adios</td>\n",
       "      <td>0.588405</td>\n",
       "      <td>0.0</td>\n",
       "      <td>0.895435</td>\n",
       "      <td>0.207583</td>\n",
       "      <td>1.000000</td>\n",
       "      <td>0.423537</td>\n",
       "      <td>0.926369</td>\n",
       "      <td>0.583810</td>\n",
       "      <td>...</td>\n",
       "      <td>0.0</td>\n",
       "      <td>0.0</td>\n",
       "      <td>0.0</td>\n",
       "      <td>0.0</td>\n",
       "      <td>0.0</td>\n",
       "      <td>0.0</td>\n",
       "      <td>0.0</td>\n",
       "      <td>0.0</td>\n",
       "      <td>0.0</td>\n",
       "      <td>0.0</td>\n",
       "    </tr>\n",
       "  </tbody>\n",
       "</table>\n",
       "<p>5 rows × 86 columns</p>\n",
       "</div>"
      ],
      "text/plain": [
       "   sequence_id target  x_Left_hand_0  y_Left_hand_0  x_Left_hand_1  \\\n",
       "0            1  adios       0.189560            0.0       0.689331   \n",
       "1            1  adios       0.261204            0.0       0.673647   \n",
       "2            1  adios       0.179029            0.0       0.642707   \n",
       "3            1  adios       0.364079            0.0       0.754242   \n",
       "4            1  adios       0.588405            0.0       0.895435   \n",
       "\n",
       "   y_Left_hand_1  x_Left_hand_2  y_Left_hand_2  x_Left_hand_3  y_Left_hand_3  \\\n",
       "0       0.109569       0.907900       0.290353       0.937767       0.462094   \n",
       "1       0.132535       0.875866       0.333381       0.931140       0.498942   \n",
       "2       0.112931       0.868939       0.298907       0.917407       0.466914   \n",
       "3       0.154486       0.963624       0.357678       1.000000       0.522868   \n",
       "4       0.207583       1.000000       0.423537       0.926369       0.583810   \n",
       "\n",
       "   ...  x_Right_hand_16  y_Right_hand_16  x_Right_hand_17  y_Right_hand_17  \\\n",
       "0  ...              0.0              0.0              0.0              0.0   \n",
       "1  ...              0.0              0.0              0.0              0.0   \n",
       "2  ...              0.0              0.0              0.0              0.0   \n",
       "3  ...              0.0              0.0              0.0              0.0   \n",
       "4  ...              0.0              0.0              0.0              0.0   \n",
       "\n",
       "   x_Right_hand_18  y_Right_hand_18  x_Right_hand_19  y_Right_hand_19  \\\n",
       "0              0.0              0.0              0.0              0.0   \n",
       "1              0.0              0.0              0.0              0.0   \n",
       "2              0.0              0.0              0.0              0.0   \n",
       "3              0.0              0.0              0.0              0.0   \n",
       "4              0.0              0.0              0.0              0.0   \n",
       "\n",
       "   x_Right_hand_20  y_Right_hand_20  \n",
       "0              0.0              0.0  \n",
       "1              0.0              0.0  \n",
       "2              0.0              0.0  \n",
       "3              0.0              0.0  \n",
       "4              0.0              0.0  \n",
       "\n",
       "[5 rows x 86 columns]"
      ]
     },
     "execution_count": 11,
     "metadata": {},
     "output_type": "execute_result"
    }
   ],
   "source": [
    "df.head()"
   ]
  },
  {
   "cell_type": "code",
   "execution_count": 12,
   "metadata": {},
   "outputs": [
    {
     "name": "stdout",
     "output_type": "stream",
     "text": [
      "32670\n",
      "True\n",
      "True\n"
     ]
    }
   ],
   "source": [
    "print(len(df))\n",
    "print(len(df_test) == len(test_data))\n",
    "print(len(df_train) == len(train_data))"
   ]
  },
  {
   "cell_type": "markdown",
   "metadata": {},
   "source": [
    "# Modelo"
   ]
  },
  {
   "cell_type": "code",
   "execution_count": 13,
   "metadata": {},
   "outputs": [
    {
     "data": {
      "image/png": "[encoded data removed]",
      "text/plain": [
       "<Figure size 640x480 with 1 Axes>"
      ]
     },
     "metadata": {},
     "output_type": "display_data"
    }
   ],
   "source": [
    "# Compute the lengths of the video sequences\n",
    "video_lengths = df.groupby('sequence_id').size()\n",
    "max_seq_length = video_lengths.max()\n",
    "# max_seq_length = 30\n",
    "# Plot the histogram\n",
    "plt.hist(video_lengths, bins=30)  # Adjust the number of bins as needed\n",
    "plt.xlabel('Video Length')\n",
    "plt.ylabel('Frequency')\n",
    "plt.title('Histogram of Video Lengths')\n",
    "plt.show()"
   ]
  },
  {
   "cell_type": "code",
   "execution_count": 14,
   "metadata": {},
   "outputs": [
    {
     "data": {
      "text/plain": [
       "30"
      ]
     },
     "execution_count": 14,
     "metadata": {},
     "output_type": "execute_result"
    }
   ],
   "source": [
    "video_lengths.max()"
   ]
  },
  {
   "cell_type": "code",
   "execution_count": 15,
   "metadata": {},
   "outputs": [],
   "source": [
    "# Create a one-hot encoder\n",
    "label_encoder = LabelEncoder()"
   ]
  },
  {
   "cell_type": "code",
   "execution_count": 16,
   "metadata": {},
   "outputs": [],
   "source": [
    "def padding_labels(target):\n",
    "    integer_encoded = label_encoder.fit_transform(target)\n",
    "    integer_encoded = integer_encoded.reshape(-1, 1)\n",
    "\n",
    "    # Encode the word \"Hello\"\n",
    "    onehot_encoder = OneHotEncoder(sparse=False)  # sparse=False to get a numpy array as output\n",
    "    onehot_encoded = onehot_encoder.fit_transform(integer_encoded)\n",
    "    return onehot_encoded"
   ]
  },
  {
   "cell_type": "code",
   "execution_count": 17,
   "metadata": {},
   "outputs": [],
   "source": [
    "target_train = df_train['target'][df_train.groupby('sequence_id').cumcount() == 0].tolist()"
   ]
  },
  {
   "cell_type": "code",
   "execution_count": 18,
   "metadata": {},
   "outputs": [
    {
     "name": "stderr",
     "output_type": "stream",
     "text": [
      "/Users/andreaamaya/Library/Python/3.9/lib/python/site-packages/sklearn/preprocessing/_encoders.py:972: FutureWarning: `sparse` was renamed to `sparse_output` in version 1.2 and will be removed in 1.4. `sparse_output` is ignored unless you leave `sparse` to its default value.\n",
      "  warnings.warn(\n"
     ]
    }
   ],
   "source": [
    "X_train = df_train\n",
    "y_train = padding_labels(target_train)"
   ]
  },
  {
   "cell_type": "code",
   "execution_count": 19,
   "metadata": {},
   "outputs": [
    {
     "name": "stdout",
     "output_type": "stream",
     "text": [
      "26610 887\n"
     ]
    }
   ],
   "source": [
    "del X_train[\"sequence_id\"] \n",
    "del X_train[\"target\"] \n",
    "\n",
    "print(len(X_train), len(y_train))"
   ]
  },
  {
   "cell_type": "code",
   "execution_count": 20,
   "metadata": {},
   "outputs": [],
   "source": [
    "target_test = df_test['target'][df_test.groupby('sequence_id').cumcount() == 0].tolist()"
   ]
  },
  {
   "cell_type": "code",
   "execution_count": 21,
   "metadata": {},
   "outputs": [
    {
     "name": "stderr",
     "output_type": "stream",
     "text": [
      "/Users/andreaamaya/Library/Python/3.9/lib/python/site-packages/sklearn/preprocessing/_encoders.py:972: FutureWarning: `sparse` was renamed to `sparse_output` in version 1.2 and will be removed in 1.4. `sparse_output` is ignored unless you leave `sparse` to its default value.\n",
      "  warnings.warn(\n"
     ]
    }
   ],
   "source": [
    "X_test = df_test\n",
    "y_test = padding_labels(target_test)"
   ]
  },
  {
   "cell_type": "code",
   "execution_count": 22,
   "metadata": {},
   "outputs": [
    {
     "name": "stdout",
     "output_type": "stream",
     "text": [
      "2640 88\n"
     ]
    }
   ],
   "source": [
    "del X_test[\"sequence_id\"] \n",
    "del X_test[\"target\"] \n",
    "\n",
    "print(len(X_test), len(y_test))"
   ]
  },
  {
   "cell_type": "code",
   "execution_count": 23,
   "metadata": {},
   "outputs": [
    {
     "data": {
      "text/plain": [
       "False"
      ]
     },
     "execution_count": 23,
     "metadata": {},
     "output_type": "execute_result"
    }
   ],
   "source": [
    "len(y_train) + len(y_test) == len(df[\"sequence_id\"].unique())"
   ]
  },
  {
   "cell_type": "code",
   "execution_count": 24,
   "metadata": {},
   "outputs": [],
   "source": [
    "models = Models()"
   ]
  },
  {
   "cell_type": "code",
   "execution_count": 25,
   "metadata": {},
   "outputs": [],
   "source": [
    "X_test_flat = models.get_flat_X(X_test)"
   ]
  },
  {
   "cell_type": "code",
   "execution_count": 26,
   "metadata": {},
   "outputs": [],
   "source": [
    "X_test = models.get_three_dimensions(X_test)"
   ]
  },
  {
   "cell_type": "code",
   "execution_count": 27,
   "metadata": {},
   "outputs": [],
   "source": [
    "X_train_flat = models.get_flat_X(X_train)"
   ]
  },
  {
   "cell_type": "code",
   "execution_count": 28,
   "metadata": {},
   "outputs": [],
   "source": [
    "X_train = models.get_three_dimensions(X_train)"
   ]
  },
  {
   "cell_type": "code",
   "execution_count": 29,
   "metadata": {},
   "outputs": [
    {
     "name": "stdout",
     "output_type": "stream",
     "text": [
      "Train: (887, 30, 84) (887, 46)\n",
      "Test: (88, 30, 84) (88, 46)\n"
     ]
    }
   ],
   "source": [
    "print('Train:', X_train.shape, y_train.shape)\n",
    "print('Test:', X_test.shape, y_test.shape)"
   ]
  },
  {
   "cell_type": "markdown",
   "metadata": {},
   "source": [
    "# Modelo\n",
    "La entrada son las coordenadas de las manos. Cada video cuenta con n cantidad de filas, 84 columnas (21 columnas por cada coordenada y por ambas manos).\n",
    "La salida es la frase. La frase se representa por un entero que da el one hot encoder.\n",
    "\n",
    "Se usa convoluciones para resaltar las caracteristicas en la entrada. Debido a que la entrada son coordenadas normalizadas de un video, se supone que funciona igual que si la entrada fuera una imagen. Estas redes extraen caracteristicas de forma automatica para clasificar objetos luego. Al buscar patrones, se espera que pueda predecir un video que ya ha sido entrenado previamente.\n",
    "\n",
    "Se reduce el tamaño de la entrada haciendo uso de max pooling y flatten.\n",
    "\n",
    "Se hace uso de Dense para conectar entradas con salidas.\n",
    "\n",
    "Se hace uso de Dropout para evitar el sobreajuste.\n",
    "\n",
    "Relu elimina negativos. \n",
    "Sigmoid nos ayuda a obtener la probabilidad de que un ejemplo pertenezca a la clase positiva.\n",
    "Softmax hace clasificacion multiclase (en nuestro caso las palabras a predecir)."
   ]
  },
  {
   "cell_type": "code",
   "execution_count": 30,
   "metadata": {},
   "outputs": [],
   "source": [
    "class_weights = class_weight.compute_class_weight(\n",
    "                                        class_weight = \"balanced\",\n",
    "                                        classes = np.unique(target_train),\n",
    "                                        y = target_train                                                    \n",
    "                                    )\n",
    "class_weights = dict(zip(np.unique(target_train), class_weights))"
   ]
  },
  {
   "cell_type": "code",
   "execution_count": 31,
   "metadata": {},
   "outputs": [],
   "source": [
    "cnn_model = Sequential()\n",
    "cnn_model.add(Convolution2D(32, (3, 3), padding=\"same\", input_shape=(max_seq_length, models.num_features, 1), activation='relu'))\n",
    "cnn_model.add(MaxPooling2D(pool_size=(2, 2)))\n",
    "\n",
    "cnn_model.add(Convolution2D(64, (3, 3), activation='relu'))\n",
    "cnn_model.add(MaxPooling2D(pool_size=(2, 2)))\n",
    "\n",
    "cnn_model.add(Convolution2D(128, (3, 3), activation='relu'))\n",
    "cnn_model.add(MaxPooling2D(pool_size=(2, 2)))\n",
    "\n",
    "\n",
    "cnn_model.add(Convolution2D(256, (3, 3), padding=\"same\", activation='relu'))\n",
    "cnn_model.add(MaxPooling2D(pool_size=(2, 2), strides=2))\n",
    "\n",
    "\n",
    "cnn_model.add(Flatten())\n",
    "\n",
    "cnn_model.add(Dense(256, activation='relu'))\n",
    "cnn_model.add(Dropout(0.5))\n",
    "cnn_model.add(Dense(len(y_train[1]), activation='softmax'))"
   ]
  },
  {
   "cell_type": "code",
   "execution_count": 32,
   "metadata": {},
   "outputs": [
    {
     "name": "stdout",
     "output_type": "stream",
     "text": [
      "Epoch 1/50\n",
      "111/111 [==============================] - 2s 11ms/step - loss: 3.7770 - accuracy: 0.0271 - val_loss: 3.5533 - val_accuracy: 0.0227\n",
      "Epoch 2/50\n",
      "111/111 [==============================] - 1s 10ms/step - loss: 3.4362 - accuracy: 0.0530 - val_loss: 3.3514 - val_accuracy: 0.0795\n",
      "Epoch 3/50\n",
      "111/111 [==============================] - 1s 11ms/step - loss: 3.2124 - accuracy: 0.0800 - val_loss: 3.2199 - val_accuracy: 0.0795\n",
      "Epoch 4/50\n",
      "111/111 [==============================] - 1s 11ms/step - loss: 2.9582 - accuracy: 0.1263 - val_loss: 3.0001 - val_accuracy: 0.0909\n",
      "Epoch 5/50\n",
      "111/111 [==============================] - 1s 12ms/step - loss: 2.6801 - accuracy: 0.1962 - val_loss: 3.0280 - val_accuracy: 0.1136\n",
      "Epoch 6/50\n",
      "111/111 [==============================] - 1s 12ms/step - loss: 2.3367 - accuracy: 0.2728 - val_loss: 2.8057 - val_accuracy: 0.2386\n",
      "Epoch 7/50\n",
      "111/111 [==============================] - 1s 11ms/step - loss: 1.9719 - accuracy: 0.3946 - val_loss: 2.6950 - val_accuracy: 0.2955\n",
      "Epoch 8/50\n",
      "111/111 [==============================] - 1s 12ms/step - loss: 1.6769 - accuracy: 0.4363 - val_loss: 2.6629 - val_accuracy: 0.3068\n",
      "Epoch 9/50\n",
      "111/111 [==============================] - 1s 12ms/step - loss: 1.3986 - accuracy: 0.5378 - val_loss: 2.5877 - val_accuracy: 0.3295\n",
      "Epoch 10/50\n",
      "111/111 [==============================] - 1s 12ms/step - loss: 1.1505 - accuracy: 0.6325 - val_loss: 2.6393 - val_accuracy: 0.3182\n",
      "Epoch 11/50\n",
      "111/111 [==============================] - 1s 12ms/step - loss: 0.9368 - accuracy: 0.7103 - val_loss: 2.4833 - val_accuracy: 0.3523\n",
      "Epoch 12/50\n",
      "111/111 [==============================] - 1s 12ms/step - loss: 0.7211 - accuracy: 0.7565 - val_loss: 2.5111 - val_accuracy: 0.4659\n",
      "Epoch 13/50\n",
      "111/111 [==============================] - 1s 13ms/step - loss: 0.6875 - accuracy: 0.7858 - val_loss: 3.1510 - val_accuracy: 0.4432\n",
      "Epoch 14/50\n",
      "111/111 [==============================] - 1s 12ms/step - loss: 0.5436 - accuracy: 0.8151 - val_loss: 2.4663 - val_accuracy: 0.4886\n",
      "Epoch 15/50\n",
      "111/111 [==============================] - 1s 13ms/step - loss: 0.4145 - accuracy: 0.8579 - val_loss: 2.5329 - val_accuracy: 0.5341\n",
      "Epoch 16/50\n",
      "111/111 [==============================] - 1s 13ms/step - loss: 0.4217 - accuracy: 0.8658 - val_loss: 2.3538 - val_accuracy: 0.5227\n",
      "Epoch 17/50\n",
      "111/111 [==============================] - 1s 13ms/step - loss: 0.2708 - accuracy: 0.9109 - val_loss: 3.1145 - val_accuracy: 0.4773\n",
      "Epoch 18/50\n",
      "111/111 [==============================] - 1s 13ms/step - loss: 0.3220 - accuracy: 0.8850 - val_loss: 2.9103 - val_accuracy: 0.5455\n",
      "Epoch 19/50\n",
      "111/111 [==============================] - 1s 13ms/step - loss: 0.2586 - accuracy: 0.9132 - val_loss: 2.7906 - val_accuracy: 0.5227\n",
      "Epoch 20/50\n",
      "111/111 [==============================] - 1s 13ms/step - loss: 0.2284 - accuracy: 0.9278 - val_loss: 2.8985 - val_accuracy: 0.5227\n",
      "Epoch 21/50\n",
      "111/111 [==============================] - 1s 13ms/step - loss: 0.1859 - accuracy: 0.9459 - val_loss: 2.4425 - val_accuracy: 0.5909\n",
      "Epoch 22/50\n",
      "111/111 [==============================] - 1s 12ms/step - loss: 0.1674 - accuracy: 0.9470 - val_loss: 3.2158 - val_accuracy: 0.5455\n",
      "Epoch 23/50\n",
      "111/111 [==============================] - 1s 12ms/step - loss: 0.1287 - accuracy: 0.9594 - val_loss: 3.2821 - val_accuracy: 0.4886\n",
      "Epoch 24/50\n",
      "111/111 [==============================] - 1s 12ms/step - loss: 0.1360 - accuracy: 0.9572 - val_loss: 3.6283 - val_accuracy: 0.5341\n",
      "Epoch 25/50\n",
      "111/111 [==============================] - 1s 12ms/step - loss: 0.1591 - accuracy: 0.9481 - val_loss: 2.8813 - val_accuracy: 0.5455\n",
      "Epoch 26/50\n",
      "111/111 [==============================] - 1s 12ms/step - loss: 0.1461 - accuracy: 0.9526 - val_loss: 3.4041 - val_accuracy: 0.4773\n",
      "Epoch 27/50\n",
      "111/111 [==============================] - 1s 12ms/step - loss: 0.1236 - accuracy: 0.9673 - val_loss: 2.6927 - val_accuracy: 0.6250\n",
      "Epoch 28/50\n",
      "111/111 [==============================] - 1s 12ms/step - loss: 0.0998 - accuracy: 0.9696 - val_loss: 3.4483 - val_accuracy: 0.5341\n",
      "Epoch 29/50\n",
      "111/111 [==============================] - 1s 12ms/step - loss: 0.1906 - accuracy: 0.9346 - val_loss: 3.0252 - val_accuracy: 0.5341\n",
      "Epoch 30/50\n",
      "111/111 [==============================] - 1s 12ms/step - loss: 0.1054 - accuracy: 0.9639 - val_loss: 2.8884 - val_accuracy: 0.5568\n",
      "Epoch 31/50\n",
      "111/111 [==============================] - 1s 12ms/step - loss: 0.0812 - accuracy: 0.9741 - val_loss: 3.2800 - val_accuracy: 0.5227\n",
      "Epoch 32/50\n",
      "111/111 [==============================] - 1s 12ms/step - loss: 0.0652 - accuracy: 0.9786 - val_loss: 3.6782 - val_accuracy: 0.4886\n",
      "Epoch 33/50\n",
      "111/111 [==============================] - 1s 12ms/step - loss: 0.0638 - accuracy: 0.9775 - val_loss: 3.1120 - val_accuracy: 0.5568\n",
      "Epoch 34/50\n",
      "111/111 [==============================] - 1s 12ms/step - loss: 0.0595 - accuracy: 0.9808 - val_loss: 3.2329 - val_accuracy: 0.5455\n",
      "Epoch 35/50\n",
      "111/111 [==============================] - 1s 12ms/step - loss: 0.1315 - accuracy: 0.9594 - val_loss: 3.0577 - val_accuracy: 0.5568\n",
      "Epoch 36/50\n",
      "111/111 [==============================] - 1s 12ms/step - loss: 0.1194 - accuracy: 0.9651 - val_loss: 3.3792 - val_accuracy: 0.5227\n",
      "Epoch 37/50\n",
      "111/111 [==============================] - 1s 12ms/step - loss: 0.0863 - accuracy: 0.9707 - val_loss: 3.1727 - val_accuracy: 0.5568\n",
      "Epoch 38/50\n",
      "111/111 [==============================] - 1s 12ms/step - loss: 0.0791 - accuracy: 0.9651 - val_loss: 3.5808 - val_accuracy: 0.5455\n",
      "Epoch 39/50\n",
      "111/111 [==============================] - 1s 13ms/step - loss: 0.1028 - accuracy: 0.9639 - val_loss: 3.6201 - val_accuracy: 0.5341\n",
      "Epoch 40/50\n",
      "111/111 [==============================] - 1s 12ms/step - loss: 0.0601 - accuracy: 0.9842 - val_loss: 3.4486 - val_accuracy: 0.5341\n",
      "Epoch 41/50\n",
      "111/111 [==============================] - 1s 13ms/step - loss: 0.0575 - accuracy: 0.9752 - val_loss: 3.3236 - val_accuracy: 0.5227\n",
      "Epoch 42/50\n",
      "111/111 [==============================] - 1s 13ms/step - loss: 0.0998 - accuracy: 0.9718 - val_loss: 3.7459 - val_accuracy: 0.4886\n",
      "Epoch 43/50\n",
      "111/111 [==============================] - 1s 12ms/step - loss: 0.0478 - accuracy: 0.9842 - val_loss: 4.1016 - val_accuracy: 0.5455\n",
      "Epoch 44/50\n",
      "111/111 [==============================] - 1s 12ms/step - loss: 0.0391 - accuracy: 0.9899 - val_loss: 3.8638 - val_accuracy: 0.5568\n",
      "Epoch 45/50\n",
      "111/111 [==============================] - 1s 12ms/step - loss: 0.0316 - accuracy: 0.9887 - val_loss: 3.5910 - val_accuracy: 0.5795\n",
      "Epoch 46/50\n",
      "111/111 [==============================] - 1s 12ms/step - loss: 0.0537 - accuracy: 0.9831 - val_loss: 4.1176 - val_accuracy: 0.5341\n",
      "Epoch 47/50\n",
      "111/111 [==============================] - 1s 12ms/step - loss: 0.0481 - accuracy: 0.9842 - val_loss: 3.5951 - val_accuracy: 0.5455\n",
      "Epoch 48/50\n",
      "111/111 [==============================] - 1s 12ms/step - loss: 0.0342 - accuracy: 0.9899 - val_loss: 3.0571 - val_accuracy: 0.6023\n",
      "Epoch 49/50\n",
      "111/111 [==============================] - 1s 12ms/step - loss: 0.0461 - accuracy: 0.9820 - val_loss: 3.7533 - val_accuracy: 0.5795\n",
      "Epoch 50/50\n",
      "111/111 [==============================] - 1s 12ms/step - loss: 0.0333 - accuracy: 0.9887 - val_loss: 3.9131 - val_accuracy: 0.5455\n",
      "3/3 [==============================] - 0s 9ms/step\n",
      "3/3 [==============================] - 0s 9ms/step - loss: 3.9131 - accuracy: 0.5455\n",
      "Test Accuracy: 0.5454545617103577\n"
     ]
    }
   ],
   "source": [
    "# Compile the model\n",
    "cnn_model.compile(loss='categorical_crossentropy', optimizer='adam', metrics=['accuracy'])\n",
    "\n",
    "# Train the model\n",
    "history = cnn_model.fit(X_train, y_train, epochs=50, batch_size=8, validation_data=(X_test, y_test))\n",
    "# Get the predictions from the model\n",
    "y_pred_cnn = cnn_model.predict(X_test)# Find the most likely prediction for each sample\n",
    "\n",
    "most_likely_predictions = np.argmax(y_pred_cnn, axis=1)\n",
    "cnn_test_pred = label_encoder.inverse_transform(most_likely_predictions)\n",
    "\n",
    "test_loss, test_accuracy = cnn_model.evaluate(X_test, y_test)\n",
    "print(f\"Test Accuracy: {test_accuracy}\")"
   ]
  },
  {
   "cell_type": "code",
   "execution_count": 33,
   "metadata": {},
   "outputs": [
    {
     "name": "stdout",
     "output_type": "stream",
     "text": [
      "Accuracy: 0.70\n"
     ]
    }
   ],
   "source": [
    "# Create an AdaBoost classifier with a base model (e.g., DecisionTreeClassifier)\n",
    "base_model = DecisionTreeClassifier(max_depth=len(test_letters) - 1, min_samples_split=6, min_samples_leaf=4, class_weight=class_weights)\n",
    "decision_tree = AdaBoostClassifier(base_model, n_estimators=300, random_state=42)\n",
    "\n",
    "# Fit the ensemble model\n",
    "decision_tree.fit(X_train_flat, target_train)\n",
    "\n",
    "# Make predictions\n",
    "y_pred_tree = decision_tree.predict(X_test_flat)\n",
    "\n",
    "# Calculate the accuracy score on a test dataset\n",
    "accuracy_tree = decision_tree.score(X_test_flat, target_test)\n",
    "\n",
    "# Print the accuracy\n",
    "print(f'Accuracy: {accuracy_tree:.2f}')"
   ]
  },
  {
   "cell_type": "code",
   "execution_count": 34,
   "metadata": {},
   "outputs": [
    {
     "name": "stdout",
     "output_type": "stream",
     "text": [
      "Accuracy: 0.57\n"
     ]
    }
   ],
   "source": [
    "# Create an SVC classifier\n",
    "svm_classifier = SVC(C=0.1, kernel=\"linear\", gamma=0.001, class_weight=class_weights)\n",
    "# Fit the grid search to your training data\n",
    "svm_classifier.fit(X_train_flat, target_train)\n",
    "# Evaluate the model on the test data\n",
    "y_pred_svm = svm_classifier.predict(X_test_flat)\n",
    "\n",
    "# Calculate the accuracy score on a test dataset\n",
    "accuracy_svm = svm_classifier.score(X_test_flat, target_test)\n",
    "\n",
    "# Print the accuracy\n",
    "print(f'Accuracy: {accuracy_svm:.2f}')"
   ]
  },
  {
   "cell_type": "markdown",
   "metadata": {},
   "source": [
    "# Guardando los modelos"
   ]
  },
  {
   "cell_type": "code",
   "execution_count": 35,
   "metadata": {},
   "outputs": [
    {
     "name": "stdout",
     "output_type": "stream",
     "text": [
      "INFO:tensorflow:Assets written to: cnn/assets\n"
     ]
    },
    {
     "name": "stderr",
     "output_type": "stream",
     "text": [
      "INFO:tensorflow:Assets written to: cnn/assets\n"
     ]
    }
   ],
   "source": [
    "cnn_model.save('cnn')\n",
    "models.save_model(\"tree\", decision_tree)\n",
    "models.save_model(\"svm\", svm_classifier)"
   ]
  },
  {
   "cell_type": "code",
   "execution_count": 36,
   "metadata": {},
   "outputs": [],
   "source": [
    "models.save_model(\"label_encoder\", label_encoder)"
   ]
  },
  {
   "cell_type": "markdown",
   "metadata": {},
   "source": [
    "# Usando los tres modelos"
   ]
  },
  {
   "cell_type": "code",
   "execution_count": 37,
   "metadata": {},
   "outputs": [
    {
     "name": "stdout",
     "output_type": "stream",
     "text": [
      "1/1 [==============================] - 0s 46ms/step\n",
      "1/1 [==============================] - 0s 10ms/step\n",
      "1/1 [==============================] - 0s 10ms/step\n",
      "1/1 [==============================] - 0s 10ms/step\n",
      "1/1 [==============================] - 0s 10ms/step\n",
      "1/1 [==============================] - 0s 10ms/step\n",
      "1/1 [==============================] - 0s 10ms/step\n",
      "1/1 [==============================] - 0s 11ms/step\n",
      "1/1 [==============================] - 0s 11ms/step\n",
      "1/1 [==============================] - 0s 10ms/step\n",
      "1/1 [==============================] - 0s 10ms/step\n",
      "1/1 [==============================] - 0s 10ms/step\n",
      "1/1 [==============================] - 0s 10ms/step\n",
      "1/1 [==============================] - 0s 10ms/step\n",
      "1/1 [==============================] - 0s 10ms/step\n",
      "1/1 [==============================] - 0s 10ms/step\n",
      "1/1 [==============================] - 0s 10ms/step\n",
      "1/1 [==============================] - 0s 10ms/step\n",
      "1/1 [==============================] - 0s 10ms/step\n",
      "1/1 [==============================] - 0s 10ms/step\n",
      "1/1 [==============================] - 0s 10ms/step\n",
      "1/1 [==============================] - 0s 10ms/step\n",
      "1/1 [==============================] - 0s 10ms/step\n",
      "1/1 [==============================] - 0s 10ms/step\n",
      "1/1 [==============================] - 0s 10ms/step\n",
      "1/1 [==============================] - 0s 10ms/step\n",
      "1/1 [==============================] - 0s 10ms/step\n",
      "1/1 [==============================] - 0s 10ms/step\n",
      "1/1 [==============================] - 0s 10ms/step\n",
      "1/1 [==============================] - 0s 10ms/step\n",
      "1/1 [==============================] - 0s 10ms/step\n",
      "1/1 [==============================] - 0s 10ms/step\n",
      "1/1 [==============================] - 0s 10ms/step\n",
      "1/1 [==============================] - 0s 10ms/step\n",
      "1/1 [==============================] - 0s 10ms/step\n",
      "1/1 [==============================] - 0s 10ms/step\n",
      "1/1 [==============================] - 0s 10ms/step\n",
      "1/1 [==============================] - 0s 10ms/step\n",
      "1/1 [==============================] - 0s 10ms/step\n",
      "1/1 [==============================] - 0s 10ms/step\n",
      "1/1 [==============================] - 0s 10ms/step\n",
      "1/1 [==============================] - 0s 10ms/step\n",
      "1/1 [==============================] - 0s 10ms/step\n",
      "1/1 [==============================] - 0s 10ms/step\n",
      "1/1 [==============================] - 0s 10ms/step\n",
      "1/1 [==============================] - 0s 10ms/step\n",
      "1/1 [==============================] - 0s 10ms/step\n",
      "1/1 [==============================] - 0s 10ms/step\n",
      "1/1 [==============================] - 0s 10ms/step\n",
      "1/1 [==============================] - 0s 10ms/step\n",
      "1/1 [==============================] - 0s 10ms/step\n",
      "1/1 [==============================] - 0s 10ms/step\n",
      "1/1 [==============================] - 0s 10ms/step\n",
      "1/1 [==============================] - 0s 10ms/step\n",
      "1/1 [==============================] - 0s 10ms/step\n",
      "1/1 [==============================] - 0s 10ms/step\n",
      "1/1 [==============================] - 0s 10ms/step\n",
      "1/1 [==============================] - 0s 10ms/step\n",
      "1/1 [==============================] - 0s 10ms/step\n",
      "1/1 [==============================] - 0s 10ms/step\n",
      "1/1 [==============================] - 0s 10ms/step\n",
      "1/1 [==============================] - 0s 10ms/step\n",
      "1/1 [==============================] - 0s 10ms/step\n",
      "1/1 [==============================] - 0s 10ms/step\n",
      "1/1 [==============================] - 0s 10ms/step\n",
      "1/1 [==============================] - 0s 10ms/step\n",
      "1/1 [==============================] - 0s 10ms/step\n",
      "1/1 [==============================] - 0s 10ms/step\n",
      "1/1 [==============================] - 0s 10ms/step\n",
      "1/1 [==============================] - 0s 10ms/step\n",
      "1/1 [==============================] - 0s 10ms/step\n",
      "1/1 [==============================] - 0s 10ms/step\n",
      "1/1 [==============================] - 0s 10ms/step\n",
      "1/1 [==============================] - 0s 10ms/step\n",
      "1/1 [==============================] - 0s 10ms/step\n",
      "1/1 [==============================] - 0s 10ms/step\n",
      "1/1 [==============================] - 0s 10ms/step\n",
      "1/1 [==============================] - 0s 10ms/step\n",
      "1/1 [==============================] - 0s 10ms/step\n",
      "1/1 [==============================] - 0s 10ms/step\n",
      "1/1 [==============================] - 0s 10ms/step\n",
      "1/1 [==============================] - 0s 10ms/step\n",
      "1/1 [==============================] - 0s 10ms/step\n",
      "1/1 [==============================] - 0s 10ms/step\n",
      "1/1 [==============================] - 0s 10ms/step\n",
      "1/1 [==============================] - 0s 10ms/step\n",
      "1/1 [==============================] - 0s 10ms/step\n",
      "1/1 [==============================] - 0s 10ms/step\n"
     ]
    }
   ],
   "source": [
    "pretainedModels = PretrainedModels()\n",
    "results = pretainedModels.get_predictions(df_test)\n",
    "results = pretainedModels.get_unique_pred()"
   ]
  },
  {
   "cell_type": "code",
   "execution_count": 38,
   "metadata": {},
   "outputs": [
    {
     "name": "stdout",
     "output_type": "stream",
     "text": [
      ">>> LOG INCORRECTA: \n",
      "            Predicho:  ['queso', 'azucar']\n",
      "            Correcto:  familia\n",
      ">>> LOG INCORRECTA: \n",
      "            Predicho:  ['bebida', 'arroz']\n",
      "            Correcto:  entender\n",
      ">>> LOG INCORRECTA: \n",
      "            Predicho:  ['sal', 'jabon', 'azucar']\n",
      "            Correcto:  querer\n",
      ">>> LOG INCORRECTA: \n",
      "            Predicho:  ['hola']\n",
      "            Correcto:  adios\n",
      ">>> LOG INCORRECTA: \n",
      "            Predicho:  ['adios', 'casa']\n",
      "            Correcto:  hola\n",
      ">>> LOG INCORRECTA: \n",
      "            Predicho:  ['tiempo', 'amor']\n",
      "            Correcto:  feliz\n",
      ">>> LOG INCORRECTA: \n",
      "            Predicho:  ['salud', 'pañuelos', 'ayuda']\n",
      "            Correcto:  escuela\n",
      ">>> LOG INCORRECTA: \n",
      "            Predicho:  ['salud', 'feliz', 'ayuda']\n",
      "            Correcto:  escuela\n",
      ">>> LOG INCORRECTA: \n",
      "            Predicho:  ['frutas', 'sopa']\n",
      "            Correcto:  azucar\n",
      ">>> LOG INCORRECTA: \n",
      "            Predicho:  ['tiempo', 'sal']\n",
      "            Correcto:  aceite\n",
      ">>> LOG INCORRECTA: \n",
      "            Predicho:  ['sopa', 'papel higienico', 'verduras']\n",
      "            Correcto:  queso\n",
      ">>> LOG INCORRECTA: \n",
      "            Predicho:  ['escuela', 'casa']\n",
      "            Correcto:  mantequilla\n",
      ">>> LOG INCORRECTA: \n",
      "            Predicho:  ['querer', 'enfado']\n",
      "            Correcto:  jabon\n",
      ">>> LOG INCORRECTA: \n",
      "            Predicho:  ['casa', 'carne']\n",
      "            Correcto:  shampoo\n",
      ">>> LOG INCORRECTA: \n",
      "            Predicho:  ['dinero']\n",
      "            Correcto:  galletas\n",
      ">>> LOG INCORRECTA: \n",
      "            Predicho:  ['sopa']\n",
      "            Correcto:  azucar\n",
      ">>> LOG INCORRECTA: \n",
      "            Predicho:  ['feliz']\n",
      "            Correcto:  frutas\n"
     ]
    }
   ],
   "source": [
    "correct = 0\n",
    "for i in range(len(target_test)):\n",
    "    if (target_test[i] in results[i]):\n",
    "        correct += 1\n",
    "    else:\n",
    "        print(\">>> LOG INCORRECTA: \")\n",
    "        print(\"            Predicho: \", results[i])\n",
    "        print(\"            Correcto: \", target_test[i])\n"
   ]
  },
  {
   "cell_type": "code",
   "execution_count": 39,
   "metadata": {},
   "outputs": [
    {
     "name": "stdout",
     "output_type": "stream",
     "text": [
      "Correct >>  71\n",
      "Incorrect >>  17\n",
      "Ratio >>  0.8068181818181818\n"
     ]
    }
   ],
   "source": [
    "print(\"Correct >> \", correct)\n",
    "print(\"Incorrect >> \", len(target_test)-correct)\n",
    "print(\"Ratio >> \", str(correct/len(target_test)))"
   ]
  },
  {
   "cell_type": "markdown",
   "metadata": {},
   "source": [
    "# Reutilizando los tres modelos"
   ]
  },
  {
   "cell_type": "code",
   "execution_count": 40,
   "metadata": {},
   "outputs": [
    {
     "data": {
      "text/html": [
       "<div>\n",
       "<style scoped>\n",
       "    .dataframe tbody tr th:only-of-type {\n",
       "        vertical-align: middle;\n",
       "    }\n",
       "\n",
       "    .dataframe tbody tr th {\n",
       "        vertical-align: top;\n",
       "    }\n",
       "\n",
       "    .dataframe thead th {\n",
       "        text-align: right;\n",
       "    }\n",
       "</style>\n",
       "<table border=\"1\" class=\"dataframe\">\n",
       "  <thead>\n",
       "    <tr style=\"text-align: right;\">\n",
       "      <th></th>\n",
       "      <th>sequence_id</th>\n",
       "      <th>target</th>\n",
       "      <th>file</th>\n",
       "      <th>x_Left_hand_0</th>\n",
       "      <th>y_Left_hand_0</th>\n",
       "      <th>x_Left_hand_1</th>\n",
       "      <th>y_Left_hand_1</th>\n",
       "      <th>x_Left_hand_2</th>\n",
       "      <th>y_Left_hand_2</th>\n",
       "      <th>x_Left_hand_3</th>\n",
       "      <th>...</th>\n",
       "      <th>x_Right_hand_16</th>\n",
       "      <th>y_Right_hand_16</th>\n",
       "      <th>x_Right_hand_17</th>\n",
       "      <th>y_Right_hand_17</th>\n",
       "      <th>x_Right_hand_18</th>\n",
       "      <th>y_Right_hand_18</th>\n",
       "      <th>x_Right_hand_19</th>\n",
       "      <th>y_Right_hand_19</th>\n",
       "      <th>x_Right_hand_20</th>\n",
       "      <th>y_Right_hand_20</th>\n",
       "    </tr>\n",
       "  </thead>\n",
       "  <tbody>\n",
       "    <tr>\n",
       "      <th>0</th>\n",
       "      <td>1</td>\n",
       "      <td>8_amor</td>\n",
       "      <td>/Users/andreaamaya/Trabajo/megaproyecto_model/...</td>\n",
       "      <td>0.054473</td>\n",
       "      <td>1.0</td>\n",
       "      <td>0.000000</td>\n",
       "      <td>0.814200</td>\n",
       "      <td>0.160031</td>\n",
       "      <td>0.556190</td>\n",
       "      <td>0.309921</td>\n",
       "      <td>...</td>\n",
       "      <td>0.0</td>\n",
       "      <td>0.0</td>\n",
       "      <td>0.0</td>\n",
       "      <td>0.0</td>\n",
       "      <td>0.0</td>\n",
       "      <td>0.0</td>\n",
       "      <td>0.0</td>\n",
       "      <td>0.0</td>\n",
       "      <td>0.0</td>\n",
       "      <td>0.0</td>\n",
       "    </tr>\n",
       "    <tr>\n",
       "      <th>1</th>\n",
       "      <td>1</td>\n",
       "      <td>8_amor</td>\n",
       "      <td>/Users/andreaamaya/Trabajo/megaproyecto_model/...</td>\n",
       "      <td>0.000000</td>\n",
       "      <td>1.0</td>\n",
       "      <td>0.029350</td>\n",
       "      <td>0.790749</td>\n",
       "      <td>0.165903</td>\n",
       "      <td>0.539861</td>\n",
       "      <td>0.297188</td>\n",
       "      <td>...</td>\n",
       "      <td>0.0</td>\n",
       "      <td>0.0</td>\n",
       "      <td>0.0</td>\n",
       "      <td>0.0</td>\n",
       "      <td>0.0</td>\n",
       "      <td>0.0</td>\n",
       "      <td>0.0</td>\n",
       "      <td>0.0</td>\n",
       "      <td>0.0</td>\n",
       "      <td>0.0</td>\n",
       "    </tr>\n",
       "    <tr>\n",
       "      <th>2</th>\n",
       "      <td>1</td>\n",
       "      <td>8_amor</td>\n",
       "      <td>/Users/andreaamaya/Trabajo/megaproyecto_model/...</td>\n",
       "      <td>0.142526</td>\n",
       "      <td>1.0</td>\n",
       "      <td>0.000000</td>\n",
       "      <td>0.774022</td>\n",
       "      <td>0.049066</td>\n",
       "      <td>0.554538</td>\n",
       "      <td>0.182988</td>\n",
       "      <td>...</td>\n",
       "      <td>0.0</td>\n",
       "      <td>0.0</td>\n",
       "      <td>0.0</td>\n",
       "      <td>0.0</td>\n",
       "      <td>0.0</td>\n",
       "      <td>0.0</td>\n",
       "      <td>0.0</td>\n",
       "      <td>0.0</td>\n",
       "      <td>0.0</td>\n",
       "      <td>0.0</td>\n",
       "    </tr>\n",
       "    <tr>\n",
       "      <th>3</th>\n",
       "      <td>1</td>\n",
       "      <td>8_amor</td>\n",
       "      <td>/Users/andreaamaya/Trabajo/megaproyecto_model/...</td>\n",
       "      <td>0.905454</td>\n",
       "      <td>0.0</td>\n",
       "      <td>1.000000</td>\n",
       "      <td>0.403292</td>\n",
       "      <td>0.906272</td>\n",
       "      <td>0.728733</td>\n",
       "      <td>0.641322</td>\n",
       "      <td>...</td>\n",
       "      <td>0.0</td>\n",
       "      <td>0.0</td>\n",
       "      <td>0.0</td>\n",
       "      <td>0.0</td>\n",
       "      <td>0.0</td>\n",
       "      <td>0.0</td>\n",
       "      <td>0.0</td>\n",
       "      <td>0.0</td>\n",
       "      <td>0.0</td>\n",
       "      <td>0.0</td>\n",
       "    </tr>\n",
       "    <tr>\n",
       "      <th>4</th>\n",
       "      <td>1</td>\n",
       "      <td>8_amor</td>\n",
       "      <td>/Users/andreaamaya/Trabajo/megaproyecto_model/...</td>\n",
       "      <td>1.000000</td>\n",
       "      <td>0.0</td>\n",
       "      <td>0.998621</td>\n",
       "      <td>0.381168</td>\n",
       "      <td>0.810052</td>\n",
       "      <td>0.691714</td>\n",
       "      <td>0.574807</td>\n",
       "      <td>...</td>\n",
       "      <td>0.0</td>\n",
       "      <td>0.0</td>\n",
       "      <td>0.0</td>\n",
       "      <td>0.0</td>\n",
       "      <td>0.0</td>\n",
       "      <td>0.0</td>\n",
       "      <td>0.0</td>\n",
       "      <td>0.0</td>\n",
       "      <td>0.0</td>\n",
       "      <td>0.0</td>\n",
       "    </tr>\n",
       "  </tbody>\n",
       "</table>\n",
       "<p>5 rows × 87 columns</p>\n",
       "</div>"
      ],
      "text/plain": [
       "   sequence_id  target                                               file  \\\n",
       "0            1  8_amor  /Users/andreaamaya/Trabajo/megaproyecto_model/...   \n",
       "1            1  8_amor  /Users/andreaamaya/Trabajo/megaproyecto_model/...   \n",
       "2            1  8_amor  /Users/andreaamaya/Trabajo/megaproyecto_model/...   \n",
       "3            1  8_amor  /Users/andreaamaya/Trabajo/megaproyecto_model/...   \n",
       "4            1  8_amor  /Users/andreaamaya/Trabajo/megaproyecto_model/...   \n",
       "\n",
       "   x_Left_hand_0  y_Left_hand_0  x_Left_hand_1  y_Left_hand_1  x_Left_hand_2  \\\n",
       "0       0.054473            1.0       0.000000       0.814200       0.160031   \n",
       "1       0.000000            1.0       0.029350       0.790749       0.165903   \n",
       "2       0.142526            1.0       0.000000       0.774022       0.049066   \n",
       "3       0.905454            0.0       1.000000       0.403292       0.906272   \n",
       "4       1.000000            0.0       0.998621       0.381168       0.810052   \n",
       "\n",
       "   y_Left_hand_2  x_Left_hand_3  ...  x_Right_hand_16  y_Right_hand_16  \\\n",
       "0       0.556190       0.309921  ...              0.0              0.0   \n",
       "1       0.539861       0.297188  ...              0.0              0.0   \n",
       "2       0.554538       0.182988  ...              0.0              0.0   \n",
       "3       0.728733       0.641322  ...              0.0              0.0   \n",
       "4       0.691714       0.574807  ...              0.0              0.0   \n",
       "\n",
       "   x_Right_hand_17  y_Right_hand_17  x_Right_hand_18  y_Right_hand_18  \\\n",
       "0              0.0              0.0              0.0              0.0   \n",
       "1              0.0              0.0              0.0              0.0   \n",
       "2              0.0              0.0              0.0              0.0   \n",
       "3              0.0              0.0              0.0              0.0   \n",
       "4              0.0              0.0              0.0              0.0   \n",
       "\n",
       "   x_Right_hand_19  y_Right_hand_19  x_Right_hand_20  y_Right_hand_20  \n",
       "0              0.0              0.0              0.0              0.0  \n",
       "1              0.0              0.0              0.0              0.0  \n",
       "2              0.0              0.0              0.0              0.0  \n",
       "3              0.0              0.0              0.0              0.0  \n",
       "4              0.0              0.0              0.0              0.0  \n",
       "\n",
       "[5 rows x 87 columns]"
      ]
     },
     "execution_count": 40,
     "metadata": {},
     "output_type": "execute_result"
    }
   ],
   "source": [
    "load_test_data = pd.read_csv(\"data/data_tests.csv\")\n",
    "load_test_data.head()"
   ]
  },
  {
   "cell_type": "code",
   "execution_count": 41,
   "metadata": {},
   "outputs": [],
   "source": [
    "target = load_test_data[\"target\"] "
   ]
  },
  {
   "cell_type": "code",
   "execution_count": 42,
   "metadata": {},
   "outputs": [],
   "source": [
    "del load_test_data[\"sequence_id\"] \n",
    "del load_test_data[\"target\"] \n",
    "del load_test_data[\"file\"] "
   ]
  },
  {
   "cell_type": "code",
   "execution_count": 43,
   "metadata": {},
   "outputs": [
    {
     "name": "stdout",
     "output_type": "stream",
     "text": [
      "1/1 [==============================] - 0s 44ms/step\n",
      "1/1 [==============================] - 0s 10ms/step\n",
      "1/1 [==============================] - 0s 10ms/step\n",
      "1/1 [==============================] - 0s 10ms/step\n",
      "1/1 [==============================] - 0s 10ms/step\n",
      "1/1 [==============================] - 0s 10ms/step\n",
      "1/1 [==============================] - 0s 10ms/step\n",
      "1/1 [==============================] - 0s 10ms/step\n",
      "1/1 [==============================] - 0s 10ms/step\n",
      "1/1 [==============================] - 0s 10ms/step\n",
      "1/1 [==============================] - 0s 10ms/step\n",
      "1/1 [==============================] - 0s 10ms/step\n",
      "1/1 [==============================] - 0s 10ms/step\n",
      "1/1 [==============================] - 0s 10ms/step\n"
     ]
    }
   ],
   "source": [
    "pretainedModels = PretrainedModels()\n",
    "results = pretainedModels.get_predictions(load_test_data)"
   ]
  },
  {
   "cell_type": "code",
   "execution_count": 44,
   "metadata": {},
   "outputs": [
    {
     "data": {
      "text/plain": [
       "array(['8_amor', '1_familia', '5_casa', '3_hola', '6_bebida', '4_tiempo',\n",
       "       '9_amigo', '13_arroz', '14_huevos', '18_papel higienico',\n",
       "       '20_pescado', '17_leche', '11_galletas', '19_shampoo'],\n",
       "      dtype=object)"
      ]
     },
     "execution_count": 44,
     "metadata": {},
     "output_type": "execute_result"
    }
   ],
   "source": [
    "expected = target.unique()\n",
    "expected"
   ]
  },
  {
   "cell_type": "code",
   "execution_count": 45,
   "metadata": {},
   "outputs": [
    {
     "data": {
      "text/plain": [
       "[['feliz', 'amor'],\n",
       " ['familia', 'queso'],\n",
       " ['casa'],\n",
       " ['hola', 'gracias'],\n",
       " ['entender', 'bebida'],\n",
       " ['tiempo'],\n",
       " ['amigo'],\n",
       " ['entender', 'trabajo', 'arroz'],\n",
       " ['huevos', 'tiempo'],\n",
       " ['papel higienico'],\n",
       " ['pescado'],\n",
       " ['papel higienico', 'verduras', 'leche'],\n",
       " ['no', 'pescado'],\n",
       " ['shampoo', 'carne']]"
      ]
     },
     "execution_count": 45,
     "metadata": {},
     "output_type": "execute_result"
    }
   ],
   "source": [
    "results = pretainedModels.get_unique_pred()\n",
    "results"
   ]
  },
  {
   "cell_type": "code",
   "execution_count": 46,
   "metadata": {},
   "outputs": [
    {
     "name": "stdout",
     "output_type": "stream",
     "text": [
      "Palabras correctas: 13 de 14\n"
     ]
    }
   ],
   "source": [
    "correct = 0\n",
    "for i in range(len(results)):\n",
    "    if (expected[i].split(\"_\")[1] in results[i]):\n",
    "        correct += 1\n",
    "\n",
    "print(f'Palabras correctas: {correct} de {len(results)}')"
   ]
  }
 ],
 "metadata": {
  "kernelspec": {
   "display_name": "Python 3.9.6 64-bit",
   "language": "python",
   "name": "python3"
  },
  "language_info": {
   "codemirror_mode": {
    "name": "ipython",
    "version": 3
   },
   "file_extension": ".py",
   "mimetype": "text/x-python",
   "name": "python",
   "nbconvert_exporter": "python",
   "pygments_lexer": "ipython3",
   "version": "3.9.6"
  },
  "orig_nbformat": 4,
  "vscode": {
   "interpreter": {
    "hash": "31f2aee4e71d21fbe5cf8b01ff0e069b9275f58929596ceb00d14d90e3e16cd6"
   }
  }
 },
 "nbformat": 4,
 "nbformat_minor": 2
}
