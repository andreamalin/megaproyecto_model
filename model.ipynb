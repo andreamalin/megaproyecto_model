{
 "cells": [
  {
   "cell_type": "code",
   "execution_count": 1,
   "metadata": {},
   "outputs": [],
   "source": [
    "import pandas as pd\n",
    "import numpy as np\n",
    "\n",
    "from tensorflow.keras.models import Sequential\n",
    "from keras.layers import Dense, Flatten, Convolution2D, MaxPooling2D, Dropout\n",
    "\n",
    "import json\n",
    "import matplotlib.pyplot as plt"
   ]
  },
  {
   "cell_type": "code",
   "execution_count": 2,
   "metadata": {},
   "outputs": [],
   "source": [
    "import random\n",
    "\n",
    "random.seed(10)"
   ]
  },
  {
   "attachments": {},
   "cell_type": "markdown",
   "metadata": {},
   "source": [
    "# Carga de datos"
   ]
  },
  {
   "cell_type": "code",
   "execution_count": 3,
   "metadata": {},
   "outputs": [],
   "source": [
    "train_data = pd.read_csv(\"data/train.csv\")\n",
    "test_data = pd.read_csv(\"data/validation.csv\")"
   ]
  },
  {
   "cell_type": "code",
   "execution_count": 4,
   "metadata": {},
   "outputs": [
    {
     "data": {
      "text/html": [
       "<div>\n",
       "<style scoped>\n",
       "    .dataframe tbody tr th:only-of-type {\n",
       "        vertical-align: middle;\n",
       "    }\n",
       "\n",
       "    .dataframe tbody tr th {\n",
       "        vertical-align: top;\n",
       "    }\n",
       "\n",
       "    .dataframe thead th {\n",
       "        text-align: right;\n",
       "    }\n",
       "</style>\n",
       "<table border=\"1\" class=\"dataframe\">\n",
       "  <thead>\n",
       "    <tr style=\"text-align: right;\">\n",
       "      <th></th>\n",
       "      <th>sequence_id</th>\n",
       "      <th>target</th>\n",
       "    </tr>\n",
       "  </thead>\n",
       "  <tbody>\n",
       "    <tr>\n",
       "      <th>0</th>\n",
       "      <td>1</td>\n",
       "      <td>bathroom</td>\n",
       "    </tr>\n",
       "    <tr>\n",
       "      <th>1</th>\n",
       "      <td>1</td>\n",
       "      <td>bathroom</td>\n",
       "    </tr>\n",
       "    <tr>\n",
       "      <th>2</th>\n",
       "      <td>1</td>\n",
       "      <td>bathroom</td>\n",
       "    </tr>\n",
       "    <tr>\n",
       "      <th>3</th>\n",
       "      <td>1</td>\n",
       "      <td>bathroom</td>\n",
       "    </tr>\n",
       "    <tr>\n",
       "      <th>4</th>\n",
       "      <td>1</td>\n",
       "      <td>bathroom</td>\n",
       "    </tr>\n",
       "  </tbody>\n",
       "</table>\n",
       "</div>"
      ],
      "text/plain": [
       "   sequence_id    target\n",
       "0            1  bathroom\n",
       "1            1  bathroom\n",
       "2            1  bathroom\n",
       "3            1  bathroom\n",
       "4            1  bathroom"
      ]
     },
     "execution_count": 4,
     "metadata": {},
     "output_type": "execute_result"
    }
   ],
   "source": [
    "train_data.head()"
   ]
  },
  {
   "attachments": {},
   "cell_type": "markdown",
   "metadata": {},
   "source": [
    "# Analisis Exploratorio"
   ]
  },
  {
   "cell_type": "code",
   "execution_count": 5,
   "metadata": {},
   "outputs": [
    {
     "name": "stdout",
     "output_type": "stream",
     "text": [
      "--------------------Train data--------------------\n",
      "Cantidad de filas : 7926\n",
      "Frases unicas : ['bathroom', 'cat', 'dog', 'eat food', 'father', 'fine', 'finish', 'go to', 'hello', 'help', 'learn', 'like', 'me', 'milk', 'more', 'mother', 'no', 'please', 'repeat', 'see you later', 'sign', 'thank you', 'want', 'what', 'yes']\n"
     ]
    }
   ],
   "source": [
    "print(\"--------------------Train data--------------------\")\n",
    "print(f\"Cantidad de filas : {train_data.shape[0]}\")\n",
    "train_letters = list(train_data.target.unique())\n",
    "train_letters.sort()\n",
    "print(f\"Frases unicas : {train_letters}\")"
   ]
  },
  {
   "cell_type": "code",
   "execution_count": 6,
   "metadata": {},
   "outputs": [
    {
     "name": "stdout",
     "output_type": "stream",
     "text": [
      "--------------------Test data--------------------\n",
      "Cantidad de filas : 547\n",
      "Frases unicas : ['bathroom', 'cat', 'dog', 'eat food', 'father', 'fine', 'finish', 'go to', 'hello', 'help', 'learn', 'like', 'me', 'milk', 'more', 'mother', 'no', 'please', 'repeat', 'see you later', 'sign', 'thank you', 'want', 'what', 'yes']\n"
     ]
    }
   ],
   "source": [
    "print(\"--------------------Test data--------------------\")\n",
    "print(f\"Cantidad de filas : {test_data.shape[0]}\")\n",
    "test_letters = list(test_data.target.unique())\n",
    "test_letters.sort()\n",
    "print(f\"Frases unicas : {test_letters}\")"
   ]
  },
  {
   "cell_type": "code",
   "execution_count": 7,
   "metadata": {},
   "outputs": [],
   "source": [
    "if (test_letters != train_letters):\n",
    "    raise ValueError(\"Error between target and train\")"
   ]
  },
  {
   "cell_type": "code",
   "execution_count": 8,
   "metadata": {},
   "outputs": [
    {
     "data": {
      "text/html": [
       "<div>\n",
       "<style scoped>\n",
       "    .dataframe tbody tr th:only-of-type {\n",
       "        vertical-align: middle;\n",
       "    }\n",
       "\n",
       "    .dataframe tbody tr th {\n",
       "        vertical-align: top;\n",
       "    }\n",
       "\n",
       "    .dataframe thead th {\n",
       "        text-align: right;\n",
       "    }\n",
       "</style>\n",
       "<table border=\"1\" class=\"dataframe\">\n",
       "  <thead>\n",
       "    <tr style=\"text-align: right;\">\n",
       "      <th></th>\n",
       "      <th>sequence_id</th>\n",
       "    </tr>\n",
       "  </thead>\n",
       "  <tbody>\n",
       "    <tr>\n",
       "      <th>count</th>\n",
       "      <td>7926.000000</td>\n",
       "    </tr>\n",
       "    <tr>\n",
       "      <th>mean</th>\n",
       "      <td>189.509084</td>\n",
       "    </tr>\n",
       "    <tr>\n",
       "      <th>std</th>\n",
       "      <td>111.681925</td>\n",
       "    </tr>\n",
       "    <tr>\n",
       "      <th>min</th>\n",
       "      <td>1.000000</td>\n",
       "    </tr>\n",
       "    <tr>\n",
       "      <th>25%</th>\n",
       "      <td>88.000000</td>\n",
       "    </tr>\n",
       "    <tr>\n",
       "      <th>50%</th>\n",
       "      <td>190.000000</td>\n",
       "    </tr>\n",
       "    <tr>\n",
       "      <th>75%</th>\n",
       "      <td>283.000000</td>\n",
       "    </tr>\n",
       "    <tr>\n",
       "      <th>max</th>\n",
       "      <td>385.000000</td>\n",
       "    </tr>\n",
       "  </tbody>\n",
       "</table>\n",
       "</div>"
      ],
      "text/plain": [
       "       sequence_id\n",
       "count  7926.000000\n",
       "mean    189.509084\n",
       "std     111.681925\n",
       "min       1.000000\n",
       "25%      88.000000\n",
       "50%     190.000000\n",
       "75%     283.000000\n",
       "max     385.000000"
      ]
     },
     "execution_count": 8,
     "metadata": {},
     "output_type": "execute_result"
    }
   ],
   "source": [
    "train_data.describe()"
   ]
  },
  {
   "attachments": {},
   "cell_type": "markdown",
   "metadata": {},
   "source": [
    "# Preprocesamiento del Modelo"
   ]
  },
  {
   "attachments": {},
   "cell_type": "markdown",
   "metadata": {},
   "source": [
    "Solo se obtienen 20 indices de las coordenadas x y y, ya que son las unicas que han sido altamente entrenadas del modelo mediapipe de Google"
   ]
  },
  {
   "cell_type": "code",
   "execution_count": 9,
   "metadata": {},
   "outputs": [],
   "source": [
    "def get_needed_cols():\n",
    "    cols = []\n",
    "\n",
    "    for i in range(21):\n",
    "        cols.append(f'x_Right_hand_{i}')\n",
    "        cols.append(f'y_Right_hand_{i}')\n",
    "        cols.append(f'x_Left_hand_{i}')\n",
    "        cols.append(f'y_Left_hand_{i}')\n",
    "    \n",
    "    return cols"
   ]
  },
  {
   "cell_type": "code",
   "execution_count": 10,
   "metadata": {},
   "outputs": [],
   "source": [
    "df = pd.read_csv(\"data/data.csv\")\n",
    "df_test = df[df['sequence_id'].isin(test_data['sequence_id'])]\n",
    "df_train = df[df['sequence_id'].isin(train_data['sequence_id'])]"
   ]
  },
  {
   "cell_type": "code",
   "execution_count": 11,
   "metadata": {},
   "outputs": [
    {
     "data": {
      "text/html": [
       "<div>\n",
       "<style scoped>\n",
       "    .dataframe tbody tr th:only-of-type {\n",
       "        vertical-align: middle;\n",
       "    }\n",
       "\n",
       "    .dataframe tbody tr th {\n",
       "        vertical-align: top;\n",
       "    }\n",
       "\n",
       "    .dataframe thead th {\n",
       "        text-align: right;\n",
       "    }\n",
       "</style>\n",
       "<table border=\"1\" class=\"dataframe\">\n",
       "  <thead>\n",
       "    <tr style=\"text-align: right;\">\n",
       "      <th></th>\n",
       "      <th>sequence_id</th>\n",
       "      <th>target</th>\n",
       "      <th>x_Left_hand_0</th>\n",
       "      <th>y_Left_hand_0</th>\n",
       "      <th>x_Left_hand_1</th>\n",
       "      <th>y_Left_hand_1</th>\n",
       "      <th>x_Left_hand_2</th>\n",
       "      <th>y_Left_hand_2</th>\n",
       "      <th>x_Left_hand_3</th>\n",
       "      <th>y_Left_hand_3</th>\n",
       "      <th>...</th>\n",
       "      <th>x_Right_hand_16</th>\n",
       "      <th>y_Right_hand_16</th>\n",
       "      <th>x_Right_hand_17</th>\n",
       "      <th>y_Right_hand_17</th>\n",
       "      <th>x_Right_hand_18</th>\n",
       "      <th>y_Right_hand_18</th>\n",
       "      <th>x_Right_hand_19</th>\n",
       "      <th>y_Right_hand_19</th>\n",
       "      <th>x_Right_hand_20</th>\n",
       "      <th>y_Right_hand_20</th>\n",
       "    </tr>\n",
       "  </thead>\n",
       "  <tbody>\n",
       "    <tr>\n",
       "      <th>0</th>\n",
       "      <td>1</td>\n",
       "      <td>bathroom</td>\n",
       "      <td>0.266263</td>\n",
       "      <td>0.473249</td>\n",
       "      <td>0.291757</td>\n",
       "      <td>0.440494</td>\n",
       "      <td>0.306219</td>\n",
       "      <td>0.404748</td>\n",
       "      <td>0.309409</td>\n",
       "      <td>0.371156</td>\n",
       "      <td>...</td>\n",
       "      <td>NaN</td>\n",
       "      <td>NaN</td>\n",
       "      <td>NaN</td>\n",
       "      <td>NaN</td>\n",
       "      <td>NaN</td>\n",
       "      <td>NaN</td>\n",
       "      <td>NaN</td>\n",
       "      <td>NaN</td>\n",
       "      <td>NaN</td>\n",
       "      <td>NaN</td>\n",
       "    </tr>\n",
       "    <tr>\n",
       "      <th>1</th>\n",
       "      <td>1</td>\n",
       "      <td>bathroom</td>\n",
       "      <td>0.261615</td>\n",
       "      <td>0.447170</td>\n",
       "      <td>0.284930</td>\n",
       "      <td>0.408778</td>\n",
       "      <td>0.293976</td>\n",
       "      <td>0.367232</td>\n",
       "      <td>0.291804</td>\n",
       "      <td>0.332398</td>\n",
       "      <td>...</td>\n",
       "      <td>NaN</td>\n",
       "      <td>NaN</td>\n",
       "      <td>NaN</td>\n",
       "      <td>NaN</td>\n",
       "      <td>NaN</td>\n",
       "      <td>NaN</td>\n",
       "      <td>NaN</td>\n",
       "      <td>NaN</td>\n",
       "      <td>NaN</td>\n",
       "      <td>NaN</td>\n",
       "    </tr>\n",
       "    <tr>\n",
       "      <th>2</th>\n",
       "      <td>1</td>\n",
       "      <td>bathroom</td>\n",
       "      <td>0.261583</td>\n",
       "      <td>0.431127</td>\n",
       "      <td>0.278761</td>\n",
       "      <td>0.387111</td>\n",
       "      <td>0.281090</td>\n",
       "      <td>0.341194</td>\n",
       "      <td>0.276046</td>\n",
       "      <td>0.306308</td>\n",
       "      <td>...</td>\n",
       "      <td>NaN</td>\n",
       "      <td>NaN</td>\n",
       "      <td>NaN</td>\n",
       "      <td>NaN</td>\n",
       "      <td>NaN</td>\n",
       "      <td>NaN</td>\n",
       "      <td>NaN</td>\n",
       "      <td>NaN</td>\n",
       "      <td>NaN</td>\n",
       "      <td>NaN</td>\n",
       "    </tr>\n",
       "    <tr>\n",
       "      <th>3</th>\n",
       "      <td>1</td>\n",
       "      <td>bathroom</td>\n",
       "      <td>0.263054</td>\n",
       "      <td>0.418766</td>\n",
       "      <td>0.274931</td>\n",
       "      <td>0.371834</td>\n",
       "      <td>0.273662</td>\n",
       "      <td>0.329738</td>\n",
       "      <td>0.264274</td>\n",
       "      <td>0.300696</td>\n",
       "      <td>...</td>\n",
       "      <td>NaN</td>\n",
       "      <td>NaN</td>\n",
       "      <td>NaN</td>\n",
       "      <td>NaN</td>\n",
       "      <td>NaN</td>\n",
       "      <td>NaN</td>\n",
       "      <td>NaN</td>\n",
       "      <td>NaN</td>\n",
       "      <td>NaN</td>\n",
       "      <td>NaN</td>\n",
       "    </tr>\n",
       "    <tr>\n",
       "      <th>4</th>\n",
       "      <td>1</td>\n",
       "      <td>bathroom</td>\n",
       "      <td>0.274704</td>\n",
       "      <td>0.416674</td>\n",
       "      <td>0.273656</td>\n",
       "      <td>0.368680</td>\n",
       "      <td>0.260158</td>\n",
       "      <td>0.332655</td>\n",
       "      <td>0.246035</td>\n",
       "      <td>0.309348</td>\n",
       "      <td>...</td>\n",
       "      <td>NaN</td>\n",
       "      <td>NaN</td>\n",
       "      <td>NaN</td>\n",
       "      <td>NaN</td>\n",
       "      <td>NaN</td>\n",
       "      <td>NaN</td>\n",
       "      <td>NaN</td>\n",
       "      <td>NaN</td>\n",
       "      <td>NaN</td>\n",
       "      <td>NaN</td>\n",
       "    </tr>\n",
       "  </tbody>\n",
       "</table>\n",
       "<p>5 rows × 86 columns</p>\n",
       "</div>"
      ],
      "text/plain": [
       "   sequence_id    target  x_Left_hand_0  y_Left_hand_0  x_Left_hand_1  \\\n",
       "0            1  bathroom       0.266263       0.473249       0.291757   \n",
       "1            1  bathroom       0.261615       0.447170       0.284930   \n",
       "2            1  bathroom       0.261583       0.431127       0.278761   \n",
       "3            1  bathroom       0.263054       0.418766       0.274931   \n",
       "4            1  bathroom       0.274704       0.416674       0.273656   \n",
       "\n",
       "   y_Left_hand_1  x_Left_hand_2  y_Left_hand_2  x_Left_hand_3  y_Left_hand_3  \\\n",
       "0       0.440494       0.306219       0.404748       0.309409       0.371156   \n",
       "1       0.408778       0.293976       0.367232       0.291804       0.332398   \n",
       "2       0.387111       0.281090       0.341194       0.276046       0.306308   \n",
       "3       0.371834       0.273662       0.329738       0.264274       0.300696   \n",
       "4       0.368680       0.260158       0.332655       0.246035       0.309348   \n",
       "\n",
       "   ...  x_Right_hand_16  y_Right_hand_16  x_Right_hand_17  y_Right_hand_17  \\\n",
       "0  ...              NaN              NaN              NaN              NaN   \n",
       "1  ...              NaN              NaN              NaN              NaN   \n",
       "2  ...              NaN              NaN              NaN              NaN   \n",
       "3  ...              NaN              NaN              NaN              NaN   \n",
       "4  ...              NaN              NaN              NaN              NaN   \n",
       "\n",
       "   x_Right_hand_18  y_Right_hand_18  x_Right_hand_19  y_Right_hand_19  \\\n",
       "0              NaN              NaN              NaN              NaN   \n",
       "1              NaN              NaN              NaN              NaN   \n",
       "2              NaN              NaN              NaN              NaN   \n",
       "3              NaN              NaN              NaN              NaN   \n",
       "4              NaN              NaN              NaN              NaN   \n",
       "\n",
       "   x_Right_hand_20  y_Right_hand_20  \n",
       "0              NaN              NaN  \n",
       "1              NaN              NaN  \n",
       "2              NaN              NaN  \n",
       "3              NaN              NaN  \n",
       "4              NaN              NaN  \n",
       "\n",
       "[5 rows x 86 columns]"
      ]
     },
     "execution_count": 11,
     "metadata": {},
     "output_type": "execute_result"
    }
   ],
   "source": [
    "df.head()"
   ]
  },
  {
   "cell_type": "code",
   "execution_count": 12,
   "metadata": {},
   "outputs": [
    {
     "name": "stdout",
     "output_type": "stream",
     "text": [
      "8473\n",
      "True\n",
      "True\n"
     ]
    }
   ],
   "source": [
    "print(len(df))\n",
    "print(len(df_test) == len(test_data))\n",
    "print(len(df_train) == len(train_data))"
   ]
  },
  {
   "cell_type": "markdown",
   "metadata": {},
   "source": [
    "# Modelo"
   ]
  },
  {
   "cell_type": "code",
   "execution_count": 13,
   "metadata": {},
   "outputs": [
    {
     "data": {
      "image/png": "[encoded data removed]",
      "text/plain": [
       "<Figure size 432x288 with 1 Axes>"
      ]
     },
     "metadata": {
      "needs_background": "light"
     },
     "output_type": "display_data"
    }
   ],
   "source": [
    "# Compute the lengths of the video sequences\n",
    "video_lengths = df.groupby('sequence_id').size()\n",
    "max_seq_length = video_lengths.max()\n",
    "# max_seq_length = 30\n",
    "# Plot the histogram\n",
    "plt.hist(video_lengths, bins=30)  # Adjust the number of bins as needed\n",
    "plt.xlabel('Video Length')\n",
    "plt.ylabel('Frequency')\n",
    "plt.title('Histogram of Video Lengths')\n",
    "plt.show()"
   ]
  },
  {
   "cell_type": "code",
   "execution_count": 14,
   "metadata": {},
   "outputs": [
    {
     "data": {
      "text/plain": [
       "30"
      ]
     },
     "execution_count": 14,
     "metadata": {},
     "output_type": "execute_result"
    }
   ],
   "source": [
    "video_lengths.max()"
   ]
  },
  {
   "cell_type": "code",
   "execution_count": 15,
   "metadata": {},
   "outputs": [],
   "source": [
    "from sklearn.preprocessing import OneHotEncoder\n",
    "from sklearn.preprocessing import LabelEncoder\n",
    "# Create a one-hot encoder\n",
    "label_encoder = LabelEncoder()"
   ]
  },
  {
   "cell_type": "code",
   "execution_count": 16,
   "metadata": {},
   "outputs": [],
   "source": [
    "def padding_videos(df):\n",
    "    # Create a new DataFrame to store the filled rows\n",
    "    filled_df = pd.DataFrame()\n",
    "    target = []\n",
    "\n",
    "\n",
    "    # Iterate over each group and fill remaining rows with zero\n",
    "    for _, group in df.groupby('sequence_id'):\n",
    "        remaining_rows = max_seq_length - len(group)\n",
    "        zeros_df = pd.DataFrame([[0] * len(group.columns)] * remaining_rows, columns=group.columns)\n",
    "        zeros_df['sequence_id'] = group['sequence_id'].unique()[0]\n",
    "        zeros_df['target'] = group['target'].unique()[0]\n",
    "        group = pd.concat([group, zeros_df])\n",
    "    \n",
    "        filled_df = filled_df.append(group)\n",
    "        target.append(group[\"target\"].unique()[0])\n",
    "        \n",
    "    filled_df.reset_index(drop=True, inplace=True)\n",
    "    filled_df = filled_df.fillna(0)\n",
    "    return filled_df, target\n",
    "\n",
    "def padding_labels(target):\n",
    "    integer_encoded = label_encoder.fit_transform(target)\n",
    "    integer_encoded = integer_encoded.reshape(-1, 1)\n",
    "\n",
    "    # Encode the word \"Hello\"\n",
    "    onehot_encoder = OneHotEncoder(sparse=False)  # sparse=False to get a numpy array as output\n",
    "    onehot_encoded = onehot_encoder.fit_transform(integer_encoded)\n",
    "    return onehot_encoded"
   ]
  },
  {
   "cell_type": "code",
   "execution_count": 17,
   "metadata": {},
   "outputs": [],
   "source": [
    "X_train, target = padding_videos(df_train)\n",
    "y_train = padding_labels(target)"
   ]
  },
  {
   "cell_type": "code",
   "execution_count": 18,
   "metadata": {},
   "outputs": [
    {
     "name": "stdout",
     "output_type": "stream",
     "text": [
      "10800 360\n"
     ]
    }
   ],
   "source": [
    "\n",
    "del X_train[\"sequence_id\"] \n",
    "del X_train[\"target\"] \n",
    "\n",
    "print(len(X_train), len(y_train))"
   ]
  },
  {
   "cell_type": "code",
   "execution_count": 19,
   "metadata": {},
   "outputs": [
    {
     "name": "stdout",
     "output_type": "stream",
     "text": [
      "750 25\n"
     ]
    }
   ],
   "source": [
    "X_test, target = padding_videos(df_test)\n",
    "y_test = padding_labels(target)\n",
    "del X_test[\"sequence_id\"] \n",
    "del X_test[\"target\"] \n",
    "\n",
    "print(len(X_test), len(y_test))"
   ]
  },
  {
   "cell_type": "code",
   "execution_count": 20,
   "metadata": {},
   "outputs": [
    {
     "data": {
      "text/plain": [
       "True"
      ]
     },
     "execution_count": 20,
     "metadata": {},
     "output_type": "execute_result"
    }
   ],
   "source": [
    "len(y_train) + len(y_test) == len(df[\"sequence_id\"].unique())"
   ]
  },
  {
   "cell_type": "code",
   "execution_count": 21,
   "metadata": {},
   "outputs": [],
   "source": [
    "def flat_X(X):\n",
    "    # Define the number of rows to be flattened\n",
    "    rows_to_flatten = max_seq_length\n",
    "\n",
    "    data_array = X.to_numpy()\n",
    "\n",
    "    # Get the number of resulting rows in the output array\n",
    "    resulting_rows = data_array.shape[0] // rows_to_flatten\n",
    "\n",
    "    # Reshape the array to have (resulting_rows, rows_to_flatten, 80) shape\n",
    "    reshaped_array = data_array[:resulting_rows * rows_to_flatten].reshape(resulting_rows, rows_to_flatten, -1)\n",
    "\n",
    "    # Flatten the reshaped array along the second axis (axis=1) to get (resulting_rows, 13600) shape\n",
    "    flattened_array = reshaped_array.reshape(resulting_rows, -1)\n",
    "\n",
    "    return flattened_array"
   ]
  },
  {
   "cell_type": "code",
   "execution_count": 22,
   "metadata": {},
   "outputs": [],
   "source": [
    "X_test_flat = flat_X(X_test)"
   ]
  },
  {
   "cell_type": "code",
   "execution_count": 23,
   "metadata": {},
   "outputs": [],
   "source": [
    "num_samples = int(len(X_test)/max_seq_length)\n",
    "num_features = len(get_needed_cols())\n",
    "num_classes = len(y_test[1])\n",
    "\n",
    "X_test = X_test.values.reshape(num_samples, max_seq_length, num_features)"
   ]
  },
  {
   "cell_type": "code",
   "execution_count": 24,
   "metadata": {},
   "outputs": [
    {
     "data": {
      "text/plain": [
       "10800"
      ]
     },
     "execution_count": 24,
     "metadata": {},
     "output_type": "execute_result"
    }
   ],
   "source": [
    "len(X_train)"
   ]
  },
  {
   "cell_type": "code",
   "execution_count": 25,
   "metadata": {},
   "outputs": [
    {
     "data": {
      "text/plain": [
       "(360, 2520)"
      ]
     },
     "execution_count": 25,
     "metadata": {},
     "output_type": "execute_result"
    }
   ],
   "source": [
    "X_train_flat = flat_X(X_train)\n",
    "X_train_flat.shape"
   ]
  },
  {
   "cell_type": "code",
   "execution_count": 26,
   "metadata": {},
   "outputs": [],
   "source": [
    "num_samples_train = int(len(X_train)/max_seq_length)\n",
    "num_features_train = len(get_needed_cols())\n",
    "num_classes_train = len(y_train[1])\n",
    "\n",
    "X_train = X_train.values.reshape(num_samples_train, max_seq_length, num_features_train)"
   ]
  },
  {
   "cell_type": "code",
   "execution_count": 27,
   "metadata": {},
   "outputs": [
    {
     "name": "stdout",
     "output_type": "stream",
     "text": [
      "Train: (360, 30, 84) (360, 25)\n",
      "Test: (25, 30, 84) (25, 25)\n"
     ]
    }
   ],
   "source": [
    "print('Train:', X_train.shape, y_train.shape)\n",
    "print('Test:', X_test.shape, y_test.shape)"
   ]
  },
  {
   "cell_type": "markdown",
   "metadata": {},
   "source": [
    "# Modelo\n",
    "La entrada son las coordenadas de las manos. Cada video cuenta con n cantidad de filas, 84 columnas (21 columnas por cada coordenada y por ambas manos).\n",
    "La salida es la frase. La frase se representa por un entero que da el one hot encoder.\n",
    "\n",
    "Se usa convoluciones para resaltar las caracteristicas en la entrada. Debido a que la entrada son coordenadas normalizadas de un video, se supone que funciona igual que si la entrada fuera una imagen. Estas redes extraen caracteristicas de forma automatica para clasificar objetos luego. Al buscar patrones, se espera que pueda predecir un video que ya ha sido entrenado previamente.\n",
    "\n",
    "Se reduce el tamaño de la entrada haciendo uso de max pooling y flatten.\n",
    "\n",
    "Se hace uso de Dense para conectar entradas con salidas.\n",
    "\n",
    "Se hace uso de Dropout para evitar el sobreajuste.\n",
    "\n",
    "Relu elimina negativos. \n",
    "Sigmoid nos ayuda a obtener la probabilidad de que un ejemplo pertenezca a la clase positiva.\n",
    "Softmax hace clasificacion multiclase (en nuestro caso las palabras a predecir)."
   ]
  },
  {
   "cell_type": "code",
   "execution_count": 28,
   "metadata": {},
   "outputs": [],
   "source": [
    "from tensorflow.keras.models import Sequential\n",
    "from tensorflow.keras.layers import LSTM, Dense\n",
    "from tensorflow.keras.callbacks import TensorBoard"
   ]
  },
  {
   "cell_type": "code",
   "execution_count": 29,
   "metadata": {},
   "outputs": [],
   "source": [
    "cnn_model = Sequential()\n",
    "cnn_model.add(LSTM(64, return_sequences=True, activation='relu', input_shape=(max_seq_length, num_features_train)))\n",
    "cnn_model.add(LSTM(128, return_sequences=True, activation='relu'))\n",
    "cnn_model.add(LSTM(64, return_sequences=False, activation='relu'))\n",
    "cnn_model.add(Dense(64, activation='relu'))\n",
    "cnn_model.add(Dense(32, activation='relu'))\n",
    "cnn_model.add(Dense(num_classes_train, activation='softmax'))"
   ]
  },
  {
   "cell_type": "code",
   "execution_count": 30,
   "metadata": {},
   "outputs": [
    {
     "name": "stdout",
     "output_type": "stream",
     "text": [
      "Epoch 1/50\n",
      "45/45 [==============================] - 3s 21ms/step - loss: 3.5037 - accuracy: 0.0639\n",
      "Epoch 2/50\n",
      "45/45 [==============================] - 1s 21ms/step - loss: 3.2667 - accuracy: 0.0972\n",
      "Epoch 3/50\n",
      "45/45 [==============================] - 1s 20ms/step - loss: 3.0748 - accuracy: 0.0806\n",
      "Epoch 4/50\n",
      "45/45 [==============================] - 1s 20ms/step - loss: 2.9348 - accuracy: 0.0722\n",
      "Epoch 5/50\n",
      "45/45 [==============================] - 1s 21ms/step - loss: 2.7518 - accuracy: 0.0722\n",
      "Epoch 6/50\n",
      "45/45 [==============================] - 1s 21ms/step - loss: 2.6479 - accuracy: 0.0944\n",
      "Epoch 7/50\n",
      "45/45 [==============================] - 1s 21ms/step - loss: 2.6269 - accuracy: 0.1139\n",
      "Epoch 8/50\n",
      "45/45 [==============================] - 1s 21ms/step - loss: 2.5823 - accuracy: 0.1167\n",
      "Epoch 9/50\n",
      "45/45 [==============================] - 1s 21ms/step - loss: 2.5734 - accuracy: 0.0972\n",
      "Epoch 10/50\n",
      "45/45 [==============================] - 1s 21ms/step - loss: 2.5243 - accuracy: 0.1333\n",
      "Epoch 11/50\n",
      "45/45 [==============================] - 1s 22ms/step - loss: 2.5024 - accuracy: 0.1583\n",
      "Epoch 12/50\n",
      "45/45 [==============================] - 1s 21ms/step - loss: 2.4807 - accuracy: 0.1444\n",
      "Epoch 13/50\n",
      "45/45 [==============================] - 1s 21ms/step - loss: 2.3484 - accuracy: 0.1833\n",
      "Epoch 14/50\n",
      "45/45 [==============================] - 1s 21ms/step - loss: 2.2373 - accuracy: 0.2139\n",
      "Epoch 15/50\n",
      "45/45 [==============================] - 1s 23ms/step - loss: 2.1350 - accuracy: 0.2639\n",
      "Epoch 16/50\n",
      "45/45 [==============================] - 1s 23ms/step - loss: 2.1998 - accuracy: 0.2528\n",
      "Epoch 17/50\n",
      "45/45 [==============================] - 1s 22ms/step - loss: 2.1072 - accuracy: 0.2694\n",
      "Epoch 18/50\n",
      "45/45 [==============================] - 1s 22ms/step - loss: 2.0192 - accuracy: 0.2861\n",
      "Epoch 19/50\n",
      "45/45 [==============================] - 1s 21ms/step - loss: 1.9138 - accuracy: 0.3361\n",
      "Epoch 20/50\n",
      "45/45 [==============================] - 1s 22ms/step - loss: 1.6933 - accuracy: 0.4028\n",
      "Epoch 21/50\n",
      "45/45 [==============================] - 1s 28ms/step - loss: 1.7097 - accuracy: 0.3667\n",
      "Epoch 22/50\n",
      "45/45 [==============================] - 1s 24ms/step - loss: 1.6688 - accuracy: 0.3722\n",
      "Epoch 23/50\n",
      "45/45 [==============================] - 1s 23ms/step - loss: 1.6517 - accuracy: 0.3861\n",
      "Epoch 24/50\n",
      "45/45 [==============================] - 1s 22ms/step - loss: 1.4116 - accuracy: 0.4639\n",
      "Epoch 25/50\n",
      "45/45 [==============================] - 1s 21ms/step - loss: 1.5077 - accuracy: 0.4611\n",
      "Epoch 26/50\n",
      "45/45 [==============================] - 1s 22ms/step - loss: 1.4743 - accuracy: 0.4306\n",
      "Epoch 27/50\n",
      "45/45 [==============================] - 1s 21ms/step - loss: 2.4791 - accuracy: 0.2667\n",
      "Epoch 28/50\n",
      "45/45 [==============================] - 1s 21ms/step - loss: 2.0285 - accuracy: 0.3167\n",
      "Epoch 29/50\n",
      "45/45 [==============================] - 1s 21ms/step - loss: 1.7581 - accuracy: 0.3833\n",
      "Epoch 30/50\n",
      "45/45 [==============================] - 1s 21ms/step - loss: 1.5910 - accuracy: 0.4000\n",
      "Epoch 31/50\n",
      "45/45 [==============================] - 1s 21ms/step - loss: 1.5785 - accuracy: 0.3889\n",
      "Epoch 32/50\n",
      "45/45 [==============================] - 1s 21ms/step - loss: 1.5344 - accuracy: 0.4194\n",
      "Epoch 33/50\n",
      "45/45 [==============================] - 1s 21ms/step - loss: 1.8240 - accuracy: 0.3806\n",
      "Epoch 34/50\n",
      "45/45 [==============================] - 1s 21ms/step - loss: 1.5484 - accuracy: 0.4222\n",
      "Epoch 35/50\n",
      "45/45 [==============================] - 1s 22ms/step - loss: 1.5876 - accuracy: 0.4472\n",
      "Epoch 36/50\n",
      "45/45 [==============================] - 1s 23ms/step - loss: 1.4310 - accuracy: 0.4833\n",
      "Epoch 37/50\n",
      "45/45 [==============================] - 1s 27ms/step - loss: 1.4269 - accuracy: 0.4583\n",
      "Epoch 38/50\n",
      "45/45 [==============================] - 1s 22ms/step - loss: 1.3878 - accuracy: 0.4583\n",
      "Epoch 39/50\n",
      "45/45 [==============================] - 1s 21ms/step - loss: 1.3401 - accuracy: 0.4694\n",
      "Epoch 40/50\n",
      "45/45 [==============================] - 1s 21ms/step - loss: 1.3240 - accuracy: 0.5000\n",
      "Epoch 41/50\n",
      "45/45 [==============================] - 1s 21ms/step - loss: 1.2204 - accuracy: 0.5083\n",
      "Epoch 42/50\n",
      "45/45 [==============================] - 1s 21ms/step - loss: 1.2014 - accuracy: 0.5444\n",
      "Epoch 43/50\n",
      "45/45 [==============================] - 1s 21ms/step - loss: 1.1596 - accuracy: 0.5583\n",
      "Epoch 44/50\n",
      "45/45 [==============================] - 1s 21ms/step - loss: 1.2784 - accuracy: 0.5222\n",
      "Epoch 45/50\n",
      "45/45 [==============================] - 1s 21ms/step - loss: 1.1230 - accuracy: 0.5944\n",
      "Epoch 46/50\n",
      "45/45 [==============================] - 1s 21ms/step - loss: 1.3433 - accuracy: 0.5250\n",
      "Epoch 47/50\n",
      "45/45 [==============================] - 1s 21ms/step - loss: 1.2114 - accuracy: 0.5917\n",
      "Epoch 48/50\n",
      "45/45 [==============================] - 1s 20ms/step - loss: 1.2711 - accuracy: 0.5333\n",
      "Epoch 49/50\n",
      "45/45 [==============================] - 1s 21ms/step - loss: 1.1722 - accuracy: 0.5917\n",
      "Epoch 50/50\n",
      "45/45 [==============================] - 1s 21ms/step - loss: 1.0331 - accuracy: 0.5889\n",
      "1/1 [==============================] - 0s 388ms/step\n"
     ]
    }
   ],
   "source": [
    "# Compile the model\n",
    "cnn_model.compile(loss='categorical_crossentropy', optimizer='adam', metrics=['accuracy'])\n",
    "\n",
    "# Train the model\n",
    "history = cnn_model.fit(X_train, y_train, epochs=50, batch_size=8)\n",
    "# Get the predictions from the model\n",
    "y_pred_cnn = cnn_model.predict(X_test)# Find the most likely prediction for each sample\n",
    "\n",
    "most_likely_predictions = np.argmax(y_pred_cnn, axis=1)\n",
    "cnn_test_pred = label_encoder.inverse_transform(most_likely_predictions)"
   ]
  },
  {
   "cell_type": "code",
   "execution_count": 37,
   "metadata": {},
   "outputs": [
    {
     "name": "stdout",
     "output_type": "stream",
     "text": [
      "1/1 [==============================] - 1s 523ms/step - loss: 1.1425 - accuracy: 0.4000\n",
      "Test Accuracy: 0.4000000059604645\n"
     ]
    }
   ],
   "source": [
    "test_loss, test_accuracy = cnn_model.evaluate(X_test, y_test)\n",
    "print(f\"Test Accuracy: {test_accuracy}\")"
   ]
  },
  {
   "cell_type": "code",
   "execution_count": 31,
   "metadata": {},
   "outputs": [],
   "source": [
    "# Inverse one-hot encoding\n",
    "inverse_encoded_data = np.argmax(y_train, axis=1)\n",
    "y_train_tree = label_encoder.inverse_transform(inverse_encoded_data)\n",
    "# Inverse one-hot encoding\n",
    "inverse_encoded_data = np.argmax(y_test, axis=1)\n",
    "y_test_tree = label_encoder.inverse_transform(inverse_encoded_data)"
   ]
  },
  {
   "cell_type": "code",
   "execution_count": 32,
   "metadata": {},
   "outputs": [
    {
     "name": "stdout",
     "output_type": "stream",
     "text": [
      "Accuracy: 0.40\n"
     ]
    }
   ],
   "source": [
    "from sklearn.tree import DecisionTreeClassifier\n",
    "from sklearn.ensemble import AdaBoostClassifier\n",
    "from sklearn.metrics import accuracy_score, classification_report, confusion_matrix\n",
    "from sklearn.model_selection import GridSearchCV\n",
    "\n",
    "\n",
    "# Create an AdaBoost classifier with a base model (e.g., DecisionTreeClassifier)\n",
    "base_model = DecisionTreeClassifier(max_depth=num_classes_train - 1, min_samples_split=2, min_samples_leaf=1)\n",
    "decision_tree = AdaBoostClassifier(base_model, n_estimators=50, random_state=42)\n",
    "\n",
    "# Fit the ensemble model\n",
    "decision_tree.fit(X_train_flat, y_train_tree)\n",
    "\n",
    "# Make predictions\n",
    "y_pred_tree = decision_tree.predict(X_test_flat)\n",
    "\n",
    "# Calculate the accuracy score on a test dataset\n",
    "accuracy_tree = decision_tree.score(X_test_flat, y_test_tree)\n",
    "\n",
    "# Print the accuracy\n",
    "print(f'Accuracy: {accuracy_tree:.2f}')"
   ]
  },
  {
   "cell_type": "code",
   "execution_count": 33,
   "metadata": {},
   "outputs": [
    {
     "name": "stdout",
     "output_type": "stream",
     "text": [
      "Accuracy: 0.76\n"
     ]
    }
   ],
   "source": [
    "from sklearn.linear_model import LinearRegression\n",
    "from sklearn.ensemble import RandomForestRegressor\n",
    "from sklearn.svm import SVC\n",
    "from sklearn.model_selection import GridSearchCV\n",
    "\n",
    "# Create an SVC classifier\n",
    "svm_classifier = SVC(C=1, kernel=\"linear\", gamma=0.001)\n",
    "# Fit the grid search to your training data\n",
    "svm_classifier.fit(X_train_flat, y_train_tree)\n",
    "# Evaluate the model on the test data\n",
    "y_pred_svm = svm_classifier.predict(X_test_flat)\n",
    "\n",
    "# Calculate the accuracy score on a test dataset\n",
    "accuracy_svm = svm_classifier.score(X_test_flat, y_test_tree)\n",
    "\n",
    "# Print the accuracy\n",
    "print(f'Accuracy: {accuracy_svm:.2f}')"
   ]
  },
  {
   "cell_type": "code",
   "execution_count": 39,
   "metadata": {},
   "outputs": [
    {
     "name": "stdout",
     "output_type": "stream",
     "text": [
      "USANDO  SVM\n"
     ]
    }
   ],
   "source": [
    "results_to_use = []\n",
    "\n",
    "accuracies = {\n",
    "    \"SVM\": accuracy_svm,\n",
    "    \"TREE\": accuracy_tree,\n",
    "    \"CNN\": test_accuracy\n",
    "}\n",
    "# Find the key with the maximum value\n",
    "max_key = max(accuracies, key=accuracies.get)\n",
    "\n",
    "if (max_key == \"SVM\"):\n",
    "    results_to_use = y_pred_svm\n",
    "elif (max_key == \"TREE\"):\n",
    "    results_to_use = y_pred_tree\n",
    "else:\n",
    "    results_to_use = cnn_test_pred\n",
    "\n",
    "\n",
    "print(\"USANDO\", max_key)"
   ]
  },
  {
   "cell_type": "code",
   "execution_count": 35,
   "metadata": {},
   "outputs": [
    {
     "name": "stdout",
     "output_type": "stream",
     "text": [
      ">>> LOG INCORRECTA: \n",
      "            SVM:  fine\n",
      "            TREE:  milk\n",
      "            CNN:  eat food\n",
      "            Correcto:  cat\n",
      ">>> LOG INCORRECTA: \n",
      "            SVM:  fine\n",
      "            TREE:  like\n",
      "            CNN:  fine\n",
      "            Correcto:  eat food\n",
      ">>> LOG INCORRECTA: \n",
      "            SVM:  cat\n",
      "            TREE:  eat food\n",
      "            CNN:  hello\n",
      "            Correcto:  hello\n",
      ">>> LOG INCORRECTA: \n",
      "            SVM:  finish\n",
      "            TREE:  milk\n",
      "            CNN:  go to\n",
      "            Correcto:  help\n",
      ">>> LOG INCORRECTA: \n",
      "            SVM:  more\n",
      "            TREE:  repeat\n",
      "            CNN:  learn\n",
      "            Correcto:  learn\n",
      ">>> LOG INCORRECTA: \n",
      "            SVM:  more\n",
      "            TREE:  me\n",
      "            CNN:  go to\n",
      "            Correcto:  want\n"
     ]
    }
   ],
   "source": [
    "correct = 0\n",
    "for i in range(len(y_test_tree)):\n",
    "    if (\n",
    "        y_test_tree[i] == results_to_use[i]):\n",
    "        correct += 1\n",
    "        # print(\"Correctamente predicha: \", y_pred[i])\n",
    "    else:\n",
    "        print(\">>> LOG INCORRECTA: \")\n",
    "        print(\"            SVM: \", y_pred_svm[i])\n",
    "        print(\"            TREE: \", y_pred_tree[i])\n",
    "        print(\"            CNN: \", cnn_test_pred[i])\n",
    "        print(\"            Correcto: \", y_test_tree[i])\n"
   ]
  },
  {
   "cell_type": "code",
   "execution_count": 36,
   "metadata": {},
   "outputs": [
    {
     "name": "stdout",
     "output_type": "stream",
     "text": [
      "Correct >>  19\n",
      "Incorrect >>  6\n",
      "Ratio >>  0.76\n"
     ]
    }
   ],
   "source": [
    "print(\"Correct >> \", correct)\n",
    "print(\"Incorrect >> \", len(y_test_tree)-correct)\n",
    "print(\"Ratio >> \", str(correct/len(y_test_tree)))"
   ]
  }
 ],
 "metadata": {
  "kernelspec": {
   "display_name": "Python 3",
   "language": "python",
   "name": "python3"
  },
  "language_info": {
   "codemirror_mode": {
    "name": "ipython",
    "version": 3
   },
   "file_extension": ".py",
   "mimetype": "text/x-python",
   "name": "python",
   "nbconvert_exporter": "python",
   "pygments_lexer": "ipython3",
   "version": "3.7.0"
  },
  "orig_nbformat": 4
 },
 "nbformat": 4,
 "nbformat_minor": 2
}
