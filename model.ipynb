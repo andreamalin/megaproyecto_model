{
 "cells": [
  {
   "cell_type": "code",
   "execution_count": 1,
   "metadata": {},
   "outputs": [
    {
     "name": "stderr",
     "output_type": "stream",
     "text": [
      "c:\\Users\\andre\\AppData\\Local\\Programs\\Python\\Python37\\lib\\site-packages\\tqdm\\auto.py:22: TqdmWarning: IProgress not found. Please update jupyter and ipywidgets. See https://ipywidgets.readthedocs.io/en/stable/user_install.html\n",
      "  from .autonotebook import tqdm as notebook_tqdm\n"
     ]
    }
   ],
   "source": [
    "import pandas as pd\n",
    "import numpy as np\n",
    "\n",
    "import torch\n",
    "import torch.nn as nn\n",
    "from torch.utils.data import DataLoader, TensorDataset\n",
    "from sklearn.model_selection import train_test_split\n",
    "from torch.nn.utils.rnn import pad_sequence\n",
    "\n",
    "import multiprocessing as mp\n",
    "from tqdm import tqdm\n",
    "\n",
    "import json\n",
    "import matplotlib.pyplot as plt"
   ]
  },
  {
   "attachments": {},
   "cell_type": "markdown",
   "metadata": {},
   "source": [
    "# Carga de datos"
   ]
  },
  {
   "cell_type": "code",
   "execution_count": 2,
   "metadata": {},
   "outputs": [],
   "source": [
    "train_data = pd.read_csv(\"data/train.csv\")\n",
    "metadata = pd.read_csv(\"data/supplemental_metadata.csv\")\n",
    "char_to_pred = json.load(open(\"data/character_to_prediction_index.json\", \"r\"))"
   ]
  },
  {
   "cell_type": "code",
   "execution_count": 3,
   "metadata": {},
   "outputs": [
    {
     "data": {
      "text/html": [
       "<div>\n",
       "<style scoped>\n",
       "    .dataframe tbody tr th:only-of-type {\n",
       "        vertical-align: middle;\n",
       "    }\n",
       "\n",
       "    .dataframe tbody tr th {\n",
       "        vertical-align: top;\n",
       "    }\n",
       "\n",
       "    .dataframe thead th {\n",
       "        text-align: right;\n",
       "    }\n",
       "</style>\n",
       "<table border=\"1\" class=\"dataframe\">\n",
       "  <thead>\n",
       "    <tr style=\"text-align: right;\">\n",
       "      <th></th>\n",
       "      <th>path</th>\n",
       "      <th>file_id</th>\n",
       "      <th>sequence_id</th>\n",
       "      <th>participant_id</th>\n",
       "      <th>phrase</th>\n",
       "    </tr>\n",
       "  </thead>\n",
       "  <tbody>\n",
       "    <tr>\n",
       "      <th>0</th>\n",
       "      <td>train_landmarks/5414471.parquet</td>\n",
       "      <td>5414471</td>\n",
       "      <td>1816796431</td>\n",
       "      <td>217</td>\n",
       "      <td>3 creekhouse</td>\n",
       "    </tr>\n",
       "    <tr>\n",
       "      <th>1</th>\n",
       "      <td>train_landmarks/5414471.parquet</td>\n",
       "      <td>5414471</td>\n",
       "      <td>1816825349</td>\n",
       "      <td>107</td>\n",
       "      <td>scales/kuhaylah</td>\n",
       "    </tr>\n",
       "    <tr>\n",
       "      <th>2</th>\n",
       "      <td>train_landmarks/5414471.parquet</td>\n",
       "      <td>5414471</td>\n",
       "      <td>1816909464</td>\n",
       "      <td>1</td>\n",
       "      <td>1383 william lanier</td>\n",
       "    </tr>\n",
       "    <tr>\n",
       "      <th>3</th>\n",
       "      <td>train_landmarks/5414471.parquet</td>\n",
       "      <td>5414471</td>\n",
       "      <td>1816967051</td>\n",
       "      <td>63</td>\n",
       "      <td>988 franklin lane</td>\n",
       "    </tr>\n",
       "    <tr>\n",
       "      <th>4</th>\n",
       "      <td>train_landmarks/5414471.parquet</td>\n",
       "      <td>5414471</td>\n",
       "      <td>1817123330</td>\n",
       "      <td>89</td>\n",
       "      <td>6920 northeast 661st road</td>\n",
       "    </tr>\n",
       "  </tbody>\n",
       "</table>\n",
       "</div>"
      ],
      "text/plain": [
       "                              path  file_id  sequence_id  participant_id  \\\n",
       "0  train_landmarks/5414471.parquet  5414471   1816796431             217   \n",
       "1  train_landmarks/5414471.parquet  5414471   1816825349             107   \n",
       "2  train_landmarks/5414471.parquet  5414471   1816909464               1   \n",
       "3  train_landmarks/5414471.parquet  5414471   1816967051              63   \n",
       "4  train_landmarks/5414471.parquet  5414471   1817123330              89   \n",
       "\n",
       "                      phrase  \n",
       "0               3 creekhouse  \n",
       "1            scales/kuhaylah  \n",
       "2        1383 william lanier  \n",
       "3          988 franklin lane  \n",
       "4  6920 northeast 661st road  "
      ]
     },
     "execution_count": 3,
     "metadata": {},
     "output_type": "execute_result"
    }
   ],
   "source": [
    "train_data.head()"
   ]
  },
  {
   "attachments": {},
   "cell_type": "markdown",
   "metadata": {},
   "source": [
    "# Analisis Exploratorio"
   ]
  },
  {
   "cell_type": "code",
   "execution_count": 4,
   "metadata": {},
   "outputs": [
    {
     "name": "stdout",
     "output_type": "stream",
     "text": [
      "--------------------Train data--------------------\n",
      "Cantidad de filas : 67208\n",
      "Cantidad de participantes : 94\n",
      "Cantidad de frases unicas : 46478\n"
     ]
    }
   ],
   "source": [
    "print(\"--------------------Train data--------------------\")\n",
    "print(f\"Cantidad de filas : {train_data.shape[0]}\")\n",
    "print(f\"Cantidad de participantes : {train_data.participant_id.nunique()}\")\n",
    "print(f\"Cantidad de frases unicas : {train_data.phrase.nunique()}\")"
   ]
  },
  {
   "cell_type": "code",
   "execution_count": 5,
   "metadata": {},
   "outputs": [
    {
     "name": "stdout",
     "output_type": "stream",
     "text": [
      "--------------------Metadata--------------------\n",
      "Cantidad de filas : 52958\n",
      "Cantidad de participantes : 72\n",
      "Cantidad de frases unicas : 508\n"
     ]
    }
   ],
   "source": [
    "print(\"--------------------Metadata--------------------\")\n",
    "print(f\"Cantidad de filas : {metadata.shape[0]}\")\n",
    "print(f\"Cantidad de participantes : {metadata.participant_id.nunique()}\")\n",
    "print(f\"Cantidad de frases unicas : {metadata.phrase.nunique()}\")"
   ]
  },
  {
   "cell_type": "code",
   "execution_count": 6,
   "metadata": {},
   "outputs": [
    {
     "data": {
      "text/html": [
       "<div>\n",
       "<style scoped>\n",
       "    .dataframe tbody tr th:only-of-type {\n",
       "        vertical-align: middle;\n",
       "    }\n",
       "\n",
       "    .dataframe tbody tr th {\n",
       "        vertical-align: top;\n",
       "    }\n",
       "\n",
       "    .dataframe thead th {\n",
       "        text-align: right;\n",
       "    }\n",
       "</style>\n",
       "<table border=\"1\" class=\"dataframe\">\n",
       "  <thead>\n",
       "    <tr style=\"text-align: right;\">\n",
       "      <th></th>\n",
       "      <th>file_id</th>\n",
       "      <th>sequence_id</th>\n",
       "      <th>participant_id</th>\n",
       "    </tr>\n",
       "  </thead>\n",
       "  <tbody>\n",
       "    <tr>\n",
       "      <th>count</th>\n",
       "      <td>6.720800e+04</td>\n",
       "      <td>6.720800e+04</td>\n",
       "      <td>67208.000000</td>\n",
       "    </tr>\n",
       "    <tr>\n",
       "      <th>mean</th>\n",
       "      <td>1.094448e+09</td>\n",
       "      <td>1.072696e+09</td>\n",
       "      <td>119.758154</td>\n",
       "    </tr>\n",
       "    <tr>\n",
       "      <th>std</th>\n",
       "      <td>6.395616e+08</td>\n",
       "      <td>6.177372e+08</td>\n",
       "      <td>74.330468</td>\n",
       "    </tr>\n",
       "    <tr>\n",
       "      <th>min</th>\n",
       "      <td>5.414471e+06</td>\n",
       "      <td>7.109500e+04</td>\n",
       "      <td>0.000000</td>\n",
       "    </tr>\n",
       "    <tr>\n",
       "      <th>25%</th>\n",
       "      <td>5.277082e+08</td>\n",
       "      <td>5.376519e+08</td>\n",
       "      <td>63.000000</td>\n",
       "    </tr>\n",
       "    <tr>\n",
       "      <th>50%</th>\n",
       "      <td>1.099408e+09</td>\n",
       "      <td>1.074387e+09</td>\n",
       "      <td>113.000000</td>\n",
       "    </tr>\n",
       "    <tr>\n",
       "      <th>75%</th>\n",
       "      <td>1.662743e+09</td>\n",
       "      <td>1.605592e+09</td>\n",
       "      <td>178.000000</td>\n",
       "    </tr>\n",
       "    <tr>\n",
       "      <th>max</th>\n",
       "      <td>2.118949e+09</td>\n",
       "      <td>2.147465e+09</td>\n",
       "      <td>254.000000</td>\n",
       "    </tr>\n",
       "  </tbody>\n",
       "</table>\n",
       "</div>"
      ],
      "text/plain": [
       "            file_id   sequence_id  participant_id\n",
       "count  6.720800e+04  6.720800e+04    67208.000000\n",
       "mean   1.094448e+09  1.072696e+09      119.758154\n",
       "std    6.395616e+08  6.177372e+08       74.330468\n",
       "min    5.414471e+06  7.109500e+04        0.000000\n",
       "25%    5.277082e+08  5.376519e+08       63.000000\n",
       "50%    1.099408e+09  1.074387e+09      113.000000\n",
       "75%    1.662743e+09  1.605592e+09      178.000000\n",
       "max    2.118949e+09  2.147465e+09      254.000000"
      ]
     },
     "execution_count": 6,
     "metadata": {},
     "output_type": "execute_result"
    }
   ],
   "source": [
    "train_data.describe()"
   ]
  },
  {
   "attachments": {},
   "cell_type": "markdown",
   "metadata": {},
   "source": [
    "# Levenshtein Distance\n",
    "* Ref: https://blog.paperspace.com/implementing-levenshtein-distance-word-autocomplete-autocorrect/#:~:text=The%20Levenshtein%20distance%20is%20a,transform%20one%20word%20into%20another."
   ]
  },
  {
   "cell_type": "code",
   "execution_count": 7,
   "metadata": {},
   "outputs": [],
   "source": [
    "def printDistances(distances, token1Length, token2Length):\n",
    "    for t1 in range(token1Length + 1):\n",
    "        for t2 in range(token2Length + 1):\n",
    "            print(int(distances[t1][t2]), end=\" \")\n",
    "        print()\n",
    "\n",
    "def levenshteinDistanceDP(token1, token2):\n",
    "    distances = np.zeros((len(token1) + 1, len(token2) + 1))\n",
    "\n",
    "    for t1 in range(len(token1) + 1):\n",
    "        distances[t1][0] = t1\n",
    "\n",
    "    for t2 in range(len(token2) + 1):\n",
    "        distances[0][t2] = t2\n",
    "        \n",
    "    a = 0\n",
    "    b = 0\n",
    "    c = 0\n",
    "    \n",
    "    for t1 in range(1, len(token1) + 1):\n",
    "        for t2 in range(1, len(token2) + 1):\n",
    "            if (token1[t1-1] == token2[t2-1]):\n",
    "                distances[t1][t2] = distances[t1 - 1][t2 - 1]\n",
    "            else:\n",
    "                a = distances[t1][t2 - 1]\n",
    "                b = distances[t1 - 1][t2]\n",
    "                c = distances[t1 - 1][t2 - 1]\n",
    "                \n",
    "                if (a <= b and a <= c):\n",
    "                    distances[t1][t2] = a + 1\n",
    "                elif (b <= a and b <= c):\n",
    "                    distances[t1][t2] = b + 1\n",
    "                else:\n",
    "                    distances[t1][t2] = c + 1\n",
    "\n",
    "    printDistances(distances, len(token1), len(token2))\n",
    "    return distances[len(token1)][len(token2)]"
   ]
  },
  {
   "cell_type": "code",
   "execution_count": 8,
   "metadata": {},
   "outputs": [],
   "source": [
    "# levenshteinDistanceDP(\"kelm\", \"hello\")"
   ]
  },
  {
   "attachments": {},
   "cell_type": "markdown",
   "metadata": {},
   "source": [
    "# Preprocesamiento del Modelo"
   ]
  },
  {
   "attachments": {},
   "cell_type": "markdown",
   "metadata": {},
   "source": [
    "Solo se obtienen 20 indices de las coordenadas x y y, ya que son las unicas que han sido altamente entrenadas del modelo mediapipe de Google"
   ]
  },
  {
   "cell_type": "code",
   "execution_count": 9,
   "metadata": {},
   "outputs": [],
   "source": [
    "def get_needed_cols():\n",
    "    cols = []\n",
    "\n",
    "    for i in range(20):\n",
    "        cols.append(f'x_right_hand_{i}')\n",
    "        cols.append(f'y_right_hand_{i}')\n",
    "        cols.append(f'x_left_hand_{i}')\n",
    "        cols.append(f'y_left_hand_{i}')\n",
    "    \n",
    "    return cols"
   ]
  },
  {
   "cell_type": "code",
   "execution_count": 10,
   "metadata": {},
   "outputs": [],
   "source": [
    "selected_columns = get_needed_cols()\n",
    "sample = pd.read_parquet(\"data/train_landmarks/1019715464.parquet\", columns=selected_columns)"
   ]
  },
  {
   "cell_type": "code",
   "execution_count": 11,
   "metadata": {},
   "outputs": [
    {
     "data": {
      "text/html": [
       "<div>\n",
       "<style scoped>\n",
       "    .dataframe tbody tr th:only-of-type {\n",
       "        vertical-align: middle;\n",
       "    }\n",
       "\n",
       "    .dataframe tbody tr th {\n",
       "        vertical-align: top;\n",
       "    }\n",
       "\n",
       "    .dataframe thead th {\n",
       "        text-align: right;\n",
       "    }\n",
       "</style>\n",
       "<table border=\"1\" class=\"dataframe\">\n",
       "  <thead>\n",
       "    <tr style=\"text-align: right;\">\n",
       "      <th></th>\n",
       "      <th>x_right_hand_0</th>\n",
       "      <th>y_right_hand_0</th>\n",
       "      <th>x_left_hand_0</th>\n",
       "      <th>y_left_hand_0</th>\n",
       "      <th>x_right_hand_1</th>\n",
       "      <th>y_right_hand_1</th>\n",
       "      <th>x_left_hand_1</th>\n",
       "      <th>y_left_hand_1</th>\n",
       "      <th>x_right_hand_2</th>\n",
       "      <th>y_right_hand_2</th>\n",
       "      <th>...</th>\n",
       "      <th>x_left_hand_17</th>\n",
       "      <th>y_left_hand_17</th>\n",
       "      <th>x_right_hand_18</th>\n",
       "      <th>y_right_hand_18</th>\n",
       "      <th>x_left_hand_18</th>\n",
       "      <th>y_left_hand_18</th>\n",
       "      <th>x_right_hand_19</th>\n",
       "      <th>y_right_hand_19</th>\n",
       "      <th>x_left_hand_19</th>\n",
       "      <th>y_left_hand_19</th>\n",
       "    </tr>\n",
       "    <tr>\n",
       "      <th>sequence_id</th>\n",
       "      <th></th>\n",
       "      <th></th>\n",
       "      <th></th>\n",
       "      <th></th>\n",
       "      <th></th>\n",
       "      <th></th>\n",
       "      <th></th>\n",
       "      <th></th>\n",
       "      <th></th>\n",
       "      <th></th>\n",
       "      <th></th>\n",
       "      <th></th>\n",
       "      <th></th>\n",
       "      <th></th>\n",
       "      <th></th>\n",
       "      <th></th>\n",
       "      <th></th>\n",
       "      <th></th>\n",
       "      <th></th>\n",
       "      <th></th>\n",
       "      <th></th>\n",
       "    </tr>\n",
       "  </thead>\n",
       "  <tbody>\n",
       "    <tr>\n",
       "      <th>1975433633</th>\n",
       "      <td>0.223376</td>\n",
       "      <td>0.755344</td>\n",
       "      <td>NaN</td>\n",
       "      <td>NaN</td>\n",
       "      <td>0.314379</td>\n",
       "      <td>0.755479</td>\n",
       "      <td>NaN</td>\n",
       "      <td>NaN</td>\n",
       "      <td>0.381249</td>\n",
       "      <td>0.726833</td>\n",
       "      <td>...</td>\n",
       "      <td>NaN</td>\n",
       "      <td>NaN</td>\n",
       "      <td>0.105947</td>\n",
       "      <td>0.612873</td>\n",
       "      <td>NaN</td>\n",
       "      <td>NaN</td>\n",
       "      <td>0.093977</td>\n",
       "      <td>0.584119</td>\n",
       "      <td>NaN</td>\n",
       "      <td>NaN</td>\n",
       "    </tr>\n",
       "    <tr>\n",
       "      <th>1975433633</th>\n",
       "      <td>NaN</td>\n",
       "      <td>NaN</td>\n",
       "      <td>NaN</td>\n",
       "      <td>NaN</td>\n",
       "      <td>NaN</td>\n",
       "      <td>NaN</td>\n",
       "      <td>NaN</td>\n",
       "      <td>NaN</td>\n",
       "      <td>NaN</td>\n",
       "      <td>NaN</td>\n",
       "      <td>...</td>\n",
       "      <td>NaN</td>\n",
       "      <td>NaN</td>\n",
       "      <td>NaN</td>\n",
       "      <td>NaN</td>\n",
       "      <td>NaN</td>\n",
       "      <td>NaN</td>\n",
       "      <td>NaN</td>\n",
       "      <td>NaN</td>\n",
       "      <td>NaN</td>\n",
       "      <td>NaN</td>\n",
       "    </tr>\n",
       "    <tr>\n",
       "      <th>1975433633</th>\n",
       "      <td>0.229610</td>\n",
       "      <td>0.763030</td>\n",
       "      <td>NaN</td>\n",
       "      <td>NaN</td>\n",
       "      <td>0.323558</td>\n",
       "      <td>0.757111</td>\n",
       "      <td>NaN</td>\n",
       "      <td>NaN</td>\n",
       "      <td>0.391224</td>\n",
       "      <td>0.726754</td>\n",
       "      <td>...</td>\n",
       "      <td>NaN</td>\n",
       "      <td>NaN</td>\n",
       "      <td>0.107829</td>\n",
       "      <td>0.601616</td>\n",
       "      <td>NaN</td>\n",
       "      <td>NaN</td>\n",
       "      <td>0.098407</td>\n",
       "      <td>0.567502</td>\n",
       "      <td>NaN</td>\n",
       "      <td>NaN</td>\n",
       "    </tr>\n",
       "    <tr>\n",
       "      <th>1975433633</th>\n",
       "      <td>0.233477</td>\n",
       "      <td>0.764909</td>\n",
       "      <td>NaN</td>\n",
       "      <td>NaN</td>\n",
       "      <td>0.324557</td>\n",
       "      <td>0.758571</td>\n",
       "      <td>NaN</td>\n",
       "      <td>NaN</td>\n",
       "      <td>0.396712</td>\n",
       "      <td>0.725978</td>\n",
       "      <td>...</td>\n",
       "      <td>NaN</td>\n",
       "      <td>NaN</td>\n",
       "      <td>0.112081</td>\n",
       "      <td>0.599290</td>\n",
       "      <td>NaN</td>\n",
       "      <td>NaN</td>\n",
       "      <td>0.102222</td>\n",
       "      <td>0.565760</td>\n",
       "      <td>NaN</td>\n",
       "      <td>NaN</td>\n",
       "    </tr>\n",
       "    <tr>\n",
       "      <th>1975433633</th>\n",
       "      <td>NaN</td>\n",
       "      <td>NaN</td>\n",
       "      <td>NaN</td>\n",
       "      <td>NaN</td>\n",
       "      <td>NaN</td>\n",
       "      <td>NaN</td>\n",
       "      <td>NaN</td>\n",
       "      <td>NaN</td>\n",
       "      <td>NaN</td>\n",
       "      <td>NaN</td>\n",
       "      <td>...</td>\n",
       "      <td>NaN</td>\n",
       "      <td>NaN</td>\n",
       "      <td>NaN</td>\n",
       "      <td>NaN</td>\n",
       "      <td>NaN</td>\n",
       "      <td>NaN</td>\n",
       "      <td>NaN</td>\n",
       "      <td>NaN</td>\n",
       "      <td>NaN</td>\n",
       "      <td>NaN</td>\n",
       "    </tr>\n",
       "  </tbody>\n",
       "</table>\n",
       "<p>5 rows × 80 columns</p>\n",
       "</div>"
      ],
      "text/plain": [
       "             x_right_hand_0  y_right_hand_0  x_left_hand_0  y_left_hand_0  \\\n",
       "sequence_id                                                                 \n",
       "1975433633         0.223376        0.755344            NaN            NaN   \n",
       "1975433633              NaN             NaN            NaN            NaN   \n",
       "1975433633         0.229610        0.763030            NaN            NaN   \n",
       "1975433633         0.233477        0.764909            NaN            NaN   \n",
       "1975433633              NaN             NaN            NaN            NaN   \n",
       "\n",
       "             x_right_hand_1  y_right_hand_1  x_left_hand_1  y_left_hand_1  \\\n",
       "sequence_id                                                                 \n",
       "1975433633         0.314379        0.755479            NaN            NaN   \n",
       "1975433633              NaN             NaN            NaN            NaN   \n",
       "1975433633         0.323558        0.757111            NaN            NaN   \n",
       "1975433633         0.324557        0.758571            NaN            NaN   \n",
       "1975433633              NaN             NaN            NaN            NaN   \n",
       "\n",
       "             x_right_hand_2  y_right_hand_2  ...  x_left_hand_17  \\\n",
       "sequence_id                                  ...                   \n",
       "1975433633         0.381249        0.726833  ...             NaN   \n",
       "1975433633              NaN             NaN  ...             NaN   \n",
       "1975433633         0.391224        0.726754  ...             NaN   \n",
       "1975433633         0.396712        0.725978  ...             NaN   \n",
       "1975433633              NaN             NaN  ...             NaN   \n",
       "\n",
       "             y_left_hand_17  x_right_hand_18  y_right_hand_18  x_left_hand_18  \\\n",
       "sequence_id                                                                     \n",
       "1975433633              NaN         0.105947         0.612873             NaN   \n",
       "1975433633              NaN              NaN              NaN             NaN   \n",
       "1975433633              NaN         0.107829         0.601616             NaN   \n",
       "1975433633              NaN         0.112081         0.599290             NaN   \n",
       "1975433633              NaN              NaN              NaN             NaN   \n",
       "\n",
       "             y_left_hand_18  x_right_hand_19  y_right_hand_19  x_left_hand_19  \\\n",
       "sequence_id                                                                     \n",
       "1975433633              NaN         0.093977         0.584119             NaN   \n",
       "1975433633              NaN              NaN              NaN             NaN   \n",
       "1975433633              NaN         0.098407         0.567502             NaN   \n",
       "1975433633              NaN         0.102222         0.565760             NaN   \n",
       "1975433633              NaN              NaN              NaN             NaN   \n",
       "\n",
       "             y_left_hand_19  \n",
       "sequence_id                  \n",
       "1975433633              NaN  \n",
       "1975433633              NaN  \n",
       "1975433633              NaN  \n",
       "1975433633              NaN  \n",
       "1975433633              NaN  \n",
       "\n",
       "[5 rows x 80 columns]"
      ]
     },
     "execution_count": 11,
     "metadata": {},
     "output_type": "execute_result"
    }
   ],
   "source": [
    "sample.head()"
   ]
  },
  {
   "cell_type": "markdown",
   "metadata": {},
   "source": [
    "# Modelo"
   ]
  },
  {
   "cell_type": "code",
   "execution_count": 12,
   "metadata": {},
   "outputs": [
    {
     "data": {
      "text/plain": [
       "Int64Index([1975433633, 1975473601, 1975502450, 1975521182, 1975541698,\n",
       "            1975562925, 1975572309, 1975589819, 1975645112, 1975681715,\n",
       "            ...\n",
       "            1336877715, 1336932722, 1336965514, 1337008823, 1337011043,\n",
       "            1337066093, 1337093778, 1337119117, 1337179509, 1337199471],\n",
       "           dtype='int64', name='sequence_id', length=4997)"
      ]
     },
     "execution_count": 12,
     "metadata": {},
     "output_type": "execute_result"
    }
   ],
   "source": [
    "s = pd.read_parquet('./data/train_landmarks/1019715464.parquet', columns=selected_columns)\n",
    "\n",
    "parquets = [\"128822441.parquet\", \"149822653.parquet\", \"152029243.parquet\", \"169560558.parquet\"]\n",
    "# parquets = [\"128822441.parquet\", \"149822653.parquet\", \"152029243.parquet\", \"169560558.parquet\",\n",
    "#             \"175396851.parquet\", \"1019715464.parquet\", \"1021040628.parquet\", \"1098899348.parquet\"]\n",
    "for parquet in parquets:\n",
    "    s2 = pd.read_parquet(f'./data/train_landmarks/{parquet}', columns=selected_columns)\n",
    "    # Concatenate the dataframes\n",
    "    s = pd.concat([s, s2])\n",
    "\n",
    "\n",
    "s.index.unique()\n"
   ]
  },
  {
   "cell_type": "code",
   "execution_count": 13,
   "metadata": {},
   "outputs": [
    {
     "data": {
      "text/plain": [
       "799813"
      ]
     },
     "execution_count": 13,
     "metadata": {},
     "output_type": "execute_result"
    }
   ],
   "source": [
    "len(s)"
   ]
  },
  {
   "cell_type": "code",
   "execution_count": 14,
   "metadata": {},
   "outputs": [],
   "source": [
    "s = s.reset_index().rename(columns={'index': 'sequence_id'})"
   ]
  },
  {
   "cell_type": "code",
   "execution_count": 15,
   "metadata": {},
   "outputs": [],
   "source": [
    "phrases = pd.read_csv(\"data/train.csv\", usecols=[\"sequence_id\", \"phrase\"])"
   ]
  },
  {
   "cell_type": "code",
   "execution_count": 16,
   "metadata": {},
   "outputs": [
    {
     "data": {
      "text/plain": [
       "67208"
      ]
     },
     "execution_count": 16,
     "metadata": {},
     "output_type": "execute_result"
    }
   ],
   "source": [
    "len(phrases)"
   ]
  },
  {
   "cell_type": "code",
   "execution_count": 17,
   "metadata": {},
   "outputs": [
    {
     "data": {
      "image/png": "[encoded data removed]",
      "text/plain": [
       "<Figure size 432x288 with 1 Axes>"
      ]
     },
     "metadata": {
      "needs_background": "light"
     },
     "output_type": "display_data"
    }
   ],
   "source": [
    "merged = pd.merge(s, phrases, on='sequence_id')\n",
    "# Compute the lengths of the video sequences\n",
    "video_lengths = merged.groupby('sequence_id').size()\n",
    "\n",
    "# Plot the histogram\n",
    "plt.hist(video_lengths, bins=30)  # Adjust the number of bins as needed\n",
    "plt.xlabel('Video Length')\n",
    "plt.ylabel('Frequency')\n",
    "plt.title('Histogram of Video Lengths')\n",
    "plt.show()"
   ]
  },
  {
   "cell_type": "code",
   "execution_count": 18,
   "metadata": {},
   "outputs": [],
   "source": [
    "# Determine the maximum sequence length\n",
    "grouped = merged.groupby('sequence_id')\n",
    "max_seq_length = 170\n",
    "\n",
    "# Filter out IDs with more than 170 rows\n",
    "filtered_df = grouped.filter(lambda x: len(x) <= max_seq_length)"
   ]
  },
  {
   "cell_type": "code",
   "execution_count": 19,
   "metadata": {},
   "outputs": [],
   "source": [
    "# Create a new DataFrame to store the filled rows\n",
    "filled_df = pd.DataFrame()\n",
    "target = []\n",
    "\n",
    "\n",
    "# Iterate over each group and fill remaining rows with zero\n",
    "for _, group in filtered_df.groupby('sequence_id'):\n",
    "    remaining_rows = max_seq_length - len(group)\n",
    "    if remaining_rows > 0:\n",
    "        zeros_df = pd.DataFrame([[0] * len(group.columns)] * remaining_rows, columns=group.columns)\n",
    "        zeros_df['sequence_id'] = group['sequence_id'].unique()[0]\n",
    "        zeros_df['phrase'] = group['phrase'].unique()[0]\n",
    "        group = pd.concat([group, zeros_df])\n",
    "    \n",
    "    if (group[\"phrase\"].unique()[0] not in target):\n",
    "        filled_df = filled_df.append(group)\n",
    "        target.append(group[\"phrase\"].unique()[0])\n",
    "    \n",
    "filled_df.reset_index(drop=True, inplace=True)"
   ]
  },
  {
   "cell_type": "code",
   "execution_count": 20,
   "metadata": {},
   "outputs": [
    {
     "data": {
      "text/plain": [
       "3021"
      ]
     },
     "execution_count": 20,
     "metadata": {},
     "output_type": "execute_result"
    }
   ],
   "source": [
    "len(target)"
   ]
  },
  {
   "cell_type": "code",
   "execution_count": 21,
   "metadata": {},
   "outputs": [
    {
     "data": {
      "text/plain": [
       "{170}"
      ]
     },
     "execution_count": 21,
     "metadata": {},
     "output_type": "execute_result"
    }
   ],
   "source": [
    "set(filled_df.groupby('sequence_id').size().to_list())"
   ]
  },
  {
   "cell_type": "code",
   "execution_count": 22,
   "metadata": {},
   "outputs": [],
   "source": [
    "del filled_df[\"sequence_id\"] \n",
    "del filled_df[\"phrase\"] "
   ]
  },
  {
   "cell_type": "code",
   "execution_count": 23,
   "metadata": {},
   "outputs": [],
   "source": [
    "# Convert each text in the list to numerical labels\n",
    "numerical_labels_list = []\n",
    "for text in target:\n",
    "    numerical_labels = [char_to_pred[char] for char in text]\n",
    "    numerical_labels_list.append(torch.tensor(numerical_labels))\n",
    "\n",
    "# Pad the sequences to the maximum length\n",
    "padded_labels = pad_sequence(numerical_labels_list, batch_first=True)"
   ]
  },
  {
   "cell_type": "code",
   "execution_count": 24,
   "metadata": {},
   "outputs": [],
   "source": [
    "y = padded_labels #La variable respuesta\n",
    "X = filled_df.fillna(0) #El resto de los datos"
   ]
  },
  {
   "cell_type": "code",
   "execution_count": 25,
   "metadata": {},
   "outputs": [],
   "source": [
    "num_timesteps = max_seq_length\n",
    "num_features = len(get_needed_cols())\n",
    "num_classes = len(y)"
   ]
  },
  {
   "cell_type": "code",
   "execution_count": 26,
   "metadata": {},
   "outputs": [],
   "source": [
    "expected_size =  num_classes * num_timesteps * num_features\n",
    "actual_size = X.iloc[:, :num_features].values.size\n",
    "if expected_size != actual_size:\n",
    "    raise ValueError(\"The total number of elements in the DataFrame does not match the expected size.\")"
   ]
  },
  {
   "cell_type": "code",
   "execution_count": 27,
   "metadata": {},
   "outputs": [],
   "source": [
    "X = X.values.reshape(num_classes, num_timesteps, num_features)"
   ]
  },
  {
   "cell_type": "code",
   "execution_count": 28,
   "metadata": {},
   "outputs": [
    {
     "data": {
      "text/plain": [
       "(3021, 170, 80)"
      ]
     },
     "execution_count": 28,
     "metadata": {},
     "output_type": "execute_result"
    }
   ],
   "source": [
    "X.shape"
   ]
  },
  {
   "cell_type": "code",
   "execution_count": 29,
   "metadata": {},
   "outputs": [],
   "source": [
    "X_train, X_test, y_train, y_test = train_test_split(X, y, test_size=0.30, random_state=42)"
   ]
  },
  {
   "cell_type": "code",
   "execution_count": 30,
   "metadata": {},
   "outputs": [
    {
     "name": "stdout",
     "output_type": "stream",
     "text": [
      "Train: (2114, 170, 80) torch.Size([2114, 30])\n",
      "Test: (907, 170, 80) torch.Size([907, 30])\n"
     ]
    }
   ],
   "source": [
    "print('Train:', X_train.shape, y_train.shape)\n",
    "print('Test:', X_test.shape, y_test.shape)"
   ]
  },
  {
   "cell_type": "code",
   "execution_count": 31,
   "metadata": {},
   "outputs": [],
   "source": [
    "X_train = torch.from_numpy(X_train).float()\n",
    "X_test = torch.from_numpy(X_test).float()"
   ]
  },
  {
   "cell_type": "code",
   "execution_count": 37,
   "metadata": {},
   "outputs": [],
   "source": [
    "class ASLModel(nn.Module):\n",
    "    def __init__(self, input_size, output_size):\n",
    "        super(ASLModel, self).__init__()\n",
    "        self.linear1 = nn.Linear(input_size, 2048)\n",
    "        self.relu1 = nn.ReLU()\n",
    "        self.linear2 = nn.Linear(2048, 30)\n",
    "        self.relu2 = nn.ReLU()\n",
    "        self.linear3 = nn.Linear(30, output_size)\n",
    "\n",
    "    def forward(self, x):\n",
    "        x = self.linear1(x)\n",
    "        x = self.relu1(x)\n",
    "        x = self.linear2(x)\n",
    "        x = self.relu2(x)\n",
    "        return x"
   ]
  },
  {
   "cell_type": "code",
   "execution_count": 38,
   "metadata": {},
   "outputs": [],
   "source": [
    "# Model Initialization\n",
    "model = ASLModel(input_size=num_features, output_size=num_classes)\n",
    "# Optimization Setup\n",
    "optimizer = torch.optim.Adam(model.parameters(), lr=0.001)"
   ]
  },
  {
   "cell_type": "code",
   "execution_count": 39,
   "metadata": {},
   "outputs": [],
   "source": [
    "# Data Preparation\n",
    "train_data = TensorDataset(X_train, y_train)\n",
    "test_data = TensorDataset(X_test, y_test)\n",
    "\n",
    "# DataLoader\n",
    "train_loader = DataLoader(train_data, batch_size=num_timesteps, shuffle=True, drop_last=True)\n",
    "test_loader = DataLoader(test_data, batch_size=num_timesteps, shuffle=False, drop_last=True)"
   ]
  },
  {
   "cell_type": "code",
   "execution_count": 58,
   "metadata": {},
   "outputs": [],
   "source": [
    "# Reverse the JSON dictionary\n",
    "pred_to_char = {value: key for key, value in char_to_pred.items()}"
   ]
  },
  {
   "cell_type": "code",
   "execution_count": 85,
   "metadata": {},
   "outputs": [],
   "source": [
    "def reverse_to_char(data):\n",
    "    phrase = \"\"\n",
    "    for i in data:\n",
    "        phrase += str(pred_to_char.get(int(i.item())) if int(i.item()) in pred_to_char else \"_\")\n",
    "    \n",
    "    return phrase"
   ]
  },
  {
   "cell_type": "code",
   "execution_count": 86,
   "metadata": {},
   "outputs": [
    {
     "name": "stdout",
     "output_type": "stream",
     "text": [
      "Predicted:   p  ppp p  ! !  p  p p p ! p! \n",
      "Expected:  4334 lester harper            \n",
      "Predicted:  _  = _  _  $ $  $ _ s   $$__$_\n",
      "Expected:  4047 calloway branch road     \n",
      "Predicted:   8 !ffa t @( (     q t ff(7b('\n",
      "Expected:  tyson mcgee                   \n",
      "Predicted:  !_ _!!! u  k k     _   k*k_ k_\n",
      "Expected:  issasports.com                \n",
      "Predicted:  6  __u  _ _? ?  ? $ 75 9??_=?$\n",
      "Expected:  134 knoxville                 \n",
      "Epoch 1/5\n",
      "Train Loss: 5.1263 | Train Accuracy: 0.9650\n",
      "Test Loss: 5.1264 | Test Accuracy: 0.9372\n",
      "Average Levenshtein Distance: 0.0000\n",
      "==================================================\n",
      "Predicted:   p  ppp p  ! !  p  p p p ! p! \n",
      "Expected:  4334 lester harper            \n",
      "Predicted:  _  = _  _  $ $  $ _ s   $$__$_\n",
      "Expected:  4047 calloway branch road     \n",
      "Predicted:   8 !ffa t @( (     q t ff(7b('\n",
      "Expected:  tyson mcgee                   \n",
      "Predicted:  !_ _!!! u  k k     _   k*k_ k_\n",
      "Expected:  issasports.com                \n",
      "Predicted:  6  __u  _ _? ?  ? $ 75 9??_=?$\n",
      "Expected:  134 knoxville                 \n",
      "Epoch 2/5\n",
      "Train Loss: 5.1263 | Train Accuracy: 0.9650\n",
      "Test Loss: 5.1264 | Test Accuracy: 0.9372\n",
      "Average Levenshtein Distance: 0.0000\n",
      "==================================================\n",
      "Predicted:   p  ppp p  ! !  p  p p p ! p! \n",
      "Expected:  4334 lester harper            \n",
      "Predicted:  _  = _  _  $ $  $ _ s   $$__$_\n",
      "Expected:  4047 calloway branch road     \n",
      "Predicted:   8 !ffa t @( (     q t ff(7b('\n",
      "Expected:  tyson mcgee                   \n",
      "Predicted:  !_ _!!! u  k k     _   k*k_ k_\n",
      "Expected:  issasports.com                \n",
      "Predicted:  6  __u  _ _? ?  ? $ 75 9??_=?$\n",
      "Expected:  134 knoxville                 \n",
      "Epoch 3/5\n",
      "Train Loss: 5.1263 | Train Accuracy: 0.9650\n",
      "Test Loss: 5.1264 | Test Accuracy: 0.9372\n",
      "Average Levenshtein Distance: 0.0000\n",
      "==================================================\n",
      "Predicted:   p  ppp p  ! !  p  p p p ! p! \n",
      "Expected:  4334 lester harper            \n",
      "Predicted:  _  = _  _  $ $  $ _ s   $$__$_\n",
      "Expected:  4047 calloway branch road     \n",
      "Predicted:   8 !ffa t @( (     q t ff(7b('\n",
      "Expected:  tyson mcgee                   \n",
      "Predicted:  !_ _!!! u  k k     _   k*k_ k_\n",
      "Expected:  issasports.com                \n",
      "Predicted:  6  __u  _ _? ?  ? $ 75 9??_=?$\n",
      "Expected:  134 knoxville                 \n",
      "Epoch 4/5\n",
      "Train Loss: 5.1263 | Train Accuracy: 0.9650\n",
      "Test Loss: 5.1264 | Test Accuracy: 0.9372\n",
      "Average Levenshtein Distance: 0.0000\n",
      "==================================================\n",
      "Predicted:   p  ppp p  ! !  p  p p p ! p! \n",
      "Expected:  4334 lester harper            \n",
      "Predicted:  _  = _  _  $ $  $ _ s   $$__$_\n",
      "Expected:  4047 calloway branch road     \n",
      "Predicted:   8 !ffa t @( (     q t ff(7b('\n",
      "Expected:  tyson mcgee                   \n",
      "Predicted:  !_ _!!! u  k k     _   k*k_ k_\n",
      "Expected:  issasports.com                \n",
      "Predicted:  6  __u  _ _? ?  ? $ 75 9??_=?$\n",
      "Expected:  134 knoxville                 \n",
      "Epoch 5/5\n",
      "Train Loss: 5.1263 | Train Accuracy: 0.9650\n",
      "Test Loss: 5.1264 | Test Accuracy: 0.9372\n",
      "Average Levenshtein Distance: 0.0000\n",
      "==================================================\n"
     ]
    }
   ],
   "source": [
    "EPOCHS = 5\n",
    "loss_fn = nn.CrossEntropyLoss() \n",
    "\n",
    "for epoch in range(EPOCHS):\n",
    "    model.train()\n",
    "    train_loss = 0.0\n",
    "    train_correct = 0\n",
    "\n",
    "    for inputs, labels in train_loader:\n",
    "        labels = labels.long()\n",
    "\n",
    "        outputs = model(inputs)\n",
    "        optimizer.step()\n",
    "        optimizer.zero_grad()\n",
    "\n",
    "        # Calculate the loss\n",
    "        loss = loss_fn(outputs, labels)\n",
    "        # Accumulate the loss\n",
    "        train_loss += loss.item() * inputs.size(0)\n",
    "        # Accumulate the total number of samples\n",
    "        train_correct += inputs.size(0)\n",
    "\n",
    "    train_loss = train_loss / train_correct\n",
    "    train_accuracy = train_correct / len(train_data)\n",
    "\n",
    "    # Evaluation\n",
    "    model.eval()\n",
    "    test_loss = 0.0\n",
    "    test_correct = 0\n",
    "    levenshtein_distance = 0\n",
    "    \n",
    "    with torch.no_grad():\n",
    "        for inputs, labels in test_loader:\n",
    "            labels = labels.long()\n",
    "\n",
    "            outputs = model(inputs)     \n",
    "            # Get the predicted labels\n",
    "            _, predicted = torch.max(outputs.data, dim=1)\n",
    "            # Calculate the loss\n",
    "            loss = loss_fn(outputs, labels)\n",
    "            # Accumulate the loss\n",
    "            test_loss += loss.item() * inputs.size(0)\n",
    "            # Accumulate the total number of samples\n",
    "            test_correct += inputs.size(0)\n",
    "\n",
    "            # Convert the predicted labels to text\n",
    "            predicted_text = reverse_to_char(predicted[0])\n",
    "            # Convert the expected labels to text\n",
    "            expected_text = reverse_to_char(labels[0])\n",
    "\n",
    "            # Print the predicted and expected text values\n",
    "            print(\"Predicted: \", predicted_text)\n",
    "            print(\"Expected: \", expected_text)\n",
    "            # # Calculate Levenshtein distance\n",
    "            # levenshtein_distance += calculate_levenshtein_distance(pred_labels, target_labels)\n",
    "            \n",
    "    test_loss = test_loss / test_correct\n",
    "    test_accuracy = test_correct / len(test_data)\n",
    "    average_levenshtein_distance = levenshtein_distance / len(test_data)\n",
    "\n",
    "    # Print epoch results\n",
    "    print(f\"Epoch {epoch+1}/{EPOCHS}\")\n",
    "    print(f\"Train Loss: {train_loss:.4f} | Train Accuracy: {train_accuracy:.4f}\")\n",
    "    print(f\"Test Loss: {test_loss:.4f} | Test Accuracy: {test_accuracy:.4f}\")\n",
    "    print(f\"Average Levenshtein Distance: {average_levenshtein_distance:.4f}\")\n",
    "    print(\"=\" * 50)"
   ]
  }
 ],
 "metadata": {
  "kernelspec": {
   "display_name": "Python 3",
   "language": "python",
   "name": "python3"
  },
  "language_info": {
   "codemirror_mode": {
    "name": "ipython",
    "version": 3
   },
   "file_extension": ".py",
   "mimetype": "text/x-python",
   "name": "python",
   "nbconvert_exporter": "python",
   "pygments_lexer": "ipython3",
   "version": "3.7.0"
  },
  "orig_nbformat": 4
 },
 "nbformat": 4,
 "nbformat_minor": 2
}
