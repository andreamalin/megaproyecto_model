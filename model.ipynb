{
 "cells": [
  {
   "cell_type": "code",
   "execution_count": 1,
   "metadata": {},
   "outputs": [],
   "source": [
    "import pandas as pd\n",
    "import numpy as np\n",
    "\n",
    "from tensorflow.keras.models import Sequential\n",
    "from keras.layers import Dense, Flatten, Convolution2D, MaxPooling2D, Dropout\n",
    "\n",
    "import json\n",
    "import matplotlib.pyplot as plt"
   ]
  },
  {
   "cell_type": "code",
   "execution_count": 2,
   "metadata": {},
   "outputs": [],
   "source": [
    "import random\n",
    "\n",
    "random.seed(10)"
   ]
  },
  {
   "attachments": {},
   "cell_type": "markdown",
   "metadata": {},
   "source": [
    "# Carga de datos"
   ]
  },
  {
   "cell_type": "code",
   "execution_count": 3,
   "metadata": {},
   "outputs": [],
   "source": [
    "train_data = pd.read_csv(\"data/train.csv\")\n",
    "test_data = pd.read_csv(\"data/validation.csv\")"
   ]
  },
  {
   "cell_type": "code",
   "execution_count": 4,
   "metadata": {},
   "outputs": [
    {
     "data": {
      "text/html": [
       "<div>\n",
       "<style scoped>\n",
       "    .dataframe tbody tr th:only-of-type {\n",
       "        vertical-align: middle;\n",
       "    }\n",
       "\n",
       "    .dataframe tbody tr th {\n",
       "        vertical-align: top;\n",
       "    }\n",
       "\n",
       "    .dataframe thead th {\n",
       "        text-align: right;\n",
       "    }\n",
       "</style>\n",
       "<table border=\"1\" class=\"dataframe\">\n",
       "  <thead>\n",
       "    <tr style=\"text-align: right;\">\n",
       "      <th></th>\n",
       "      <th>sequence_id</th>\n",
       "      <th>target</th>\n",
       "      <th>file</th>\n",
       "    </tr>\n",
       "  </thead>\n",
       "  <tbody>\n",
       "    <tr>\n",
       "      <th>0</th>\n",
       "      <td>1</td>\n",
       "      <td>adios</td>\n",
       "      <td>/Users/andreaamaya/Trabajo/megaproyecto_model/...</td>\n",
       "    </tr>\n",
       "    <tr>\n",
       "      <th>1</th>\n",
       "      <td>1</td>\n",
       "      <td>adios</td>\n",
       "      <td>/Users/andreaamaya/Trabajo/megaproyecto_model/...</td>\n",
       "    </tr>\n",
       "    <tr>\n",
       "      <th>2</th>\n",
       "      <td>1</td>\n",
       "      <td>adios</td>\n",
       "      <td>/Users/andreaamaya/Trabajo/megaproyecto_model/...</td>\n",
       "    </tr>\n",
       "    <tr>\n",
       "      <th>3</th>\n",
       "      <td>1</td>\n",
       "      <td>adios</td>\n",
       "      <td>/Users/andreaamaya/Trabajo/megaproyecto_model/...</td>\n",
       "    </tr>\n",
       "    <tr>\n",
       "      <th>4</th>\n",
       "      <td>1</td>\n",
       "      <td>adios</td>\n",
       "      <td>/Users/andreaamaya/Trabajo/megaproyecto_model/...</td>\n",
       "    </tr>\n",
       "  </tbody>\n",
       "</table>\n",
       "</div>"
      ],
      "text/plain": [
       "   sequence_id target                                               file\n",
       "0            1  adios  /Users/andreaamaya/Trabajo/megaproyecto_model/...\n",
       "1            1  adios  /Users/andreaamaya/Trabajo/megaproyecto_model/...\n",
       "2            1  adios  /Users/andreaamaya/Trabajo/megaproyecto_model/...\n",
       "3            1  adios  /Users/andreaamaya/Trabajo/megaproyecto_model/...\n",
       "4            1  adios  /Users/andreaamaya/Trabajo/megaproyecto_model/..."
      ]
     },
     "execution_count": 4,
     "metadata": {},
     "output_type": "execute_result"
    }
   ],
   "source": [
    "train_data.head()"
   ]
  },
  {
   "attachments": {},
   "cell_type": "markdown",
   "metadata": {},
   "source": [
    "# Analisis Exploratorio"
   ]
  },
  {
   "cell_type": "code",
   "execution_count": 5,
   "metadata": {},
   "outputs": [
    {
     "name": "stdout",
     "output_type": "stream",
     "text": [
      "--------------------Train data--------------------\n",
      "Cantidad de filas : 4694\n",
      "Frases unicas : ['adios', 'ayuda', 'entender', 'familia', 'gracias', 'hola', 'medico', 'necesitar', 'no', 'por favor', 'querer', 'si']\n"
     ]
    }
   ],
   "source": [
    "print(\"--------------------Train data--------------------\")\n",
    "print(f\"Cantidad de filas : {train_data.shape[0]}\")\n",
    "train_letters = list(train_data.target.unique())\n",
    "train_letters.sort()\n",
    "print(f\"Frases unicas : {train_letters}\")"
   ]
  },
  {
   "cell_type": "code",
   "execution_count": 6,
   "metadata": {},
   "outputs": [
    {
     "name": "stdout",
     "output_type": "stream",
     "text": [
      "--------------------Test data--------------------\n",
      "Cantidad de filas : 341\n",
      "Frases unicas : ['adios', 'ayuda', 'entender', 'familia', 'gracias', 'hola', 'medico', 'necesitar', 'no', 'por favor', 'querer', 'si']\n"
     ]
    }
   ],
   "source": [
    "print(\"--------------------Test data--------------------\")\n",
    "print(f\"Cantidad de filas : {test_data.shape[0]}\")\n",
    "test_letters = list(test_data.target.unique())\n",
    "test_letters.sort()\n",
    "print(f\"Frases unicas : {test_letters}\")"
   ]
  },
  {
   "cell_type": "code",
   "execution_count": 7,
   "metadata": {},
   "outputs": [],
   "source": [
    "if (test_letters != train_letters):\n",
    "    raise ValueError(\"Error between target and train\")"
   ]
  },
  {
   "cell_type": "code",
   "execution_count": 8,
   "metadata": {},
   "outputs": [
    {
     "data": {
      "text/html": [
       "<div>\n",
       "<style scoped>\n",
       "    .dataframe tbody tr th:only-of-type {\n",
       "        vertical-align: middle;\n",
       "    }\n",
       "\n",
       "    .dataframe tbody tr th {\n",
       "        vertical-align: top;\n",
       "    }\n",
       "\n",
       "    .dataframe thead th {\n",
       "        text-align: right;\n",
       "    }\n",
       "</style>\n",
       "<table border=\"1\" class=\"dataframe\">\n",
       "  <thead>\n",
       "    <tr style=\"text-align: right;\">\n",
       "      <th></th>\n",
       "      <th>sequence_id</th>\n",
       "    </tr>\n",
       "  </thead>\n",
       "  <tbody>\n",
       "    <tr>\n",
       "      <th>count</th>\n",
       "      <td>4694.000000</td>\n",
       "    </tr>\n",
       "    <tr>\n",
       "      <th>mean</th>\n",
       "      <td>121.512569</td>\n",
       "    </tr>\n",
       "    <tr>\n",
       "      <th>std</th>\n",
       "      <td>67.772999</td>\n",
       "    </tr>\n",
       "    <tr>\n",
       "      <th>min</th>\n",
       "      <td>1.000000</td>\n",
       "    </tr>\n",
       "    <tr>\n",
       "      <th>25%</th>\n",
       "      <td>63.250000</td>\n",
       "    </tr>\n",
       "    <tr>\n",
       "      <th>50%</th>\n",
       "      <td>123.000000</td>\n",
       "    </tr>\n",
       "    <tr>\n",
       "      <th>75%</th>\n",
       "      <td>181.000000</td>\n",
       "    </tr>\n",
       "    <tr>\n",
       "      <th>max</th>\n",
       "      <td>234.000000</td>\n",
       "    </tr>\n",
       "  </tbody>\n",
       "</table>\n",
       "</div>"
      ],
      "text/plain": [
       "       sequence_id\n",
       "count  4694.000000\n",
       "mean    121.512569\n",
       "std      67.772999\n",
       "min       1.000000\n",
       "25%      63.250000\n",
       "50%     123.000000\n",
       "75%     181.000000\n",
       "max     234.000000"
      ]
     },
     "execution_count": 8,
     "metadata": {},
     "output_type": "execute_result"
    }
   ],
   "source": [
    "train_data.describe()"
   ]
  },
  {
   "attachments": {},
   "cell_type": "markdown",
   "metadata": {},
   "source": [
    "# Preprocesamiento del Modelo"
   ]
  },
  {
   "attachments": {},
   "cell_type": "markdown",
   "metadata": {},
   "source": [
    "Solo se obtienen 20 indices de las coordenadas x y y, ya que son las unicas que han sido altamente entrenadas del modelo mediapipe de Google"
   ]
  },
  {
   "cell_type": "code",
   "execution_count": 9,
   "metadata": {},
   "outputs": [],
   "source": [
    "def get_needed_cols():\n",
    "    cols = []\n",
    "\n",
    "    for i in range(21):\n",
    "        cols.append(f'x_Right_hand_{i}')\n",
    "        cols.append(f'y_Right_hand_{i}')\n",
    "        cols.append(f'x_Left_hand_{i}')\n",
    "        cols.append(f'y_Left_hand_{i}')\n",
    "    \n",
    "    return cols"
   ]
  },
  {
   "cell_type": "code",
   "execution_count": 10,
   "metadata": {},
   "outputs": [],
   "source": [
    "df = pd.read_csv(\"data/data.csv\")\n",
    "df_test = df[df['sequence_id'].isin(test_data['sequence_id'])]\n",
    "df_train = df[df['sequence_id'].isin(train_data['sequence_id'])]"
   ]
  },
  {
   "cell_type": "code",
   "execution_count": 11,
   "metadata": {},
   "outputs": [
    {
     "data": {
      "text/html": [
       "<div>\n",
       "<style scoped>\n",
       "    .dataframe tbody tr th:only-of-type {\n",
       "        vertical-align: middle;\n",
       "    }\n",
       "\n",
       "    .dataframe tbody tr th {\n",
       "        vertical-align: top;\n",
       "    }\n",
       "\n",
       "    .dataframe thead th {\n",
       "        text-align: right;\n",
       "    }\n",
       "</style>\n",
       "<table border=\"1\" class=\"dataframe\">\n",
       "  <thead>\n",
       "    <tr style=\"text-align: right;\">\n",
       "      <th></th>\n",
       "      <th>sequence_id</th>\n",
       "      <th>target</th>\n",
       "      <th>x_Left_hand_0</th>\n",
       "      <th>y_Left_hand_0</th>\n",
       "      <th>x_Left_hand_1</th>\n",
       "      <th>y_Left_hand_1</th>\n",
       "      <th>x_Left_hand_2</th>\n",
       "      <th>y_Left_hand_2</th>\n",
       "      <th>x_Left_hand_3</th>\n",
       "      <th>y_Left_hand_3</th>\n",
       "      <th>...</th>\n",
       "      <th>x_Right_hand_16</th>\n",
       "      <th>y_Right_hand_16</th>\n",
       "      <th>x_Right_hand_17</th>\n",
       "      <th>y_Right_hand_17</th>\n",
       "      <th>x_Right_hand_18</th>\n",
       "      <th>y_Right_hand_18</th>\n",
       "      <th>x_Right_hand_19</th>\n",
       "      <th>y_Right_hand_19</th>\n",
       "      <th>x_Right_hand_20</th>\n",
       "      <th>y_Right_hand_20</th>\n",
       "    </tr>\n",
       "  </thead>\n",
       "  <tbody>\n",
       "    <tr>\n",
       "      <th>0</th>\n",
       "      <td>1</td>\n",
       "      <td>adios</td>\n",
       "      <td>0.827920</td>\n",
       "      <td>1.0</td>\n",
       "      <td>0.934036</td>\n",
       "      <td>0.978228</td>\n",
       "      <td>0.980444</td>\n",
       "      <td>0.942305</td>\n",
       "      <td>0.986786</td>\n",
       "      <td>0.908179</td>\n",
       "      <td>...</td>\n",
       "      <td>0.0</td>\n",
       "      <td>0.0</td>\n",
       "      <td>0.0</td>\n",
       "      <td>0.0</td>\n",
       "      <td>0.0</td>\n",
       "      <td>0.0</td>\n",
       "      <td>0.0</td>\n",
       "      <td>0.0</td>\n",
       "      <td>0.0</td>\n",
       "      <td>0.0</td>\n",
       "    </tr>\n",
       "    <tr>\n",
       "      <th>1</th>\n",
       "      <td>1</td>\n",
       "      <td>adios</td>\n",
       "      <td>0.817225</td>\n",
       "      <td>1.0</td>\n",
       "      <td>0.919262</td>\n",
       "      <td>0.974164</td>\n",
       "      <td>0.969290</td>\n",
       "      <td>0.935011</td>\n",
       "      <td>0.982964</td>\n",
       "      <td>0.902736</td>\n",
       "      <td>...</td>\n",
       "      <td>0.0</td>\n",
       "      <td>0.0</td>\n",
       "      <td>0.0</td>\n",
       "      <td>0.0</td>\n",
       "      <td>0.0</td>\n",
       "      <td>0.0</td>\n",
       "      <td>0.0</td>\n",
       "      <td>0.0</td>\n",
       "      <td>0.0</td>\n",
       "      <td>0.0</td>\n",
       "    </tr>\n",
       "    <tr>\n",
       "      <th>2</th>\n",
       "      <td>1</td>\n",
       "      <td>adios</td>\n",
       "      <td>0.774163</td>\n",
       "      <td>1.0</td>\n",
       "      <td>0.901714</td>\n",
       "      <td>0.977671</td>\n",
       "      <td>0.963947</td>\n",
       "      <td>0.940899</td>\n",
       "      <td>0.977280</td>\n",
       "      <td>0.907681</td>\n",
       "      <td>...</td>\n",
       "      <td>0.0</td>\n",
       "      <td>0.0</td>\n",
       "      <td>0.0</td>\n",
       "      <td>0.0</td>\n",
       "      <td>0.0</td>\n",
       "      <td>0.0</td>\n",
       "      <td>0.0</td>\n",
       "      <td>0.0</td>\n",
       "      <td>0.0</td>\n",
       "      <td>0.0</td>\n",
       "    </tr>\n",
       "    <tr>\n",
       "      <th>3</th>\n",
       "      <td>1</td>\n",
       "      <td>adios</td>\n",
       "      <td>0.800099</td>\n",
       "      <td>1.0</td>\n",
       "      <td>0.922746</td>\n",
       "      <td>0.969956</td>\n",
       "      <td>0.988565</td>\n",
       "      <td>0.930440</td>\n",
       "      <td>1.000000</td>\n",
       "      <td>0.898314</td>\n",
       "      <td>...</td>\n",
       "      <td>0.0</td>\n",
       "      <td>0.0</td>\n",
       "      <td>0.0</td>\n",
       "      <td>0.0</td>\n",
       "      <td>0.0</td>\n",
       "      <td>0.0</td>\n",
       "      <td>0.0</td>\n",
       "      <td>0.0</td>\n",
       "      <td>0.0</td>\n",
       "      <td>0.0</td>\n",
       "    </tr>\n",
       "    <tr>\n",
       "      <th>4</th>\n",
       "      <td>1</td>\n",
       "      <td>adios</td>\n",
       "      <td>0.796019</td>\n",
       "      <td>1.0</td>\n",
       "      <td>0.948179</td>\n",
       "      <td>0.958495</td>\n",
       "      <td>1.000000</td>\n",
       "      <td>0.915316</td>\n",
       "      <td>0.963509</td>\n",
       "      <td>0.883270</td>\n",
       "      <td>...</td>\n",
       "      <td>0.0</td>\n",
       "      <td>0.0</td>\n",
       "      <td>0.0</td>\n",
       "      <td>0.0</td>\n",
       "      <td>0.0</td>\n",
       "      <td>0.0</td>\n",
       "      <td>0.0</td>\n",
       "      <td>0.0</td>\n",
       "      <td>0.0</td>\n",
       "      <td>0.0</td>\n",
       "    </tr>\n",
       "  </tbody>\n",
       "</table>\n",
       "<p>5 rows × 86 columns</p>\n",
       "</div>"
      ],
      "text/plain": [
       "   sequence_id target  x_Left_hand_0  y_Left_hand_0  x_Left_hand_1  \\\n",
       "0            1  adios       0.827920            1.0       0.934036   \n",
       "1            1  adios       0.817225            1.0       0.919262   \n",
       "2            1  adios       0.774163            1.0       0.901714   \n",
       "3            1  adios       0.800099            1.0       0.922746   \n",
       "4            1  adios       0.796019            1.0       0.948179   \n",
       "\n",
       "   y_Left_hand_1  x_Left_hand_2  y_Left_hand_2  x_Left_hand_3  y_Left_hand_3  \\\n",
       "0       0.978228       0.980444       0.942305       0.986786       0.908179   \n",
       "1       0.974164       0.969290       0.935011       0.982964       0.902736   \n",
       "2       0.977671       0.963947       0.940899       0.977280       0.907681   \n",
       "3       0.969956       0.988565       0.930440       1.000000       0.898314   \n",
       "4       0.958495       1.000000       0.915316       0.963509       0.883270   \n",
       "\n",
       "   ...  x_Right_hand_16  y_Right_hand_16  x_Right_hand_17  y_Right_hand_17  \\\n",
       "0  ...              0.0              0.0              0.0              0.0   \n",
       "1  ...              0.0              0.0              0.0              0.0   \n",
       "2  ...              0.0              0.0              0.0              0.0   \n",
       "3  ...              0.0              0.0              0.0              0.0   \n",
       "4  ...              0.0              0.0              0.0              0.0   \n",
       "\n",
       "   x_Right_hand_18  y_Right_hand_18  x_Right_hand_19  y_Right_hand_19  \\\n",
       "0              0.0              0.0              0.0              0.0   \n",
       "1              0.0              0.0              0.0              0.0   \n",
       "2              0.0              0.0              0.0              0.0   \n",
       "3              0.0              0.0              0.0              0.0   \n",
       "4              0.0              0.0              0.0              0.0   \n",
       "\n",
       "   x_Right_hand_20  y_Right_hand_20  \n",
       "0              0.0              0.0  \n",
       "1              0.0              0.0  \n",
       "2              0.0              0.0  \n",
       "3              0.0              0.0  \n",
       "4              0.0              0.0  \n",
       "\n",
       "[5 rows x 86 columns]"
      ]
     },
     "execution_count": 11,
     "metadata": {},
     "output_type": "execute_result"
    }
   ],
   "source": [
    "df.head()"
   ]
  },
  {
   "cell_type": "code",
   "execution_count": 12,
   "metadata": {},
   "outputs": [
    {
     "name": "stdout",
     "output_type": "stream",
     "text": [
      "5085\n",
      "True\n",
      "True\n"
     ]
    }
   ],
   "source": [
    "print(len(df))\n",
    "print(len(df_test) == len(test_data))\n",
    "print(len(df_train) == len(train_data))"
   ]
  },
  {
   "cell_type": "markdown",
   "metadata": {},
   "source": [
    "# Modelo"
   ]
  },
  {
   "cell_type": "code",
   "execution_count": 13,
   "metadata": {},
   "outputs": [
    {
     "data": {
      "image/png": "[encoded data removed]",
      "text/plain": [
       "<Figure size 640x480 with 1 Axes>"
      ]
     },
     "metadata": {},
     "output_type": "display_data"
    }
   ],
   "source": [
    "# Compute the lengths of the video sequences\n",
    "video_lengths = df.groupby('sequence_id').size()\n",
    "max_seq_length = video_lengths.max()\n",
    "# max_seq_length = 30\n",
    "# Plot the histogram\n",
    "plt.hist(video_lengths, bins=30)  # Adjust the number of bins as needed\n",
    "plt.xlabel('Video Length')\n",
    "plt.ylabel('Frequency')\n",
    "plt.title('Histogram of Video Lengths')\n",
    "plt.show()"
   ]
  },
  {
   "cell_type": "code",
   "execution_count": 14,
   "metadata": {},
   "outputs": [
    {
     "data": {
      "text/plain": [
       "30"
      ]
     },
     "execution_count": 14,
     "metadata": {},
     "output_type": "execute_result"
    }
   ],
   "source": [
    "video_lengths.max()"
   ]
  },
  {
   "cell_type": "code",
   "execution_count": 15,
   "metadata": {},
   "outputs": [],
   "source": [
    "from sklearn.preprocessing import OneHotEncoder\n",
    "from sklearn.preprocessing import LabelEncoder\n",
    "# Create a one-hot encoder\n",
    "label_encoder = LabelEncoder()"
   ]
  },
  {
   "cell_type": "code",
   "execution_count": 16,
   "metadata": {},
   "outputs": [],
   "source": [
    "def padding_videos(df):\n",
    "    # Create a new DataFrame to store the filled rows\n",
    "    filled_df = pd.DataFrame()\n",
    "    target = []\n",
    "\n",
    "\n",
    "    # Iterate over each group and fill remaining rows with zero\n",
    "    for _, group in df.groupby('sequence_id'):\n",
    "        remaining_rows = max_seq_length - len(group)\n",
    "        zeros_df = pd.DataFrame([[0] * len(group.columns)] * remaining_rows, columns=group.columns)\n",
    "        zeros_df['sequence_id'] = group['sequence_id'].unique()[0]\n",
    "        zeros_df['target'] = group['target'].unique()[0]\n",
    "        group = pd.concat([group, zeros_df])\n",
    "    \n",
    "        # filled_df = filled_df.append(group)\n",
    "        filled_df = pd.concat([filled_df, group])\n",
    "        target.append(group[\"target\"].unique()[0])\n",
    "        \n",
    "    filled_df.reset_index(drop=True, inplace=True)\n",
    "    filled_df = filled_df.fillna(0)\n",
    "    return filled_df, target\n",
    "\n",
    "def padding_labels(target):\n",
    "    integer_encoded = label_encoder.fit_transform(target)\n",
    "    integer_encoded = integer_encoded.reshape(-1, 1)\n",
    "\n",
    "    # Encode the word \"Hello\"\n",
    "    onehot_encoder = OneHotEncoder(sparse=False)  # sparse=False to get a numpy array as output\n",
    "    onehot_encoded = onehot_encoder.fit_transform(integer_encoded)\n",
    "    return onehot_encoded"
   ]
  },
  {
   "cell_type": "code",
   "execution_count": 17,
   "metadata": {},
   "outputs": [
    {
     "name": "stderr",
     "output_type": "stream",
     "text": [
      "/Users/andreaamaya/Library/Python/3.9/lib/python/site-packages/sklearn/preprocessing/_encoders.py:972: FutureWarning: `sparse` was renamed to `sparse_output` in version 1.2 and will be removed in 1.4. `sparse_output` is ignored unless you leave `sparse` to its default value.\n",
      "  warnings.warn(\n"
     ]
    }
   ],
   "source": [
    "X_train, target = padding_videos(df_train)\n",
    "y_train = padding_labels(target)"
   ]
  },
  {
   "cell_type": "code",
   "execution_count": 18,
   "metadata": {},
   "outputs": [
    {
     "name": "stdout",
     "output_type": "stream",
     "text": [
      "6930 231\n"
     ]
    }
   ],
   "source": [
    "\n",
    "del X_train[\"sequence_id\"] \n",
    "del X_train[\"target\"] \n",
    "\n",
    "print(len(X_train), len(y_train))"
   ]
  },
  {
   "cell_type": "code",
   "execution_count": 19,
   "metadata": {},
   "outputs": [
    {
     "name": "stdout",
     "output_type": "stream",
     "text": [
      "570 19\n"
     ]
    },
    {
     "name": "stderr",
     "output_type": "stream",
     "text": [
      "/Users/andreaamaya/Library/Python/3.9/lib/python/site-packages/sklearn/preprocessing/_encoders.py:972: FutureWarning: `sparse` was renamed to `sparse_output` in version 1.2 and will be removed in 1.4. `sparse_output` is ignored unless you leave `sparse` to its default value.\n",
      "  warnings.warn(\n"
     ]
    }
   ],
   "source": [
    "X_test, target = padding_videos(df_test)\n",
    "y_test = padding_labels(target)\n",
    "del X_test[\"sequence_id\"] \n",
    "del X_test[\"target\"] \n",
    "\n",
    "print(len(X_test), len(y_test))"
   ]
  },
  {
   "cell_type": "code",
   "execution_count": 20,
   "metadata": {},
   "outputs": [
    {
     "data": {
      "text/plain": [
       "False"
      ]
     },
     "execution_count": 20,
     "metadata": {},
     "output_type": "execute_result"
    }
   ],
   "source": [
    "len(y_train) + len(y_test) == len(df[\"sequence_id\"].unique())"
   ]
  },
  {
   "cell_type": "code",
   "execution_count": 21,
   "metadata": {},
   "outputs": [],
   "source": [
    "def flat_X(X):\n",
    "    # Define the number of rows to be flattened\n",
    "    rows_to_flatten = max_seq_length\n",
    "\n",
    "    data_array = X.to_numpy()\n",
    "\n",
    "    # Get the number of resulting rows in the output array\n",
    "    resulting_rows = data_array.shape[0] // rows_to_flatten\n",
    "\n",
    "    # Reshape the array to have (resulting_rows, rows_to_flatten, 80) shape\n",
    "    reshaped_array = data_array[:resulting_rows * rows_to_flatten].reshape(resulting_rows, rows_to_flatten, -1)\n",
    "\n",
    "    # Flatten the reshaped array along the second axis (axis=1) to get (resulting_rows, 13600) shape\n",
    "    flattened_array = reshaped_array.reshape(resulting_rows, -1)\n",
    "\n",
    "    return flattened_array"
   ]
  },
  {
   "cell_type": "code",
   "execution_count": 22,
   "metadata": {},
   "outputs": [],
   "source": [
    "X_test_flat = flat_X(X_test)"
   ]
  },
  {
   "cell_type": "code",
   "execution_count": 23,
   "metadata": {},
   "outputs": [],
   "source": [
    "num_samples = int(len(X_test)/max_seq_length)\n",
    "num_features = len(get_needed_cols())\n",
    "num_classes = len(y_test[1])\n",
    "\n",
    "X_test = X_test.values.reshape(num_samples, max_seq_length, num_features)"
   ]
  },
  {
   "cell_type": "code",
   "execution_count": 24,
   "metadata": {},
   "outputs": [
    {
     "data": {
      "text/plain": [
       "6930"
      ]
     },
     "execution_count": 24,
     "metadata": {},
     "output_type": "execute_result"
    }
   ],
   "source": [
    "len(X_train)"
   ]
  },
  {
   "cell_type": "code",
   "execution_count": 25,
   "metadata": {},
   "outputs": [
    {
     "data": {
      "text/plain": [
       "(231, 2520)"
      ]
     },
     "execution_count": 25,
     "metadata": {},
     "output_type": "execute_result"
    }
   ],
   "source": [
    "X_train_flat = flat_X(X_train)\n",
    "X_train_flat.shape"
   ]
  },
  {
   "cell_type": "code",
   "execution_count": 26,
   "metadata": {},
   "outputs": [],
   "source": [
    "num_samples_train = int(len(X_train)/max_seq_length)\n",
    "num_features_train = len(get_needed_cols())\n",
    "num_classes_train = len(y_train[1])\n",
    "\n",
    "X_train = X_train.values.reshape(num_samples_train, max_seq_length, num_features_train)"
   ]
  },
  {
   "cell_type": "code",
   "execution_count": 27,
   "metadata": {},
   "outputs": [
    {
     "name": "stdout",
     "output_type": "stream",
     "text": [
      "Train: (231, 30, 84) (231, 12)\n",
      "Test: (19, 30, 84) (19, 12)\n"
     ]
    }
   ],
   "source": [
    "print('Train:', X_train.shape, y_train.shape)\n",
    "print('Test:', X_test.shape, y_test.shape)"
   ]
  },
  {
   "cell_type": "markdown",
   "metadata": {},
   "source": [
    "# Modelo\n",
    "La entrada son las coordenadas de las manos. Cada video cuenta con n cantidad de filas, 84 columnas (21 columnas por cada coordenada y por ambas manos).\n",
    "La salida es la frase. La frase se representa por un entero que da el one hot encoder.\n",
    "\n",
    "Se usa convoluciones para resaltar las caracteristicas en la entrada. Debido a que la entrada son coordenadas normalizadas de un video, se supone que funciona igual que si la entrada fuera una imagen. Estas redes extraen caracteristicas de forma automatica para clasificar objetos luego. Al buscar patrones, se espera que pueda predecir un video que ya ha sido entrenado previamente.\n",
    "\n",
    "Se reduce el tamaño de la entrada haciendo uso de max pooling y flatten.\n",
    "\n",
    "Se hace uso de Dense para conectar entradas con salidas.\n",
    "\n",
    "Se hace uso de Dropout para evitar el sobreajuste.\n",
    "\n",
    "Relu elimina negativos. \n",
    "Sigmoid nos ayuda a obtener la probabilidad de que un ejemplo pertenezca a la clase positiva.\n",
    "Softmax hace clasificacion multiclase (en nuestro caso las palabras a predecir)."
   ]
  },
  {
   "cell_type": "code",
   "execution_count": 28,
   "metadata": {},
   "outputs": [],
   "source": [
    "from tensorflow.keras.models import Sequential\n",
    "from tensorflow.keras.layers import LSTM, Dense\n",
    "from tensorflow.keras.callbacks import TensorBoard"
   ]
  },
  {
   "cell_type": "code",
   "execution_count": 29,
   "metadata": {},
   "outputs": [],
   "source": [
    "cnn_model = Sequential()\n",
    "cnn_model.add(LSTM(64, return_sequences=True, activation='relu', input_shape=(max_seq_length, num_features_train)))\n",
    "cnn_model.add(LSTM(128, return_sequences=True, activation='relu'))\n",
    "cnn_model.add(LSTM(64, return_sequences=False, activation='relu'))\n",
    "cnn_model.add(Dense(64, activation='relu'))\n",
    "cnn_model.add(Dense(32, activation='relu'))\n",
    "cnn_model.add(Dense(num_classes_train, activation='softmax'))"
   ]
  },
  {
   "cell_type": "code",
   "execution_count": 30,
   "metadata": {},
   "outputs": [
    {
     "name": "stdout",
     "output_type": "stream",
     "text": [
      "Epoch 1/60\n",
      "29/29 [==============================] - 2s 16ms/step - loss: 2.4674 - accuracy: 0.1082\n",
      "Epoch 2/60\n",
      "29/29 [==============================] - 0s 16ms/step - loss: 2.4938 - accuracy: 0.1429\n",
      "Epoch 3/60\n",
      "29/29 [==============================] - 0s 16ms/step - loss: 2.4845 - accuracy: 0.1299\n",
      "Epoch 4/60\n",
      "29/29 [==============================] - 1s 19ms/step - loss: 2.3848 - accuracy: 0.1861\n",
      "Epoch 5/60\n",
      "29/29 [==============================] - 1s 19ms/step - loss: 2.1421 - accuracy: 0.1688\n",
      "Epoch 6/60\n",
      "29/29 [==============================] - 1s 19ms/step - loss: 2.0638 - accuracy: 0.1775\n",
      "Epoch 7/60\n",
      "29/29 [==============================] - 1s 19ms/step - loss: 2.0705 - accuracy: 0.2251\n",
      "Epoch 8/60\n",
      "29/29 [==============================] - 1s 19ms/step - loss: 2.0102 - accuracy: 0.2078\n",
      "Epoch 9/60\n",
      "29/29 [==============================] - 1s 19ms/step - loss: 2.0863 - accuracy: 0.2035\n",
      "Epoch 10/60\n",
      "29/29 [==============================] - 1s 19ms/step - loss: 2.0075 - accuracy: 0.2511\n",
      "Epoch 11/60\n",
      "29/29 [==============================] - 1s 19ms/step - loss: 1.9461 - accuracy: 0.2597\n",
      "Epoch 12/60\n",
      "29/29 [==============================] - 1s 19ms/step - loss: 1.9920 - accuracy: 0.2727\n",
      "Epoch 13/60\n",
      "29/29 [==============================] - 1s 19ms/step - loss: 1.9821 - accuracy: 0.2597\n",
      "Epoch 14/60\n",
      "29/29 [==============================] - 1s 19ms/step - loss: 1.9067 - accuracy: 0.2814\n",
      "Epoch 15/60\n",
      "29/29 [==============================] - 1s 19ms/step - loss: 1.9445 - accuracy: 0.2771\n",
      "Epoch 16/60\n",
      "29/29 [==============================] - 1s 19ms/step - loss: 1.9608 - accuracy: 0.2381\n",
      "Epoch 17/60\n",
      "29/29 [==============================] - 1s 19ms/step - loss: 1.9749 - accuracy: 0.2597\n",
      "Epoch 18/60\n",
      "29/29 [==============================] - 1s 19ms/step - loss: 1.8813 - accuracy: 0.2554\n",
      "Epoch 19/60\n",
      "29/29 [==============================] - 1s 19ms/step - loss: 1.8123 - accuracy: 0.2900\n",
      "Epoch 20/60\n",
      "29/29 [==============================] - 1s 19ms/step - loss: 1.8153 - accuracy: 0.3074\n",
      "Epoch 21/60\n",
      "29/29 [==============================] - 1s 19ms/step - loss: 1.7971 - accuracy: 0.3074\n",
      "Epoch 22/60\n",
      "29/29 [==============================] - 1s 19ms/step - loss: 1.8075 - accuracy: 0.3030\n",
      "Epoch 23/60\n",
      "29/29 [==============================] - 1s 19ms/step - loss: 1.7766 - accuracy: 0.3463\n",
      "Epoch 24/60\n",
      "29/29 [==============================] - 1s 19ms/step - loss: 1.7978 - accuracy: 0.3203\n",
      "Epoch 25/60\n",
      "29/29 [==============================] - 1s 19ms/step - loss: 1.8146 - accuracy: 0.3160\n",
      "Epoch 26/60\n",
      "29/29 [==============================] - 1s 19ms/step - loss: 1.7999 - accuracy: 0.3333\n",
      "Epoch 27/60\n",
      "29/29 [==============================] - 1s 19ms/step - loss: 1.7218 - accuracy: 0.3420\n",
      "Epoch 28/60\n",
      "29/29 [==============================] - 1s 19ms/step - loss: 1.7043 - accuracy: 0.3463\n",
      "Epoch 29/60\n",
      "29/29 [==============================] - 1s 19ms/step - loss: 1.6996 - accuracy: 0.3160\n",
      "Epoch 30/60\n",
      "29/29 [==============================] - 1s 19ms/step - loss: 1.7224 - accuracy: 0.3247\n",
      "Epoch 31/60\n",
      "29/29 [==============================] - 1s 19ms/step - loss: 1.7269 - accuracy: 0.3290\n",
      "Epoch 32/60\n",
      "29/29 [==============================] - 1s 19ms/step - loss: 1.7625 - accuracy: 0.3420\n",
      "Epoch 33/60\n",
      "29/29 [==============================] - 1s 19ms/step - loss: 1.7672 - accuracy: 0.3160\n",
      "Epoch 34/60\n",
      "29/29 [==============================] - 1s 19ms/step - loss: 1.7587 - accuracy: 0.3160\n",
      "Epoch 35/60\n",
      "29/29 [==============================] - 1s 19ms/step - loss: 1.6860 - accuracy: 0.3506\n",
      "Epoch 36/60\n",
      "29/29 [==============================] - 1s 19ms/step - loss: 1.6729 - accuracy: 0.3377\n",
      "Epoch 37/60\n",
      "29/29 [==============================] - 1s 19ms/step - loss: 1.6412 - accuracy: 0.3420\n",
      "Epoch 38/60\n",
      "29/29 [==============================] - 1s 19ms/step - loss: 1.7103 - accuracy: 0.3550\n",
      "Epoch 39/60\n",
      "29/29 [==============================] - 1s 19ms/step - loss: 1.7048 - accuracy: 0.3377\n",
      "Epoch 40/60\n",
      "29/29 [==============================] - 1s 19ms/step - loss: 1.6865 - accuracy: 0.3333\n",
      "Epoch 41/60\n",
      "29/29 [==============================] - 1s 19ms/step - loss: 1.6562 - accuracy: 0.3550\n",
      "Epoch 42/60\n",
      "29/29 [==============================] - 1s 19ms/step - loss: 1.5725 - accuracy: 0.3983\n",
      "Epoch 43/60\n",
      "29/29 [==============================] - 1s 19ms/step - loss: 1.7731 - accuracy: 0.3420\n",
      "Epoch 44/60\n",
      "29/29 [==============================] - 1s 19ms/step - loss: 1.6479 - accuracy: 0.4113\n",
      "Epoch 45/60\n",
      "29/29 [==============================] - 1s 19ms/step - loss: 1.6186 - accuracy: 0.3983\n",
      "Epoch 46/60\n",
      "29/29 [==============================] - 1s 19ms/step - loss: 1.6171 - accuracy: 0.3983\n",
      "Epoch 47/60\n",
      "29/29 [==============================] - 1s 19ms/step - loss: 1.6371 - accuracy: 0.3853\n",
      "Epoch 48/60\n",
      "29/29 [==============================] - 1s 19ms/step - loss: 1.5599 - accuracy: 0.4069\n",
      "Epoch 49/60\n",
      "29/29 [==============================] - 1s 19ms/step - loss: 1.5304 - accuracy: 0.3983\n",
      "Epoch 50/60\n",
      "29/29 [==============================] - 1s 19ms/step - loss: 1.6220 - accuracy: 0.3680\n",
      "Epoch 51/60\n",
      "29/29 [==============================] - 1s 19ms/step - loss: 1.5100 - accuracy: 0.4156\n",
      "Epoch 52/60\n",
      "29/29 [==============================] - 1s 19ms/step - loss: 1.5516 - accuracy: 0.3853\n",
      "Epoch 53/60\n",
      "29/29 [==============================] - 1s 20ms/step - loss: 1.4721 - accuracy: 0.4416\n",
      "Epoch 54/60\n",
      "29/29 [==============================] - 1s 19ms/step - loss: 1.7462 - accuracy: 0.4156\n",
      "Epoch 55/60\n",
      "29/29 [==============================] - 1s 19ms/step - loss: 1.8041 - accuracy: 0.3203\n",
      "Epoch 56/60\n",
      "29/29 [==============================] - 1s 19ms/step - loss: 1.6420 - accuracy: 0.3723\n",
      "Epoch 57/60\n",
      "29/29 [==============================] - 1s 19ms/step - loss: 1.5098 - accuracy: 0.4242\n",
      "Epoch 58/60\n",
      "29/29 [==============================] - 1s 19ms/step - loss: 1.6312 - accuracy: 0.3766\n",
      "Epoch 59/60\n",
      "29/29 [==============================] - 1s 19ms/step - loss: 1.5665 - accuracy: 0.4026\n",
      "Epoch 60/60\n",
      "29/29 [==============================] - 1s 19ms/step - loss: 1.4128 - accuracy: 0.4848\n",
      "1/1 [==============================] - 0s 218ms/step\n"
     ]
    }
   ],
   "source": [
    "# Compile the model\n",
    "cnn_model.compile(loss='categorical_crossentropy', optimizer='adam', metrics=['accuracy'])\n",
    "\n",
    "# Train the model\n",
    "history = cnn_model.fit(X_train, y_train, epochs=60, batch_size=8)\n",
    "# Get the predictions from the model\n",
    "y_pred_cnn = cnn_model.predict(X_test)# Find the most likely prediction for each sample\n",
    "\n",
    "most_likely_predictions = np.argmax(y_pred_cnn, axis=1)\n",
    "cnn_test_pred = label_encoder.inverse_transform(most_likely_predictions)"
   ]
  },
  {
   "cell_type": "code",
   "execution_count": 31,
   "metadata": {},
   "outputs": [
    {
     "name": "stdout",
     "output_type": "stream",
     "text": [
      "1/1 [==============================] - 0s 258ms/step - loss: 1.7461 - accuracy: 0.4211\n",
      "Test Accuracy: 0.42105263471603394\n"
     ]
    }
   ],
   "source": [
    "test_loss, test_accuracy = cnn_model.evaluate(X_test, y_test)\n",
    "print(f\"Test Accuracy: {test_accuracy}\")"
   ]
  },
  {
   "cell_type": "code",
   "execution_count": 32,
   "metadata": {},
   "outputs": [],
   "source": [
    "# Inverse one-hot encoding\n",
    "inverse_encoded_data = np.argmax(y_train, axis=1)\n",
    "y_train_tree = label_encoder.inverse_transform(inverse_encoded_data)\n",
    "# Inverse one-hot encoding\n",
    "inverse_encoded_data = np.argmax(y_test, axis=1)\n",
    "y_test_tree = label_encoder.inverse_transform(inverse_encoded_data)"
   ]
  },
  {
   "cell_type": "code",
   "execution_count": 33,
   "metadata": {},
   "outputs": [
    {
     "data": {
      "text/plain": [
       "{'adios': 1.2833333333333334,\n",
       " 'ayuda': 1.0694444444444444,\n",
       " 'entender': 0.9166666666666666,\n",
       " 'familia': 1.0694444444444444,\n",
       " 'gracias': 0.9166666666666666,\n",
       " 'hola': 0.875,\n",
       " 'medico': 0.875,\n",
       " 'necesitar': 0.875,\n",
       " 'no': 1.0694444444444444,\n",
       " 'por favor': 1.1323529411764706,\n",
       " 'querer': 0.9166666666666666,\n",
       " 'si': 1.203125}"
      ]
     },
     "execution_count": 33,
     "metadata": {},
     "output_type": "execute_result"
    }
   ],
   "source": [
    "from sklearn.utils import class_weight\n",
    "class_weights = class_weight.compute_class_weight(\n",
    "                                        class_weight = \"balanced\",\n",
    "                                        classes = np.unique(y_train_tree),\n",
    "                                        y = y_train_tree                                                    \n",
    "                                    )\n",
    "class_weights = dict(zip(np.unique(y_train_tree), class_weights))\n",
    "class_weights"
   ]
  },
  {
   "cell_type": "code",
   "execution_count": 34,
   "metadata": {},
   "outputs": [
    {
     "name": "stdout",
     "output_type": "stream",
     "text": [
      "Accuracy: 0.74\n"
     ]
    }
   ],
   "source": [
    "from sklearn.tree import DecisionTreeClassifier\n",
    "from sklearn.ensemble import AdaBoostClassifier\n",
    "from sklearn.metrics import accuracy_score, classification_report, confusion_matrix\n",
    "from sklearn.model_selection import GridSearchCV\n",
    "\n",
    "\n",
    "# Create an AdaBoost classifier with a base model (e.g., DecisionTreeClassifier)\n",
    "base_model = DecisionTreeClassifier(max_depth=num_classes_train - 1, min_samples_split=4, min_samples_leaf=2, class_weight=class_weights)\n",
    "decision_tree = AdaBoostClassifier(base_model, n_estimators=200, random_state=42)\n",
    "\n",
    "# Fit the ensemble model\n",
    "decision_tree.fit(X_train_flat, y_train_tree)\n",
    "\n",
    "# Make predictions\n",
    "y_pred_tree = decision_tree.predict(X_test_flat)\n",
    "\n",
    "# Calculate the accuracy score on a test dataset\n",
    "accuracy_tree = decision_tree.score(X_test_flat, y_test_tree)\n",
    "\n",
    "# Print the accuracy\n",
    "print(f'Accuracy: {accuracy_tree:.2f}')"
   ]
  },
  {
   "cell_type": "code",
   "execution_count": 35,
   "metadata": {},
   "outputs": [
    {
     "name": "stdout",
     "output_type": "stream",
     "text": [
      "Accuracy: 0.37\n"
     ]
    }
   ],
   "source": [
    "from sklearn.linear_model import LinearRegression\n",
    "from sklearn.ensemble import RandomForestRegressor\n",
    "from sklearn.svm import SVC\n",
    "from sklearn.model_selection import GridSearchCV\n",
    "\n",
    "# Create an SVC classifier\n",
    "svm_classifier = SVC(C=1, kernel=\"linear\", gamma=\"auto\", class_weight=class_weights)\n",
    "\\\n",
    "# Fit the grid search to your training data\n",
    "svm_classifier.fit(X_train_flat, y_train_tree)\n",
    "# Evaluate the model on the test data\n",
    "y_pred_svm = svm_classifier.predict(X_test_flat)\n",
    "\n",
    "# Calculate the accuracy score on a test dataset\n",
    "accuracy_svm = svm_classifier.score(X_test_flat, y_test_tree)\n",
    "\n",
    "# Print the accuracy\n",
    "print(f'Accuracy: {accuracy_svm:.2f}')"
   ]
  },
  {
   "cell_type": "code",
   "execution_count": 36,
   "metadata": {},
   "outputs": [
    {
     "name": "stdout",
     "output_type": "stream",
     "text": [
      "USANDO TREE\n"
     ]
    }
   ],
   "source": [
    "results_to_use = []\n",
    "\n",
    "accuracies = {\n",
    "    \"SVM\": accuracy_svm,\n",
    "    \"TREE\": accuracy_tree,\n",
    "    \"CNN\": test_accuracy\n",
    "}\n",
    "# Find the key with the maximum value\n",
    "max_key = max(accuracies, key=accuracies.get)\n",
    "\n",
    "if (max_key == \"SVM\"):\n",
    "    results_to_use = y_pred_svm\n",
    "elif (max_key == \"TREE\"):\n",
    "    results_to_use = y_pred_tree\n",
    "else:\n",
    "    results_to_use = cnn_test_pred\n",
    "\n",
    "\n",
    "print(\"USANDO\", max_key)"
   ]
  },
  {
   "cell_type": "code",
   "execution_count": 37,
   "metadata": {},
   "outputs": [
    {
     "name": "stdout",
     "output_type": "stream",
     "text": [
      ">>> LOG INCORRECTA: \n",
      "            SVM:  medico\n",
      "            TREE:  medico\n",
      "            CNN:  ayuda\n",
      "            Correcto:  familia\n",
      ">>> LOG INCORRECTA: \n",
      "            SVM:  medico\n",
      "            TREE:  medico\n",
      "            CNN:  querer\n",
      "            Correcto:  querer\n",
      ">>> LOG INCORRECTA: \n",
      "            SVM:  hola\n",
      "            TREE:  hola\n",
      "            CNN:  gracias\n",
      "            Correcto:  adios\n",
      ">>> LOG INCORRECTA: \n",
      "            SVM:  adios\n",
      "            TREE:  adios\n",
      "            CNN:  hola\n",
      "            Correcto:  hola\n",
      ">>> LOG INCORRECTA: \n",
      "            SVM:  gracias\n",
      "            TREE:  gracias\n",
      "            CNN:  gracias\n",
      "            Correcto:  hola\n"
     ]
    }
   ],
   "source": [
    "correct = 0\n",
    "for i in range(len(y_test_tree)):\n",
    "    if (\n",
    "        y_test_tree[i] == results_to_use[i]):\n",
    "        correct += 1\n",
    "        # print(\"Correctamente predicha: \", y_pred[i])\n",
    "    else:\n",
    "        print(\">>> LOG INCORRECTA: \")\n",
    "        print(\"            SVM: \", y_pred_svm[i])\n",
    "        print(\"            TREE: \", y_pred_tree[i])\n",
    "        print(\"            CNN: \", cnn_test_pred[i])\n",
    "        print(\"            Correcto: \", y_test_tree[i])\n"
   ]
  },
  {
   "cell_type": "code",
   "execution_count": 38,
   "metadata": {},
   "outputs": [
    {
     "name": "stdout",
     "output_type": "stream",
     "text": [
      "Correct >>  14\n",
      "Incorrect >>  5\n",
      "Ratio >>  0.7368421052631579\n"
     ]
    }
   ],
   "source": [
    "print(\"Correct >> \", correct)\n",
    "print(\"Incorrect >> \", len(y_test_tree)-correct)\n",
    "print(\"Ratio >> \", str(correct/len(y_test_tree)))"
   ]
  },
  {
   "cell_type": "markdown",
   "metadata": {},
   "source": [
    "# Reutilizando el modelo"
   ]
  },
  {
   "cell_type": "code",
   "execution_count": 73,
   "metadata": {},
   "outputs": [],
   "source": [
    "cant_videos = 3"
   ]
  },
  {
   "cell_type": "code",
   "execution_count": 74,
   "metadata": {},
   "outputs": [
    {
     "data": {
      "text/html": [
       "<div>\n",
       "<style scoped>\n",
       "    .dataframe tbody tr th:only-of-type {\n",
       "        vertical-align: middle;\n",
       "    }\n",
       "\n",
       "    .dataframe tbody tr th {\n",
       "        vertical-align: top;\n",
       "    }\n",
       "\n",
       "    .dataframe thead th {\n",
       "        text-align: right;\n",
       "    }\n",
       "</style>\n",
       "<table border=\"1\" class=\"dataframe\">\n",
       "  <thead>\n",
       "    <tr style=\"text-align: right;\">\n",
       "      <th></th>\n",
       "      <th>sequence_id</th>\n",
       "      <th>target</th>\n",
       "      <th>file</th>\n",
       "      <th>x_Left_hand_0</th>\n",
       "      <th>y_Left_hand_0</th>\n",
       "      <th>x_Left_hand_1</th>\n",
       "      <th>y_Left_hand_1</th>\n",
       "      <th>x_Left_hand_2</th>\n",
       "      <th>y_Left_hand_2</th>\n",
       "      <th>x_Left_hand_3</th>\n",
       "      <th>...</th>\n",
       "      <th>x_Right_hand_16</th>\n",
       "      <th>y_Right_hand_16</th>\n",
       "      <th>x_Right_hand_17</th>\n",
       "      <th>y_Right_hand_17</th>\n",
       "      <th>x_Right_hand_18</th>\n",
       "      <th>y_Right_hand_18</th>\n",
       "      <th>x_Right_hand_19</th>\n",
       "      <th>y_Right_hand_19</th>\n",
       "      <th>x_Right_hand_20</th>\n",
       "      <th>y_Right_hand_20</th>\n",
       "    </tr>\n",
       "  </thead>\n",
       "  <tbody>\n",
       "    <tr>\n",
       "      <th>0</th>\n",
       "      <td>10</td>\n",
       "      <td>1</td>\n",
       "      <td>/Users/andreaamaya/Trabajo/megaproyecto_model/...</td>\n",
       "      <td>0.997978</td>\n",
       "      <td>0.990872</td>\n",
       "      <td>1.000000</td>\n",
       "      <td>0.964105</td>\n",
       "      <td>0.961854</td>\n",
       "      <td>0.937798</td>\n",
       "      <td>0.910552</td>\n",
       "      <td>...</td>\n",
       "      <td>0.752052</td>\n",
       "      <td>0.998761</td>\n",
       "      <td>0.357431</td>\n",
       "      <td>0.936557</td>\n",
       "      <td>0.456564</td>\n",
       "      <td>0.963479</td>\n",
       "      <td>0.528129</td>\n",
       "      <td>0.982331</td>\n",
       "      <td>0.581658</td>\n",
       "      <td>1.000000</td>\n",
       "    </tr>\n",
       "    <tr>\n",
       "      <th>1</th>\n",
       "      <td>10</td>\n",
       "      <td>1</td>\n",
       "      <td>/Users/andreaamaya/Trabajo/megaproyecto_model/...</td>\n",
       "      <td>0.196888</td>\n",
       "      <td>0.922653</td>\n",
       "      <td>0.370620</td>\n",
       "      <td>0.888943</td>\n",
       "      <td>0.564521</td>\n",
       "      <td>0.893780</td>\n",
       "      <td>0.678303</td>\n",
       "      <td>...</td>\n",
       "      <td>0.763794</td>\n",
       "      <td>0.877362</td>\n",
       "      <td>0.787851</td>\n",
       "      <td>0.994025</td>\n",
       "      <td>0.752125</td>\n",
       "      <td>0.951980</td>\n",
       "      <td>0.746636</td>\n",
       "      <td>0.921804</td>\n",
       "      <td>0.745562</td>\n",
       "      <td>0.899534</td>\n",
       "    </tr>\n",
       "    <tr>\n",
       "      <th>2</th>\n",
       "      <td>10</td>\n",
       "      <td>1</td>\n",
       "      <td>/Users/andreaamaya/Trabajo/megaproyecto_model/...</td>\n",
       "      <td>0.977258</td>\n",
       "      <td>0.955845</td>\n",
       "      <td>0.913512</td>\n",
       "      <td>0.939515</td>\n",
       "      <td>0.866071</td>\n",
       "      <td>0.922077</td>\n",
       "      <td>0.845726</td>\n",
       "      <td>...</td>\n",
       "      <td>0.687400</td>\n",
       "      <td>0.945477</td>\n",
       "      <td>0.613591</td>\n",
       "      <td>0.934742</td>\n",
       "      <td>0.696290</td>\n",
       "      <td>0.976215</td>\n",
       "      <td>0.659146</td>\n",
       "      <td>0.969925</td>\n",
       "      <td>0.624804</td>\n",
       "      <td>0.951577</td>\n",
       "    </tr>\n",
       "    <tr>\n",
       "      <th>3</th>\n",
       "      <td>10</td>\n",
       "      <td>1</td>\n",
       "      <td>/Users/andreaamaya/Trabajo/megaproyecto_model/...</td>\n",
       "      <td>0.913439</td>\n",
       "      <td>0.979055</td>\n",
       "      <td>0.989445</td>\n",
       "      <td>0.947296</td>\n",
       "      <td>0.999634</td>\n",
       "      <td>0.918878</td>\n",
       "      <td>0.953991</td>\n",
       "      <td>...</td>\n",
       "      <td>0.717194</td>\n",
       "      <td>0.888199</td>\n",
       "      <td>0.658020</td>\n",
       "      <td>0.869603</td>\n",
       "      <td>0.700982</td>\n",
       "      <td>0.922814</td>\n",
       "      <td>0.679158</td>\n",
       "      <td>0.908925</td>\n",
       "      <td>0.663280</td>\n",
       "      <td>0.886977</td>\n",
       "    </tr>\n",
       "    <tr>\n",
       "      <th>4</th>\n",
       "      <td>10</td>\n",
       "      <td>1</td>\n",
       "      <td>/Users/andreaamaya/Trabajo/megaproyecto_model/...</td>\n",
       "      <td>0.505698</td>\n",
       "      <td>0.802441</td>\n",
       "      <td>0.623337</td>\n",
       "      <td>0.819523</td>\n",
       "      <td>0.724431</td>\n",
       "      <td>0.866951</td>\n",
       "      <td>0.766957</td>\n",
       "      <td>...</td>\n",
       "      <td>0.733399</td>\n",
       "      <td>0.836653</td>\n",
       "      <td>0.734826</td>\n",
       "      <td>0.973842</td>\n",
       "      <td>0.690113</td>\n",
       "      <td>0.920887</td>\n",
       "      <td>0.695270</td>\n",
       "      <td>0.891187</td>\n",
       "      <td>0.717720</td>\n",
       "      <td>0.870878</td>\n",
       "    </tr>\n",
       "  </tbody>\n",
       "</table>\n",
       "<p>5 rows × 87 columns</p>\n",
       "</div>"
      ],
      "text/plain": [
       "   sequence_id  target                                               file  \\\n",
       "0           10       1  /Users/andreaamaya/Trabajo/megaproyecto_model/...   \n",
       "1           10       1  /Users/andreaamaya/Trabajo/megaproyecto_model/...   \n",
       "2           10       1  /Users/andreaamaya/Trabajo/megaproyecto_model/...   \n",
       "3           10       1  /Users/andreaamaya/Trabajo/megaproyecto_model/...   \n",
       "4           10       1  /Users/andreaamaya/Trabajo/megaproyecto_model/...   \n",
       "\n",
       "   x_Left_hand_0  y_Left_hand_0  x_Left_hand_1  y_Left_hand_1  x_Left_hand_2  \\\n",
       "0       0.997978       0.990872       1.000000       0.964105       0.961854   \n",
       "1       0.196888       0.922653       0.370620       0.888943       0.564521   \n",
       "2       0.977258       0.955845       0.913512       0.939515       0.866071   \n",
       "3       0.913439       0.979055       0.989445       0.947296       0.999634   \n",
       "4       0.505698       0.802441       0.623337       0.819523       0.724431   \n",
       "\n",
       "   y_Left_hand_2  x_Left_hand_3  ...  x_Right_hand_16  y_Right_hand_16  \\\n",
       "0       0.937798       0.910552  ...         0.752052         0.998761   \n",
       "1       0.893780       0.678303  ...         0.763794         0.877362   \n",
       "2       0.922077       0.845726  ...         0.687400         0.945477   \n",
       "3       0.918878       0.953991  ...         0.717194         0.888199   \n",
       "4       0.866951       0.766957  ...         0.733399         0.836653   \n",
       "\n",
       "   x_Right_hand_17  y_Right_hand_17  x_Right_hand_18  y_Right_hand_18  \\\n",
       "0         0.357431         0.936557         0.456564         0.963479   \n",
       "1         0.787851         0.994025         0.752125         0.951980   \n",
       "2         0.613591         0.934742         0.696290         0.976215   \n",
       "3         0.658020         0.869603         0.700982         0.922814   \n",
       "4         0.734826         0.973842         0.690113         0.920887   \n",
       "\n",
       "   x_Right_hand_19  y_Right_hand_19  x_Right_hand_20  y_Right_hand_20  \n",
       "0         0.528129         0.982331         0.581658         1.000000  \n",
       "1         0.746636         0.921804         0.745562         0.899534  \n",
       "2         0.659146         0.969925         0.624804         0.951577  \n",
       "3         0.679158         0.908925         0.663280         0.886977  \n",
       "4         0.695270         0.891187         0.717720         0.870878  \n",
       "\n",
       "[5 rows x 87 columns]"
      ]
     },
     "execution_count": 74,
     "metadata": {},
     "output_type": "execute_result"
    }
   ],
   "source": [
    "load_test_data = pd.read_csv(\"data/data_tests.csv\")\n",
    "load_test_data.head()"
   ]
  },
  {
   "cell_type": "code",
   "execution_count": 75,
   "metadata": {},
   "outputs": [],
   "source": [
    "padded_data, target = padding_videos(load_test_data)\n",
    "del padded_data[\"sequence_id\"] \n",
    "del padded_data[\"target\"] \n",
    "del padded_data[\"file\"] "
   ]
  },
  {
   "cell_type": "code",
   "execution_count": 76,
   "metadata": {},
   "outputs": [],
   "source": [
    "predicted = None\n",
    "if (max_key == \"SVM\"):\n",
    "    X_val = flat_X(padded_data)\n",
    "    predicted = svm_classifier.predict(X_val)\n",
    "elif (max_key == \"TREE\"):\n",
    "    X_val = flat_X(padded_data)\n",
    "    predicted = decision_tree.predict(X_val)\n",
    "else:\n",
    "    X_val = padded_data.values.reshape(cant_videos, max_seq_length, num_features_train)\n",
    "    predicted = cnn_model.predict(X_val)"
   ]
  },
  {
   "cell_type": "code",
   "execution_count": 77,
   "metadata": {},
   "outputs": [
    {
     "data": {
      "text/plain": [
       "[1, 2, 3]"
      ]
     },
     "execution_count": 77,
     "metadata": {},
     "output_type": "execute_result"
    }
   ],
   "source": [
    "target"
   ]
  },
  {
   "cell_type": "code",
   "execution_count": 78,
   "metadata": {},
   "outputs": [
    {
     "data": {
      "text/plain": [
       "array(['familia', 'ayuda', 'gracias'], dtype='<U9')"
      ]
     },
     "execution_count": 78,
     "metadata": {},
     "output_type": "execute_result"
    }
   ],
   "source": [
    "predicted"
   ]
  }
 ],
 "metadata": {
  "kernelspec": {
   "display_name": "Python 3.9.6 64-bit",
   "language": "python",
   "name": "python3"
  },
  "language_info": {
   "codemirror_mode": {
    "name": "ipython",
    "version": 3
   },
   "file_extension": ".py",
   "mimetype": "text/x-python",
   "name": "python",
   "nbconvert_exporter": "python",
   "pygments_lexer": "ipython3",
   "version": "3.9.6"
  },
  "orig_nbformat": 4,
  "vscode": {
   "interpreter": {
    "hash": "31f2aee4e71d21fbe5cf8b01ff0e069b9275f58929596ceb00d14d90e3e16cd6"
   }
  }
 },
 "nbformat": 4,
 "nbformat_minor": 2
}
