{
 "cells": [
  {
   "cell_type": "code",
   "execution_count": 1,
   "metadata": {},
   "outputs": [],
   "source": [
    "import pandas as pd\n",
    "import numpy as np\n",
    "\n",
    "from tensorflow.keras.models import Sequential\n",
    "from keras.layers import Dense, Flatten, Convolution2D, MaxPooling2D, Dropout\n",
    "\n",
    "import json\n",
    "import matplotlib.pyplot as plt"
   ]
  },
  {
   "cell_type": "code",
   "execution_count": 2,
   "metadata": {},
   "outputs": [],
   "source": [
    "import random\n",
    "\n",
    "random.seed(10)"
   ]
  },
  {
   "attachments": {},
   "cell_type": "markdown",
   "metadata": {},
   "source": [
    "# Carga de datos"
   ]
  },
  {
   "cell_type": "code",
   "execution_count": 3,
   "metadata": {},
   "outputs": [],
   "source": [
    "train_data = pd.read_csv(\"data/train.csv\")\n",
    "test_data = pd.read_csv(\"data/validation.csv\")"
   ]
  },
  {
   "cell_type": "code",
   "execution_count": 4,
   "metadata": {},
   "outputs": [
    {
     "data": {
      "text/html": [
       "<div>\n",
       "<style scoped>\n",
       "    .dataframe tbody tr th:only-of-type {\n",
       "        vertical-align: middle;\n",
       "    }\n",
       "\n",
       "    .dataframe tbody tr th {\n",
       "        vertical-align: top;\n",
       "    }\n",
       "\n",
       "    .dataframe thead th {\n",
       "        text-align: right;\n",
       "    }\n",
       "</style>\n",
       "<table border=\"1\" class=\"dataframe\">\n",
       "  <thead>\n",
       "    <tr style=\"text-align: right;\">\n",
       "      <th></th>\n",
       "      <th>sequence_id</th>\n",
       "      <th>target</th>\n",
       "      <th>file</th>\n",
       "    </tr>\n",
       "  </thead>\n",
       "  <tbody>\n",
       "    <tr>\n",
       "      <th>0</th>\n",
       "      <td>1</td>\n",
       "      <td>adios</td>\n",
       "      <td>/Users/andreaamaya/Trabajo/megaproyecto_model/...</td>\n",
       "    </tr>\n",
       "    <tr>\n",
       "      <th>1</th>\n",
       "      <td>1</td>\n",
       "      <td>adios</td>\n",
       "      <td>/Users/andreaamaya/Trabajo/megaproyecto_model/...</td>\n",
       "    </tr>\n",
       "    <tr>\n",
       "      <th>2</th>\n",
       "      <td>1</td>\n",
       "      <td>adios</td>\n",
       "      <td>/Users/andreaamaya/Trabajo/megaproyecto_model/...</td>\n",
       "    </tr>\n",
       "    <tr>\n",
       "      <th>3</th>\n",
       "      <td>1</td>\n",
       "      <td>adios</td>\n",
       "      <td>/Users/andreaamaya/Trabajo/megaproyecto_model/...</td>\n",
       "    </tr>\n",
       "    <tr>\n",
       "      <th>4</th>\n",
       "      <td>1</td>\n",
       "      <td>adios</td>\n",
       "      <td>/Users/andreaamaya/Trabajo/megaproyecto_model/...</td>\n",
       "    </tr>\n",
       "  </tbody>\n",
       "</table>\n",
       "</div>"
      ],
      "text/plain": [
       "   sequence_id target                                               file\n",
       "0            1  adios  /Users/andreaamaya/Trabajo/megaproyecto_model/...\n",
       "1            1  adios  /Users/andreaamaya/Trabajo/megaproyecto_model/...\n",
       "2            1  adios  /Users/andreaamaya/Trabajo/megaproyecto_model/...\n",
       "3            1  adios  /Users/andreaamaya/Trabajo/megaproyecto_model/...\n",
       "4            1  adios  /Users/andreaamaya/Trabajo/megaproyecto_model/..."
      ]
     },
     "execution_count": 4,
     "metadata": {},
     "output_type": "execute_result"
    }
   ],
   "source": [
    "train_data.head()"
   ]
  },
  {
   "attachments": {},
   "cell_type": "markdown",
   "metadata": {},
   "source": [
    "# Analisis Exploratorio"
   ]
  },
  {
   "cell_type": "code",
   "execution_count": 5,
   "metadata": {},
   "outputs": [
    {
     "name": "stdout",
     "output_type": "stream",
     "text": [
      "--------------------Train data--------------------\n",
      "Cantidad de filas : 4694\n",
      "Frases unicas : ['adios', 'ayuda', 'entender', 'familia', 'gracias', 'hola', 'medico', 'necesitar', 'no', 'por favor', 'querer', 'si']\n"
     ]
    }
   ],
   "source": [
    "print(\"--------------------Train data--------------------\")\n",
    "print(f\"Cantidad de filas : {train_data.shape[0]}\")\n",
    "train_letters = list(train_data.target.unique())\n",
    "train_letters.sort()\n",
    "print(f\"Frases unicas : {train_letters}\")"
   ]
  },
  {
   "cell_type": "code",
   "execution_count": 6,
   "metadata": {},
   "outputs": [
    {
     "name": "stdout",
     "output_type": "stream",
     "text": [
      "--------------------Test data--------------------\n",
      "Cantidad de filas : 341\n",
      "Frases unicas : ['adios', 'ayuda', 'entender', 'familia', 'gracias', 'hola', 'medico', 'necesitar', 'no', 'por favor', 'querer', 'si']\n"
     ]
    }
   ],
   "source": [
    "print(\"--------------------Test data--------------------\")\n",
    "print(f\"Cantidad de filas : {test_data.shape[0]}\")\n",
    "test_letters = list(test_data.target.unique())\n",
    "test_letters.sort()\n",
    "print(f\"Frases unicas : {test_letters}\")"
   ]
  },
  {
   "cell_type": "code",
   "execution_count": 7,
   "metadata": {},
   "outputs": [],
   "source": [
    "if (test_letters != train_letters):\n",
    "    raise ValueError(\"Error between target and train\")"
   ]
  },
  {
   "cell_type": "code",
   "execution_count": 8,
   "metadata": {},
   "outputs": [
    {
     "data": {
      "text/html": [
       "<div>\n",
       "<style scoped>\n",
       "    .dataframe tbody tr th:only-of-type {\n",
       "        vertical-align: middle;\n",
       "    }\n",
       "\n",
       "    .dataframe tbody tr th {\n",
       "        vertical-align: top;\n",
       "    }\n",
       "\n",
       "    .dataframe thead th {\n",
       "        text-align: right;\n",
       "    }\n",
       "</style>\n",
       "<table border=\"1\" class=\"dataframe\">\n",
       "  <thead>\n",
       "    <tr style=\"text-align: right;\">\n",
       "      <th></th>\n",
       "      <th>sequence_id</th>\n",
       "    </tr>\n",
       "  </thead>\n",
       "  <tbody>\n",
       "    <tr>\n",
       "      <th>count</th>\n",
       "      <td>4694.000000</td>\n",
       "    </tr>\n",
       "    <tr>\n",
       "      <th>mean</th>\n",
       "      <td>121.512569</td>\n",
       "    </tr>\n",
       "    <tr>\n",
       "      <th>std</th>\n",
       "      <td>67.772999</td>\n",
       "    </tr>\n",
       "    <tr>\n",
       "      <th>min</th>\n",
       "      <td>1.000000</td>\n",
       "    </tr>\n",
       "    <tr>\n",
       "      <th>25%</th>\n",
       "      <td>63.250000</td>\n",
       "    </tr>\n",
       "    <tr>\n",
       "      <th>50%</th>\n",
       "      <td>123.000000</td>\n",
       "    </tr>\n",
       "    <tr>\n",
       "      <th>75%</th>\n",
       "      <td>181.000000</td>\n",
       "    </tr>\n",
       "    <tr>\n",
       "      <th>max</th>\n",
       "      <td>234.000000</td>\n",
       "    </tr>\n",
       "  </tbody>\n",
       "</table>\n",
       "</div>"
      ],
      "text/plain": [
       "       sequence_id\n",
       "count  4694.000000\n",
       "mean    121.512569\n",
       "std      67.772999\n",
       "min       1.000000\n",
       "25%      63.250000\n",
       "50%     123.000000\n",
       "75%     181.000000\n",
       "max     234.000000"
      ]
     },
     "execution_count": 8,
     "metadata": {},
     "output_type": "execute_result"
    }
   ],
   "source": [
    "train_data.describe()"
   ]
  },
  {
   "attachments": {},
   "cell_type": "markdown",
   "metadata": {},
   "source": [
    "# Preprocesamiento del Modelo"
   ]
  },
  {
   "attachments": {},
   "cell_type": "markdown",
   "metadata": {},
   "source": [
    "Solo se obtienen 20 indices de las coordenadas x y y, ya que son las unicas que han sido altamente entrenadas del modelo mediapipe de Google"
   ]
  },
  {
   "cell_type": "code",
   "execution_count": 9,
   "metadata": {},
   "outputs": [],
   "source": [
    "def get_needed_cols():\n",
    "    cols = []\n",
    "\n",
    "    for i in range(21):\n",
    "        cols.append(f'x_Right_hand_{i}')\n",
    "        cols.append(f'y_Right_hand_{i}')\n",
    "        cols.append(f'x_Left_hand_{i}')\n",
    "        cols.append(f'y_Left_hand_{i}')\n",
    "    \n",
    "    return cols"
   ]
  },
  {
   "cell_type": "code",
   "execution_count": 10,
   "metadata": {},
   "outputs": [],
   "source": [
    "df = pd.read_csv(\"data/data.csv\")\n",
    "df_test = df[df['sequence_id'].isin(test_data['sequence_id'])]\n",
    "df_train = df[df['sequence_id'].isin(train_data['sequence_id'])]"
   ]
  },
  {
   "cell_type": "code",
   "execution_count": 11,
   "metadata": {},
   "outputs": [
    {
     "data": {
      "text/html": [
       "<div>\n",
       "<style scoped>\n",
       "    .dataframe tbody tr th:only-of-type {\n",
       "        vertical-align: middle;\n",
       "    }\n",
       "\n",
       "    .dataframe tbody tr th {\n",
       "        vertical-align: top;\n",
       "    }\n",
       "\n",
       "    .dataframe thead th {\n",
       "        text-align: right;\n",
       "    }\n",
       "</style>\n",
       "<table border=\"1\" class=\"dataframe\">\n",
       "  <thead>\n",
       "    <tr style=\"text-align: right;\">\n",
       "      <th></th>\n",
       "      <th>sequence_id</th>\n",
       "      <th>target</th>\n",
       "      <th>x_Left_hand_0</th>\n",
       "      <th>y_Left_hand_0</th>\n",
       "      <th>x_Left_hand_1</th>\n",
       "      <th>y_Left_hand_1</th>\n",
       "      <th>x_Left_hand_2</th>\n",
       "      <th>y_Left_hand_2</th>\n",
       "      <th>x_Left_hand_3</th>\n",
       "      <th>y_Left_hand_3</th>\n",
       "      <th>...</th>\n",
       "      <th>x_Right_hand_16</th>\n",
       "      <th>y_Right_hand_16</th>\n",
       "      <th>x_Right_hand_17</th>\n",
       "      <th>y_Right_hand_17</th>\n",
       "      <th>x_Right_hand_18</th>\n",
       "      <th>y_Right_hand_18</th>\n",
       "      <th>x_Right_hand_19</th>\n",
       "      <th>y_Right_hand_19</th>\n",
       "      <th>x_Right_hand_20</th>\n",
       "      <th>y_Right_hand_20</th>\n",
       "    </tr>\n",
       "  </thead>\n",
       "  <tbody>\n",
       "    <tr>\n",
       "      <th>0</th>\n",
       "      <td>1</td>\n",
       "      <td>adios</td>\n",
       "      <td>0.827920</td>\n",
       "      <td>1.0</td>\n",
       "      <td>0.934036</td>\n",
       "      <td>0.978228</td>\n",
       "      <td>0.980444</td>\n",
       "      <td>0.942305</td>\n",
       "      <td>0.986786</td>\n",
       "      <td>0.908179</td>\n",
       "      <td>...</td>\n",
       "      <td>0.0</td>\n",
       "      <td>0.0</td>\n",
       "      <td>0.0</td>\n",
       "      <td>0.0</td>\n",
       "      <td>0.0</td>\n",
       "      <td>0.0</td>\n",
       "      <td>0.0</td>\n",
       "      <td>0.0</td>\n",
       "      <td>0.0</td>\n",
       "      <td>0.0</td>\n",
       "    </tr>\n",
       "    <tr>\n",
       "      <th>1</th>\n",
       "      <td>1</td>\n",
       "      <td>adios</td>\n",
       "      <td>0.817225</td>\n",
       "      <td>1.0</td>\n",
       "      <td>0.919262</td>\n",
       "      <td>0.974164</td>\n",
       "      <td>0.969290</td>\n",
       "      <td>0.935011</td>\n",
       "      <td>0.982964</td>\n",
       "      <td>0.902736</td>\n",
       "      <td>...</td>\n",
       "      <td>0.0</td>\n",
       "      <td>0.0</td>\n",
       "      <td>0.0</td>\n",
       "      <td>0.0</td>\n",
       "      <td>0.0</td>\n",
       "      <td>0.0</td>\n",
       "      <td>0.0</td>\n",
       "      <td>0.0</td>\n",
       "      <td>0.0</td>\n",
       "      <td>0.0</td>\n",
       "    </tr>\n",
       "    <tr>\n",
       "      <th>2</th>\n",
       "      <td>1</td>\n",
       "      <td>adios</td>\n",
       "      <td>0.774163</td>\n",
       "      <td>1.0</td>\n",
       "      <td>0.901714</td>\n",
       "      <td>0.977671</td>\n",
       "      <td>0.963947</td>\n",
       "      <td>0.940899</td>\n",
       "      <td>0.977280</td>\n",
       "      <td>0.907681</td>\n",
       "      <td>...</td>\n",
       "      <td>0.0</td>\n",
       "      <td>0.0</td>\n",
       "      <td>0.0</td>\n",
       "      <td>0.0</td>\n",
       "      <td>0.0</td>\n",
       "      <td>0.0</td>\n",
       "      <td>0.0</td>\n",
       "      <td>0.0</td>\n",
       "      <td>0.0</td>\n",
       "      <td>0.0</td>\n",
       "    </tr>\n",
       "    <tr>\n",
       "      <th>3</th>\n",
       "      <td>1</td>\n",
       "      <td>adios</td>\n",
       "      <td>0.800099</td>\n",
       "      <td>1.0</td>\n",
       "      <td>0.922746</td>\n",
       "      <td>0.969956</td>\n",
       "      <td>0.988565</td>\n",
       "      <td>0.930440</td>\n",
       "      <td>1.000000</td>\n",
       "      <td>0.898314</td>\n",
       "      <td>...</td>\n",
       "      <td>0.0</td>\n",
       "      <td>0.0</td>\n",
       "      <td>0.0</td>\n",
       "      <td>0.0</td>\n",
       "      <td>0.0</td>\n",
       "      <td>0.0</td>\n",
       "      <td>0.0</td>\n",
       "      <td>0.0</td>\n",
       "      <td>0.0</td>\n",
       "      <td>0.0</td>\n",
       "    </tr>\n",
       "    <tr>\n",
       "      <th>4</th>\n",
       "      <td>1</td>\n",
       "      <td>adios</td>\n",
       "      <td>0.796019</td>\n",
       "      <td>1.0</td>\n",
       "      <td>0.948179</td>\n",
       "      <td>0.958495</td>\n",
       "      <td>1.000000</td>\n",
       "      <td>0.915316</td>\n",
       "      <td>0.963509</td>\n",
       "      <td>0.883270</td>\n",
       "      <td>...</td>\n",
       "      <td>0.0</td>\n",
       "      <td>0.0</td>\n",
       "      <td>0.0</td>\n",
       "      <td>0.0</td>\n",
       "      <td>0.0</td>\n",
       "      <td>0.0</td>\n",
       "      <td>0.0</td>\n",
       "      <td>0.0</td>\n",
       "      <td>0.0</td>\n",
       "      <td>0.0</td>\n",
       "    </tr>\n",
       "  </tbody>\n",
       "</table>\n",
       "<p>5 rows × 86 columns</p>\n",
       "</div>"
      ],
      "text/plain": [
       "   sequence_id target  x_Left_hand_0  y_Left_hand_0  x_Left_hand_1  \\\n",
       "0            1  adios       0.827920            1.0       0.934036   \n",
       "1            1  adios       0.817225            1.0       0.919262   \n",
       "2            1  adios       0.774163            1.0       0.901714   \n",
       "3            1  adios       0.800099            1.0       0.922746   \n",
       "4            1  adios       0.796019            1.0       0.948179   \n",
       "\n",
       "   y_Left_hand_1  x_Left_hand_2  y_Left_hand_2  x_Left_hand_3  y_Left_hand_3  \\\n",
       "0       0.978228       0.980444       0.942305       0.986786       0.908179   \n",
       "1       0.974164       0.969290       0.935011       0.982964       0.902736   \n",
       "2       0.977671       0.963947       0.940899       0.977280       0.907681   \n",
       "3       0.969956       0.988565       0.930440       1.000000       0.898314   \n",
       "4       0.958495       1.000000       0.915316       0.963509       0.883270   \n",
       "\n",
       "   ...  x_Right_hand_16  y_Right_hand_16  x_Right_hand_17  y_Right_hand_17  \\\n",
       "0  ...              0.0              0.0              0.0              0.0   \n",
       "1  ...              0.0              0.0              0.0              0.0   \n",
       "2  ...              0.0              0.0              0.0              0.0   \n",
       "3  ...              0.0              0.0              0.0              0.0   \n",
       "4  ...              0.0              0.0              0.0              0.0   \n",
       "\n",
       "   x_Right_hand_18  y_Right_hand_18  x_Right_hand_19  y_Right_hand_19  \\\n",
       "0              0.0              0.0              0.0              0.0   \n",
       "1              0.0              0.0              0.0              0.0   \n",
       "2              0.0              0.0              0.0              0.0   \n",
       "3              0.0              0.0              0.0              0.0   \n",
       "4              0.0              0.0              0.0              0.0   \n",
       "\n",
       "   x_Right_hand_20  y_Right_hand_20  \n",
       "0              0.0              0.0  \n",
       "1              0.0              0.0  \n",
       "2              0.0              0.0  \n",
       "3              0.0              0.0  \n",
       "4              0.0              0.0  \n",
       "\n",
       "[5 rows x 86 columns]"
      ]
     },
     "execution_count": 11,
     "metadata": {},
     "output_type": "execute_result"
    }
   ],
   "source": [
    "df.head()"
   ]
  },
  {
   "cell_type": "code",
   "execution_count": 12,
   "metadata": {},
   "outputs": [
    {
     "name": "stdout",
     "output_type": "stream",
     "text": [
      "5085\n",
      "True\n",
      "True\n"
     ]
    }
   ],
   "source": [
    "print(len(df))\n",
    "print(len(df_test) == len(test_data))\n",
    "print(len(df_train) == len(train_data))"
   ]
  },
  {
   "cell_type": "markdown",
   "metadata": {},
   "source": [
    "# Modelo"
   ]
  },
  {
   "cell_type": "code",
   "execution_count": 13,
   "metadata": {},
   "outputs": [
    {
     "data": {
      "image/png": "[encoded data removed]",
      "text/plain": [
       "<Figure size 432x288 with 1 Axes>"
      ]
     },
     "metadata": {
      "needs_background": "light"
     },
     "output_type": "display_data"
    }
   ],
   "source": [
    "# Compute the lengths of the video sequences\n",
    "video_lengths = df.groupby('sequence_id').size()\n",
    "max_seq_length = video_lengths.max()\n",
    "# max_seq_length = 30\n",
    "# Plot the histogram\n",
    "plt.hist(video_lengths, bins=30)  # Adjust the number of bins as needed\n",
    "plt.xlabel('Video Length')\n",
    "plt.ylabel('Frequency')\n",
    "plt.title('Histogram of Video Lengths')\n",
    "plt.show()"
   ]
  },
  {
   "cell_type": "code",
   "execution_count": 14,
   "metadata": {},
   "outputs": [
    {
     "data": {
      "text/plain": [
       "30"
      ]
     },
     "execution_count": 14,
     "metadata": {},
     "output_type": "execute_result"
    }
   ],
   "source": [
    "video_lengths.max()"
   ]
  },
  {
   "cell_type": "code",
   "execution_count": 15,
   "metadata": {},
   "outputs": [],
   "source": [
    "from sklearn.preprocessing import OneHotEncoder\n",
    "from sklearn.preprocessing import LabelEncoder\n",
    "# Create a one-hot encoder\n",
    "label_encoder = LabelEncoder()"
   ]
  },
  {
   "cell_type": "code",
   "execution_count": 16,
   "metadata": {},
   "outputs": [],
   "source": [
    "def padding_videos(df):\n",
    "    # Create a new DataFrame to store the filled rows\n",
    "    filled_df = pd.DataFrame()\n",
    "    target = []\n",
    "\n",
    "\n",
    "    # Iterate over each group and fill remaining rows with zero\n",
    "    for _, group in df.groupby('sequence_id'):\n",
    "        remaining_rows = max_seq_length - len(group)\n",
    "        zeros_df = pd.DataFrame([[0] * len(group.columns)] * remaining_rows, columns=group.columns)\n",
    "        zeros_df['sequence_id'] = group['sequence_id'].unique()[0]\n",
    "        zeros_df['target'] = group['target'].unique()[0]\n",
    "        group = pd.concat([group, zeros_df])\n",
    "    \n",
    "        # filled_df = filled_df.append(group)\n",
    "        filled_df = pd.concat([filled_df, group])\n",
    "        target.append(group[\"target\"].unique()[0])\n",
    "        \n",
    "    filled_df.reset_index(drop=True, inplace=True)\n",
    "    filled_df = filled_df.fillna(0)\n",
    "    return filled_df, target\n",
    "\n",
    "def padding_labels(target):\n",
    "    integer_encoded = label_encoder.fit_transform(target)\n",
    "    integer_encoded = integer_encoded.reshape(-1, 1)\n",
    "\n",
    "    # Encode the word \"Hello\"\n",
    "    onehot_encoder = OneHotEncoder(sparse=False)  # sparse=False to get a numpy array as output\n",
    "    onehot_encoded = onehot_encoder.fit_transform(integer_encoded)\n",
    "    return onehot_encoded"
   ]
  },
  {
   "cell_type": "code",
   "execution_count": 17,
   "metadata": {},
   "outputs": [],
   "source": [
    "X_train, target = padding_videos(df_train)\n",
    "y_train = padding_labels(target)"
   ]
  },
  {
   "cell_type": "code",
   "execution_count": 18,
   "metadata": {},
   "outputs": [
    {
     "name": "stdout",
     "output_type": "stream",
     "text": [
      "6930 231\n"
     ]
    }
   ],
   "source": [
    "\n",
    "del X_train[\"sequence_id\"] \n",
    "del X_train[\"target\"] \n",
    "\n",
    "print(len(X_train), len(y_train))"
   ]
  },
  {
   "cell_type": "code",
   "execution_count": 19,
   "metadata": {},
   "outputs": [
    {
     "name": "stdout",
     "output_type": "stream",
     "text": [
      "570 19\n"
     ]
    }
   ],
   "source": [
    "X_test, target = padding_videos(df_test)\n",
    "y_test = padding_labels(target)\n",
    "del X_test[\"sequence_id\"] \n",
    "del X_test[\"target\"] \n",
    "\n",
    "print(len(X_test), len(y_test))"
   ]
  },
  {
   "cell_type": "code",
   "execution_count": 20,
   "metadata": {},
   "outputs": [
    {
     "data": {
      "text/plain": [
       "False"
      ]
     },
     "execution_count": 20,
     "metadata": {},
     "output_type": "execute_result"
    }
   ],
   "source": [
    "len(y_train) + len(y_test) == len(df[\"sequence_id\"].unique())"
   ]
  },
  {
   "cell_type": "code",
   "execution_count": 21,
   "metadata": {},
   "outputs": [],
   "source": [
    "def flat_X(X):\n",
    "    # Define the number of rows to be flattened\n",
    "    rows_to_flatten = max_seq_length\n",
    "\n",
    "    data_array = X.to_numpy()\n",
    "\n",
    "    # Get the number of resulting rows in the output array\n",
    "    resulting_rows = data_array.shape[0] // rows_to_flatten\n",
    "\n",
    "    # Reshape the array to have (resulting_rows, rows_to_flatten, 80) shape\n",
    "    reshaped_array = data_array[:resulting_rows * rows_to_flatten].reshape(resulting_rows, rows_to_flatten, -1)\n",
    "\n",
    "    # Flatten the reshaped array along the second axis (axis=1) to get (resulting_rows, 13600) shape\n",
    "    flattened_array = reshaped_array.reshape(resulting_rows, -1)\n",
    "\n",
    "    return flattened_array"
   ]
  },
  {
   "cell_type": "code",
   "execution_count": 22,
   "metadata": {},
   "outputs": [],
   "source": [
    "X_test_flat = flat_X(X_test)"
   ]
  },
  {
   "cell_type": "code",
   "execution_count": 23,
   "metadata": {},
   "outputs": [],
   "source": [
    "num_samples = int(len(X_test)/max_seq_length)\n",
    "num_features = len(get_needed_cols())\n",
    "num_classes = len(y_test[1])\n",
    "\n",
    "X_test = X_test.values.reshape(num_samples, max_seq_length, num_features)"
   ]
  },
  {
   "cell_type": "code",
   "execution_count": 24,
   "metadata": {},
   "outputs": [
    {
     "data": {
      "text/plain": [
       "6930"
      ]
     },
     "execution_count": 24,
     "metadata": {},
     "output_type": "execute_result"
    }
   ],
   "source": [
    "len(X_train)"
   ]
  },
  {
   "cell_type": "code",
   "execution_count": 25,
   "metadata": {},
   "outputs": [
    {
     "data": {
      "text/plain": [
       "(231, 2520)"
      ]
     },
     "execution_count": 25,
     "metadata": {},
     "output_type": "execute_result"
    }
   ],
   "source": [
    "X_train_flat = flat_X(X_train)\n",
    "X_train_flat.shape"
   ]
  },
  {
   "cell_type": "code",
   "execution_count": 26,
   "metadata": {},
   "outputs": [],
   "source": [
    "num_samples_train = int(len(X_train)/max_seq_length)\n",
    "num_features_train = len(get_needed_cols())\n",
    "num_classes_train = len(y_train[1])\n",
    "\n",
    "X_train = X_train.values.reshape(num_samples_train, max_seq_length, num_features_train)"
   ]
  },
  {
   "cell_type": "code",
   "execution_count": 27,
   "metadata": {},
   "outputs": [
    {
     "name": "stdout",
     "output_type": "stream",
     "text": [
      "Train: (231, 30, 84) (231, 12)\n",
      "Test: (19, 30, 84) (19, 12)\n"
     ]
    }
   ],
   "source": [
    "print('Train:', X_train.shape, y_train.shape)\n",
    "print('Test:', X_test.shape, y_test.shape)"
   ]
  },
  {
   "cell_type": "markdown",
   "metadata": {},
   "source": [
    "# Modelo\n",
    "La entrada son las coordenadas de las manos. Cada video cuenta con n cantidad de filas, 84 columnas (21 columnas por cada coordenada y por ambas manos).\n",
    "La salida es la frase. La frase se representa por un entero que da el one hot encoder.\n",
    "\n",
    "Se usa convoluciones para resaltar las caracteristicas en la entrada. Debido a que la entrada son coordenadas normalizadas de un video, se supone que funciona igual que si la entrada fuera una imagen. Estas redes extraen caracteristicas de forma automatica para clasificar objetos luego. Al buscar patrones, se espera que pueda predecir un video que ya ha sido entrenado previamente.\n",
    "\n",
    "Se reduce el tamaño de la entrada haciendo uso de max pooling y flatten.\n",
    "\n",
    "Se hace uso de Dense para conectar entradas con salidas.\n",
    "\n",
    "Se hace uso de Dropout para evitar el sobreajuste.\n",
    "\n",
    "Relu elimina negativos. \n",
    "Sigmoid nos ayuda a obtener la probabilidad de que un ejemplo pertenezca a la clase positiva.\n",
    "Softmax hace clasificacion multiclase (en nuestro caso las palabras a predecir)."
   ]
  },
  {
   "cell_type": "code",
   "execution_count": 28,
   "metadata": {},
   "outputs": [],
   "source": [
    "from tensorflow.keras.models import Sequential\n",
    "from tensorflow.keras.layers import LSTM, Dense\n",
    "from tensorflow.keras.callbacks import TensorBoard"
   ]
  },
  {
   "cell_type": "code",
   "execution_count": 29,
   "metadata": {},
   "outputs": [],
   "source": [
    "# Create a sequential model\n",
    "cnn_model = Sequential()\n",
    "cnn_model.add(Convolution2D(32, (3, 3), padding=\"same\", input_shape=(max_seq_length, num_features_train, 1), activation='relu'))\n",
    "# cnn_model.add(Convolution2D(32, (3, 3), padding=\"same\", activation='relu'))\n",
    "cnn_model.add(MaxPooling2D(pool_size=(2, 2)))\n",
    "\n",
    "cnn_model.add(Convolution2D(64, (3, 3), activation='relu'))\n",
    "# cnn_model.add(Convolution2D(64, (3, 3), padding=\"same\", activation='relu'))\n",
    "cnn_model.add(MaxPooling2D(pool_size=(2, 2)))\n",
    "\n",
    "cnn_model.add(Convolution2D(128, (3, 3), activation='relu'))\n",
    "# cnn_model.add(Convolution2D(128, (3, 3), padding=\"same\", activation='relu'))\n",
    "cnn_model.add(MaxPooling2D(pool_size=(2, 2)))\n",
    "\n",
    "\n",
    "# cnn_model.add(Convolution2D(256, (3, 3), padding=\"same\", activation='relu'))\n",
    "# # cnn_model.add(Convolution2D(256, (3, 3), padding=\"same\", activation='relu'))\n",
    "# # cnn_model.add(MaxPooling2D(pool_size=(2, 2), strides=2))\n",
    "\n",
    "# cnn_model.add(MaxPooling2D(pool_size=(2, 2)))\n",
    "\n",
    "\n",
    "cnn_model.add(Flatten())\n",
    "\n",
    "cnn_model.add(Dense(512, activation='relu'))\n",
    "# cnn_model.add(Dense(64,activation =\"relu\"))\n",
    "# cnn_model.add(Dense(128,activation =\"relu\"))\n",
    "# cnn_model.add(Dense(256, activation='relu'))\n",
    "cnn_model.add(Dropout(0.5))\n",
    "cnn_model.add(Dense(num_classes_train, activation='softmax'))"
   ]
  },
  {
   "cell_type": "code",
   "execution_count": 30,
   "metadata": {},
   "outputs": [
    {
     "name": "stdout",
     "output_type": "stream",
     "text": [
      "Epoch 1/100\n",
      "29/29 [==============================] - 1s 23ms/step - loss: 2.3956 - accuracy: 0.1385 - val_loss: 2.2636 - val_accuracy: 0.2105\n",
      "Epoch 2/100\n",
      "29/29 [==============================] - 0s 17ms/step - loss: 2.1118 - accuracy: 0.2121 - val_loss: 2.1500 - val_accuracy: 0.2105\n",
      "Epoch 3/100\n",
      "29/29 [==============================] - 0s 17ms/step - loss: 1.9873 - accuracy: 0.2597 - val_loss: 2.0627 - val_accuracy: 0.2105\n",
      "Epoch 4/100\n",
      "29/29 [==============================] - 0s 17ms/step - loss: 1.8522 - accuracy: 0.2944 - val_loss: 2.2106 - val_accuracy: 0.1579\n",
      "Epoch 5/100\n",
      "29/29 [==============================] - 0s 17ms/step - loss: 1.8250 - accuracy: 0.3290 - val_loss: 2.0680 - val_accuracy: 0.2105\n",
      "Epoch 6/100\n",
      "29/29 [==============================] - 1s 17ms/step - loss: 1.7442 - accuracy: 0.3593 - val_loss: 2.2751 - val_accuracy: 0.2632\n",
      "Epoch 7/100\n",
      "29/29 [==============================] - 1s 19ms/step - loss: 1.6920 - accuracy: 0.3766 - val_loss: 2.3967 - val_accuracy: 0.3158\n",
      "Epoch 8/100\n",
      "29/29 [==============================] - 1s 18ms/step - loss: 1.5028 - accuracy: 0.4286 - val_loss: 2.4451 - val_accuracy: 0.3158\n",
      "Epoch 9/100\n",
      "29/29 [==============================] - 1s 19ms/step - loss: 1.3196 - accuracy: 0.5325 - val_loss: 2.8251 - val_accuracy: 0.3158\n",
      "Epoch 10/100\n",
      "29/29 [==============================] - 1s 18ms/step - loss: 1.2344 - accuracy: 0.5628 - val_loss: 2.7952 - val_accuracy: 0.2632\n",
      "Epoch 11/100\n",
      "29/29 [==============================] - 1s 21ms/step - loss: 1.1244 - accuracy: 0.6364 - val_loss: 2.7800 - val_accuracy: 0.3158\n",
      "Epoch 12/100\n",
      "29/29 [==============================] - 1s 21ms/step - loss: 1.0097 - accuracy: 0.6537 - val_loss: 3.2058 - val_accuracy: 0.2105\n",
      "Epoch 13/100\n",
      "29/29 [==============================] - 1s 20ms/step - loss: 0.9976 - accuracy: 0.6450 - val_loss: 3.4947 - val_accuracy: 0.2105\n",
      "Epoch 14/100\n",
      "29/29 [==============================] - 1s 20ms/step - loss: 0.8080 - accuracy: 0.7186 - val_loss: 3.7997 - val_accuracy: 0.3158\n",
      "Epoch 15/100\n",
      "29/29 [==============================] - 1s 22ms/step - loss: 0.6956 - accuracy: 0.7706 - val_loss: 3.7978 - val_accuracy: 0.2632\n",
      "Epoch 16/100\n",
      "29/29 [==============================] - 1s 20ms/step - loss: 0.6714 - accuracy: 0.7619 - val_loss: 3.4827 - val_accuracy: 0.3158\n",
      "Epoch 17/100\n",
      "29/29 [==============================] - 1s 19ms/step - loss: 0.6261 - accuracy: 0.7749 - val_loss: 3.8320 - val_accuracy: 0.2105\n",
      "Epoch 18/100\n",
      "29/29 [==============================] - 1s 21ms/step - loss: 0.5751 - accuracy: 0.8139 - val_loss: 4.2089 - val_accuracy: 0.2632\n",
      "Epoch 19/100\n",
      "29/29 [==============================] - 1s 20ms/step - loss: 0.5817 - accuracy: 0.8009 - val_loss: 3.6709 - val_accuracy: 0.3158\n",
      "Epoch 20/100\n",
      "29/29 [==============================] - 1s 20ms/step - loss: 0.4995 - accuracy: 0.8268 - val_loss: 4.1277 - val_accuracy: 0.2632\n",
      "Epoch 21/100\n",
      "29/29 [==============================] - 1s 21ms/step - loss: 0.4377 - accuracy: 0.8398 - val_loss: 4.3909 - val_accuracy: 0.2632\n",
      "Epoch 22/100\n",
      "29/29 [==============================] - 1s 22ms/step - loss: 0.4645 - accuracy: 0.8398 - val_loss: 3.9940 - val_accuracy: 0.2105\n",
      "Epoch 23/100\n",
      "29/29 [==============================] - 1s 22ms/step - loss: 0.3124 - accuracy: 0.8831 - val_loss: 4.6694 - val_accuracy: 0.2105\n",
      "Epoch 24/100\n",
      "29/29 [==============================] - 1s 22ms/step - loss: 0.3265 - accuracy: 0.8658 - val_loss: 4.4432 - val_accuracy: 0.3158\n",
      "Epoch 25/100\n",
      "29/29 [==============================] - 1s 21ms/step - loss: 0.2678 - accuracy: 0.9004 - val_loss: 5.1229 - val_accuracy: 0.2632\n",
      "Epoch 26/100\n",
      "29/29 [==============================] - 1s 20ms/step - loss: 0.2414 - accuracy: 0.8961 - val_loss: 4.9089 - val_accuracy: 0.2105\n",
      "Epoch 27/100\n",
      "29/29 [==============================] - 1s 21ms/step - loss: 0.1987 - accuracy: 0.9437 - val_loss: 5.1455 - val_accuracy: 0.3158\n",
      "Epoch 28/100\n",
      "29/29 [==============================] - 1s 23ms/step - loss: 0.1367 - accuracy: 0.9567 - val_loss: 4.9446 - val_accuracy: 0.3158\n",
      "Epoch 29/100\n",
      "29/29 [==============================] - 1s 21ms/step - loss: 0.1752 - accuracy: 0.9307 - val_loss: 5.6270 - val_accuracy: 0.2105\n",
      "Epoch 30/100\n",
      "29/29 [==============================] - 1s 21ms/step - loss: 0.1643 - accuracy: 0.9264 - val_loss: 4.7259 - val_accuracy: 0.3158\n",
      "Epoch 31/100\n",
      "29/29 [==============================] - 1s 20ms/step - loss: 0.1495 - accuracy: 0.9481 - val_loss: 5.1957 - val_accuracy: 0.3158\n",
      "Epoch 32/100\n",
      "29/29 [==============================] - 1s 21ms/step - loss: 0.1091 - accuracy: 0.9740 - val_loss: 6.4510 - val_accuracy: 0.4211\n",
      "Epoch 33/100\n",
      "29/29 [==============================] - 1s 20ms/step - loss: 0.1436 - accuracy: 0.9437 - val_loss: 5.6213 - val_accuracy: 0.3158\n",
      "Epoch 34/100\n",
      "29/29 [==============================] - 1s 20ms/step - loss: 0.1430 - accuracy: 0.9610 - val_loss: 5.3659 - val_accuracy: 0.3158\n",
      "Epoch 35/100\n",
      "29/29 [==============================] - 1s 19ms/step - loss: 0.1801 - accuracy: 0.9351 - val_loss: 6.1483 - val_accuracy: 0.3684\n",
      "Epoch 36/100\n",
      "29/29 [==============================] - 1s 20ms/step - loss: 0.0955 - accuracy: 0.9654 - val_loss: 5.9508 - val_accuracy: 0.3684\n",
      "Epoch 37/100\n",
      "29/29 [==============================] - 1s 21ms/step - loss: 0.1612 - accuracy: 0.9394 - val_loss: 5.6979 - val_accuracy: 0.3158\n",
      "Epoch 38/100\n",
      "29/29 [==============================] - 1s 20ms/step - loss: 0.1070 - accuracy: 0.9610 - val_loss: 5.8779 - val_accuracy: 0.2632\n",
      "Epoch 39/100\n",
      "29/29 [==============================] - 1s 20ms/step - loss: 0.0623 - accuracy: 0.9784 - val_loss: 6.0268 - val_accuracy: 0.3158\n",
      "Epoch 40/100\n",
      "29/29 [==============================] - 1s 20ms/step - loss: 0.0620 - accuracy: 0.9827 - val_loss: 6.2235 - val_accuracy: 0.4211\n",
      "Epoch 41/100\n",
      "29/29 [==============================] - 1s 20ms/step - loss: 0.0844 - accuracy: 0.9870 - val_loss: 6.6196 - val_accuracy: 0.2632\n",
      "Epoch 42/100\n",
      "29/29 [==============================] - 1s 20ms/step - loss: 0.0768 - accuracy: 0.9740 - val_loss: 6.3069 - val_accuracy: 0.3684\n",
      "Epoch 43/100\n",
      "29/29 [==============================] - 1s 20ms/step - loss: 0.0820 - accuracy: 0.9697 - val_loss: 7.3600 - val_accuracy: 0.3684\n",
      "Epoch 44/100\n",
      "29/29 [==============================] - 1s 20ms/step - loss: 0.1996 - accuracy: 0.9177 - val_loss: 5.6606 - val_accuracy: 0.3684\n",
      "Epoch 45/100\n",
      "29/29 [==============================] - 1s 20ms/step - loss: 0.1178 - accuracy: 0.9567 - val_loss: 6.1490 - val_accuracy: 0.3684\n",
      "Epoch 46/100\n",
      "29/29 [==============================] - 1s 21ms/step - loss: 0.0557 - accuracy: 0.9784 - val_loss: 6.1092 - val_accuracy: 0.3158\n",
      "Epoch 47/100\n",
      "29/29 [==============================] - 1s 20ms/step - loss: 0.0250 - accuracy: 1.0000 - val_loss: 6.5752 - val_accuracy: 0.4211\n",
      "Epoch 48/100\n",
      "29/29 [==============================] - 1s 21ms/step - loss: 0.0482 - accuracy: 0.9870 - val_loss: 6.2553 - val_accuracy: 0.3158\n",
      "Epoch 49/100\n",
      "29/29 [==============================] - 1s 20ms/step - loss: 0.0327 - accuracy: 0.9913 - val_loss: 6.1326 - val_accuracy: 0.3684\n",
      "Epoch 50/100\n",
      "29/29 [==============================] - 1s 21ms/step - loss: 0.0159 - accuracy: 0.9957 - val_loss: 6.3987 - val_accuracy: 0.4211\n",
      "Epoch 51/100\n",
      "29/29 [==============================] - 1s 21ms/step - loss: 0.0394 - accuracy: 0.9957 - val_loss: 7.3093 - val_accuracy: 0.3684\n",
      "Epoch 52/100\n",
      "29/29 [==============================] - 1s 21ms/step - loss: 0.0492 - accuracy: 0.9827 - val_loss: 6.4931 - val_accuracy: 0.3684\n",
      "Epoch 53/100\n",
      "29/29 [==============================] - 1s 20ms/step - loss: 0.1038 - accuracy: 0.9567 - val_loss: 6.3004 - val_accuracy: 0.3684\n",
      "Epoch 54/100\n",
      "29/29 [==============================] - 1s 20ms/step - loss: 0.0651 - accuracy: 0.9784 - val_loss: 6.6932 - val_accuracy: 0.3684\n",
      "Epoch 55/100\n",
      "29/29 [==============================] - 1s 20ms/step - loss: 0.3806 - accuracy: 0.9048 - val_loss: 6.0743 - val_accuracy: 0.4211\n",
      "Epoch 56/100\n",
      "29/29 [==============================] - 1s 20ms/step - loss: 0.4243 - accuracy: 0.8658 - val_loss: 5.7327 - val_accuracy: 0.3684\n",
      "Epoch 57/100\n",
      "29/29 [==============================] - 1s 19ms/step - loss: 0.1159 - accuracy: 0.9567 - val_loss: 5.4692 - val_accuracy: 0.3158\n",
      "Epoch 58/100\n",
      "29/29 [==============================] - 1s 19ms/step - loss: 0.0860 - accuracy: 0.9654 - val_loss: 7.0713 - val_accuracy: 0.3158\n",
      "Epoch 59/100\n",
      "29/29 [==============================] - 1s 20ms/step - loss: 0.0473 - accuracy: 0.9913 - val_loss: 6.6063 - val_accuracy: 0.2632\n",
      "Epoch 60/100\n",
      "29/29 [==============================] - 1s 19ms/step - loss: 0.0412 - accuracy: 0.9827 - val_loss: 7.3433 - val_accuracy: 0.2632\n",
      "Epoch 61/100\n",
      "29/29 [==============================] - 1s 20ms/step - loss: 0.0304 - accuracy: 0.9957 - val_loss: 7.3277 - val_accuracy: 0.3684\n",
      "Epoch 62/100\n",
      "29/29 [==============================] - 1s 20ms/step - loss: 0.0309 - accuracy: 0.9957 - val_loss: 8.0155 - val_accuracy: 0.3158\n",
      "Epoch 63/100\n",
      "29/29 [==============================] - 1s 20ms/step - loss: 0.0174 - accuracy: 0.9957 - val_loss: 7.6397 - val_accuracy: 0.2632\n",
      "Epoch 64/100\n",
      "29/29 [==============================] - 1s 19ms/step - loss: 0.0418 - accuracy: 0.9913 - val_loss: 7.4292 - val_accuracy: 0.3684\n",
      "Epoch 65/100\n",
      "29/29 [==============================] - 1s 20ms/step - loss: 0.0566 - accuracy: 0.9827 - val_loss: 7.5408 - val_accuracy: 0.3684\n",
      "Epoch 66/100\n",
      "29/29 [==============================] - 1s 20ms/step - loss: 0.0279 - accuracy: 0.9957 - val_loss: 8.3140 - val_accuracy: 0.3158\n",
      "Epoch 67/100\n",
      "29/29 [==============================] - 1s 21ms/step - loss: 0.0204 - accuracy: 0.9957 - val_loss: 8.4913 - val_accuracy: 0.3158\n",
      "Epoch 68/100\n",
      "29/29 [==============================] - 1s 19ms/step - loss: 0.0073 - accuracy: 1.0000 - val_loss: 8.3099 - val_accuracy: 0.3158\n",
      "Epoch 69/100\n",
      "29/29 [==============================] - 1s 19ms/step - loss: 0.0039 - accuracy: 1.0000 - val_loss: 8.4264 - val_accuracy: 0.3684\n",
      "Epoch 70/100\n",
      "29/29 [==============================] - 1s 19ms/step - loss: 0.0071 - accuracy: 1.0000 - val_loss: 8.3945 - val_accuracy: 0.3684\n",
      "Epoch 71/100\n",
      "29/29 [==============================] - 1s 20ms/step - loss: 0.0102 - accuracy: 1.0000 - val_loss: 8.4948 - val_accuracy: 0.3684\n",
      "Epoch 72/100\n",
      "29/29 [==============================] - 1s 20ms/step - loss: 0.0051 - accuracy: 1.0000 - val_loss: 8.5325 - val_accuracy: 0.3158\n",
      "Epoch 73/100\n",
      "29/29 [==============================] - 1s 20ms/step - loss: 0.0092 - accuracy: 0.9957 - val_loss: 8.9266 - val_accuracy: 0.4211\n",
      "Epoch 74/100\n",
      "29/29 [==============================] - 1s 19ms/step - loss: 0.0136 - accuracy: 0.9957 - val_loss: 8.5152 - val_accuracy: 0.3158\n",
      "Epoch 75/100\n",
      "29/29 [==============================] - 1s 20ms/step - loss: 0.0234 - accuracy: 0.9870 - val_loss: 8.0792 - val_accuracy: 0.3684\n",
      "Epoch 76/100\n",
      "29/29 [==============================] - 1s 20ms/step - loss: 0.0170 - accuracy: 0.9913 - val_loss: 8.1411 - val_accuracy: 0.4737\n",
      "Epoch 77/100\n",
      "29/29 [==============================] - 1s 20ms/step - loss: 0.0233 - accuracy: 0.9913 - val_loss: 8.7037 - val_accuracy: 0.2632\n",
      "Epoch 78/100\n",
      "29/29 [==============================] - 1s 19ms/step - loss: 0.0858 - accuracy: 0.9697 - val_loss: 7.5199 - val_accuracy: 0.4211\n",
      "Epoch 79/100\n",
      "29/29 [==============================] - 1s 20ms/step - loss: 0.0718 - accuracy: 0.9740 - val_loss: 7.7072 - val_accuracy: 0.3684\n",
      "Epoch 80/100\n",
      "29/29 [==============================] - 1s 19ms/step - loss: 0.1638 - accuracy: 0.9567 - val_loss: 6.3149 - val_accuracy: 0.2632\n",
      "Epoch 81/100\n",
      "29/29 [==============================] - 1s 20ms/step - loss: 0.4067 - accuracy: 0.8874 - val_loss: 7.4790 - val_accuracy: 0.3684\n",
      "Epoch 82/100\n",
      "29/29 [==============================] - 1s 19ms/step - loss: 0.2228 - accuracy: 0.9177 - val_loss: 5.9765 - val_accuracy: 0.3158\n",
      "Epoch 83/100\n",
      "29/29 [==============================] - 1s 19ms/step - loss: 0.1212 - accuracy: 0.9697 - val_loss: 6.6153 - val_accuracy: 0.3684\n",
      "Epoch 84/100\n",
      "29/29 [==============================] - 1s 20ms/step - loss: 0.0530 - accuracy: 0.9870 - val_loss: 7.4452 - val_accuracy: 0.3684\n",
      "Epoch 85/100\n",
      "29/29 [==============================] - 1s 19ms/step - loss: 0.0295 - accuracy: 0.9913 - val_loss: 6.9606 - val_accuracy: 0.4737\n",
      "Epoch 86/100\n",
      "29/29 [==============================] - 1s 19ms/step - loss: 0.0056 - accuracy: 1.0000 - val_loss: 6.9569 - val_accuracy: 0.4737\n",
      "Epoch 87/100\n",
      "29/29 [==============================] - 1s 19ms/step - loss: 0.0089 - accuracy: 1.0000 - val_loss: 7.0458 - val_accuracy: 0.4211\n",
      "Epoch 88/100\n",
      "29/29 [==============================] - 1s 20ms/step - loss: 0.0249 - accuracy: 0.9913 - val_loss: 7.1745 - val_accuracy: 0.3684\n",
      "Epoch 89/100\n",
      "29/29 [==============================] - 1s 19ms/step - loss: 0.0127 - accuracy: 0.9957 - val_loss: 7.2867 - val_accuracy: 0.4211\n",
      "Epoch 90/100\n",
      "29/29 [==============================] - 1s 20ms/step - loss: 0.0282 - accuracy: 0.9913 - val_loss: 6.7800 - val_accuracy: 0.4737\n",
      "Epoch 91/100\n",
      "29/29 [==============================] - 1s 19ms/step - loss: 0.0311 - accuracy: 0.9870 - val_loss: 8.0674 - val_accuracy: 0.3684\n",
      "Epoch 92/100\n",
      "29/29 [==============================] - 1s 19ms/step - loss: 0.0129 - accuracy: 0.9957 - val_loss: 7.0778 - val_accuracy: 0.4211\n",
      "Epoch 93/100\n",
      "29/29 [==============================] - 1s 19ms/step - loss: 0.0096 - accuracy: 0.9957 - val_loss: 6.7923 - val_accuracy: 0.4211\n",
      "Epoch 94/100\n",
      "29/29 [==============================] - 1s 20ms/step - loss: 0.0154 - accuracy: 0.9913 - val_loss: 6.9789 - val_accuracy: 0.4737\n",
      "Epoch 95/100\n",
      "29/29 [==============================] - 1s 19ms/step - loss: 0.0274 - accuracy: 0.9913 - val_loss: 7.4649 - val_accuracy: 0.4211\n",
      "Epoch 96/100\n",
      "29/29 [==============================] - 1s 19ms/step - loss: 0.0046 - accuracy: 1.0000 - val_loss: 7.1045 - val_accuracy: 0.4737\n",
      "Epoch 97/100\n",
      "29/29 [==============================] - 1s 19ms/step - loss: 0.0129 - accuracy: 0.9957 - val_loss: 6.8620 - val_accuracy: 0.4211\n",
      "Epoch 98/100\n",
      "29/29 [==============================] - 1s 20ms/step - loss: 0.0020 - accuracy: 1.0000 - val_loss: 7.4011 - val_accuracy: 0.4211\n",
      "Epoch 99/100\n",
      "29/29 [==============================] - 1s 19ms/step - loss: 0.0024 - accuracy: 1.0000 - val_loss: 7.5085 - val_accuracy: 0.4211\n",
      "Epoch 100/100\n",
      "29/29 [==============================] - 1s 19ms/step - loss: 0.0071 - accuracy: 0.9957 - val_loss: 7.4244 - val_accuracy: 0.4211\n",
      "1/1 [==============================] - 0s 109ms/step\n",
      "1/1 [==============================] - 0s 26ms/step - loss: 7.4244 - accuracy: 0.4211\n",
      "Test Accuracy: 0.42105263471603394\n"
     ]
    }
   ],
   "source": [
    "# Compile the model\n",
    "cnn_model.compile(loss='categorical_crossentropy', optimizer='adam', metrics=['accuracy'])\n",
    "\n",
    "# Train the model\n",
    "history = cnn_model.fit(X_train, y_train, epochs=100, batch_size=8, validation_data=(X_test, y_test))\n",
    "# Get the predictions from the model\n",
    "y_pred_cnn = cnn_model.predict(X_test)# Find the most likely prediction for each sample\n",
    "\n",
    "most_likely_predictions = np.argmax(y_pred_cnn, axis=1)\n",
    "cnn_test_pred = label_encoder.inverse_transform(most_likely_predictions)\n",
    "\n",
    "test_loss, test_accuracy = cnn_model.evaluate(X_test, y_test)\n",
    "print(f\"Test Accuracy: {test_accuracy}\")"
   ]
  },
  {
   "cell_type": "code",
   "execution_count": 31,
   "metadata": {},
   "outputs": [],
   "source": [
    "# Inverse one-hot encoding\n",
    "inverse_encoded_data = np.argmax(y_train, axis=1)\n",
    "y_train_tree = label_encoder.inverse_transform(inverse_encoded_data)\n",
    "# Inverse one-hot encoding\n",
    "inverse_encoded_data = np.argmax(y_test, axis=1)\n",
    "y_test_tree = label_encoder.inverse_transform(inverse_encoded_data)"
   ]
  },
  {
   "cell_type": "code",
   "execution_count": 32,
   "metadata": {},
   "outputs": [
    {
     "data": {
      "text/plain": [
       "{'adios': 1.2833333333333334,\n",
       " 'ayuda': 1.0694444444444444,\n",
       " 'entender': 0.9166666666666666,\n",
       " 'familia': 1.0694444444444444,\n",
       " 'gracias': 0.9166666666666666,\n",
       " 'hola': 0.875,\n",
       " 'medico': 0.875,\n",
       " 'necesitar': 0.875,\n",
       " 'no': 1.0694444444444444,\n",
       " 'por favor': 1.1323529411764706,\n",
       " 'querer': 0.9166666666666666,\n",
       " 'si': 1.203125}"
      ]
     },
     "execution_count": 32,
     "metadata": {},
     "output_type": "execute_result"
    }
   ],
   "source": [
    "from sklearn.utils import class_weight\n",
    "class_weights = class_weight.compute_class_weight(\n",
    "                                        class_weight = \"balanced\",\n",
    "                                        classes = np.unique(y_train_tree),\n",
    "                                        y = y_train_tree                                                    \n",
    "                                    )\n",
    "class_weights = dict(zip(np.unique(y_train_tree), class_weights))\n",
    "class_weights"
   ]
  },
  {
   "cell_type": "code",
   "execution_count": 33,
   "metadata": {},
   "outputs": [
    {
     "name": "stdout",
     "output_type": "stream",
     "text": [
      "Accuracy: 0.74\n"
     ]
    }
   ],
   "source": [
    "from sklearn.tree import DecisionTreeClassifier\n",
    "from sklearn.ensemble import AdaBoostClassifier\n",
    "from sklearn.metrics import accuracy_score, classification_report, confusion_matrix\n",
    "from sklearn.model_selection import GridSearchCV\n",
    "\n",
    "\n",
    "# Create an AdaBoost classifier with a base model (e.g., DecisionTreeClassifier)\n",
    "base_model = DecisionTreeClassifier(max_depth=num_classes_train - 1, min_samples_split=4, min_samples_leaf=2, class_weight=class_weights)\n",
    "decision_tree = AdaBoostClassifier(base_model, n_estimators=200, random_state=42)\n",
    "\n",
    "# Fit the ensemble model\n",
    "decision_tree.fit(X_train_flat, y_train_tree)\n",
    "\n",
    "# Make predictions\n",
    "y_pred_tree = decision_tree.predict(X_test_flat)\n",
    "\n",
    "# Calculate the accuracy score on a test dataset\n",
    "accuracy_tree = decision_tree.score(X_test_flat, y_test_tree)\n",
    "\n",
    "# Print the accuracy\n",
    "print(f'Accuracy: {accuracy_tree:.2f}')"
   ]
  },
  {
   "cell_type": "code",
   "execution_count": 34,
   "metadata": {},
   "outputs": [
    {
     "name": "stdout",
     "output_type": "stream",
     "text": [
      "Accuracy: 0.37\n"
     ]
    }
   ],
   "source": [
    "from sklearn.linear_model import LinearRegression\n",
    "from sklearn.ensemble import RandomForestRegressor\n",
    "from sklearn.svm import SVC\n",
    "from sklearn.model_selection import GridSearchCV\n",
    "\n",
    "# Create an SVC classifier\n",
    "svm_classifier = SVC(C=1, kernel=\"linear\", gamma=\"auto\", class_weight=class_weights)\n",
    "\\\n",
    "# Fit the grid search to your training data\n",
    "svm_classifier.fit(X_train_flat, y_train_tree)\n",
    "# Evaluate the model on the test data\n",
    "y_pred_svm = svm_classifier.predict(X_test_flat)\n",
    "\n",
    "# Calculate the accuracy score on a test dataset\n",
    "accuracy_svm = svm_classifier.score(X_test_flat, y_test_tree)\n",
    "\n",
    "# Print the accuracy\n",
    "print(f'Accuracy: {accuracy_svm:.2f}')"
   ]
  },
  {
   "cell_type": "code",
   "execution_count": 35,
   "metadata": {},
   "outputs": [
    {
     "name": "stdout",
     "output_type": "stream",
     "text": [
      "USANDO TREE\n"
     ]
    }
   ],
   "source": [
    "results_to_use = []\n",
    "\n",
    "accuracies = {\n",
    "    \"SVM\": accuracy_svm,\n",
    "    \"TREE\": accuracy_tree,\n",
    "    \"CNN\": test_accuracy\n",
    "}\n",
    "# Find the key with the maximum value\n",
    "max_key = max(accuracies, key=accuracies.get)\n",
    "\n",
    "if (max_key == \"SVM\"):\n",
    "    results_to_use = y_pred_svm\n",
    "elif (max_key == \"TREE\"):\n",
    "    results_to_use = y_pred_tree\n",
    "else:\n",
    "    results_to_use = cnn_test_pred\n",
    "\n",
    "\n",
    "print(\"USANDO\", max_key)"
   ]
  },
  {
   "cell_type": "code",
   "execution_count": 36,
   "metadata": {},
   "outputs": [
    {
     "name": "stdout",
     "output_type": "stream",
     "text": [
      ">>> LOG INCORRECTA: \n",
      "            SVM:  medico\n",
      "            TREE:  medico\n",
      "            CNN:  medico\n",
      "            Correcto:  familia\n",
      ">>> LOG INCORRECTA: \n",
      "            SVM:  medico\n",
      "            TREE:  medico\n",
      "            CNN:  necesitar\n",
      "            Correcto:  querer\n",
      ">>> LOG INCORRECTA: \n",
      "            SVM:  hola\n",
      "            TREE:  hola\n",
      "            CNN:  hola\n",
      "            Correcto:  adios\n",
      ">>> LOG INCORRECTA: \n",
      "            SVM:  adios\n",
      "            TREE:  adios\n",
      "            CNN:  adios\n",
      "            Correcto:  hola\n",
      ">>> LOG INCORRECTA: \n",
      "            SVM:  gracias\n",
      "            TREE:  gracias\n",
      "            CNN:  gracias\n",
      "            Correcto:  hola\n"
     ]
    }
   ],
   "source": [
    "correct = 0\n",
    "for i in range(len(y_test_tree)):\n",
    "    if (\n",
    "        y_test_tree[i] == results_to_use[i]):\n",
    "        correct += 1\n",
    "        # print(\"Correctamente predicha: \", y_pred[i])\n",
    "    else:\n",
    "        print(\">>> LOG INCORRECTA: \")\n",
    "        print(\"            SVM: \", y_pred_svm[i])\n",
    "        print(\"            TREE: \", y_pred_tree[i])\n",
    "        print(\"            CNN: \", cnn_test_pred[i])\n",
    "        print(\"            Correcto: \", y_test_tree[i])\n"
   ]
  },
  {
   "cell_type": "code",
   "execution_count": 37,
   "metadata": {},
   "outputs": [
    {
     "name": "stdout",
     "output_type": "stream",
     "text": [
      "Correct >>  14\n",
      "Incorrect >>  5\n",
      "Ratio >>  0.7368421052631579\n"
     ]
    }
   ],
   "source": [
    "print(\"Correct >> \", correct)\n",
    "print(\"Incorrect >> \", len(y_test_tree)-correct)\n",
    "print(\"Ratio >> \", str(correct/len(y_test_tree)))"
   ]
  },
  {
   "cell_type": "markdown",
   "metadata": {},
   "source": [
    "# Reutilizando el modelo"
   ]
  },
  {
   "cell_type": "code",
   "execution_count": 38,
   "metadata": {},
   "outputs": [],
   "source": [
    "cant_videos = 3"
   ]
  },
  {
   "cell_type": "code",
   "execution_count": 39,
   "metadata": {},
   "outputs": [
    {
     "data": {
      "text/html": [
       "<div>\n",
       "<style scoped>\n",
       "    .dataframe tbody tr th:only-of-type {\n",
       "        vertical-align: middle;\n",
       "    }\n",
       "\n",
       "    .dataframe tbody tr th {\n",
       "        vertical-align: top;\n",
       "    }\n",
       "\n",
       "    .dataframe thead th {\n",
       "        text-align: right;\n",
       "    }\n",
       "</style>\n",
       "<table border=\"1\" class=\"dataframe\">\n",
       "  <thead>\n",
       "    <tr style=\"text-align: right;\">\n",
       "      <th></th>\n",
       "      <th>sequence_id</th>\n",
       "      <th>target</th>\n",
       "      <th>file</th>\n",
       "      <th>x_Left_hand_0</th>\n",
       "      <th>y_Left_hand_0</th>\n",
       "      <th>x_Left_hand_1</th>\n",
       "      <th>y_Left_hand_1</th>\n",
       "      <th>x_Left_hand_2</th>\n",
       "      <th>y_Left_hand_2</th>\n",
       "      <th>x_Left_hand_3</th>\n",
       "      <th>...</th>\n",
       "      <th>x_Right_hand_16</th>\n",
       "      <th>y_Right_hand_16</th>\n",
       "      <th>x_Right_hand_17</th>\n",
       "      <th>y_Right_hand_17</th>\n",
       "      <th>x_Right_hand_18</th>\n",
       "      <th>y_Right_hand_18</th>\n",
       "      <th>x_Right_hand_19</th>\n",
       "      <th>y_Right_hand_19</th>\n",
       "      <th>x_Right_hand_20</th>\n",
       "      <th>y_Right_hand_20</th>\n",
       "    </tr>\n",
       "  </thead>\n",
       "  <tbody>\n",
       "    <tr>\n",
       "      <th>0</th>\n",
       "      <td>10</td>\n",
       "      <td>1</td>\n",
       "      <td>/Users/andreaamaya/Trabajo/megaproyecto_model/...</td>\n",
       "      <td>0.997978</td>\n",
       "      <td>0.990872</td>\n",
       "      <td>1.000000</td>\n",
       "      <td>0.964105</td>\n",
       "      <td>0.961854</td>\n",
       "      <td>0.937798</td>\n",
       "      <td>0.910552</td>\n",
       "      <td>...</td>\n",
       "      <td>0.752052</td>\n",
       "      <td>0.998761</td>\n",
       "      <td>0.357431</td>\n",
       "      <td>0.936557</td>\n",
       "      <td>0.456564</td>\n",
       "      <td>0.963479</td>\n",
       "      <td>0.528129</td>\n",
       "      <td>0.982331</td>\n",
       "      <td>0.581658</td>\n",
       "      <td>1.000000</td>\n",
       "    </tr>\n",
       "    <tr>\n",
       "      <th>1</th>\n",
       "      <td>10</td>\n",
       "      <td>1</td>\n",
       "      <td>/Users/andreaamaya/Trabajo/megaproyecto_model/...</td>\n",
       "      <td>0.196888</td>\n",
       "      <td>0.922653</td>\n",
       "      <td>0.370620</td>\n",
       "      <td>0.888943</td>\n",
       "      <td>0.564521</td>\n",
       "      <td>0.893780</td>\n",
       "      <td>0.678303</td>\n",
       "      <td>...</td>\n",
       "      <td>0.763794</td>\n",
       "      <td>0.877362</td>\n",
       "      <td>0.787851</td>\n",
       "      <td>0.994025</td>\n",
       "      <td>0.752125</td>\n",
       "      <td>0.951980</td>\n",
       "      <td>0.746636</td>\n",
       "      <td>0.921804</td>\n",
       "      <td>0.745562</td>\n",
       "      <td>0.899534</td>\n",
       "    </tr>\n",
       "    <tr>\n",
       "      <th>2</th>\n",
       "      <td>10</td>\n",
       "      <td>1</td>\n",
       "      <td>/Users/andreaamaya/Trabajo/megaproyecto_model/...</td>\n",
       "      <td>0.977258</td>\n",
       "      <td>0.955845</td>\n",
       "      <td>0.913512</td>\n",
       "      <td>0.939515</td>\n",
       "      <td>0.866071</td>\n",
       "      <td>0.922077</td>\n",
       "      <td>0.845726</td>\n",
       "      <td>...</td>\n",
       "      <td>0.687400</td>\n",
       "      <td>0.945477</td>\n",
       "      <td>0.613591</td>\n",
       "      <td>0.934742</td>\n",
       "      <td>0.696290</td>\n",
       "      <td>0.976215</td>\n",
       "      <td>0.659146</td>\n",
       "      <td>0.969925</td>\n",
       "      <td>0.624804</td>\n",
       "      <td>0.951577</td>\n",
       "    </tr>\n",
       "    <tr>\n",
       "      <th>3</th>\n",
       "      <td>10</td>\n",
       "      <td>1</td>\n",
       "      <td>/Users/andreaamaya/Trabajo/megaproyecto_model/...</td>\n",
       "      <td>0.913439</td>\n",
       "      <td>0.979055</td>\n",
       "      <td>0.989445</td>\n",
       "      <td>0.947296</td>\n",
       "      <td>0.999634</td>\n",
       "      <td>0.918878</td>\n",
       "      <td>0.953991</td>\n",
       "      <td>...</td>\n",
       "      <td>0.717194</td>\n",
       "      <td>0.888199</td>\n",
       "      <td>0.658020</td>\n",
       "      <td>0.869603</td>\n",
       "      <td>0.700982</td>\n",
       "      <td>0.922814</td>\n",
       "      <td>0.679158</td>\n",
       "      <td>0.908925</td>\n",
       "      <td>0.663280</td>\n",
       "      <td>0.886977</td>\n",
       "    </tr>\n",
       "    <tr>\n",
       "      <th>4</th>\n",
       "      <td>10</td>\n",
       "      <td>1</td>\n",
       "      <td>/Users/andreaamaya/Trabajo/megaproyecto_model/...</td>\n",
       "      <td>0.505698</td>\n",
       "      <td>0.802441</td>\n",
       "      <td>0.623337</td>\n",
       "      <td>0.819523</td>\n",
       "      <td>0.724431</td>\n",
       "      <td>0.866951</td>\n",
       "      <td>0.766957</td>\n",
       "      <td>...</td>\n",
       "      <td>0.733399</td>\n",
       "      <td>0.836653</td>\n",
       "      <td>0.734826</td>\n",
       "      <td>0.973842</td>\n",
       "      <td>0.690113</td>\n",
       "      <td>0.920887</td>\n",
       "      <td>0.695270</td>\n",
       "      <td>0.891187</td>\n",
       "      <td>0.717720</td>\n",
       "      <td>0.870878</td>\n",
       "    </tr>\n",
       "  </tbody>\n",
       "</table>\n",
       "<p>5 rows × 87 columns</p>\n",
       "</div>"
      ],
      "text/plain": [
       "   sequence_id  target                                               file  \\\n",
       "0           10       1  /Users/andreaamaya/Trabajo/megaproyecto_model/...   \n",
       "1           10       1  /Users/andreaamaya/Trabajo/megaproyecto_model/...   \n",
       "2           10       1  /Users/andreaamaya/Trabajo/megaproyecto_model/...   \n",
       "3           10       1  /Users/andreaamaya/Trabajo/megaproyecto_model/...   \n",
       "4           10       1  /Users/andreaamaya/Trabajo/megaproyecto_model/...   \n",
       "\n",
       "   x_Left_hand_0  y_Left_hand_0  x_Left_hand_1  y_Left_hand_1  x_Left_hand_2  \\\n",
       "0       0.997978       0.990872       1.000000       0.964105       0.961854   \n",
       "1       0.196888       0.922653       0.370620       0.888943       0.564521   \n",
       "2       0.977258       0.955845       0.913512       0.939515       0.866071   \n",
       "3       0.913439       0.979055       0.989445       0.947296       0.999634   \n",
       "4       0.505698       0.802441       0.623337       0.819523       0.724431   \n",
       "\n",
       "   y_Left_hand_2  x_Left_hand_3  ...  x_Right_hand_16  y_Right_hand_16  \\\n",
       "0       0.937798       0.910552  ...         0.752052         0.998761   \n",
       "1       0.893780       0.678303  ...         0.763794         0.877362   \n",
       "2       0.922077       0.845726  ...         0.687400         0.945477   \n",
       "3       0.918878       0.953991  ...         0.717194         0.888199   \n",
       "4       0.866951       0.766957  ...         0.733399         0.836653   \n",
       "\n",
       "   x_Right_hand_17  y_Right_hand_17  x_Right_hand_18  y_Right_hand_18  \\\n",
       "0         0.357431         0.936557         0.456564         0.963479   \n",
       "1         0.787851         0.994025         0.752125         0.951980   \n",
       "2         0.613591         0.934742         0.696290         0.976215   \n",
       "3         0.658020         0.869603         0.700982         0.922814   \n",
       "4         0.734826         0.973842         0.690113         0.920887   \n",
       "\n",
       "   x_Right_hand_19  y_Right_hand_19  x_Right_hand_20  y_Right_hand_20  \n",
       "0         0.528129         0.982331         0.581658         1.000000  \n",
       "1         0.746636         0.921804         0.745562         0.899534  \n",
       "2         0.659146         0.969925         0.624804         0.951577  \n",
       "3         0.679158         0.908925         0.663280         0.886977  \n",
       "4         0.695270         0.891187         0.717720         0.870878  \n",
       "\n",
       "[5 rows x 87 columns]"
      ]
     },
     "execution_count": 39,
     "metadata": {},
     "output_type": "execute_result"
    }
   ],
   "source": [
    "load_test_data = pd.read_csv(\"data/data_tests.csv\")\n",
    "load_test_data.head()"
   ]
  },
  {
   "cell_type": "code",
   "execution_count": 40,
   "metadata": {},
   "outputs": [],
   "source": [
    "padded_data, target = padding_videos(load_test_data)\n",
    "del padded_data[\"sequence_id\"] \n",
    "del padded_data[\"target\"] \n",
    "del padded_data[\"file\"] "
   ]
  },
  {
   "cell_type": "code",
   "execution_count": 41,
   "metadata": {},
   "outputs": [],
   "source": [
    "predicted = None\n",
    "if (max_key == \"SVM\"):\n",
    "    X_val = flat_X(padded_data)\n",
    "    predicted = svm_classifier.predict(X_val)\n",
    "elif (max_key == \"TREE\"):\n",
    "    X_val = flat_X(padded_data)\n",
    "    predicted = decision_tree.predict(X_val)\n",
    "else:\n",
    "    X_val = padded_data.values.reshape(cant_videos, max_seq_length, num_features_train)\n",
    "    predicted = cnn_model.predict(X_val)"
   ]
  },
  {
   "cell_type": "code",
   "execution_count": 42,
   "metadata": {},
   "outputs": [
    {
     "data": {
      "text/plain": [
       "[1, 2, 3]"
      ]
     },
     "execution_count": 42,
     "metadata": {},
     "output_type": "execute_result"
    }
   ],
   "source": [
    "target"
   ]
  },
  {
   "cell_type": "code",
   "execution_count": 43,
   "metadata": {},
   "outputs": [
    {
     "data": {
      "text/plain": [
       "array(['familia', 'ayuda', 'gracias'], dtype='<U9')"
      ]
     },
     "execution_count": 43,
     "metadata": {},
     "output_type": "execute_result"
    }
   ],
   "source": [
    "predicted"
   ]
  }
 ],
 "metadata": {
  "kernelspec": {
   "display_name": "Python 3.9.6 64-bit",
   "language": "python",
   "name": "python3"
  },
  "language_info": {
   "codemirror_mode": {
    "name": "ipython",
    "version": 3
   },
   "file_extension": ".py",
   "mimetype": "text/x-python",
   "name": "python",
   "nbconvert_exporter": "python",
   "pygments_lexer": "ipython3",
   "version": "3.7.0"
  },
  "orig_nbformat": 4,
  "vscode": {
   "interpreter": {
    "hash": "31f2aee4e71d21fbe5cf8b01ff0e069b9275f58929596ceb00d14d90e3e16cd6"
   }
  }
 },
 "nbformat": 4,
 "nbformat_minor": 2
}
