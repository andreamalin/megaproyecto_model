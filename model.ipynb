{
 "cells": [
  {
   "cell_type": "code",
   "execution_count": 48,
   "metadata": {},
   "outputs": [],
   "source": [
    "import pandas as pd\n",
    "import numpy as np\n",
    "import matplotlib.pyplot as plt\n",
    "\n",
    "from sklearn.preprocessing import OneHotEncoder\n",
    "from sklearn.preprocessing import LabelEncoder\n",
    "from sklearn.utils import class_weight\n",
    "\n",
    "from tensorflow.keras.models import Sequential\n",
    "from tensorflow.keras.layers import Dense\n",
    "from keras.layers import Flatten, Convolution2D, MaxPooling2D, Dropout\n",
    "\n",
    "from sklearn.tree import DecisionTreeClassifier\n",
    "from sklearn.ensemble import AdaBoostClassifier\n",
    "\n",
    "from sklearn.svm import SVC\n",
    "\n",
    "from Models import Models, PretrainedModels"
   ]
  },
  {
   "cell_type": "code",
   "execution_count": 49,
   "metadata": {},
   "outputs": [],
   "source": [
    "import random\n",
    "\n",
    "random.seed(10)"
   ]
  },
  {
   "attachments": {},
   "cell_type": "markdown",
   "metadata": {},
   "source": [
    "# Carga de datos"
   ]
  },
  {
   "cell_type": "code",
   "execution_count": 50,
   "metadata": {},
   "outputs": [],
   "source": [
    "train_data = pd.read_csv(\"data/train.csv\")\n",
    "test_data = pd.read_csv(\"data/validation.csv\")"
   ]
  },
  {
   "cell_type": "code",
   "execution_count": 51,
   "metadata": {},
   "outputs": [
    {
     "data": {
      "text/html": [
       "<div>\n",
       "<style scoped>\n",
       "    .dataframe tbody tr th:only-of-type {\n",
       "        vertical-align: middle;\n",
       "    }\n",
       "\n",
       "    .dataframe tbody tr th {\n",
       "        vertical-align: top;\n",
       "    }\n",
       "\n",
       "    .dataframe thead th {\n",
       "        text-align: right;\n",
       "    }\n",
       "</style>\n",
       "<table border=\"1\" class=\"dataframe\">\n",
       "  <thead>\n",
       "    <tr style=\"text-align: right;\">\n",
       "      <th></th>\n",
       "      <th>sequence_id</th>\n",
       "      <th>target</th>\n",
       "      <th>file</th>\n",
       "    </tr>\n",
       "  </thead>\n",
       "  <tbody>\n",
       "    <tr>\n",
       "      <th>0</th>\n",
       "      <td>1</td>\n",
       "      <td>adios</td>\n",
       "      <td>/Users/andreaamaya/Trabajo/megaproyecto_model/...</td>\n",
       "    </tr>\n",
       "    <tr>\n",
       "      <th>1</th>\n",
       "      <td>1</td>\n",
       "      <td>adios</td>\n",
       "      <td>/Users/andreaamaya/Trabajo/megaproyecto_model/...</td>\n",
       "    </tr>\n",
       "    <tr>\n",
       "      <th>2</th>\n",
       "      <td>1</td>\n",
       "      <td>adios</td>\n",
       "      <td>/Users/andreaamaya/Trabajo/megaproyecto_model/...</td>\n",
       "    </tr>\n",
       "    <tr>\n",
       "      <th>3</th>\n",
       "      <td>1</td>\n",
       "      <td>adios</td>\n",
       "      <td>/Users/andreaamaya/Trabajo/megaproyecto_model/...</td>\n",
       "    </tr>\n",
       "    <tr>\n",
       "      <th>4</th>\n",
       "      <td>1</td>\n",
       "      <td>adios</td>\n",
       "      <td>/Users/andreaamaya/Trabajo/megaproyecto_model/...</td>\n",
       "    </tr>\n",
       "  </tbody>\n",
       "</table>\n",
       "</div>"
      ],
      "text/plain": [
       "   sequence_id target                                               file\n",
       "0            1  adios  /Users/andreaamaya/Trabajo/megaproyecto_model/...\n",
       "1            1  adios  /Users/andreaamaya/Trabajo/megaproyecto_model/...\n",
       "2            1  adios  /Users/andreaamaya/Trabajo/megaproyecto_model/...\n",
       "3            1  adios  /Users/andreaamaya/Trabajo/megaproyecto_model/...\n",
       "4            1  adios  /Users/andreaamaya/Trabajo/megaproyecto_model/..."
      ]
     },
     "execution_count": 51,
     "metadata": {},
     "output_type": "execute_result"
    }
   ],
   "source": [
    "train_data.head()"
   ]
  },
  {
   "attachments": {},
   "cell_type": "markdown",
   "metadata": {},
   "source": [
    "# Analisis Exploratorio"
   ]
  },
  {
   "cell_type": "code",
   "execution_count": 52,
   "metadata": {},
   "outputs": [
    {
     "name": "stdout",
     "output_type": "stream",
     "text": [
      "--------------------Train data--------------------\n",
      "Cantidad de filas : 42150\n",
      "Frases unicas : ['aceite', 'adios', 'amigo', 'amor', 'arroz', 'ayuda', 'azucar', 'bebida', 'bolsas de basura', 'carne', 'casa', 'comida', 'crema humectante', 'curitas', 'desinfectante', 'dinero', 'dosificación', 'efectos secundarios', 'enfado', 'entender', 'escuela', 'familia', 'feliz', 'frutas', 'galletas', 'gotas', 'gracias', 'hola', 'huevos', 'inhalador', 'jabon', 'jarabe', 'leche', 'loción', 'mantequilla', 'mascarilla', 'medicamento', 'medico', 'necesitar', 'no', 'pan', 'papel higienico', 'pasta', 'pastillas', 'pañuelos', 'pescado', 'pomada', 'por favor', 'querer', 'queso', 'sal', 'salud', 'shampoo', 'si', 'solución salina', 'sopa', 'termómetro', 'termómetro digital', 'tiempo', 'trabajo', 'triste', 'vendaje', 'verduras', 'vitaminas']\n"
     ]
    }
   ],
   "source": [
    "print(\"--------------------Train data--------------------\")\n",
    "print(f\"Cantidad de filas : {train_data.shape[0]}\")\n",
    "train_letters = list(train_data.target.unique())\n",
    "train_letters.sort()\n",
    "print(f\"Frases unicas : {train_letters}\")"
   ]
  },
  {
   "cell_type": "code",
   "execution_count": 53,
   "metadata": {},
   "outputs": [
    {
     "name": "stdout",
     "output_type": "stream",
     "text": [
      "--------------------Test data--------------------\n",
      "Cantidad de filas : 3210\n",
      "Frases unicas : ['aceite', 'adios', 'amigo', 'amor', 'arroz', 'ayuda', 'azucar', 'bebida', 'bolsas de basura', 'carne', 'casa', 'comida', 'crema humectante', 'curitas', 'desinfectante', 'dinero', 'dosificación', 'efectos secundarios', 'enfado', 'entender', 'escuela', 'familia', 'feliz', 'frutas', 'galletas', 'gotas', 'gracias', 'hola', 'huevos', 'inhalador', 'jabon', 'jarabe', 'leche', 'loción', 'mantequilla', 'mascarilla', 'medicamento', 'medico', 'necesitar', 'no', 'pan', 'papel higienico', 'pasta', 'pastillas', 'pañuelos', 'pescado', 'pomada', 'por favor', 'querer', 'queso', 'sal', 'salud', 'shampoo', 'si', 'solución salina', 'sopa', 'termómetro', 'termómetro digital', 'tiempo', 'trabajo', 'triste', 'vendaje', 'verduras', 'vitaminas']\n"
     ]
    }
   ],
   "source": [
    "print(\"--------------------Test data--------------------\")\n",
    "print(f\"Cantidad de filas : {test_data.shape[0]}\")\n",
    "test_letters = list(test_data.target.unique())\n",
    "test_letters.sort()\n",
    "print(f\"Frases unicas : {test_letters}\")"
   ]
  },
  {
   "cell_type": "code",
   "execution_count": 54,
   "metadata": {},
   "outputs": [],
   "source": [
    "if (test_letters != train_letters):\n",
    "    raise ValueError(\"Error between target and train\")"
   ]
  },
  {
   "cell_type": "code",
   "execution_count": 55,
   "metadata": {},
   "outputs": [
    {
     "data": {
      "text/html": [
       "<div>\n",
       "<style scoped>\n",
       "    .dataframe tbody tr th:only-of-type {\n",
       "        vertical-align: middle;\n",
       "    }\n",
       "\n",
       "    .dataframe tbody tr th {\n",
       "        vertical-align: top;\n",
       "    }\n",
       "\n",
       "    .dataframe thead th {\n",
       "        text-align: right;\n",
       "    }\n",
       "</style>\n",
       "<table border=\"1\" class=\"dataframe\">\n",
       "  <thead>\n",
       "    <tr style=\"text-align: right;\">\n",
       "      <th></th>\n",
       "      <th>sequence_id</th>\n",
       "    </tr>\n",
       "  </thead>\n",
       "  <tbody>\n",
       "    <tr>\n",
       "      <th>count</th>\n",
       "      <td>42150.000000</td>\n",
       "    </tr>\n",
       "    <tr>\n",
       "      <th>mean</th>\n",
       "      <td>806.157295</td>\n",
       "    </tr>\n",
       "    <tr>\n",
       "      <th>std</th>\n",
       "      <td>498.237805</td>\n",
       "    </tr>\n",
       "    <tr>\n",
       "      <th>min</th>\n",
       "      <td>1.000000</td>\n",
       "    </tr>\n",
       "    <tr>\n",
       "      <th>25%</th>\n",
       "      <td>362.000000</td>\n",
       "    </tr>\n",
       "    <tr>\n",
       "      <th>50%</th>\n",
       "      <td>762.000000</td>\n",
       "    </tr>\n",
       "    <tr>\n",
       "      <th>75%</th>\n",
       "      <td>1285.000000</td>\n",
       "    </tr>\n",
       "    <tr>\n",
       "      <th>max</th>\n",
       "      <td>1636.000000</td>\n",
       "    </tr>\n",
       "  </tbody>\n",
       "</table>\n",
       "</div>"
      ],
      "text/plain": [
       "        sequence_id\n",
       "count  42150.000000\n",
       "mean     806.157295\n",
       "std      498.237805\n",
       "min        1.000000\n",
       "25%      362.000000\n",
       "50%      762.000000\n",
       "75%     1285.000000\n",
       "max     1636.000000"
      ]
     },
     "execution_count": 55,
     "metadata": {},
     "output_type": "execute_result"
    }
   ],
   "source": [
    "train_data.describe()"
   ]
  },
  {
   "attachments": {},
   "cell_type": "markdown",
   "metadata": {},
   "source": [
    "# Preprocesamiento del Modelo"
   ]
  },
  {
   "attachments": {},
   "cell_type": "markdown",
   "metadata": {},
   "source": [
    "Solo se obtienen 20 indices de las coordenadas x y y, ya que son las unicas que han sido altamente entrenadas del modelo mediapipe de Google"
   ]
  },
  {
   "cell_type": "code",
   "execution_count": 56,
   "metadata": {},
   "outputs": [],
   "source": [
    "def get_needed_cols():\n",
    "    cols = []\n",
    "\n",
    "    for i in range(21):\n",
    "        cols.append(f'x_Right_hand_{i}')\n",
    "        cols.append(f'y_Right_hand_{i}')\n",
    "        cols.append(f'x_Left_hand_{i}')\n",
    "        cols.append(f'y_Left_hand_{i}')\n",
    "    \n",
    "    return cols"
   ]
  },
  {
   "cell_type": "code",
   "execution_count": 57,
   "metadata": {},
   "outputs": [],
   "source": [
    "df = pd.read_csv(\"data/data.csv\")\n",
    "df_test = df[df['sequence_id'].isin(test_data['sequence_id'])]\n",
    "df_train = df[df['sequence_id'].isin(train_data['sequence_id'])]"
   ]
  },
  {
   "cell_type": "code",
   "execution_count": 58,
   "metadata": {},
   "outputs": [
    {
     "data": {
      "text/html": [
       "<div>\n",
       "<style scoped>\n",
       "    .dataframe tbody tr th:only-of-type {\n",
       "        vertical-align: middle;\n",
       "    }\n",
       "\n",
       "    .dataframe tbody tr th {\n",
       "        vertical-align: top;\n",
       "    }\n",
       "\n",
       "    .dataframe thead th {\n",
       "        text-align: right;\n",
       "    }\n",
       "</style>\n",
       "<table border=\"1\" class=\"dataframe\">\n",
       "  <thead>\n",
       "    <tr style=\"text-align: right;\">\n",
       "      <th></th>\n",
       "      <th>sequence_id</th>\n",
       "      <th>target</th>\n",
       "      <th>x_Left_hand_0</th>\n",
       "      <th>y_Left_hand_0</th>\n",
       "      <th>x_Left_hand_1</th>\n",
       "      <th>y_Left_hand_1</th>\n",
       "      <th>x_Left_hand_2</th>\n",
       "      <th>y_Left_hand_2</th>\n",
       "      <th>x_Left_hand_3</th>\n",
       "      <th>y_Left_hand_3</th>\n",
       "      <th>...</th>\n",
       "      <th>x_Right_hand_16</th>\n",
       "      <th>y_Right_hand_16</th>\n",
       "      <th>x_Right_hand_17</th>\n",
       "      <th>y_Right_hand_17</th>\n",
       "      <th>x_Right_hand_18</th>\n",
       "      <th>y_Right_hand_18</th>\n",
       "      <th>x_Right_hand_19</th>\n",
       "      <th>y_Right_hand_19</th>\n",
       "      <th>x_Right_hand_20</th>\n",
       "      <th>y_Right_hand_20</th>\n",
       "    </tr>\n",
       "  </thead>\n",
       "  <tbody>\n",
       "    <tr>\n",
       "      <th>0</th>\n",
       "      <td>1</td>\n",
       "      <td>adios</td>\n",
       "      <td>0.189560</td>\n",
       "      <td>0.0</td>\n",
       "      <td>0.689331</td>\n",
       "      <td>0.109569</td>\n",
       "      <td>0.907900</td>\n",
       "      <td>0.290353</td>\n",
       "      <td>0.937767</td>\n",
       "      <td>0.462094</td>\n",
       "      <td>...</td>\n",
       "      <td>0.0</td>\n",
       "      <td>0.0</td>\n",
       "      <td>0.0</td>\n",
       "      <td>0.0</td>\n",
       "      <td>0.0</td>\n",
       "      <td>0.0</td>\n",
       "      <td>0.0</td>\n",
       "      <td>0.0</td>\n",
       "      <td>0.0</td>\n",
       "      <td>0.0</td>\n",
       "    </tr>\n",
       "    <tr>\n",
       "      <th>1</th>\n",
       "      <td>1</td>\n",
       "      <td>adios</td>\n",
       "      <td>0.261204</td>\n",
       "      <td>0.0</td>\n",
       "      <td>0.673647</td>\n",
       "      <td>0.132535</td>\n",
       "      <td>0.875866</td>\n",
       "      <td>0.333381</td>\n",
       "      <td>0.931140</td>\n",
       "      <td>0.498942</td>\n",
       "      <td>...</td>\n",
       "      <td>0.0</td>\n",
       "      <td>0.0</td>\n",
       "      <td>0.0</td>\n",
       "      <td>0.0</td>\n",
       "      <td>0.0</td>\n",
       "      <td>0.0</td>\n",
       "      <td>0.0</td>\n",
       "      <td>0.0</td>\n",
       "      <td>0.0</td>\n",
       "      <td>0.0</td>\n",
       "    </tr>\n",
       "    <tr>\n",
       "      <th>2</th>\n",
       "      <td>1</td>\n",
       "      <td>adios</td>\n",
       "      <td>0.179029</td>\n",
       "      <td>0.0</td>\n",
       "      <td>0.642707</td>\n",
       "      <td>0.112931</td>\n",
       "      <td>0.868939</td>\n",
       "      <td>0.298907</td>\n",
       "      <td>0.917407</td>\n",
       "      <td>0.466914</td>\n",
       "      <td>...</td>\n",
       "      <td>0.0</td>\n",
       "      <td>0.0</td>\n",
       "      <td>0.0</td>\n",
       "      <td>0.0</td>\n",
       "      <td>0.0</td>\n",
       "      <td>0.0</td>\n",
       "      <td>0.0</td>\n",
       "      <td>0.0</td>\n",
       "      <td>0.0</td>\n",
       "      <td>0.0</td>\n",
       "    </tr>\n",
       "    <tr>\n",
       "      <th>3</th>\n",
       "      <td>1</td>\n",
       "      <td>adios</td>\n",
       "      <td>0.364079</td>\n",
       "      <td>0.0</td>\n",
       "      <td>0.754242</td>\n",
       "      <td>0.154486</td>\n",
       "      <td>0.963624</td>\n",
       "      <td>0.357678</td>\n",
       "      <td>1.000000</td>\n",
       "      <td>0.522868</td>\n",
       "      <td>...</td>\n",
       "      <td>0.0</td>\n",
       "      <td>0.0</td>\n",
       "      <td>0.0</td>\n",
       "      <td>0.0</td>\n",
       "      <td>0.0</td>\n",
       "      <td>0.0</td>\n",
       "      <td>0.0</td>\n",
       "      <td>0.0</td>\n",
       "      <td>0.0</td>\n",
       "      <td>0.0</td>\n",
       "    </tr>\n",
       "    <tr>\n",
       "      <th>4</th>\n",
       "      <td>1</td>\n",
       "      <td>adios</td>\n",
       "      <td>0.588405</td>\n",
       "      <td>0.0</td>\n",
       "      <td>0.895435</td>\n",
       "      <td>0.207583</td>\n",
       "      <td>1.000000</td>\n",
       "      <td>0.423537</td>\n",
       "      <td>0.926369</td>\n",
       "      <td>0.583810</td>\n",
       "      <td>...</td>\n",
       "      <td>0.0</td>\n",
       "      <td>0.0</td>\n",
       "      <td>0.0</td>\n",
       "      <td>0.0</td>\n",
       "      <td>0.0</td>\n",
       "      <td>0.0</td>\n",
       "      <td>0.0</td>\n",
       "      <td>0.0</td>\n",
       "      <td>0.0</td>\n",
       "      <td>0.0</td>\n",
       "    </tr>\n",
       "  </tbody>\n",
       "</table>\n",
       "<p>5 rows × 86 columns</p>\n",
       "</div>"
      ],
      "text/plain": [
       "   sequence_id target  x_Left_hand_0  y_Left_hand_0  x_Left_hand_1  \\\n",
       "0            1  adios       0.189560            0.0       0.689331   \n",
       "1            1  adios       0.261204            0.0       0.673647   \n",
       "2            1  adios       0.179029            0.0       0.642707   \n",
       "3            1  adios       0.364079            0.0       0.754242   \n",
       "4            1  adios       0.588405            0.0       0.895435   \n",
       "\n",
       "   y_Left_hand_1  x_Left_hand_2  y_Left_hand_2  x_Left_hand_3  y_Left_hand_3  \\\n",
       "0       0.109569       0.907900       0.290353       0.937767       0.462094   \n",
       "1       0.132535       0.875866       0.333381       0.931140       0.498942   \n",
       "2       0.112931       0.868939       0.298907       0.917407       0.466914   \n",
       "3       0.154486       0.963624       0.357678       1.000000       0.522868   \n",
       "4       0.207583       1.000000       0.423537       0.926369       0.583810   \n",
       "\n",
       "   ...  x_Right_hand_16  y_Right_hand_16  x_Right_hand_17  y_Right_hand_17  \\\n",
       "0  ...              0.0              0.0              0.0              0.0   \n",
       "1  ...              0.0              0.0              0.0              0.0   \n",
       "2  ...              0.0              0.0              0.0              0.0   \n",
       "3  ...              0.0              0.0              0.0              0.0   \n",
       "4  ...              0.0              0.0              0.0              0.0   \n",
       "\n",
       "   x_Right_hand_18  y_Right_hand_18  x_Right_hand_19  y_Right_hand_19  \\\n",
       "0              0.0              0.0              0.0              0.0   \n",
       "1              0.0              0.0              0.0              0.0   \n",
       "2              0.0              0.0              0.0              0.0   \n",
       "3              0.0              0.0              0.0              0.0   \n",
       "4              0.0              0.0              0.0              0.0   \n",
       "\n",
       "   x_Right_hand_20  y_Right_hand_20  \n",
       "0              0.0              0.0  \n",
       "1              0.0              0.0  \n",
       "2              0.0              0.0  \n",
       "3              0.0              0.0  \n",
       "4              0.0              0.0  \n",
       "\n",
       "[5 rows x 86 columns]"
      ]
     },
     "execution_count": 58,
     "metadata": {},
     "output_type": "execute_result"
    }
   ],
   "source": [
    "df.head()"
   ]
  },
  {
   "cell_type": "code",
   "execution_count": 59,
   "metadata": {},
   "outputs": [
    {
     "name": "stdout",
     "output_type": "stream",
     "text": [
      "48780\n",
      "True\n",
      "True\n"
     ]
    }
   ],
   "source": [
    "print(len(df))\n",
    "print(len(df_test) == len(test_data))\n",
    "print(len(df_train) == len(train_data))"
   ]
  },
  {
   "cell_type": "markdown",
   "metadata": {},
   "source": [
    "# Modelo"
   ]
  },
  {
   "cell_type": "code",
   "execution_count": 60,
   "metadata": {},
   "outputs": [
    {
     "data": {
      "image/png": "[encoded data removed]",
      "text/plain": [
       "<Figure size 640x480 with 1 Axes>"
      ]
     },
     "metadata": {},
     "output_type": "display_data"
    }
   ],
   "source": [
    "# Compute the lengths of the video sequences\n",
    "video_lengths = df.groupby('sequence_id').size()\n",
    "max_seq_length = video_lengths.max()\n",
    "# max_seq_length = 30\n",
    "# Plot the histogram\n",
    "plt.hist(video_lengths, bins=30)  # Adjust the number of bins as needed\n",
    "plt.xlabel('Video Length')\n",
    "plt.ylabel('Frequency')\n",
    "plt.title('Histogram of Video Lengths')\n",
    "plt.show()"
   ]
  },
  {
   "cell_type": "code",
   "execution_count": 61,
   "metadata": {},
   "outputs": [
    {
     "data": {
      "text/plain": [
       "30"
      ]
     },
     "execution_count": 61,
     "metadata": {},
     "output_type": "execute_result"
    }
   ],
   "source": [
    "video_lengths.max()"
   ]
  },
  {
   "cell_type": "code",
   "execution_count": 62,
   "metadata": {},
   "outputs": [],
   "source": [
    "# Create a one-hot encoder\n",
    "label_encoder = LabelEncoder()"
   ]
  },
  {
   "cell_type": "code",
   "execution_count": 63,
   "metadata": {},
   "outputs": [],
   "source": [
    "def padding_labels(target):\n",
    "    integer_encoded = label_encoder.fit_transform(target)\n",
    "    integer_encoded = integer_encoded.reshape(-1, 1)\n",
    "\n",
    "    # Encode the word \"Hello\"\n",
    "    onehot_encoder = OneHotEncoder(sparse=False)  # sparse=False to get a numpy array as output\n",
    "    onehot_encoded = onehot_encoder.fit_transform(integer_encoded)\n",
    "    return onehot_encoded"
   ]
  },
  {
   "cell_type": "code",
   "execution_count": 64,
   "metadata": {},
   "outputs": [],
   "source": [
    "target_train = df_train['target'][df_train.groupby('sequence_id').cumcount() == 0].tolist()"
   ]
  },
  {
   "cell_type": "code",
   "execution_count": 65,
   "metadata": {},
   "outputs": [
    {
     "name": "stderr",
     "output_type": "stream",
     "text": [
      "/Users/andreaamaya/Library/Python/3.9/lib/python/site-packages/sklearn/preprocessing/_encoders.py:972: FutureWarning: `sparse` was renamed to `sparse_output` in version 1.2 and will be removed in 1.4. `sparse_output` is ignored unless you leave `sparse` to its default value.\n",
      "  warnings.warn(\n"
     ]
    }
   ],
   "source": [
    "X_train = df_train\n",
    "y_train = padding_labels(target_train)"
   ]
  },
  {
   "cell_type": "code",
   "execution_count": 66,
   "metadata": {},
   "outputs": [
    {
     "name": "stdout",
     "output_type": "stream",
     "text": [
      "42150 1405\n"
     ]
    }
   ],
   "source": [
    "del X_train[\"sequence_id\"] \n",
    "del X_train[\"target\"] \n",
    "\n",
    "print(len(X_train), len(y_train))"
   ]
  },
  {
   "cell_type": "code",
   "execution_count": 67,
   "metadata": {},
   "outputs": [],
   "source": [
    "target_test = df_test['target'][df_test.groupby('sequence_id').cumcount() == 0].tolist()"
   ]
  },
  {
   "cell_type": "code",
   "execution_count": 68,
   "metadata": {},
   "outputs": [
    {
     "name": "stderr",
     "output_type": "stream",
     "text": [
      "/Users/andreaamaya/Library/Python/3.9/lib/python/site-packages/sklearn/preprocessing/_encoders.py:972: FutureWarning: `sparse` was renamed to `sparse_output` in version 1.2 and will be removed in 1.4. `sparse_output` is ignored unless you leave `sparse` to its default value.\n",
      "  warnings.warn(\n"
     ]
    }
   ],
   "source": [
    "X_test = df_test\n",
    "y_test = padding_labels(target_test)"
   ]
  },
  {
   "cell_type": "code",
   "execution_count": 69,
   "metadata": {},
   "outputs": [
    {
     "name": "stdout",
     "output_type": "stream",
     "text": [
      "3210 107\n"
     ]
    }
   ],
   "source": [
    "del X_test[\"sequence_id\"] \n",
    "del X_test[\"target\"] \n",
    "\n",
    "print(len(X_test), len(y_test))"
   ]
  },
  {
   "cell_type": "code",
   "execution_count": 70,
   "metadata": {},
   "outputs": [
    {
     "data": {
      "text/plain": [
       "False"
      ]
     },
     "execution_count": 70,
     "metadata": {},
     "output_type": "execute_result"
    }
   ],
   "source": [
    "len(y_train) + len(y_test) == len(df[\"sequence_id\"].unique())"
   ]
  },
  {
   "cell_type": "code",
   "execution_count": 71,
   "metadata": {},
   "outputs": [],
   "source": [
    "models = Models()"
   ]
  },
  {
   "cell_type": "code",
   "execution_count": 72,
   "metadata": {},
   "outputs": [],
   "source": [
    "X_test_flat = models.get_flat_X(X_test)"
   ]
  },
  {
   "cell_type": "code",
   "execution_count": 73,
   "metadata": {},
   "outputs": [],
   "source": [
    "X_test = models.get_three_dimensions(X_test)"
   ]
  },
  {
   "cell_type": "code",
   "execution_count": 74,
   "metadata": {},
   "outputs": [],
   "source": [
    "X_train_flat = models.get_flat_X(X_train)"
   ]
  },
  {
   "cell_type": "code",
   "execution_count": 75,
   "metadata": {},
   "outputs": [],
   "source": [
    "X_train = models.get_three_dimensions(X_train)"
   ]
  },
  {
   "cell_type": "code",
   "execution_count": 76,
   "metadata": {},
   "outputs": [
    {
     "name": "stdout",
     "output_type": "stream",
     "text": [
      "Train: (1405, 30, 84) (1405, 64)\n",
      "Test: (107, 30, 84) (107, 64)\n"
     ]
    }
   ],
   "source": [
    "print('Train:', X_train.shape, y_train.shape)\n",
    "print('Test:', X_test.shape, y_test.shape)"
   ]
  },
  {
   "cell_type": "markdown",
   "metadata": {},
   "source": [
    "# Modelo\n",
    "La entrada son las coordenadas de las manos. Cada video cuenta con n cantidad de filas, 84 columnas (21 columnas por cada coordenada y por ambas manos).\n",
    "La salida es la frase. La frase se representa por un entero que da el one hot encoder.\n",
    "\n",
    "Se usa convoluciones para resaltar las caracteristicas en la entrada. Debido a que la entrada son coordenadas normalizadas de un video, se supone que funciona igual que si la entrada fuera una imagen. Estas redes extraen caracteristicas de forma automatica para clasificar objetos luego. Al buscar patrones, se espera que pueda predecir un video que ya ha sido entrenado previamente.\n",
    "\n",
    "Se reduce el tamaño de la entrada haciendo uso de max pooling y flatten.\n",
    "\n",
    "Se hace uso de Dense para conectar entradas con salidas.\n",
    "\n",
    "Se hace uso de Dropout para evitar el sobreajuste.\n",
    "\n",
    "Relu elimina negativos. \n",
    "Sigmoid nos ayuda a obtener la probabilidad de que un ejemplo pertenezca a la clase positiva.\n",
    "Softmax hace clasificacion multiclase (en nuestro caso las palabras a predecir)."
   ]
  },
  {
   "cell_type": "code",
   "execution_count": 77,
   "metadata": {},
   "outputs": [],
   "source": [
    "class_weights = class_weight.compute_class_weight(\n",
    "                                        class_weight = \"balanced\",\n",
    "                                        classes = np.unique(target_train),\n",
    "                                        y = target_train                                                    \n",
    "                                    )\n",
    "class_weights = dict(zip(np.unique(target_train), class_weights))"
   ]
  },
  {
   "cell_type": "code",
   "execution_count": 78,
   "metadata": {},
   "outputs": [],
   "source": [
    "cnn_model = Sequential()\n",
    "cnn_model.add(Convolution2D(128, (3, 3), padding=\"same\", input_shape=(max_seq_length, models.num_features, 1), activation='relu'))\n",
    "cnn_model.add(MaxPooling2D(pool_size=(2, 2)))\n",
    "\n",
    "# cnn_model.add(Convolution2D(64, (3, 3), activation='relu'))\n",
    "# cnn_model.add(MaxPooling2D(pool_size=(2, 2)))\n",
    "\n",
    "# cnn_model.add(Convolution2D(128, (3, 3), activation='relu'))\n",
    "# cnn_model.add(MaxPooling2D(pool_size=(2, 2)))\n",
    "\n",
    "\n",
    "cnn_model.add(Convolution2D(256, (3, 3), padding=\"same\", activation='relu'))\n",
    "cnn_model.add(MaxPooling2D(pool_size=(2, 2), strides=2))\n",
    "\n",
    "\n",
    "cnn_model.add(Flatten())\n",
    "\n",
    "cnn_model.add(Dense(256, activation='relu'))\n",
    "cnn_model.add(Dropout(0.5))\n",
    "cnn_model.add(Dense(len(y_train[1]), activation='softmax'))"
   ]
  },
  {
   "cell_type": "code",
   "execution_count": 79,
   "metadata": {},
   "outputs": [
    {
     "name": "stdout",
     "output_type": "stream",
     "text": [
      "Epoch 1/50\n",
      "176/176 [==============================] - 10s 52ms/step - loss: 3.9678 - accuracy: 0.0527 - val_loss: 3.6686 - val_accuracy: 0.0841\n",
      "Epoch 2/50\n",
      "176/176 [==============================] - 9s 50ms/step - loss: 2.8223 - accuracy: 0.2626 - val_loss: 2.8536 - val_accuracy: 0.2523\n",
      "Epoch 3/50\n",
      "176/176 [==============================] - 9s 51ms/step - loss: 1.7347 - accuracy: 0.5046 - val_loss: 2.5518 - val_accuracy: 0.3084\n",
      "Epoch 4/50\n",
      "176/176 [==============================] - 9s 49ms/step - loss: 1.1547 - accuracy: 0.6569 - val_loss: 2.3216 - val_accuracy: 0.3925\n",
      "Epoch 5/50\n",
      "176/176 [==============================] - 9s 52ms/step - loss: 0.8000 - accuracy: 0.7630 - val_loss: 2.3330 - val_accuracy: 0.4206\n",
      "Epoch 6/50\n",
      "176/176 [==============================] - 9s 50ms/step - loss: 0.6220 - accuracy: 0.8107 - val_loss: 2.1509 - val_accuracy: 0.4766\n",
      "Epoch 7/50\n",
      "176/176 [==============================] - 9s 51ms/step - loss: 0.4725 - accuracy: 0.8505 - val_loss: 2.4371 - val_accuracy: 0.4673\n",
      "Epoch 8/50\n",
      "176/176 [==============================] - 9s 50ms/step - loss: 0.3865 - accuracy: 0.8790 - val_loss: 2.2872 - val_accuracy: 0.4766\n",
      "Epoch 9/50\n",
      "176/176 [==============================] - 9s 49ms/step - loss: 0.3167 - accuracy: 0.9060 - val_loss: 2.0290 - val_accuracy: 0.5234\n",
      "Epoch 10/50\n",
      "176/176 [==============================] - 9s 50ms/step - loss: 0.2793 - accuracy: 0.9174 - val_loss: 2.1528 - val_accuracy: 0.5607\n",
      "Epoch 11/50\n",
      "176/176 [==============================] - 9s 51ms/step - loss: 0.2581 - accuracy: 0.9203 - val_loss: 2.1083 - val_accuracy: 0.5421\n",
      "Epoch 12/50\n",
      "176/176 [==============================] - 9s 50ms/step - loss: 0.1981 - accuracy: 0.9338 - val_loss: 2.6644 - val_accuracy: 0.5327\n",
      "Epoch 13/50\n",
      "176/176 [==============================] - 9s 49ms/step - loss: 0.2150 - accuracy: 0.9402 - val_loss: 2.9255 - val_accuracy: 0.4766\n",
      "Epoch 14/50\n",
      "176/176 [==============================] - 9s 51ms/step - loss: 0.1604 - accuracy: 0.9502 - val_loss: 2.6453 - val_accuracy: 0.5421\n",
      "Epoch 15/50\n",
      "176/176 [==============================] - 9s 50ms/step - loss: 0.1700 - accuracy: 0.9523 - val_loss: 2.6632 - val_accuracy: 0.5234\n",
      "Epoch 16/50\n",
      "176/176 [==============================] - 9s 49ms/step - loss: 0.1649 - accuracy: 0.9495 - val_loss: 2.6883 - val_accuracy: 0.5234\n",
      "Epoch 17/50\n",
      "176/176 [==============================] - 9s 50ms/step - loss: 0.1399 - accuracy: 0.9566 - val_loss: 2.9020 - val_accuracy: 0.5794\n",
      "Epoch 18/50\n",
      "176/176 [==============================] - 9s 51ms/step - loss: 0.1211 - accuracy: 0.9601 - val_loss: 2.7674 - val_accuracy: 0.5327\n",
      "Epoch 19/50\n",
      "176/176 [==============================] - 9s 51ms/step - loss: 0.1490 - accuracy: 0.9537 - val_loss: 3.3645 - val_accuracy: 0.5047\n",
      "Epoch 20/50\n",
      "176/176 [==============================] - 9s 50ms/step - loss: 0.1483 - accuracy: 0.9523 - val_loss: 3.0281 - val_accuracy: 0.5607\n",
      "Epoch 21/50\n",
      "176/176 [==============================] - 9s 52ms/step - loss: 0.1320 - accuracy: 0.9559 - val_loss: 3.3679 - val_accuracy: 0.5421\n",
      "Epoch 22/50\n",
      "176/176 [==============================] - 9s 50ms/step - loss: 0.1034 - accuracy: 0.9680 - val_loss: 3.0581 - val_accuracy: 0.5234\n",
      "Epoch 23/50\n",
      "176/176 [==============================] - 9s 51ms/step - loss: 0.1065 - accuracy: 0.9644 - val_loss: 2.8118 - val_accuracy: 0.5421\n",
      "Epoch 24/50\n",
      "176/176 [==============================] - 9s 51ms/step - loss: 0.1131 - accuracy: 0.9573 - val_loss: 2.9631 - val_accuracy: 0.5421\n",
      "Epoch 25/50\n",
      "176/176 [==============================] - 9s 50ms/step - loss: 0.1298 - accuracy: 0.9609 - val_loss: 2.9205 - val_accuracy: 0.5514\n",
      "Epoch 26/50\n",
      "176/176 [==============================] - 9s 50ms/step - loss: 0.0903 - accuracy: 0.9722 - val_loss: 3.1286 - val_accuracy: 0.5327\n",
      "Epoch 27/50\n",
      "176/176 [==============================] - 9s 50ms/step - loss: 0.0977 - accuracy: 0.9687 - val_loss: 2.9092 - val_accuracy: 0.5794\n",
      "Epoch 28/50\n",
      "176/176 [==============================] - 9s 51ms/step - loss: 0.0982 - accuracy: 0.9737 - val_loss: 2.9868 - val_accuracy: 0.5140\n",
      "Epoch 29/50\n",
      "176/176 [==============================] - 9s 50ms/step - loss: 0.0855 - accuracy: 0.9701 - val_loss: 3.0260 - val_accuracy: 0.5234\n",
      "Epoch 30/50\n",
      "176/176 [==============================] - 9s 50ms/step - loss: 0.0744 - accuracy: 0.9779 - val_loss: 3.2521 - val_accuracy: 0.4860\n",
      "Epoch 31/50\n",
      "176/176 [==============================] - 9s 52ms/step - loss: 0.0633 - accuracy: 0.9772 - val_loss: 3.1586 - val_accuracy: 0.5514\n",
      "Epoch 32/50\n",
      "176/176 [==============================] - 9s 50ms/step - loss: 0.1027 - accuracy: 0.9623 - val_loss: 3.1396 - val_accuracy: 0.5327\n",
      "Epoch 33/50\n",
      "176/176 [==============================] - 9s 49ms/step - loss: 0.0982 - accuracy: 0.9722 - val_loss: 3.5621 - val_accuracy: 0.5514\n",
      "Epoch 34/50\n",
      "176/176 [==============================] - 9s 51ms/step - loss: 0.0871 - accuracy: 0.9779 - val_loss: 2.6667 - val_accuracy: 0.6636\n",
      "Epoch 35/50\n",
      "176/176 [==============================] - 9s 50ms/step - loss: 0.0632 - accuracy: 0.9822 - val_loss: 3.5612 - val_accuracy: 0.5514\n",
      "Epoch 36/50\n",
      "176/176 [==============================] - 9s 50ms/step - loss: 0.0732 - accuracy: 0.9772 - val_loss: 3.1684 - val_accuracy: 0.5888\n",
      "Epoch 37/50\n",
      "176/176 [==============================] - 9s 50ms/step - loss: 0.0611 - accuracy: 0.9836 - val_loss: 3.3894 - val_accuracy: 0.5607\n",
      "Epoch 38/50\n",
      "176/176 [==============================] - 9s 52ms/step - loss: 0.0798 - accuracy: 0.9765 - val_loss: 3.0325 - val_accuracy: 0.5234\n",
      "Epoch 39/50\n",
      "176/176 [==============================] - 9s 50ms/step - loss: 0.0650 - accuracy: 0.9794 - val_loss: 2.9661 - val_accuracy: 0.5607\n",
      "Epoch 40/50\n",
      "176/176 [==============================] - 9s 50ms/step - loss: 0.0557 - accuracy: 0.9808 - val_loss: 2.8151 - val_accuracy: 0.5421\n",
      "Epoch 41/50\n",
      "176/176 [==============================] - 9s 50ms/step - loss: 0.0820 - accuracy: 0.9701 - val_loss: 3.2778 - val_accuracy: 0.5514\n",
      "Epoch 42/50\n",
      "176/176 [==============================] - 9s 51ms/step - loss: 0.0617 - accuracy: 0.9858 - val_loss: 3.5425 - val_accuracy: 0.5607\n",
      "Epoch 43/50\n",
      "176/176 [==============================] - 9s 50ms/step - loss: 0.0479 - accuracy: 0.9836 - val_loss: 3.7308 - val_accuracy: 0.5888\n",
      "Epoch 44/50\n",
      "176/176 [==============================] - 9s 50ms/step - loss: 0.0861 - accuracy: 0.9737 - val_loss: 3.4436 - val_accuracy: 0.5701\n",
      "Epoch 45/50\n",
      "176/176 [==============================] - 9s 52ms/step - loss: 0.0660 - accuracy: 0.9765 - val_loss: 3.3220 - val_accuracy: 0.5421\n",
      "Epoch 46/50\n",
      "176/176 [==============================] - 9s 50ms/step - loss: 0.0688 - accuracy: 0.9815 - val_loss: 3.0591 - val_accuracy: 0.5607\n",
      "Epoch 47/50\n",
      "176/176 [==============================] - 9s 51ms/step - loss: 0.0607 - accuracy: 0.9772 - val_loss: 3.7853 - val_accuracy: 0.5607\n",
      "Epoch 48/50\n",
      "176/176 [==============================] - 9s 51ms/step - loss: 0.0618 - accuracy: 0.9801 - val_loss: 3.9690 - val_accuracy: 0.5140\n",
      "Epoch 49/50\n",
      "176/176 [==============================] - 9s 50ms/step - loss: 0.0462 - accuracy: 0.9836 - val_loss: 3.7761 - val_accuracy: 0.5140\n",
      "Epoch 50/50\n",
      "176/176 [==============================] - 9s 52ms/step - loss: 0.0630 - accuracy: 0.9822 - val_loss: 3.5398 - val_accuracy: 0.5514\n",
      "4/4 [==============================] - 0s 36ms/step\n",
      "4/4 [==============================] - 0s 36ms/step - loss: 3.5398 - accuracy: 0.5514\n",
      "Test Accuracy: 0.5514018535614014\n"
     ]
    }
   ],
   "source": [
    "# Compile the model\n",
    "cnn_model.compile(loss='categorical_crossentropy', optimizer='adam', metrics=['accuracy'])\n",
    "\n",
    "# Train the model\n",
    "history = cnn_model.fit(X_train, y_train, epochs=50, batch_size=8, validation_data=(X_test, y_test))\n",
    "# Get the predictions from the model\n",
    "y_pred_cnn = cnn_model.predict(X_test)# Find the most likely prediction for each sample\n",
    "\n",
    "most_likely_predictions = np.argmax(y_pred_cnn, axis=1)\n",
    "cnn_test_pred = label_encoder.inverse_transform(most_likely_predictions)\n",
    "\n",
    "test_loss, test_accuracy = cnn_model.evaluate(X_test, y_test)\n",
    "print(f\"Test Accuracy: {test_accuracy}\")"
   ]
  },
  {
   "cell_type": "code",
   "execution_count": 33,
   "metadata": {},
   "outputs": [
    {
     "name": "stdout",
     "output_type": "stream",
     "text": [
      "Best Decision Tree Hyperparameters: {'base_estimator__criterion': 'entropy', 'base_estimator__max_depth': 63, 'base_estimator__max_features': None, 'base_estimator__min_samples_leaf': 1, 'base_estimator__min_samples_split': 10}\n",
      "Accuracy on Test Set: 0.6074766355140186\n"
     ]
    }
   ],
   "source": [
    "# from sklearn.model_selection import GridSearchCV\n",
    "\n",
    "# # Create the Decision Tree classifier\n",
    "# dt_classifier = DecisionTreeClassifier()\n",
    "\n",
    "# # Define the hyperparameters and their possible values\n",
    "# param_grid = {\n",
    "#     'base_estimator__max_depth': [len(test_letters) - 1],\n",
    "#     'base_estimator__min_samples_split': [2, 5, 10],\n",
    "#     'base_estimator__min_samples_leaf': [1, 2, 4],\n",
    "#     'base_estimator__max_features': [None, 'auto', 'sqrt', 'log2'],\n",
    "#     'base_estimator__criterion': ['gini', 'entropy']\n",
    "# }\n",
    "\n",
    "# adaboost_model = AdaBoostClassifier(dt_classifier, n_estimators=50, random_state=42)\n",
    "# # Perform a grid search with cross-validation\n",
    "# grid_search = GridSearchCV(adaboost_model, param_grid, cv=5, scoring='accuracy')\n",
    "# grid_search.fit(X_train_flat, target_train)\n",
    "\n",
    "# # Print the best hyperparameters\n",
    "# print(\"Best Decision Tree Hyperparameters:\", grid_search.best_params_)\n",
    "# # Get the best AdaBoost model with the tuned Decision Tree\n",
    "# best_adaboost_model = grid_search.best_estimator_\n",
    "\n",
    "# # Evaluate the model on the test set\n",
    "# accuracy = best_adaboost_model.score(X_test_flat, target_test)\n",
    "# print(\"Accuracy on Test Set:\", accuracy)"
   ]
  },
  {
   "cell_type": "code",
   "execution_count": 39,
   "metadata": {},
   "outputs": [
    {
     "name": "stdout",
     "output_type": "stream",
     "text": [
      "Best Decision Tree Hyperparameters: {'base_estimator__criterion': 'entropy', 'base_estimator__max_depth': 63, 'base_estimator__max_features': None, 'base_estimator__min_samples_leaf': 1, 'base_estimator__min_samples_split': 13}\n",
      "Accuracy on Test Set: 0.5327102803738317\n"
     ]
    }
   ],
   "source": [
    "# # Create the Decision Tree classifier\n",
    "# dt_classifier = DecisionTreeClassifier()\n",
    "\n",
    "# # Define the hyperparameters and their possible values\n",
    "# param_grid = {\n",
    "#     'base_estimator__max_depth': [len(test_letters) - 1],\n",
    "#     'base_estimator__min_samples_split': [13, 15, 18],\n",
    "#     'base_estimator__min_samples_leaf': [1],\n",
    "#     'base_estimator__max_features': [None],\n",
    "#     'base_estimator__criterion': ['entropy']\n",
    "# }\n",
    "\n",
    "# adaboost_model = AdaBoostClassifier(dt_classifier, n_estimators=50, random_state=42)\n",
    "# # Perform a grid search with cross-validation\n",
    "# grid_search = GridSearchCV(adaboost_model, param_grid, cv=5, scoring='accuracy')\n",
    "# grid_search.fit(X_train_flat, target_train)\n",
    "\n",
    "# # Print the best hyperparameters\n",
    "# print(\"Best Decision Tree Hyperparameters:\", grid_search.best_params_)\n",
    "# # Get the best AdaBoost model with the tuned Decision Tree\n",
    "# best_adaboost_model = grid_search.best_estimator_\n",
    "\n",
    "# # Evaluate the model on the test set\n",
    "# accuracy = best_adaboost_model.score(X_test_flat, target_test)\n",
    "# print(\"Accuracy on Test Set:\", accuracy)"
   ]
  },
  {
   "cell_type": "code",
   "execution_count": 80,
   "metadata": {},
   "outputs": [
    {
     "name": "stdout",
     "output_type": "stream",
     "text": [
      "Accuracy: 0.58\n"
     ]
    }
   ],
   "source": [
    "# Create the Decision Tree classifier\n",
    "base_model = DecisionTreeClassifier(\n",
    "    min_samples_leaf=1, min_samples_split=10, max_depth=len(test_letters) - 1, criterion=\"entropy\", max_features=None\n",
    ")\n",
    "decision_tree = AdaBoostClassifier(\n",
    "    base_model, n_estimators=300, random_state=42,\n",
    "    )\n",
    "decision_tree.fit(X_train_flat, target_train)\n",
    "\n",
    "# Make predictions\n",
    "y_pred_tree = decision_tree.predict(X_test_flat)\n",
    "\n",
    "# Calculate the accuracy score on a test dataset\n",
    "accuracy_tree = decision_tree.score(X_test_flat, target_test)\n",
    "\n",
    "# Print the accuracy\n",
    "print(f'Accuracy: {accuracy_tree:.2f}')"
   ]
  },
  {
   "cell_type": "code",
   "execution_count": 81,
   "metadata": {},
   "outputs": [
    {
     "name": "stdout",
     "output_type": "stream",
     "text": [
      "Accuracy: 0.47\n"
     ]
    }
   ],
   "source": [
    "# Create an SVC classifier\n",
    "svm_classifier = SVC(C=1, kernel=\"linear\", gamma=0.001, class_weight=class_weights)\n",
    "# Fit the grid search to your training data\n",
    "svm_classifier.fit(X_train_flat, target_train)\n",
    "# Evaluate the model on the test data\n",
    "y_pred_svm = svm_classifier.predict(X_test_flat)\n",
    "\n",
    "# Calculate the accuracy score on a test dataset\n",
    "accuracy_svm = svm_classifier.score(X_test_flat, target_test)\n",
    "\n",
    "# Print the accuracy\n",
    "print(f'Accuracy: {accuracy_svm:.2f}')"
   ]
  },
  {
   "cell_type": "markdown",
   "metadata": {},
   "source": [
    "# Guardando los modelos"
   ]
  },
  {
   "cell_type": "code",
   "execution_count": 82,
   "metadata": {},
   "outputs": [
    {
     "name": "stdout",
     "output_type": "stream",
     "text": [
      "INFO:tensorflow:Assets written to: cnn/assets\n"
     ]
    },
    {
     "name": "stderr",
     "output_type": "stream",
     "text": [
      "INFO:tensorflow:Assets written to: cnn/assets\n"
     ]
    }
   ],
   "source": [
    "cnn_model.save('cnn')\n",
    "models.save_model(\"tree\", decision_tree)\n",
    "models.save_model(\"svm\", svm_classifier)"
   ]
  },
  {
   "cell_type": "code",
   "execution_count": 83,
   "metadata": {},
   "outputs": [],
   "source": [
    "models.save_model(\"label_encoder\", label_encoder)"
   ]
  },
  {
   "cell_type": "markdown",
   "metadata": {},
   "source": [
    "# Usando los tres modelos"
   ]
  },
  {
   "cell_type": "code",
   "execution_count": 84,
   "metadata": {},
   "outputs": [
    {
     "name": "stdout",
     "output_type": "stream",
     "text": [
      "1/1 [==============================] - 0s 85ms/step\n",
      "1/1 [==============================] - 0s 14ms/step\n",
      "1/1 [==============================] - 0s 14ms/step\n",
      "1/1 [==============================] - 0s 16ms/step\n",
      "1/1 [==============================] - 0s 18ms/step\n",
      "1/1 [==============================] - 0s 16ms/step\n",
      "1/1 [==============================] - 0s 14ms/step\n",
      "1/1 [==============================] - 0s 14ms/step\n",
      "1/1 [==============================] - 0s 14ms/step\n",
      "1/1 [==============================] - 0s 13ms/step\n",
      "1/1 [==============================] - 0s 13ms/step\n",
      "1/1 [==============================] - 0s 13ms/step\n",
      "1/1 [==============================] - 0s 13ms/step\n",
      "1/1 [==============================] - 0s 13ms/step\n",
      "1/1 [==============================] - 0s 13ms/step\n",
      "1/1 [==============================] - 0s 13ms/step\n",
      "1/1 [==============================] - 0s 13ms/step\n",
      "1/1 [==============================] - 0s 14ms/step\n",
      "1/1 [==============================] - 0s 13ms/step\n",
      "1/1 [==============================] - 0s 13ms/step\n",
      "1/1 [==============================] - 0s 14ms/step\n",
      "1/1 [==============================] - 0s 13ms/step\n",
      "1/1 [==============================] - 0s 13ms/step\n",
      "1/1 [==============================] - 0s 13ms/step\n",
      "1/1 [==============================] - 0s 14ms/step\n",
      "1/1 [==============================] - 0s 13ms/step\n",
      "1/1 [==============================] - 0s 14ms/step\n",
      "1/1 [==============================] - 0s 13ms/step\n",
      "1/1 [==============================] - 0s 13ms/step\n",
      "1/1 [==============================] - 0s 13ms/step\n",
      "1/1 [==============================] - 0s 13ms/step\n",
      "1/1 [==============================] - 0s 13ms/step\n",
      "1/1 [==============================] - 0s 13ms/step\n",
      "1/1 [==============================] - 0s 13ms/step\n",
      "1/1 [==============================] - 0s 13ms/step\n",
      "1/1 [==============================] - 0s 13ms/step\n",
      "1/1 [==============================] - 0s 13ms/step\n",
      "1/1 [==============================] - 0s 13ms/step\n",
      "1/1 [==============================] - 0s 13ms/step\n",
      "1/1 [==============================] - 0s 14ms/step\n",
      "1/1 [==============================] - 0s 13ms/step\n",
      "1/1 [==============================] - 0s 13ms/step\n",
      "1/1 [==============================] - 0s 13ms/step\n",
      "1/1 [==============================] - 0s 13ms/step\n",
      "1/1 [==============================] - 0s 13ms/step\n",
      "1/1 [==============================] - 0s 13ms/step\n",
      "1/1 [==============================] - 0s 13ms/step\n",
      "1/1 [==============================] - 0s 13ms/step\n",
      "1/1 [==============================] - 0s 14ms/step\n",
      "1/1 [==============================] - 0s 13ms/step\n",
      "1/1 [==============================] - 0s 13ms/step\n",
      "1/1 [==============================] - 0s 13ms/step\n",
      "1/1 [==============================] - 0s 14ms/step\n",
      "1/1 [==============================] - 0s 13ms/step\n",
      "1/1 [==============================] - 0s 13ms/step\n",
      "1/1 [==============================] - 0s 13ms/step\n",
      "1/1 [==============================] - 0s 13ms/step\n",
      "1/1 [==============================] - 0s 13ms/step\n",
      "1/1 [==============================] - 0s 13ms/step\n",
      "1/1 [==============================] - 0s 13ms/step\n",
      "1/1 [==============================] - 0s 13ms/step\n",
      "1/1 [==============================] - 0s 14ms/step\n",
      "1/1 [==============================] - 0s 13ms/step\n",
      "1/1 [==============================] - 0s 14ms/step\n",
      "1/1 [==============================] - 0s 14ms/step\n",
      "1/1 [==============================] - 0s 14ms/step\n",
      "1/1 [==============================] - 0s 15ms/step\n",
      "1/1 [==============================] - 0s 14ms/step\n",
      "1/1 [==============================] - 0s 13ms/step\n",
      "1/1 [==============================] - 0s 14ms/step\n",
      "1/1 [==============================] - 0s 14ms/step\n",
      "1/1 [==============================] - 0s 13ms/step\n",
      "1/1 [==============================] - 0s 13ms/step\n",
      "1/1 [==============================] - 0s 13ms/step\n",
      "1/1 [==============================] - 0s 13ms/step\n",
      "1/1 [==============================] - 0s 13ms/step\n",
      "1/1 [==============================] - 0s 13ms/step\n",
      "1/1 [==============================] - 0s 14ms/step\n",
      "1/1 [==============================] - 0s 13ms/step\n",
      "1/1 [==============================] - 0s 13ms/step\n",
      "1/1 [==============================] - 0s 13ms/step\n",
      "1/1 [==============================] - 0s 14ms/step\n",
      "1/1 [==============================] - 0s 13ms/step\n",
      "1/1 [==============================] - 0s 13ms/step\n",
      "1/1 [==============================] - 0s 13ms/step\n",
      "1/1 [==============================] - 0s 13ms/step\n",
      "1/1 [==============================] - 0s 14ms/step\n",
      "1/1 [==============================] - 0s 13ms/step\n",
      "1/1 [==============================] - 0s 13ms/step\n",
      "1/1 [==============================] - 0s 13ms/step\n",
      "1/1 [==============================] - 0s 14ms/step\n",
      "1/1 [==============================] - 0s 13ms/step\n",
      "1/1 [==============================] - 0s 13ms/step\n",
      "1/1 [==============================] - 0s 13ms/step\n",
      "1/1 [==============================] - 0s 14ms/step\n",
      "1/1 [==============================] - 0s 13ms/step\n",
      "1/1 [==============================] - 0s 13ms/step\n",
      "1/1 [==============================] - 0s 13ms/step\n",
      "1/1 [==============================] - 0s 13ms/step\n",
      "1/1 [==============================] - 0s 13ms/step\n",
      "1/1 [==============================] - 0s 13ms/step\n",
      "1/1 [==============================] - 0s 14ms/step\n",
      "1/1 [==============================] - 0s 13ms/step\n",
      "1/1 [==============================] - 0s 13ms/step\n",
      "1/1 [==============================] - 0s 13ms/step\n",
      "1/1 [==============================] - 0s 13ms/step\n",
      "1/1 [==============================] - 0s 13ms/step\n"
     ]
    }
   ],
   "source": [
    "pretainedModels = PretrainedModels()\n",
    "results = pretainedModels.get_predictions(df_test)\n",
    "results = pretainedModels.get_unique_pred()"
   ]
  },
  {
   "cell_type": "code",
   "execution_count": 85,
   "metadata": {},
   "outputs": [
    {
     "name": "stdout",
     "output_type": "stream",
     "text": [
      ">>> LOG INCORRECTA: \n",
      "            Predicho:  ['queso', 'termómetro', 'efectos secundarios']\n",
      "            Correcto:  familia\n",
      ">>> LOG INCORRECTA: \n",
      "            Predicho:  ['termómetro digital']\n",
      "            Correcto:  entender\n",
      ">>> LOG INCORRECTA: \n",
      "            Predicho:  ['tiempo', 'termómetro', 'azucar']\n",
      "            Correcto:  querer\n",
      ">>> LOG INCORRECTA: \n",
      "            Predicho:  ['hola', 'comida']\n",
      "            Correcto:  adios\n",
      ">>> LOG INCORRECTA: \n",
      "            Predicho:  ['casa', 'adios']\n",
      "            Correcto:  hola\n",
      ">>> LOG INCORRECTA: \n",
      "            Predicho:  ['mascarilla', 'amor']\n",
      "            Correcto:  feliz\n",
      ">>> LOG INCORRECTA: \n",
      "            Predicho:  ['salud', 'desinfectante']\n",
      "            Correcto:  escuela\n",
      ">>> LOG INCORRECTA: \n",
      "            Predicho:  ['salud', 'desinfectante']\n",
      "            Correcto:  escuela\n",
      ">>> LOG INCORRECTA: \n",
      "            Predicho:  ['vitaminas', 'mascarilla']\n",
      "            Correcto:  feliz\n",
      ">>> LOG INCORRECTA: \n",
      "            Predicho:  ['sal', 'azucar']\n",
      "            Correcto:  aceite\n",
      ">>> LOG INCORRECTA: \n",
      "            Predicho:  ['sopa', 'efectos secundarios']\n",
      "            Correcto:  papel higienico\n",
      ">>> LOG INCORRECTA: \n",
      "            Predicho:  ['enfado', 'querer', 'leche']\n",
      "            Correcto:  jabon\n",
      ">>> LOG INCORRECTA: \n",
      "            Predicho:  ['casa', 'crema humectante']\n",
      "            Correcto:  shampoo\n",
      ">>> LOG INCORRECTA: \n",
      "            Predicho:  ['sal', 'azucar']\n",
      "            Correcto:  aceite\n",
      ">>> LOG INCORRECTA: \n",
      "            Predicho:  ['dinero', 'amigo']\n",
      "            Correcto:  galletas\n",
      ">>> LOG INCORRECTA: \n",
      "            Predicho:  ['feliz', 'curitas']\n",
      "            Correcto:  frutas\n",
      ">>> LOG INCORRECTA: \n",
      "            Predicho:  ['sopa', 'azucar']\n",
      "            Correcto:  dosificación\n",
      ">>> LOG INCORRECTA: \n",
      "            Predicho:  ['carne', 'queso', 'aceite']\n",
      "            Correcto:  loción\n",
      ">>> LOG INCORRECTA: \n",
      "            Predicho:  ['huevos', 'azucar']\n",
      "            Correcto:  pomada\n",
      ">>> LOG INCORRECTA: \n",
      "            Predicho:  ['bolsas de basura']\n",
      "            Correcto:  vendaje\n",
      ">>> LOG INCORRECTA: \n",
      "            Predicho:  ['medicamento', 'huevos', 'crema humectante']\n",
      "            Correcto:  desinfectante\n",
      ">>> LOG INCORRECTA: \n",
      "            Predicho:  ['papel higienico', 'loción', 'azucar']\n",
      "            Correcto:  efectos secundarios\n",
      ">>> LOG INCORRECTA: \n",
      "            Predicho:  ['carne', 'queso']\n",
      "            Correcto:  crema humectante\n",
      ">>> LOG INCORRECTA: \n",
      "            Predicho:  ['no']\n",
      "            Correcto:  termómetro digital\n",
      ">>> LOG INCORRECTA: \n",
      "            Predicho:  ['bolsas de basura', 'azucar']\n",
      "            Correcto:  jarabe\n"
     ]
    }
   ],
   "source": [
    "correct = 0\n",
    "for i in range(len(target_test)):\n",
    "    if (target_test[i] in results[i]):\n",
    "        correct += 1\n",
    "    else:\n",
    "        print(\">>> LOG INCORRECTA: \")\n",
    "        print(\"            Predicho: \", results[i])\n",
    "        print(\"            Correcto: \", target_test[i])\n"
   ]
  },
  {
   "cell_type": "code",
   "execution_count": 86,
   "metadata": {},
   "outputs": [
    {
     "name": "stdout",
     "output_type": "stream",
     "text": [
      "Correct >>  82\n",
      "Incorrect >>  25\n",
      "Ratio >>  0.7663551401869159\n"
     ]
    }
   ],
   "source": [
    "print(\"Correct >> \", correct)\n",
    "print(\"Incorrect >> \", len(target_test)-correct)\n",
    "print(\"Ratio >> \", str(correct/len(target_test)))"
   ]
  },
  {
   "cell_type": "markdown",
   "metadata": {},
   "source": [
    "# Reutilizando los tres modelos"
   ]
  },
  {
   "cell_type": "code",
   "execution_count": 87,
   "metadata": {},
   "outputs": [
    {
     "data": {
      "text/html": [
       "<div>\n",
       "<style scoped>\n",
       "    .dataframe tbody tr th:only-of-type {\n",
       "        vertical-align: middle;\n",
       "    }\n",
       "\n",
       "    .dataframe tbody tr th {\n",
       "        vertical-align: top;\n",
       "    }\n",
       "\n",
       "    .dataframe thead th {\n",
       "        text-align: right;\n",
       "    }\n",
       "</style>\n",
       "<table border=\"1\" class=\"dataframe\">\n",
       "  <thead>\n",
       "    <tr style=\"text-align: right;\">\n",
       "      <th></th>\n",
       "      <th>sequence_id</th>\n",
       "      <th>target</th>\n",
       "      <th>file</th>\n",
       "      <th>x_Left_hand_0</th>\n",
       "      <th>y_Left_hand_0</th>\n",
       "      <th>x_Left_hand_1</th>\n",
       "      <th>y_Left_hand_1</th>\n",
       "      <th>x_Left_hand_2</th>\n",
       "      <th>y_Left_hand_2</th>\n",
       "      <th>x_Left_hand_3</th>\n",
       "      <th>...</th>\n",
       "      <th>x_Right_hand_16</th>\n",
       "      <th>y_Right_hand_16</th>\n",
       "      <th>x_Right_hand_17</th>\n",
       "      <th>y_Right_hand_17</th>\n",
       "      <th>x_Right_hand_18</th>\n",
       "      <th>y_Right_hand_18</th>\n",
       "      <th>x_Right_hand_19</th>\n",
       "      <th>y_Right_hand_19</th>\n",
       "      <th>x_Right_hand_20</th>\n",
       "      <th>y_Right_hand_20</th>\n",
       "    </tr>\n",
       "  </thead>\n",
       "  <tbody>\n",
       "    <tr>\n",
       "      <th>0</th>\n",
       "      <td>1</td>\n",
       "      <td>8_amor</td>\n",
       "      <td>/Users/andreaamaya/Trabajo/megaproyecto_model/...</td>\n",
       "      <td>0.054473</td>\n",
       "      <td>1.0</td>\n",
       "      <td>0.000000</td>\n",
       "      <td>0.814200</td>\n",
       "      <td>0.160031</td>\n",
       "      <td>0.556190</td>\n",
       "      <td>0.309921</td>\n",
       "      <td>...</td>\n",
       "      <td>0.0</td>\n",
       "      <td>0.0</td>\n",
       "      <td>0.0</td>\n",
       "      <td>0.0</td>\n",
       "      <td>0.0</td>\n",
       "      <td>0.0</td>\n",
       "      <td>0.0</td>\n",
       "      <td>0.0</td>\n",
       "      <td>0.0</td>\n",
       "      <td>0.0</td>\n",
       "    </tr>\n",
       "    <tr>\n",
       "      <th>1</th>\n",
       "      <td>1</td>\n",
       "      <td>8_amor</td>\n",
       "      <td>/Users/andreaamaya/Trabajo/megaproyecto_model/...</td>\n",
       "      <td>0.000000</td>\n",
       "      <td>1.0</td>\n",
       "      <td>0.029350</td>\n",
       "      <td>0.790749</td>\n",
       "      <td>0.165903</td>\n",
       "      <td>0.539861</td>\n",
       "      <td>0.297188</td>\n",
       "      <td>...</td>\n",
       "      <td>0.0</td>\n",
       "      <td>0.0</td>\n",
       "      <td>0.0</td>\n",
       "      <td>0.0</td>\n",
       "      <td>0.0</td>\n",
       "      <td>0.0</td>\n",
       "      <td>0.0</td>\n",
       "      <td>0.0</td>\n",
       "      <td>0.0</td>\n",
       "      <td>0.0</td>\n",
       "    </tr>\n",
       "    <tr>\n",
       "      <th>2</th>\n",
       "      <td>1</td>\n",
       "      <td>8_amor</td>\n",
       "      <td>/Users/andreaamaya/Trabajo/megaproyecto_model/...</td>\n",
       "      <td>0.142526</td>\n",
       "      <td>1.0</td>\n",
       "      <td>0.000000</td>\n",
       "      <td>0.774022</td>\n",
       "      <td>0.049066</td>\n",
       "      <td>0.554538</td>\n",
       "      <td>0.182988</td>\n",
       "      <td>...</td>\n",
       "      <td>0.0</td>\n",
       "      <td>0.0</td>\n",
       "      <td>0.0</td>\n",
       "      <td>0.0</td>\n",
       "      <td>0.0</td>\n",
       "      <td>0.0</td>\n",
       "      <td>0.0</td>\n",
       "      <td>0.0</td>\n",
       "      <td>0.0</td>\n",
       "      <td>0.0</td>\n",
       "    </tr>\n",
       "    <tr>\n",
       "      <th>3</th>\n",
       "      <td>1</td>\n",
       "      <td>8_amor</td>\n",
       "      <td>/Users/andreaamaya/Trabajo/megaproyecto_model/...</td>\n",
       "      <td>0.905454</td>\n",
       "      <td>0.0</td>\n",
       "      <td>1.000000</td>\n",
       "      <td>0.403292</td>\n",
       "      <td>0.906272</td>\n",
       "      <td>0.728733</td>\n",
       "      <td>0.641322</td>\n",
       "      <td>...</td>\n",
       "      <td>0.0</td>\n",
       "      <td>0.0</td>\n",
       "      <td>0.0</td>\n",
       "      <td>0.0</td>\n",
       "      <td>0.0</td>\n",
       "      <td>0.0</td>\n",
       "      <td>0.0</td>\n",
       "      <td>0.0</td>\n",
       "      <td>0.0</td>\n",
       "      <td>0.0</td>\n",
       "    </tr>\n",
       "    <tr>\n",
       "      <th>4</th>\n",
       "      <td>1</td>\n",
       "      <td>8_amor</td>\n",
       "      <td>/Users/andreaamaya/Trabajo/megaproyecto_model/...</td>\n",
       "      <td>1.000000</td>\n",
       "      <td>0.0</td>\n",
       "      <td>0.998621</td>\n",
       "      <td>0.381168</td>\n",
       "      <td>0.810052</td>\n",
       "      <td>0.691714</td>\n",
       "      <td>0.574807</td>\n",
       "      <td>...</td>\n",
       "      <td>0.0</td>\n",
       "      <td>0.0</td>\n",
       "      <td>0.0</td>\n",
       "      <td>0.0</td>\n",
       "      <td>0.0</td>\n",
       "      <td>0.0</td>\n",
       "      <td>0.0</td>\n",
       "      <td>0.0</td>\n",
       "      <td>0.0</td>\n",
       "      <td>0.0</td>\n",
       "    </tr>\n",
       "  </tbody>\n",
       "</table>\n",
       "<p>5 rows × 87 columns</p>\n",
       "</div>"
      ],
      "text/plain": [
       "   sequence_id  target                                               file  \\\n",
       "0            1  8_amor  /Users/andreaamaya/Trabajo/megaproyecto_model/...   \n",
       "1            1  8_amor  /Users/andreaamaya/Trabajo/megaproyecto_model/...   \n",
       "2            1  8_amor  /Users/andreaamaya/Trabajo/megaproyecto_model/...   \n",
       "3            1  8_amor  /Users/andreaamaya/Trabajo/megaproyecto_model/...   \n",
       "4            1  8_amor  /Users/andreaamaya/Trabajo/megaproyecto_model/...   \n",
       "\n",
       "   x_Left_hand_0  y_Left_hand_0  x_Left_hand_1  y_Left_hand_1  x_Left_hand_2  \\\n",
       "0       0.054473            1.0       0.000000       0.814200       0.160031   \n",
       "1       0.000000            1.0       0.029350       0.790749       0.165903   \n",
       "2       0.142526            1.0       0.000000       0.774022       0.049066   \n",
       "3       0.905454            0.0       1.000000       0.403292       0.906272   \n",
       "4       1.000000            0.0       0.998621       0.381168       0.810052   \n",
       "\n",
       "   y_Left_hand_2  x_Left_hand_3  ...  x_Right_hand_16  y_Right_hand_16  \\\n",
       "0       0.556190       0.309921  ...              0.0              0.0   \n",
       "1       0.539861       0.297188  ...              0.0              0.0   \n",
       "2       0.554538       0.182988  ...              0.0              0.0   \n",
       "3       0.728733       0.641322  ...              0.0              0.0   \n",
       "4       0.691714       0.574807  ...              0.0              0.0   \n",
       "\n",
       "   x_Right_hand_17  y_Right_hand_17  x_Right_hand_18  y_Right_hand_18  \\\n",
       "0              0.0              0.0              0.0              0.0   \n",
       "1              0.0              0.0              0.0              0.0   \n",
       "2              0.0              0.0              0.0              0.0   \n",
       "3              0.0              0.0              0.0              0.0   \n",
       "4              0.0              0.0              0.0              0.0   \n",
       "\n",
       "   x_Right_hand_19  y_Right_hand_19  x_Right_hand_20  y_Right_hand_20  \n",
       "0              0.0              0.0              0.0              0.0  \n",
       "1              0.0              0.0              0.0              0.0  \n",
       "2              0.0              0.0              0.0              0.0  \n",
       "3              0.0              0.0              0.0              0.0  \n",
       "4              0.0              0.0              0.0              0.0  \n",
       "\n",
       "[5 rows x 87 columns]"
      ]
     },
     "execution_count": 87,
     "metadata": {},
     "output_type": "execute_result"
    }
   ],
   "source": [
    "load_test_data = pd.read_csv(\"data/data_tests.csv\")\n",
    "load_test_data.head()"
   ]
  },
  {
   "cell_type": "code",
   "execution_count": 88,
   "metadata": {},
   "outputs": [],
   "source": [
    "target = load_test_data[\"target\"] "
   ]
  },
  {
   "cell_type": "code",
   "execution_count": 89,
   "metadata": {},
   "outputs": [],
   "source": [
    "del load_test_data[\"sequence_id\"] \n",
    "del load_test_data[\"target\"] \n",
    "del load_test_data[\"file\"] "
   ]
  },
  {
   "cell_type": "code",
   "execution_count": 90,
   "metadata": {},
   "outputs": [
    {
     "name": "stdout",
     "output_type": "stream",
     "text": [
      "1/1 [==============================] - 0s 39ms/step\n",
      "1/1 [==============================] - 0s 13ms/step\n",
      "1/1 [==============================] - 0s 13ms/step\n",
      "1/1 [==============================] - 0s 13ms/step\n",
      "1/1 [==============================] - 0s 13ms/step\n",
      "1/1 [==============================] - 0s 13ms/step\n",
      "1/1 [==============================] - 0s 13ms/step\n",
      "1/1 [==============================] - 0s 13ms/step\n",
      "1/1 [==============================] - 0s 13ms/step\n",
      "1/1 [==============================] - 0s 14ms/step\n",
      "1/1 [==============================] - 0s 13ms/step\n",
      "1/1 [==============================] - 0s 13ms/step\n",
      "1/1 [==============================] - 0s 15ms/step\n",
      "1/1 [==============================] - 0s 18ms/step\n"
     ]
    }
   ],
   "source": [
    "pretainedModels = PretrainedModels()\n",
    "results = pretainedModels.get_predictions(load_test_data)"
   ]
  },
  {
   "cell_type": "code",
   "execution_count": 91,
   "metadata": {},
   "outputs": [
    {
     "data": {
      "text/plain": [
       "array(['8_amor', '1_familia', '5_casa', '3_hola', '6_bebida', '4_tiempo',\n",
       "       '9_amigo', '13_arroz', '14_huevos', '18_papel higienico',\n",
       "       '20_pescado', '17_leche', '11_galletas', '19_shampoo'],\n",
       "      dtype=object)"
      ]
     },
     "execution_count": 91,
     "metadata": {},
     "output_type": "execute_result"
    }
   ],
   "source": [
    "expected = target.unique()\n",
    "expected"
   ]
  },
  {
   "cell_type": "code",
   "execution_count": 92,
   "metadata": {},
   "outputs": [
    {
     "data": {
      "text/plain": [
       "[['amor', 'galletas'],\n",
       " ['familia'],\n",
       " ['casa', 'solución salina'],\n",
       " ['hola', 'gracias'],\n",
       " ['bebida'],\n",
       " ['tiempo'],\n",
       " ['amigo'],\n",
       " ['termómetro digital', 'no', 'termómetro'],\n",
       " ['huevos', 'azucar'],\n",
       " ['papel higienico', 'pomada'],\n",
       " ['pescado'],\n",
       " ['medicamento', 'dosificación', 'mantequilla'],\n",
       " ['bebida', 'amigo', 'termómetro'],\n",
       " ['shampoo', 'loción', 'crema humectante']]"
      ]
     },
     "execution_count": 92,
     "metadata": {},
     "output_type": "execute_result"
    }
   ],
   "source": [
    "results = pretainedModels.get_unique_pred()\n",
    "results"
   ]
  },
  {
   "cell_type": "code",
   "execution_count": 93,
   "metadata": {},
   "outputs": [
    {
     "name": "stdout",
     "output_type": "stream",
     "text": [
      "Palabras correctas: 11 de 14\n"
     ]
    }
   ],
   "source": [
    "correct = 0\n",
    "for i in range(len(results)):\n",
    "    if (expected[i].split(\"_\")[1] in results[i]):\n",
    "        correct += 1\n",
    "\n",
    "print(f'Palabras correctas: {correct} de {len(results)}')"
   ]
  }
 ],
 "metadata": {
  "kernelspec": {
   "display_name": "Python 3.9.6 64-bit",
   "language": "python",
   "name": "python3"
  },
  "language_info": {
   "codemirror_mode": {
    "name": "ipython",
    "version": 3
   },
   "file_extension": ".py",
   "mimetype": "text/x-python",
   "name": "python",
   "nbconvert_exporter": "python",
   "pygments_lexer": "ipython3",
   "version": "3.7.0"
  },
  "orig_nbformat": 4,
  "vscode": {
   "interpreter": {
    "hash": "31f2aee4e71d21fbe5cf8b01ff0e069b9275f58929596ceb00d14d90e3e16cd6"
   }
  }
 },
 "nbformat": 4,
 "nbformat_minor": 2
}
